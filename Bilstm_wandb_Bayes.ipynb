{
 "cells": [
  {
   "cell_type": "code",
   "execution_count": 1,
   "id": "486bbd9c-fc81-49a2-8618-8267440d929b",
   "metadata": {},
   "outputs": [
    {
     "name": "stderr",
     "output_type": "stream",
     "text": [
      "\u001b[34m\u001b[1mwandb\u001b[0m: Currently logged in as: \u001b[33mkidi-add\u001b[0m (\u001b[33mevapppp\u001b[0m). Use \u001b[1m`wandb login --relogin`\u001b[0m to force relogin\n"
     ]
    },
    {
     "name": "stdout",
     "output_type": "stream",
     "text": [
      "X_train.shape:  (847, 30, 11)\n",
      "y_train.shape:  (7859, 1)\n",
      "X_test.shape:  (847, 30, 11)\n",
      "y_test.shape:  (7859, 1)\n",
      "Model: \"sequential\"\n",
      "_________________________________________________________________\n",
      " Layer (type)                Output Shape              Param #   \n",
      "=================================================================\n",
      " bidirectional (Bidirection  (None, 30, 128)           38912     \n",
      " al)                                                             \n",
      "                                                                 \n",
      " bidirectional_1 (Bidirecti  (None, 128)               98816     \n",
      " onal)                                                           \n",
      "                                                                 \n",
      " dense (Dense)               (None, 1)                 129       \n",
      "                                                                 \n",
      "=================================================================\n",
      "Total params: 137857 (538.50 KB)\n",
      "Trainable params: 137857 (538.50 KB)\n",
      "Non-trainable params: 0 (0.00 Byte)\n",
      "_________________________________________________________________\n",
      "{'method': 'bayes',\n",
      " 'metric': {'goal': 'minimize', 'name': 'val_loss'},\n",
      " 'parameters': {'batch_size': {'distribution': 'q_log_uniform_values',\n",
      "                               'max': 128,\n",
      "                               'min': 32,\n",
      "                               'q': 8},\n",
      "                'dense_activation': {'values': ['relu', 'sigmoid']},\n",
      "                'dropout': {'values': [0.1, 0.2, 0.3]},\n",
      "                'epochs': {'value': 1},\n",
      "                'learning_rate': {'distribution': 'uniform',\n",
      "                                  'max': 0.01,\n",
      "                                  'min': 0},\n",
      "                'optimizer': {'values': ['adam', 'sgd']}}}\n",
      "Create sweep with ID: qu378scj\n",
      "Sweep URL: https://wandb.ai/evapppp/sweeps-keras/sweeps/qu378scj\n"
     ]
    },
    {
     "name": "stderr",
     "output_type": "stream",
     "text": [
      "\u001b[34m\u001b[1mwandb\u001b[0m: Agent Starting Run: 2f4ju1ih with config:\n",
      "\u001b[34m\u001b[1mwandb\u001b[0m: \tbatch_size: 104\n",
      "\u001b[34m\u001b[1mwandb\u001b[0m: \tdense_activation: relu\n",
      "\u001b[34m\u001b[1mwandb\u001b[0m: \tdropout: 0.2\n",
      "\u001b[34m\u001b[1mwandb\u001b[0m: \tepochs: 1\n",
      "\u001b[34m\u001b[1mwandb\u001b[0m: \tlearning_rate: 0.004369427387685043\n",
      "\u001b[34m\u001b[1mwandb\u001b[0m: \toptimizer: sgd\n"
     ]
    },
    {
     "data": {
      "text/html": [
       "wandb version 0.17.2 is available!  To upgrade, please run:\n",
       " $ pip install wandb --upgrade"
      ],
      "text/plain": [
       "<IPython.core.display.HTML object>"
      ]
     },
     "metadata": {},
     "output_type": "display_data"
    },
    {
     "data": {
      "text/html": [
       "Tracking run with wandb version 0.17.0"
      ],
      "text/plain": [
       "<IPython.core.display.HTML object>"
      ]
     },
     "metadata": {},
     "output_type": "display_data"
    },
    {
     "data": {
      "text/html": [
       "Run data is saved locally in <code>C:\\Users\\Addisu\\Desktop\\kidi files\\Python workshop with ellen\\wandb\\run-20240621_152550-2f4ju1ih</code>"
      ],
      "text/plain": [
       "<IPython.core.display.HTML object>"
      ]
     },
     "metadata": {},
     "output_type": "display_data"
    },
    {
     "data": {
      "text/html": [
       "Syncing run <strong><a href='https://wandb.ai/evapppp/sweeps-keras/runs/2f4ju1ih' target=\"_blank\">fresh-sweep-1</a></strong> to <a href='https://wandb.ai/evapppp/sweeps-keras' target=\"_blank\">Weights & Biases</a> (<a href='https://wandb.me/run' target=\"_blank\">docs</a>)<br/>Sweep page: <a href='https://wandb.ai/evapppp/sweeps-keras/sweeps/qu378scj' target=\"_blank\">https://wandb.ai/evapppp/sweeps-keras/sweeps/qu378scj</a>"
      ],
      "text/plain": [
       "<IPython.core.display.HTML object>"
      ]
     },
     "metadata": {},
     "output_type": "display_data"
    },
    {
     "data": {
      "text/html": [
       " View project at <a href='https://wandb.ai/evapppp/sweeps-keras' target=\"_blank\">https://wandb.ai/evapppp/sweeps-keras</a>"
      ],
      "text/plain": [
       "<IPython.core.display.HTML object>"
      ]
     },
     "metadata": {},
     "output_type": "display_data"
    },
    {
     "data": {
      "text/html": [
       " View sweep at <a href='https://wandb.ai/evapppp/sweeps-keras/sweeps/qu378scj' target=\"_blank\">https://wandb.ai/evapppp/sweeps-keras/sweeps/qu378scj</a>"
      ],
      "text/plain": [
       "<IPython.core.display.HTML object>"
      ]
     },
     "metadata": {},
     "output_type": "display_data"
    },
    {
     "data": {
      "text/html": [
       " View run at <a href='https://wandb.ai/evapppp/sweeps-keras/runs/2f4ju1ih' target=\"_blank\">https://wandb.ai/evapppp/sweeps-keras/runs/2f4ju1ih</a>"
      ],
      "text/plain": [
       "<IPython.core.display.HTML object>"
      ]
     },
     "metadata": {},
     "output_type": "display_data"
    },
    {
     "name": "stderr",
     "output_type": "stream",
     "text": [
      "\u001b[34m\u001b[1mwandb\u001b[0m: \u001b[33mWARNING\u001b[0m The save_model argument by default saves the model in the HDF5 format that cannot save custom objects like subclassed models and custom layers. This behavior will be deprecated in a future release in favor of the SavedModel format. Meanwhile, the HDF5 model is saved as W&B files and the SavedModel as W&B Artifacts.\n",
      "\u001b[34m\u001b[1mwandb\u001b[0m: \u001b[33mWARNING\u001b[0m The data_type argument of wandb.keras.WandbCallback is deprecated and will be removed in a future release. Please use input_type instead.\n",
      "\u001b[34m\u001b[1mwandb\u001b[0m: \u001b[33mWARNING\u001b[0m Setting input_type = data_type.\n"
     ]
    },
    {
     "name": "stdout",
     "output_type": "stream",
     "text": [
      "76/76 [==============================] - ETA: 0s - loss: 0.0250"
     ]
    },
    {
     "name": "stderr",
     "output_type": "stream",
     "text": [
      "C:\\anaconda3\\envs\\jupyterenv\\lib\\site-packages\\keras\\src\\engine\\training.py:3000: UserWarning: You are saving your model as an HDF5 file via `model.save()`. This file format is considered legacy. We recommend using instead the native Keras format, e.g. `model.save('my_model.keras')`.\n",
      "  saving_api.save_model(\n"
     ]
    },
    {
     "name": "stdout",
     "output_type": "stream",
     "text": [
      "INFO:tensorflow:Assets written to: C:\\Users\\Addisu\\Desktop\\kidi files\\Python workshop with ellen\\wandb\\run-20240621_152550-2f4ju1ih\\files\\model-best\\assets\n"
     ]
    },
    {
     "name": "stderr",
     "output_type": "stream",
     "text": [
      "INFO:tensorflow:Assets written to: C:\\Users\\Addisu\\Desktop\\kidi files\\Python workshop with ellen\\wandb\\run-20240621_152550-2f4ju1ih\\files\\model-best\\assets\n",
      "\u001b[34m\u001b[1mwandb\u001b[0m: Adding directory to artifact (C:\\Users\\Addisu\\Desktop\\kidi files\\Python workshop with ellen\\wandb\\run-20240621_152550-2f4ju1ih\\files\\model-best)... Done. 0.1s\n"
     ]
    },
    {
     "name": "stdout",
     "output_type": "stream",
     "text": [
      "76/76 [==============================] - 45s 507ms/step - loss: 0.0250 - val_loss: 0.0220\n"
     ]
    },
    {
     "data": {
      "text/html": [
       "<style>\n",
       "    table.wandb td:nth-child(1) { padding: 0 10px; text-align: left ; width: auto;} td:nth-child(2) {text-align: left ; width: 100%}\n",
       "    .wandb-row { display: flex; flex-direction: row; flex-wrap: wrap; justify-content: flex-start; width: 100% }\n",
       "    .wandb-col { display: flex; flex-direction: column; flex-basis: 100%; flex: 1; padding: 10px; }\n",
       "    </style>\n",
       "<div class=\"wandb-row\"><div class=\"wandb-col\"><h3>Run history:</h3><br/><table class=\"wandb\"><tr><td>epoch</td><td>▁</td></tr><tr><td>loss</td><td>█▃▂▁▁▁▁▁▁</td></tr><tr><td>val_loss</td><td>▁</td></tr></table><br/></div><div class=\"wandb-col\"><h3>Run summary:</h3><br/><table class=\"wandb\"><tr><td>best_epoch</td><td>0</td></tr><tr><td>best_val_loss</td><td>0.02202</td></tr><tr><td>epoch</td><td>0</td></tr><tr><td>loss</td><td>0.02497</td></tr><tr><td>val_loss</td><td>0.02202</td></tr></table><br/></div></div>"
      ],
      "text/plain": [
       "<IPython.core.display.HTML object>"
      ]
     },
     "metadata": {},
     "output_type": "display_data"
    },
    {
     "data": {
      "text/html": [
       " View run <strong style=\"color:#cdcd00\">fresh-sweep-1</strong> at: <a href='https://wandb.ai/evapppp/sweeps-keras/runs/2f4ju1ih' target=\"_blank\">https://wandb.ai/evapppp/sweeps-keras/runs/2f4ju1ih</a><br/> View project at: <a href='https://wandb.ai/evapppp/sweeps-keras' target=\"_blank\">https://wandb.ai/evapppp/sweeps-keras</a><br/>Synced 5 W&B file(s), 1 media file(s), 5 artifact file(s) and 1 other file(s)"
      ],
      "text/plain": [
       "<IPython.core.display.HTML object>"
      ]
     },
     "metadata": {},
     "output_type": "display_data"
    },
    {
     "data": {
      "text/html": [
       "Find logs at: <code>.\\wandb\\run-20240621_152550-2f4ju1ih\\logs</code>"
      ],
      "text/plain": [
       "<IPython.core.display.HTML object>"
      ]
     },
     "metadata": {},
     "output_type": "display_data"
    },
    {
     "name": "stderr",
     "output_type": "stream",
     "text": [
      "\u001b[34m\u001b[1mwandb\u001b[0m: Sweep Agent: Waiting for job.\n",
      "\u001b[34m\u001b[1mwandb\u001b[0m: Job received.\n",
      "\u001b[34m\u001b[1mwandb\u001b[0m: Agent Starting Run: 5blgiaib with config:\n",
      "\u001b[34m\u001b[1mwandb\u001b[0m: \tbatch_size: 64\n",
      "\u001b[34m\u001b[1mwandb\u001b[0m: \tdense_activation: relu\n",
      "\u001b[34m\u001b[1mwandb\u001b[0m: \tdropout: 0.1\n",
      "\u001b[34m\u001b[1mwandb\u001b[0m: \tepochs: 1\n",
      "\u001b[34m\u001b[1mwandb\u001b[0m: \tlearning_rate: 0.0011549113869446948\n",
      "\u001b[34m\u001b[1mwandb\u001b[0m: \toptimizer: sgd\n"
     ]
    },
    {
     "data": {
      "text/html": [
       "wandb version 0.17.2 is available!  To upgrade, please run:\n",
       " $ pip install wandb --upgrade"
      ],
      "text/plain": [
       "<IPython.core.display.HTML object>"
      ]
     },
     "metadata": {},
     "output_type": "display_data"
    },
    {
     "data": {
      "text/html": [
       "Tracking run with wandb version 0.17.0"
      ],
      "text/plain": [
       "<IPython.core.display.HTML object>"
      ]
     },
     "metadata": {},
     "output_type": "display_data"
    },
    {
     "data": {
      "text/html": [
       "Run data is saved locally in <code>C:\\Users\\Addisu\\Desktop\\kidi files\\Python workshop with ellen\\wandb\\run-20240621_152754-5blgiaib</code>"
      ],
      "text/plain": [
       "<IPython.core.display.HTML object>"
      ]
     },
     "metadata": {},
     "output_type": "display_data"
    },
    {
     "data": {
      "text/html": [
       "Syncing run <strong><a href='https://wandb.ai/evapppp/sweeps-keras/runs/5blgiaib' target=\"_blank\">usual-sweep-2</a></strong> to <a href='https://wandb.ai/evapppp/sweeps-keras' target=\"_blank\">Weights & Biases</a> (<a href='https://wandb.me/run' target=\"_blank\">docs</a>)<br/>Sweep page: <a href='https://wandb.ai/evapppp/sweeps-keras/sweeps/qu378scj' target=\"_blank\">https://wandb.ai/evapppp/sweeps-keras/sweeps/qu378scj</a>"
      ],
      "text/plain": [
       "<IPython.core.display.HTML object>"
      ]
     },
     "metadata": {},
     "output_type": "display_data"
    },
    {
     "data": {
      "text/html": [
       " View project at <a href='https://wandb.ai/evapppp/sweeps-keras' target=\"_blank\">https://wandb.ai/evapppp/sweeps-keras</a>"
      ],
      "text/plain": [
       "<IPython.core.display.HTML object>"
      ]
     },
     "metadata": {},
     "output_type": "display_data"
    },
    {
     "data": {
      "text/html": [
       " View sweep at <a href='https://wandb.ai/evapppp/sweeps-keras/sweeps/qu378scj' target=\"_blank\">https://wandb.ai/evapppp/sweeps-keras/sweeps/qu378scj</a>"
      ],
      "text/plain": [
       "<IPython.core.display.HTML object>"
      ]
     },
     "metadata": {},
     "output_type": "display_data"
    },
    {
     "data": {
      "text/html": [
       " View run at <a href='https://wandb.ai/evapppp/sweeps-keras/runs/5blgiaib' target=\"_blank\">https://wandb.ai/evapppp/sweeps-keras/runs/5blgiaib</a>"
      ],
      "text/plain": [
       "<IPython.core.display.HTML object>"
      ]
     },
     "metadata": {},
     "output_type": "display_data"
    },
    {
     "name": "stdout",
     "output_type": "stream",
     "text": [
      "123/123 [==============================] - ETA: 0s - loss: 0.0309"
     ]
    },
    {
     "name": "stderr",
     "output_type": "stream",
     "text": [
      "C:\\anaconda3\\envs\\jupyterenv\\lib\\site-packages\\keras\\src\\engine\\training.py:3000: UserWarning: You are saving your model as an HDF5 file via `model.save()`. This file format is considered legacy. We recommend using instead the native Keras format, e.g. `model.save('my_model.keras')`.\n",
      "  saving_api.save_model(\n"
     ]
    },
    {
     "name": "stdout",
     "output_type": "stream",
     "text": [
      "INFO:tensorflow:Assets written to: C:\\Users\\Addisu\\Desktop\\kidi files\\Python workshop with ellen\\wandb\\run-20240621_152754-5blgiaib\\files\\model-best\\assets\n"
     ]
    },
    {
     "name": "stderr",
     "output_type": "stream",
     "text": [
      "INFO:tensorflow:Assets written to: C:\\Users\\Addisu\\Desktop\\kidi files\\Python workshop with ellen\\wandb\\run-20240621_152754-5blgiaib\\files\\model-best\\assets\n",
      "\u001b[34m\u001b[1mwandb\u001b[0m: Adding directory to artifact (C:\\Users\\Addisu\\Desktop\\kidi files\\Python workshop with ellen\\wandb\\run-20240621_152754-5blgiaib\\files\\model-best)... Done. 0.0s\n"
     ]
    },
    {
     "name": "stdout",
     "output_type": "stream",
     "text": [
      "123/123 [==============================] - 38s 243ms/step - loss: 0.0309 - val_loss: 0.0242\n"
     ]
    },
    {
     "data": {
      "text/html": [
       "<style>\n",
       "    table.wandb td:nth-child(1) { padding: 0 10px; text-align: left ; width: auto;} td:nth-child(2) {text-align: left ; width: 100%}\n",
       "    .wandb-row { display: flex; flex-direction: row; flex-wrap: wrap; justify-content: flex-start; width: 100% }\n",
       "    .wandb-col { display: flex; flex-direction: column; flex-basis: 100%; flex: 1; padding: 10px; }\n",
       "    </style>\n",
       "<div class=\"wandb-row\"><div class=\"wandb-col\"><h3>Run history:</h3><br/><table class=\"wandb\"><tr><td>epoch</td><td>▁</td></tr><tr><td>loss</td><td>▆█▆▄▃▂▂▂▁▁▁▁▁▁</td></tr><tr><td>val_loss</td><td>▁</td></tr></table><br/></div><div class=\"wandb-col\"><h3>Run summary:</h3><br/><table class=\"wandb\"><tr><td>best_epoch</td><td>0</td></tr><tr><td>best_val_loss</td><td>0.02424</td></tr><tr><td>epoch</td><td>0</td></tr><tr><td>loss</td><td>0.03089</td></tr><tr><td>val_loss</td><td>0.02424</td></tr></table><br/></div></div>"
      ],
      "text/plain": [
       "<IPython.core.display.HTML object>"
      ]
     },
     "metadata": {},
     "output_type": "display_data"
    },
    {
     "data": {
      "text/html": [
       " View run <strong style=\"color:#cdcd00\">usual-sweep-2</strong> at: <a href='https://wandb.ai/evapppp/sweeps-keras/runs/5blgiaib' target=\"_blank\">https://wandb.ai/evapppp/sweeps-keras/runs/5blgiaib</a><br/> View project at: <a href='https://wandb.ai/evapppp/sweeps-keras' target=\"_blank\">https://wandb.ai/evapppp/sweeps-keras</a><br/>Synced 5 W&B file(s), 1 media file(s), 5 artifact file(s) and 1 other file(s)"
      ],
      "text/plain": [
       "<IPython.core.display.HTML object>"
      ]
     },
     "metadata": {},
     "output_type": "display_data"
    },
    {
     "data": {
      "text/html": [
       "Find logs at: <code>.\\wandb\\run-20240621_152754-5blgiaib\\logs</code>"
      ],
      "text/plain": [
       "<IPython.core.display.HTML object>"
      ]
     },
     "metadata": {},
     "output_type": "display_data"
    },
    {
     "name": "stderr",
     "output_type": "stream",
     "text": [
      "\u001b[34m\u001b[1mwandb\u001b[0m: Agent Starting Run: 0wimf54f with config:\n",
      "\u001b[34m\u001b[1mwandb\u001b[0m: \tbatch_size: 104\n",
      "\u001b[34m\u001b[1mwandb\u001b[0m: \tdense_activation: sigmoid\n",
      "\u001b[34m\u001b[1mwandb\u001b[0m: \tdropout: 0.2\n",
      "\u001b[34m\u001b[1mwandb\u001b[0m: \tepochs: 1\n",
      "\u001b[34m\u001b[1mwandb\u001b[0m: \tlearning_rate: 0.0055643308949607576\n",
      "\u001b[34m\u001b[1mwandb\u001b[0m: \toptimizer: sgd\n"
     ]
    },
    {
     "data": {
      "text/html": [
       "wandb version 0.17.2 is available!  To upgrade, please run:\n",
       " $ pip install wandb --upgrade"
      ],
      "text/plain": [
       "<IPython.core.display.HTML object>"
      ]
     },
     "metadata": {},
     "output_type": "display_data"
    },
    {
     "data": {
      "text/html": [
       "Tracking run with wandb version 0.17.0"
      ],
      "text/plain": [
       "<IPython.core.display.HTML object>"
      ]
     },
     "metadata": {},
     "output_type": "display_data"
    },
    {
     "data": {
      "text/html": [
       "Run data is saved locally in <code>C:\\Users\\Addisu\\Desktop\\kidi files\\Python workshop with ellen\\wandb\\run-20240621_152935-0wimf54f</code>"
      ],
      "text/plain": [
       "<IPython.core.display.HTML object>"
      ]
     },
     "metadata": {},
     "output_type": "display_data"
    },
    {
     "data": {
      "text/html": [
       "Syncing run <strong><a href='https://wandb.ai/evapppp/sweeps-keras/runs/0wimf54f' target=\"_blank\">sweepy-sweep-3</a></strong> to <a href='https://wandb.ai/evapppp/sweeps-keras' target=\"_blank\">Weights & Biases</a> (<a href='https://wandb.me/run' target=\"_blank\">docs</a>)<br/>Sweep page: <a href='https://wandb.ai/evapppp/sweeps-keras/sweeps/qu378scj' target=\"_blank\">https://wandb.ai/evapppp/sweeps-keras/sweeps/qu378scj</a>"
      ],
      "text/plain": [
       "<IPython.core.display.HTML object>"
      ]
     },
     "metadata": {},
     "output_type": "display_data"
    },
    {
     "data": {
      "text/html": [
       " View project at <a href='https://wandb.ai/evapppp/sweeps-keras' target=\"_blank\">https://wandb.ai/evapppp/sweeps-keras</a>"
      ],
      "text/plain": [
       "<IPython.core.display.HTML object>"
      ]
     },
     "metadata": {},
     "output_type": "display_data"
    },
    {
     "data": {
      "text/html": [
       " View sweep at <a href='https://wandb.ai/evapppp/sweeps-keras/sweeps/qu378scj' target=\"_blank\">https://wandb.ai/evapppp/sweeps-keras/sweeps/qu378scj</a>"
      ],
      "text/plain": [
       "<IPython.core.display.HTML object>"
      ]
     },
     "metadata": {},
     "output_type": "display_data"
    },
    {
     "data": {
      "text/html": [
       " View run at <a href='https://wandb.ai/evapppp/sweeps-keras/runs/0wimf54f' target=\"_blank\">https://wandb.ai/evapppp/sweeps-keras/runs/0wimf54f</a>"
      ],
      "text/plain": [
       "<IPython.core.display.HTML object>"
      ]
     },
     "metadata": {},
     "output_type": "display_data"
    },
    {
     "name": "stdout",
     "output_type": "stream",
     "text": [
      "76/76 [==============================] - ETA: 0s - loss: 0.0245"
     ]
    },
    {
     "name": "stderr",
     "output_type": "stream",
     "text": [
      "C:\\anaconda3\\envs\\jupyterenv\\lib\\site-packages\\keras\\src\\engine\\training.py:3000: UserWarning: You are saving your model as an HDF5 file via `model.save()`. This file format is considered legacy. We recommend using instead the native Keras format, e.g. `model.save('my_model.keras')`.\n",
      "  saving_api.save_model(\n"
     ]
    },
    {
     "name": "stdout",
     "output_type": "stream",
     "text": [
      "INFO:tensorflow:Assets written to: C:\\Users\\Addisu\\Desktop\\kidi files\\Python workshop with ellen\\wandb\\run-20240621_152935-0wimf54f\\files\\model-best\\assets\n"
     ]
    },
    {
     "name": "stderr",
     "output_type": "stream",
     "text": [
      "INFO:tensorflow:Assets written to: C:\\Users\\Addisu\\Desktop\\kidi files\\Python workshop with ellen\\wandb\\run-20240621_152935-0wimf54f\\files\\model-best\\assets\n",
      "\u001b[34m\u001b[1mwandb\u001b[0m: Adding directory to artifact (C:\\Users\\Addisu\\Desktop\\kidi files\\Python workshop with ellen\\wandb\\run-20240621_152935-0wimf54f\\files\\model-best)... Done. 0.0s\n"
     ]
    },
    {
     "name": "stdout",
     "output_type": "stream",
     "text": [
      "76/76 [==============================] - 109s 1s/step - loss: 0.0245 - val_loss: 0.0230\n"
     ]
    },
    {
     "data": {
      "text/html": [
       "<style>\n",
       "    table.wandb td:nth-child(1) { padding: 0 10px; text-align: left ; width: auto;} td:nth-child(2) {text-align: left ; width: 100%}\n",
       "    .wandb-row { display: flex; flex-direction: row; flex-wrap: wrap; justify-content: flex-start; width: 100% }\n",
       "    .wandb-col { display: flex; flex-direction: column; flex-basis: 100%; flex: 1; padding: 10px; }\n",
       "    </style>\n",
       "<div class=\"wandb-row\"><div class=\"wandb-col\"><h3>Run history:</h3><br/><table class=\"wandb\"><tr><td>epoch</td><td>▁</td></tr><tr><td>loss</td><td>█▂▁▁▁▁▁▁▁</td></tr><tr><td>val_loss</td><td>▁</td></tr></table><br/></div><div class=\"wandb-col\"><h3>Run summary:</h3><br/><table class=\"wandb\"><tr><td>best_epoch</td><td>0</td></tr><tr><td>best_val_loss</td><td>0.02301</td></tr><tr><td>epoch</td><td>0</td></tr><tr><td>loss</td><td>0.02447</td></tr><tr><td>val_loss</td><td>0.02301</td></tr></table><br/></div></div>"
      ],
      "text/plain": [
       "<IPython.core.display.HTML object>"
      ]
     },
     "metadata": {},
     "output_type": "display_data"
    },
    {
     "data": {
      "text/html": [
       " View run <strong style=\"color:#cdcd00\">sweepy-sweep-3</strong> at: <a href='https://wandb.ai/evapppp/sweeps-keras/runs/0wimf54f' target=\"_blank\">https://wandb.ai/evapppp/sweeps-keras/runs/0wimf54f</a><br/> View project at: <a href='https://wandb.ai/evapppp/sweeps-keras' target=\"_blank\">https://wandb.ai/evapppp/sweeps-keras</a><br/>Synced 5 W&B file(s), 1 media file(s), 5 artifact file(s) and 1 other file(s)"
      ],
      "text/plain": [
       "<IPython.core.display.HTML object>"
      ]
     },
     "metadata": {},
     "output_type": "display_data"
    },
    {
     "data": {
      "text/html": [
       "Find logs at: <code>.\\wandb\\run-20240621_152935-0wimf54f\\logs</code>"
      ],
      "text/plain": [
       "<IPython.core.display.HTML object>"
      ]
     },
     "metadata": {},
     "output_type": "display_data"
    },
    {
     "name": "stderr",
     "output_type": "stream",
     "text": [
      "\u001b[34m\u001b[1mwandb\u001b[0m: Sweep Agent: Waiting for job.\n",
      "\u001b[34m\u001b[1mwandb\u001b[0m: Job received.\n",
      "\u001b[34m\u001b[1mwandb\u001b[0m: Agent Starting Run: 1nfq1vld with config:\n",
      "\u001b[34m\u001b[1mwandb\u001b[0m: \tbatch_size: 64\n",
      "\u001b[34m\u001b[1mwandb\u001b[0m: \tdense_activation: relu\n",
      "\u001b[34m\u001b[1mwandb\u001b[0m: \tdropout: 0.2\n",
      "\u001b[34m\u001b[1mwandb\u001b[0m: \tepochs: 1\n",
      "\u001b[34m\u001b[1mwandb\u001b[0m: \tlearning_rate: 0.005069898361941181\n",
      "\u001b[34m\u001b[1mwandb\u001b[0m: \toptimizer: adam\n"
     ]
    },
    {
     "data": {
      "text/html": [
       "wandb version 0.17.2 is available!  To upgrade, please run:\n",
       " $ pip install wandb --upgrade"
      ],
      "text/plain": [
       "<IPython.core.display.HTML object>"
      ]
     },
     "metadata": {},
     "output_type": "display_data"
    },
    {
     "data": {
      "text/html": [
       "Tracking run with wandb version 0.17.0"
      ],
      "text/plain": [
       "<IPython.core.display.HTML object>"
      ]
     },
     "metadata": {},
     "output_type": "display_data"
    },
    {
     "data": {
      "text/html": [
       "Run data is saved locally in <code>C:\\Users\\Addisu\\Desktop\\kidi files\\Python workshop with ellen\\wandb\\run-20240621_153238-1nfq1vld</code>"
      ],
      "text/plain": [
       "<IPython.core.display.HTML object>"
      ]
     },
     "metadata": {},
     "output_type": "display_data"
    },
    {
     "data": {
      "text/html": [
       "Syncing run <strong><a href='https://wandb.ai/evapppp/sweeps-keras/runs/1nfq1vld' target=\"_blank\">chocolate-sweep-4</a></strong> to <a href='https://wandb.ai/evapppp/sweeps-keras' target=\"_blank\">Weights & Biases</a> (<a href='https://wandb.me/run' target=\"_blank\">docs</a>)<br/>Sweep page: <a href='https://wandb.ai/evapppp/sweeps-keras/sweeps/qu378scj' target=\"_blank\">https://wandb.ai/evapppp/sweeps-keras/sweeps/qu378scj</a>"
      ],
      "text/plain": [
       "<IPython.core.display.HTML object>"
      ]
     },
     "metadata": {},
     "output_type": "display_data"
    },
    {
     "data": {
      "text/html": [
       " View project at <a href='https://wandb.ai/evapppp/sweeps-keras' target=\"_blank\">https://wandb.ai/evapppp/sweeps-keras</a>"
      ],
      "text/plain": [
       "<IPython.core.display.HTML object>"
      ]
     },
     "metadata": {},
     "output_type": "display_data"
    },
    {
     "data": {
      "text/html": [
       " View sweep at <a href='https://wandb.ai/evapppp/sweeps-keras/sweeps/qu378scj' target=\"_blank\">https://wandb.ai/evapppp/sweeps-keras/sweeps/qu378scj</a>"
      ],
      "text/plain": [
       "<IPython.core.display.HTML object>"
      ]
     },
     "metadata": {},
     "output_type": "display_data"
    },
    {
     "data": {
      "text/html": [
       " View run at <a href='https://wandb.ai/evapppp/sweeps-keras/runs/1nfq1vld' target=\"_blank\">https://wandb.ai/evapppp/sweeps-keras/runs/1nfq1vld</a>"
      ],
      "text/plain": [
       "<IPython.core.display.HTML object>"
      ]
     },
     "metadata": {},
     "output_type": "display_data"
    },
    {
     "name": "stderr",
     "output_type": "stream",
     "text": [
      "Traceback (most recent call last):\n",
      "  File \"C:\\Users\\Addisu\\AppData\\Local\\Temp\\ipykernel_74596\\2644847777.py\", line 221, in sweep_train\n",
      "    train(model,\n",
      "  File \"C:\\Users\\Addisu\\AppData\\Local\\Temp\\ipykernel_74596\\2644847777.py\", line 151, in train\n",
      "    model.fit(X_train,\n",
      "  File \"C:\\anaconda3\\envs\\jupyterenv\\lib\\site-packages\\keras\\src\\utils\\traceback_utils.py\", line 70, in error_handler\n",
      "    raise e.with_traceback(filtered_tb) from None\n",
      "  File \"C:\\anaconda3\\envs\\jupyterenv\\lib\\site-packages\\wandb\\integration\\keras\\keras.py\", line 656, in on_train_batch_end\n",
      "    wandb.run.summary[\"graph\"] = wandb.Graph.from_keras(self.model)\n",
      "  File \"C:\\anaconda3\\envs\\jupyterenv\\lib\\site-packages\\wandb\\sdk\\wandb_summary.py\", line 52, in __setitem__\n",
      "    self.update({key: val})\n",
      "  File \"C:\\anaconda3\\envs\\jupyterenv\\lib\\site-packages\\wandb\\sdk\\wandb_summary.py\", line 74, in update\n",
      "    self._update(record)\n",
      "  File \"C:\\anaconda3\\envs\\jupyterenv\\lib\\site-packages\\wandb\\sdk\\wandb_summary.py\", line 128, in _update\n",
      "    self._update_callback(record)\n",
      "  File \"C:\\anaconda3\\envs\\jupyterenv\\lib\\site-packages\\wandb\\sdk\\wandb_run.py\", line 400, in wrapper_fn\n",
      "    return func(self, *args, **kwargs)\n",
      "  File \"C:\\anaconda3\\envs\\jupyterenv\\lib\\site-packages\\wandb\\sdk\\wandb_run.py\", line 1424, in _summary_update_callback\n",
      "    self._backend.interface.publish_summary(summary_record)\n",
      "  File \"C:\\anaconda3\\envs\\jupyterenv\\lib\\site-packages\\wandb\\sdk\\interface\\interface.py\", line 270, in publish_summary\n",
      "    pb_summary_record = self._make_summary(summary_record)\n",
      "  File \"C:\\anaconda3\\envs\\jupyterenv\\lib\\site-packages\\wandb\\sdk\\interface\\interface.py\", line 248, in _make_summary\n",
      "    json_value = self._summary_encode(item.value, path_from_root)\n",
      "  File \"C:\\anaconda3\\envs\\jupyterenv\\lib\\site-packages\\wandb\\sdk\\interface\\interface.py\", line 221, in _summary_encode\n",
      "    val_to_json(self._run, path_from_root, value, namespace=\"summary\")\n",
      "  File \"C:\\anaconda3\\envs\\jupyterenv\\lib\\site-packages\\wandb\\sdk\\data_types\\utils.py\", line 164, in val_to_json\n",
      "    val.bind_to_run(run, key, namespace)\n",
      "  File \"C:\\anaconda3\\envs\\jupyterenv\\lib\\site-packages\\wandb\\data_types.py\", line 1377, in bind_to_run\n",
      "    with codecs.open(tmp_path, \"w\", encoding=\"utf-8\") as fp:\n",
      "  File \"C:\\anaconda3\\envs\\jupyterenv\\lib\\codecs.py\", line 906, in open\n",
      "    file = builtins.open(filename, mode, buffering)\n",
      "FileNotFoundError: [Errno 2] No such file or directory: 'C:\\\\Users\\\\Addisu\\\\AppData\\\\Local\\\\Temp\\\\tmpbie7lvyxwandb-media\\\\rt6ab7f5.graph.json'\n"
     ]
    },
    {
     "data": {
      "text/html": [
       " View run <strong style=\"color:#cdcd00\">chocolate-sweep-4</strong> at: <a href='https://wandb.ai/evapppp/sweeps-keras/runs/1nfq1vld' target=\"_blank\">https://wandb.ai/evapppp/sweeps-keras/runs/1nfq1vld</a><br/> View project at: <a href='https://wandb.ai/evapppp/sweeps-keras' target=\"_blank\">https://wandb.ai/evapppp/sweeps-keras</a><br/>Synced 5 W&B file(s), 0 media file(s), 0 artifact file(s) and 0 other file(s)"
      ],
      "text/plain": [
       "<IPython.core.display.HTML object>"
      ]
     },
     "metadata": {},
     "output_type": "display_data"
    },
    {
     "data": {
      "text/html": [
       "Find logs at: <code>.\\wandb\\run-20240621_153238-1nfq1vld\\logs</code>"
      ],
      "text/plain": [
       "<IPython.core.display.HTML object>"
      ]
     },
     "metadata": {},
     "output_type": "display_data"
    },
    {
     "name": "stderr",
     "output_type": "stream",
     "text": [
      "Run 1nfq1vld errored:\n",
      "Traceback (most recent call last):\n",
      "  File \"C:\\anaconda3\\envs\\jupyterenv\\lib\\site-packages\\wandb\\agents\\pyagent.py\", line 307, in _run_job\n",
      "    self._function()\n",
      "  File \"C:\\Users\\Addisu\\AppData\\Local\\Temp\\ipykernel_74596\\2644847777.py\", line 221, in sweep_train\n",
      "    train(model,\n",
      "  File \"C:\\Users\\Addisu\\AppData\\Local\\Temp\\ipykernel_74596\\2644847777.py\", line 151, in train\n",
      "    model.fit(X_train,\n",
      "  File \"C:\\anaconda3\\envs\\jupyterenv\\lib\\site-packages\\keras\\src\\utils\\traceback_utils.py\", line 70, in error_handler\n",
      "    raise e.with_traceback(filtered_tb) from None\n",
      "  File \"C:\\anaconda3\\envs\\jupyterenv\\lib\\site-packages\\wandb\\integration\\keras\\keras.py\", line 656, in on_train_batch_end\n",
      "    wandb.run.summary[\"graph\"] = wandb.Graph.from_keras(self.model)\n",
      "  File \"C:\\anaconda3\\envs\\jupyterenv\\lib\\site-packages\\wandb\\sdk\\wandb_summary.py\", line 52, in __setitem__\n",
      "    self.update({key: val})\n",
      "  File \"C:\\anaconda3\\envs\\jupyterenv\\lib\\site-packages\\wandb\\sdk\\wandb_summary.py\", line 74, in update\n",
      "    self._update(record)\n",
      "  File \"C:\\anaconda3\\envs\\jupyterenv\\lib\\site-packages\\wandb\\sdk\\wandb_summary.py\", line 128, in _update\n",
      "    self._update_callback(record)\n",
      "  File \"C:\\anaconda3\\envs\\jupyterenv\\lib\\site-packages\\wandb\\sdk\\wandb_run.py\", line 400, in wrapper_fn\n",
      "    return func(self, *args, **kwargs)\n",
      "  File \"C:\\anaconda3\\envs\\jupyterenv\\lib\\site-packages\\wandb\\sdk\\wandb_run.py\", line 1424, in _summary_update_callback\n",
      "    self._backend.interface.publish_summary(summary_record)\n",
      "  File \"C:\\anaconda3\\envs\\jupyterenv\\lib\\site-packages\\wandb\\sdk\\interface\\interface.py\", line 270, in publish_summary\n",
      "    pb_summary_record = self._make_summary(summary_record)\n",
      "  File \"C:\\anaconda3\\envs\\jupyterenv\\lib\\site-packages\\wandb\\sdk\\interface\\interface.py\", line 248, in _make_summary\n",
      "    json_value = self._summary_encode(item.value, path_from_root)\n",
      "  File \"C:\\anaconda3\\envs\\jupyterenv\\lib\\site-packages\\wandb\\sdk\\interface\\interface.py\", line 221, in _summary_encode\n",
      "    val_to_json(self._run, path_from_root, value, namespace=\"summary\")\n",
      "  File \"C:\\anaconda3\\envs\\jupyterenv\\lib\\site-packages\\wandb\\sdk\\data_types\\utils.py\", line 164, in val_to_json\n",
      "    val.bind_to_run(run, key, namespace)\n",
      "  File \"C:\\anaconda3\\envs\\jupyterenv\\lib\\site-packages\\wandb\\data_types.py\", line 1377, in bind_to_run\n",
      "    with codecs.open(tmp_path, \"w\", encoding=\"utf-8\") as fp:\n",
      "  File \"C:\\anaconda3\\envs\\jupyterenv\\lib\\codecs.py\", line 906, in open\n",
      "    file = builtins.open(filename, mode, buffering)\n",
      "FileNotFoundError: [Errno 2] No such file or directory: 'C:\\\\Users\\\\Addisu\\\\AppData\\\\Local\\\\Temp\\\\tmpbie7lvyxwandb-media\\\\rt6ab7f5.graph.json'\n",
      "\n",
      "\u001b[34m\u001b[1mwandb\u001b[0m: \u001b[32m\u001b[41mERROR\u001b[0m Run 1nfq1vld errored:\n",
      "\u001b[34m\u001b[1mwandb\u001b[0m: \u001b[32m\u001b[41mERROR\u001b[0m Traceback (most recent call last):\n",
      "\u001b[34m\u001b[1mwandb\u001b[0m: \u001b[32m\u001b[41mERROR\u001b[0m   File \"C:\\anaconda3\\envs\\jupyterenv\\lib\\site-packages\\wandb\\agents\\pyagent.py\", line 307, in _run_job\n",
      "\u001b[34m\u001b[1mwandb\u001b[0m: \u001b[32m\u001b[41mERROR\u001b[0m     self._function()\n",
      "\u001b[34m\u001b[1mwandb\u001b[0m: \u001b[32m\u001b[41mERROR\u001b[0m   File \"C:\\Users\\Addisu\\AppData\\Local\\Temp\\ipykernel_74596\\2644847777.py\", line 221, in sweep_train\n",
      "\u001b[34m\u001b[1mwandb\u001b[0m: \u001b[32m\u001b[41mERROR\u001b[0m     train(model,\n",
      "\u001b[34m\u001b[1mwandb\u001b[0m: \u001b[32m\u001b[41mERROR\u001b[0m   File \"C:\\Users\\Addisu\\AppData\\Local\\Temp\\ipykernel_74596\\2644847777.py\", line 151, in train\n",
      "\u001b[34m\u001b[1mwandb\u001b[0m: \u001b[32m\u001b[41mERROR\u001b[0m     model.fit(X_train,\n",
      "\u001b[34m\u001b[1mwandb\u001b[0m: \u001b[32m\u001b[41mERROR\u001b[0m   File \"C:\\anaconda3\\envs\\jupyterenv\\lib\\site-packages\\keras\\src\\utils\\traceback_utils.py\", line 70, in error_handler\n",
      "\u001b[34m\u001b[1mwandb\u001b[0m: \u001b[32m\u001b[41mERROR\u001b[0m     raise e.with_traceback(filtered_tb) from None\n",
      "\u001b[34m\u001b[1mwandb\u001b[0m: \u001b[32m\u001b[41mERROR\u001b[0m   File \"C:\\anaconda3\\envs\\jupyterenv\\lib\\site-packages\\wandb\\integration\\keras\\keras.py\", line 656, in on_train_batch_end\n",
      "\u001b[34m\u001b[1mwandb\u001b[0m: \u001b[32m\u001b[41mERROR\u001b[0m     wandb.run.summary[\"graph\"] = wandb.Graph.from_keras(self.model)\n",
      "\u001b[34m\u001b[1mwandb\u001b[0m: \u001b[32m\u001b[41mERROR\u001b[0m   File \"C:\\anaconda3\\envs\\jupyterenv\\lib\\site-packages\\wandb\\sdk\\wandb_summary.py\", line 52, in __setitem__\n",
      "\u001b[34m\u001b[1mwandb\u001b[0m: \u001b[32m\u001b[41mERROR\u001b[0m     self.update({key: val})\n",
      "\u001b[34m\u001b[1mwandb\u001b[0m: \u001b[32m\u001b[41mERROR\u001b[0m   File \"C:\\anaconda3\\envs\\jupyterenv\\lib\\site-packages\\wandb\\sdk\\wandb_summary.py\", line 74, in update\n",
      "\u001b[34m\u001b[1mwandb\u001b[0m: \u001b[32m\u001b[41mERROR\u001b[0m     self._update(record)\n",
      "\u001b[34m\u001b[1mwandb\u001b[0m: \u001b[32m\u001b[41mERROR\u001b[0m   File \"C:\\anaconda3\\envs\\jupyterenv\\lib\\site-packages\\wandb\\sdk\\wandb_summary.py\", line 128, in _update\n",
      "\u001b[34m\u001b[1mwandb\u001b[0m: \u001b[32m\u001b[41mERROR\u001b[0m     self._update_callback(record)\n",
      "\u001b[34m\u001b[1mwandb\u001b[0m: \u001b[32m\u001b[41mERROR\u001b[0m   File \"C:\\anaconda3\\envs\\jupyterenv\\lib\\site-packages\\wandb\\sdk\\wandb_run.py\", line 400, in wrapper_fn\n",
      "\u001b[34m\u001b[1mwandb\u001b[0m: \u001b[32m\u001b[41mERROR\u001b[0m     return func(self, *args, **kwargs)\n",
      "\u001b[34m\u001b[1mwandb\u001b[0m: \u001b[32m\u001b[41mERROR\u001b[0m   File \"C:\\anaconda3\\envs\\jupyterenv\\lib\\site-packages\\wandb\\sdk\\wandb_run.py\", line 1424, in _summary_update_callback\n",
      "\u001b[34m\u001b[1mwandb\u001b[0m: \u001b[32m\u001b[41mERROR\u001b[0m     self._backend.interface.publish_summary(summary_record)\n",
      "\u001b[34m\u001b[1mwandb\u001b[0m: \u001b[32m\u001b[41mERROR\u001b[0m   File \"C:\\anaconda3\\envs\\jupyterenv\\lib\\site-packages\\wandb\\sdk\\interface\\interface.py\", line 270, in publish_summary\n",
      "\u001b[34m\u001b[1mwandb\u001b[0m: \u001b[32m\u001b[41mERROR\u001b[0m     pb_summary_record = self._make_summary(summary_record)\n",
      "\u001b[34m\u001b[1mwandb\u001b[0m: \u001b[32m\u001b[41mERROR\u001b[0m   File \"C:\\anaconda3\\envs\\jupyterenv\\lib\\site-packages\\wandb\\sdk\\interface\\interface.py\", line 248, in _make_summary\n",
      "\u001b[34m\u001b[1mwandb\u001b[0m: \u001b[32m\u001b[41mERROR\u001b[0m     json_value = self._summary_encode(item.value, path_from_root)\n",
      "\u001b[34m\u001b[1mwandb\u001b[0m: \u001b[32m\u001b[41mERROR\u001b[0m   File \"C:\\anaconda3\\envs\\jupyterenv\\lib\\site-packages\\wandb\\sdk\\interface\\interface.py\", line 221, in _summary_encode\n",
      "\u001b[34m\u001b[1mwandb\u001b[0m: \u001b[32m\u001b[41mERROR\u001b[0m     val_to_json(self._run, path_from_root, value, namespace=\"summary\")\n",
      "\u001b[34m\u001b[1mwandb\u001b[0m: \u001b[32m\u001b[41mERROR\u001b[0m   File \"C:\\anaconda3\\envs\\jupyterenv\\lib\\site-packages\\wandb\\sdk\\data_types\\utils.py\", line 164, in val_to_json\n",
      "\u001b[34m\u001b[1mwandb\u001b[0m: \u001b[32m\u001b[41mERROR\u001b[0m     val.bind_to_run(run, key, namespace)\n",
      "\u001b[34m\u001b[1mwandb\u001b[0m: \u001b[32m\u001b[41mERROR\u001b[0m   File \"C:\\anaconda3\\envs\\jupyterenv\\lib\\site-packages\\wandb\\data_types.py\", line 1377, in bind_to_run\n",
      "\u001b[34m\u001b[1mwandb\u001b[0m: \u001b[32m\u001b[41mERROR\u001b[0m     with codecs.open(tmp_path, \"w\", encoding=\"utf-8\") as fp:\n",
      "\u001b[34m\u001b[1mwandb\u001b[0m: \u001b[32m\u001b[41mERROR\u001b[0m   File \"C:\\anaconda3\\envs\\jupyterenv\\lib\\codecs.py\", line 906, in open\n",
      "\u001b[34m\u001b[1mwandb\u001b[0m: \u001b[32m\u001b[41mERROR\u001b[0m     file = builtins.open(filename, mode, buffering)\n",
      "\u001b[34m\u001b[1mwandb\u001b[0m: \u001b[32m\u001b[41mERROR\u001b[0m FileNotFoundError: [Errno 2] No such file or directory: 'C:\\\\Users\\\\Addisu\\\\AppData\\\\Local\\\\Temp\\\\tmpbie7lvyxwandb-media\\\\rt6ab7f5.graph.json'\n",
      "\u001b[34m\u001b[1mwandb\u001b[0m: \u001b[32m\u001b[41mERROR\u001b[0m \n",
      "\u001b[34m\u001b[1mwandb\u001b[0m: Agent Starting Run: nfp8f2ys with config:\n",
      "\u001b[34m\u001b[1mwandb\u001b[0m: \tbatch_size: 112\n",
      "\u001b[34m\u001b[1mwandb\u001b[0m: \tdense_activation: relu\n",
      "\u001b[34m\u001b[1mwandb\u001b[0m: \tdropout: 0.3\n",
      "\u001b[34m\u001b[1mwandb\u001b[0m: \tepochs: 1\n",
      "\u001b[34m\u001b[1mwandb\u001b[0m: \tlearning_rate: 0.004092519639345085\n",
      "\u001b[34m\u001b[1mwandb\u001b[0m: \toptimizer: sgd\n"
     ]
    },
    {
     "data": {
      "text/html": [
       "wandb version 0.17.2 is available!  To upgrade, please run:\n",
       " $ pip install wandb --upgrade"
      ],
      "text/plain": [
       "<IPython.core.display.HTML object>"
      ]
     },
     "metadata": {},
     "output_type": "display_data"
    },
    {
     "data": {
      "text/html": [
       "Tracking run with wandb version 0.17.0"
      ],
      "text/plain": [
       "<IPython.core.display.HTML object>"
      ]
     },
     "metadata": {},
     "output_type": "display_data"
    },
    {
     "data": {
      "text/html": [
       "Run data is saved locally in <code>C:\\Users\\Addisu\\Desktop\\kidi files\\Python workshop with ellen\\wandb\\run-20240621_153302-nfp8f2ys</code>"
      ],
      "text/plain": [
       "<IPython.core.display.HTML object>"
      ]
     },
     "metadata": {},
     "output_type": "display_data"
    },
    {
     "data": {
      "text/html": [
       "Syncing run <strong><a href='https://wandb.ai/evapppp/sweeps-keras/runs/nfp8f2ys' target=\"_blank\">fearless-sweep-5</a></strong> to <a href='https://wandb.ai/evapppp/sweeps-keras' target=\"_blank\">Weights & Biases</a> (<a href='https://wandb.me/run' target=\"_blank\">docs</a>)<br/>Sweep page: <a href='https://wandb.ai/evapppp/sweeps-keras/sweeps/qu378scj' target=\"_blank\">https://wandb.ai/evapppp/sweeps-keras/sweeps/qu378scj</a>"
      ],
      "text/plain": [
       "<IPython.core.display.HTML object>"
      ]
     },
     "metadata": {},
     "output_type": "display_data"
    },
    {
     "data": {
      "text/html": [
       " View project at <a href='https://wandb.ai/evapppp/sweeps-keras' target=\"_blank\">https://wandb.ai/evapppp/sweeps-keras</a>"
      ],
      "text/plain": [
       "<IPython.core.display.HTML object>"
      ]
     },
     "metadata": {},
     "output_type": "display_data"
    },
    {
     "data": {
      "text/html": [
       " View sweep at <a href='https://wandb.ai/evapppp/sweeps-keras/sweeps/qu378scj' target=\"_blank\">https://wandb.ai/evapppp/sweeps-keras/sweeps/qu378scj</a>"
      ],
      "text/plain": [
       "<IPython.core.display.HTML object>"
      ]
     },
     "metadata": {},
     "output_type": "display_data"
    },
    {
     "data": {
      "text/html": [
       " View run at <a href='https://wandb.ai/evapppp/sweeps-keras/runs/nfp8f2ys' target=\"_blank\">https://wandb.ai/evapppp/sweeps-keras/runs/nfp8f2ys</a>"
      ],
      "text/plain": [
       "<IPython.core.display.HTML object>"
      ]
     },
     "metadata": {},
     "output_type": "display_data"
    },
    {
     "name": "stderr",
     "output_type": "stream",
     "text": [
      "Traceback (most recent call last):\n",
      "  File \"C:\\Users\\Addisu\\AppData\\Local\\Temp\\ipykernel_74596\\2644847777.py\", line 221, in sweep_train\n",
      "    train(model,\n",
      "  File \"C:\\Users\\Addisu\\AppData\\Local\\Temp\\ipykernel_74596\\2644847777.py\", line 151, in train\n",
      "    model.fit(X_train,\n",
      "  File \"C:\\anaconda3\\envs\\jupyterenv\\lib\\site-packages\\keras\\src\\utils\\traceback_utils.py\", line 70, in error_handler\n",
      "    raise e.with_traceback(filtered_tb) from None\n",
      "  File \"C:\\anaconda3\\envs\\jupyterenv\\lib\\site-packages\\wandb\\integration\\keras\\keras.py\", line 656, in on_train_batch_end\n",
      "    wandb.run.summary[\"graph\"] = wandb.Graph.from_keras(self.model)\n",
      "  File \"C:\\anaconda3\\envs\\jupyterenv\\lib\\site-packages\\wandb\\sdk\\wandb_summary.py\", line 52, in __setitem__\n",
      "    self.update({key: val})\n",
      "  File \"C:\\anaconda3\\envs\\jupyterenv\\lib\\site-packages\\wandb\\sdk\\wandb_summary.py\", line 74, in update\n",
      "    self._update(record)\n",
      "  File \"C:\\anaconda3\\envs\\jupyterenv\\lib\\site-packages\\wandb\\sdk\\wandb_summary.py\", line 128, in _update\n",
      "    self._update_callback(record)\n",
      "  File \"C:\\anaconda3\\envs\\jupyterenv\\lib\\site-packages\\wandb\\sdk\\wandb_run.py\", line 400, in wrapper_fn\n",
      "    return func(self, *args, **kwargs)\n",
      "  File \"C:\\anaconda3\\envs\\jupyterenv\\lib\\site-packages\\wandb\\sdk\\wandb_run.py\", line 1424, in _summary_update_callback\n",
      "    self._backend.interface.publish_summary(summary_record)\n",
      "  File \"C:\\anaconda3\\envs\\jupyterenv\\lib\\site-packages\\wandb\\sdk\\interface\\interface.py\", line 270, in publish_summary\n",
      "    pb_summary_record = self._make_summary(summary_record)\n",
      "  File \"C:\\anaconda3\\envs\\jupyterenv\\lib\\site-packages\\wandb\\sdk\\interface\\interface.py\", line 248, in _make_summary\n",
      "    json_value = self._summary_encode(item.value, path_from_root)\n",
      "  File \"C:\\anaconda3\\envs\\jupyterenv\\lib\\site-packages\\wandb\\sdk\\interface\\interface.py\", line 221, in _summary_encode\n",
      "    val_to_json(self._run, path_from_root, value, namespace=\"summary\")\n",
      "  File \"C:\\anaconda3\\envs\\jupyterenv\\lib\\site-packages\\wandb\\sdk\\data_types\\utils.py\", line 164, in val_to_json\n",
      "    val.bind_to_run(run, key, namespace)\n",
      "  File \"C:\\anaconda3\\envs\\jupyterenv\\lib\\site-packages\\wandb\\data_types.py\", line 1377, in bind_to_run\n",
      "    with codecs.open(tmp_path, \"w\", encoding=\"utf-8\") as fp:\n",
      "  File \"C:\\anaconda3\\envs\\jupyterenv\\lib\\codecs.py\", line 906, in open\n",
      "    file = builtins.open(filename, mode, buffering)\n",
      "FileNotFoundError: [Errno 2] No such file or directory: 'C:\\\\Users\\\\Addisu\\\\AppData\\\\Local\\\\Temp\\\\tmpbie7lvyxwandb-media\\\\pwf3cdkq.graph.json'\n"
     ]
    },
    {
     "data": {
      "text/html": [
       " View run <strong style=\"color:#cdcd00\">fearless-sweep-5</strong> at: <a href='https://wandb.ai/evapppp/sweeps-keras/runs/nfp8f2ys' target=\"_blank\">https://wandb.ai/evapppp/sweeps-keras/runs/nfp8f2ys</a><br/> View project at: <a href='https://wandb.ai/evapppp/sweeps-keras' target=\"_blank\">https://wandb.ai/evapppp/sweeps-keras</a><br/>Synced 5 W&B file(s), 0 media file(s), 0 artifact file(s) and 0 other file(s)"
      ],
      "text/plain": [
       "<IPython.core.display.HTML object>"
      ]
     },
     "metadata": {},
     "output_type": "display_data"
    },
    {
     "data": {
      "text/html": [
       "Find logs at: <code>.\\wandb\\run-20240621_153302-nfp8f2ys\\logs</code>"
      ],
      "text/plain": [
       "<IPython.core.display.HTML object>"
      ]
     },
     "metadata": {},
     "output_type": "display_data"
    },
    {
     "name": "stderr",
     "output_type": "stream",
     "text": [
      "Run nfp8f2ys errored:\n",
      "Traceback (most recent call last):\n",
      "  File \"C:\\anaconda3\\envs\\jupyterenv\\lib\\site-packages\\wandb\\agents\\pyagent.py\", line 307, in _run_job\n",
      "    self._function()\n",
      "  File \"C:\\Users\\Addisu\\AppData\\Local\\Temp\\ipykernel_74596\\2644847777.py\", line 221, in sweep_train\n",
      "    train(model,\n",
      "  File \"C:\\Users\\Addisu\\AppData\\Local\\Temp\\ipykernel_74596\\2644847777.py\", line 151, in train\n",
      "    model.fit(X_train,\n",
      "  File \"C:\\anaconda3\\envs\\jupyterenv\\lib\\site-packages\\keras\\src\\utils\\traceback_utils.py\", line 70, in error_handler\n",
      "    raise e.with_traceback(filtered_tb) from None\n",
      "  File \"C:\\anaconda3\\envs\\jupyterenv\\lib\\site-packages\\wandb\\integration\\keras\\keras.py\", line 656, in on_train_batch_end\n",
      "    wandb.run.summary[\"graph\"] = wandb.Graph.from_keras(self.model)\n",
      "  File \"C:\\anaconda3\\envs\\jupyterenv\\lib\\site-packages\\wandb\\sdk\\wandb_summary.py\", line 52, in __setitem__\n",
      "    self.update({key: val})\n",
      "  File \"C:\\anaconda3\\envs\\jupyterenv\\lib\\site-packages\\wandb\\sdk\\wandb_summary.py\", line 74, in update\n",
      "    self._update(record)\n",
      "  File \"C:\\anaconda3\\envs\\jupyterenv\\lib\\site-packages\\wandb\\sdk\\wandb_summary.py\", line 128, in _update\n",
      "    self._update_callback(record)\n",
      "  File \"C:\\anaconda3\\envs\\jupyterenv\\lib\\site-packages\\wandb\\sdk\\wandb_run.py\", line 400, in wrapper_fn\n",
      "    return func(self, *args, **kwargs)\n",
      "  File \"C:\\anaconda3\\envs\\jupyterenv\\lib\\site-packages\\wandb\\sdk\\wandb_run.py\", line 1424, in _summary_update_callback\n",
      "    self._backend.interface.publish_summary(summary_record)\n",
      "  File \"C:\\anaconda3\\envs\\jupyterenv\\lib\\site-packages\\wandb\\sdk\\interface\\interface.py\", line 270, in publish_summary\n",
      "    pb_summary_record = self._make_summary(summary_record)\n",
      "  File \"C:\\anaconda3\\envs\\jupyterenv\\lib\\site-packages\\wandb\\sdk\\interface\\interface.py\", line 248, in _make_summary\n",
      "    json_value = self._summary_encode(item.value, path_from_root)\n",
      "  File \"C:\\anaconda3\\envs\\jupyterenv\\lib\\site-packages\\wandb\\sdk\\interface\\interface.py\", line 221, in _summary_encode\n",
      "    val_to_json(self._run, path_from_root, value, namespace=\"summary\")\n",
      "  File \"C:\\anaconda3\\envs\\jupyterenv\\lib\\site-packages\\wandb\\sdk\\data_types\\utils.py\", line 164, in val_to_json\n",
      "    val.bind_to_run(run, key, namespace)\n",
      "  File \"C:\\anaconda3\\envs\\jupyterenv\\lib\\site-packages\\wandb\\data_types.py\", line 1377, in bind_to_run\n",
      "    with codecs.open(tmp_path, \"w\", encoding=\"utf-8\") as fp:\n",
      "  File \"C:\\anaconda3\\envs\\jupyterenv\\lib\\codecs.py\", line 906, in open\n",
      "    file = builtins.open(filename, mode, buffering)\n",
      "FileNotFoundError: [Errno 2] No such file or directory: 'C:\\\\Users\\\\Addisu\\\\AppData\\\\Local\\\\Temp\\\\tmpbie7lvyxwandb-media\\\\pwf3cdkq.graph.json'\n",
      "\n",
      "\u001b[34m\u001b[1mwandb\u001b[0m: \u001b[32m\u001b[41mERROR\u001b[0m Run nfp8f2ys errored:\n",
      "\u001b[34m\u001b[1mwandb\u001b[0m: \u001b[32m\u001b[41mERROR\u001b[0m Traceback (most recent call last):\n",
      "\u001b[34m\u001b[1mwandb\u001b[0m: \u001b[32m\u001b[41mERROR\u001b[0m   File \"C:\\anaconda3\\envs\\jupyterenv\\lib\\site-packages\\wandb\\agents\\pyagent.py\", line 307, in _run_job\n",
      "\u001b[34m\u001b[1mwandb\u001b[0m: \u001b[32m\u001b[41mERROR\u001b[0m     self._function()\n",
      "\u001b[34m\u001b[1mwandb\u001b[0m: \u001b[32m\u001b[41mERROR\u001b[0m   File \"C:\\Users\\Addisu\\AppData\\Local\\Temp\\ipykernel_74596\\2644847777.py\", line 221, in sweep_train\n",
      "\u001b[34m\u001b[1mwandb\u001b[0m: \u001b[32m\u001b[41mERROR\u001b[0m     train(model,\n",
      "\u001b[34m\u001b[1mwandb\u001b[0m: \u001b[32m\u001b[41mERROR\u001b[0m   File \"C:\\Users\\Addisu\\AppData\\Local\\Temp\\ipykernel_74596\\2644847777.py\", line 151, in train\n",
      "\u001b[34m\u001b[1mwandb\u001b[0m: \u001b[32m\u001b[41mERROR\u001b[0m     model.fit(X_train,\n",
      "\u001b[34m\u001b[1mwandb\u001b[0m: \u001b[32m\u001b[41mERROR\u001b[0m   File \"C:\\anaconda3\\envs\\jupyterenv\\lib\\site-packages\\keras\\src\\utils\\traceback_utils.py\", line 70, in error_handler\n",
      "\u001b[34m\u001b[1mwandb\u001b[0m: \u001b[32m\u001b[41mERROR\u001b[0m     raise e.with_traceback(filtered_tb) from None\n",
      "\u001b[34m\u001b[1mwandb\u001b[0m: \u001b[32m\u001b[41mERROR\u001b[0m   File \"C:\\anaconda3\\envs\\jupyterenv\\lib\\site-packages\\wandb\\integration\\keras\\keras.py\", line 656, in on_train_batch_end\n",
      "\u001b[34m\u001b[1mwandb\u001b[0m: \u001b[32m\u001b[41mERROR\u001b[0m     wandb.run.summary[\"graph\"] = wandb.Graph.from_keras(self.model)\n",
      "\u001b[34m\u001b[1mwandb\u001b[0m: \u001b[32m\u001b[41mERROR\u001b[0m   File \"C:\\anaconda3\\envs\\jupyterenv\\lib\\site-packages\\wandb\\sdk\\wandb_summary.py\", line 52, in __setitem__\n",
      "\u001b[34m\u001b[1mwandb\u001b[0m: \u001b[32m\u001b[41mERROR\u001b[0m     self.update({key: val})\n",
      "\u001b[34m\u001b[1mwandb\u001b[0m: \u001b[32m\u001b[41mERROR\u001b[0m   File \"C:\\anaconda3\\envs\\jupyterenv\\lib\\site-packages\\wandb\\sdk\\wandb_summary.py\", line 74, in update\n",
      "\u001b[34m\u001b[1mwandb\u001b[0m: \u001b[32m\u001b[41mERROR\u001b[0m     self._update(record)\n",
      "\u001b[34m\u001b[1mwandb\u001b[0m: \u001b[32m\u001b[41mERROR\u001b[0m   File \"C:\\anaconda3\\envs\\jupyterenv\\lib\\site-packages\\wandb\\sdk\\wandb_summary.py\", line 128, in _update\n",
      "\u001b[34m\u001b[1mwandb\u001b[0m: \u001b[32m\u001b[41mERROR\u001b[0m     self._update_callback(record)\n",
      "\u001b[34m\u001b[1mwandb\u001b[0m: \u001b[32m\u001b[41mERROR\u001b[0m   File \"C:\\anaconda3\\envs\\jupyterenv\\lib\\site-packages\\wandb\\sdk\\wandb_run.py\", line 400, in wrapper_fn\n",
      "\u001b[34m\u001b[1mwandb\u001b[0m: \u001b[32m\u001b[41mERROR\u001b[0m     return func(self, *args, **kwargs)\n",
      "\u001b[34m\u001b[1mwandb\u001b[0m: \u001b[32m\u001b[41mERROR\u001b[0m   File \"C:\\anaconda3\\envs\\jupyterenv\\lib\\site-packages\\wandb\\sdk\\wandb_run.py\", line 1424, in _summary_update_callback\n",
      "\u001b[34m\u001b[1mwandb\u001b[0m: \u001b[32m\u001b[41mERROR\u001b[0m     self._backend.interface.publish_summary(summary_record)\n",
      "\u001b[34m\u001b[1mwandb\u001b[0m: \u001b[32m\u001b[41mERROR\u001b[0m   File \"C:\\anaconda3\\envs\\jupyterenv\\lib\\site-packages\\wandb\\sdk\\interface\\interface.py\", line 270, in publish_summary\n",
      "\u001b[34m\u001b[1mwandb\u001b[0m: \u001b[32m\u001b[41mERROR\u001b[0m     pb_summary_record = self._make_summary(summary_record)\n",
      "\u001b[34m\u001b[1mwandb\u001b[0m: \u001b[32m\u001b[41mERROR\u001b[0m   File \"C:\\anaconda3\\envs\\jupyterenv\\lib\\site-packages\\wandb\\sdk\\interface\\interface.py\", line 248, in _make_summary\n",
      "\u001b[34m\u001b[1mwandb\u001b[0m: \u001b[32m\u001b[41mERROR\u001b[0m     json_value = self._summary_encode(item.value, path_from_root)\n",
      "\u001b[34m\u001b[1mwandb\u001b[0m: \u001b[32m\u001b[41mERROR\u001b[0m   File \"C:\\anaconda3\\envs\\jupyterenv\\lib\\site-packages\\wandb\\sdk\\interface\\interface.py\", line 221, in _summary_encode\n",
      "\u001b[34m\u001b[1mwandb\u001b[0m: \u001b[32m\u001b[41mERROR\u001b[0m     val_to_json(self._run, path_from_root, value, namespace=\"summary\")\n",
      "\u001b[34m\u001b[1mwandb\u001b[0m: \u001b[32m\u001b[41mERROR\u001b[0m   File \"C:\\anaconda3\\envs\\jupyterenv\\lib\\site-packages\\wandb\\sdk\\data_types\\utils.py\", line 164, in val_to_json\n",
      "\u001b[34m\u001b[1mwandb\u001b[0m: \u001b[32m\u001b[41mERROR\u001b[0m     val.bind_to_run(run, key, namespace)\n",
      "\u001b[34m\u001b[1mwandb\u001b[0m: \u001b[32m\u001b[41mERROR\u001b[0m   File \"C:\\anaconda3\\envs\\jupyterenv\\lib\\site-packages\\wandb\\data_types.py\", line 1377, in bind_to_run\n",
      "\u001b[34m\u001b[1mwandb\u001b[0m: \u001b[32m\u001b[41mERROR\u001b[0m     with codecs.open(tmp_path, \"w\", encoding=\"utf-8\") as fp:\n",
      "\u001b[34m\u001b[1mwandb\u001b[0m: \u001b[32m\u001b[41mERROR\u001b[0m   File \"C:\\anaconda3\\envs\\jupyterenv\\lib\\codecs.py\", line 906, in open\n",
      "\u001b[34m\u001b[1mwandb\u001b[0m: \u001b[32m\u001b[41mERROR\u001b[0m     file = builtins.open(filename, mode, buffering)\n",
      "\u001b[34m\u001b[1mwandb\u001b[0m: \u001b[32m\u001b[41mERROR\u001b[0m FileNotFoundError: [Errno 2] No such file or directory: 'C:\\\\Users\\\\Addisu\\\\AppData\\\\Local\\\\Temp\\\\tmpbie7lvyxwandb-media\\\\pwf3cdkq.graph.json'\n",
      "\u001b[34m\u001b[1mwandb\u001b[0m: \u001b[32m\u001b[41mERROR\u001b[0m \n",
      "\u001b[34m\u001b[1mwandb\u001b[0m: Agent Starting Run: jednfwur with config:\n",
      "\u001b[34m\u001b[1mwandb\u001b[0m: \tbatch_size: 72\n",
      "\u001b[34m\u001b[1mwandb\u001b[0m: \tdense_activation: sigmoid\n",
      "\u001b[34m\u001b[1mwandb\u001b[0m: \tdropout: 0.1\n",
      "\u001b[34m\u001b[1mwandb\u001b[0m: \tepochs: 1\n",
      "\u001b[34m\u001b[1mwandb\u001b[0m: \tlearning_rate: 0.003532623427807542\n",
      "\u001b[34m\u001b[1mwandb\u001b[0m: \toptimizer: adam\n"
     ]
    },
    {
     "data": {
      "text/html": [
       "wandb version 0.17.2 is available!  To upgrade, please run:\n",
       " $ pip install wandb --upgrade"
      ],
      "text/plain": [
       "<IPython.core.display.HTML object>"
      ]
     },
     "metadata": {},
     "output_type": "display_data"
    },
    {
     "data": {
      "text/html": [
       "Tracking run with wandb version 0.17.0"
      ],
      "text/plain": [
       "<IPython.core.display.HTML object>"
      ]
     },
     "metadata": {},
     "output_type": "display_data"
    },
    {
     "data": {
      "text/html": [
       "Run data is saved locally in <code>C:\\Users\\Addisu\\Desktop\\kidi files\\Python workshop with ellen\\wandb\\run-20240621_153330-jednfwur</code>"
      ],
      "text/plain": [
       "<IPython.core.display.HTML object>"
      ]
     },
     "metadata": {},
     "output_type": "display_data"
    },
    {
     "data": {
      "text/html": [
       "Syncing run <strong><a href='https://wandb.ai/evapppp/sweeps-keras/runs/jednfwur' target=\"_blank\">fanciful-sweep-6</a></strong> to <a href='https://wandb.ai/evapppp/sweeps-keras' target=\"_blank\">Weights & Biases</a> (<a href='https://wandb.me/run' target=\"_blank\">docs</a>)<br/>Sweep page: <a href='https://wandb.ai/evapppp/sweeps-keras/sweeps/qu378scj' target=\"_blank\">https://wandb.ai/evapppp/sweeps-keras/sweeps/qu378scj</a>"
      ],
      "text/plain": [
       "<IPython.core.display.HTML object>"
      ]
     },
     "metadata": {},
     "output_type": "display_data"
    },
    {
     "data": {
      "text/html": [
       " View project at <a href='https://wandb.ai/evapppp/sweeps-keras' target=\"_blank\">https://wandb.ai/evapppp/sweeps-keras</a>"
      ],
      "text/plain": [
       "<IPython.core.display.HTML object>"
      ]
     },
     "metadata": {},
     "output_type": "display_data"
    },
    {
     "data": {
      "text/html": [
       " View sweep at <a href='https://wandb.ai/evapppp/sweeps-keras/sweeps/qu378scj' target=\"_blank\">https://wandb.ai/evapppp/sweeps-keras/sweeps/qu378scj</a>"
      ],
      "text/plain": [
       "<IPython.core.display.HTML object>"
      ]
     },
     "metadata": {},
     "output_type": "display_data"
    },
    {
     "data": {
      "text/html": [
       " View run at <a href='https://wandb.ai/evapppp/sweeps-keras/runs/jednfwur' target=\"_blank\">https://wandb.ai/evapppp/sweeps-keras/runs/jednfwur</a>"
      ],
      "text/plain": [
       "<IPython.core.display.HTML object>"
      ]
     },
     "metadata": {},
     "output_type": "display_data"
    },
    {
     "name": "stderr",
     "output_type": "stream",
     "text": [
      "Traceback (most recent call last):\n",
      "  File \"C:\\Users\\Addisu\\AppData\\Local\\Temp\\ipykernel_74596\\2644847777.py\", line 221, in sweep_train\n",
      "    train(model,\n",
      "  File \"C:\\Users\\Addisu\\AppData\\Local\\Temp\\ipykernel_74596\\2644847777.py\", line 151, in train\n",
      "    model.fit(X_train,\n",
      "  File \"C:\\anaconda3\\envs\\jupyterenv\\lib\\site-packages\\keras\\src\\utils\\traceback_utils.py\", line 70, in error_handler\n",
      "    raise e.with_traceback(filtered_tb) from None\n",
      "  File \"C:\\anaconda3\\envs\\jupyterenv\\lib\\site-packages\\wandb\\integration\\keras\\keras.py\", line 656, in on_train_batch_end\n",
      "    wandb.run.summary[\"graph\"] = wandb.Graph.from_keras(self.model)\n",
      "  File \"C:\\anaconda3\\envs\\jupyterenv\\lib\\site-packages\\wandb\\sdk\\wandb_summary.py\", line 52, in __setitem__\n",
      "    self.update({key: val})\n",
      "  File \"C:\\anaconda3\\envs\\jupyterenv\\lib\\site-packages\\wandb\\sdk\\wandb_summary.py\", line 74, in update\n",
      "    self._update(record)\n",
      "  File \"C:\\anaconda3\\envs\\jupyterenv\\lib\\site-packages\\wandb\\sdk\\wandb_summary.py\", line 128, in _update\n",
      "    self._update_callback(record)\n",
      "  File \"C:\\anaconda3\\envs\\jupyterenv\\lib\\site-packages\\wandb\\sdk\\wandb_run.py\", line 400, in wrapper_fn\n",
      "    return func(self, *args, **kwargs)\n",
      "  File \"C:\\anaconda3\\envs\\jupyterenv\\lib\\site-packages\\wandb\\sdk\\wandb_run.py\", line 1424, in _summary_update_callback\n",
      "    self._backend.interface.publish_summary(summary_record)\n",
      "  File \"C:\\anaconda3\\envs\\jupyterenv\\lib\\site-packages\\wandb\\sdk\\interface\\interface.py\", line 270, in publish_summary\n",
      "    pb_summary_record = self._make_summary(summary_record)\n",
      "  File \"C:\\anaconda3\\envs\\jupyterenv\\lib\\site-packages\\wandb\\sdk\\interface\\interface.py\", line 248, in _make_summary\n",
      "    json_value = self._summary_encode(item.value, path_from_root)\n",
      "  File \"C:\\anaconda3\\envs\\jupyterenv\\lib\\site-packages\\wandb\\sdk\\interface\\interface.py\", line 221, in _summary_encode\n",
      "    val_to_json(self._run, path_from_root, value, namespace=\"summary\")\n",
      "  File \"C:\\anaconda3\\envs\\jupyterenv\\lib\\site-packages\\wandb\\sdk\\data_types\\utils.py\", line 164, in val_to_json\n",
      "    val.bind_to_run(run, key, namespace)\n",
      "  File \"C:\\anaconda3\\envs\\jupyterenv\\lib\\site-packages\\wandb\\data_types.py\", line 1377, in bind_to_run\n",
      "    with codecs.open(tmp_path, \"w\", encoding=\"utf-8\") as fp:\n",
      "  File \"C:\\anaconda3\\envs\\jupyterenv\\lib\\codecs.py\", line 906, in open\n",
      "    file = builtins.open(filename, mode, buffering)\n",
      "FileNotFoundError: [Errno 2] No such file or directory: 'C:\\\\Users\\\\Addisu\\\\AppData\\\\Local\\\\Temp\\\\tmpbie7lvyxwandb-media\\\\i038t5wq.graph.json'\n"
     ]
    },
    {
     "data": {
      "text/html": [
       " View run <strong style=\"color:#cdcd00\">fanciful-sweep-6</strong> at: <a href='https://wandb.ai/evapppp/sweeps-keras/runs/jednfwur' target=\"_blank\">https://wandb.ai/evapppp/sweeps-keras/runs/jednfwur</a><br/> View project at: <a href='https://wandb.ai/evapppp/sweeps-keras' target=\"_blank\">https://wandb.ai/evapppp/sweeps-keras</a><br/>Synced 5 W&B file(s), 0 media file(s), 0 artifact file(s) and 0 other file(s)"
      ],
      "text/plain": [
       "<IPython.core.display.HTML object>"
      ]
     },
     "metadata": {},
     "output_type": "display_data"
    },
    {
     "data": {
      "text/html": [
       "Find logs at: <code>.\\wandb\\run-20240621_153330-jednfwur\\logs</code>"
      ],
      "text/plain": [
       "<IPython.core.display.HTML object>"
      ]
     },
     "metadata": {},
     "output_type": "display_data"
    },
    {
     "name": "stderr",
     "output_type": "stream",
     "text": [
      "Run jednfwur errored:\n",
      "Traceback (most recent call last):\n",
      "  File \"C:\\anaconda3\\envs\\jupyterenv\\lib\\site-packages\\wandb\\agents\\pyagent.py\", line 307, in _run_job\n",
      "    self._function()\n",
      "  File \"C:\\Users\\Addisu\\AppData\\Local\\Temp\\ipykernel_74596\\2644847777.py\", line 221, in sweep_train\n",
      "    train(model,\n",
      "  File \"C:\\Users\\Addisu\\AppData\\Local\\Temp\\ipykernel_74596\\2644847777.py\", line 151, in train\n",
      "    model.fit(X_train,\n",
      "  File \"C:\\anaconda3\\envs\\jupyterenv\\lib\\site-packages\\keras\\src\\utils\\traceback_utils.py\", line 70, in error_handler\n",
      "    raise e.with_traceback(filtered_tb) from None\n",
      "  File \"C:\\anaconda3\\envs\\jupyterenv\\lib\\site-packages\\wandb\\integration\\keras\\keras.py\", line 656, in on_train_batch_end\n",
      "    wandb.run.summary[\"graph\"] = wandb.Graph.from_keras(self.model)\n",
      "  File \"C:\\anaconda3\\envs\\jupyterenv\\lib\\site-packages\\wandb\\sdk\\wandb_summary.py\", line 52, in __setitem__\n",
      "    self.update({key: val})\n",
      "  File \"C:\\anaconda3\\envs\\jupyterenv\\lib\\site-packages\\wandb\\sdk\\wandb_summary.py\", line 74, in update\n",
      "    self._update(record)\n",
      "  File \"C:\\anaconda3\\envs\\jupyterenv\\lib\\site-packages\\wandb\\sdk\\wandb_summary.py\", line 128, in _update\n",
      "    self._update_callback(record)\n",
      "  File \"C:\\anaconda3\\envs\\jupyterenv\\lib\\site-packages\\wandb\\sdk\\wandb_run.py\", line 400, in wrapper_fn\n",
      "    return func(self, *args, **kwargs)\n",
      "  File \"C:\\anaconda3\\envs\\jupyterenv\\lib\\site-packages\\wandb\\sdk\\wandb_run.py\", line 1424, in _summary_update_callback\n",
      "    self._backend.interface.publish_summary(summary_record)\n",
      "  File \"C:\\anaconda3\\envs\\jupyterenv\\lib\\site-packages\\wandb\\sdk\\interface\\interface.py\", line 270, in publish_summary\n",
      "    pb_summary_record = self._make_summary(summary_record)\n",
      "  File \"C:\\anaconda3\\envs\\jupyterenv\\lib\\site-packages\\wandb\\sdk\\interface\\interface.py\", line 248, in _make_summary\n",
      "    json_value = self._summary_encode(item.value, path_from_root)\n",
      "  File \"C:\\anaconda3\\envs\\jupyterenv\\lib\\site-packages\\wandb\\sdk\\interface\\interface.py\", line 221, in _summary_encode\n",
      "    val_to_json(self._run, path_from_root, value, namespace=\"summary\")\n",
      "  File \"C:\\anaconda3\\envs\\jupyterenv\\lib\\site-packages\\wandb\\sdk\\data_types\\utils.py\", line 164, in val_to_json\n",
      "    val.bind_to_run(run, key, namespace)\n",
      "  File \"C:\\anaconda3\\envs\\jupyterenv\\lib\\site-packages\\wandb\\data_types.py\", line 1377, in bind_to_run\n",
      "    with codecs.open(tmp_path, \"w\", encoding=\"utf-8\") as fp:\n",
      "  File \"C:\\anaconda3\\envs\\jupyterenv\\lib\\codecs.py\", line 906, in open\n",
      "    file = builtins.open(filename, mode, buffering)\n",
      "FileNotFoundError: [Errno 2] No such file or directory: 'C:\\\\Users\\\\Addisu\\\\AppData\\\\Local\\\\Temp\\\\tmpbie7lvyxwandb-media\\\\i038t5wq.graph.json'\n",
      "\n",
      "\u001b[34m\u001b[1mwandb\u001b[0m: \u001b[32m\u001b[41mERROR\u001b[0m Run jednfwur errored:\n",
      "\u001b[34m\u001b[1mwandb\u001b[0m: \u001b[32m\u001b[41mERROR\u001b[0m Traceback (most recent call last):\n",
      "\u001b[34m\u001b[1mwandb\u001b[0m: \u001b[32m\u001b[41mERROR\u001b[0m   File \"C:\\anaconda3\\envs\\jupyterenv\\lib\\site-packages\\wandb\\agents\\pyagent.py\", line 307, in _run_job\n",
      "\u001b[34m\u001b[1mwandb\u001b[0m: \u001b[32m\u001b[41mERROR\u001b[0m     self._function()\n",
      "\u001b[34m\u001b[1mwandb\u001b[0m: \u001b[32m\u001b[41mERROR\u001b[0m   File \"C:\\Users\\Addisu\\AppData\\Local\\Temp\\ipykernel_74596\\2644847777.py\", line 221, in sweep_train\n",
      "\u001b[34m\u001b[1mwandb\u001b[0m: \u001b[32m\u001b[41mERROR\u001b[0m     train(model,\n",
      "\u001b[34m\u001b[1mwandb\u001b[0m: \u001b[32m\u001b[41mERROR\u001b[0m   File \"C:\\Users\\Addisu\\AppData\\Local\\Temp\\ipykernel_74596\\2644847777.py\", line 151, in train\n",
      "\u001b[34m\u001b[1mwandb\u001b[0m: \u001b[32m\u001b[41mERROR\u001b[0m     model.fit(X_train,\n",
      "\u001b[34m\u001b[1mwandb\u001b[0m: \u001b[32m\u001b[41mERROR\u001b[0m   File \"C:\\anaconda3\\envs\\jupyterenv\\lib\\site-packages\\keras\\src\\utils\\traceback_utils.py\", line 70, in error_handler\n",
      "\u001b[34m\u001b[1mwandb\u001b[0m: \u001b[32m\u001b[41mERROR\u001b[0m     raise e.with_traceback(filtered_tb) from None\n",
      "\u001b[34m\u001b[1mwandb\u001b[0m: \u001b[32m\u001b[41mERROR\u001b[0m   File \"C:\\anaconda3\\envs\\jupyterenv\\lib\\site-packages\\wandb\\integration\\keras\\keras.py\", line 656, in on_train_batch_end\n",
      "\u001b[34m\u001b[1mwandb\u001b[0m: \u001b[32m\u001b[41mERROR\u001b[0m     wandb.run.summary[\"graph\"] = wandb.Graph.from_keras(self.model)\n",
      "\u001b[34m\u001b[1mwandb\u001b[0m: \u001b[32m\u001b[41mERROR\u001b[0m   File \"C:\\anaconda3\\envs\\jupyterenv\\lib\\site-packages\\wandb\\sdk\\wandb_summary.py\", line 52, in __setitem__\n",
      "\u001b[34m\u001b[1mwandb\u001b[0m: \u001b[32m\u001b[41mERROR\u001b[0m     self.update({key: val})\n",
      "\u001b[34m\u001b[1mwandb\u001b[0m: \u001b[32m\u001b[41mERROR\u001b[0m   File \"C:\\anaconda3\\envs\\jupyterenv\\lib\\site-packages\\wandb\\sdk\\wandb_summary.py\", line 74, in update\n",
      "\u001b[34m\u001b[1mwandb\u001b[0m: \u001b[32m\u001b[41mERROR\u001b[0m     self._update(record)\n",
      "\u001b[34m\u001b[1mwandb\u001b[0m: \u001b[32m\u001b[41mERROR\u001b[0m   File \"C:\\anaconda3\\envs\\jupyterenv\\lib\\site-packages\\wandb\\sdk\\wandb_summary.py\", line 128, in _update\n",
      "\u001b[34m\u001b[1mwandb\u001b[0m: \u001b[32m\u001b[41mERROR\u001b[0m     self._update_callback(record)\n",
      "\u001b[34m\u001b[1mwandb\u001b[0m: \u001b[32m\u001b[41mERROR\u001b[0m   File \"C:\\anaconda3\\envs\\jupyterenv\\lib\\site-packages\\wandb\\sdk\\wandb_run.py\", line 400, in wrapper_fn\n",
      "\u001b[34m\u001b[1mwandb\u001b[0m: \u001b[32m\u001b[41mERROR\u001b[0m     return func(self, *args, **kwargs)\n",
      "\u001b[34m\u001b[1mwandb\u001b[0m: \u001b[32m\u001b[41mERROR\u001b[0m   File \"C:\\anaconda3\\envs\\jupyterenv\\lib\\site-packages\\wandb\\sdk\\wandb_run.py\", line 1424, in _summary_update_callback\n",
      "\u001b[34m\u001b[1mwandb\u001b[0m: \u001b[32m\u001b[41mERROR\u001b[0m     self._backend.interface.publish_summary(summary_record)\n",
      "\u001b[34m\u001b[1mwandb\u001b[0m: \u001b[32m\u001b[41mERROR\u001b[0m   File \"C:\\anaconda3\\envs\\jupyterenv\\lib\\site-packages\\wandb\\sdk\\interface\\interface.py\", line 270, in publish_summary\n",
      "\u001b[34m\u001b[1mwandb\u001b[0m: \u001b[32m\u001b[41mERROR\u001b[0m     pb_summary_record = self._make_summary(summary_record)\n",
      "\u001b[34m\u001b[1mwandb\u001b[0m: \u001b[32m\u001b[41mERROR\u001b[0m   File \"C:\\anaconda3\\envs\\jupyterenv\\lib\\site-packages\\wandb\\sdk\\interface\\interface.py\", line 248, in _make_summary\n",
      "\u001b[34m\u001b[1mwandb\u001b[0m: \u001b[32m\u001b[41mERROR\u001b[0m     json_value = self._summary_encode(item.value, path_from_root)\n",
      "\u001b[34m\u001b[1mwandb\u001b[0m: \u001b[32m\u001b[41mERROR\u001b[0m   File \"C:\\anaconda3\\envs\\jupyterenv\\lib\\site-packages\\wandb\\sdk\\interface\\interface.py\", line 221, in _summary_encode\n",
      "\u001b[34m\u001b[1mwandb\u001b[0m: \u001b[32m\u001b[41mERROR\u001b[0m     val_to_json(self._run, path_from_root, value, namespace=\"summary\")\n",
      "\u001b[34m\u001b[1mwandb\u001b[0m: \u001b[32m\u001b[41mERROR\u001b[0m   File \"C:\\anaconda3\\envs\\jupyterenv\\lib\\site-packages\\wandb\\sdk\\data_types\\utils.py\", line 164, in val_to_json\n",
      "\u001b[34m\u001b[1mwandb\u001b[0m: \u001b[32m\u001b[41mERROR\u001b[0m     val.bind_to_run(run, key, namespace)\n",
      "\u001b[34m\u001b[1mwandb\u001b[0m: \u001b[32m\u001b[41mERROR\u001b[0m   File \"C:\\anaconda3\\envs\\jupyterenv\\lib\\site-packages\\wandb\\data_types.py\", line 1377, in bind_to_run\n",
      "\u001b[34m\u001b[1mwandb\u001b[0m: \u001b[32m\u001b[41mERROR\u001b[0m     with codecs.open(tmp_path, \"w\", encoding=\"utf-8\") as fp:\n",
      "\u001b[34m\u001b[1mwandb\u001b[0m: \u001b[32m\u001b[41mERROR\u001b[0m   File \"C:\\anaconda3\\envs\\jupyterenv\\lib\\codecs.py\", line 906, in open\n",
      "\u001b[34m\u001b[1mwandb\u001b[0m: \u001b[32m\u001b[41mERROR\u001b[0m     file = builtins.open(filename, mode, buffering)\n",
      "\u001b[34m\u001b[1mwandb\u001b[0m: \u001b[32m\u001b[41mERROR\u001b[0m FileNotFoundError: [Errno 2] No such file or directory: 'C:\\\\Users\\\\Addisu\\\\AppData\\\\Local\\\\Temp\\\\tmpbie7lvyxwandb-media\\\\i038t5wq.graph.json'\n",
      "\u001b[34m\u001b[1mwandb\u001b[0m: \u001b[32m\u001b[41mERROR\u001b[0m \n",
      "\u001b[34m\u001b[1mwandb\u001b[0m: Agent Starting Run: n7yhvhnm with config:\n",
      "\u001b[34m\u001b[1mwandb\u001b[0m: \tbatch_size: 48\n",
      "\u001b[34m\u001b[1mwandb\u001b[0m: \tdense_activation: relu\n",
      "\u001b[34m\u001b[1mwandb\u001b[0m: \tdropout: 0.3\n",
      "\u001b[34m\u001b[1mwandb\u001b[0m: \tepochs: 1\n",
      "\u001b[34m\u001b[1mwandb\u001b[0m: \tlearning_rate: 0.004411656826367953\n",
      "\u001b[34m\u001b[1mwandb\u001b[0m: \toptimizer: sgd\n"
     ]
    },
    {
     "data": {
      "text/html": [
       "wandb version 0.17.2 is available!  To upgrade, please run:\n",
       " $ pip install wandb --upgrade"
      ],
      "text/plain": [
       "<IPython.core.display.HTML object>"
      ]
     },
     "metadata": {},
     "output_type": "display_data"
    },
    {
     "data": {
      "text/html": [
       "Tracking run with wandb version 0.17.0"
      ],
      "text/plain": [
       "<IPython.core.display.HTML object>"
      ]
     },
     "metadata": {},
     "output_type": "display_data"
    },
    {
     "data": {
      "text/html": [
       "Run data is saved locally in <code>C:\\Users\\Addisu\\Desktop\\kidi files\\Python workshop with ellen\\wandb\\run-20240621_153356-n7yhvhnm</code>"
      ],
      "text/plain": [
       "<IPython.core.display.HTML object>"
      ]
     },
     "metadata": {},
     "output_type": "display_data"
    },
    {
     "data": {
      "text/html": [
       "Syncing run <strong><a href='https://wandb.ai/evapppp/sweeps-keras/runs/n7yhvhnm' target=\"_blank\">earthy-sweep-7</a></strong> to <a href='https://wandb.ai/evapppp/sweeps-keras' target=\"_blank\">Weights & Biases</a> (<a href='https://wandb.me/run' target=\"_blank\">docs</a>)<br/>Sweep page: <a href='https://wandb.ai/evapppp/sweeps-keras/sweeps/qu378scj' target=\"_blank\">https://wandb.ai/evapppp/sweeps-keras/sweeps/qu378scj</a>"
      ],
      "text/plain": [
       "<IPython.core.display.HTML object>"
      ]
     },
     "metadata": {},
     "output_type": "display_data"
    },
    {
     "data": {
      "text/html": [
       " View project at <a href='https://wandb.ai/evapppp/sweeps-keras' target=\"_blank\">https://wandb.ai/evapppp/sweeps-keras</a>"
      ],
      "text/plain": [
       "<IPython.core.display.HTML object>"
      ]
     },
     "metadata": {},
     "output_type": "display_data"
    },
    {
     "data": {
      "text/html": [
       " View sweep at <a href='https://wandb.ai/evapppp/sweeps-keras/sweeps/qu378scj' target=\"_blank\">https://wandb.ai/evapppp/sweeps-keras/sweeps/qu378scj</a>"
      ],
      "text/plain": [
       "<IPython.core.display.HTML object>"
      ]
     },
     "metadata": {},
     "output_type": "display_data"
    },
    {
     "data": {
      "text/html": [
       " View run at <a href='https://wandb.ai/evapppp/sweeps-keras/runs/n7yhvhnm' target=\"_blank\">https://wandb.ai/evapppp/sweeps-keras/runs/n7yhvhnm</a>"
      ],
      "text/plain": [
       "<IPython.core.display.HTML object>"
      ]
     },
     "metadata": {},
     "output_type": "display_data"
    },
    {
     "name": "stdout",
     "output_type": "stream",
     "text": [
      "WARNING:tensorflow:5 out of the last 80 calls to <function Model.make_train_function.<locals>.train_function at 0x0000015273538940> triggered tf.function retracing. Tracing is expensive and the excessive number of tracings could be due to (1) creating @tf.function repeatedly in a loop, (2) passing tensors with different shapes, (3) passing Python objects instead of tensors. For (1), please define your @tf.function outside of the loop. For (2), @tf.function has reduce_retracing=True option that can avoid unnecessary retracing. For (3), please refer to https://www.tensorflow.org/guide/function#controlling_retracing and https://www.tensorflow.org/api_docs/python/tf/function for  more details.\n"
     ]
    },
    {
     "name": "stderr",
     "output_type": "stream",
     "text": [
      "WARNING:tensorflow:5 out of the last 80 calls to <function Model.make_train_function.<locals>.train_function at 0x0000015273538940> triggered tf.function retracing. Tracing is expensive and the excessive number of tracings could be due to (1) creating @tf.function repeatedly in a loop, (2) passing tensors with different shapes, (3) passing Python objects instead of tensors. For (1), please define your @tf.function outside of the loop. For (2), @tf.function has reduce_retracing=True option that can avoid unnecessary retracing. For (3), please refer to https://www.tensorflow.org/guide/function#controlling_retracing and https://www.tensorflow.org/api_docs/python/tf/function for  more details.\n",
      "Traceback (most recent call last):\n",
      "  File \"C:\\Users\\Addisu\\AppData\\Local\\Temp\\ipykernel_74596\\2644847777.py\", line 221, in sweep_train\n",
      "    train(model,\n",
      "  File \"C:\\Users\\Addisu\\AppData\\Local\\Temp\\ipykernel_74596\\2644847777.py\", line 151, in train\n",
      "    model.fit(X_train,\n",
      "  File \"C:\\anaconda3\\envs\\jupyterenv\\lib\\site-packages\\keras\\src\\utils\\traceback_utils.py\", line 70, in error_handler\n",
      "    raise e.with_traceback(filtered_tb) from None\n",
      "  File \"C:\\anaconda3\\envs\\jupyterenv\\lib\\site-packages\\wandb\\integration\\keras\\keras.py\", line 656, in on_train_batch_end\n",
      "    wandb.run.summary[\"graph\"] = wandb.Graph.from_keras(self.model)\n",
      "  File \"C:\\anaconda3\\envs\\jupyterenv\\lib\\site-packages\\wandb\\sdk\\wandb_summary.py\", line 52, in __setitem__\n",
      "    self.update({key: val})\n",
      "  File \"C:\\anaconda3\\envs\\jupyterenv\\lib\\site-packages\\wandb\\sdk\\wandb_summary.py\", line 74, in update\n",
      "    self._update(record)\n",
      "  File \"C:\\anaconda3\\envs\\jupyterenv\\lib\\site-packages\\wandb\\sdk\\wandb_summary.py\", line 128, in _update\n",
      "    self._update_callback(record)\n",
      "  File \"C:\\anaconda3\\envs\\jupyterenv\\lib\\site-packages\\wandb\\sdk\\wandb_run.py\", line 400, in wrapper_fn\n",
      "    return func(self, *args, **kwargs)\n",
      "  File \"C:\\anaconda3\\envs\\jupyterenv\\lib\\site-packages\\wandb\\sdk\\wandb_run.py\", line 1424, in _summary_update_callback\n",
      "    self._backend.interface.publish_summary(summary_record)\n",
      "  File \"C:\\anaconda3\\envs\\jupyterenv\\lib\\site-packages\\wandb\\sdk\\interface\\interface.py\", line 270, in publish_summary\n",
      "    pb_summary_record = self._make_summary(summary_record)\n",
      "  File \"C:\\anaconda3\\envs\\jupyterenv\\lib\\site-packages\\wandb\\sdk\\interface\\interface.py\", line 248, in _make_summary\n",
      "    json_value = self._summary_encode(item.value, path_from_root)\n",
      "  File \"C:\\anaconda3\\envs\\jupyterenv\\lib\\site-packages\\wandb\\sdk\\interface\\interface.py\", line 221, in _summary_encode\n",
      "    val_to_json(self._run, path_from_root, value, namespace=\"summary\")\n",
      "  File \"C:\\anaconda3\\envs\\jupyterenv\\lib\\site-packages\\wandb\\sdk\\data_types\\utils.py\", line 164, in val_to_json\n",
      "    val.bind_to_run(run, key, namespace)\n",
      "  File \"C:\\anaconda3\\envs\\jupyterenv\\lib\\site-packages\\wandb\\data_types.py\", line 1377, in bind_to_run\n",
      "    with codecs.open(tmp_path, \"w\", encoding=\"utf-8\") as fp:\n",
      "  File \"C:\\anaconda3\\envs\\jupyterenv\\lib\\codecs.py\", line 906, in open\n",
      "    file = builtins.open(filename, mode, buffering)\n",
      "FileNotFoundError: [Errno 2] No such file or directory: 'C:\\\\Users\\\\Addisu\\\\AppData\\\\Local\\\\Temp\\\\tmpbie7lvyxwandb-media\\\\d36guzum.graph.json'\n"
     ]
    },
    {
     "data": {
      "text/html": [
       " View run <strong style=\"color:#cdcd00\">earthy-sweep-7</strong> at: <a href='https://wandb.ai/evapppp/sweeps-keras/runs/n7yhvhnm' target=\"_blank\">https://wandb.ai/evapppp/sweeps-keras/runs/n7yhvhnm</a><br/> View project at: <a href='https://wandb.ai/evapppp/sweeps-keras' target=\"_blank\">https://wandb.ai/evapppp/sweeps-keras</a><br/>Synced 5 W&B file(s), 0 media file(s), 0 artifact file(s) and 0 other file(s)"
      ],
      "text/plain": [
       "<IPython.core.display.HTML object>"
      ]
     },
     "metadata": {},
     "output_type": "display_data"
    },
    {
     "data": {
      "text/html": [
       "Find logs at: <code>.\\wandb\\run-20240621_153356-n7yhvhnm\\logs</code>"
      ],
      "text/plain": [
       "<IPython.core.display.HTML object>"
      ]
     },
     "metadata": {},
     "output_type": "display_data"
    },
    {
     "name": "stderr",
     "output_type": "stream",
     "text": [
      "Run n7yhvhnm errored:\n",
      "Traceback (most recent call last):\n",
      "  File \"C:\\anaconda3\\envs\\jupyterenv\\lib\\site-packages\\wandb\\agents\\pyagent.py\", line 307, in _run_job\n",
      "    self._function()\n",
      "  File \"C:\\Users\\Addisu\\AppData\\Local\\Temp\\ipykernel_74596\\2644847777.py\", line 221, in sweep_train\n",
      "    train(model,\n",
      "  File \"C:\\Users\\Addisu\\AppData\\Local\\Temp\\ipykernel_74596\\2644847777.py\", line 151, in train\n",
      "    model.fit(X_train,\n",
      "  File \"C:\\anaconda3\\envs\\jupyterenv\\lib\\site-packages\\keras\\src\\utils\\traceback_utils.py\", line 70, in error_handler\n",
      "    raise e.with_traceback(filtered_tb) from None\n",
      "  File \"C:\\anaconda3\\envs\\jupyterenv\\lib\\site-packages\\wandb\\integration\\keras\\keras.py\", line 656, in on_train_batch_end\n",
      "    wandb.run.summary[\"graph\"] = wandb.Graph.from_keras(self.model)\n",
      "  File \"C:\\anaconda3\\envs\\jupyterenv\\lib\\site-packages\\wandb\\sdk\\wandb_summary.py\", line 52, in __setitem__\n",
      "    self.update({key: val})\n",
      "  File \"C:\\anaconda3\\envs\\jupyterenv\\lib\\site-packages\\wandb\\sdk\\wandb_summary.py\", line 74, in update\n",
      "    self._update(record)\n",
      "  File \"C:\\anaconda3\\envs\\jupyterenv\\lib\\site-packages\\wandb\\sdk\\wandb_summary.py\", line 128, in _update\n",
      "    self._update_callback(record)\n",
      "  File \"C:\\anaconda3\\envs\\jupyterenv\\lib\\site-packages\\wandb\\sdk\\wandb_run.py\", line 400, in wrapper_fn\n",
      "    return func(self, *args, **kwargs)\n",
      "  File \"C:\\anaconda3\\envs\\jupyterenv\\lib\\site-packages\\wandb\\sdk\\wandb_run.py\", line 1424, in _summary_update_callback\n",
      "    self._backend.interface.publish_summary(summary_record)\n",
      "  File \"C:\\anaconda3\\envs\\jupyterenv\\lib\\site-packages\\wandb\\sdk\\interface\\interface.py\", line 270, in publish_summary\n",
      "    pb_summary_record = self._make_summary(summary_record)\n",
      "  File \"C:\\anaconda3\\envs\\jupyterenv\\lib\\site-packages\\wandb\\sdk\\interface\\interface.py\", line 248, in _make_summary\n",
      "    json_value = self._summary_encode(item.value, path_from_root)\n",
      "  File \"C:\\anaconda3\\envs\\jupyterenv\\lib\\site-packages\\wandb\\sdk\\interface\\interface.py\", line 221, in _summary_encode\n",
      "    val_to_json(self._run, path_from_root, value, namespace=\"summary\")\n",
      "  File \"C:\\anaconda3\\envs\\jupyterenv\\lib\\site-packages\\wandb\\sdk\\data_types\\utils.py\", line 164, in val_to_json\n",
      "    val.bind_to_run(run, key, namespace)\n",
      "  File \"C:\\anaconda3\\envs\\jupyterenv\\lib\\site-packages\\wandb\\data_types.py\", line 1377, in bind_to_run\n",
      "    with codecs.open(tmp_path, \"w\", encoding=\"utf-8\") as fp:\n",
      "  File \"C:\\anaconda3\\envs\\jupyterenv\\lib\\codecs.py\", line 906, in open\n",
      "    file = builtins.open(filename, mode, buffering)\n",
      "FileNotFoundError: [Errno 2] No such file or directory: 'C:\\\\Users\\\\Addisu\\\\AppData\\\\Local\\\\Temp\\\\tmpbie7lvyxwandb-media\\\\d36guzum.graph.json'\n",
      "\n",
      "\u001b[34m\u001b[1mwandb\u001b[0m: \u001b[32m\u001b[41mERROR\u001b[0m Run n7yhvhnm errored:\n",
      "\u001b[34m\u001b[1mwandb\u001b[0m: \u001b[32m\u001b[41mERROR\u001b[0m Traceback (most recent call last):\n",
      "\u001b[34m\u001b[1mwandb\u001b[0m: \u001b[32m\u001b[41mERROR\u001b[0m   File \"C:\\anaconda3\\envs\\jupyterenv\\lib\\site-packages\\wandb\\agents\\pyagent.py\", line 307, in _run_job\n",
      "\u001b[34m\u001b[1mwandb\u001b[0m: \u001b[32m\u001b[41mERROR\u001b[0m     self._function()\n",
      "\u001b[34m\u001b[1mwandb\u001b[0m: \u001b[32m\u001b[41mERROR\u001b[0m   File \"C:\\Users\\Addisu\\AppData\\Local\\Temp\\ipykernel_74596\\2644847777.py\", line 221, in sweep_train\n",
      "\u001b[34m\u001b[1mwandb\u001b[0m: \u001b[32m\u001b[41mERROR\u001b[0m     train(model,\n",
      "\u001b[34m\u001b[1mwandb\u001b[0m: \u001b[32m\u001b[41mERROR\u001b[0m   File \"C:\\Users\\Addisu\\AppData\\Local\\Temp\\ipykernel_74596\\2644847777.py\", line 151, in train\n",
      "\u001b[34m\u001b[1mwandb\u001b[0m: \u001b[32m\u001b[41mERROR\u001b[0m     model.fit(X_train,\n",
      "\u001b[34m\u001b[1mwandb\u001b[0m: \u001b[32m\u001b[41mERROR\u001b[0m   File \"C:\\anaconda3\\envs\\jupyterenv\\lib\\site-packages\\keras\\src\\utils\\traceback_utils.py\", line 70, in error_handler\n",
      "\u001b[34m\u001b[1mwandb\u001b[0m: \u001b[32m\u001b[41mERROR\u001b[0m     raise e.with_traceback(filtered_tb) from None\n",
      "\u001b[34m\u001b[1mwandb\u001b[0m: \u001b[32m\u001b[41mERROR\u001b[0m   File \"C:\\anaconda3\\envs\\jupyterenv\\lib\\site-packages\\wandb\\integration\\keras\\keras.py\", line 656, in on_train_batch_end\n",
      "\u001b[34m\u001b[1mwandb\u001b[0m: \u001b[32m\u001b[41mERROR\u001b[0m     wandb.run.summary[\"graph\"] = wandb.Graph.from_keras(self.model)\n",
      "\u001b[34m\u001b[1mwandb\u001b[0m: \u001b[32m\u001b[41mERROR\u001b[0m   File \"C:\\anaconda3\\envs\\jupyterenv\\lib\\site-packages\\wandb\\sdk\\wandb_summary.py\", line 52, in __setitem__\n",
      "\u001b[34m\u001b[1mwandb\u001b[0m: \u001b[32m\u001b[41mERROR\u001b[0m     self.update({key: val})\n",
      "\u001b[34m\u001b[1mwandb\u001b[0m: \u001b[32m\u001b[41mERROR\u001b[0m   File \"C:\\anaconda3\\envs\\jupyterenv\\lib\\site-packages\\wandb\\sdk\\wandb_summary.py\", line 74, in update\n",
      "\u001b[34m\u001b[1mwandb\u001b[0m: \u001b[32m\u001b[41mERROR\u001b[0m     self._update(record)\n",
      "\u001b[34m\u001b[1mwandb\u001b[0m: \u001b[32m\u001b[41mERROR\u001b[0m   File \"C:\\anaconda3\\envs\\jupyterenv\\lib\\site-packages\\wandb\\sdk\\wandb_summary.py\", line 128, in _update\n",
      "\u001b[34m\u001b[1mwandb\u001b[0m: \u001b[32m\u001b[41mERROR\u001b[0m     self._update_callback(record)\n",
      "\u001b[34m\u001b[1mwandb\u001b[0m: \u001b[32m\u001b[41mERROR\u001b[0m   File \"C:\\anaconda3\\envs\\jupyterenv\\lib\\site-packages\\wandb\\sdk\\wandb_run.py\", line 400, in wrapper_fn\n",
      "\u001b[34m\u001b[1mwandb\u001b[0m: \u001b[32m\u001b[41mERROR\u001b[0m     return func(self, *args, **kwargs)\n",
      "\u001b[34m\u001b[1mwandb\u001b[0m: \u001b[32m\u001b[41mERROR\u001b[0m   File \"C:\\anaconda3\\envs\\jupyterenv\\lib\\site-packages\\wandb\\sdk\\wandb_run.py\", line 1424, in _summary_update_callback\n",
      "\u001b[34m\u001b[1mwandb\u001b[0m: \u001b[32m\u001b[41mERROR\u001b[0m     self._backend.interface.publish_summary(summary_record)\n",
      "\u001b[34m\u001b[1mwandb\u001b[0m: \u001b[32m\u001b[41mERROR\u001b[0m   File \"C:\\anaconda3\\envs\\jupyterenv\\lib\\site-packages\\wandb\\sdk\\interface\\interface.py\", line 270, in publish_summary\n",
      "\u001b[34m\u001b[1mwandb\u001b[0m: \u001b[32m\u001b[41mERROR\u001b[0m     pb_summary_record = self._make_summary(summary_record)\n",
      "\u001b[34m\u001b[1mwandb\u001b[0m: \u001b[32m\u001b[41mERROR\u001b[0m   File \"C:\\anaconda3\\envs\\jupyterenv\\lib\\site-packages\\wandb\\sdk\\interface\\interface.py\", line 248, in _make_summary\n",
      "\u001b[34m\u001b[1mwandb\u001b[0m: \u001b[32m\u001b[41mERROR\u001b[0m     json_value = self._summary_encode(item.value, path_from_root)\n",
      "\u001b[34m\u001b[1mwandb\u001b[0m: \u001b[32m\u001b[41mERROR\u001b[0m   File \"C:\\anaconda3\\envs\\jupyterenv\\lib\\site-packages\\wandb\\sdk\\interface\\interface.py\", line 221, in _summary_encode\n",
      "\u001b[34m\u001b[1mwandb\u001b[0m: \u001b[32m\u001b[41mERROR\u001b[0m     val_to_json(self._run, path_from_root, value, namespace=\"summary\")\n",
      "\u001b[34m\u001b[1mwandb\u001b[0m: \u001b[32m\u001b[41mERROR\u001b[0m   File \"C:\\anaconda3\\envs\\jupyterenv\\lib\\site-packages\\wandb\\sdk\\data_types\\utils.py\", line 164, in val_to_json\n",
      "\u001b[34m\u001b[1mwandb\u001b[0m: \u001b[32m\u001b[41mERROR\u001b[0m     val.bind_to_run(run, key, namespace)\n",
      "\u001b[34m\u001b[1mwandb\u001b[0m: \u001b[32m\u001b[41mERROR\u001b[0m   File \"C:\\anaconda3\\envs\\jupyterenv\\lib\\site-packages\\wandb\\data_types.py\", line 1377, in bind_to_run\n",
      "\u001b[34m\u001b[1mwandb\u001b[0m: \u001b[32m\u001b[41mERROR\u001b[0m     with codecs.open(tmp_path, \"w\", encoding=\"utf-8\") as fp:\n",
      "\u001b[34m\u001b[1mwandb\u001b[0m: \u001b[32m\u001b[41mERROR\u001b[0m   File \"C:\\anaconda3\\envs\\jupyterenv\\lib\\codecs.py\", line 906, in open\n",
      "\u001b[34m\u001b[1mwandb\u001b[0m: \u001b[32m\u001b[41mERROR\u001b[0m     file = builtins.open(filename, mode, buffering)\n",
      "\u001b[34m\u001b[1mwandb\u001b[0m: \u001b[32m\u001b[41mERROR\u001b[0m FileNotFoundError: [Errno 2] No such file or directory: 'C:\\\\Users\\\\Addisu\\\\AppData\\\\Local\\\\Temp\\\\tmpbie7lvyxwandb-media\\\\d36guzum.graph.json'\n",
      "\u001b[34m\u001b[1mwandb\u001b[0m: \u001b[32m\u001b[41mERROR\u001b[0m \n",
      "\u001b[34m\u001b[1mwandb\u001b[0m: Sweep Agent: Waiting for job.\n",
      "\u001b[34m\u001b[1mwandb\u001b[0m: Job received.\n",
      "\u001b[34m\u001b[1mwandb\u001b[0m: Agent Starting Run: f5a6jz07 with config:\n",
      "\u001b[34m\u001b[1mwandb\u001b[0m: \tbatch_size: 72\n",
      "\u001b[34m\u001b[1mwandb\u001b[0m: \tdense_activation: sigmoid\n",
      "\u001b[34m\u001b[1mwandb\u001b[0m: \tdropout: 0.2\n",
      "\u001b[34m\u001b[1mwandb\u001b[0m: \tepochs: 1\n",
      "\u001b[34m\u001b[1mwandb\u001b[0m: \tlearning_rate: 0.007670902000553757\n",
      "\u001b[34m\u001b[1mwandb\u001b[0m: \toptimizer: sgd\n"
     ]
    },
    {
     "data": {
      "text/html": [
       "wandb version 0.17.2 is available!  To upgrade, please run:\n",
       " $ pip install wandb --upgrade"
      ],
      "text/plain": [
       "<IPython.core.display.HTML object>"
      ]
     },
     "metadata": {},
     "output_type": "display_data"
    },
    {
     "data": {
      "text/html": [
       "Tracking run with wandb version 0.17.0"
      ],
      "text/plain": [
       "<IPython.core.display.HTML object>"
      ]
     },
     "metadata": {},
     "output_type": "display_data"
    },
    {
     "data": {
      "text/html": [
       "Run data is saved locally in <code>C:\\Users\\Addisu\\Desktop\\kidi files\\Python workshop with ellen\\wandb\\run-20240621_153426-f5a6jz07</code>"
      ],
      "text/plain": [
       "<IPython.core.display.HTML object>"
      ]
     },
     "metadata": {},
     "output_type": "display_data"
    },
    {
     "data": {
      "text/html": [
       "Syncing run <strong><a href='https://wandb.ai/evapppp/sweeps-keras/runs/f5a6jz07' target=\"_blank\">sweepy-sweep-8</a></strong> to <a href='https://wandb.ai/evapppp/sweeps-keras' target=\"_blank\">Weights & Biases</a> (<a href='https://wandb.me/run' target=\"_blank\">docs</a>)<br/>Sweep page: <a href='https://wandb.ai/evapppp/sweeps-keras/sweeps/qu378scj' target=\"_blank\">https://wandb.ai/evapppp/sweeps-keras/sweeps/qu378scj</a>"
      ],
      "text/plain": [
       "<IPython.core.display.HTML object>"
      ]
     },
     "metadata": {},
     "output_type": "display_data"
    },
    {
     "data": {
      "text/html": [
       " View project at <a href='https://wandb.ai/evapppp/sweeps-keras' target=\"_blank\">https://wandb.ai/evapppp/sweeps-keras</a>"
      ],
      "text/plain": [
       "<IPython.core.display.HTML object>"
      ]
     },
     "metadata": {},
     "output_type": "display_data"
    },
    {
     "data": {
      "text/html": [
       " View sweep at <a href='https://wandb.ai/evapppp/sweeps-keras/sweeps/qu378scj' target=\"_blank\">https://wandb.ai/evapppp/sweeps-keras/sweeps/qu378scj</a>"
      ],
      "text/plain": [
       "<IPython.core.display.HTML object>"
      ]
     },
     "metadata": {},
     "output_type": "display_data"
    },
    {
     "data": {
      "text/html": [
       " View run at <a href='https://wandb.ai/evapppp/sweeps-keras/runs/f5a6jz07' target=\"_blank\">https://wandb.ai/evapppp/sweeps-keras/runs/f5a6jz07</a>"
      ],
      "text/plain": [
       "<IPython.core.display.HTML object>"
      ]
     },
     "metadata": {},
     "output_type": "display_data"
    },
    {
     "name": "stdout",
     "output_type": "stream",
     "text": [
      "WARNING:tensorflow:6 out of the last 81 calls to <function Model.make_train_function.<locals>.train_function at 0x000001520B2A4F70> triggered tf.function retracing. Tracing is expensive and the excessive number of tracings could be due to (1) creating @tf.function repeatedly in a loop, (2) passing tensors with different shapes, (3) passing Python objects instead of tensors. For (1), please define your @tf.function outside of the loop. For (2), @tf.function has reduce_retracing=True option that can avoid unnecessary retracing. For (3), please refer to https://www.tensorflow.org/guide/function#controlling_retracing and https://www.tensorflow.org/api_docs/python/tf/function for  more details.\n"
     ]
    },
    {
     "name": "stderr",
     "output_type": "stream",
     "text": [
      "WARNING:tensorflow:6 out of the last 81 calls to <function Model.make_train_function.<locals>.train_function at 0x000001520B2A4F70> triggered tf.function retracing. Tracing is expensive and the excessive number of tracings could be due to (1) creating @tf.function repeatedly in a loop, (2) passing tensors with different shapes, (3) passing Python objects instead of tensors. For (1), please define your @tf.function outside of the loop. For (2), @tf.function has reduce_retracing=True option that can avoid unnecessary retracing. For (3), please refer to https://www.tensorflow.org/guide/function#controlling_retracing and https://www.tensorflow.org/api_docs/python/tf/function for  more details.\n",
      "Traceback (most recent call last):\n",
      "  File \"C:\\Users\\Addisu\\AppData\\Local\\Temp\\ipykernel_74596\\2644847777.py\", line 221, in sweep_train\n",
      "    train(model,\n",
      "  File \"C:\\Users\\Addisu\\AppData\\Local\\Temp\\ipykernel_74596\\2644847777.py\", line 151, in train\n",
      "    model.fit(X_train,\n",
      "  File \"C:\\anaconda3\\envs\\jupyterenv\\lib\\site-packages\\keras\\src\\utils\\traceback_utils.py\", line 70, in error_handler\n",
      "    raise e.with_traceback(filtered_tb) from None\n",
      "  File \"C:\\anaconda3\\envs\\jupyterenv\\lib\\site-packages\\wandb\\integration\\keras\\keras.py\", line 656, in on_train_batch_end\n",
      "    wandb.run.summary[\"graph\"] = wandb.Graph.from_keras(self.model)\n",
      "  File \"C:\\anaconda3\\envs\\jupyterenv\\lib\\site-packages\\wandb\\sdk\\wandb_summary.py\", line 52, in __setitem__\n",
      "    self.update({key: val})\n",
      "  File \"C:\\anaconda3\\envs\\jupyterenv\\lib\\site-packages\\wandb\\sdk\\wandb_summary.py\", line 74, in update\n",
      "    self._update(record)\n",
      "  File \"C:\\anaconda3\\envs\\jupyterenv\\lib\\site-packages\\wandb\\sdk\\wandb_summary.py\", line 128, in _update\n",
      "    self._update_callback(record)\n",
      "  File \"C:\\anaconda3\\envs\\jupyterenv\\lib\\site-packages\\wandb\\sdk\\wandb_run.py\", line 400, in wrapper_fn\n",
      "    return func(self, *args, **kwargs)\n",
      "  File \"C:\\anaconda3\\envs\\jupyterenv\\lib\\site-packages\\wandb\\sdk\\wandb_run.py\", line 1424, in _summary_update_callback\n",
      "    self._backend.interface.publish_summary(summary_record)\n",
      "  File \"C:\\anaconda3\\envs\\jupyterenv\\lib\\site-packages\\wandb\\sdk\\interface\\interface.py\", line 270, in publish_summary\n",
      "    pb_summary_record = self._make_summary(summary_record)\n",
      "  File \"C:\\anaconda3\\envs\\jupyterenv\\lib\\site-packages\\wandb\\sdk\\interface\\interface.py\", line 248, in _make_summary\n",
      "    json_value = self._summary_encode(item.value, path_from_root)\n",
      "  File \"C:\\anaconda3\\envs\\jupyterenv\\lib\\site-packages\\wandb\\sdk\\interface\\interface.py\", line 221, in _summary_encode\n",
      "    val_to_json(self._run, path_from_root, value, namespace=\"summary\")\n",
      "  File \"C:\\anaconda3\\envs\\jupyterenv\\lib\\site-packages\\wandb\\sdk\\data_types\\utils.py\", line 164, in val_to_json\n",
      "    val.bind_to_run(run, key, namespace)\n",
      "  File \"C:\\anaconda3\\envs\\jupyterenv\\lib\\site-packages\\wandb\\data_types.py\", line 1377, in bind_to_run\n",
      "    with codecs.open(tmp_path, \"w\", encoding=\"utf-8\") as fp:\n",
      "  File \"C:\\anaconda3\\envs\\jupyterenv\\lib\\codecs.py\", line 906, in open\n",
      "    file = builtins.open(filename, mode, buffering)\n",
      "FileNotFoundError: [Errno 2] No such file or directory: 'C:\\\\Users\\\\Addisu\\\\AppData\\\\Local\\\\Temp\\\\tmpbie7lvyxwandb-media\\\\zt0cfiqa.graph.json'\n"
     ]
    },
    {
     "data": {
      "text/html": [
       " View run <strong style=\"color:#cdcd00\">sweepy-sweep-8</strong> at: <a href='https://wandb.ai/evapppp/sweeps-keras/runs/f5a6jz07' target=\"_blank\">https://wandb.ai/evapppp/sweeps-keras/runs/f5a6jz07</a><br/> View project at: <a href='https://wandb.ai/evapppp/sweeps-keras' target=\"_blank\">https://wandb.ai/evapppp/sweeps-keras</a><br/>Synced 5 W&B file(s), 0 media file(s), 0 artifact file(s) and 0 other file(s)"
      ],
      "text/plain": [
       "<IPython.core.display.HTML object>"
      ]
     },
     "metadata": {},
     "output_type": "display_data"
    },
    {
     "data": {
      "text/html": [
       "Find logs at: <code>.\\wandb\\run-20240621_153426-f5a6jz07\\logs</code>"
      ],
      "text/plain": [
       "<IPython.core.display.HTML object>"
      ]
     },
     "metadata": {},
     "output_type": "display_data"
    },
    {
     "name": "stderr",
     "output_type": "stream",
     "text": [
      "Run f5a6jz07 errored:\n",
      "Traceback (most recent call last):\n",
      "  File \"C:\\anaconda3\\envs\\jupyterenv\\lib\\site-packages\\wandb\\agents\\pyagent.py\", line 307, in _run_job\n",
      "    self._function()\n",
      "  File \"C:\\Users\\Addisu\\AppData\\Local\\Temp\\ipykernel_74596\\2644847777.py\", line 221, in sweep_train\n",
      "    train(model,\n",
      "  File \"C:\\Users\\Addisu\\AppData\\Local\\Temp\\ipykernel_74596\\2644847777.py\", line 151, in train\n",
      "    model.fit(X_train,\n",
      "  File \"C:\\anaconda3\\envs\\jupyterenv\\lib\\site-packages\\keras\\src\\utils\\traceback_utils.py\", line 70, in error_handler\n",
      "    raise e.with_traceback(filtered_tb) from None\n",
      "  File \"C:\\anaconda3\\envs\\jupyterenv\\lib\\site-packages\\wandb\\integration\\keras\\keras.py\", line 656, in on_train_batch_end\n",
      "    wandb.run.summary[\"graph\"] = wandb.Graph.from_keras(self.model)\n",
      "  File \"C:\\anaconda3\\envs\\jupyterenv\\lib\\site-packages\\wandb\\sdk\\wandb_summary.py\", line 52, in __setitem__\n",
      "    self.update({key: val})\n",
      "  File \"C:\\anaconda3\\envs\\jupyterenv\\lib\\site-packages\\wandb\\sdk\\wandb_summary.py\", line 74, in update\n",
      "    self._update(record)\n",
      "  File \"C:\\anaconda3\\envs\\jupyterenv\\lib\\site-packages\\wandb\\sdk\\wandb_summary.py\", line 128, in _update\n",
      "    self._update_callback(record)\n",
      "  File \"C:\\anaconda3\\envs\\jupyterenv\\lib\\site-packages\\wandb\\sdk\\wandb_run.py\", line 400, in wrapper_fn\n",
      "    return func(self, *args, **kwargs)\n",
      "  File \"C:\\anaconda3\\envs\\jupyterenv\\lib\\site-packages\\wandb\\sdk\\wandb_run.py\", line 1424, in _summary_update_callback\n",
      "    self._backend.interface.publish_summary(summary_record)\n",
      "  File \"C:\\anaconda3\\envs\\jupyterenv\\lib\\site-packages\\wandb\\sdk\\interface\\interface.py\", line 270, in publish_summary\n",
      "    pb_summary_record = self._make_summary(summary_record)\n",
      "  File \"C:\\anaconda3\\envs\\jupyterenv\\lib\\site-packages\\wandb\\sdk\\interface\\interface.py\", line 248, in _make_summary\n",
      "    json_value = self._summary_encode(item.value, path_from_root)\n",
      "  File \"C:\\anaconda3\\envs\\jupyterenv\\lib\\site-packages\\wandb\\sdk\\interface\\interface.py\", line 221, in _summary_encode\n",
      "    val_to_json(self._run, path_from_root, value, namespace=\"summary\")\n",
      "  File \"C:\\anaconda3\\envs\\jupyterenv\\lib\\site-packages\\wandb\\sdk\\data_types\\utils.py\", line 164, in val_to_json\n",
      "    val.bind_to_run(run, key, namespace)\n",
      "  File \"C:\\anaconda3\\envs\\jupyterenv\\lib\\site-packages\\wandb\\data_types.py\", line 1377, in bind_to_run\n",
      "    with codecs.open(tmp_path, \"w\", encoding=\"utf-8\") as fp:\n",
      "  File \"C:\\anaconda3\\envs\\jupyterenv\\lib\\codecs.py\", line 906, in open\n",
      "    file = builtins.open(filename, mode, buffering)\n",
      "FileNotFoundError: [Errno 2] No such file or directory: 'C:\\\\Users\\\\Addisu\\\\AppData\\\\Local\\\\Temp\\\\tmpbie7lvyxwandb-media\\\\zt0cfiqa.graph.json'\n",
      "\n",
      "\u001b[34m\u001b[1mwandb\u001b[0m: \u001b[32m\u001b[41mERROR\u001b[0m Run f5a6jz07 errored:\n",
      "\u001b[34m\u001b[1mwandb\u001b[0m: \u001b[32m\u001b[41mERROR\u001b[0m Traceback (most recent call last):\n",
      "\u001b[34m\u001b[1mwandb\u001b[0m: \u001b[32m\u001b[41mERROR\u001b[0m   File \"C:\\anaconda3\\envs\\jupyterenv\\lib\\site-packages\\wandb\\agents\\pyagent.py\", line 307, in _run_job\n",
      "\u001b[34m\u001b[1mwandb\u001b[0m: \u001b[32m\u001b[41mERROR\u001b[0m     self._function()\n",
      "\u001b[34m\u001b[1mwandb\u001b[0m: \u001b[32m\u001b[41mERROR\u001b[0m   File \"C:\\Users\\Addisu\\AppData\\Local\\Temp\\ipykernel_74596\\2644847777.py\", line 221, in sweep_train\n",
      "\u001b[34m\u001b[1mwandb\u001b[0m: \u001b[32m\u001b[41mERROR\u001b[0m     train(model,\n",
      "\u001b[34m\u001b[1mwandb\u001b[0m: \u001b[32m\u001b[41mERROR\u001b[0m   File \"C:\\Users\\Addisu\\AppData\\Local\\Temp\\ipykernel_74596\\2644847777.py\", line 151, in train\n",
      "\u001b[34m\u001b[1mwandb\u001b[0m: \u001b[32m\u001b[41mERROR\u001b[0m     model.fit(X_train,\n",
      "\u001b[34m\u001b[1mwandb\u001b[0m: \u001b[32m\u001b[41mERROR\u001b[0m   File \"C:\\anaconda3\\envs\\jupyterenv\\lib\\site-packages\\keras\\src\\utils\\traceback_utils.py\", line 70, in error_handler\n",
      "\u001b[34m\u001b[1mwandb\u001b[0m: \u001b[32m\u001b[41mERROR\u001b[0m     raise e.with_traceback(filtered_tb) from None\n",
      "\u001b[34m\u001b[1mwandb\u001b[0m: \u001b[32m\u001b[41mERROR\u001b[0m   File \"C:\\anaconda3\\envs\\jupyterenv\\lib\\site-packages\\wandb\\integration\\keras\\keras.py\", line 656, in on_train_batch_end\n",
      "\u001b[34m\u001b[1mwandb\u001b[0m: \u001b[32m\u001b[41mERROR\u001b[0m     wandb.run.summary[\"graph\"] = wandb.Graph.from_keras(self.model)\n",
      "\u001b[34m\u001b[1mwandb\u001b[0m: \u001b[32m\u001b[41mERROR\u001b[0m   File \"C:\\anaconda3\\envs\\jupyterenv\\lib\\site-packages\\wandb\\sdk\\wandb_summary.py\", line 52, in __setitem__\n",
      "\u001b[34m\u001b[1mwandb\u001b[0m: \u001b[32m\u001b[41mERROR\u001b[0m     self.update({key: val})\n",
      "\u001b[34m\u001b[1mwandb\u001b[0m: \u001b[32m\u001b[41mERROR\u001b[0m   File \"C:\\anaconda3\\envs\\jupyterenv\\lib\\site-packages\\wandb\\sdk\\wandb_summary.py\", line 74, in update\n",
      "\u001b[34m\u001b[1mwandb\u001b[0m: \u001b[32m\u001b[41mERROR\u001b[0m     self._update(record)\n",
      "\u001b[34m\u001b[1mwandb\u001b[0m: \u001b[32m\u001b[41mERROR\u001b[0m   File \"C:\\anaconda3\\envs\\jupyterenv\\lib\\site-packages\\wandb\\sdk\\wandb_summary.py\", line 128, in _update\n",
      "\u001b[34m\u001b[1mwandb\u001b[0m: \u001b[32m\u001b[41mERROR\u001b[0m     self._update_callback(record)\n",
      "\u001b[34m\u001b[1mwandb\u001b[0m: \u001b[32m\u001b[41mERROR\u001b[0m   File \"C:\\anaconda3\\envs\\jupyterenv\\lib\\site-packages\\wandb\\sdk\\wandb_run.py\", line 400, in wrapper_fn\n",
      "\u001b[34m\u001b[1mwandb\u001b[0m: \u001b[32m\u001b[41mERROR\u001b[0m     return func(self, *args, **kwargs)\n",
      "\u001b[34m\u001b[1mwandb\u001b[0m: \u001b[32m\u001b[41mERROR\u001b[0m   File \"C:\\anaconda3\\envs\\jupyterenv\\lib\\site-packages\\wandb\\sdk\\wandb_run.py\", line 1424, in _summary_update_callback\n",
      "\u001b[34m\u001b[1mwandb\u001b[0m: \u001b[32m\u001b[41mERROR\u001b[0m     self._backend.interface.publish_summary(summary_record)\n",
      "\u001b[34m\u001b[1mwandb\u001b[0m: \u001b[32m\u001b[41mERROR\u001b[0m   File \"C:\\anaconda3\\envs\\jupyterenv\\lib\\site-packages\\wandb\\sdk\\interface\\interface.py\", line 270, in publish_summary\n",
      "\u001b[34m\u001b[1mwandb\u001b[0m: \u001b[32m\u001b[41mERROR\u001b[0m     pb_summary_record = self._make_summary(summary_record)\n",
      "\u001b[34m\u001b[1mwandb\u001b[0m: \u001b[32m\u001b[41mERROR\u001b[0m   File \"C:\\anaconda3\\envs\\jupyterenv\\lib\\site-packages\\wandb\\sdk\\interface\\interface.py\", line 248, in _make_summary\n",
      "\u001b[34m\u001b[1mwandb\u001b[0m: \u001b[32m\u001b[41mERROR\u001b[0m     json_value = self._summary_encode(item.value, path_from_root)\n",
      "\u001b[34m\u001b[1mwandb\u001b[0m: \u001b[32m\u001b[41mERROR\u001b[0m   File \"C:\\anaconda3\\envs\\jupyterenv\\lib\\site-packages\\wandb\\sdk\\interface\\interface.py\", line 221, in _summary_encode\n",
      "\u001b[34m\u001b[1mwandb\u001b[0m: \u001b[32m\u001b[41mERROR\u001b[0m     val_to_json(self._run, path_from_root, value, namespace=\"summary\")\n",
      "\u001b[34m\u001b[1mwandb\u001b[0m: \u001b[32m\u001b[41mERROR\u001b[0m   File \"C:\\anaconda3\\envs\\jupyterenv\\lib\\site-packages\\wandb\\sdk\\data_types\\utils.py\", line 164, in val_to_json\n",
      "\u001b[34m\u001b[1mwandb\u001b[0m: \u001b[32m\u001b[41mERROR\u001b[0m     val.bind_to_run(run, key, namespace)\n",
      "\u001b[34m\u001b[1mwandb\u001b[0m: \u001b[32m\u001b[41mERROR\u001b[0m   File \"C:\\anaconda3\\envs\\jupyterenv\\lib\\site-packages\\wandb\\data_types.py\", line 1377, in bind_to_run\n",
      "\u001b[34m\u001b[1mwandb\u001b[0m: \u001b[32m\u001b[41mERROR\u001b[0m     with codecs.open(tmp_path, \"w\", encoding=\"utf-8\") as fp:\n",
      "\u001b[34m\u001b[1mwandb\u001b[0m: \u001b[32m\u001b[41mERROR\u001b[0m   File \"C:\\anaconda3\\envs\\jupyterenv\\lib\\codecs.py\", line 906, in open\n",
      "\u001b[34m\u001b[1mwandb\u001b[0m: \u001b[32m\u001b[41mERROR\u001b[0m     file = builtins.open(filename, mode, buffering)\n",
      "\u001b[34m\u001b[1mwandb\u001b[0m: \u001b[32m\u001b[41mERROR\u001b[0m FileNotFoundError: [Errno 2] No such file or directory: 'C:\\\\Users\\\\Addisu\\\\AppData\\\\Local\\\\Temp\\\\tmpbie7lvyxwandb-media\\\\zt0cfiqa.graph.json'\n",
      "\u001b[34m\u001b[1mwandb\u001b[0m: \u001b[32m\u001b[41mERROR\u001b[0m \n",
      "\u001b[34m\u001b[1mwandb\u001b[0m: Agent Starting Run: 13pcnhn2 with config:\n",
      "\u001b[34m\u001b[1mwandb\u001b[0m: \tbatch_size: 40\n",
      "\u001b[34m\u001b[1mwandb\u001b[0m: \tdense_activation: relu\n",
      "\u001b[34m\u001b[1mwandb\u001b[0m: \tdropout: 0.1\n",
      "\u001b[34m\u001b[1mwandb\u001b[0m: \tepochs: 1\n",
      "\u001b[34m\u001b[1mwandb\u001b[0m: \tlearning_rate: 0.006523234479037311\n",
      "\u001b[34m\u001b[1mwandb\u001b[0m: \toptimizer: adam\n"
     ]
    },
    {
     "data": {
      "text/html": [
       "wandb version 0.17.2 is available!  To upgrade, please run:\n",
       " $ pip install wandb --upgrade"
      ],
      "text/plain": [
       "<IPython.core.display.HTML object>"
      ]
     },
     "metadata": {},
     "output_type": "display_data"
    },
    {
     "data": {
      "text/html": [
       "Tracking run with wandb version 0.17.0"
      ],
      "text/plain": [
       "<IPython.core.display.HTML object>"
      ]
     },
     "metadata": {},
     "output_type": "display_data"
    },
    {
     "data": {
      "text/html": [
       "Run data is saved locally in <code>C:\\Users\\Addisu\\Desktop\\kidi files\\Python workshop with ellen\\wandb\\run-20240621_153455-13pcnhn2</code>"
      ],
      "text/plain": [
       "<IPython.core.display.HTML object>"
      ]
     },
     "metadata": {},
     "output_type": "display_data"
    },
    {
     "data": {
      "text/html": [
       "Syncing run <strong><a href='https://wandb.ai/evapppp/sweeps-keras/runs/13pcnhn2' target=\"_blank\">morning-sweep-9</a></strong> to <a href='https://wandb.ai/evapppp/sweeps-keras' target=\"_blank\">Weights & Biases</a> (<a href='https://wandb.me/run' target=\"_blank\">docs</a>)<br/>Sweep page: <a href='https://wandb.ai/evapppp/sweeps-keras/sweeps/qu378scj' target=\"_blank\">https://wandb.ai/evapppp/sweeps-keras/sweeps/qu378scj</a>"
      ],
      "text/plain": [
       "<IPython.core.display.HTML object>"
      ]
     },
     "metadata": {},
     "output_type": "display_data"
    },
    {
     "data": {
      "text/html": [
       " View project at <a href='https://wandb.ai/evapppp/sweeps-keras' target=\"_blank\">https://wandb.ai/evapppp/sweeps-keras</a>"
      ],
      "text/plain": [
       "<IPython.core.display.HTML object>"
      ]
     },
     "metadata": {},
     "output_type": "display_data"
    },
    {
     "data": {
      "text/html": [
       " View sweep at <a href='https://wandb.ai/evapppp/sweeps-keras/sweeps/qu378scj' target=\"_blank\">https://wandb.ai/evapppp/sweeps-keras/sweeps/qu378scj</a>"
      ],
      "text/plain": [
       "<IPython.core.display.HTML object>"
      ]
     },
     "metadata": {},
     "output_type": "display_data"
    },
    {
     "data": {
      "text/html": [
       " View run at <a href='https://wandb.ai/evapppp/sweeps-keras/runs/13pcnhn2' target=\"_blank\">https://wandb.ai/evapppp/sweeps-keras/runs/13pcnhn2</a>"
      ],
      "text/plain": [
       "<IPython.core.display.HTML object>"
      ]
     },
     "metadata": {},
     "output_type": "display_data"
    },
    {
     "name": "stderr",
     "output_type": "stream",
     "text": [
      "Traceback (most recent call last):\n",
      "  File \"C:\\Users\\Addisu\\AppData\\Local\\Temp\\ipykernel_74596\\2644847777.py\", line 221, in sweep_train\n",
      "    train(model,\n",
      "  File \"C:\\Users\\Addisu\\AppData\\Local\\Temp\\ipykernel_74596\\2644847777.py\", line 151, in train\n",
      "    model.fit(X_train,\n",
      "  File \"C:\\anaconda3\\envs\\jupyterenv\\lib\\site-packages\\keras\\src\\utils\\traceback_utils.py\", line 70, in error_handler\n",
      "    raise e.with_traceback(filtered_tb) from None\n",
      "  File \"C:\\anaconda3\\envs\\jupyterenv\\lib\\site-packages\\wandb\\integration\\keras\\keras.py\", line 656, in on_train_batch_end\n",
      "    wandb.run.summary[\"graph\"] = wandb.Graph.from_keras(self.model)\n",
      "  File \"C:\\anaconda3\\envs\\jupyterenv\\lib\\site-packages\\wandb\\sdk\\wandb_summary.py\", line 52, in __setitem__\n",
      "    self.update({key: val})\n",
      "  File \"C:\\anaconda3\\envs\\jupyterenv\\lib\\site-packages\\wandb\\sdk\\wandb_summary.py\", line 74, in update\n",
      "    self._update(record)\n",
      "  File \"C:\\anaconda3\\envs\\jupyterenv\\lib\\site-packages\\wandb\\sdk\\wandb_summary.py\", line 128, in _update\n",
      "    self._update_callback(record)\n",
      "  File \"C:\\anaconda3\\envs\\jupyterenv\\lib\\site-packages\\wandb\\sdk\\wandb_run.py\", line 400, in wrapper_fn\n",
      "    return func(self, *args, **kwargs)\n",
      "  File \"C:\\anaconda3\\envs\\jupyterenv\\lib\\site-packages\\wandb\\sdk\\wandb_run.py\", line 1424, in _summary_update_callback\n",
      "    self._backend.interface.publish_summary(summary_record)\n",
      "  File \"C:\\anaconda3\\envs\\jupyterenv\\lib\\site-packages\\wandb\\sdk\\interface\\interface.py\", line 270, in publish_summary\n",
      "    pb_summary_record = self._make_summary(summary_record)\n",
      "  File \"C:\\anaconda3\\envs\\jupyterenv\\lib\\site-packages\\wandb\\sdk\\interface\\interface.py\", line 248, in _make_summary\n",
      "    json_value = self._summary_encode(item.value, path_from_root)\n",
      "  File \"C:\\anaconda3\\envs\\jupyterenv\\lib\\site-packages\\wandb\\sdk\\interface\\interface.py\", line 221, in _summary_encode\n",
      "    val_to_json(self._run, path_from_root, value, namespace=\"summary\")\n",
      "  File \"C:\\anaconda3\\envs\\jupyterenv\\lib\\site-packages\\wandb\\sdk\\data_types\\utils.py\", line 164, in val_to_json\n",
      "    val.bind_to_run(run, key, namespace)\n",
      "  File \"C:\\anaconda3\\envs\\jupyterenv\\lib\\site-packages\\wandb\\data_types.py\", line 1377, in bind_to_run\n",
      "    with codecs.open(tmp_path, \"w\", encoding=\"utf-8\") as fp:\n",
      "  File \"C:\\anaconda3\\envs\\jupyterenv\\lib\\codecs.py\", line 906, in open\n",
      "    file = builtins.open(filename, mode, buffering)\n",
      "FileNotFoundError: [Errno 2] No such file or directory: 'C:\\\\Users\\\\Addisu\\\\AppData\\\\Local\\\\Temp\\\\tmpbie7lvyxwandb-media\\\\mk6z6khz.graph.json'\n"
     ]
    },
    {
     "data": {
      "text/html": [
       " View run <strong style=\"color:#cdcd00\">morning-sweep-9</strong> at: <a href='https://wandb.ai/evapppp/sweeps-keras/runs/13pcnhn2' target=\"_blank\">https://wandb.ai/evapppp/sweeps-keras/runs/13pcnhn2</a><br/> View project at: <a href='https://wandb.ai/evapppp/sweeps-keras' target=\"_blank\">https://wandb.ai/evapppp/sweeps-keras</a><br/>Synced 5 W&B file(s), 0 media file(s), 0 artifact file(s) and 0 other file(s)"
      ],
      "text/plain": [
       "<IPython.core.display.HTML object>"
      ]
     },
     "metadata": {},
     "output_type": "display_data"
    },
    {
     "data": {
      "text/html": [
       "Find logs at: <code>.\\wandb\\run-20240621_153455-13pcnhn2\\logs</code>"
      ],
      "text/plain": [
       "<IPython.core.display.HTML object>"
      ]
     },
     "metadata": {},
     "output_type": "display_data"
    },
    {
     "name": "stderr",
     "output_type": "stream",
     "text": [
      "Run 13pcnhn2 errored:\n",
      "Traceback (most recent call last):\n",
      "  File \"C:\\anaconda3\\envs\\jupyterenv\\lib\\site-packages\\wandb\\agents\\pyagent.py\", line 307, in _run_job\n",
      "    self._function()\n",
      "  File \"C:\\Users\\Addisu\\AppData\\Local\\Temp\\ipykernel_74596\\2644847777.py\", line 221, in sweep_train\n",
      "    train(model,\n",
      "  File \"C:\\Users\\Addisu\\AppData\\Local\\Temp\\ipykernel_74596\\2644847777.py\", line 151, in train\n",
      "    model.fit(X_train,\n",
      "  File \"C:\\anaconda3\\envs\\jupyterenv\\lib\\site-packages\\keras\\src\\utils\\traceback_utils.py\", line 70, in error_handler\n",
      "    raise e.with_traceback(filtered_tb) from None\n",
      "  File \"C:\\anaconda3\\envs\\jupyterenv\\lib\\site-packages\\wandb\\integration\\keras\\keras.py\", line 656, in on_train_batch_end\n",
      "    wandb.run.summary[\"graph\"] = wandb.Graph.from_keras(self.model)\n",
      "  File \"C:\\anaconda3\\envs\\jupyterenv\\lib\\site-packages\\wandb\\sdk\\wandb_summary.py\", line 52, in __setitem__\n",
      "    self.update({key: val})\n",
      "  File \"C:\\anaconda3\\envs\\jupyterenv\\lib\\site-packages\\wandb\\sdk\\wandb_summary.py\", line 74, in update\n",
      "    self._update(record)\n",
      "  File \"C:\\anaconda3\\envs\\jupyterenv\\lib\\site-packages\\wandb\\sdk\\wandb_summary.py\", line 128, in _update\n",
      "    self._update_callback(record)\n",
      "  File \"C:\\anaconda3\\envs\\jupyterenv\\lib\\site-packages\\wandb\\sdk\\wandb_run.py\", line 400, in wrapper_fn\n",
      "    return func(self, *args, **kwargs)\n",
      "  File \"C:\\anaconda3\\envs\\jupyterenv\\lib\\site-packages\\wandb\\sdk\\wandb_run.py\", line 1424, in _summary_update_callback\n",
      "    self._backend.interface.publish_summary(summary_record)\n",
      "  File \"C:\\anaconda3\\envs\\jupyterenv\\lib\\site-packages\\wandb\\sdk\\interface\\interface.py\", line 270, in publish_summary\n",
      "    pb_summary_record = self._make_summary(summary_record)\n",
      "  File \"C:\\anaconda3\\envs\\jupyterenv\\lib\\site-packages\\wandb\\sdk\\interface\\interface.py\", line 248, in _make_summary\n",
      "    json_value = self._summary_encode(item.value, path_from_root)\n",
      "  File \"C:\\anaconda3\\envs\\jupyterenv\\lib\\site-packages\\wandb\\sdk\\interface\\interface.py\", line 221, in _summary_encode\n",
      "    val_to_json(self._run, path_from_root, value, namespace=\"summary\")\n",
      "  File \"C:\\anaconda3\\envs\\jupyterenv\\lib\\site-packages\\wandb\\sdk\\data_types\\utils.py\", line 164, in val_to_json\n",
      "    val.bind_to_run(run, key, namespace)\n",
      "  File \"C:\\anaconda3\\envs\\jupyterenv\\lib\\site-packages\\wandb\\data_types.py\", line 1377, in bind_to_run\n",
      "    with codecs.open(tmp_path, \"w\", encoding=\"utf-8\") as fp:\n",
      "  File \"C:\\anaconda3\\envs\\jupyterenv\\lib\\codecs.py\", line 906, in open\n",
      "    file = builtins.open(filename, mode, buffering)\n",
      "FileNotFoundError: [Errno 2] No such file or directory: 'C:\\\\Users\\\\Addisu\\\\AppData\\\\Local\\\\Temp\\\\tmpbie7lvyxwandb-media\\\\mk6z6khz.graph.json'\n",
      "\n",
      "\u001b[34m\u001b[1mwandb\u001b[0m: \u001b[32m\u001b[41mERROR\u001b[0m Run 13pcnhn2 errored:\n",
      "\u001b[34m\u001b[1mwandb\u001b[0m: \u001b[32m\u001b[41mERROR\u001b[0m Traceback (most recent call last):\n",
      "\u001b[34m\u001b[1mwandb\u001b[0m: \u001b[32m\u001b[41mERROR\u001b[0m   File \"C:\\anaconda3\\envs\\jupyterenv\\lib\\site-packages\\wandb\\agents\\pyagent.py\", line 307, in _run_job\n",
      "\u001b[34m\u001b[1mwandb\u001b[0m: \u001b[32m\u001b[41mERROR\u001b[0m     self._function()\n",
      "\u001b[34m\u001b[1mwandb\u001b[0m: \u001b[32m\u001b[41mERROR\u001b[0m   File \"C:\\Users\\Addisu\\AppData\\Local\\Temp\\ipykernel_74596\\2644847777.py\", line 221, in sweep_train\n",
      "\u001b[34m\u001b[1mwandb\u001b[0m: \u001b[32m\u001b[41mERROR\u001b[0m     train(model,\n",
      "\u001b[34m\u001b[1mwandb\u001b[0m: \u001b[32m\u001b[41mERROR\u001b[0m   File \"C:\\Users\\Addisu\\AppData\\Local\\Temp\\ipykernel_74596\\2644847777.py\", line 151, in train\n",
      "\u001b[34m\u001b[1mwandb\u001b[0m: \u001b[32m\u001b[41mERROR\u001b[0m     model.fit(X_train,\n",
      "\u001b[34m\u001b[1mwandb\u001b[0m: \u001b[32m\u001b[41mERROR\u001b[0m   File \"C:\\anaconda3\\envs\\jupyterenv\\lib\\site-packages\\keras\\src\\utils\\traceback_utils.py\", line 70, in error_handler\n",
      "\u001b[34m\u001b[1mwandb\u001b[0m: \u001b[32m\u001b[41mERROR\u001b[0m     raise e.with_traceback(filtered_tb) from None\n",
      "\u001b[34m\u001b[1mwandb\u001b[0m: \u001b[32m\u001b[41mERROR\u001b[0m   File \"C:\\anaconda3\\envs\\jupyterenv\\lib\\site-packages\\wandb\\integration\\keras\\keras.py\", line 656, in on_train_batch_end\n",
      "\u001b[34m\u001b[1mwandb\u001b[0m: \u001b[32m\u001b[41mERROR\u001b[0m     wandb.run.summary[\"graph\"] = wandb.Graph.from_keras(self.model)\n",
      "\u001b[34m\u001b[1mwandb\u001b[0m: \u001b[32m\u001b[41mERROR\u001b[0m   File \"C:\\anaconda3\\envs\\jupyterenv\\lib\\site-packages\\wandb\\sdk\\wandb_summary.py\", line 52, in __setitem__\n",
      "\u001b[34m\u001b[1mwandb\u001b[0m: \u001b[32m\u001b[41mERROR\u001b[0m     self.update({key: val})\n",
      "\u001b[34m\u001b[1mwandb\u001b[0m: \u001b[32m\u001b[41mERROR\u001b[0m   File \"C:\\anaconda3\\envs\\jupyterenv\\lib\\site-packages\\wandb\\sdk\\wandb_summary.py\", line 74, in update\n",
      "\u001b[34m\u001b[1mwandb\u001b[0m: \u001b[32m\u001b[41mERROR\u001b[0m     self._update(record)\n",
      "\u001b[34m\u001b[1mwandb\u001b[0m: \u001b[32m\u001b[41mERROR\u001b[0m   File \"C:\\anaconda3\\envs\\jupyterenv\\lib\\site-packages\\wandb\\sdk\\wandb_summary.py\", line 128, in _update\n",
      "\u001b[34m\u001b[1mwandb\u001b[0m: \u001b[32m\u001b[41mERROR\u001b[0m     self._update_callback(record)\n",
      "\u001b[34m\u001b[1mwandb\u001b[0m: \u001b[32m\u001b[41mERROR\u001b[0m   File \"C:\\anaconda3\\envs\\jupyterenv\\lib\\site-packages\\wandb\\sdk\\wandb_run.py\", line 400, in wrapper_fn\n",
      "\u001b[34m\u001b[1mwandb\u001b[0m: \u001b[32m\u001b[41mERROR\u001b[0m     return func(self, *args, **kwargs)\n",
      "\u001b[34m\u001b[1mwandb\u001b[0m: \u001b[32m\u001b[41mERROR\u001b[0m   File \"C:\\anaconda3\\envs\\jupyterenv\\lib\\site-packages\\wandb\\sdk\\wandb_run.py\", line 1424, in _summary_update_callback\n",
      "\u001b[34m\u001b[1mwandb\u001b[0m: \u001b[32m\u001b[41mERROR\u001b[0m     self._backend.interface.publish_summary(summary_record)\n",
      "\u001b[34m\u001b[1mwandb\u001b[0m: \u001b[32m\u001b[41mERROR\u001b[0m   File \"C:\\anaconda3\\envs\\jupyterenv\\lib\\site-packages\\wandb\\sdk\\interface\\interface.py\", line 270, in publish_summary\n",
      "\u001b[34m\u001b[1mwandb\u001b[0m: \u001b[32m\u001b[41mERROR\u001b[0m     pb_summary_record = self._make_summary(summary_record)\n",
      "\u001b[34m\u001b[1mwandb\u001b[0m: \u001b[32m\u001b[41mERROR\u001b[0m   File \"C:\\anaconda3\\envs\\jupyterenv\\lib\\site-packages\\wandb\\sdk\\interface\\interface.py\", line 248, in _make_summary\n",
      "\u001b[34m\u001b[1mwandb\u001b[0m: \u001b[32m\u001b[41mERROR\u001b[0m     json_value = self._summary_encode(item.value, path_from_root)\n",
      "\u001b[34m\u001b[1mwandb\u001b[0m: \u001b[32m\u001b[41mERROR\u001b[0m   File \"C:\\anaconda3\\envs\\jupyterenv\\lib\\site-packages\\wandb\\sdk\\interface\\interface.py\", line 221, in _summary_encode\n",
      "\u001b[34m\u001b[1mwandb\u001b[0m: \u001b[32m\u001b[41mERROR\u001b[0m     val_to_json(self._run, path_from_root, value, namespace=\"summary\")\n",
      "\u001b[34m\u001b[1mwandb\u001b[0m: \u001b[32m\u001b[41mERROR\u001b[0m   File \"C:\\anaconda3\\envs\\jupyterenv\\lib\\site-packages\\wandb\\sdk\\data_types\\utils.py\", line 164, in val_to_json\n",
      "\u001b[34m\u001b[1mwandb\u001b[0m: \u001b[32m\u001b[41mERROR\u001b[0m     val.bind_to_run(run, key, namespace)\n",
      "\u001b[34m\u001b[1mwandb\u001b[0m: \u001b[32m\u001b[41mERROR\u001b[0m   File \"C:\\anaconda3\\envs\\jupyterenv\\lib\\site-packages\\wandb\\data_types.py\", line 1377, in bind_to_run\n",
      "\u001b[34m\u001b[1mwandb\u001b[0m: \u001b[32m\u001b[41mERROR\u001b[0m     with codecs.open(tmp_path, \"w\", encoding=\"utf-8\") as fp:\n",
      "\u001b[34m\u001b[1mwandb\u001b[0m: \u001b[32m\u001b[41mERROR\u001b[0m   File \"C:\\anaconda3\\envs\\jupyterenv\\lib\\codecs.py\", line 906, in open\n",
      "\u001b[34m\u001b[1mwandb\u001b[0m: \u001b[32m\u001b[41mERROR\u001b[0m     file = builtins.open(filename, mode, buffering)\n",
      "\u001b[34m\u001b[1mwandb\u001b[0m: \u001b[32m\u001b[41mERROR\u001b[0m FileNotFoundError: [Errno 2] No such file or directory: 'C:\\\\Users\\\\Addisu\\\\AppData\\\\Local\\\\Temp\\\\tmpbie7lvyxwandb-media\\\\mk6z6khz.graph.json'\n",
      "\u001b[34m\u001b[1mwandb\u001b[0m: \u001b[32m\u001b[41mERROR\u001b[0m \n",
      "\u001b[34m\u001b[1mwandb\u001b[0m: Agent Starting Run: evthw7dt with config:\n",
      "\u001b[34m\u001b[1mwandb\u001b[0m: \tbatch_size: 88\n",
      "\u001b[34m\u001b[1mwandb\u001b[0m: \tdense_activation: relu\n",
      "\u001b[34m\u001b[1mwandb\u001b[0m: \tdropout: 0.1\n",
      "\u001b[34m\u001b[1mwandb\u001b[0m: \tepochs: 1\n",
      "\u001b[34m\u001b[1mwandb\u001b[0m: \tlearning_rate: 0.008732503517454467\n",
      "\u001b[34m\u001b[1mwandb\u001b[0m: \toptimizer: sgd\n"
     ]
    },
    {
     "data": {
      "text/html": [
       "wandb version 0.17.2 is available!  To upgrade, please run:\n",
       " $ pip install wandb --upgrade"
      ],
      "text/plain": [
       "<IPython.core.display.HTML object>"
      ]
     },
     "metadata": {},
     "output_type": "display_data"
    },
    {
     "data": {
      "text/html": [
       "Tracking run with wandb version 0.17.0"
      ],
      "text/plain": [
       "<IPython.core.display.HTML object>"
      ]
     },
     "metadata": {},
     "output_type": "display_data"
    },
    {
     "data": {
      "text/html": [
       "Run data is saved locally in <code>C:\\Users\\Addisu\\Desktop\\kidi files\\Python workshop with ellen\\wandb\\run-20240621_153528-evthw7dt</code>"
      ],
      "text/plain": [
       "<IPython.core.display.HTML object>"
      ]
     },
     "metadata": {},
     "output_type": "display_data"
    },
    {
     "data": {
      "text/html": [
       "Syncing run <strong><a href='https://wandb.ai/evapppp/sweeps-keras/runs/evthw7dt' target=\"_blank\">glad-sweep-10</a></strong> to <a href='https://wandb.ai/evapppp/sweeps-keras' target=\"_blank\">Weights & Biases</a> (<a href='https://wandb.me/run' target=\"_blank\">docs</a>)<br/>Sweep page: <a href='https://wandb.ai/evapppp/sweeps-keras/sweeps/qu378scj' target=\"_blank\">https://wandb.ai/evapppp/sweeps-keras/sweeps/qu378scj</a>"
      ],
      "text/plain": [
       "<IPython.core.display.HTML object>"
      ]
     },
     "metadata": {},
     "output_type": "display_data"
    },
    {
     "data": {
      "text/html": [
       " View project at <a href='https://wandb.ai/evapppp/sweeps-keras' target=\"_blank\">https://wandb.ai/evapppp/sweeps-keras</a>"
      ],
      "text/plain": [
       "<IPython.core.display.HTML object>"
      ]
     },
     "metadata": {},
     "output_type": "display_data"
    },
    {
     "data": {
      "text/html": [
       " View sweep at <a href='https://wandb.ai/evapppp/sweeps-keras/sweeps/qu378scj' target=\"_blank\">https://wandb.ai/evapppp/sweeps-keras/sweeps/qu378scj</a>"
      ],
      "text/plain": [
       "<IPython.core.display.HTML object>"
      ]
     },
     "metadata": {},
     "output_type": "display_data"
    },
    {
     "data": {
      "text/html": [
       " View run at <a href='https://wandb.ai/evapppp/sweeps-keras/runs/evthw7dt' target=\"_blank\">https://wandb.ai/evapppp/sweeps-keras/runs/evthw7dt</a>"
      ],
      "text/plain": [
       "<IPython.core.display.HTML object>"
      ]
     },
     "metadata": {},
     "output_type": "display_data"
    },
    {
     "name": "stderr",
     "output_type": "stream",
     "text": [
      "Traceback (most recent call last):\n",
      "  File \"C:\\Users\\Addisu\\AppData\\Local\\Temp\\ipykernel_74596\\2644847777.py\", line 221, in sweep_train\n",
      "    train(model,\n",
      "  File \"C:\\Users\\Addisu\\AppData\\Local\\Temp\\ipykernel_74596\\2644847777.py\", line 151, in train\n",
      "    model.fit(X_train,\n",
      "  File \"C:\\anaconda3\\envs\\jupyterenv\\lib\\site-packages\\keras\\src\\utils\\traceback_utils.py\", line 70, in error_handler\n",
      "    raise e.with_traceback(filtered_tb) from None\n",
      "  File \"C:\\anaconda3\\envs\\jupyterenv\\lib\\site-packages\\wandb\\integration\\keras\\keras.py\", line 656, in on_train_batch_end\n",
      "    wandb.run.summary[\"graph\"] = wandb.Graph.from_keras(self.model)\n",
      "  File \"C:\\anaconda3\\envs\\jupyterenv\\lib\\site-packages\\wandb\\sdk\\wandb_summary.py\", line 52, in __setitem__\n",
      "    self.update({key: val})\n",
      "  File \"C:\\anaconda3\\envs\\jupyterenv\\lib\\site-packages\\wandb\\sdk\\wandb_summary.py\", line 74, in update\n",
      "    self._update(record)\n",
      "  File \"C:\\anaconda3\\envs\\jupyterenv\\lib\\site-packages\\wandb\\sdk\\wandb_summary.py\", line 128, in _update\n",
      "    self._update_callback(record)\n",
      "  File \"C:\\anaconda3\\envs\\jupyterenv\\lib\\site-packages\\wandb\\sdk\\wandb_run.py\", line 400, in wrapper_fn\n",
      "    return func(self, *args, **kwargs)\n",
      "  File \"C:\\anaconda3\\envs\\jupyterenv\\lib\\site-packages\\wandb\\sdk\\wandb_run.py\", line 1424, in _summary_update_callback\n",
      "    self._backend.interface.publish_summary(summary_record)\n",
      "  File \"C:\\anaconda3\\envs\\jupyterenv\\lib\\site-packages\\wandb\\sdk\\interface\\interface.py\", line 270, in publish_summary\n",
      "    pb_summary_record = self._make_summary(summary_record)\n",
      "  File \"C:\\anaconda3\\envs\\jupyterenv\\lib\\site-packages\\wandb\\sdk\\interface\\interface.py\", line 248, in _make_summary\n",
      "    json_value = self._summary_encode(item.value, path_from_root)\n",
      "  File \"C:\\anaconda3\\envs\\jupyterenv\\lib\\site-packages\\wandb\\sdk\\interface\\interface.py\", line 221, in _summary_encode\n",
      "    val_to_json(self._run, path_from_root, value, namespace=\"summary\")\n",
      "  File \"C:\\anaconda3\\envs\\jupyterenv\\lib\\site-packages\\wandb\\sdk\\data_types\\utils.py\", line 164, in val_to_json\n",
      "    val.bind_to_run(run, key, namespace)\n",
      "  File \"C:\\anaconda3\\envs\\jupyterenv\\lib\\site-packages\\wandb\\data_types.py\", line 1377, in bind_to_run\n",
      "    with codecs.open(tmp_path, \"w\", encoding=\"utf-8\") as fp:\n",
      "  File \"C:\\anaconda3\\envs\\jupyterenv\\lib\\codecs.py\", line 906, in open\n",
      "    file = builtins.open(filename, mode, buffering)\n",
      "FileNotFoundError: [Errno 2] No such file or directory: 'C:\\\\Users\\\\Addisu\\\\AppData\\\\Local\\\\Temp\\\\tmpbie7lvyxwandb-media\\\\s3u722yc.graph.json'\n"
     ]
    },
    {
     "data": {
      "text/html": [
       " View run <strong style=\"color:#cdcd00\">glad-sweep-10</strong> at: <a href='https://wandb.ai/evapppp/sweeps-keras/runs/evthw7dt' target=\"_blank\">https://wandb.ai/evapppp/sweeps-keras/runs/evthw7dt</a><br/> View project at: <a href='https://wandb.ai/evapppp/sweeps-keras' target=\"_blank\">https://wandb.ai/evapppp/sweeps-keras</a><br/>Synced 5 W&B file(s), 0 media file(s), 0 artifact file(s) and 0 other file(s)"
      ],
      "text/plain": [
       "<IPython.core.display.HTML object>"
      ]
     },
     "metadata": {},
     "output_type": "display_data"
    },
    {
     "data": {
      "text/html": [
       "Find logs at: <code>.\\wandb\\run-20240621_153528-evthw7dt\\logs</code>"
      ],
      "text/plain": [
       "<IPython.core.display.HTML object>"
      ]
     },
     "metadata": {},
     "output_type": "display_data"
    },
    {
     "name": "stderr",
     "output_type": "stream",
     "text": [
      "Run evthw7dt errored:\n",
      "Traceback (most recent call last):\n",
      "  File \"C:\\anaconda3\\envs\\jupyterenv\\lib\\site-packages\\wandb\\agents\\pyagent.py\", line 307, in _run_job\n",
      "    self._function()\n",
      "  File \"C:\\Users\\Addisu\\AppData\\Local\\Temp\\ipykernel_74596\\2644847777.py\", line 221, in sweep_train\n",
      "    train(model,\n",
      "  File \"C:\\Users\\Addisu\\AppData\\Local\\Temp\\ipykernel_74596\\2644847777.py\", line 151, in train\n",
      "    model.fit(X_train,\n",
      "  File \"C:\\anaconda3\\envs\\jupyterenv\\lib\\site-packages\\keras\\src\\utils\\traceback_utils.py\", line 70, in error_handler\n",
      "    raise e.with_traceback(filtered_tb) from None\n",
      "  File \"C:\\anaconda3\\envs\\jupyterenv\\lib\\site-packages\\wandb\\integration\\keras\\keras.py\", line 656, in on_train_batch_end\n",
      "    wandb.run.summary[\"graph\"] = wandb.Graph.from_keras(self.model)\n",
      "  File \"C:\\anaconda3\\envs\\jupyterenv\\lib\\site-packages\\wandb\\sdk\\wandb_summary.py\", line 52, in __setitem__\n",
      "    self.update({key: val})\n",
      "  File \"C:\\anaconda3\\envs\\jupyterenv\\lib\\site-packages\\wandb\\sdk\\wandb_summary.py\", line 74, in update\n",
      "    self._update(record)\n",
      "  File \"C:\\anaconda3\\envs\\jupyterenv\\lib\\site-packages\\wandb\\sdk\\wandb_summary.py\", line 128, in _update\n",
      "    self._update_callback(record)\n",
      "  File \"C:\\anaconda3\\envs\\jupyterenv\\lib\\site-packages\\wandb\\sdk\\wandb_run.py\", line 400, in wrapper_fn\n",
      "    return func(self, *args, **kwargs)\n",
      "  File \"C:\\anaconda3\\envs\\jupyterenv\\lib\\site-packages\\wandb\\sdk\\wandb_run.py\", line 1424, in _summary_update_callback\n",
      "    self._backend.interface.publish_summary(summary_record)\n",
      "  File \"C:\\anaconda3\\envs\\jupyterenv\\lib\\site-packages\\wandb\\sdk\\interface\\interface.py\", line 270, in publish_summary\n",
      "    pb_summary_record = self._make_summary(summary_record)\n",
      "  File \"C:\\anaconda3\\envs\\jupyterenv\\lib\\site-packages\\wandb\\sdk\\interface\\interface.py\", line 248, in _make_summary\n",
      "    json_value = self._summary_encode(item.value, path_from_root)\n",
      "  File \"C:\\anaconda3\\envs\\jupyterenv\\lib\\site-packages\\wandb\\sdk\\interface\\interface.py\", line 221, in _summary_encode\n",
      "    val_to_json(self._run, path_from_root, value, namespace=\"summary\")\n",
      "  File \"C:\\anaconda3\\envs\\jupyterenv\\lib\\site-packages\\wandb\\sdk\\data_types\\utils.py\", line 164, in val_to_json\n",
      "    val.bind_to_run(run, key, namespace)\n",
      "  File \"C:\\anaconda3\\envs\\jupyterenv\\lib\\site-packages\\wandb\\data_types.py\", line 1377, in bind_to_run\n",
      "    with codecs.open(tmp_path, \"w\", encoding=\"utf-8\") as fp:\n",
      "  File \"C:\\anaconda3\\envs\\jupyterenv\\lib\\codecs.py\", line 906, in open\n",
      "    file = builtins.open(filename, mode, buffering)\n",
      "FileNotFoundError: [Errno 2] No such file or directory: 'C:\\\\Users\\\\Addisu\\\\AppData\\\\Local\\\\Temp\\\\tmpbie7lvyxwandb-media\\\\s3u722yc.graph.json'\n",
      "\n",
      "\u001b[34m\u001b[1mwandb\u001b[0m: \u001b[32m\u001b[41mERROR\u001b[0m Run evthw7dt errored:\n",
      "\u001b[34m\u001b[1mwandb\u001b[0m: \u001b[32m\u001b[41mERROR\u001b[0m Traceback (most recent call last):\n",
      "\u001b[34m\u001b[1mwandb\u001b[0m: \u001b[32m\u001b[41mERROR\u001b[0m   File \"C:\\anaconda3\\envs\\jupyterenv\\lib\\site-packages\\wandb\\agents\\pyagent.py\", line 307, in _run_job\n",
      "\u001b[34m\u001b[1mwandb\u001b[0m: \u001b[32m\u001b[41mERROR\u001b[0m     self._function()\n",
      "\u001b[34m\u001b[1mwandb\u001b[0m: \u001b[32m\u001b[41mERROR\u001b[0m   File \"C:\\Users\\Addisu\\AppData\\Local\\Temp\\ipykernel_74596\\2644847777.py\", line 221, in sweep_train\n",
      "\u001b[34m\u001b[1mwandb\u001b[0m: \u001b[32m\u001b[41mERROR\u001b[0m     train(model,\n",
      "\u001b[34m\u001b[1mwandb\u001b[0m: \u001b[32m\u001b[41mERROR\u001b[0m   File \"C:\\Users\\Addisu\\AppData\\Local\\Temp\\ipykernel_74596\\2644847777.py\", line 151, in train\n",
      "\u001b[34m\u001b[1mwandb\u001b[0m: \u001b[32m\u001b[41mERROR\u001b[0m     model.fit(X_train,\n",
      "\u001b[34m\u001b[1mwandb\u001b[0m: \u001b[32m\u001b[41mERROR\u001b[0m   File \"C:\\anaconda3\\envs\\jupyterenv\\lib\\site-packages\\keras\\src\\utils\\traceback_utils.py\", line 70, in error_handler\n",
      "\u001b[34m\u001b[1mwandb\u001b[0m: \u001b[32m\u001b[41mERROR\u001b[0m     raise e.with_traceback(filtered_tb) from None\n",
      "\u001b[34m\u001b[1mwandb\u001b[0m: \u001b[32m\u001b[41mERROR\u001b[0m   File \"C:\\anaconda3\\envs\\jupyterenv\\lib\\site-packages\\wandb\\integration\\keras\\keras.py\", line 656, in on_train_batch_end\n",
      "\u001b[34m\u001b[1mwandb\u001b[0m: \u001b[32m\u001b[41mERROR\u001b[0m     wandb.run.summary[\"graph\"] = wandb.Graph.from_keras(self.model)\n",
      "\u001b[34m\u001b[1mwandb\u001b[0m: \u001b[32m\u001b[41mERROR\u001b[0m   File \"C:\\anaconda3\\envs\\jupyterenv\\lib\\site-packages\\wandb\\sdk\\wandb_summary.py\", line 52, in __setitem__\n",
      "\u001b[34m\u001b[1mwandb\u001b[0m: \u001b[32m\u001b[41mERROR\u001b[0m     self.update({key: val})\n",
      "\u001b[34m\u001b[1mwandb\u001b[0m: \u001b[32m\u001b[41mERROR\u001b[0m   File \"C:\\anaconda3\\envs\\jupyterenv\\lib\\site-packages\\wandb\\sdk\\wandb_summary.py\", line 74, in update\n",
      "\u001b[34m\u001b[1mwandb\u001b[0m: \u001b[32m\u001b[41mERROR\u001b[0m     self._update(record)\n",
      "\u001b[34m\u001b[1mwandb\u001b[0m: \u001b[32m\u001b[41mERROR\u001b[0m   File \"C:\\anaconda3\\envs\\jupyterenv\\lib\\site-packages\\wandb\\sdk\\wandb_summary.py\", line 128, in _update\n",
      "\u001b[34m\u001b[1mwandb\u001b[0m: \u001b[32m\u001b[41mERROR\u001b[0m     self._update_callback(record)\n",
      "\u001b[34m\u001b[1mwandb\u001b[0m: \u001b[32m\u001b[41mERROR\u001b[0m   File \"C:\\anaconda3\\envs\\jupyterenv\\lib\\site-packages\\wandb\\sdk\\wandb_run.py\", line 400, in wrapper_fn\n",
      "\u001b[34m\u001b[1mwandb\u001b[0m: \u001b[32m\u001b[41mERROR\u001b[0m     return func(self, *args, **kwargs)\n",
      "\u001b[34m\u001b[1mwandb\u001b[0m: \u001b[32m\u001b[41mERROR\u001b[0m   File \"C:\\anaconda3\\envs\\jupyterenv\\lib\\site-packages\\wandb\\sdk\\wandb_run.py\", line 1424, in _summary_update_callback\n",
      "\u001b[34m\u001b[1mwandb\u001b[0m: \u001b[32m\u001b[41mERROR\u001b[0m     self._backend.interface.publish_summary(summary_record)\n",
      "\u001b[34m\u001b[1mwandb\u001b[0m: \u001b[32m\u001b[41mERROR\u001b[0m   File \"C:\\anaconda3\\envs\\jupyterenv\\lib\\site-packages\\wandb\\sdk\\interface\\interface.py\", line 270, in publish_summary\n",
      "\u001b[34m\u001b[1mwandb\u001b[0m: \u001b[32m\u001b[41mERROR\u001b[0m     pb_summary_record = self._make_summary(summary_record)\n",
      "\u001b[34m\u001b[1mwandb\u001b[0m: \u001b[32m\u001b[41mERROR\u001b[0m   File \"C:\\anaconda3\\envs\\jupyterenv\\lib\\site-packages\\wandb\\sdk\\interface\\interface.py\", line 248, in _make_summary\n",
      "\u001b[34m\u001b[1mwandb\u001b[0m: \u001b[32m\u001b[41mERROR\u001b[0m     json_value = self._summary_encode(item.value, path_from_root)\n",
      "\u001b[34m\u001b[1mwandb\u001b[0m: \u001b[32m\u001b[41mERROR\u001b[0m   File \"C:\\anaconda3\\envs\\jupyterenv\\lib\\site-packages\\wandb\\sdk\\interface\\interface.py\", line 221, in _summary_encode\n",
      "\u001b[34m\u001b[1mwandb\u001b[0m: \u001b[32m\u001b[41mERROR\u001b[0m     val_to_json(self._run, path_from_root, value, namespace=\"summary\")\n",
      "\u001b[34m\u001b[1mwandb\u001b[0m: \u001b[32m\u001b[41mERROR\u001b[0m   File \"C:\\anaconda3\\envs\\jupyterenv\\lib\\site-packages\\wandb\\sdk\\data_types\\utils.py\", line 164, in val_to_json\n",
      "\u001b[34m\u001b[1mwandb\u001b[0m: \u001b[32m\u001b[41mERROR\u001b[0m     val.bind_to_run(run, key, namespace)\n",
      "\u001b[34m\u001b[1mwandb\u001b[0m: \u001b[32m\u001b[41mERROR\u001b[0m   File \"C:\\anaconda3\\envs\\jupyterenv\\lib\\site-packages\\wandb\\data_types.py\", line 1377, in bind_to_run\n",
      "\u001b[34m\u001b[1mwandb\u001b[0m: \u001b[32m\u001b[41mERROR\u001b[0m     with codecs.open(tmp_path, \"w\", encoding=\"utf-8\") as fp:\n",
      "\u001b[34m\u001b[1mwandb\u001b[0m: \u001b[32m\u001b[41mERROR\u001b[0m   File \"C:\\anaconda3\\envs\\jupyterenv\\lib\\codecs.py\", line 906, in open\n",
      "\u001b[34m\u001b[1mwandb\u001b[0m: \u001b[32m\u001b[41mERROR\u001b[0m     file = builtins.open(filename, mode, buffering)\n",
      "\u001b[34m\u001b[1mwandb\u001b[0m: \u001b[32m\u001b[41mERROR\u001b[0m FileNotFoundError: [Errno 2] No such file or directory: 'C:\\\\Users\\\\Addisu\\\\AppData\\\\Local\\\\Temp\\\\tmpbie7lvyxwandb-media\\\\s3u722yc.graph.json'\n",
      "\u001b[34m\u001b[1mwandb\u001b[0m: \u001b[32m\u001b[41mERROR\u001b[0m \n",
      "\u001b[34m\u001b[1mwandb\u001b[0m: Agent Starting Run: uwi76huq with config:\n",
      "\u001b[34m\u001b[1mwandb\u001b[0m: \tbatch_size: 56\n",
      "\u001b[34m\u001b[1mwandb\u001b[0m: \tdense_activation: relu\n",
      "\u001b[34m\u001b[1mwandb\u001b[0m: \tdropout: 0.3\n",
      "\u001b[34m\u001b[1mwandb\u001b[0m: \tepochs: 1\n",
      "\u001b[34m\u001b[1mwandb\u001b[0m: \tlearning_rate: 0.0032805274149451348\n",
      "\u001b[34m\u001b[1mwandb\u001b[0m: \toptimizer: sgd\n"
     ]
    },
    {
     "data": {
      "text/html": [
       "wandb version 0.17.2 is available!  To upgrade, please run:\n",
       " $ pip install wandb --upgrade"
      ],
      "text/plain": [
       "<IPython.core.display.HTML object>"
      ]
     },
     "metadata": {},
     "output_type": "display_data"
    },
    {
     "data": {
      "text/html": [
       "Tracking run with wandb version 0.17.0"
      ],
      "text/plain": [
       "<IPython.core.display.HTML object>"
      ]
     },
     "metadata": {},
     "output_type": "display_data"
    },
    {
     "data": {
      "text/html": [
       "Run data is saved locally in <code>C:\\Users\\Addisu\\Desktop\\kidi files\\Python workshop with ellen\\wandb\\run-20240621_153555-uwi76huq</code>"
      ],
      "text/plain": [
       "<IPython.core.display.HTML object>"
      ]
     },
     "metadata": {},
     "output_type": "display_data"
    },
    {
     "data": {
      "text/html": [
       "Syncing run <strong><a href='https://wandb.ai/evapppp/sweeps-keras/runs/uwi76huq' target=\"_blank\">dandy-sweep-11</a></strong> to <a href='https://wandb.ai/evapppp/sweeps-keras' target=\"_blank\">Weights & Biases</a> (<a href='https://wandb.me/run' target=\"_blank\">docs</a>)<br/>Sweep page: <a href='https://wandb.ai/evapppp/sweeps-keras/sweeps/qu378scj' target=\"_blank\">https://wandb.ai/evapppp/sweeps-keras/sweeps/qu378scj</a>"
      ],
      "text/plain": [
       "<IPython.core.display.HTML object>"
      ]
     },
     "metadata": {},
     "output_type": "display_data"
    },
    {
     "data": {
      "text/html": [
       " View project at <a href='https://wandb.ai/evapppp/sweeps-keras' target=\"_blank\">https://wandb.ai/evapppp/sweeps-keras</a>"
      ],
      "text/plain": [
       "<IPython.core.display.HTML object>"
      ]
     },
     "metadata": {},
     "output_type": "display_data"
    },
    {
     "data": {
      "text/html": [
       " View sweep at <a href='https://wandb.ai/evapppp/sweeps-keras/sweeps/qu378scj' target=\"_blank\">https://wandb.ai/evapppp/sweeps-keras/sweeps/qu378scj</a>"
      ],
      "text/plain": [
       "<IPython.core.display.HTML object>"
      ]
     },
     "metadata": {},
     "output_type": "display_data"
    },
    {
     "data": {
      "text/html": [
       " View run at <a href='https://wandb.ai/evapppp/sweeps-keras/runs/uwi76huq' target=\"_blank\">https://wandb.ai/evapppp/sweeps-keras/runs/uwi76huq</a>"
      ],
      "text/plain": [
       "<IPython.core.display.HTML object>"
      ]
     },
     "metadata": {},
     "output_type": "display_data"
    },
    {
     "name": "stderr",
     "output_type": "stream",
     "text": [
      "Traceback (most recent call last):\n",
      "  File \"C:\\Users\\Addisu\\AppData\\Local\\Temp\\ipykernel_74596\\2644847777.py\", line 221, in sweep_train\n",
      "    train(model,\n",
      "  File \"C:\\Users\\Addisu\\AppData\\Local\\Temp\\ipykernel_74596\\2644847777.py\", line 151, in train\n",
      "    model.fit(X_train,\n",
      "  File \"C:\\anaconda3\\envs\\jupyterenv\\lib\\site-packages\\keras\\src\\utils\\traceback_utils.py\", line 70, in error_handler\n",
      "    raise e.with_traceback(filtered_tb) from None\n",
      "  File \"C:\\anaconda3\\envs\\jupyterenv\\lib\\site-packages\\wandb\\integration\\keras\\keras.py\", line 656, in on_train_batch_end\n",
      "    wandb.run.summary[\"graph\"] = wandb.Graph.from_keras(self.model)\n",
      "  File \"C:\\anaconda3\\envs\\jupyterenv\\lib\\site-packages\\wandb\\sdk\\wandb_summary.py\", line 52, in __setitem__\n",
      "    self.update({key: val})\n",
      "  File \"C:\\anaconda3\\envs\\jupyterenv\\lib\\site-packages\\wandb\\sdk\\wandb_summary.py\", line 74, in update\n",
      "    self._update(record)\n",
      "  File \"C:\\anaconda3\\envs\\jupyterenv\\lib\\site-packages\\wandb\\sdk\\wandb_summary.py\", line 128, in _update\n",
      "    self._update_callback(record)\n",
      "  File \"C:\\anaconda3\\envs\\jupyterenv\\lib\\site-packages\\wandb\\sdk\\wandb_run.py\", line 400, in wrapper_fn\n",
      "    return func(self, *args, **kwargs)\n",
      "  File \"C:\\anaconda3\\envs\\jupyterenv\\lib\\site-packages\\wandb\\sdk\\wandb_run.py\", line 1424, in _summary_update_callback\n",
      "    self._backend.interface.publish_summary(summary_record)\n",
      "  File \"C:\\anaconda3\\envs\\jupyterenv\\lib\\site-packages\\wandb\\sdk\\interface\\interface.py\", line 270, in publish_summary\n",
      "    pb_summary_record = self._make_summary(summary_record)\n",
      "  File \"C:\\anaconda3\\envs\\jupyterenv\\lib\\site-packages\\wandb\\sdk\\interface\\interface.py\", line 248, in _make_summary\n",
      "    json_value = self._summary_encode(item.value, path_from_root)\n",
      "  File \"C:\\anaconda3\\envs\\jupyterenv\\lib\\site-packages\\wandb\\sdk\\interface\\interface.py\", line 221, in _summary_encode\n",
      "    val_to_json(self._run, path_from_root, value, namespace=\"summary\")\n",
      "  File \"C:\\anaconda3\\envs\\jupyterenv\\lib\\site-packages\\wandb\\sdk\\data_types\\utils.py\", line 164, in val_to_json\n",
      "    val.bind_to_run(run, key, namespace)\n",
      "  File \"C:\\anaconda3\\envs\\jupyterenv\\lib\\site-packages\\wandb\\data_types.py\", line 1377, in bind_to_run\n",
      "    with codecs.open(tmp_path, \"w\", encoding=\"utf-8\") as fp:\n",
      "  File \"C:\\anaconda3\\envs\\jupyterenv\\lib\\codecs.py\", line 906, in open\n",
      "    file = builtins.open(filename, mode, buffering)\n",
      "FileNotFoundError: [Errno 2] No such file or directory: 'C:\\\\Users\\\\Addisu\\\\AppData\\\\Local\\\\Temp\\\\tmpbie7lvyxwandb-media\\\\6eeew3ak.graph.json'\n"
     ]
    },
    {
     "data": {
      "text/html": [
       " View run <strong style=\"color:#cdcd00\">dandy-sweep-11</strong> at: <a href='https://wandb.ai/evapppp/sweeps-keras/runs/uwi76huq' target=\"_blank\">https://wandb.ai/evapppp/sweeps-keras/runs/uwi76huq</a><br/> View project at: <a href='https://wandb.ai/evapppp/sweeps-keras' target=\"_blank\">https://wandb.ai/evapppp/sweeps-keras</a><br/>Synced 5 W&B file(s), 0 media file(s), 0 artifact file(s) and 0 other file(s)"
      ],
      "text/plain": [
       "<IPython.core.display.HTML object>"
      ]
     },
     "metadata": {},
     "output_type": "display_data"
    },
    {
     "data": {
      "text/html": [
       "Find logs at: <code>.\\wandb\\run-20240621_153555-uwi76huq\\logs</code>"
      ],
      "text/plain": [
       "<IPython.core.display.HTML object>"
      ]
     },
     "metadata": {},
     "output_type": "display_data"
    },
    {
     "name": "stderr",
     "output_type": "stream",
     "text": [
      "Run uwi76huq errored:\n",
      "Traceback (most recent call last):\n",
      "  File \"C:\\anaconda3\\envs\\jupyterenv\\lib\\site-packages\\wandb\\agents\\pyagent.py\", line 307, in _run_job\n",
      "    self._function()\n",
      "  File \"C:\\Users\\Addisu\\AppData\\Local\\Temp\\ipykernel_74596\\2644847777.py\", line 221, in sweep_train\n",
      "    train(model,\n",
      "  File \"C:\\Users\\Addisu\\AppData\\Local\\Temp\\ipykernel_74596\\2644847777.py\", line 151, in train\n",
      "    model.fit(X_train,\n",
      "  File \"C:\\anaconda3\\envs\\jupyterenv\\lib\\site-packages\\keras\\src\\utils\\traceback_utils.py\", line 70, in error_handler\n",
      "    raise e.with_traceback(filtered_tb) from None\n",
      "  File \"C:\\anaconda3\\envs\\jupyterenv\\lib\\site-packages\\wandb\\integration\\keras\\keras.py\", line 656, in on_train_batch_end\n",
      "    wandb.run.summary[\"graph\"] = wandb.Graph.from_keras(self.model)\n",
      "  File \"C:\\anaconda3\\envs\\jupyterenv\\lib\\site-packages\\wandb\\sdk\\wandb_summary.py\", line 52, in __setitem__\n",
      "    self.update({key: val})\n",
      "  File \"C:\\anaconda3\\envs\\jupyterenv\\lib\\site-packages\\wandb\\sdk\\wandb_summary.py\", line 74, in update\n",
      "    self._update(record)\n",
      "  File \"C:\\anaconda3\\envs\\jupyterenv\\lib\\site-packages\\wandb\\sdk\\wandb_summary.py\", line 128, in _update\n",
      "    self._update_callback(record)\n",
      "  File \"C:\\anaconda3\\envs\\jupyterenv\\lib\\site-packages\\wandb\\sdk\\wandb_run.py\", line 400, in wrapper_fn\n",
      "    return func(self, *args, **kwargs)\n",
      "  File \"C:\\anaconda3\\envs\\jupyterenv\\lib\\site-packages\\wandb\\sdk\\wandb_run.py\", line 1424, in _summary_update_callback\n",
      "    self._backend.interface.publish_summary(summary_record)\n",
      "  File \"C:\\anaconda3\\envs\\jupyterenv\\lib\\site-packages\\wandb\\sdk\\interface\\interface.py\", line 270, in publish_summary\n",
      "    pb_summary_record = self._make_summary(summary_record)\n",
      "  File \"C:\\anaconda3\\envs\\jupyterenv\\lib\\site-packages\\wandb\\sdk\\interface\\interface.py\", line 248, in _make_summary\n",
      "    json_value = self._summary_encode(item.value, path_from_root)\n",
      "  File \"C:\\anaconda3\\envs\\jupyterenv\\lib\\site-packages\\wandb\\sdk\\interface\\interface.py\", line 221, in _summary_encode\n",
      "    val_to_json(self._run, path_from_root, value, namespace=\"summary\")\n",
      "  File \"C:\\anaconda3\\envs\\jupyterenv\\lib\\site-packages\\wandb\\sdk\\data_types\\utils.py\", line 164, in val_to_json\n",
      "    val.bind_to_run(run, key, namespace)\n",
      "  File \"C:\\anaconda3\\envs\\jupyterenv\\lib\\site-packages\\wandb\\data_types.py\", line 1377, in bind_to_run\n",
      "    with codecs.open(tmp_path, \"w\", encoding=\"utf-8\") as fp:\n",
      "  File \"C:\\anaconda3\\envs\\jupyterenv\\lib\\codecs.py\", line 906, in open\n",
      "    file = builtins.open(filename, mode, buffering)\n",
      "FileNotFoundError: [Errno 2] No such file or directory: 'C:\\\\Users\\\\Addisu\\\\AppData\\\\Local\\\\Temp\\\\tmpbie7lvyxwandb-media\\\\6eeew3ak.graph.json'\n",
      "\n",
      "\u001b[34m\u001b[1mwandb\u001b[0m: \u001b[32m\u001b[41mERROR\u001b[0m Run uwi76huq errored:\n",
      "\u001b[34m\u001b[1mwandb\u001b[0m: \u001b[32m\u001b[41mERROR\u001b[0m Traceback (most recent call last):\n",
      "\u001b[34m\u001b[1mwandb\u001b[0m: \u001b[32m\u001b[41mERROR\u001b[0m   File \"C:\\anaconda3\\envs\\jupyterenv\\lib\\site-packages\\wandb\\agents\\pyagent.py\", line 307, in _run_job\n",
      "\u001b[34m\u001b[1mwandb\u001b[0m: \u001b[32m\u001b[41mERROR\u001b[0m     self._function()\n",
      "\u001b[34m\u001b[1mwandb\u001b[0m: \u001b[32m\u001b[41mERROR\u001b[0m   File \"C:\\Users\\Addisu\\AppData\\Local\\Temp\\ipykernel_74596\\2644847777.py\", line 221, in sweep_train\n",
      "\u001b[34m\u001b[1mwandb\u001b[0m: \u001b[32m\u001b[41mERROR\u001b[0m     train(model,\n",
      "\u001b[34m\u001b[1mwandb\u001b[0m: \u001b[32m\u001b[41mERROR\u001b[0m   File \"C:\\Users\\Addisu\\AppData\\Local\\Temp\\ipykernel_74596\\2644847777.py\", line 151, in train\n",
      "\u001b[34m\u001b[1mwandb\u001b[0m: \u001b[32m\u001b[41mERROR\u001b[0m     model.fit(X_train,\n",
      "\u001b[34m\u001b[1mwandb\u001b[0m: \u001b[32m\u001b[41mERROR\u001b[0m   File \"C:\\anaconda3\\envs\\jupyterenv\\lib\\site-packages\\keras\\src\\utils\\traceback_utils.py\", line 70, in error_handler\n",
      "\u001b[34m\u001b[1mwandb\u001b[0m: \u001b[32m\u001b[41mERROR\u001b[0m     raise e.with_traceback(filtered_tb) from None\n",
      "\u001b[34m\u001b[1mwandb\u001b[0m: \u001b[32m\u001b[41mERROR\u001b[0m   File \"C:\\anaconda3\\envs\\jupyterenv\\lib\\site-packages\\wandb\\integration\\keras\\keras.py\", line 656, in on_train_batch_end\n",
      "\u001b[34m\u001b[1mwandb\u001b[0m: \u001b[32m\u001b[41mERROR\u001b[0m     wandb.run.summary[\"graph\"] = wandb.Graph.from_keras(self.model)\n",
      "\u001b[34m\u001b[1mwandb\u001b[0m: \u001b[32m\u001b[41mERROR\u001b[0m   File \"C:\\anaconda3\\envs\\jupyterenv\\lib\\site-packages\\wandb\\sdk\\wandb_summary.py\", line 52, in __setitem__\n",
      "\u001b[34m\u001b[1mwandb\u001b[0m: \u001b[32m\u001b[41mERROR\u001b[0m     self.update({key: val})\n",
      "\u001b[34m\u001b[1mwandb\u001b[0m: \u001b[32m\u001b[41mERROR\u001b[0m   File \"C:\\anaconda3\\envs\\jupyterenv\\lib\\site-packages\\wandb\\sdk\\wandb_summary.py\", line 74, in update\n",
      "\u001b[34m\u001b[1mwandb\u001b[0m: \u001b[32m\u001b[41mERROR\u001b[0m     self._update(record)\n",
      "\u001b[34m\u001b[1mwandb\u001b[0m: \u001b[32m\u001b[41mERROR\u001b[0m   File \"C:\\anaconda3\\envs\\jupyterenv\\lib\\site-packages\\wandb\\sdk\\wandb_summary.py\", line 128, in _update\n",
      "\u001b[34m\u001b[1mwandb\u001b[0m: \u001b[32m\u001b[41mERROR\u001b[0m     self._update_callback(record)\n",
      "\u001b[34m\u001b[1mwandb\u001b[0m: \u001b[32m\u001b[41mERROR\u001b[0m   File \"C:\\anaconda3\\envs\\jupyterenv\\lib\\site-packages\\wandb\\sdk\\wandb_run.py\", line 400, in wrapper_fn\n",
      "\u001b[34m\u001b[1mwandb\u001b[0m: \u001b[32m\u001b[41mERROR\u001b[0m     return func(self, *args, **kwargs)\n",
      "\u001b[34m\u001b[1mwandb\u001b[0m: \u001b[32m\u001b[41mERROR\u001b[0m   File \"C:\\anaconda3\\envs\\jupyterenv\\lib\\site-packages\\wandb\\sdk\\wandb_run.py\", line 1424, in _summary_update_callback\n",
      "\u001b[34m\u001b[1mwandb\u001b[0m: \u001b[32m\u001b[41mERROR\u001b[0m     self._backend.interface.publish_summary(summary_record)\n",
      "\u001b[34m\u001b[1mwandb\u001b[0m: \u001b[32m\u001b[41mERROR\u001b[0m   File \"C:\\anaconda3\\envs\\jupyterenv\\lib\\site-packages\\wandb\\sdk\\interface\\interface.py\", line 270, in publish_summary\n",
      "\u001b[34m\u001b[1mwandb\u001b[0m: \u001b[32m\u001b[41mERROR\u001b[0m     pb_summary_record = self._make_summary(summary_record)\n",
      "\u001b[34m\u001b[1mwandb\u001b[0m: \u001b[32m\u001b[41mERROR\u001b[0m   File \"C:\\anaconda3\\envs\\jupyterenv\\lib\\site-packages\\wandb\\sdk\\interface\\interface.py\", line 248, in _make_summary\n",
      "\u001b[34m\u001b[1mwandb\u001b[0m: \u001b[32m\u001b[41mERROR\u001b[0m     json_value = self._summary_encode(item.value, path_from_root)\n",
      "\u001b[34m\u001b[1mwandb\u001b[0m: \u001b[32m\u001b[41mERROR\u001b[0m   File \"C:\\anaconda3\\envs\\jupyterenv\\lib\\site-packages\\wandb\\sdk\\interface\\interface.py\", line 221, in _summary_encode\n",
      "\u001b[34m\u001b[1mwandb\u001b[0m: \u001b[32m\u001b[41mERROR\u001b[0m     val_to_json(self._run, path_from_root, value, namespace=\"summary\")\n",
      "\u001b[34m\u001b[1mwandb\u001b[0m: \u001b[32m\u001b[41mERROR\u001b[0m   File \"C:\\anaconda3\\envs\\jupyterenv\\lib\\site-packages\\wandb\\sdk\\data_types\\utils.py\", line 164, in val_to_json\n",
      "\u001b[34m\u001b[1mwandb\u001b[0m: \u001b[32m\u001b[41mERROR\u001b[0m     val.bind_to_run(run, key, namespace)\n",
      "\u001b[34m\u001b[1mwandb\u001b[0m: \u001b[32m\u001b[41mERROR\u001b[0m   File \"C:\\anaconda3\\envs\\jupyterenv\\lib\\site-packages\\wandb\\data_types.py\", line 1377, in bind_to_run\n",
      "\u001b[34m\u001b[1mwandb\u001b[0m: \u001b[32m\u001b[41mERROR\u001b[0m     with codecs.open(tmp_path, \"w\", encoding=\"utf-8\") as fp:\n",
      "\u001b[34m\u001b[1mwandb\u001b[0m: \u001b[32m\u001b[41mERROR\u001b[0m   File \"C:\\anaconda3\\envs\\jupyterenv\\lib\\codecs.py\", line 906, in open\n",
      "\u001b[34m\u001b[1mwandb\u001b[0m: \u001b[32m\u001b[41mERROR\u001b[0m     file = builtins.open(filename, mode, buffering)\n",
      "\u001b[34m\u001b[1mwandb\u001b[0m: \u001b[32m\u001b[41mERROR\u001b[0m FileNotFoundError: [Errno 2] No such file or directory: 'C:\\\\Users\\\\Addisu\\\\AppData\\\\Local\\\\Temp\\\\tmpbie7lvyxwandb-media\\\\6eeew3ak.graph.json'\n",
      "\u001b[34m\u001b[1mwandb\u001b[0m: \u001b[32m\u001b[41mERROR\u001b[0m \n",
      "\u001b[34m\u001b[1mwandb\u001b[0m: Sweep Agent: Waiting for job.\n",
      "\u001b[34m\u001b[1mwandb\u001b[0m: Job received.\n",
      "\u001b[34m\u001b[1mwandb\u001b[0m: Agent Starting Run: y0zxb9xu with config:\n",
      "\u001b[34m\u001b[1mwandb\u001b[0m: \tbatch_size: 120\n",
      "\u001b[34m\u001b[1mwandb\u001b[0m: \tdense_activation: relu\n",
      "\u001b[34m\u001b[1mwandb\u001b[0m: \tdropout: 0.2\n",
      "\u001b[34m\u001b[1mwandb\u001b[0m: \tepochs: 1\n",
      "\u001b[34m\u001b[1mwandb\u001b[0m: \tlearning_rate: 0.003782691084328761\n",
      "\u001b[34m\u001b[1mwandb\u001b[0m: \toptimizer: sgd\n"
     ]
    },
    {
     "data": {
      "text/html": [
       "wandb version 0.17.2 is available!  To upgrade, please run:\n",
       " $ pip install wandb --upgrade"
      ],
      "text/plain": [
       "<IPython.core.display.HTML object>"
      ]
     },
     "metadata": {},
     "output_type": "display_data"
    },
    {
     "data": {
      "text/html": [
       "Tracking run with wandb version 0.17.0"
      ],
      "text/plain": [
       "<IPython.core.display.HTML object>"
      ]
     },
     "metadata": {},
     "output_type": "display_data"
    },
    {
     "data": {
      "text/html": [
       "Run data is saved locally in <code>C:\\Users\\Addisu\\Desktop\\kidi files\\Python workshop with ellen\\wandb\\run-20240621_153632-y0zxb9xu</code>"
      ],
      "text/plain": [
       "<IPython.core.display.HTML object>"
      ]
     },
     "metadata": {},
     "output_type": "display_data"
    },
    {
     "data": {
      "text/html": [
       "Syncing run <strong><a href='https://wandb.ai/evapppp/sweeps-keras/runs/y0zxb9xu' target=\"_blank\">curious-sweep-12</a></strong> to <a href='https://wandb.ai/evapppp/sweeps-keras' target=\"_blank\">Weights & Biases</a> (<a href='https://wandb.me/run' target=\"_blank\">docs</a>)<br/>Sweep page: <a href='https://wandb.ai/evapppp/sweeps-keras/sweeps/qu378scj' target=\"_blank\">https://wandb.ai/evapppp/sweeps-keras/sweeps/qu378scj</a>"
      ],
      "text/plain": [
       "<IPython.core.display.HTML object>"
      ]
     },
     "metadata": {},
     "output_type": "display_data"
    },
    {
     "data": {
      "text/html": [
       " View project at <a href='https://wandb.ai/evapppp/sweeps-keras' target=\"_blank\">https://wandb.ai/evapppp/sweeps-keras</a>"
      ],
      "text/plain": [
       "<IPython.core.display.HTML object>"
      ]
     },
     "metadata": {},
     "output_type": "display_data"
    },
    {
     "data": {
      "text/html": [
       " View sweep at <a href='https://wandb.ai/evapppp/sweeps-keras/sweeps/qu378scj' target=\"_blank\">https://wandb.ai/evapppp/sweeps-keras/sweeps/qu378scj</a>"
      ],
      "text/plain": [
       "<IPython.core.display.HTML object>"
      ]
     },
     "metadata": {},
     "output_type": "display_data"
    },
    {
     "data": {
      "text/html": [
       " View run at <a href='https://wandb.ai/evapppp/sweeps-keras/runs/y0zxb9xu' target=\"_blank\">https://wandb.ai/evapppp/sweeps-keras/runs/y0zxb9xu</a>"
      ],
      "text/plain": [
       "<IPython.core.display.HTML object>"
      ]
     },
     "metadata": {},
     "output_type": "display_data"
    },
    {
     "name": "stderr",
     "output_type": "stream",
     "text": [
      "Traceback (most recent call last):\n",
      "  File \"C:\\Users\\Addisu\\AppData\\Local\\Temp\\ipykernel_74596\\2644847777.py\", line 221, in sweep_train\n",
      "    train(model,\n",
      "  File \"C:\\Users\\Addisu\\AppData\\Local\\Temp\\ipykernel_74596\\2644847777.py\", line 151, in train\n",
      "    model.fit(X_train,\n",
      "  File \"C:\\anaconda3\\envs\\jupyterenv\\lib\\site-packages\\keras\\src\\utils\\traceback_utils.py\", line 70, in error_handler\n",
      "    raise e.with_traceback(filtered_tb) from None\n",
      "  File \"C:\\anaconda3\\envs\\jupyterenv\\lib\\site-packages\\wandb\\integration\\keras\\keras.py\", line 656, in on_train_batch_end\n",
      "    wandb.run.summary[\"graph\"] = wandb.Graph.from_keras(self.model)\n",
      "  File \"C:\\anaconda3\\envs\\jupyterenv\\lib\\site-packages\\wandb\\sdk\\wandb_summary.py\", line 52, in __setitem__\n",
      "    self.update({key: val})\n",
      "  File \"C:\\anaconda3\\envs\\jupyterenv\\lib\\site-packages\\wandb\\sdk\\wandb_summary.py\", line 74, in update\n",
      "    self._update(record)\n",
      "  File \"C:\\anaconda3\\envs\\jupyterenv\\lib\\site-packages\\wandb\\sdk\\wandb_summary.py\", line 128, in _update\n",
      "    self._update_callback(record)\n",
      "  File \"C:\\anaconda3\\envs\\jupyterenv\\lib\\site-packages\\wandb\\sdk\\wandb_run.py\", line 400, in wrapper_fn\n",
      "    return func(self, *args, **kwargs)\n",
      "  File \"C:\\anaconda3\\envs\\jupyterenv\\lib\\site-packages\\wandb\\sdk\\wandb_run.py\", line 1424, in _summary_update_callback\n",
      "    self._backend.interface.publish_summary(summary_record)\n",
      "  File \"C:\\anaconda3\\envs\\jupyterenv\\lib\\site-packages\\wandb\\sdk\\interface\\interface.py\", line 270, in publish_summary\n",
      "    pb_summary_record = self._make_summary(summary_record)\n",
      "  File \"C:\\anaconda3\\envs\\jupyterenv\\lib\\site-packages\\wandb\\sdk\\interface\\interface.py\", line 248, in _make_summary\n",
      "    json_value = self._summary_encode(item.value, path_from_root)\n",
      "  File \"C:\\anaconda3\\envs\\jupyterenv\\lib\\site-packages\\wandb\\sdk\\interface\\interface.py\", line 221, in _summary_encode\n",
      "    val_to_json(self._run, path_from_root, value, namespace=\"summary\")\n",
      "  File \"C:\\anaconda3\\envs\\jupyterenv\\lib\\site-packages\\wandb\\sdk\\data_types\\utils.py\", line 164, in val_to_json\n",
      "    val.bind_to_run(run, key, namespace)\n",
      "  File \"C:\\anaconda3\\envs\\jupyterenv\\lib\\site-packages\\wandb\\data_types.py\", line 1377, in bind_to_run\n",
      "    with codecs.open(tmp_path, \"w\", encoding=\"utf-8\") as fp:\n",
      "  File \"C:\\anaconda3\\envs\\jupyterenv\\lib\\codecs.py\", line 906, in open\n",
      "    file = builtins.open(filename, mode, buffering)\n",
      "FileNotFoundError: [Errno 2] No such file or directory: 'C:\\\\Users\\\\Addisu\\\\AppData\\\\Local\\\\Temp\\\\tmpbie7lvyxwandb-media\\\\drs84ljt.graph.json'\n"
     ]
    },
    {
     "data": {
      "text/html": [
       " View run <strong style=\"color:#cdcd00\">curious-sweep-12</strong> at: <a href='https://wandb.ai/evapppp/sweeps-keras/runs/y0zxb9xu' target=\"_blank\">https://wandb.ai/evapppp/sweeps-keras/runs/y0zxb9xu</a><br/> View project at: <a href='https://wandb.ai/evapppp/sweeps-keras' target=\"_blank\">https://wandb.ai/evapppp/sweeps-keras</a><br/>Synced 5 W&B file(s), 0 media file(s), 0 artifact file(s) and 0 other file(s)"
      ],
      "text/plain": [
       "<IPython.core.display.HTML object>"
      ]
     },
     "metadata": {},
     "output_type": "display_data"
    },
    {
     "data": {
      "text/html": [
       "Find logs at: <code>.\\wandb\\run-20240621_153632-y0zxb9xu\\logs</code>"
      ],
      "text/plain": [
       "<IPython.core.display.HTML object>"
      ]
     },
     "metadata": {},
     "output_type": "display_data"
    },
    {
     "name": "stderr",
     "output_type": "stream",
     "text": [
      "Run y0zxb9xu errored:\n",
      "Traceback (most recent call last):\n",
      "  File \"C:\\anaconda3\\envs\\jupyterenv\\lib\\site-packages\\wandb\\agents\\pyagent.py\", line 307, in _run_job\n",
      "    self._function()\n",
      "  File \"C:\\Users\\Addisu\\AppData\\Local\\Temp\\ipykernel_74596\\2644847777.py\", line 221, in sweep_train\n",
      "    train(model,\n",
      "  File \"C:\\Users\\Addisu\\AppData\\Local\\Temp\\ipykernel_74596\\2644847777.py\", line 151, in train\n",
      "    model.fit(X_train,\n",
      "  File \"C:\\anaconda3\\envs\\jupyterenv\\lib\\site-packages\\keras\\src\\utils\\traceback_utils.py\", line 70, in error_handler\n",
      "    raise e.with_traceback(filtered_tb) from None\n",
      "  File \"C:\\anaconda3\\envs\\jupyterenv\\lib\\site-packages\\wandb\\integration\\keras\\keras.py\", line 656, in on_train_batch_end\n",
      "    wandb.run.summary[\"graph\"] = wandb.Graph.from_keras(self.model)\n",
      "  File \"C:\\anaconda3\\envs\\jupyterenv\\lib\\site-packages\\wandb\\sdk\\wandb_summary.py\", line 52, in __setitem__\n",
      "    self.update({key: val})\n",
      "  File \"C:\\anaconda3\\envs\\jupyterenv\\lib\\site-packages\\wandb\\sdk\\wandb_summary.py\", line 74, in update\n",
      "    self._update(record)\n",
      "  File \"C:\\anaconda3\\envs\\jupyterenv\\lib\\site-packages\\wandb\\sdk\\wandb_summary.py\", line 128, in _update\n",
      "    self._update_callback(record)\n",
      "  File \"C:\\anaconda3\\envs\\jupyterenv\\lib\\site-packages\\wandb\\sdk\\wandb_run.py\", line 400, in wrapper_fn\n",
      "    return func(self, *args, **kwargs)\n",
      "  File \"C:\\anaconda3\\envs\\jupyterenv\\lib\\site-packages\\wandb\\sdk\\wandb_run.py\", line 1424, in _summary_update_callback\n",
      "    self._backend.interface.publish_summary(summary_record)\n",
      "  File \"C:\\anaconda3\\envs\\jupyterenv\\lib\\site-packages\\wandb\\sdk\\interface\\interface.py\", line 270, in publish_summary\n",
      "    pb_summary_record = self._make_summary(summary_record)\n",
      "  File \"C:\\anaconda3\\envs\\jupyterenv\\lib\\site-packages\\wandb\\sdk\\interface\\interface.py\", line 248, in _make_summary\n",
      "    json_value = self._summary_encode(item.value, path_from_root)\n",
      "  File \"C:\\anaconda3\\envs\\jupyterenv\\lib\\site-packages\\wandb\\sdk\\interface\\interface.py\", line 221, in _summary_encode\n",
      "    val_to_json(self._run, path_from_root, value, namespace=\"summary\")\n",
      "  File \"C:\\anaconda3\\envs\\jupyterenv\\lib\\site-packages\\wandb\\sdk\\data_types\\utils.py\", line 164, in val_to_json\n",
      "    val.bind_to_run(run, key, namespace)\n",
      "  File \"C:\\anaconda3\\envs\\jupyterenv\\lib\\site-packages\\wandb\\data_types.py\", line 1377, in bind_to_run\n",
      "    with codecs.open(tmp_path, \"w\", encoding=\"utf-8\") as fp:\n",
      "  File \"C:\\anaconda3\\envs\\jupyterenv\\lib\\codecs.py\", line 906, in open\n",
      "    file = builtins.open(filename, mode, buffering)\n",
      "FileNotFoundError: [Errno 2] No such file or directory: 'C:\\\\Users\\\\Addisu\\\\AppData\\\\Local\\\\Temp\\\\tmpbie7lvyxwandb-media\\\\drs84ljt.graph.json'\n",
      "\n",
      "\u001b[34m\u001b[1mwandb\u001b[0m: \u001b[32m\u001b[41mERROR\u001b[0m Run y0zxb9xu errored:\n",
      "\u001b[34m\u001b[1mwandb\u001b[0m: \u001b[32m\u001b[41mERROR\u001b[0m Traceback (most recent call last):\n",
      "\u001b[34m\u001b[1mwandb\u001b[0m: \u001b[32m\u001b[41mERROR\u001b[0m   File \"C:\\anaconda3\\envs\\jupyterenv\\lib\\site-packages\\wandb\\agents\\pyagent.py\", line 307, in _run_job\n",
      "\u001b[34m\u001b[1mwandb\u001b[0m: \u001b[32m\u001b[41mERROR\u001b[0m     self._function()\n",
      "\u001b[34m\u001b[1mwandb\u001b[0m: \u001b[32m\u001b[41mERROR\u001b[0m   File \"C:\\Users\\Addisu\\AppData\\Local\\Temp\\ipykernel_74596\\2644847777.py\", line 221, in sweep_train\n",
      "\u001b[34m\u001b[1mwandb\u001b[0m: \u001b[32m\u001b[41mERROR\u001b[0m     train(model,\n",
      "\u001b[34m\u001b[1mwandb\u001b[0m: \u001b[32m\u001b[41mERROR\u001b[0m   File \"C:\\Users\\Addisu\\AppData\\Local\\Temp\\ipykernel_74596\\2644847777.py\", line 151, in train\n",
      "\u001b[34m\u001b[1mwandb\u001b[0m: \u001b[32m\u001b[41mERROR\u001b[0m     model.fit(X_train,\n",
      "\u001b[34m\u001b[1mwandb\u001b[0m: \u001b[32m\u001b[41mERROR\u001b[0m   File \"C:\\anaconda3\\envs\\jupyterenv\\lib\\site-packages\\keras\\src\\utils\\traceback_utils.py\", line 70, in error_handler\n",
      "\u001b[34m\u001b[1mwandb\u001b[0m: \u001b[32m\u001b[41mERROR\u001b[0m     raise e.with_traceback(filtered_tb) from None\n",
      "\u001b[34m\u001b[1mwandb\u001b[0m: \u001b[32m\u001b[41mERROR\u001b[0m   File \"C:\\anaconda3\\envs\\jupyterenv\\lib\\site-packages\\wandb\\integration\\keras\\keras.py\", line 656, in on_train_batch_end\n",
      "\u001b[34m\u001b[1mwandb\u001b[0m: \u001b[32m\u001b[41mERROR\u001b[0m     wandb.run.summary[\"graph\"] = wandb.Graph.from_keras(self.model)\n",
      "\u001b[34m\u001b[1mwandb\u001b[0m: \u001b[32m\u001b[41mERROR\u001b[0m   File \"C:\\anaconda3\\envs\\jupyterenv\\lib\\site-packages\\wandb\\sdk\\wandb_summary.py\", line 52, in __setitem__\n",
      "\u001b[34m\u001b[1mwandb\u001b[0m: \u001b[32m\u001b[41mERROR\u001b[0m     self.update({key: val})\n",
      "\u001b[34m\u001b[1mwandb\u001b[0m: \u001b[32m\u001b[41mERROR\u001b[0m   File \"C:\\anaconda3\\envs\\jupyterenv\\lib\\site-packages\\wandb\\sdk\\wandb_summary.py\", line 74, in update\n",
      "\u001b[34m\u001b[1mwandb\u001b[0m: \u001b[32m\u001b[41mERROR\u001b[0m     self._update(record)\n",
      "\u001b[34m\u001b[1mwandb\u001b[0m: \u001b[32m\u001b[41mERROR\u001b[0m   File \"C:\\anaconda3\\envs\\jupyterenv\\lib\\site-packages\\wandb\\sdk\\wandb_summary.py\", line 128, in _update\n",
      "\u001b[34m\u001b[1mwandb\u001b[0m: \u001b[32m\u001b[41mERROR\u001b[0m     self._update_callback(record)\n",
      "\u001b[34m\u001b[1mwandb\u001b[0m: \u001b[32m\u001b[41mERROR\u001b[0m   File \"C:\\anaconda3\\envs\\jupyterenv\\lib\\site-packages\\wandb\\sdk\\wandb_run.py\", line 400, in wrapper_fn\n",
      "\u001b[34m\u001b[1mwandb\u001b[0m: \u001b[32m\u001b[41mERROR\u001b[0m     return func(self, *args, **kwargs)\n",
      "\u001b[34m\u001b[1mwandb\u001b[0m: \u001b[32m\u001b[41mERROR\u001b[0m   File \"C:\\anaconda3\\envs\\jupyterenv\\lib\\site-packages\\wandb\\sdk\\wandb_run.py\", line 1424, in _summary_update_callback\n",
      "\u001b[34m\u001b[1mwandb\u001b[0m: \u001b[32m\u001b[41mERROR\u001b[0m     self._backend.interface.publish_summary(summary_record)\n",
      "\u001b[34m\u001b[1mwandb\u001b[0m: \u001b[32m\u001b[41mERROR\u001b[0m   File \"C:\\anaconda3\\envs\\jupyterenv\\lib\\site-packages\\wandb\\sdk\\interface\\interface.py\", line 270, in publish_summary\n",
      "\u001b[34m\u001b[1mwandb\u001b[0m: \u001b[32m\u001b[41mERROR\u001b[0m     pb_summary_record = self._make_summary(summary_record)\n",
      "\u001b[34m\u001b[1mwandb\u001b[0m: \u001b[32m\u001b[41mERROR\u001b[0m   File \"C:\\anaconda3\\envs\\jupyterenv\\lib\\site-packages\\wandb\\sdk\\interface\\interface.py\", line 248, in _make_summary\n",
      "\u001b[34m\u001b[1mwandb\u001b[0m: \u001b[32m\u001b[41mERROR\u001b[0m     json_value = self._summary_encode(item.value, path_from_root)\n",
      "\u001b[34m\u001b[1mwandb\u001b[0m: \u001b[32m\u001b[41mERROR\u001b[0m   File \"C:\\anaconda3\\envs\\jupyterenv\\lib\\site-packages\\wandb\\sdk\\interface\\interface.py\", line 221, in _summary_encode\n",
      "\u001b[34m\u001b[1mwandb\u001b[0m: \u001b[32m\u001b[41mERROR\u001b[0m     val_to_json(self._run, path_from_root, value, namespace=\"summary\")\n",
      "\u001b[34m\u001b[1mwandb\u001b[0m: \u001b[32m\u001b[41mERROR\u001b[0m   File \"C:\\anaconda3\\envs\\jupyterenv\\lib\\site-packages\\wandb\\sdk\\data_types\\utils.py\", line 164, in val_to_json\n",
      "\u001b[34m\u001b[1mwandb\u001b[0m: \u001b[32m\u001b[41mERROR\u001b[0m     val.bind_to_run(run, key, namespace)\n",
      "\u001b[34m\u001b[1mwandb\u001b[0m: \u001b[32m\u001b[41mERROR\u001b[0m   File \"C:\\anaconda3\\envs\\jupyterenv\\lib\\site-packages\\wandb\\data_types.py\", line 1377, in bind_to_run\n",
      "\u001b[34m\u001b[1mwandb\u001b[0m: \u001b[32m\u001b[41mERROR\u001b[0m     with codecs.open(tmp_path, \"w\", encoding=\"utf-8\") as fp:\n",
      "\u001b[34m\u001b[1mwandb\u001b[0m: \u001b[32m\u001b[41mERROR\u001b[0m   File \"C:\\anaconda3\\envs\\jupyterenv\\lib\\codecs.py\", line 906, in open\n",
      "\u001b[34m\u001b[1mwandb\u001b[0m: \u001b[32m\u001b[41mERROR\u001b[0m     file = builtins.open(filename, mode, buffering)\n",
      "\u001b[34m\u001b[1mwandb\u001b[0m: \u001b[32m\u001b[41mERROR\u001b[0m FileNotFoundError: [Errno 2] No such file or directory: 'C:\\\\Users\\\\Addisu\\\\AppData\\\\Local\\\\Temp\\\\tmpbie7lvyxwandb-media\\\\drs84ljt.graph.json'\n",
      "\u001b[34m\u001b[1mwandb\u001b[0m: \u001b[32m\u001b[41mERROR\u001b[0m \n",
      "\u001b[34m\u001b[1mwandb\u001b[0m: Sweep Agent: Waiting for job.\n",
      "\u001b[34m\u001b[1mwandb\u001b[0m: Job received.\n",
      "\u001b[34m\u001b[1mwandb\u001b[0m: Agent Starting Run: a8ll17ch with config:\n",
      "\u001b[34m\u001b[1mwandb\u001b[0m: \tbatch_size: 40\n",
      "\u001b[34m\u001b[1mwandb\u001b[0m: \tdense_activation: relu\n",
      "\u001b[34m\u001b[1mwandb\u001b[0m: \tdropout: 0.2\n",
      "\u001b[34m\u001b[1mwandb\u001b[0m: \tepochs: 1\n",
      "\u001b[34m\u001b[1mwandb\u001b[0m: \tlearning_rate: 0.007683062415524349\n",
      "\u001b[34m\u001b[1mwandb\u001b[0m: \toptimizer: sgd\n"
     ]
    },
    {
     "data": {
      "text/html": [
       "Tracking run with wandb version 0.17.0"
      ],
      "text/plain": [
       "<IPython.core.display.HTML object>"
      ]
     },
     "metadata": {},
     "output_type": "display_data"
    },
    {
     "data": {
      "text/html": [
       "Run data is saved locally in <code>C:\\Users\\Addisu\\Desktop\\kidi files\\Python workshop with ellen\\wandb\\run-20240621_153705-a8ll17ch</code>"
      ],
      "text/plain": [
       "<IPython.core.display.HTML object>"
      ]
     },
     "metadata": {},
     "output_type": "display_data"
    },
    {
     "data": {
      "text/html": [
       "Syncing run <strong><a href='https://wandb.ai/evapppp/sweeps-keras/runs/a8ll17ch' target=\"_blank\">curious-sweep-13</a></strong> to <a href='https://wandb.ai/evapppp/sweeps-keras' target=\"_blank\">Weights & Biases</a> (<a href='https://wandb.me/run' target=\"_blank\">docs</a>)<br/>Sweep page: <a href='https://wandb.ai/evapppp/sweeps-keras/sweeps/qu378scj' target=\"_blank\">https://wandb.ai/evapppp/sweeps-keras/sweeps/qu378scj</a>"
      ],
      "text/plain": [
       "<IPython.core.display.HTML object>"
      ]
     },
     "metadata": {},
     "output_type": "display_data"
    },
    {
     "data": {
      "text/html": [
       " View project at <a href='https://wandb.ai/evapppp/sweeps-keras' target=\"_blank\">https://wandb.ai/evapppp/sweeps-keras</a>"
      ],
      "text/plain": [
       "<IPython.core.display.HTML object>"
      ]
     },
     "metadata": {},
     "output_type": "display_data"
    },
    {
     "data": {
      "text/html": [
       " View sweep at <a href='https://wandb.ai/evapppp/sweeps-keras/sweeps/qu378scj' target=\"_blank\">https://wandb.ai/evapppp/sweeps-keras/sweeps/qu378scj</a>"
      ],
      "text/plain": [
       "<IPython.core.display.HTML object>"
      ]
     },
     "metadata": {},
     "output_type": "display_data"
    },
    {
     "data": {
      "text/html": [
       " View run at <a href='https://wandb.ai/evapppp/sweeps-keras/runs/a8ll17ch' target=\"_blank\">https://wandb.ai/evapppp/sweeps-keras/runs/a8ll17ch</a>"
      ],
      "text/plain": [
       "<IPython.core.display.HTML object>"
      ]
     },
     "metadata": {},
     "output_type": "display_data"
    },
    {
     "name": "stderr",
     "output_type": "stream",
     "text": [
      "Traceback (most recent call last):\n",
      "  File \"C:\\Users\\Addisu\\AppData\\Local\\Temp\\ipykernel_74596\\2644847777.py\", line 221, in sweep_train\n",
      "    train(model,\n",
      "  File \"C:\\Users\\Addisu\\AppData\\Local\\Temp\\ipykernel_74596\\2644847777.py\", line 151, in train\n",
      "    model.fit(X_train,\n",
      "  File \"C:\\anaconda3\\envs\\jupyterenv\\lib\\site-packages\\keras\\src\\utils\\traceback_utils.py\", line 70, in error_handler\n",
      "    raise e.with_traceback(filtered_tb) from None\n",
      "  File \"C:\\anaconda3\\envs\\jupyterenv\\lib\\site-packages\\wandb\\integration\\keras\\keras.py\", line 656, in on_train_batch_end\n",
      "    wandb.run.summary[\"graph\"] = wandb.Graph.from_keras(self.model)\n",
      "  File \"C:\\anaconda3\\envs\\jupyterenv\\lib\\site-packages\\wandb\\sdk\\wandb_summary.py\", line 52, in __setitem__\n",
      "    self.update({key: val})\n",
      "  File \"C:\\anaconda3\\envs\\jupyterenv\\lib\\site-packages\\wandb\\sdk\\wandb_summary.py\", line 74, in update\n",
      "    self._update(record)\n",
      "  File \"C:\\anaconda3\\envs\\jupyterenv\\lib\\site-packages\\wandb\\sdk\\wandb_summary.py\", line 128, in _update\n",
      "    self._update_callback(record)\n",
      "  File \"C:\\anaconda3\\envs\\jupyterenv\\lib\\site-packages\\wandb\\sdk\\wandb_run.py\", line 400, in wrapper_fn\n",
      "    return func(self, *args, **kwargs)\n",
      "  File \"C:\\anaconda3\\envs\\jupyterenv\\lib\\site-packages\\wandb\\sdk\\wandb_run.py\", line 1424, in _summary_update_callback\n",
      "    self._backend.interface.publish_summary(summary_record)\n",
      "  File \"C:\\anaconda3\\envs\\jupyterenv\\lib\\site-packages\\wandb\\sdk\\interface\\interface.py\", line 270, in publish_summary\n",
      "    pb_summary_record = self._make_summary(summary_record)\n",
      "  File \"C:\\anaconda3\\envs\\jupyterenv\\lib\\site-packages\\wandb\\sdk\\interface\\interface.py\", line 248, in _make_summary\n",
      "    json_value = self._summary_encode(item.value, path_from_root)\n",
      "  File \"C:\\anaconda3\\envs\\jupyterenv\\lib\\site-packages\\wandb\\sdk\\interface\\interface.py\", line 221, in _summary_encode\n",
      "    val_to_json(self._run, path_from_root, value, namespace=\"summary\")\n",
      "  File \"C:\\anaconda3\\envs\\jupyterenv\\lib\\site-packages\\wandb\\sdk\\data_types\\utils.py\", line 164, in val_to_json\n",
      "    val.bind_to_run(run, key, namespace)\n",
      "  File \"C:\\anaconda3\\envs\\jupyterenv\\lib\\site-packages\\wandb\\data_types.py\", line 1377, in bind_to_run\n",
      "    with codecs.open(tmp_path, \"w\", encoding=\"utf-8\") as fp:\n",
      "  File \"C:\\anaconda3\\envs\\jupyterenv\\lib\\codecs.py\", line 906, in open\n",
      "    file = builtins.open(filename, mode, buffering)\n",
      "FileNotFoundError: [Errno 2] No such file or directory: 'C:\\\\Users\\\\Addisu\\\\AppData\\\\Local\\\\Temp\\\\tmpbie7lvyxwandb-media\\\\bmkz4orc.graph.json'\n"
     ]
    },
    {
     "data": {
      "text/html": [
       " View run <strong style=\"color:#cdcd00\">curious-sweep-13</strong> at: <a href='https://wandb.ai/evapppp/sweeps-keras/runs/a8ll17ch' target=\"_blank\">https://wandb.ai/evapppp/sweeps-keras/runs/a8ll17ch</a><br/> View project at: <a href='https://wandb.ai/evapppp/sweeps-keras' target=\"_blank\">https://wandb.ai/evapppp/sweeps-keras</a><br/>Synced 5 W&B file(s), 0 media file(s), 0 artifact file(s) and 0 other file(s)"
      ],
      "text/plain": [
       "<IPython.core.display.HTML object>"
      ]
     },
     "metadata": {},
     "output_type": "display_data"
    },
    {
     "data": {
      "text/html": [
       "Find logs at: <code>.\\wandb\\run-20240621_153705-a8ll17ch\\logs</code>"
      ],
      "text/plain": [
       "<IPython.core.display.HTML object>"
      ]
     },
     "metadata": {},
     "output_type": "display_data"
    },
    {
     "name": "stderr",
     "output_type": "stream",
     "text": [
      "Run a8ll17ch errored:\n",
      "Traceback (most recent call last):\n",
      "  File \"C:\\anaconda3\\envs\\jupyterenv\\lib\\site-packages\\wandb\\agents\\pyagent.py\", line 307, in _run_job\n",
      "    self._function()\n",
      "  File \"C:\\Users\\Addisu\\AppData\\Local\\Temp\\ipykernel_74596\\2644847777.py\", line 221, in sweep_train\n",
      "    train(model,\n",
      "  File \"C:\\Users\\Addisu\\AppData\\Local\\Temp\\ipykernel_74596\\2644847777.py\", line 151, in train\n",
      "    model.fit(X_train,\n",
      "  File \"C:\\anaconda3\\envs\\jupyterenv\\lib\\site-packages\\keras\\src\\utils\\traceback_utils.py\", line 70, in error_handler\n",
      "    raise e.with_traceback(filtered_tb) from None\n",
      "  File \"C:\\anaconda3\\envs\\jupyterenv\\lib\\site-packages\\wandb\\integration\\keras\\keras.py\", line 656, in on_train_batch_end\n",
      "    wandb.run.summary[\"graph\"] = wandb.Graph.from_keras(self.model)\n",
      "  File \"C:\\anaconda3\\envs\\jupyterenv\\lib\\site-packages\\wandb\\sdk\\wandb_summary.py\", line 52, in __setitem__\n",
      "    self.update({key: val})\n",
      "  File \"C:\\anaconda3\\envs\\jupyterenv\\lib\\site-packages\\wandb\\sdk\\wandb_summary.py\", line 74, in update\n",
      "    self._update(record)\n",
      "  File \"C:\\anaconda3\\envs\\jupyterenv\\lib\\site-packages\\wandb\\sdk\\wandb_summary.py\", line 128, in _update\n",
      "    self._update_callback(record)\n",
      "  File \"C:\\anaconda3\\envs\\jupyterenv\\lib\\site-packages\\wandb\\sdk\\wandb_run.py\", line 400, in wrapper_fn\n",
      "    return func(self, *args, **kwargs)\n",
      "  File \"C:\\anaconda3\\envs\\jupyterenv\\lib\\site-packages\\wandb\\sdk\\wandb_run.py\", line 1424, in _summary_update_callback\n",
      "    self._backend.interface.publish_summary(summary_record)\n",
      "  File \"C:\\anaconda3\\envs\\jupyterenv\\lib\\site-packages\\wandb\\sdk\\interface\\interface.py\", line 270, in publish_summary\n",
      "    pb_summary_record = self._make_summary(summary_record)\n",
      "  File \"C:\\anaconda3\\envs\\jupyterenv\\lib\\site-packages\\wandb\\sdk\\interface\\interface.py\", line 248, in _make_summary\n",
      "    json_value = self._summary_encode(item.value, path_from_root)\n",
      "  File \"C:\\anaconda3\\envs\\jupyterenv\\lib\\site-packages\\wandb\\sdk\\interface\\interface.py\", line 221, in _summary_encode\n",
      "    val_to_json(self._run, path_from_root, value, namespace=\"summary\")\n",
      "  File \"C:\\anaconda3\\envs\\jupyterenv\\lib\\site-packages\\wandb\\sdk\\data_types\\utils.py\", line 164, in val_to_json\n",
      "    val.bind_to_run(run, key, namespace)\n",
      "  File \"C:\\anaconda3\\envs\\jupyterenv\\lib\\site-packages\\wandb\\data_types.py\", line 1377, in bind_to_run\n",
      "    with codecs.open(tmp_path, \"w\", encoding=\"utf-8\") as fp:\n",
      "  File \"C:\\anaconda3\\envs\\jupyterenv\\lib\\codecs.py\", line 906, in open\n",
      "    file = builtins.open(filename, mode, buffering)\n",
      "FileNotFoundError: [Errno 2] No such file or directory: 'C:\\\\Users\\\\Addisu\\\\AppData\\\\Local\\\\Temp\\\\tmpbie7lvyxwandb-media\\\\bmkz4orc.graph.json'\n",
      "\n",
      "\u001b[34m\u001b[1mwandb\u001b[0m: \u001b[32m\u001b[41mERROR\u001b[0m Run a8ll17ch errored:\n",
      "\u001b[34m\u001b[1mwandb\u001b[0m: \u001b[32m\u001b[41mERROR\u001b[0m Traceback (most recent call last):\n",
      "\u001b[34m\u001b[1mwandb\u001b[0m: \u001b[32m\u001b[41mERROR\u001b[0m   File \"C:\\anaconda3\\envs\\jupyterenv\\lib\\site-packages\\wandb\\agents\\pyagent.py\", line 307, in _run_job\n",
      "\u001b[34m\u001b[1mwandb\u001b[0m: \u001b[32m\u001b[41mERROR\u001b[0m     self._function()\n",
      "\u001b[34m\u001b[1mwandb\u001b[0m: \u001b[32m\u001b[41mERROR\u001b[0m   File \"C:\\Users\\Addisu\\AppData\\Local\\Temp\\ipykernel_74596\\2644847777.py\", line 221, in sweep_train\n",
      "\u001b[34m\u001b[1mwandb\u001b[0m: \u001b[32m\u001b[41mERROR\u001b[0m     train(model,\n",
      "\u001b[34m\u001b[1mwandb\u001b[0m: \u001b[32m\u001b[41mERROR\u001b[0m   File \"C:\\Users\\Addisu\\AppData\\Local\\Temp\\ipykernel_74596\\2644847777.py\", line 151, in train\n",
      "\u001b[34m\u001b[1mwandb\u001b[0m: \u001b[32m\u001b[41mERROR\u001b[0m     model.fit(X_train,\n",
      "\u001b[34m\u001b[1mwandb\u001b[0m: \u001b[32m\u001b[41mERROR\u001b[0m   File \"C:\\anaconda3\\envs\\jupyterenv\\lib\\site-packages\\keras\\src\\utils\\traceback_utils.py\", line 70, in error_handler\n",
      "\u001b[34m\u001b[1mwandb\u001b[0m: \u001b[32m\u001b[41mERROR\u001b[0m     raise e.with_traceback(filtered_tb) from None\n",
      "\u001b[34m\u001b[1mwandb\u001b[0m: \u001b[32m\u001b[41mERROR\u001b[0m   File \"C:\\anaconda3\\envs\\jupyterenv\\lib\\site-packages\\wandb\\integration\\keras\\keras.py\", line 656, in on_train_batch_end\n",
      "\u001b[34m\u001b[1mwandb\u001b[0m: \u001b[32m\u001b[41mERROR\u001b[0m     wandb.run.summary[\"graph\"] = wandb.Graph.from_keras(self.model)\n",
      "\u001b[34m\u001b[1mwandb\u001b[0m: \u001b[32m\u001b[41mERROR\u001b[0m   File \"C:\\anaconda3\\envs\\jupyterenv\\lib\\site-packages\\wandb\\sdk\\wandb_summary.py\", line 52, in __setitem__\n",
      "\u001b[34m\u001b[1mwandb\u001b[0m: \u001b[32m\u001b[41mERROR\u001b[0m     self.update({key: val})\n",
      "\u001b[34m\u001b[1mwandb\u001b[0m: \u001b[32m\u001b[41mERROR\u001b[0m   File \"C:\\anaconda3\\envs\\jupyterenv\\lib\\site-packages\\wandb\\sdk\\wandb_summary.py\", line 74, in update\n",
      "\u001b[34m\u001b[1mwandb\u001b[0m: \u001b[32m\u001b[41mERROR\u001b[0m     self._update(record)\n",
      "\u001b[34m\u001b[1mwandb\u001b[0m: \u001b[32m\u001b[41mERROR\u001b[0m   File \"C:\\anaconda3\\envs\\jupyterenv\\lib\\site-packages\\wandb\\sdk\\wandb_summary.py\", line 128, in _update\n",
      "\u001b[34m\u001b[1mwandb\u001b[0m: \u001b[32m\u001b[41mERROR\u001b[0m     self._update_callback(record)\n",
      "\u001b[34m\u001b[1mwandb\u001b[0m: \u001b[32m\u001b[41mERROR\u001b[0m   File \"C:\\anaconda3\\envs\\jupyterenv\\lib\\site-packages\\wandb\\sdk\\wandb_run.py\", line 400, in wrapper_fn\n",
      "\u001b[34m\u001b[1mwandb\u001b[0m: \u001b[32m\u001b[41mERROR\u001b[0m     return func(self, *args, **kwargs)\n",
      "\u001b[34m\u001b[1mwandb\u001b[0m: \u001b[32m\u001b[41mERROR\u001b[0m   File \"C:\\anaconda3\\envs\\jupyterenv\\lib\\site-packages\\wandb\\sdk\\wandb_run.py\", line 1424, in _summary_update_callback\n",
      "\u001b[34m\u001b[1mwandb\u001b[0m: \u001b[32m\u001b[41mERROR\u001b[0m     self._backend.interface.publish_summary(summary_record)\n",
      "\u001b[34m\u001b[1mwandb\u001b[0m: \u001b[32m\u001b[41mERROR\u001b[0m   File \"C:\\anaconda3\\envs\\jupyterenv\\lib\\site-packages\\wandb\\sdk\\interface\\interface.py\", line 270, in publish_summary\n",
      "\u001b[34m\u001b[1mwandb\u001b[0m: \u001b[32m\u001b[41mERROR\u001b[0m     pb_summary_record = self._make_summary(summary_record)\n",
      "\u001b[34m\u001b[1mwandb\u001b[0m: \u001b[32m\u001b[41mERROR\u001b[0m   File \"C:\\anaconda3\\envs\\jupyterenv\\lib\\site-packages\\wandb\\sdk\\interface\\interface.py\", line 248, in _make_summary\n",
      "\u001b[34m\u001b[1mwandb\u001b[0m: \u001b[32m\u001b[41mERROR\u001b[0m     json_value = self._summary_encode(item.value, path_from_root)\n",
      "\u001b[34m\u001b[1mwandb\u001b[0m: \u001b[32m\u001b[41mERROR\u001b[0m   File \"C:\\anaconda3\\envs\\jupyterenv\\lib\\site-packages\\wandb\\sdk\\interface\\interface.py\", line 221, in _summary_encode\n",
      "\u001b[34m\u001b[1mwandb\u001b[0m: \u001b[32m\u001b[41mERROR\u001b[0m     val_to_json(self._run, path_from_root, value, namespace=\"summary\")\n",
      "\u001b[34m\u001b[1mwandb\u001b[0m: \u001b[32m\u001b[41mERROR\u001b[0m   File \"C:\\anaconda3\\envs\\jupyterenv\\lib\\site-packages\\wandb\\sdk\\data_types\\utils.py\", line 164, in val_to_json\n",
      "\u001b[34m\u001b[1mwandb\u001b[0m: \u001b[32m\u001b[41mERROR\u001b[0m     val.bind_to_run(run, key, namespace)\n",
      "\u001b[34m\u001b[1mwandb\u001b[0m: \u001b[32m\u001b[41mERROR\u001b[0m   File \"C:\\anaconda3\\envs\\jupyterenv\\lib\\site-packages\\wandb\\data_types.py\", line 1377, in bind_to_run\n",
      "\u001b[34m\u001b[1mwandb\u001b[0m: \u001b[32m\u001b[41mERROR\u001b[0m     with codecs.open(tmp_path, \"w\", encoding=\"utf-8\") as fp:\n",
      "\u001b[34m\u001b[1mwandb\u001b[0m: \u001b[32m\u001b[41mERROR\u001b[0m   File \"C:\\anaconda3\\envs\\jupyterenv\\lib\\codecs.py\", line 906, in open\n",
      "\u001b[34m\u001b[1mwandb\u001b[0m: \u001b[32m\u001b[41mERROR\u001b[0m     file = builtins.open(filename, mode, buffering)\n",
      "\u001b[34m\u001b[1mwandb\u001b[0m: \u001b[32m\u001b[41mERROR\u001b[0m FileNotFoundError: [Errno 2] No such file or directory: 'C:\\\\Users\\\\Addisu\\\\AppData\\\\Local\\\\Temp\\\\tmpbie7lvyxwandb-media\\\\bmkz4orc.graph.json'\n",
      "\u001b[34m\u001b[1mwandb\u001b[0m: \u001b[32m\u001b[41mERROR\u001b[0m \n",
      "\u001b[34m\u001b[1mwandb\u001b[0m: Agent Starting Run: h01l6et5 with config:\n",
      "\u001b[34m\u001b[1mwandb\u001b[0m: \tbatch_size: 56\n",
      "\u001b[34m\u001b[1mwandb\u001b[0m: \tdense_activation: relu\n",
      "\u001b[34m\u001b[1mwandb\u001b[0m: \tdropout: 0.1\n",
      "\u001b[34m\u001b[1mwandb\u001b[0m: \tepochs: 1\n",
      "\u001b[34m\u001b[1mwandb\u001b[0m: \tlearning_rate: 0.0011402647556705402\n",
      "\u001b[34m\u001b[1mwandb\u001b[0m: \toptimizer: adam\n"
     ]
    },
    {
     "data": {
      "text/html": [
       "wandb version 0.17.2 is available!  To upgrade, please run:\n",
       " $ pip install wandb --upgrade"
      ],
      "text/plain": [
       "<IPython.core.display.HTML object>"
      ]
     },
     "metadata": {},
     "output_type": "display_data"
    },
    {
     "data": {
      "text/html": [
       "Tracking run with wandb version 0.17.0"
      ],
      "text/plain": [
       "<IPython.core.display.HTML object>"
      ]
     },
     "metadata": {},
     "output_type": "display_data"
    },
    {
     "data": {
      "text/html": [
       "Run data is saved locally in <code>C:\\Users\\Addisu\\Desktop\\kidi files\\Python workshop with ellen\\wandb\\run-20240621_153738-h01l6et5</code>"
      ],
      "text/plain": [
       "<IPython.core.display.HTML object>"
      ]
     },
     "metadata": {},
     "output_type": "display_data"
    },
    {
     "data": {
      "text/html": [
       "Syncing run <strong><a href='https://wandb.ai/evapppp/sweeps-keras/runs/h01l6et5' target=\"_blank\">quiet-sweep-14</a></strong> to <a href='https://wandb.ai/evapppp/sweeps-keras' target=\"_blank\">Weights & Biases</a> (<a href='https://wandb.me/run' target=\"_blank\">docs</a>)<br/>Sweep page: <a href='https://wandb.ai/evapppp/sweeps-keras/sweeps/qu378scj' target=\"_blank\">https://wandb.ai/evapppp/sweeps-keras/sweeps/qu378scj</a>"
      ],
      "text/plain": [
       "<IPython.core.display.HTML object>"
      ]
     },
     "metadata": {},
     "output_type": "display_data"
    },
    {
     "data": {
      "text/html": [
       " View project at <a href='https://wandb.ai/evapppp/sweeps-keras' target=\"_blank\">https://wandb.ai/evapppp/sweeps-keras</a>"
      ],
      "text/plain": [
       "<IPython.core.display.HTML object>"
      ]
     },
     "metadata": {},
     "output_type": "display_data"
    },
    {
     "data": {
      "text/html": [
       " View sweep at <a href='https://wandb.ai/evapppp/sweeps-keras/sweeps/qu378scj' target=\"_blank\">https://wandb.ai/evapppp/sweeps-keras/sweeps/qu378scj</a>"
      ],
      "text/plain": [
       "<IPython.core.display.HTML object>"
      ]
     },
     "metadata": {},
     "output_type": "display_data"
    },
    {
     "data": {
      "text/html": [
       " View run at <a href='https://wandb.ai/evapppp/sweeps-keras/runs/h01l6et5' target=\"_blank\">https://wandb.ai/evapppp/sweeps-keras/runs/h01l6et5</a>"
      ],
      "text/plain": [
       "<IPython.core.display.HTML object>"
      ]
     },
     "metadata": {},
     "output_type": "display_data"
    },
    {
     "name": "stderr",
     "output_type": "stream",
     "text": [
      "Traceback (most recent call last):\n",
      "  File \"C:\\Users\\Addisu\\AppData\\Local\\Temp\\ipykernel_74596\\2644847777.py\", line 221, in sweep_train\n",
      "    train(model,\n",
      "  File \"C:\\Users\\Addisu\\AppData\\Local\\Temp\\ipykernel_74596\\2644847777.py\", line 151, in train\n",
      "    model.fit(X_train,\n",
      "  File \"C:\\anaconda3\\envs\\jupyterenv\\lib\\site-packages\\keras\\src\\utils\\traceback_utils.py\", line 70, in error_handler\n",
      "    raise e.with_traceback(filtered_tb) from None\n",
      "  File \"C:\\anaconda3\\envs\\jupyterenv\\lib\\site-packages\\wandb\\integration\\keras\\keras.py\", line 656, in on_train_batch_end\n",
      "    wandb.run.summary[\"graph\"] = wandb.Graph.from_keras(self.model)\n",
      "  File \"C:\\anaconda3\\envs\\jupyterenv\\lib\\site-packages\\wandb\\sdk\\wandb_summary.py\", line 52, in __setitem__\n",
      "    self.update({key: val})\n",
      "  File \"C:\\anaconda3\\envs\\jupyterenv\\lib\\site-packages\\wandb\\sdk\\wandb_summary.py\", line 74, in update\n",
      "    self._update(record)\n",
      "  File \"C:\\anaconda3\\envs\\jupyterenv\\lib\\site-packages\\wandb\\sdk\\wandb_summary.py\", line 128, in _update\n",
      "    self._update_callback(record)\n",
      "  File \"C:\\anaconda3\\envs\\jupyterenv\\lib\\site-packages\\wandb\\sdk\\wandb_run.py\", line 400, in wrapper_fn\n",
      "    return func(self, *args, **kwargs)\n",
      "  File \"C:\\anaconda3\\envs\\jupyterenv\\lib\\site-packages\\wandb\\sdk\\wandb_run.py\", line 1424, in _summary_update_callback\n",
      "    self._backend.interface.publish_summary(summary_record)\n",
      "  File \"C:\\anaconda3\\envs\\jupyterenv\\lib\\site-packages\\wandb\\sdk\\interface\\interface.py\", line 270, in publish_summary\n",
      "    pb_summary_record = self._make_summary(summary_record)\n",
      "  File \"C:\\anaconda3\\envs\\jupyterenv\\lib\\site-packages\\wandb\\sdk\\interface\\interface.py\", line 248, in _make_summary\n",
      "    json_value = self._summary_encode(item.value, path_from_root)\n",
      "  File \"C:\\anaconda3\\envs\\jupyterenv\\lib\\site-packages\\wandb\\sdk\\interface\\interface.py\", line 221, in _summary_encode\n",
      "    val_to_json(self._run, path_from_root, value, namespace=\"summary\")\n",
      "  File \"C:\\anaconda3\\envs\\jupyterenv\\lib\\site-packages\\wandb\\sdk\\data_types\\utils.py\", line 164, in val_to_json\n",
      "    val.bind_to_run(run, key, namespace)\n",
      "  File \"C:\\anaconda3\\envs\\jupyterenv\\lib\\site-packages\\wandb\\data_types.py\", line 1377, in bind_to_run\n",
      "    with codecs.open(tmp_path, \"w\", encoding=\"utf-8\") as fp:\n",
      "  File \"C:\\anaconda3\\envs\\jupyterenv\\lib\\codecs.py\", line 906, in open\n",
      "    file = builtins.open(filename, mode, buffering)\n",
      "FileNotFoundError: [Errno 2] No such file or directory: 'C:\\\\Users\\\\Addisu\\\\AppData\\\\Local\\\\Temp\\\\tmpbie7lvyxwandb-media\\\\y6ix2v1w.graph.json'\n"
     ]
    },
    {
     "data": {
      "text/html": [
       " View run <strong style=\"color:#cdcd00\">quiet-sweep-14</strong> at: <a href='https://wandb.ai/evapppp/sweeps-keras/runs/h01l6et5' target=\"_blank\">https://wandb.ai/evapppp/sweeps-keras/runs/h01l6et5</a><br/> View project at: <a href='https://wandb.ai/evapppp/sweeps-keras' target=\"_blank\">https://wandb.ai/evapppp/sweeps-keras</a><br/>Synced 5 W&B file(s), 0 media file(s), 0 artifact file(s) and 0 other file(s)"
      ],
      "text/plain": [
       "<IPython.core.display.HTML object>"
      ]
     },
     "metadata": {},
     "output_type": "display_data"
    },
    {
     "data": {
      "text/html": [
       "Find logs at: <code>.\\wandb\\run-20240621_153738-h01l6et5\\logs</code>"
      ],
      "text/plain": [
       "<IPython.core.display.HTML object>"
      ]
     },
     "metadata": {},
     "output_type": "display_data"
    },
    {
     "name": "stderr",
     "output_type": "stream",
     "text": [
      "Run h01l6et5 errored:\n",
      "Traceback (most recent call last):\n",
      "  File \"C:\\anaconda3\\envs\\jupyterenv\\lib\\site-packages\\wandb\\agents\\pyagent.py\", line 307, in _run_job\n",
      "    self._function()\n",
      "  File \"C:\\Users\\Addisu\\AppData\\Local\\Temp\\ipykernel_74596\\2644847777.py\", line 221, in sweep_train\n",
      "    train(model,\n",
      "  File \"C:\\Users\\Addisu\\AppData\\Local\\Temp\\ipykernel_74596\\2644847777.py\", line 151, in train\n",
      "    model.fit(X_train,\n",
      "  File \"C:\\anaconda3\\envs\\jupyterenv\\lib\\site-packages\\keras\\src\\utils\\traceback_utils.py\", line 70, in error_handler\n",
      "    raise e.with_traceback(filtered_tb) from None\n",
      "  File \"C:\\anaconda3\\envs\\jupyterenv\\lib\\site-packages\\wandb\\integration\\keras\\keras.py\", line 656, in on_train_batch_end\n",
      "    wandb.run.summary[\"graph\"] = wandb.Graph.from_keras(self.model)\n",
      "  File \"C:\\anaconda3\\envs\\jupyterenv\\lib\\site-packages\\wandb\\sdk\\wandb_summary.py\", line 52, in __setitem__\n",
      "    self.update({key: val})\n",
      "  File \"C:\\anaconda3\\envs\\jupyterenv\\lib\\site-packages\\wandb\\sdk\\wandb_summary.py\", line 74, in update\n",
      "    self._update(record)\n",
      "  File \"C:\\anaconda3\\envs\\jupyterenv\\lib\\site-packages\\wandb\\sdk\\wandb_summary.py\", line 128, in _update\n",
      "    self._update_callback(record)\n",
      "  File \"C:\\anaconda3\\envs\\jupyterenv\\lib\\site-packages\\wandb\\sdk\\wandb_run.py\", line 400, in wrapper_fn\n",
      "    return func(self, *args, **kwargs)\n",
      "  File \"C:\\anaconda3\\envs\\jupyterenv\\lib\\site-packages\\wandb\\sdk\\wandb_run.py\", line 1424, in _summary_update_callback\n",
      "    self._backend.interface.publish_summary(summary_record)\n",
      "  File \"C:\\anaconda3\\envs\\jupyterenv\\lib\\site-packages\\wandb\\sdk\\interface\\interface.py\", line 270, in publish_summary\n",
      "    pb_summary_record = self._make_summary(summary_record)\n",
      "  File \"C:\\anaconda3\\envs\\jupyterenv\\lib\\site-packages\\wandb\\sdk\\interface\\interface.py\", line 248, in _make_summary\n",
      "    json_value = self._summary_encode(item.value, path_from_root)\n",
      "  File \"C:\\anaconda3\\envs\\jupyterenv\\lib\\site-packages\\wandb\\sdk\\interface\\interface.py\", line 221, in _summary_encode\n",
      "    val_to_json(self._run, path_from_root, value, namespace=\"summary\")\n",
      "  File \"C:\\anaconda3\\envs\\jupyterenv\\lib\\site-packages\\wandb\\sdk\\data_types\\utils.py\", line 164, in val_to_json\n",
      "    val.bind_to_run(run, key, namespace)\n",
      "  File \"C:\\anaconda3\\envs\\jupyterenv\\lib\\site-packages\\wandb\\data_types.py\", line 1377, in bind_to_run\n",
      "    with codecs.open(tmp_path, \"w\", encoding=\"utf-8\") as fp:\n",
      "  File \"C:\\anaconda3\\envs\\jupyterenv\\lib\\codecs.py\", line 906, in open\n",
      "    file = builtins.open(filename, mode, buffering)\n",
      "FileNotFoundError: [Errno 2] No such file or directory: 'C:\\\\Users\\\\Addisu\\\\AppData\\\\Local\\\\Temp\\\\tmpbie7lvyxwandb-media\\\\y6ix2v1w.graph.json'\n",
      "\n",
      "\u001b[34m\u001b[1mwandb\u001b[0m: \u001b[32m\u001b[41mERROR\u001b[0m Run h01l6et5 errored:\n",
      "\u001b[34m\u001b[1mwandb\u001b[0m: \u001b[32m\u001b[41mERROR\u001b[0m Traceback (most recent call last):\n",
      "\u001b[34m\u001b[1mwandb\u001b[0m: \u001b[32m\u001b[41mERROR\u001b[0m   File \"C:\\anaconda3\\envs\\jupyterenv\\lib\\site-packages\\wandb\\agents\\pyagent.py\", line 307, in _run_job\n",
      "\u001b[34m\u001b[1mwandb\u001b[0m: \u001b[32m\u001b[41mERROR\u001b[0m     self._function()\n",
      "\u001b[34m\u001b[1mwandb\u001b[0m: \u001b[32m\u001b[41mERROR\u001b[0m   File \"C:\\Users\\Addisu\\AppData\\Local\\Temp\\ipykernel_74596\\2644847777.py\", line 221, in sweep_train\n",
      "\u001b[34m\u001b[1mwandb\u001b[0m: \u001b[32m\u001b[41mERROR\u001b[0m     train(model,\n",
      "\u001b[34m\u001b[1mwandb\u001b[0m: \u001b[32m\u001b[41mERROR\u001b[0m   File \"C:\\Users\\Addisu\\AppData\\Local\\Temp\\ipykernel_74596\\2644847777.py\", line 151, in train\n",
      "\u001b[34m\u001b[1mwandb\u001b[0m: \u001b[32m\u001b[41mERROR\u001b[0m     model.fit(X_train,\n",
      "\u001b[34m\u001b[1mwandb\u001b[0m: \u001b[32m\u001b[41mERROR\u001b[0m   File \"C:\\anaconda3\\envs\\jupyterenv\\lib\\site-packages\\keras\\src\\utils\\traceback_utils.py\", line 70, in error_handler\n",
      "\u001b[34m\u001b[1mwandb\u001b[0m: \u001b[32m\u001b[41mERROR\u001b[0m     raise e.with_traceback(filtered_tb) from None\n",
      "\u001b[34m\u001b[1mwandb\u001b[0m: \u001b[32m\u001b[41mERROR\u001b[0m   File \"C:\\anaconda3\\envs\\jupyterenv\\lib\\site-packages\\wandb\\integration\\keras\\keras.py\", line 656, in on_train_batch_end\n",
      "\u001b[34m\u001b[1mwandb\u001b[0m: \u001b[32m\u001b[41mERROR\u001b[0m     wandb.run.summary[\"graph\"] = wandb.Graph.from_keras(self.model)\n",
      "\u001b[34m\u001b[1mwandb\u001b[0m: \u001b[32m\u001b[41mERROR\u001b[0m   File \"C:\\anaconda3\\envs\\jupyterenv\\lib\\site-packages\\wandb\\sdk\\wandb_summary.py\", line 52, in __setitem__\n",
      "\u001b[34m\u001b[1mwandb\u001b[0m: \u001b[32m\u001b[41mERROR\u001b[0m     self.update({key: val})\n",
      "\u001b[34m\u001b[1mwandb\u001b[0m: \u001b[32m\u001b[41mERROR\u001b[0m   File \"C:\\anaconda3\\envs\\jupyterenv\\lib\\site-packages\\wandb\\sdk\\wandb_summary.py\", line 74, in update\n",
      "\u001b[34m\u001b[1mwandb\u001b[0m: \u001b[32m\u001b[41mERROR\u001b[0m     self._update(record)\n",
      "\u001b[34m\u001b[1mwandb\u001b[0m: \u001b[32m\u001b[41mERROR\u001b[0m   File \"C:\\anaconda3\\envs\\jupyterenv\\lib\\site-packages\\wandb\\sdk\\wandb_summary.py\", line 128, in _update\n",
      "\u001b[34m\u001b[1mwandb\u001b[0m: \u001b[32m\u001b[41mERROR\u001b[0m     self._update_callback(record)\n",
      "\u001b[34m\u001b[1mwandb\u001b[0m: \u001b[32m\u001b[41mERROR\u001b[0m   File \"C:\\anaconda3\\envs\\jupyterenv\\lib\\site-packages\\wandb\\sdk\\wandb_run.py\", line 400, in wrapper_fn\n",
      "\u001b[34m\u001b[1mwandb\u001b[0m: \u001b[32m\u001b[41mERROR\u001b[0m     return func(self, *args, **kwargs)\n",
      "\u001b[34m\u001b[1mwandb\u001b[0m: \u001b[32m\u001b[41mERROR\u001b[0m   File \"C:\\anaconda3\\envs\\jupyterenv\\lib\\site-packages\\wandb\\sdk\\wandb_run.py\", line 1424, in _summary_update_callback\n",
      "\u001b[34m\u001b[1mwandb\u001b[0m: \u001b[32m\u001b[41mERROR\u001b[0m     self._backend.interface.publish_summary(summary_record)\n",
      "\u001b[34m\u001b[1mwandb\u001b[0m: \u001b[32m\u001b[41mERROR\u001b[0m   File \"C:\\anaconda3\\envs\\jupyterenv\\lib\\site-packages\\wandb\\sdk\\interface\\interface.py\", line 270, in publish_summary\n",
      "\u001b[34m\u001b[1mwandb\u001b[0m: \u001b[32m\u001b[41mERROR\u001b[0m     pb_summary_record = self._make_summary(summary_record)\n",
      "\u001b[34m\u001b[1mwandb\u001b[0m: \u001b[32m\u001b[41mERROR\u001b[0m   File \"C:\\anaconda3\\envs\\jupyterenv\\lib\\site-packages\\wandb\\sdk\\interface\\interface.py\", line 248, in _make_summary\n",
      "\u001b[34m\u001b[1mwandb\u001b[0m: \u001b[32m\u001b[41mERROR\u001b[0m     json_value = self._summary_encode(item.value, path_from_root)\n",
      "\u001b[34m\u001b[1mwandb\u001b[0m: \u001b[32m\u001b[41mERROR\u001b[0m   File \"C:\\anaconda3\\envs\\jupyterenv\\lib\\site-packages\\wandb\\sdk\\interface\\interface.py\", line 221, in _summary_encode\n",
      "\u001b[34m\u001b[1mwandb\u001b[0m: \u001b[32m\u001b[41mERROR\u001b[0m     val_to_json(self._run, path_from_root, value, namespace=\"summary\")\n",
      "\u001b[34m\u001b[1mwandb\u001b[0m: \u001b[32m\u001b[41mERROR\u001b[0m   File \"C:\\anaconda3\\envs\\jupyterenv\\lib\\site-packages\\wandb\\sdk\\data_types\\utils.py\", line 164, in val_to_json\n",
      "\u001b[34m\u001b[1mwandb\u001b[0m: \u001b[32m\u001b[41mERROR\u001b[0m     val.bind_to_run(run, key, namespace)\n",
      "\u001b[34m\u001b[1mwandb\u001b[0m: \u001b[32m\u001b[41mERROR\u001b[0m   File \"C:\\anaconda3\\envs\\jupyterenv\\lib\\site-packages\\wandb\\data_types.py\", line 1377, in bind_to_run\n",
      "\u001b[34m\u001b[1mwandb\u001b[0m: \u001b[32m\u001b[41mERROR\u001b[0m     with codecs.open(tmp_path, \"w\", encoding=\"utf-8\") as fp:\n",
      "\u001b[34m\u001b[1mwandb\u001b[0m: \u001b[32m\u001b[41mERROR\u001b[0m   File \"C:\\anaconda3\\envs\\jupyterenv\\lib\\codecs.py\", line 906, in open\n",
      "\u001b[34m\u001b[1mwandb\u001b[0m: \u001b[32m\u001b[41mERROR\u001b[0m     file = builtins.open(filename, mode, buffering)\n",
      "\u001b[34m\u001b[1mwandb\u001b[0m: \u001b[32m\u001b[41mERROR\u001b[0m FileNotFoundError: [Errno 2] No such file or directory: 'C:\\\\Users\\\\Addisu\\\\AppData\\\\Local\\\\Temp\\\\tmpbie7lvyxwandb-media\\\\y6ix2v1w.graph.json'\n",
      "\u001b[34m\u001b[1mwandb\u001b[0m: \u001b[32m\u001b[41mERROR\u001b[0m \n",
      "\u001b[34m\u001b[1mwandb\u001b[0m: Sweep Agent: Waiting for job.\n",
      "\u001b[34m\u001b[1mwandb\u001b[0m: Job received.\n",
      "\u001b[34m\u001b[1mwandb\u001b[0m: Agent Starting Run: h4fvevqh with config:\n",
      "\u001b[34m\u001b[1mwandb\u001b[0m: \tbatch_size: 96\n",
      "\u001b[34m\u001b[1mwandb\u001b[0m: \tdense_activation: relu\n",
      "\u001b[34m\u001b[1mwandb\u001b[0m: \tdropout: 0.1\n",
      "\u001b[34m\u001b[1mwandb\u001b[0m: \tepochs: 1\n",
      "\u001b[34m\u001b[1mwandb\u001b[0m: \tlearning_rate: 0.002089151068134071\n",
      "\u001b[34m\u001b[1mwandb\u001b[0m: \toptimizer: adam\n"
     ]
    },
    {
     "data": {
      "text/html": [
       "Tracking run with wandb version 0.17.0"
      ],
      "text/plain": [
       "<IPython.core.display.HTML object>"
      ]
     },
     "metadata": {},
     "output_type": "display_data"
    },
    {
     "data": {
      "text/html": [
       "Run data is saved locally in <code>C:\\Users\\Addisu\\Desktop\\kidi files\\Python workshop with ellen\\wandb\\run-20240621_153816-h4fvevqh</code>"
      ],
      "text/plain": [
       "<IPython.core.display.HTML object>"
      ]
     },
     "metadata": {},
     "output_type": "display_data"
    },
    {
     "data": {
      "text/html": [
       "Syncing run <strong><a href='https://wandb.ai/evapppp/sweeps-keras/runs/h4fvevqh' target=\"_blank\">balmy-sweep-15</a></strong> to <a href='https://wandb.ai/evapppp/sweeps-keras' target=\"_blank\">Weights & Biases</a> (<a href='https://wandb.me/run' target=\"_blank\">docs</a>)<br/>Sweep page: <a href='https://wandb.ai/evapppp/sweeps-keras/sweeps/qu378scj' target=\"_blank\">https://wandb.ai/evapppp/sweeps-keras/sweeps/qu378scj</a>"
      ],
      "text/plain": [
       "<IPython.core.display.HTML object>"
      ]
     },
     "metadata": {},
     "output_type": "display_data"
    },
    {
     "data": {
      "text/html": [
       " View project at <a href='https://wandb.ai/evapppp/sweeps-keras' target=\"_blank\">https://wandb.ai/evapppp/sweeps-keras</a>"
      ],
      "text/plain": [
       "<IPython.core.display.HTML object>"
      ]
     },
     "metadata": {},
     "output_type": "display_data"
    },
    {
     "data": {
      "text/html": [
       " View sweep at <a href='https://wandb.ai/evapppp/sweeps-keras/sweeps/qu378scj' target=\"_blank\">https://wandb.ai/evapppp/sweeps-keras/sweeps/qu378scj</a>"
      ],
      "text/plain": [
       "<IPython.core.display.HTML object>"
      ]
     },
     "metadata": {},
     "output_type": "display_data"
    },
    {
     "data": {
      "text/html": [
       " View run at <a href='https://wandb.ai/evapppp/sweeps-keras/runs/h4fvevqh' target=\"_blank\">https://wandb.ai/evapppp/sweeps-keras/runs/h4fvevqh</a>"
      ],
      "text/plain": [
       "<IPython.core.display.HTML object>"
      ]
     },
     "metadata": {},
     "output_type": "display_data"
    },
    {
     "name": "stderr",
     "output_type": "stream",
     "text": [
      "Traceback (most recent call last):\n",
      "  File \"C:\\Users\\Addisu\\AppData\\Local\\Temp\\ipykernel_74596\\2644847777.py\", line 221, in sweep_train\n",
      "    train(model,\n",
      "  File \"C:\\Users\\Addisu\\AppData\\Local\\Temp\\ipykernel_74596\\2644847777.py\", line 151, in train\n",
      "    model.fit(X_train,\n",
      "  File \"C:\\anaconda3\\envs\\jupyterenv\\lib\\site-packages\\keras\\src\\utils\\traceback_utils.py\", line 70, in error_handler\n",
      "    raise e.with_traceback(filtered_tb) from None\n",
      "  File \"C:\\anaconda3\\envs\\jupyterenv\\lib\\site-packages\\wandb\\integration\\keras\\keras.py\", line 656, in on_train_batch_end\n",
      "    wandb.run.summary[\"graph\"] = wandb.Graph.from_keras(self.model)\n",
      "  File \"C:\\anaconda3\\envs\\jupyterenv\\lib\\site-packages\\wandb\\sdk\\wandb_summary.py\", line 52, in __setitem__\n",
      "    self.update({key: val})\n",
      "  File \"C:\\anaconda3\\envs\\jupyterenv\\lib\\site-packages\\wandb\\sdk\\wandb_summary.py\", line 74, in update\n",
      "    self._update(record)\n",
      "  File \"C:\\anaconda3\\envs\\jupyterenv\\lib\\site-packages\\wandb\\sdk\\wandb_summary.py\", line 128, in _update\n",
      "    self._update_callback(record)\n",
      "  File \"C:\\anaconda3\\envs\\jupyterenv\\lib\\site-packages\\wandb\\sdk\\wandb_run.py\", line 400, in wrapper_fn\n",
      "    return func(self, *args, **kwargs)\n",
      "  File \"C:\\anaconda3\\envs\\jupyterenv\\lib\\site-packages\\wandb\\sdk\\wandb_run.py\", line 1424, in _summary_update_callback\n",
      "    self._backend.interface.publish_summary(summary_record)\n",
      "  File \"C:\\anaconda3\\envs\\jupyterenv\\lib\\site-packages\\wandb\\sdk\\interface\\interface.py\", line 270, in publish_summary\n",
      "    pb_summary_record = self._make_summary(summary_record)\n",
      "  File \"C:\\anaconda3\\envs\\jupyterenv\\lib\\site-packages\\wandb\\sdk\\interface\\interface.py\", line 248, in _make_summary\n",
      "    json_value = self._summary_encode(item.value, path_from_root)\n",
      "  File \"C:\\anaconda3\\envs\\jupyterenv\\lib\\site-packages\\wandb\\sdk\\interface\\interface.py\", line 221, in _summary_encode\n",
      "    val_to_json(self._run, path_from_root, value, namespace=\"summary\")\n",
      "  File \"C:\\anaconda3\\envs\\jupyterenv\\lib\\site-packages\\wandb\\sdk\\data_types\\utils.py\", line 164, in val_to_json\n",
      "    val.bind_to_run(run, key, namespace)\n",
      "  File \"C:\\anaconda3\\envs\\jupyterenv\\lib\\site-packages\\wandb\\data_types.py\", line 1377, in bind_to_run\n",
      "    with codecs.open(tmp_path, \"w\", encoding=\"utf-8\") as fp:\n",
      "  File \"C:\\anaconda3\\envs\\jupyterenv\\lib\\codecs.py\", line 906, in open\n",
      "    file = builtins.open(filename, mode, buffering)\n",
      "FileNotFoundError: [Errno 2] No such file or directory: 'C:\\\\Users\\\\Addisu\\\\AppData\\\\Local\\\\Temp\\\\tmpbie7lvyxwandb-media\\\\3v3uw35x.graph.json'\n"
     ]
    },
    {
     "data": {
      "text/html": [
       " View run <strong style=\"color:#cdcd00\">balmy-sweep-15</strong> at: <a href='https://wandb.ai/evapppp/sweeps-keras/runs/h4fvevqh' target=\"_blank\">https://wandb.ai/evapppp/sweeps-keras/runs/h4fvevqh</a><br/> View project at: <a href='https://wandb.ai/evapppp/sweeps-keras' target=\"_blank\">https://wandb.ai/evapppp/sweeps-keras</a><br/>Synced 5 W&B file(s), 0 media file(s), 0 artifact file(s) and 0 other file(s)"
      ],
      "text/plain": [
       "<IPython.core.display.HTML object>"
      ]
     },
     "metadata": {},
     "output_type": "display_data"
    },
    {
     "data": {
      "text/html": [
       "Find logs at: <code>.\\wandb\\run-20240621_153816-h4fvevqh\\logs</code>"
      ],
      "text/plain": [
       "<IPython.core.display.HTML object>"
      ]
     },
     "metadata": {},
     "output_type": "display_data"
    },
    {
     "name": "stderr",
     "output_type": "stream",
     "text": [
      "Run h4fvevqh errored:\n",
      "Traceback (most recent call last):\n",
      "  File \"C:\\anaconda3\\envs\\jupyterenv\\lib\\site-packages\\wandb\\agents\\pyagent.py\", line 307, in _run_job\n",
      "    self._function()\n",
      "  File \"C:\\Users\\Addisu\\AppData\\Local\\Temp\\ipykernel_74596\\2644847777.py\", line 221, in sweep_train\n",
      "    train(model,\n",
      "  File \"C:\\Users\\Addisu\\AppData\\Local\\Temp\\ipykernel_74596\\2644847777.py\", line 151, in train\n",
      "    model.fit(X_train,\n",
      "  File \"C:\\anaconda3\\envs\\jupyterenv\\lib\\site-packages\\keras\\src\\utils\\traceback_utils.py\", line 70, in error_handler\n",
      "    raise e.with_traceback(filtered_tb) from None\n",
      "  File \"C:\\anaconda3\\envs\\jupyterenv\\lib\\site-packages\\wandb\\integration\\keras\\keras.py\", line 656, in on_train_batch_end\n",
      "    wandb.run.summary[\"graph\"] = wandb.Graph.from_keras(self.model)\n",
      "  File \"C:\\anaconda3\\envs\\jupyterenv\\lib\\site-packages\\wandb\\sdk\\wandb_summary.py\", line 52, in __setitem__\n",
      "    self.update({key: val})\n",
      "  File \"C:\\anaconda3\\envs\\jupyterenv\\lib\\site-packages\\wandb\\sdk\\wandb_summary.py\", line 74, in update\n",
      "    self._update(record)\n",
      "  File \"C:\\anaconda3\\envs\\jupyterenv\\lib\\site-packages\\wandb\\sdk\\wandb_summary.py\", line 128, in _update\n",
      "    self._update_callback(record)\n",
      "  File \"C:\\anaconda3\\envs\\jupyterenv\\lib\\site-packages\\wandb\\sdk\\wandb_run.py\", line 400, in wrapper_fn\n",
      "    return func(self, *args, **kwargs)\n",
      "  File \"C:\\anaconda3\\envs\\jupyterenv\\lib\\site-packages\\wandb\\sdk\\wandb_run.py\", line 1424, in _summary_update_callback\n",
      "    self._backend.interface.publish_summary(summary_record)\n",
      "  File \"C:\\anaconda3\\envs\\jupyterenv\\lib\\site-packages\\wandb\\sdk\\interface\\interface.py\", line 270, in publish_summary\n",
      "    pb_summary_record = self._make_summary(summary_record)\n",
      "  File \"C:\\anaconda3\\envs\\jupyterenv\\lib\\site-packages\\wandb\\sdk\\interface\\interface.py\", line 248, in _make_summary\n",
      "    json_value = self._summary_encode(item.value, path_from_root)\n",
      "  File \"C:\\anaconda3\\envs\\jupyterenv\\lib\\site-packages\\wandb\\sdk\\interface\\interface.py\", line 221, in _summary_encode\n",
      "    val_to_json(self._run, path_from_root, value, namespace=\"summary\")\n",
      "  File \"C:\\anaconda3\\envs\\jupyterenv\\lib\\site-packages\\wandb\\sdk\\data_types\\utils.py\", line 164, in val_to_json\n",
      "    val.bind_to_run(run, key, namespace)\n",
      "  File \"C:\\anaconda3\\envs\\jupyterenv\\lib\\site-packages\\wandb\\data_types.py\", line 1377, in bind_to_run\n",
      "    with codecs.open(tmp_path, \"w\", encoding=\"utf-8\") as fp:\n",
      "  File \"C:\\anaconda3\\envs\\jupyterenv\\lib\\codecs.py\", line 906, in open\n",
      "    file = builtins.open(filename, mode, buffering)\n",
      "FileNotFoundError: [Errno 2] No such file or directory: 'C:\\\\Users\\\\Addisu\\\\AppData\\\\Local\\\\Temp\\\\tmpbie7lvyxwandb-media\\\\3v3uw35x.graph.json'\n",
      "\n",
      "\u001b[34m\u001b[1mwandb\u001b[0m: \u001b[32m\u001b[41mERROR\u001b[0m Run h4fvevqh errored:\n",
      "\u001b[34m\u001b[1mwandb\u001b[0m: \u001b[32m\u001b[41mERROR\u001b[0m Traceback (most recent call last):\n",
      "\u001b[34m\u001b[1mwandb\u001b[0m: \u001b[32m\u001b[41mERROR\u001b[0m   File \"C:\\anaconda3\\envs\\jupyterenv\\lib\\site-packages\\wandb\\agents\\pyagent.py\", line 307, in _run_job\n",
      "\u001b[34m\u001b[1mwandb\u001b[0m: \u001b[32m\u001b[41mERROR\u001b[0m     self._function()\n",
      "\u001b[34m\u001b[1mwandb\u001b[0m: \u001b[32m\u001b[41mERROR\u001b[0m   File \"C:\\Users\\Addisu\\AppData\\Local\\Temp\\ipykernel_74596\\2644847777.py\", line 221, in sweep_train\n",
      "\u001b[34m\u001b[1mwandb\u001b[0m: \u001b[32m\u001b[41mERROR\u001b[0m     train(model,\n",
      "\u001b[34m\u001b[1mwandb\u001b[0m: \u001b[32m\u001b[41mERROR\u001b[0m   File \"C:\\Users\\Addisu\\AppData\\Local\\Temp\\ipykernel_74596\\2644847777.py\", line 151, in train\n",
      "\u001b[34m\u001b[1mwandb\u001b[0m: \u001b[32m\u001b[41mERROR\u001b[0m     model.fit(X_train,\n",
      "\u001b[34m\u001b[1mwandb\u001b[0m: \u001b[32m\u001b[41mERROR\u001b[0m   File \"C:\\anaconda3\\envs\\jupyterenv\\lib\\site-packages\\keras\\src\\utils\\traceback_utils.py\", line 70, in error_handler\n",
      "\u001b[34m\u001b[1mwandb\u001b[0m: \u001b[32m\u001b[41mERROR\u001b[0m     raise e.with_traceback(filtered_tb) from None\n",
      "\u001b[34m\u001b[1mwandb\u001b[0m: \u001b[32m\u001b[41mERROR\u001b[0m   File \"C:\\anaconda3\\envs\\jupyterenv\\lib\\site-packages\\wandb\\integration\\keras\\keras.py\", line 656, in on_train_batch_end\n",
      "\u001b[34m\u001b[1mwandb\u001b[0m: \u001b[32m\u001b[41mERROR\u001b[0m     wandb.run.summary[\"graph\"] = wandb.Graph.from_keras(self.model)\n",
      "\u001b[34m\u001b[1mwandb\u001b[0m: \u001b[32m\u001b[41mERROR\u001b[0m   File \"C:\\anaconda3\\envs\\jupyterenv\\lib\\site-packages\\wandb\\sdk\\wandb_summary.py\", line 52, in __setitem__\n",
      "\u001b[34m\u001b[1mwandb\u001b[0m: \u001b[32m\u001b[41mERROR\u001b[0m     self.update({key: val})\n",
      "\u001b[34m\u001b[1mwandb\u001b[0m: \u001b[32m\u001b[41mERROR\u001b[0m   File \"C:\\anaconda3\\envs\\jupyterenv\\lib\\site-packages\\wandb\\sdk\\wandb_summary.py\", line 74, in update\n",
      "\u001b[34m\u001b[1mwandb\u001b[0m: \u001b[32m\u001b[41mERROR\u001b[0m     self._update(record)\n",
      "\u001b[34m\u001b[1mwandb\u001b[0m: \u001b[32m\u001b[41mERROR\u001b[0m   File \"C:\\anaconda3\\envs\\jupyterenv\\lib\\site-packages\\wandb\\sdk\\wandb_summary.py\", line 128, in _update\n",
      "\u001b[34m\u001b[1mwandb\u001b[0m: \u001b[32m\u001b[41mERROR\u001b[0m     self._update_callback(record)\n",
      "\u001b[34m\u001b[1mwandb\u001b[0m: \u001b[32m\u001b[41mERROR\u001b[0m   File \"C:\\anaconda3\\envs\\jupyterenv\\lib\\site-packages\\wandb\\sdk\\wandb_run.py\", line 400, in wrapper_fn\n",
      "\u001b[34m\u001b[1mwandb\u001b[0m: \u001b[32m\u001b[41mERROR\u001b[0m     return func(self, *args, **kwargs)\n",
      "\u001b[34m\u001b[1mwandb\u001b[0m: \u001b[32m\u001b[41mERROR\u001b[0m   File \"C:\\anaconda3\\envs\\jupyterenv\\lib\\site-packages\\wandb\\sdk\\wandb_run.py\", line 1424, in _summary_update_callback\n",
      "\u001b[34m\u001b[1mwandb\u001b[0m: \u001b[32m\u001b[41mERROR\u001b[0m     self._backend.interface.publish_summary(summary_record)\n",
      "\u001b[34m\u001b[1mwandb\u001b[0m: \u001b[32m\u001b[41mERROR\u001b[0m   File \"C:\\anaconda3\\envs\\jupyterenv\\lib\\site-packages\\wandb\\sdk\\interface\\interface.py\", line 270, in publish_summary\n",
      "\u001b[34m\u001b[1mwandb\u001b[0m: \u001b[32m\u001b[41mERROR\u001b[0m     pb_summary_record = self._make_summary(summary_record)\n",
      "\u001b[34m\u001b[1mwandb\u001b[0m: \u001b[32m\u001b[41mERROR\u001b[0m   File \"C:\\anaconda3\\envs\\jupyterenv\\lib\\site-packages\\wandb\\sdk\\interface\\interface.py\", line 248, in _make_summary\n",
      "\u001b[34m\u001b[1mwandb\u001b[0m: \u001b[32m\u001b[41mERROR\u001b[0m     json_value = self._summary_encode(item.value, path_from_root)\n",
      "\u001b[34m\u001b[1mwandb\u001b[0m: \u001b[32m\u001b[41mERROR\u001b[0m   File \"C:\\anaconda3\\envs\\jupyterenv\\lib\\site-packages\\wandb\\sdk\\interface\\interface.py\", line 221, in _summary_encode\n",
      "\u001b[34m\u001b[1mwandb\u001b[0m: \u001b[32m\u001b[41mERROR\u001b[0m     val_to_json(self._run, path_from_root, value, namespace=\"summary\")\n",
      "\u001b[34m\u001b[1mwandb\u001b[0m: \u001b[32m\u001b[41mERROR\u001b[0m   File \"C:\\anaconda3\\envs\\jupyterenv\\lib\\site-packages\\wandb\\sdk\\data_types\\utils.py\", line 164, in val_to_json\n",
      "\u001b[34m\u001b[1mwandb\u001b[0m: \u001b[32m\u001b[41mERROR\u001b[0m     val.bind_to_run(run, key, namespace)\n",
      "\u001b[34m\u001b[1mwandb\u001b[0m: \u001b[32m\u001b[41mERROR\u001b[0m   File \"C:\\anaconda3\\envs\\jupyterenv\\lib\\site-packages\\wandb\\data_types.py\", line 1377, in bind_to_run\n",
      "\u001b[34m\u001b[1mwandb\u001b[0m: \u001b[32m\u001b[41mERROR\u001b[0m     with codecs.open(tmp_path, \"w\", encoding=\"utf-8\") as fp:\n",
      "\u001b[34m\u001b[1mwandb\u001b[0m: \u001b[32m\u001b[41mERROR\u001b[0m   File \"C:\\anaconda3\\envs\\jupyterenv\\lib\\codecs.py\", line 906, in open\n",
      "\u001b[34m\u001b[1mwandb\u001b[0m: \u001b[32m\u001b[41mERROR\u001b[0m     file = builtins.open(filename, mode, buffering)\n",
      "\u001b[34m\u001b[1mwandb\u001b[0m: \u001b[32m\u001b[41mERROR\u001b[0m FileNotFoundError: [Errno 2] No such file or directory: 'C:\\\\Users\\\\Addisu\\\\AppData\\\\Local\\\\Temp\\\\tmpbie7lvyxwandb-media\\\\3v3uw35x.graph.json'\n",
      "\u001b[34m\u001b[1mwandb\u001b[0m: \u001b[32m\u001b[41mERROR\u001b[0m \n",
      "\u001b[34m\u001b[1mwandb\u001b[0m: Agent Starting Run: qhrvm2hx with config:\n",
      "\u001b[34m\u001b[1mwandb\u001b[0m: \tbatch_size: 40\n",
      "\u001b[34m\u001b[1mwandb\u001b[0m: \tdense_activation: relu\n",
      "\u001b[34m\u001b[1mwandb\u001b[0m: \tdropout: 0.2\n",
      "\u001b[34m\u001b[1mwandb\u001b[0m: \tepochs: 1\n",
      "\u001b[34m\u001b[1mwandb\u001b[0m: \tlearning_rate: 0.0061759867254126966\n",
      "\u001b[34m\u001b[1mwandb\u001b[0m: \toptimizer: sgd\n"
     ]
    },
    {
     "data": {
      "text/html": [
       "wandb version 0.17.2 is available!  To upgrade, please run:\n",
       " $ pip install wandb --upgrade"
      ],
      "text/plain": [
       "<IPython.core.display.HTML object>"
      ]
     },
     "metadata": {},
     "output_type": "display_data"
    },
    {
     "data": {
      "text/html": [
       "Tracking run with wandb version 0.17.0"
      ],
      "text/plain": [
       "<IPython.core.display.HTML object>"
      ]
     },
     "metadata": {},
     "output_type": "display_data"
    },
    {
     "data": {
      "text/html": [
       "Run data is saved locally in <code>C:\\Users\\Addisu\\Desktop\\kidi files\\Python workshop with ellen\\wandb\\run-20240621_153852-qhrvm2hx</code>"
      ],
      "text/plain": [
       "<IPython.core.display.HTML object>"
      ]
     },
     "metadata": {},
     "output_type": "display_data"
    },
    {
     "data": {
      "text/html": [
       "Syncing run <strong><a href='https://wandb.ai/evapppp/sweeps-keras/runs/qhrvm2hx' target=\"_blank\">floral-sweep-16</a></strong> to <a href='https://wandb.ai/evapppp/sweeps-keras' target=\"_blank\">Weights & Biases</a> (<a href='https://wandb.me/run' target=\"_blank\">docs</a>)<br/>Sweep page: <a href='https://wandb.ai/evapppp/sweeps-keras/sweeps/qu378scj' target=\"_blank\">https://wandb.ai/evapppp/sweeps-keras/sweeps/qu378scj</a>"
      ],
      "text/plain": [
       "<IPython.core.display.HTML object>"
      ]
     },
     "metadata": {},
     "output_type": "display_data"
    },
    {
     "data": {
      "text/html": [
       " View project at <a href='https://wandb.ai/evapppp/sweeps-keras' target=\"_blank\">https://wandb.ai/evapppp/sweeps-keras</a>"
      ],
      "text/plain": [
       "<IPython.core.display.HTML object>"
      ]
     },
     "metadata": {},
     "output_type": "display_data"
    },
    {
     "data": {
      "text/html": [
       " View sweep at <a href='https://wandb.ai/evapppp/sweeps-keras/sweeps/qu378scj' target=\"_blank\">https://wandb.ai/evapppp/sweeps-keras/sweeps/qu378scj</a>"
      ],
      "text/plain": [
       "<IPython.core.display.HTML object>"
      ]
     },
     "metadata": {},
     "output_type": "display_data"
    },
    {
     "data": {
      "text/html": [
       " View run at <a href='https://wandb.ai/evapppp/sweeps-keras/runs/qhrvm2hx' target=\"_blank\">https://wandb.ai/evapppp/sweeps-keras/runs/qhrvm2hx</a>"
      ],
      "text/plain": [
       "<IPython.core.display.HTML object>"
      ]
     },
     "metadata": {},
     "output_type": "display_data"
    },
    {
     "name": "stderr",
     "output_type": "stream",
     "text": [
      "Traceback (most recent call last):\n",
      "  File \"C:\\Users\\Addisu\\AppData\\Local\\Temp\\ipykernel_74596\\2644847777.py\", line 221, in sweep_train\n",
      "    train(model,\n",
      "  File \"C:\\Users\\Addisu\\AppData\\Local\\Temp\\ipykernel_74596\\2644847777.py\", line 151, in train\n",
      "    model.fit(X_train,\n",
      "  File \"C:\\anaconda3\\envs\\jupyterenv\\lib\\site-packages\\keras\\src\\utils\\traceback_utils.py\", line 70, in error_handler\n",
      "    raise e.with_traceback(filtered_tb) from None\n",
      "  File \"C:\\anaconda3\\envs\\jupyterenv\\lib\\site-packages\\wandb\\integration\\keras\\keras.py\", line 656, in on_train_batch_end\n",
      "    wandb.run.summary[\"graph\"] = wandb.Graph.from_keras(self.model)\n",
      "  File \"C:\\anaconda3\\envs\\jupyterenv\\lib\\site-packages\\wandb\\sdk\\wandb_summary.py\", line 52, in __setitem__\n",
      "    self.update({key: val})\n",
      "  File \"C:\\anaconda3\\envs\\jupyterenv\\lib\\site-packages\\wandb\\sdk\\wandb_summary.py\", line 74, in update\n",
      "    self._update(record)\n",
      "  File \"C:\\anaconda3\\envs\\jupyterenv\\lib\\site-packages\\wandb\\sdk\\wandb_summary.py\", line 128, in _update\n",
      "    self._update_callback(record)\n",
      "  File \"C:\\anaconda3\\envs\\jupyterenv\\lib\\site-packages\\wandb\\sdk\\wandb_run.py\", line 400, in wrapper_fn\n",
      "    return func(self, *args, **kwargs)\n",
      "  File \"C:\\anaconda3\\envs\\jupyterenv\\lib\\site-packages\\wandb\\sdk\\wandb_run.py\", line 1424, in _summary_update_callback\n",
      "    self._backend.interface.publish_summary(summary_record)\n",
      "  File \"C:\\anaconda3\\envs\\jupyterenv\\lib\\site-packages\\wandb\\sdk\\interface\\interface.py\", line 270, in publish_summary\n",
      "    pb_summary_record = self._make_summary(summary_record)\n",
      "  File \"C:\\anaconda3\\envs\\jupyterenv\\lib\\site-packages\\wandb\\sdk\\interface\\interface.py\", line 248, in _make_summary\n",
      "    json_value = self._summary_encode(item.value, path_from_root)\n",
      "  File \"C:\\anaconda3\\envs\\jupyterenv\\lib\\site-packages\\wandb\\sdk\\interface\\interface.py\", line 221, in _summary_encode\n",
      "    val_to_json(self._run, path_from_root, value, namespace=\"summary\")\n",
      "  File \"C:\\anaconda3\\envs\\jupyterenv\\lib\\site-packages\\wandb\\sdk\\data_types\\utils.py\", line 164, in val_to_json\n",
      "    val.bind_to_run(run, key, namespace)\n",
      "  File \"C:\\anaconda3\\envs\\jupyterenv\\lib\\site-packages\\wandb\\data_types.py\", line 1377, in bind_to_run\n",
      "    with codecs.open(tmp_path, \"w\", encoding=\"utf-8\") as fp:\n",
      "  File \"C:\\anaconda3\\envs\\jupyterenv\\lib\\codecs.py\", line 906, in open\n",
      "    file = builtins.open(filename, mode, buffering)\n",
      "FileNotFoundError: [Errno 2] No such file or directory: 'C:\\\\Users\\\\Addisu\\\\AppData\\\\Local\\\\Temp\\\\tmpbie7lvyxwandb-media\\\\pjpyf3a8.graph.json'\n"
     ]
    },
    {
     "data": {
      "text/html": [
       " View run <strong style=\"color:#cdcd00\">floral-sweep-16</strong> at: <a href='https://wandb.ai/evapppp/sweeps-keras/runs/qhrvm2hx' target=\"_blank\">https://wandb.ai/evapppp/sweeps-keras/runs/qhrvm2hx</a><br/> View project at: <a href='https://wandb.ai/evapppp/sweeps-keras' target=\"_blank\">https://wandb.ai/evapppp/sweeps-keras</a><br/>Synced 5 W&B file(s), 0 media file(s), 0 artifact file(s) and 0 other file(s)"
      ],
      "text/plain": [
       "<IPython.core.display.HTML object>"
      ]
     },
     "metadata": {},
     "output_type": "display_data"
    },
    {
     "data": {
      "text/html": [
       "Find logs at: <code>.\\wandb\\run-20240621_153852-qhrvm2hx\\logs</code>"
      ],
      "text/plain": [
       "<IPython.core.display.HTML object>"
      ]
     },
     "metadata": {},
     "output_type": "display_data"
    },
    {
     "name": "stderr",
     "output_type": "stream",
     "text": [
      "Run qhrvm2hx errored:\n",
      "Traceback (most recent call last):\n",
      "  File \"C:\\anaconda3\\envs\\jupyterenv\\lib\\site-packages\\wandb\\agents\\pyagent.py\", line 307, in _run_job\n",
      "    self._function()\n",
      "  File \"C:\\Users\\Addisu\\AppData\\Local\\Temp\\ipykernel_74596\\2644847777.py\", line 221, in sweep_train\n",
      "    train(model,\n",
      "  File \"C:\\Users\\Addisu\\AppData\\Local\\Temp\\ipykernel_74596\\2644847777.py\", line 151, in train\n",
      "    model.fit(X_train,\n",
      "  File \"C:\\anaconda3\\envs\\jupyterenv\\lib\\site-packages\\keras\\src\\utils\\traceback_utils.py\", line 70, in error_handler\n",
      "    raise e.with_traceback(filtered_tb) from None\n",
      "  File \"C:\\anaconda3\\envs\\jupyterenv\\lib\\site-packages\\wandb\\integration\\keras\\keras.py\", line 656, in on_train_batch_end\n",
      "    wandb.run.summary[\"graph\"] = wandb.Graph.from_keras(self.model)\n",
      "  File \"C:\\anaconda3\\envs\\jupyterenv\\lib\\site-packages\\wandb\\sdk\\wandb_summary.py\", line 52, in __setitem__\n",
      "    self.update({key: val})\n",
      "  File \"C:\\anaconda3\\envs\\jupyterenv\\lib\\site-packages\\wandb\\sdk\\wandb_summary.py\", line 74, in update\n",
      "    self._update(record)\n",
      "  File \"C:\\anaconda3\\envs\\jupyterenv\\lib\\site-packages\\wandb\\sdk\\wandb_summary.py\", line 128, in _update\n",
      "    self._update_callback(record)\n",
      "  File \"C:\\anaconda3\\envs\\jupyterenv\\lib\\site-packages\\wandb\\sdk\\wandb_run.py\", line 400, in wrapper_fn\n",
      "    return func(self, *args, **kwargs)\n",
      "  File \"C:\\anaconda3\\envs\\jupyterenv\\lib\\site-packages\\wandb\\sdk\\wandb_run.py\", line 1424, in _summary_update_callback\n",
      "    self._backend.interface.publish_summary(summary_record)\n",
      "  File \"C:\\anaconda3\\envs\\jupyterenv\\lib\\site-packages\\wandb\\sdk\\interface\\interface.py\", line 270, in publish_summary\n",
      "    pb_summary_record = self._make_summary(summary_record)\n",
      "  File \"C:\\anaconda3\\envs\\jupyterenv\\lib\\site-packages\\wandb\\sdk\\interface\\interface.py\", line 248, in _make_summary\n",
      "    json_value = self._summary_encode(item.value, path_from_root)\n",
      "  File \"C:\\anaconda3\\envs\\jupyterenv\\lib\\site-packages\\wandb\\sdk\\interface\\interface.py\", line 221, in _summary_encode\n",
      "    val_to_json(self._run, path_from_root, value, namespace=\"summary\")\n",
      "  File \"C:\\anaconda3\\envs\\jupyterenv\\lib\\site-packages\\wandb\\sdk\\data_types\\utils.py\", line 164, in val_to_json\n",
      "    val.bind_to_run(run, key, namespace)\n",
      "  File \"C:\\anaconda3\\envs\\jupyterenv\\lib\\site-packages\\wandb\\data_types.py\", line 1377, in bind_to_run\n",
      "    with codecs.open(tmp_path, \"w\", encoding=\"utf-8\") as fp:\n",
      "  File \"C:\\anaconda3\\envs\\jupyterenv\\lib\\codecs.py\", line 906, in open\n",
      "    file = builtins.open(filename, mode, buffering)\n",
      "FileNotFoundError: [Errno 2] No such file or directory: 'C:\\\\Users\\\\Addisu\\\\AppData\\\\Local\\\\Temp\\\\tmpbie7lvyxwandb-media\\\\pjpyf3a8.graph.json'\n",
      "\n",
      "\u001b[34m\u001b[1mwandb\u001b[0m: \u001b[32m\u001b[41mERROR\u001b[0m Run qhrvm2hx errored:\n",
      "\u001b[34m\u001b[1mwandb\u001b[0m: \u001b[32m\u001b[41mERROR\u001b[0m Traceback (most recent call last):\n",
      "\u001b[34m\u001b[1mwandb\u001b[0m: \u001b[32m\u001b[41mERROR\u001b[0m   File \"C:\\anaconda3\\envs\\jupyterenv\\lib\\site-packages\\wandb\\agents\\pyagent.py\", line 307, in _run_job\n",
      "\u001b[34m\u001b[1mwandb\u001b[0m: \u001b[32m\u001b[41mERROR\u001b[0m     self._function()\n",
      "\u001b[34m\u001b[1mwandb\u001b[0m: \u001b[32m\u001b[41mERROR\u001b[0m   File \"C:\\Users\\Addisu\\AppData\\Local\\Temp\\ipykernel_74596\\2644847777.py\", line 221, in sweep_train\n",
      "\u001b[34m\u001b[1mwandb\u001b[0m: \u001b[32m\u001b[41mERROR\u001b[0m     train(model,\n",
      "\u001b[34m\u001b[1mwandb\u001b[0m: \u001b[32m\u001b[41mERROR\u001b[0m   File \"C:\\Users\\Addisu\\AppData\\Local\\Temp\\ipykernel_74596\\2644847777.py\", line 151, in train\n",
      "\u001b[34m\u001b[1mwandb\u001b[0m: \u001b[32m\u001b[41mERROR\u001b[0m     model.fit(X_train,\n",
      "\u001b[34m\u001b[1mwandb\u001b[0m: \u001b[32m\u001b[41mERROR\u001b[0m   File \"C:\\anaconda3\\envs\\jupyterenv\\lib\\site-packages\\keras\\src\\utils\\traceback_utils.py\", line 70, in error_handler\n",
      "\u001b[34m\u001b[1mwandb\u001b[0m: \u001b[32m\u001b[41mERROR\u001b[0m     raise e.with_traceback(filtered_tb) from None\n",
      "\u001b[34m\u001b[1mwandb\u001b[0m: \u001b[32m\u001b[41mERROR\u001b[0m   File \"C:\\anaconda3\\envs\\jupyterenv\\lib\\site-packages\\wandb\\integration\\keras\\keras.py\", line 656, in on_train_batch_end\n",
      "\u001b[34m\u001b[1mwandb\u001b[0m: \u001b[32m\u001b[41mERROR\u001b[0m     wandb.run.summary[\"graph\"] = wandb.Graph.from_keras(self.model)\n",
      "\u001b[34m\u001b[1mwandb\u001b[0m: \u001b[32m\u001b[41mERROR\u001b[0m   File \"C:\\anaconda3\\envs\\jupyterenv\\lib\\site-packages\\wandb\\sdk\\wandb_summary.py\", line 52, in __setitem__\n",
      "\u001b[34m\u001b[1mwandb\u001b[0m: \u001b[32m\u001b[41mERROR\u001b[0m     self.update({key: val})\n",
      "\u001b[34m\u001b[1mwandb\u001b[0m: \u001b[32m\u001b[41mERROR\u001b[0m   File \"C:\\anaconda3\\envs\\jupyterenv\\lib\\site-packages\\wandb\\sdk\\wandb_summary.py\", line 74, in update\n",
      "\u001b[34m\u001b[1mwandb\u001b[0m: \u001b[32m\u001b[41mERROR\u001b[0m     self._update(record)\n",
      "\u001b[34m\u001b[1mwandb\u001b[0m: \u001b[32m\u001b[41mERROR\u001b[0m   File \"C:\\anaconda3\\envs\\jupyterenv\\lib\\site-packages\\wandb\\sdk\\wandb_summary.py\", line 128, in _update\n",
      "\u001b[34m\u001b[1mwandb\u001b[0m: \u001b[32m\u001b[41mERROR\u001b[0m     self._update_callback(record)\n",
      "\u001b[34m\u001b[1mwandb\u001b[0m: \u001b[32m\u001b[41mERROR\u001b[0m   File \"C:\\anaconda3\\envs\\jupyterenv\\lib\\site-packages\\wandb\\sdk\\wandb_run.py\", line 400, in wrapper_fn\n",
      "\u001b[34m\u001b[1mwandb\u001b[0m: \u001b[32m\u001b[41mERROR\u001b[0m     return func(self, *args, **kwargs)\n",
      "\u001b[34m\u001b[1mwandb\u001b[0m: \u001b[32m\u001b[41mERROR\u001b[0m   File \"C:\\anaconda3\\envs\\jupyterenv\\lib\\site-packages\\wandb\\sdk\\wandb_run.py\", line 1424, in _summary_update_callback\n",
      "\u001b[34m\u001b[1mwandb\u001b[0m: \u001b[32m\u001b[41mERROR\u001b[0m     self._backend.interface.publish_summary(summary_record)\n",
      "\u001b[34m\u001b[1mwandb\u001b[0m: \u001b[32m\u001b[41mERROR\u001b[0m   File \"C:\\anaconda3\\envs\\jupyterenv\\lib\\site-packages\\wandb\\sdk\\interface\\interface.py\", line 270, in publish_summary\n",
      "\u001b[34m\u001b[1mwandb\u001b[0m: \u001b[32m\u001b[41mERROR\u001b[0m     pb_summary_record = self._make_summary(summary_record)\n",
      "\u001b[34m\u001b[1mwandb\u001b[0m: \u001b[32m\u001b[41mERROR\u001b[0m   File \"C:\\anaconda3\\envs\\jupyterenv\\lib\\site-packages\\wandb\\sdk\\interface\\interface.py\", line 248, in _make_summary\n",
      "\u001b[34m\u001b[1mwandb\u001b[0m: \u001b[32m\u001b[41mERROR\u001b[0m     json_value = self._summary_encode(item.value, path_from_root)\n",
      "\u001b[34m\u001b[1mwandb\u001b[0m: \u001b[32m\u001b[41mERROR\u001b[0m   File \"C:\\anaconda3\\envs\\jupyterenv\\lib\\site-packages\\wandb\\sdk\\interface\\interface.py\", line 221, in _summary_encode\n",
      "\u001b[34m\u001b[1mwandb\u001b[0m: \u001b[32m\u001b[41mERROR\u001b[0m     val_to_json(self._run, path_from_root, value, namespace=\"summary\")\n",
      "\u001b[34m\u001b[1mwandb\u001b[0m: \u001b[32m\u001b[41mERROR\u001b[0m   File \"C:\\anaconda3\\envs\\jupyterenv\\lib\\site-packages\\wandb\\sdk\\data_types\\utils.py\", line 164, in val_to_json\n",
      "\u001b[34m\u001b[1mwandb\u001b[0m: \u001b[32m\u001b[41mERROR\u001b[0m     val.bind_to_run(run, key, namespace)\n",
      "\u001b[34m\u001b[1mwandb\u001b[0m: \u001b[32m\u001b[41mERROR\u001b[0m   File \"C:\\anaconda3\\envs\\jupyterenv\\lib\\site-packages\\wandb\\data_types.py\", line 1377, in bind_to_run\n",
      "\u001b[34m\u001b[1mwandb\u001b[0m: \u001b[32m\u001b[41mERROR\u001b[0m     with codecs.open(tmp_path, \"w\", encoding=\"utf-8\") as fp:\n",
      "\u001b[34m\u001b[1mwandb\u001b[0m: \u001b[32m\u001b[41mERROR\u001b[0m   File \"C:\\anaconda3\\envs\\jupyterenv\\lib\\codecs.py\", line 906, in open\n",
      "\u001b[34m\u001b[1mwandb\u001b[0m: \u001b[32m\u001b[41mERROR\u001b[0m     file = builtins.open(filename, mode, buffering)\n",
      "\u001b[34m\u001b[1mwandb\u001b[0m: \u001b[32m\u001b[41mERROR\u001b[0m FileNotFoundError: [Errno 2] No such file or directory: 'C:\\\\Users\\\\Addisu\\\\AppData\\\\Local\\\\Temp\\\\tmpbie7lvyxwandb-media\\\\pjpyf3a8.graph.json'\n",
      "\u001b[34m\u001b[1mwandb\u001b[0m: \u001b[32m\u001b[41mERROR\u001b[0m \n",
      "\u001b[34m\u001b[1mwandb\u001b[0m: Sweep Agent: Waiting for job.\n",
      "\u001b[34m\u001b[1mwandb\u001b[0m: Job received.\n",
      "\u001b[34m\u001b[1mwandb\u001b[0m: Agent Starting Run: twj6ya83 with config:\n",
      "\u001b[34m\u001b[1mwandb\u001b[0m: \tbatch_size: 48\n",
      "\u001b[34m\u001b[1mwandb\u001b[0m: \tdense_activation: sigmoid\n",
      "\u001b[34m\u001b[1mwandb\u001b[0m: \tdropout: 0.3\n",
      "\u001b[34m\u001b[1mwandb\u001b[0m: \tepochs: 1\n",
      "\u001b[34m\u001b[1mwandb\u001b[0m: \tlearning_rate: 0.003943121226271584\n",
      "\u001b[34m\u001b[1mwandb\u001b[0m: \toptimizer: adam\n"
     ]
    },
    {
     "data": {
      "text/html": [
       "wandb version 0.17.2 is available!  To upgrade, please run:\n",
       " $ pip install wandb --upgrade"
      ],
      "text/plain": [
       "<IPython.core.display.HTML object>"
      ]
     },
     "metadata": {},
     "output_type": "display_data"
    },
    {
     "data": {
      "text/html": [
       "Tracking run with wandb version 0.17.0"
      ],
      "text/plain": [
       "<IPython.core.display.HTML object>"
      ]
     },
     "metadata": {},
     "output_type": "display_data"
    },
    {
     "data": {
      "text/html": [
       "Run data is saved locally in <code>C:\\Users\\Addisu\\Desktop\\kidi files\\Python workshop with ellen\\wandb\\run-20240621_153926-twj6ya83</code>"
      ],
      "text/plain": [
       "<IPython.core.display.HTML object>"
      ]
     },
     "metadata": {},
     "output_type": "display_data"
    },
    {
     "data": {
      "text/html": [
       "Syncing run <strong><a href='https://wandb.ai/evapppp/sweeps-keras/runs/twj6ya83' target=\"_blank\">rural-sweep-17</a></strong> to <a href='https://wandb.ai/evapppp/sweeps-keras' target=\"_blank\">Weights & Biases</a> (<a href='https://wandb.me/run' target=\"_blank\">docs</a>)<br/>Sweep page: <a href='https://wandb.ai/evapppp/sweeps-keras/sweeps/qu378scj' target=\"_blank\">https://wandb.ai/evapppp/sweeps-keras/sweeps/qu378scj</a>"
      ],
      "text/plain": [
       "<IPython.core.display.HTML object>"
      ]
     },
     "metadata": {},
     "output_type": "display_data"
    },
    {
     "data": {
      "text/html": [
       " View project at <a href='https://wandb.ai/evapppp/sweeps-keras' target=\"_blank\">https://wandb.ai/evapppp/sweeps-keras</a>"
      ],
      "text/plain": [
       "<IPython.core.display.HTML object>"
      ]
     },
     "metadata": {},
     "output_type": "display_data"
    },
    {
     "data": {
      "text/html": [
       " View sweep at <a href='https://wandb.ai/evapppp/sweeps-keras/sweeps/qu378scj' target=\"_blank\">https://wandb.ai/evapppp/sweeps-keras/sweeps/qu378scj</a>"
      ],
      "text/plain": [
       "<IPython.core.display.HTML object>"
      ]
     },
     "metadata": {},
     "output_type": "display_data"
    },
    {
     "data": {
      "text/html": [
       " View run at <a href='https://wandb.ai/evapppp/sweeps-keras/runs/twj6ya83' target=\"_blank\">https://wandb.ai/evapppp/sweeps-keras/runs/twj6ya83</a>"
      ],
      "text/plain": [
       "<IPython.core.display.HTML object>"
      ]
     },
     "metadata": {},
     "output_type": "display_data"
    },
    {
     "name": "stderr",
     "output_type": "stream",
     "text": [
      "Traceback (most recent call last):\n",
      "  File \"C:\\Users\\Addisu\\AppData\\Local\\Temp\\ipykernel_74596\\2644847777.py\", line 221, in sweep_train\n",
      "    train(model,\n",
      "  File \"C:\\Users\\Addisu\\AppData\\Local\\Temp\\ipykernel_74596\\2644847777.py\", line 151, in train\n",
      "    model.fit(X_train,\n",
      "  File \"C:\\anaconda3\\envs\\jupyterenv\\lib\\site-packages\\keras\\src\\utils\\traceback_utils.py\", line 70, in error_handler\n",
      "    raise e.with_traceback(filtered_tb) from None\n",
      "  File \"C:\\anaconda3\\envs\\jupyterenv\\lib\\site-packages\\wandb\\integration\\keras\\keras.py\", line 656, in on_train_batch_end\n",
      "    wandb.run.summary[\"graph\"] = wandb.Graph.from_keras(self.model)\n",
      "  File \"C:\\anaconda3\\envs\\jupyterenv\\lib\\site-packages\\wandb\\sdk\\wandb_summary.py\", line 52, in __setitem__\n",
      "    self.update({key: val})\n",
      "  File \"C:\\anaconda3\\envs\\jupyterenv\\lib\\site-packages\\wandb\\sdk\\wandb_summary.py\", line 74, in update\n",
      "    self._update(record)\n",
      "  File \"C:\\anaconda3\\envs\\jupyterenv\\lib\\site-packages\\wandb\\sdk\\wandb_summary.py\", line 128, in _update\n",
      "    self._update_callback(record)\n",
      "  File \"C:\\anaconda3\\envs\\jupyterenv\\lib\\site-packages\\wandb\\sdk\\wandb_run.py\", line 400, in wrapper_fn\n",
      "    return func(self, *args, **kwargs)\n",
      "  File \"C:\\anaconda3\\envs\\jupyterenv\\lib\\site-packages\\wandb\\sdk\\wandb_run.py\", line 1424, in _summary_update_callback\n",
      "    self._backend.interface.publish_summary(summary_record)\n",
      "  File \"C:\\anaconda3\\envs\\jupyterenv\\lib\\site-packages\\wandb\\sdk\\interface\\interface.py\", line 270, in publish_summary\n",
      "    pb_summary_record = self._make_summary(summary_record)\n",
      "  File \"C:\\anaconda3\\envs\\jupyterenv\\lib\\site-packages\\wandb\\sdk\\interface\\interface.py\", line 248, in _make_summary\n",
      "    json_value = self._summary_encode(item.value, path_from_root)\n",
      "  File \"C:\\anaconda3\\envs\\jupyterenv\\lib\\site-packages\\wandb\\sdk\\interface\\interface.py\", line 221, in _summary_encode\n",
      "    val_to_json(self._run, path_from_root, value, namespace=\"summary\")\n",
      "  File \"C:\\anaconda3\\envs\\jupyterenv\\lib\\site-packages\\wandb\\sdk\\data_types\\utils.py\", line 164, in val_to_json\n",
      "    val.bind_to_run(run, key, namespace)\n",
      "  File \"C:\\anaconda3\\envs\\jupyterenv\\lib\\site-packages\\wandb\\data_types.py\", line 1377, in bind_to_run\n",
      "    with codecs.open(tmp_path, \"w\", encoding=\"utf-8\") as fp:\n",
      "  File \"C:\\anaconda3\\envs\\jupyterenv\\lib\\codecs.py\", line 906, in open\n",
      "    file = builtins.open(filename, mode, buffering)\n",
      "FileNotFoundError: [Errno 2] No such file or directory: 'C:\\\\Users\\\\Addisu\\\\AppData\\\\Local\\\\Temp\\\\tmpbie7lvyxwandb-media\\\\t3ma0rk6.graph.json'\n"
     ]
    },
    {
     "data": {
      "text/html": [
       " View run <strong style=\"color:#cdcd00\">rural-sweep-17</strong> at: <a href='https://wandb.ai/evapppp/sweeps-keras/runs/twj6ya83' target=\"_blank\">https://wandb.ai/evapppp/sweeps-keras/runs/twj6ya83</a><br/> View project at: <a href='https://wandb.ai/evapppp/sweeps-keras' target=\"_blank\">https://wandb.ai/evapppp/sweeps-keras</a><br/>Synced 5 W&B file(s), 0 media file(s), 0 artifact file(s) and 0 other file(s)"
      ],
      "text/plain": [
       "<IPython.core.display.HTML object>"
      ]
     },
     "metadata": {},
     "output_type": "display_data"
    },
    {
     "data": {
      "text/html": [
       "Find logs at: <code>.\\wandb\\run-20240621_153926-twj6ya83\\logs</code>"
      ],
      "text/plain": [
       "<IPython.core.display.HTML object>"
      ]
     },
     "metadata": {},
     "output_type": "display_data"
    },
    {
     "name": "stderr",
     "output_type": "stream",
     "text": [
      "Run twj6ya83 errored:\n",
      "Traceback (most recent call last):\n",
      "  File \"C:\\anaconda3\\envs\\jupyterenv\\lib\\site-packages\\wandb\\agents\\pyagent.py\", line 307, in _run_job\n",
      "    self._function()\n",
      "  File \"C:\\Users\\Addisu\\AppData\\Local\\Temp\\ipykernel_74596\\2644847777.py\", line 221, in sweep_train\n",
      "    train(model,\n",
      "  File \"C:\\Users\\Addisu\\AppData\\Local\\Temp\\ipykernel_74596\\2644847777.py\", line 151, in train\n",
      "    model.fit(X_train,\n",
      "  File \"C:\\anaconda3\\envs\\jupyterenv\\lib\\site-packages\\keras\\src\\utils\\traceback_utils.py\", line 70, in error_handler\n",
      "    raise e.with_traceback(filtered_tb) from None\n",
      "  File \"C:\\anaconda3\\envs\\jupyterenv\\lib\\site-packages\\wandb\\integration\\keras\\keras.py\", line 656, in on_train_batch_end\n",
      "    wandb.run.summary[\"graph\"] = wandb.Graph.from_keras(self.model)\n",
      "  File \"C:\\anaconda3\\envs\\jupyterenv\\lib\\site-packages\\wandb\\sdk\\wandb_summary.py\", line 52, in __setitem__\n",
      "    self.update({key: val})\n",
      "  File \"C:\\anaconda3\\envs\\jupyterenv\\lib\\site-packages\\wandb\\sdk\\wandb_summary.py\", line 74, in update\n",
      "    self._update(record)\n",
      "  File \"C:\\anaconda3\\envs\\jupyterenv\\lib\\site-packages\\wandb\\sdk\\wandb_summary.py\", line 128, in _update\n",
      "    self._update_callback(record)\n",
      "  File \"C:\\anaconda3\\envs\\jupyterenv\\lib\\site-packages\\wandb\\sdk\\wandb_run.py\", line 400, in wrapper_fn\n",
      "    return func(self, *args, **kwargs)\n",
      "  File \"C:\\anaconda3\\envs\\jupyterenv\\lib\\site-packages\\wandb\\sdk\\wandb_run.py\", line 1424, in _summary_update_callback\n",
      "    self._backend.interface.publish_summary(summary_record)\n",
      "  File \"C:\\anaconda3\\envs\\jupyterenv\\lib\\site-packages\\wandb\\sdk\\interface\\interface.py\", line 270, in publish_summary\n",
      "    pb_summary_record = self._make_summary(summary_record)\n",
      "  File \"C:\\anaconda3\\envs\\jupyterenv\\lib\\site-packages\\wandb\\sdk\\interface\\interface.py\", line 248, in _make_summary\n",
      "    json_value = self._summary_encode(item.value, path_from_root)\n",
      "  File \"C:\\anaconda3\\envs\\jupyterenv\\lib\\site-packages\\wandb\\sdk\\interface\\interface.py\", line 221, in _summary_encode\n",
      "    val_to_json(self._run, path_from_root, value, namespace=\"summary\")\n",
      "  File \"C:\\anaconda3\\envs\\jupyterenv\\lib\\site-packages\\wandb\\sdk\\data_types\\utils.py\", line 164, in val_to_json\n",
      "    val.bind_to_run(run, key, namespace)\n",
      "  File \"C:\\anaconda3\\envs\\jupyterenv\\lib\\site-packages\\wandb\\data_types.py\", line 1377, in bind_to_run\n",
      "    with codecs.open(tmp_path, \"w\", encoding=\"utf-8\") as fp:\n",
      "  File \"C:\\anaconda3\\envs\\jupyterenv\\lib\\codecs.py\", line 906, in open\n",
      "    file = builtins.open(filename, mode, buffering)\n",
      "FileNotFoundError: [Errno 2] No such file or directory: 'C:\\\\Users\\\\Addisu\\\\AppData\\\\Local\\\\Temp\\\\tmpbie7lvyxwandb-media\\\\t3ma0rk6.graph.json'\n",
      "\n",
      "\u001b[34m\u001b[1mwandb\u001b[0m: \u001b[32m\u001b[41mERROR\u001b[0m Run twj6ya83 errored:\n",
      "\u001b[34m\u001b[1mwandb\u001b[0m: \u001b[32m\u001b[41mERROR\u001b[0m Traceback (most recent call last):\n",
      "\u001b[34m\u001b[1mwandb\u001b[0m: \u001b[32m\u001b[41mERROR\u001b[0m   File \"C:\\anaconda3\\envs\\jupyterenv\\lib\\site-packages\\wandb\\agents\\pyagent.py\", line 307, in _run_job\n",
      "\u001b[34m\u001b[1mwandb\u001b[0m: \u001b[32m\u001b[41mERROR\u001b[0m     self._function()\n",
      "\u001b[34m\u001b[1mwandb\u001b[0m: \u001b[32m\u001b[41mERROR\u001b[0m   File \"C:\\Users\\Addisu\\AppData\\Local\\Temp\\ipykernel_74596\\2644847777.py\", line 221, in sweep_train\n",
      "\u001b[34m\u001b[1mwandb\u001b[0m: \u001b[32m\u001b[41mERROR\u001b[0m     train(model,\n",
      "\u001b[34m\u001b[1mwandb\u001b[0m: \u001b[32m\u001b[41mERROR\u001b[0m   File \"C:\\Users\\Addisu\\AppData\\Local\\Temp\\ipykernel_74596\\2644847777.py\", line 151, in train\n",
      "\u001b[34m\u001b[1mwandb\u001b[0m: \u001b[32m\u001b[41mERROR\u001b[0m     model.fit(X_train,\n",
      "\u001b[34m\u001b[1mwandb\u001b[0m: \u001b[32m\u001b[41mERROR\u001b[0m   File \"C:\\anaconda3\\envs\\jupyterenv\\lib\\site-packages\\keras\\src\\utils\\traceback_utils.py\", line 70, in error_handler\n",
      "\u001b[34m\u001b[1mwandb\u001b[0m: \u001b[32m\u001b[41mERROR\u001b[0m     raise e.with_traceback(filtered_tb) from None\n",
      "\u001b[34m\u001b[1mwandb\u001b[0m: \u001b[32m\u001b[41mERROR\u001b[0m   File \"C:\\anaconda3\\envs\\jupyterenv\\lib\\site-packages\\wandb\\integration\\keras\\keras.py\", line 656, in on_train_batch_end\n",
      "\u001b[34m\u001b[1mwandb\u001b[0m: \u001b[32m\u001b[41mERROR\u001b[0m     wandb.run.summary[\"graph\"] = wandb.Graph.from_keras(self.model)\n",
      "\u001b[34m\u001b[1mwandb\u001b[0m: \u001b[32m\u001b[41mERROR\u001b[0m   File \"C:\\anaconda3\\envs\\jupyterenv\\lib\\site-packages\\wandb\\sdk\\wandb_summary.py\", line 52, in __setitem__\n",
      "\u001b[34m\u001b[1mwandb\u001b[0m: \u001b[32m\u001b[41mERROR\u001b[0m     self.update({key: val})\n",
      "\u001b[34m\u001b[1mwandb\u001b[0m: \u001b[32m\u001b[41mERROR\u001b[0m   File \"C:\\anaconda3\\envs\\jupyterenv\\lib\\site-packages\\wandb\\sdk\\wandb_summary.py\", line 74, in update\n",
      "\u001b[34m\u001b[1mwandb\u001b[0m: \u001b[32m\u001b[41mERROR\u001b[0m     self._update(record)\n",
      "\u001b[34m\u001b[1mwandb\u001b[0m: \u001b[32m\u001b[41mERROR\u001b[0m   File \"C:\\anaconda3\\envs\\jupyterenv\\lib\\site-packages\\wandb\\sdk\\wandb_summary.py\", line 128, in _update\n",
      "\u001b[34m\u001b[1mwandb\u001b[0m: \u001b[32m\u001b[41mERROR\u001b[0m     self._update_callback(record)\n",
      "\u001b[34m\u001b[1mwandb\u001b[0m: \u001b[32m\u001b[41mERROR\u001b[0m   File \"C:\\anaconda3\\envs\\jupyterenv\\lib\\site-packages\\wandb\\sdk\\wandb_run.py\", line 400, in wrapper_fn\n",
      "\u001b[34m\u001b[1mwandb\u001b[0m: \u001b[32m\u001b[41mERROR\u001b[0m     return func(self, *args, **kwargs)\n",
      "\u001b[34m\u001b[1mwandb\u001b[0m: \u001b[32m\u001b[41mERROR\u001b[0m   File \"C:\\anaconda3\\envs\\jupyterenv\\lib\\site-packages\\wandb\\sdk\\wandb_run.py\", line 1424, in _summary_update_callback\n",
      "\u001b[34m\u001b[1mwandb\u001b[0m: \u001b[32m\u001b[41mERROR\u001b[0m     self._backend.interface.publish_summary(summary_record)\n",
      "\u001b[34m\u001b[1mwandb\u001b[0m: \u001b[32m\u001b[41mERROR\u001b[0m   File \"C:\\anaconda3\\envs\\jupyterenv\\lib\\site-packages\\wandb\\sdk\\interface\\interface.py\", line 270, in publish_summary\n",
      "\u001b[34m\u001b[1mwandb\u001b[0m: \u001b[32m\u001b[41mERROR\u001b[0m     pb_summary_record = self._make_summary(summary_record)\n",
      "\u001b[34m\u001b[1mwandb\u001b[0m: \u001b[32m\u001b[41mERROR\u001b[0m   File \"C:\\anaconda3\\envs\\jupyterenv\\lib\\site-packages\\wandb\\sdk\\interface\\interface.py\", line 248, in _make_summary\n",
      "\u001b[34m\u001b[1mwandb\u001b[0m: \u001b[32m\u001b[41mERROR\u001b[0m     json_value = self._summary_encode(item.value, path_from_root)\n",
      "\u001b[34m\u001b[1mwandb\u001b[0m: \u001b[32m\u001b[41mERROR\u001b[0m   File \"C:\\anaconda3\\envs\\jupyterenv\\lib\\site-packages\\wandb\\sdk\\interface\\interface.py\", line 221, in _summary_encode\n",
      "\u001b[34m\u001b[1mwandb\u001b[0m: \u001b[32m\u001b[41mERROR\u001b[0m     val_to_json(self._run, path_from_root, value, namespace=\"summary\")\n",
      "\u001b[34m\u001b[1mwandb\u001b[0m: \u001b[32m\u001b[41mERROR\u001b[0m   File \"C:\\anaconda3\\envs\\jupyterenv\\lib\\site-packages\\wandb\\sdk\\data_types\\utils.py\", line 164, in val_to_json\n",
      "\u001b[34m\u001b[1mwandb\u001b[0m: \u001b[32m\u001b[41mERROR\u001b[0m     val.bind_to_run(run, key, namespace)\n",
      "\u001b[34m\u001b[1mwandb\u001b[0m: \u001b[32m\u001b[41mERROR\u001b[0m   File \"C:\\anaconda3\\envs\\jupyterenv\\lib\\site-packages\\wandb\\data_types.py\", line 1377, in bind_to_run\n",
      "\u001b[34m\u001b[1mwandb\u001b[0m: \u001b[32m\u001b[41mERROR\u001b[0m     with codecs.open(tmp_path, \"w\", encoding=\"utf-8\") as fp:\n",
      "\u001b[34m\u001b[1mwandb\u001b[0m: \u001b[32m\u001b[41mERROR\u001b[0m   File \"C:\\anaconda3\\envs\\jupyterenv\\lib\\codecs.py\", line 906, in open\n",
      "\u001b[34m\u001b[1mwandb\u001b[0m: \u001b[32m\u001b[41mERROR\u001b[0m     file = builtins.open(filename, mode, buffering)\n",
      "\u001b[34m\u001b[1mwandb\u001b[0m: \u001b[32m\u001b[41mERROR\u001b[0m FileNotFoundError: [Errno 2] No such file or directory: 'C:\\\\Users\\\\Addisu\\\\AppData\\\\Local\\\\Temp\\\\tmpbie7lvyxwandb-media\\\\t3ma0rk6.graph.json'\n",
      "\u001b[34m\u001b[1mwandb\u001b[0m: \u001b[32m\u001b[41mERROR\u001b[0m \n",
      "\u001b[34m\u001b[1mwandb\u001b[0m: Agent Starting Run: kjriq1g8 with config:\n",
      "\u001b[34m\u001b[1mwandb\u001b[0m: \tbatch_size: 72\n",
      "\u001b[34m\u001b[1mwandb\u001b[0m: \tdense_activation: sigmoid\n",
      "\u001b[34m\u001b[1mwandb\u001b[0m: \tdropout: 0.1\n",
      "\u001b[34m\u001b[1mwandb\u001b[0m: \tepochs: 1\n",
      "\u001b[34m\u001b[1mwandb\u001b[0m: \tlearning_rate: 0.006876628655830077\n",
      "\u001b[34m\u001b[1mwandb\u001b[0m: \toptimizer: adam\n"
     ]
    },
    {
     "data": {
      "text/html": [
       "wandb version 0.17.2 is available!  To upgrade, please run:\n",
       " $ pip install wandb --upgrade"
      ],
      "text/plain": [
       "<IPython.core.display.HTML object>"
      ]
     },
     "metadata": {},
     "output_type": "display_data"
    },
    {
     "data": {
      "text/html": [
       "Tracking run with wandb version 0.17.0"
      ],
      "text/plain": [
       "<IPython.core.display.HTML object>"
      ]
     },
     "metadata": {},
     "output_type": "display_data"
    },
    {
     "data": {
      "text/html": [
       "Run data is saved locally in <code>C:\\Users\\Addisu\\Desktop\\kidi files\\Python workshop with ellen\\wandb\\run-20240621_154002-kjriq1g8</code>"
      ],
      "text/plain": [
       "<IPython.core.display.HTML object>"
      ]
     },
     "metadata": {},
     "output_type": "display_data"
    },
    {
     "data": {
      "text/html": [
       "Syncing run <strong><a href='https://wandb.ai/evapppp/sweeps-keras/runs/kjriq1g8' target=\"_blank\">genial-sweep-18</a></strong> to <a href='https://wandb.ai/evapppp/sweeps-keras' target=\"_blank\">Weights & Biases</a> (<a href='https://wandb.me/run' target=\"_blank\">docs</a>)<br/>Sweep page: <a href='https://wandb.ai/evapppp/sweeps-keras/sweeps/qu378scj' target=\"_blank\">https://wandb.ai/evapppp/sweeps-keras/sweeps/qu378scj</a>"
      ],
      "text/plain": [
       "<IPython.core.display.HTML object>"
      ]
     },
     "metadata": {},
     "output_type": "display_data"
    },
    {
     "data": {
      "text/html": [
       " View project at <a href='https://wandb.ai/evapppp/sweeps-keras' target=\"_blank\">https://wandb.ai/evapppp/sweeps-keras</a>"
      ],
      "text/plain": [
       "<IPython.core.display.HTML object>"
      ]
     },
     "metadata": {},
     "output_type": "display_data"
    },
    {
     "data": {
      "text/html": [
       " View sweep at <a href='https://wandb.ai/evapppp/sweeps-keras/sweeps/qu378scj' target=\"_blank\">https://wandb.ai/evapppp/sweeps-keras/sweeps/qu378scj</a>"
      ],
      "text/plain": [
       "<IPython.core.display.HTML object>"
      ]
     },
     "metadata": {},
     "output_type": "display_data"
    },
    {
     "data": {
      "text/html": [
       " View run at <a href='https://wandb.ai/evapppp/sweeps-keras/runs/kjriq1g8' target=\"_blank\">https://wandb.ai/evapppp/sweeps-keras/runs/kjriq1g8</a>"
      ],
      "text/plain": [
       "<IPython.core.display.HTML object>"
      ]
     },
     "metadata": {},
     "output_type": "display_data"
    },
    {
     "name": "stderr",
     "output_type": "stream",
     "text": [
      "Traceback (most recent call last):\n",
      "  File \"C:\\Users\\Addisu\\AppData\\Local\\Temp\\ipykernel_74596\\2644847777.py\", line 221, in sweep_train\n",
      "    train(model,\n",
      "  File \"C:\\Users\\Addisu\\AppData\\Local\\Temp\\ipykernel_74596\\2644847777.py\", line 151, in train\n",
      "    model.fit(X_train,\n",
      "  File \"C:\\anaconda3\\envs\\jupyterenv\\lib\\site-packages\\keras\\src\\utils\\traceback_utils.py\", line 70, in error_handler\n",
      "    raise e.with_traceback(filtered_tb) from None\n",
      "  File \"C:\\anaconda3\\envs\\jupyterenv\\lib\\site-packages\\wandb\\integration\\keras\\keras.py\", line 656, in on_train_batch_end\n",
      "    wandb.run.summary[\"graph\"] = wandb.Graph.from_keras(self.model)\n",
      "  File \"C:\\anaconda3\\envs\\jupyterenv\\lib\\site-packages\\wandb\\sdk\\wandb_summary.py\", line 52, in __setitem__\n",
      "    self.update({key: val})\n",
      "  File \"C:\\anaconda3\\envs\\jupyterenv\\lib\\site-packages\\wandb\\sdk\\wandb_summary.py\", line 74, in update\n",
      "    self._update(record)\n",
      "  File \"C:\\anaconda3\\envs\\jupyterenv\\lib\\site-packages\\wandb\\sdk\\wandb_summary.py\", line 128, in _update\n",
      "    self._update_callback(record)\n",
      "  File \"C:\\anaconda3\\envs\\jupyterenv\\lib\\site-packages\\wandb\\sdk\\wandb_run.py\", line 400, in wrapper_fn\n",
      "    return func(self, *args, **kwargs)\n",
      "  File \"C:\\anaconda3\\envs\\jupyterenv\\lib\\site-packages\\wandb\\sdk\\wandb_run.py\", line 1424, in _summary_update_callback\n",
      "    self._backend.interface.publish_summary(summary_record)\n",
      "  File \"C:\\anaconda3\\envs\\jupyterenv\\lib\\site-packages\\wandb\\sdk\\interface\\interface.py\", line 270, in publish_summary\n",
      "    pb_summary_record = self._make_summary(summary_record)\n",
      "  File \"C:\\anaconda3\\envs\\jupyterenv\\lib\\site-packages\\wandb\\sdk\\interface\\interface.py\", line 248, in _make_summary\n",
      "    json_value = self._summary_encode(item.value, path_from_root)\n",
      "  File \"C:\\anaconda3\\envs\\jupyterenv\\lib\\site-packages\\wandb\\sdk\\interface\\interface.py\", line 221, in _summary_encode\n",
      "    val_to_json(self._run, path_from_root, value, namespace=\"summary\")\n",
      "  File \"C:\\anaconda3\\envs\\jupyterenv\\lib\\site-packages\\wandb\\sdk\\data_types\\utils.py\", line 164, in val_to_json\n",
      "    val.bind_to_run(run, key, namespace)\n",
      "  File \"C:\\anaconda3\\envs\\jupyterenv\\lib\\site-packages\\wandb\\data_types.py\", line 1377, in bind_to_run\n",
      "    with codecs.open(tmp_path, \"w\", encoding=\"utf-8\") as fp:\n",
      "  File \"C:\\anaconda3\\envs\\jupyterenv\\lib\\codecs.py\", line 906, in open\n",
      "    file = builtins.open(filename, mode, buffering)\n",
      "FileNotFoundError: [Errno 2] No such file or directory: 'C:\\\\Users\\\\Addisu\\\\AppData\\\\Local\\\\Temp\\\\tmpbie7lvyxwandb-media\\\\46nhgynp.graph.json'\n"
     ]
    },
    {
     "data": {
      "text/html": [
       " View run <strong style=\"color:#cdcd00\">genial-sweep-18</strong> at: <a href='https://wandb.ai/evapppp/sweeps-keras/runs/kjriq1g8' target=\"_blank\">https://wandb.ai/evapppp/sweeps-keras/runs/kjriq1g8</a><br/> View project at: <a href='https://wandb.ai/evapppp/sweeps-keras' target=\"_blank\">https://wandb.ai/evapppp/sweeps-keras</a><br/>Synced 5 W&B file(s), 0 media file(s), 0 artifact file(s) and 0 other file(s)"
      ],
      "text/plain": [
       "<IPython.core.display.HTML object>"
      ]
     },
     "metadata": {},
     "output_type": "display_data"
    },
    {
     "data": {
      "text/html": [
       "Find logs at: <code>.\\wandb\\run-20240621_154002-kjriq1g8\\logs</code>"
      ],
      "text/plain": [
       "<IPython.core.display.HTML object>"
      ]
     },
     "metadata": {},
     "output_type": "display_data"
    },
    {
     "name": "stderr",
     "output_type": "stream",
     "text": [
      "Run kjriq1g8 errored:\n",
      "Traceback (most recent call last):\n",
      "  File \"C:\\anaconda3\\envs\\jupyterenv\\lib\\site-packages\\wandb\\agents\\pyagent.py\", line 307, in _run_job\n",
      "    self._function()\n",
      "  File \"C:\\Users\\Addisu\\AppData\\Local\\Temp\\ipykernel_74596\\2644847777.py\", line 221, in sweep_train\n",
      "    train(model,\n",
      "  File \"C:\\Users\\Addisu\\AppData\\Local\\Temp\\ipykernel_74596\\2644847777.py\", line 151, in train\n",
      "    model.fit(X_train,\n",
      "  File \"C:\\anaconda3\\envs\\jupyterenv\\lib\\site-packages\\keras\\src\\utils\\traceback_utils.py\", line 70, in error_handler\n",
      "    raise e.with_traceback(filtered_tb) from None\n",
      "  File \"C:\\anaconda3\\envs\\jupyterenv\\lib\\site-packages\\wandb\\integration\\keras\\keras.py\", line 656, in on_train_batch_end\n",
      "    wandb.run.summary[\"graph\"] = wandb.Graph.from_keras(self.model)\n",
      "  File \"C:\\anaconda3\\envs\\jupyterenv\\lib\\site-packages\\wandb\\sdk\\wandb_summary.py\", line 52, in __setitem__\n",
      "    self.update({key: val})\n",
      "  File \"C:\\anaconda3\\envs\\jupyterenv\\lib\\site-packages\\wandb\\sdk\\wandb_summary.py\", line 74, in update\n",
      "    self._update(record)\n",
      "  File \"C:\\anaconda3\\envs\\jupyterenv\\lib\\site-packages\\wandb\\sdk\\wandb_summary.py\", line 128, in _update\n",
      "    self._update_callback(record)\n",
      "  File \"C:\\anaconda3\\envs\\jupyterenv\\lib\\site-packages\\wandb\\sdk\\wandb_run.py\", line 400, in wrapper_fn\n",
      "    return func(self, *args, **kwargs)\n",
      "  File \"C:\\anaconda3\\envs\\jupyterenv\\lib\\site-packages\\wandb\\sdk\\wandb_run.py\", line 1424, in _summary_update_callback\n",
      "    self._backend.interface.publish_summary(summary_record)\n",
      "  File \"C:\\anaconda3\\envs\\jupyterenv\\lib\\site-packages\\wandb\\sdk\\interface\\interface.py\", line 270, in publish_summary\n",
      "    pb_summary_record = self._make_summary(summary_record)\n",
      "  File \"C:\\anaconda3\\envs\\jupyterenv\\lib\\site-packages\\wandb\\sdk\\interface\\interface.py\", line 248, in _make_summary\n",
      "    json_value = self._summary_encode(item.value, path_from_root)\n",
      "  File \"C:\\anaconda3\\envs\\jupyterenv\\lib\\site-packages\\wandb\\sdk\\interface\\interface.py\", line 221, in _summary_encode\n",
      "    val_to_json(self._run, path_from_root, value, namespace=\"summary\")\n",
      "  File \"C:\\anaconda3\\envs\\jupyterenv\\lib\\site-packages\\wandb\\sdk\\data_types\\utils.py\", line 164, in val_to_json\n",
      "    val.bind_to_run(run, key, namespace)\n",
      "  File \"C:\\anaconda3\\envs\\jupyterenv\\lib\\site-packages\\wandb\\data_types.py\", line 1377, in bind_to_run\n",
      "    with codecs.open(tmp_path, \"w\", encoding=\"utf-8\") as fp:\n",
      "  File \"C:\\anaconda3\\envs\\jupyterenv\\lib\\codecs.py\", line 906, in open\n",
      "    file = builtins.open(filename, mode, buffering)\n",
      "FileNotFoundError: [Errno 2] No such file or directory: 'C:\\\\Users\\\\Addisu\\\\AppData\\\\Local\\\\Temp\\\\tmpbie7lvyxwandb-media\\\\46nhgynp.graph.json'\n",
      "\n",
      "\u001b[34m\u001b[1mwandb\u001b[0m: \u001b[32m\u001b[41mERROR\u001b[0m Run kjriq1g8 errored:\n",
      "\u001b[34m\u001b[1mwandb\u001b[0m: \u001b[32m\u001b[41mERROR\u001b[0m Traceback (most recent call last):\n",
      "\u001b[34m\u001b[1mwandb\u001b[0m: \u001b[32m\u001b[41mERROR\u001b[0m   File \"C:\\anaconda3\\envs\\jupyterenv\\lib\\site-packages\\wandb\\agents\\pyagent.py\", line 307, in _run_job\n",
      "\u001b[34m\u001b[1mwandb\u001b[0m: \u001b[32m\u001b[41mERROR\u001b[0m     self._function()\n",
      "\u001b[34m\u001b[1mwandb\u001b[0m: \u001b[32m\u001b[41mERROR\u001b[0m   File \"C:\\Users\\Addisu\\AppData\\Local\\Temp\\ipykernel_74596\\2644847777.py\", line 221, in sweep_train\n",
      "\u001b[34m\u001b[1mwandb\u001b[0m: \u001b[32m\u001b[41mERROR\u001b[0m     train(model,\n",
      "\u001b[34m\u001b[1mwandb\u001b[0m: \u001b[32m\u001b[41mERROR\u001b[0m   File \"C:\\Users\\Addisu\\AppData\\Local\\Temp\\ipykernel_74596\\2644847777.py\", line 151, in train\n",
      "\u001b[34m\u001b[1mwandb\u001b[0m: \u001b[32m\u001b[41mERROR\u001b[0m     model.fit(X_train,\n",
      "\u001b[34m\u001b[1mwandb\u001b[0m: \u001b[32m\u001b[41mERROR\u001b[0m   File \"C:\\anaconda3\\envs\\jupyterenv\\lib\\site-packages\\keras\\src\\utils\\traceback_utils.py\", line 70, in error_handler\n",
      "\u001b[34m\u001b[1mwandb\u001b[0m: \u001b[32m\u001b[41mERROR\u001b[0m     raise e.with_traceback(filtered_tb) from None\n",
      "\u001b[34m\u001b[1mwandb\u001b[0m: \u001b[32m\u001b[41mERROR\u001b[0m   File \"C:\\anaconda3\\envs\\jupyterenv\\lib\\site-packages\\wandb\\integration\\keras\\keras.py\", line 656, in on_train_batch_end\n",
      "\u001b[34m\u001b[1mwandb\u001b[0m: \u001b[32m\u001b[41mERROR\u001b[0m     wandb.run.summary[\"graph\"] = wandb.Graph.from_keras(self.model)\n",
      "\u001b[34m\u001b[1mwandb\u001b[0m: \u001b[32m\u001b[41mERROR\u001b[0m   File \"C:\\anaconda3\\envs\\jupyterenv\\lib\\site-packages\\wandb\\sdk\\wandb_summary.py\", line 52, in __setitem__\n",
      "\u001b[34m\u001b[1mwandb\u001b[0m: \u001b[32m\u001b[41mERROR\u001b[0m     self.update({key: val})\n",
      "\u001b[34m\u001b[1mwandb\u001b[0m: \u001b[32m\u001b[41mERROR\u001b[0m   File \"C:\\anaconda3\\envs\\jupyterenv\\lib\\site-packages\\wandb\\sdk\\wandb_summary.py\", line 74, in update\n",
      "\u001b[34m\u001b[1mwandb\u001b[0m: \u001b[32m\u001b[41mERROR\u001b[0m     self._update(record)\n",
      "\u001b[34m\u001b[1mwandb\u001b[0m: \u001b[32m\u001b[41mERROR\u001b[0m   File \"C:\\anaconda3\\envs\\jupyterenv\\lib\\site-packages\\wandb\\sdk\\wandb_summary.py\", line 128, in _update\n",
      "\u001b[34m\u001b[1mwandb\u001b[0m: \u001b[32m\u001b[41mERROR\u001b[0m     self._update_callback(record)\n",
      "\u001b[34m\u001b[1mwandb\u001b[0m: \u001b[32m\u001b[41mERROR\u001b[0m   File \"C:\\anaconda3\\envs\\jupyterenv\\lib\\site-packages\\wandb\\sdk\\wandb_run.py\", line 400, in wrapper_fn\n",
      "\u001b[34m\u001b[1mwandb\u001b[0m: \u001b[32m\u001b[41mERROR\u001b[0m     return func(self, *args, **kwargs)\n",
      "\u001b[34m\u001b[1mwandb\u001b[0m: \u001b[32m\u001b[41mERROR\u001b[0m   File \"C:\\anaconda3\\envs\\jupyterenv\\lib\\site-packages\\wandb\\sdk\\wandb_run.py\", line 1424, in _summary_update_callback\n",
      "\u001b[34m\u001b[1mwandb\u001b[0m: \u001b[32m\u001b[41mERROR\u001b[0m     self._backend.interface.publish_summary(summary_record)\n",
      "\u001b[34m\u001b[1mwandb\u001b[0m: \u001b[32m\u001b[41mERROR\u001b[0m   File \"C:\\anaconda3\\envs\\jupyterenv\\lib\\site-packages\\wandb\\sdk\\interface\\interface.py\", line 270, in publish_summary\n",
      "\u001b[34m\u001b[1mwandb\u001b[0m: \u001b[32m\u001b[41mERROR\u001b[0m     pb_summary_record = self._make_summary(summary_record)\n",
      "\u001b[34m\u001b[1mwandb\u001b[0m: \u001b[32m\u001b[41mERROR\u001b[0m   File \"C:\\anaconda3\\envs\\jupyterenv\\lib\\site-packages\\wandb\\sdk\\interface\\interface.py\", line 248, in _make_summary\n",
      "\u001b[34m\u001b[1mwandb\u001b[0m: \u001b[32m\u001b[41mERROR\u001b[0m     json_value = self._summary_encode(item.value, path_from_root)\n",
      "\u001b[34m\u001b[1mwandb\u001b[0m: \u001b[32m\u001b[41mERROR\u001b[0m   File \"C:\\anaconda3\\envs\\jupyterenv\\lib\\site-packages\\wandb\\sdk\\interface\\interface.py\", line 221, in _summary_encode\n",
      "\u001b[34m\u001b[1mwandb\u001b[0m: \u001b[32m\u001b[41mERROR\u001b[0m     val_to_json(self._run, path_from_root, value, namespace=\"summary\")\n",
      "\u001b[34m\u001b[1mwandb\u001b[0m: \u001b[32m\u001b[41mERROR\u001b[0m   File \"C:\\anaconda3\\envs\\jupyterenv\\lib\\site-packages\\wandb\\sdk\\data_types\\utils.py\", line 164, in val_to_json\n",
      "\u001b[34m\u001b[1mwandb\u001b[0m: \u001b[32m\u001b[41mERROR\u001b[0m     val.bind_to_run(run, key, namespace)\n",
      "\u001b[34m\u001b[1mwandb\u001b[0m: \u001b[32m\u001b[41mERROR\u001b[0m   File \"C:\\anaconda3\\envs\\jupyterenv\\lib\\site-packages\\wandb\\data_types.py\", line 1377, in bind_to_run\n",
      "\u001b[34m\u001b[1mwandb\u001b[0m: \u001b[32m\u001b[41mERROR\u001b[0m     with codecs.open(tmp_path, \"w\", encoding=\"utf-8\") as fp:\n",
      "\u001b[34m\u001b[1mwandb\u001b[0m: \u001b[32m\u001b[41mERROR\u001b[0m   File \"C:\\anaconda3\\envs\\jupyterenv\\lib\\codecs.py\", line 906, in open\n",
      "\u001b[34m\u001b[1mwandb\u001b[0m: \u001b[32m\u001b[41mERROR\u001b[0m     file = builtins.open(filename, mode, buffering)\n",
      "\u001b[34m\u001b[1mwandb\u001b[0m: \u001b[32m\u001b[41mERROR\u001b[0m FileNotFoundError: [Errno 2] No such file or directory: 'C:\\\\Users\\\\Addisu\\\\AppData\\\\Local\\\\Temp\\\\tmpbie7lvyxwandb-media\\\\46nhgynp.graph.json'\n",
      "\u001b[34m\u001b[1mwandb\u001b[0m: \u001b[32m\u001b[41mERROR\u001b[0m \n",
      "\u001b[34m\u001b[1mwandb\u001b[0m: Sweep Agent: Waiting for job.\n",
      "\u001b[34m\u001b[1mwandb\u001b[0m: Job received.\n",
      "\u001b[34m\u001b[1mwandb\u001b[0m: Agent Starting Run: 2g2ylra4 with config:\n",
      "\u001b[34m\u001b[1mwandb\u001b[0m: \tbatch_size: 40\n",
      "\u001b[34m\u001b[1mwandb\u001b[0m: \tdense_activation: relu\n",
      "\u001b[34m\u001b[1mwandb\u001b[0m: \tdropout: 0.3\n",
      "\u001b[34m\u001b[1mwandb\u001b[0m: \tepochs: 1\n",
      "\u001b[34m\u001b[1mwandb\u001b[0m: \tlearning_rate: 0.006707312969135581\n",
      "\u001b[34m\u001b[1mwandb\u001b[0m: \toptimizer: sgd\n"
     ]
    },
    {
     "data": {
      "text/html": [
       "Tracking run with wandb version 0.17.0"
      ],
      "text/plain": [
       "<IPython.core.display.HTML object>"
      ]
     },
     "metadata": {},
     "output_type": "display_data"
    },
    {
     "data": {
      "text/html": [
       "Run data is saved locally in <code>C:\\Users\\Addisu\\Desktop\\kidi files\\Python workshop with ellen\\wandb\\run-20240621_154042-2g2ylra4</code>"
      ],
      "text/plain": [
       "<IPython.core.display.HTML object>"
      ]
     },
     "metadata": {},
     "output_type": "display_data"
    },
    {
     "data": {
      "text/html": [
       "Syncing run <strong><a href='https://wandb.ai/evapppp/sweeps-keras/runs/2g2ylra4' target=\"_blank\">sandy-sweep-19</a></strong> to <a href='https://wandb.ai/evapppp/sweeps-keras' target=\"_blank\">Weights & Biases</a> (<a href='https://wandb.me/run' target=\"_blank\">docs</a>)<br/>Sweep page: <a href='https://wandb.ai/evapppp/sweeps-keras/sweeps/qu378scj' target=\"_blank\">https://wandb.ai/evapppp/sweeps-keras/sweeps/qu378scj</a>"
      ],
      "text/plain": [
       "<IPython.core.display.HTML object>"
      ]
     },
     "metadata": {},
     "output_type": "display_data"
    },
    {
     "data": {
      "text/html": [
       " View project at <a href='https://wandb.ai/evapppp/sweeps-keras' target=\"_blank\">https://wandb.ai/evapppp/sweeps-keras</a>"
      ],
      "text/plain": [
       "<IPython.core.display.HTML object>"
      ]
     },
     "metadata": {},
     "output_type": "display_data"
    },
    {
     "data": {
      "text/html": [
       " View sweep at <a href='https://wandb.ai/evapppp/sweeps-keras/sweeps/qu378scj' target=\"_blank\">https://wandb.ai/evapppp/sweeps-keras/sweeps/qu378scj</a>"
      ],
      "text/plain": [
       "<IPython.core.display.HTML object>"
      ]
     },
     "metadata": {},
     "output_type": "display_data"
    },
    {
     "data": {
      "text/html": [
       " View run at <a href='https://wandb.ai/evapppp/sweeps-keras/runs/2g2ylra4' target=\"_blank\">https://wandb.ai/evapppp/sweeps-keras/runs/2g2ylra4</a>"
      ],
      "text/plain": [
       "<IPython.core.display.HTML object>"
      ]
     },
     "metadata": {},
     "output_type": "display_data"
    },
    {
     "name": "stderr",
     "output_type": "stream",
     "text": [
      "Traceback (most recent call last):\n",
      "  File \"C:\\Users\\Addisu\\AppData\\Local\\Temp\\ipykernel_74596\\2644847777.py\", line 221, in sweep_train\n",
      "    train(model,\n",
      "  File \"C:\\Users\\Addisu\\AppData\\Local\\Temp\\ipykernel_74596\\2644847777.py\", line 151, in train\n",
      "    model.fit(X_train,\n",
      "  File \"C:\\anaconda3\\envs\\jupyterenv\\lib\\site-packages\\keras\\src\\utils\\traceback_utils.py\", line 70, in error_handler\n",
      "    raise e.with_traceback(filtered_tb) from None\n",
      "  File \"C:\\anaconda3\\envs\\jupyterenv\\lib\\site-packages\\wandb\\integration\\keras\\keras.py\", line 656, in on_train_batch_end\n",
      "    wandb.run.summary[\"graph\"] = wandb.Graph.from_keras(self.model)\n",
      "  File \"C:\\anaconda3\\envs\\jupyterenv\\lib\\site-packages\\wandb\\sdk\\wandb_summary.py\", line 52, in __setitem__\n",
      "    self.update({key: val})\n",
      "  File \"C:\\anaconda3\\envs\\jupyterenv\\lib\\site-packages\\wandb\\sdk\\wandb_summary.py\", line 74, in update\n",
      "    self._update(record)\n",
      "  File \"C:\\anaconda3\\envs\\jupyterenv\\lib\\site-packages\\wandb\\sdk\\wandb_summary.py\", line 128, in _update\n",
      "    self._update_callback(record)\n",
      "  File \"C:\\anaconda3\\envs\\jupyterenv\\lib\\site-packages\\wandb\\sdk\\wandb_run.py\", line 400, in wrapper_fn\n",
      "    return func(self, *args, **kwargs)\n",
      "  File \"C:\\anaconda3\\envs\\jupyterenv\\lib\\site-packages\\wandb\\sdk\\wandb_run.py\", line 1424, in _summary_update_callback\n",
      "    self._backend.interface.publish_summary(summary_record)\n",
      "  File \"C:\\anaconda3\\envs\\jupyterenv\\lib\\site-packages\\wandb\\sdk\\interface\\interface.py\", line 270, in publish_summary\n",
      "    pb_summary_record = self._make_summary(summary_record)\n",
      "  File \"C:\\anaconda3\\envs\\jupyterenv\\lib\\site-packages\\wandb\\sdk\\interface\\interface.py\", line 248, in _make_summary\n",
      "    json_value = self._summary_encode(item.value, path_from_root)\n",
      "  File \"C:\\anaconda3\\envs\\jupyterenv\\lib\\site-packages\\wandb\\sdk\\interface\\interface.py\", line 221, in _summary_encode\n",
      "    val_to_json(self._run, path_from_root, value, namespace=\"summary\")\n",
      "  File \"C:\\anaconda3\\envs\\jupyterenv\\lib\\site-packages\\wandb\\sdk\\data_types\\utils.py\", line 164, in val_to_json\n",
      "    val.bind_to_run(run, key, namespace)\n",
      "  File \"C:\\anaconda3\\envs\\jupyterenv\\lib\\site-packages\\wandb\\data_types.py\", line 1377, in bind_to_run\n",
      "    with codecs.open(tmp_path, \"w\", encoding=\"utf-8\") as fp:\n",
      "  File \"C:\\anaconda3\\envs\\jupyterenv\\lib\\codecs.py\", line 906, in open\n",
      "    file = builtins.open(filename, mode, buffering)\n",
      "FileNotFoundError: [Errno 2] No such file or directory: 'C:\\\\Users\\\\Addisu\\\\AppData\\\\Local\\\\Temp\\\\tmpbie7lvyxwandb-media\\\\0hvsllng.graph.json'\n"
     ]
    },
    {
     "data": {
      "text/html": [
       " View run <strong style=\"color:#cdcd00\">sandy-sweep-19</strong> at: <a href='https://wandb.ai/evapppp/sweeps-keras/runs/2g2ylra4' target=\"_blank\">https://wandb.ai/evapppp/sweeps-keras/runs/2g2ylra4</a><br/> View project at: <a href='https://wandb.ai/evapppp/sweeps-keras' target=\"_blank\">https://wandb.ai/evapppp/sweeps-keras</a><br/>Synced 5 W&B file(s), 0 media file(s), 0 artifact file(s) and 0 other file(s)"
      ],
      "text/plain": [
       "<IPython.core.display.HTML object>"
      ]
     },
     "metadata": {},
     "output_type": "display_data"
    },
    {
     "data": {
      "text/html": [
       "Find logs at: <code>.\\wandb\\run-20240621_154042-2g2ylra4\\logs</code>"
      ],
      "text/plain": [
       "<IPython.core.display.HTML object>"
      ]
     },
     "metadata": {},
     "output_type": "display_data"
    },
    {
     "name": "stderr",
     "output_type": "stream",
     "text": [
      "Run 2g2ylra4 errored:\n",
      "Traceback (most recent call last):\n",
      "  File \"C:\\anaconda3\\envs\\jupyterenv\\lib\\site-packages\\wandb\\agents\\pyagent.py\", line 307, in _run_job\n",
      "    self._function()\n",
      "  File \"C:\\Users\\Addisu\\AppData\\Local\\Temp\\ipykernel_74596\\2644847777.py\", line 221, in sweep_train\n",
      "    train(model,\n",
      "  File \"C:\\Users\\Addisu\\AppData\\Local\\Temp\\ipykernel_74596\\2644847777.py\", line 151, in train\n",
      "    model.fit(X_train,\n",
      "  File \"C:\\anaconda3\\envs\\jupyterenv\\lib\\site-packages\\keras\\src\\utils\\traceback_utils.py\", line 70, in error_handler\n",
      "    raise e.with_traceback(filtered_tb) from None\n",
      "  File \"C:\\anaconda3\\envs\\jupyterenv\\lib\\site-packages\\wandb\\integration\\keras\\keras.py\", line 656, in on_train_batch_end\n",
      "    wandb.run.summary[\"graph\"] = wandb.Graph.from_keras(self.model)\n",
      "  File \"C:\\anaconda3\\envs\\jupyterenv\\lib\\site-packages\\wandb\\sdk\\wandb_summary.py\", line 52, in __setitem__\n",
      "    self.update({key: val})\n",
      "  File \"C:\\anaconda3\\envs\\jupyterenv\\lib\\site-packages\\wandb\\sdk\\wandb_summary.py\", line 74, in update\n",
      "    self._update(record)\n",
      "  File \"C:\\anaconda3\\envs\\jupyterenv\\lib\\site-packages\\wandb\\sdk\\wandb_summary.py\", line 128, in _update\n",
      "    self._update_callback(record)\n",
      "  File \"C:\\anaconda3\\envs\\jupyterenv\\lib\\site-packages\\wandb\\sdk\\wandb_run.py\", line 400, in wrapper_fn\n",
      "    return func(self, *args, **kwargs)\n",
      "  File \"C:\\anaconda3\\envs\\jupyterenv\\lib\\site-packages\\wandb\\sdk\\wandb_run.py\", line 1424, in _summary_update_callback\n",
      "    self._backend.interface.publish_summary(summary_record)\n",
      "  File \"C:\\anaconda3\\envs\\jupyterenv\\lib\\site-packages\\wandb\\sdk\\interface\\interface.py\", line 270, in publish_summary\n",
      "    pb_summary_record = self._make_summary(summary_record)\n",
      "  File \"C:\\anaconda3\\envs\\jupyterenv\\lib\\site-packages\\wandb\\sdk\\interface\\interface.py\", line 248, in _make_summary\n",
      "    json_value = self._summary_encode(item.value, path_from_root)\n",
      "  File \"C:\\anaconda3\\envs\\jupyterenv\\lib\\site-packages\\wandb\\sdk\\interface\\interface.py\", line 221, in _summary_encode\n",
      "    val_to_json(self._run, path_from_root, value, namespace=\"summary\")\n",
      "  File \"C:\\anaconda3\\envs\\jupyterenv\\lib\\site-packages\\wandb\\sdk\\data_types\\utils.py\", line 164, in val_to_json\n",
      "    val.bind_to_run(run, key, namespace)\n",
      "  File \"C:\\anaconda3\\envs\\jupyterenv\\lib\\site-packages\\wandb\\data_types.py\", line 1377, in bind_to_run\n",
      "    with codecs.open(tmp_path, \"w\", encoding=\"utf-8\") as fp:\n",
      "  File \"C:\\anaconda3\\envs\\jupyterenv\\lib\\codecs.py\", line 906, in open\n",
      "    file = builtins.open(filename, mode, buffering)\n",
      "FileNotFoundError: [Errno 2] No such file or directory: 'C:\\\\Users\\\\Addisu\\\\AppData\\\\Local\\\\Temp\\\\tmpbie7lvyxwandb-media\\\\0hvsllng.graph.json'\n",
      "\n",
      "\u001b[34m\u001b[1mwandb\u001b[0m: \u001b[32m\u001b[41mERROR\u001b[0m Run 2g2ylra4 errored:\n",
      "\u001b[34m\u001b[1mwandb\u001b[0m: \u001b[32m\u001b[41mERROR\u001b[0m Traceback (most recent call last):\n",
      "\u001b[34m\u001b[1mwandb\u001b[0m: \u001b[32m\u001b[41mERROR\u001b[0m   File \"C:\\anaconda3\\envs\\jupyterenv\\lib\\site-packages\\wandb\\agents\\pyagent.py\", line 307, in _run_job\n",
      "\u001b[34m\u001b[1mwandb\u001b[0m: \u001b[32m\u001b[41mERROR\u001b[0m     self._function()\n",
      "\u001b[34m\u001b[1mwandb\u001b[0m: \u001b[32m\u001b[41mERROR\u001b[0m   File \"C:\\Users\\Addisu\\AppData\\Local\\Temp\\ipykernel_74596\\2644847777.py\", line 221, in sweep_train\n",
      "\u001b[34m\u001b[1mwandb\u001b[0m: \u001b[32m\u001b[41mERROR\u001b[0m     train(model,\n",
      "\u001b[34m\u001b[1mwandb\u001b[0m: \u001b[32m\u001b[41mERROR\u001b[0m   File \"C:\\Users\\Addisu\\AppData\\Local\\Temp\\ipykernel_74596\\2644847777.py\", line 151, in train\n",
      "\u001b[34m\u001b[1mwandb\u001b[0m: \u001b[32m\u001b[41mERROR\u001b[0m     model.fit(X_train,\n",
      "\u001b[34m\u001b[1mwandb\u001b[0m: \u001b[32m\u001b[41mERROR\u001b[0m   File \"C:\\anaconda3\\envs\\jupyterenv\\lib\\site-packages\\keras\\src\\utils\\traceback_utils.py\", line 70, in error_handler\n",
      "\u001b[34m\u001b[1mwandb\u001b[0m: \u001b[32m\u001b[41mERROR\u001b[0m     raise e.with_traceback(filtered_tb) from None\n",
      "\u001b[34m\u001b[1mwandb\u001b[0m: \u001b[32m\u001b[41mERROR\u001b[0m   File \"C:\\anaconda3\\envs\\jupyterenv\\lib\\site-packages\\wandb\\integration\\keras\\keras.py\", line 656, in on_train_batch_end\n",
      "\u001b[34m\u001b[1mwandb\u001b[0m: \u001b[32m\u001b[41mERROR\u001b[0m     wandb.run.summary[\"graph\"] = wandb.Graph.from_keras(self.model)\n",
      "\u001b[34m\u001b[1mwandb\u001b[0m: \u001b[32m\u001b[41mERROR\u001b[0m   File \"C:\\anaconda3\\envs\\jupyterenv\\lib\\site-packages\\wandb\\sdk\\wandb_summary.py\", line 52, in __setitem__\n",
      "\u001b[34m\u001b[1mwandb\u001b[0m: \u001b[32m\u001b[41mERROR\u001b[0m     self.update({key: val})\n",
      "\u001b[34m\u001b[1mwandb\u001b[0m: \u001b[32m\u001b[41mERROR\u001b[0m   File \"C:\\anaconda3\\envs\\jupyterenv\\lib\\site-packages\\wandb\\sdk\\wandb_summary.py\", line 74, in update\n",
      "\u001b[34m\u001b[1mwandb\u001b[0m: \u001b[32m\u001b[41mERROR\u001b[0m     self._update(record)\n",
      "\u001b[34m\u001b[1mwandb\u001b[0m: \u001b[32m\u001b[41mERROR\u001b[0m   File \"C:\\anaconda3\\envs\\jupyterenv\\lib\\site-packages\\wandb\\sdk\\wandb_summary.py\", line 128, in _update\n",
      "\u001b[34m\u001b[1mwandb\u001b[0m: \u001b[32m\u001b[41mERROR\u001b[0m     self._update_callback(record)\n",
      "\u001b[34m\u001b[1mwandb\u001b[0m: \u001b[32m\u001b[41mERROR\u001b[0m   File \"C:\\anaconda3\\envs\\jupyterenv\\lib\\site-packages\\wandb\\sdk\\wandb_run.py\", line 400, in wrapper_fn\n",
      "\u001b[34m\u001b[1mwandb\u001b[0m: \u001b[32m\u001b[41mERROR\u001b[0m     return func(self, *args, **kwargs)\n",
      "\u001b[34m\u001b[1mwandb\u001b[0m: \u001b[32m\u001b[41mERROR\u001b[0m   File \"C:\\anaconda3\\envs\\jupyterenv\\lib\\site-packages\\wandb\\sdk\\wandb_run.py\", line 1424, in _summary_update_callback\n",
      "\u001b[34m\u001b[1mwandb\u001b[0m: \u001b[32m\u001b[41mERROR\u001b[0m     self._backend.interface.publish_summary(summary_record)\n",
      "\u001b[34m\u001b[1mwandb\u001b[0m: \u001b[32m\u001b[41mERROR\u001b[0m   File \"C:\\anaconda3\\envs\\jupyterenv\\lib\\site-packages\\wandb\\sdk\\interface\\interface.py\", line 270, in publish_summary\n",
      "\u001b[34m\u001b[1mwandb\u001b[0m: \u001b[32m\u001b[41mERROR\u001b[0m     pb_summary_record = self._make_summary(summary_record)\n",
      "\u001b[34m\u001b[1mwandb\u001b[0m: \u001b[32m\u001b[41mERROR\u001b[0m   File \"C:\\anaconda3\\envs\\jupyterenv\\lib\\site-packages\\wandb\\sdk\\interface\\interface.py\", line 248, in _make_summary\n",
      "\u001b[34m\u001b[1mwandb\u001b[0m: \u001b[32m\u001b[41mERROR\u001b[0m     json_value = self._summary_encode(item.value, path_from_root)\n",
      "\u001b[34m\u001b[1mwandb\u001b[0m: \u001b[32m\u001b[41mERROR\u001b[0m   File \"C:\\anaconda3\\envs\\jupyterenv\\lib\\site-packages\\wandb\\sdk\\interface\\interface.py\", line 221, in _summary_encode\n",
      "\u001b[34m\u001b[1mwandb\u001b[0m: \u001b[32m\u001b[41mERROR\u001b[0m     val_to_json(self._run, path_from_root, value, namespace=\"summary\")\n",
      "\u001b[34m\u001b[1mwandb\u001b[0m: \u001b[32m\u001b[41mERROR\u001b[0m   File \"C:\\anaconda3\\envs\\jupyterenv\\lib\\site-packages\\wandb\\sdk\\data_types\\utils.py\", line 164, in val_to_json\n",
      "\u001b[34m\u001b[1mwandb\u001b[0m: \u001b[32m\u001b[41mERROR\u001b[0m     val.bind_to_run(run, key, namespace)\n",
      "\u001b[34m\u001b[1mwandb\u001b[0m: \u001b[32m\u001b[41mERROR\u001b[0m   File \"C:\\anaconda3\\envs\\jupyterenv\\lib\\site-packages\\wandb\\data_types.py\", line 1377, in bind_to_run\n",
      "\u001b[34m\u001b[1mwandb\u001b[0m: \u001b[32m\u001b[41mERROR\u001b[0m     with codecs.open(tmp_path, \"w\", encoding=\"utf-8\") as fp:\n",
      "\u001b[34m\u001b[1mwandb\u001b[0m: \u001b[32m\u001b[41mERROR\u001b[0m   File \"C:\\anaconda3\\envs\\jupyterenv\\lib\\codecs.py\", line 906, in open\n",
      "\u001b[34m\u001b[1mwandb\u001b[0m: \u001b[32m\u001b[41mERROR\u001b[0m     file = builtins.open(filename, mode, buffering)\n",
      "\u001b[34m\u001b[1mwandb\u001b[0m: \u001b[32m\u001b[41mERROR\u001b[0m FileNotFoundError: [Errno 2] No such file or directory: 'C:\\\\Users\\\\Addisu\\\\AppData\\\\Local\\\\Temp\\\\tmpbie7lvyxwandb-media\\\\0hvsllng.graph.json'\n",
      "\u001b[34m\u001b[1mwandb\u001b[0m: \u001b[32m\u001b[41mERROR\u001b[0m \n",
      "\u001b[34m\u001b[1mwandb\u001b[0m: Agent Starting Run: tuzrtlx7 with config:\n",
      "\u001b[34m\u001b[1mwandb\u001b[0m: \tbatch_size: 80\n",
      "\u001b[34m\u001b[1mwandb\u001b[0m: \tdense_activation: sigmoid\n",
      "\u001b[34m\u001b[1mwandb\u001b[0m: \tdropout: 0.1\n",
      "\u001b[34m\u001b[1mwandb\u001b[0m: \tepochs: 1\n",
      "\u001b[34m\u001b[1mwandb\u001b[0m: \tlearning_rate: 0.007514854995352415\n",
      "\u001b[34m\u001b[1mwandb\u001b[0m: \toptimizer: sgd\n",
      "\u001b[34m\u001b[1mwandb\u001b[0m: W&B API key is configured. Use \u001b[1m`wandb login --relogin`\u001b[0m to force relogin\n"
     ]
    },
    {
     "data": {
      "text/html": [
       "Tracking run with wandb version 0.17.0"
      ],
      "text/plain": [
       "<IPython.core.display.HTML object>"
      ]
     },
     "metadata": {},
     "output_type": "display_data"
    },
    {
     "data": {
      "text/html": [
       "Run data is saved locally in <code>C:\\Users\\Addisu\\Desktop\\kidi files\\Python workshop with ellen\\wandb\\run-20240621_154119-tuzrtlx7</code>"
      ],
      "text/plain": [
       "<IPython.core.display.HTML object>"
      ]
     },
     "metadata": {},
     "output_type": "display_data"
    },
    {
     "data": {
      "text/html": [
       "Syncing run <strong><a href='https://wandb.ai/evapppp/sweeps-keras/runs/tuzrtlx7' target=\"_blank\">divine-sweep-20</a></strong> to <a href='https://wandb.ai/evapppp/sweeps-keras' target=\"_blank\">Weights & Biases</a> (<a href='https://wandb.me/run' target=\"_blank\">docs</a>)<br/>Sweep page: <a href='https://wandb.ai/evapppp/sweeps-keras/sweeps/qu378scj' target=\"_blank\">https://wandb.ai/evapppp/sweeps-keras/sweeps/qu378scj</a>"
      ],
      "text/plain": [
       "<IPython.core.display.HTML object>"
      ]
     },
     "metadata": {},
     "output_type": "display_data"
    },
    {
     "data": {
      "text/html": [
       " View project at <a href='https://wandb.ai/evapppp/sweeps-keras' target=\"_blank\">https://wandb.ai/evapppp/sweeps-keras</a>"
      ],
      "text/plain": [
       "<IPython.core.display.HTML object>"
      ]
     },
     "metadata": {},
     "output_type": "display_data"
    },
    {
     "data": {
      "text/html": [
       " View sweep at <a href='https://wandb.ai/evapppp/sweeps-keras/sweeps/qu378scj' target=\"_blank\">https://wandb.ai/evapppp/sweeps-keras/sweeps/qu378scj</a>"
      ],
      "text/plain": [
       "<IPython.core.display.HTML object>"
      ]
     },
     "metadata": {},
     "output_type": "display_data"
    },
    {
     "data": {
      "text/html": [
       " View run at <a href='https://wandb.ai/evapppp/sweeps-keras/runs/tuzrtlx7' target=\"_blank\">https://wandb.ai/evapppp/sweeps-keras/runs/tuzrtlx7</a>"
      ],
      "text/plain": [
       "<IPython.core.display.HTML object>"
      ]
     },
     "metadata": {},
     "output_type": "display_data"
    },
    {
     "name": "stderr",
     "output_type": "stream",
     "text": [
      "Traceback (most recent call last):\n",
      "  File \"C:\\Users\\Addisu\\AppData\\Local\\Temp\\ipykernel_74596\\2644847777.py\", line 221, in sweep_train\n",
      "    train(model,\n",
      "  File \"C:\\Users\\Addisu\\AppData\\Local\\Temp\\ipykernel_74596\\2644847777.py\", line 151, in train\n",
      "    model.fit(X_train,\n",
      "  File \"C:\\anaconda3\\envs\\jupyterenv\\lib\\site-packages\\keras\\src\\utils\\traceback_utils.py\", line 70, in error_handler\n",
      "    raise e.with_traceback(filtered_tb) from None\n",
      "  File \"C:\\anaconda3\\envs\\jupyterenv\\lib\\site-packages\\wandb\\integration\\keras\\keras.py\", line 656, in on_train_batch_end\n",
      "    wandb.run.summary[\"graph\"] = wandb.Graph.from_keras(self.model)\n",
      "  File \"C:\\anaconda3\\envs\\jupyterenv\\lib\\site-packages\\wandb\\sdk\\wandb_summary.py\", line 52, in __setitem__\n",
      "    self.update({key: val})\n",
      "  File \"C:\\anaconda3\\envs\\jupyterenv\\lib\\site-packages\\wandb\\sdk\\wandb_summary.py\", line 74, in update\n",
      "    self._update(record)\n",
      "  File \"C:\\anaconda3\\envs\\jupyterenv\\lib\\site-packages\\wandb\\sdk\\wandb_summary.py\", line 128, in _update\n",
      "    self._update_callback(record)\n",
      "  File \"C:\\anaconda3\\envs\\jupyterenv\\lib\\site-packages\\wandb\\sdk\\wandb_run.py\", line 400, in wrapper_fn\n",
      "    return func(self, *args, **kwargs)\n",
      "  File \"C:\\anaconda3\\envs\\jupyterenv\\lib\\site-packages\\wandb\\sdk\\wandb_run.py\", line 1424, in _summary_update_callback\n",
      "    self._backend.interface.publish_summary(summary_record)\n",
      "  File \"C:\\anaconda3\\envs\\jupyterenv\\lib\\site-packages\\wandb\\sdk\\interface\\interface.py\", line 270, in publish_summary\n",
      "    pb_summary_record = self._make_summary(summary_record)\n",
      "  File \"C:\\anaconda3\\envs\\jupyterenv\\lib\\site-packages\\wandb\\sdk\\interface\\interface.py\", line 248, in _make_summary\n",
      "    json_value = self._summary_encode(item.value, path_from_root)\n",
      "  File \"C:\\anaconda3\\envs\\jupyterenv\\lib\\site-packages\\wandb\\sdk\\interface\\interface.py\", line 221, in _summary_encode\n",
      "    val_to_json(self._run, path_from_root, value, namespace=\"summary\")\n",
      "  File \"C:\\anaconda3\\envs\\jupyterenv\\lib\\site-packages\\wandb\\sdk\\data_types\\utils.py\", line 164, in val_to_json\n",
      "    val.bind_to_run(run, key, namespace)\n",
      "  File \"C:\\anaconda3\\envs\\jupyterenv\\lib\\site-packages\\wandb\\data_types.py\", line 1377, in bind_to_run\n",
      "    with codecs.open(tmp_path, \"w\", encoding=\"utf-8\") as fp:\n",
      "  File \"C:\\anaconda3\\envs\\jupyterenv\\lib\\codecs.py\", line 906, in open\n",
      "    file = builtins.open(filename, mode, buffering)\n",
      "FileNotFoundError: [Errno 2] No such file or directory: 'C:\\\\Users\\\\Addisu\\\\AppData\\\\Local\\\\Temp\\\\tmpbie7lvyxwandb-media\\\\bgfhyrsa.graph.json'\n"
     ]
    },
    {
     "data": {
      "text/html": [
       " View run <strong style=\"color:#cdcd00\">divine-sweep-20</strong> at: <a href='https://wandb.ai/evapppp/sweeps-keras/runs/tuzrtlx7' target=\"_blank\">https://wandb.ai/evapppp/sweeps-keras/runs/tuzrtlx7</a><br/> View project at: <a href='https://wandb.ai/evapppp/sweeps-keras' target=\"_blank\">https://wandb.ai/evapppp/sweeps-keras</a><br/>Synced 5 W&B file(s), 0 media file(s), 0 artifact file(s) and 0 other file(s)"
      ],
      "text/plain": [
       "<IPython.core.display.HTML object>"
      ]
     },
     "metadata": {},
     "output_type": "display_data"
    },
    {
     "data": {
      "text/html": [
       "Find logs at: <code>.\\wandb\\run-20240621_154119-tuzrtlx7\\logs</code>"
      ],
      "text/plain": [
       "<IPython.core.display.HTML object>"
      ]
     },
     "metadata": {},
     "output_type": "display_data"
    },
    {
     "name": "stderr",
     "output_type": "stream",
     "text": [
      "Run tuzrtlx7 errored:\n",
      "Traceback (most recent call last):\n",
      "  File \"C:\\anaconda3\\envs\\jupyterenv\\lib\\site-packages\\wandb\\agents\\pyagent.py\", line 307, in _run_job\n",
      "    self._function()\n",
      "  File \"C:\\Users\\Addisu\\AppData\\Local\\Temp\\ipykernel_74596\\2644847777.py\", line 221, in sweep_train\n",
      "    train(model,\n",
      "  File \"C:\\Users\\Addisu\\AppData\\Local\\Temp\\ipykernel_74596\\2644847777.py\", line 151, in train\n",
      "    model.fit(X_train,\n",
      "  File \"C:\\anaconda3\\envs\\jupyterenv\\lib\\site-packages\\keras\\src\\utils\\traceback_utils.py\", line 70, in error_handler\n",
      "    raise e.with_traceback(filtered_tb) from None\n",
      "  File \"C:\\anaconda3\\envs\\jupyterenv\\lib\\site-packages\\wandb\\integration\\keras\\keras.py\", line 656, in on_train_batch_end\n",
      "    wandb.run.summary[\"graph\"] = wandb.Graph.from_keras(self.model)\n",
      "  File \"C:\\anaconda3\\envs\\jupyterenv\\lib\\site-packages\\wandb\\sdk\\wandb_summary.py\", line 52, in __setitem__\n",
      "    self.update({key: val})\n",
      "  File \"C:\\anaconda3\\envs\\jupyterenv\\lib\\site-packages\\wandb\\sdk\\wandb_summary.py\", line 74, in update\n",
      "    self._update(record)\n",
      "  File \"C:\\anaconda3\\envs\\jupyterenv\\lib\\site-packages\\wandb\\sdk\\wandb_summary.py\", line 128, in _update\n",
      "    self._update_callback(record)\n",
      "  File \"C:\\anaconda3\\envs\\jupyterenv\\lib\\site-packages\\wandb\\sdk\\wandb_run.py\", line 400, in wrapper_fn\n",
      "    return func(self, *args, **kwargs)\n",
      "  File \"C:\\anaconda3\\envs\\jupyterenv\\lib\\site-packages\\wandb\\sdk\\wandb_run.py\", line 1424, in _summary_update_callback\n",
      "    self._backend.interface.publish_summary(summary_record)\n",
      "  File \"C:\\anaconda3\\envs\\jupyterenv\\lib\\site-packages\\wandb\\sdk\\interface\\interface.py\", line 270, in publish_summary\n",
      "    pb_summary_record = self._make_summary(summary_record)\n",
      "  File \"C:\\anaconda3\\envs\\jupyterenv\\lib\\site-packages\\wandb\\sdk\\interface\\interface.py\", line 248, in _make_summary\n",
      "    json_value = self._summary_encode(item.value, path_from_root)\n",
      "  File \"C:\\anaconda3\\envs\\jupyterenv\\lib\\site-packages\\wandb\\sdk\\interface\\interface.py\", line 221, in _summary_encode\n",
      "    val_to_json(self._run, path_from_root, value, namespace=\"summary\")\n",
      "  File \"C:\\anaconda3\\envs\\jupyterenv\\lib\\site-packages\\wandb\\sdk\\data_types\\utils.py\", line 164, in val_to_json\n",
      "    val.bind_to_run(run, key, namespace)\n",
      "  File \"C:\\anaconda3\\envs\\jupyterenv\\lib\\site-packages\\wandb\\data_types.py\", line 1377, in bind_to_run\n",
      "    with codecs.open(tmp_path, \"w\", encoding=\"utf-8\") as fp:\n",
      "  File \"C:\\anaconda3\\envs\\jupyterenv\\lib\\codecs.py\", line 906, in open\n",
      "    file = builtins.open(filename, mode, buffering)\n",
      "FileNotFoundError: [Errno 2] No such file or directory: 'C:\\\\Users\\\\Addisu\\\\AppData\\\\Local\\\\Temp\\\\tmpbie7lvyxwandb-media\\\\bgfhyrsa.graph.json'\n",
      "\n",
      "\u001b[34m\u001b[1mwandb\u001b[0m: \u001b[32m\u001b[41mERROR\u001b[0m Run tuzrtlx7 errored:\n",
      "\u001b[34m\u001b[1mwandb\u001b[0m: \u001b[32m\u001b[41mERROR\u001b[0m Traceback (most recent call last):\n",
      "\u001b[34m\u001b[1mwandb\u001b[0m: \u001b[32m\u001b[41mERROR\u001b[0m   File \"C:\\anaconda3\\envs\\jupyterenv\\lib\\site-packages\\wandb\\agents\\pyagent.py\", line 307, in _run_job\n",
      "\u001b[34m\u001b[1mwandb\u001b[0m: \u001b[32m\u001b[41mERROR\u001b[0m     self._function()\n",
      "\u001b[34m\u001b[1mwandb\u001b[0m: \u001b[32m\u001b[41mERROR\u001b[0m   File \"C:\\Users\\Addisu\\AppData\\Local\\Temp\\ipykernel_74596\\2644847777.py\", line 221, in sweep_train\n",
      "\u001b[34m\u001b[1mwandb\u001b[0m: \u001b[32m\u001b[41mERROR\u001b[0m     train(model,\n",
      "\u001b[34m\u001b[1mwandb\u001b[0m: \u001b[32m\u001b[41mERROR\u001b[0m   File \"C:\\Users\\Addisu\\AppData\\Local\\Temp\\ipykernel_74596\\2644847777.py\", line 151, in train\n",
      "\u001b[34m\u001b[1mwandb\u001b[0m: \u001b[32m\u001b[41mERROR\u001b[0m     model.fit(X_train,\n",
      "\u001b[34m\u001b[1mwandb\u001b[0m: \u001b[32m\u001b[41mERROR\u001b[0m   File \"C:\\anaconda3\\envs\\jupyterenv\\lib\\site-packages\\keras\\src\\utils\\traceback_utils.py\", line 70, in error_handler\n",
      "\u001b[34m\u001b[1mwandb\u001b[0m: \u001b[32m\u001b[41mERROR\u001b[0m     raise e.with_traceback(filtered_tb) from None\n",
      "\u001b[34m\u001b[1mwandb\u001b[0m: \u001b[32m\u001b[41mERROR\u001b[0m   File \"C:\\anaconda3\\envs\\jupyterenv\\lib\\site-packages\\wandb\\integration\\keras\\keras.py\", line 656, in on_train_batch_end\n",
      "\u001b[34m\u001b[1mwandb\u001b[0m: \u001b[32m\u001b[41mERROR\u001b[0m     wandb.run.summary[\"graph\"] = wandb.Graph.from_keras(self.model)\n",
      "\u001b[34m\u001b[1mwandb\u001b[0m: \u001b[32m\u001b[41mERROR\u001b[0m   File \"C:\\anaconda3\\envs\\jupyterenv\\lib\\site-packages\\wandb\\sdk\\wandb_summary.py\", line 52, in __setitem__\n",
      "\u001b[34m\u001b[1mwandb\u001b[0m: \u001b[32m\u001b[41mERROR\u001b[0m     self.update({key: val})\n",
      "\u001b[34m\u001b[1mwandb\u001b[0m: \u001b[32m\u001b[41mERROR\u001b[0m   File \"C:\\anaconda3\\envs\\jupyterenv\\lib\\site-packages\\wandb\\sdk\\wandb_summary.py\", line 74, in update\n",
      "\u001b[34m\u001b[1mwandb\u001b[0m: \u001b[32m\u001b[41mERROR\u001b[0m     self._update(record)\n",
      "\u001b[34m\u001b[1mwandb\u001b[0m: \u001b[32m\u001b[41mERROR\u001b[0m   File \"C:\\anaconda3\\envs\\jupyterenv\\lib\\site-packages\\wandb\\sdk\\wandb_summary.py\", line 128, in _update\n",
      "\u001b[34m\u001b[1mwandb\u001b[0m: \u001b[32m\u001b[41mERROR\u001b[0m     self._update_callback(record)\n",
      "\u001b[34m\u001b[1mwandb\u001b[0m: \u001b[32m\u001b[41mERROR\u001b[0m   File \"C:\\anaconda3\\envs\\jupyterenv\\lib\\site-packages\\wandb\\sdk\\wandb_run.py\", line 400, in wrapper_fn\n",
      "\u001b[34m\u001b[1mwandb\u001b[0m: \u001b[32m\u001b[41mERROR\u001b[0m     return func(self, *args, **kwargs)\n",
      "\u001b[34m\u001b[1mwandb\u001b[0m: \u001b[32m\u001b[41mERROR\u001b[0m   File \"C:\\anaconda3\\envs\\jupyterenv\\lib\\site-packages\\wandb\\sdk\\wandb_run.py\", line 1424, in _summary_update_callback\n",
      "\u001b[34m\u001b[1mwandb\u001b[0m: \u001b[32m\u001b[41mERROR\u001b[0m     self._backend.interface.publish_summary(summary_record)\n",
      "\u001b[34m\u001b[1mwandb\u001b[0m: \u001b[32m\u001b[41mERROR\u001b[0m   File \"C:\\anaconda3\\envs\\jupyterenv\\lib\\site-packages\\wandb\\sdk\\interface\\interface.py\", line 270, in publish_summary\n",
      "\u001b[34m\u001b[1mwandb\u001b[0m: \u001b[32m\u001b[41mERROR\u001b[0m     pb_summary_record = self._make_summary(summary_record)\n",
      "\u001b[34m\u001b[1mwandb\u001b[0m: \u001b[32m\u001b[41mERROR\u001b[0m   File \"C:\\anaconda3\\envs\\jupyterenv\\lib\\site-packages\\wandb\\sdk\\interface\\interface.py\", line 248, in _make_summary\n",
      "\u001b[34m\u001b[1mwandb\u001b[0m: \u001b[32m\u001b[41mERROR\u001b[0m     json_value = self._summary_encode(item.value, path_from_root)\n",
      "\u001b[34m\u001b[1mwandb\u001b[0m: \u001b[32m\u001b[41mERROR\u001b[0m   File \"C:\\anaconda3\\envs\\jupyterenv\\lib\\site-packages\\wandb\\sdk\\interface\\interface.py\", line 221, in _summary_encode\n",
      "\u001b[34m\u001b[1mwandb\u001b[0m: \u001b[32m\u001b[41mERROR\u001b[0m     val_to_json(self._run, path_from_root, value, namespace=\"summary\")\n",
      "\u001b[34m\u001b[1mwandb\u001b[0m: \u001b[32m\u001b[41mERROR\u001b[0m   File \"C:\\anaconda3\\envs\\jupyterenv\\lib\\site-packages\\wandb\\sdk\\data_types\\utils.py\", line 164, in val_to_json\n",
      "\u001b[34m\u001b[1mwandb\u001b[0m: \u001b[32m\u001b[41mERROR\u001b[0m     val.bind_to_run(run, key, namespace)\n",
      "\u001b[34m\u001b[1mwandb\u001b[0m: \u001b[32m\u001b[41mERROR\u001b[0m   File \"C:\\anaconda3\\envs\\jupyterenv\\lib\\site-packages\\wandb\\data_types.py\", line 1377, in bind_to_run\n",
      "\u001b[34m\u001b[1mwandb\u001b[0m: \u001b[32m\u001b[41mERROR\u001b[0m     with codecs.open(tmp_path, \"w\", encoding=\"utf-8\") as fp:\n",
      "\u001b[34m\u001b[1mwandb\u001b[0m: \u001b[32m\u001b[41mERROR\u001b[0m   File \"C:\\anaconda3\\envs\\jupyterenv\\lib\\codecs.py\", line 906, in open\n",
      "\u001b[34m\u001b[1mwandb\u001b[0m: \u001b[32m\u001b[41mERROR\u001b[0m     file = builtins.open(filename, mode, buffering)\n",
      "\u001b[34m\u001b[1mwandb\u001b[0m: \u001b[32m\u001b[41mERROR\u001b[0m FileNotFoundError: [Errno 2] No such file or directory: 'C:\\\\Users\\\\Addisu\\\\AppData\\\\Local\\\\Temp\\\\tmpbie7lvyxwandb-media\\\\bgfhyrsa.graph.json'\n",
      "\u001b[34m\u001b[1mwandb\u001b[0m: \u001b[32m\u001b[41mERROR\u001b[0m \n",
      "\u001b[34m\u001b[1mwandb\u001b[0m: Sweep Agent: Waiting for job.\n",
      "\u001b[34m\u001b[1mwandb\u001b[0m: Job received.\n",
      "\u001b[34m\u001b[1mwandb\u001b[0m: Agent Starting Run: 3zvqg89d with config:\n",
      "\u001b[34m\u001b[1mwandb\u001b[0m: \tbatch_size: 120\n",
      "\u001b[34m\u001b[1mwandb\u001b[0m: \tdense_activation: sigmoid\n",
      "\u001b[34m\u001b[1mwandb\u001b[0m: \tdropout: 0.2\n",
      "\u001b[34m\u001b[1mwandb\u001b[0m: \tepochs: 1\n",
      "\u001b[34m\u001b[1mwandb\u001b[0m: \tlearning_rate: 0.002755455594255495\n",
      "\u001b[34m\u001b[1mwandb\u001b[0m: \toptimizer: sgd\n"
     ]
    },
    {
     "data": {
      "text/html": [
       "Tracking run with wandb version 0.17.0"
      ],
      "text/plain": [
       "<IPython.core.display.HTML object>"
      ]
     },
     "metadata": {},
     "output_type": "display_data"
    },
    {
     "data": {
      "text/html": [
       "Run data is saved locally in <code>C:\\Users\\Addisu\\Desktop\\kidi files\\Python workshop with ellen\\wandb\\run-20240621_154158-3zvqg89d</code>"
      ],
      "text/plain": [
       "<IPython.core.display.HTML object>"
      ]
     },
     "metadata": {},
     "output_type": "display_data"
    },
    {
     "data": {
      "text/html": [
       "Syncing run <strong><a href='https://wandb.ai/evapppp/sweeps-keras/runs/3zvqg89d' target=\"_blank\">faithful-sweep-21</a></strong> to <a href='https://wandb.ai/evapppp/sweeps-keras' target=\"_blank\">Weights & Biases</a> (<a href='https://wandb.me/run' target=\"_blank\">docs</a>)<br/>Sweep page: <a href='https://wandb.ai/evapppp/sweeps-keras/sweeps/qu378scj' target=\"_blank\">https://wandb.ai/evapppp/sweeps-keras/sweeps/qu378scj</a>"
      ],
      "text/plain": [
       "<IPython.core.display.HTML object>"
      ]
     },
     "metadata": {},
     "output_type": "display_data"
    },
    {
     "data": {
      "text/html": [
       " View project at <a href='https://wandb.ai/evapppp/sweeps-keras' target=\"_blank\">https://wandb.ai/evapppp/sweeps-keras</a>"
      ],
      "text/plain": [
       "<IPython.core.display.HTML object>"
      ]
     },
     "metadata": {},
     "output_type": "display_data"
    },
    {
     "data": {
      "text/html": [
       " View sweep at <a href='https://wandb.ai/evapppp/sweeps-keras/sweeps/qu378scj' target=\"_blank\">https://wandb.ai/evapppp/sweeps-keras/sweeps/qu378scj</a>"
      ],
      "text/plain": [
       "<IPython.core.display.HTML object>"
      ]
     },
     "metadata": {},
     "output_type": "display_data"
    },
    {
     "data": {
      "text/html": [
       " View run at <a href='https://wandb.ai/evapppp/sweeps-keras/runs/3zvqg89d' target=\"_blank\">https://wandb.ai/evapppp/sweeps-keras/runs/3zvqg89d</a>"
      ],
      "text/plain": [
       "<IPython.core.display.HTML object>"
      ]
     },
     "metadata": {},
     "output_type": "display_data"
    },
    {
     "name": "stderr",
     "output_type": "stream",
     "text": [
      "Traceback (most recent call last):\n",
      "  File \"C:\\Users\\Addisu\\AppData\\Local\\Temp\\ipykernel_74596\\2644847777.py\", line 221, in sweep_train\n",
      "    train(model,\n",
      "  File \"C:\\Users\\Addisu\\AppData\\Local\\Temp\\ipykernel_74596\\2644847777.py\", line 151, in train\n",
      "    model.fit(X_train,\n",
      "  File \"C:\\anaconda3\\envs\\jupyterenv\\lib\\site-packages\\keras\\src\\utils\\traceback_utils.py\", line 70, in error_handler\n",
      "    raise e.with_traceback(filtered_tb) from None\n",
      "  File \"C:\\anaconda3\\envs\\jupyterenv\\lib\\site-packages\\wandb\\integration\\keras\\keras.py\", line 656, in on_train_batch_end\n",
      "    wandb.run.summary[\"graph\"] = wandb.Graph.from_keras(self.model)\n",
      "  File \"C:\\anaconda3\\envs\\jupyterenv\\lib\\site-packages\\wandb\\sdk\\wandb_summary.py\", line 52, in __setitem__\n",
      "    self.update({key: val})\n",
      "  File \"C:\\anaconda3\\envs\\jupyterenv\\lib\\site-packages\\wandb\\sdk\\wandb_summary.py\", line 74, in update\n",
      "    self._update(record)\n",
      "  File \"C:\\anaconda3\\envs\\jupyterenv\\lib\\site-packages\\wandb\\sdk\\wandb_summary.py\", line 128, in _update\n",
      "    self._update_callback(record)\n",
      "  File \"C:\\anaconda3\\envs\\jupyterenv\\lib\\site-packages\\wandb\\sdk\\wandb_run.py\", line 400, in wrapper_fn\n",
      "    return func(self, *args, **kwargs)\n",
      "  File \"C:\\anaconda3\\envs\\jupyterenv\\lib\\site-packages\\wandb\\sdk\\wandb_run.py\", line 1424, in _summary_update_callback\n",
      "    self._backend.interface.publish_summary(summary_record)\n",
      "  File \"C:\\anaconda3\\envs\\jupyterenv\\lib\\site-packages\\wandb\\sdk\\interface\\interface.py\", line 270, in publish_summary\n",
      "    pb_summary_record = self._make_summary(summary_record)\n",
      "  File \"C:\\anaconda3\\envs\\jupyterenv\\lib\\site-packages\\wandb\\sdk\\interface\\interface.py\", line 248, in _make_summary\n",
      "    json_value = self._summary_encode(item.value, path_from_root)\n",
      "  File \"C:\\anaconda3\\envs\\jupyterenv\\lib\\site-packages\\wandb\\sdk\\interface\\interface.py\", line 221, in _summary_encode\n",
      "    val_to_json(self._run, path_from_root, value, namespace=\"summary\")\n",
      "  File \"C:\\anaconda3\\envs\\jupyterenv\\lib\\site-packages\\wandb\\sdk\\data_types\\utils.py\", line 164, in val_to_json\n",
      "    val.bind_to_run(run, key, namespace)\n",
      "  File \"C:\\anaconda3\\envs\\jupyterenv\\lib\\site-packages\\wandb\\data_types.py\", line 1377, in bind_to_run\n",
      "    with codecs.open(tmp_path, \"w\", encoding=\"utf-8\") as fp:\n",
      "  File \"C:\\anaconda3\\envs\\jupyterenv\\lib\\codecs.py\", line 906, in open\n",
      "    file = builtins.open(filename, mode, buffering)\n",
      "FileNotFoundError: [Errno 2] No such file or directory: 'C:\\\\Users\\\\Addisu\\\\AppData\\\\Local\\\\Temp\\\\tmpbie7lvyxwandb-media\\\\1lrdtr67.graph.json'\n"
     ]
    },
    {
     "data": {
      "text/html": [
       " View run <strong style=\"color:#cdcd00\">faithful-sweep-21</strong> at: <a href='https://wandb.ai/evapppp/sweeps-keras/runs/3zvqg89d' target=\"_blank\">https://wandb.ai/evapppp/sweeps-keras/runs/3zvqg89d</a><br/> View project at: <a href='https://wandb.ai/evapppp/sweeps-keras' target=\"_blank\">https://wandb.ai/evapppp/sweeps-keras</a><br/>Synced 5 W&B file(s), 0 media file(s), 0 artifact file(s) and 0 other file(s)"
      ],
      "text/plain": [
       "<IPython.core.display.HTML object>"
      ]
     },
     "metadata": {},
     "output_type": "display_data"
    },
    {
     "data": {
      "text/html": [
       "Find logs at: <code>.\\wandb\\run-20240621_154158-3zvqg89d\\logs</code>"
      ],
      "text/plain": [
       "<IPython.core.display.HTML object>"
      ]
     },
     "metadata": {},
     "output_type": "display_data"
    },
    {
     "name": "stderr",
     "output_type": "stream",
     "text": [
      "Run 3zvqg89d errored:\n",
      "Traceback (most recent call last):\n",
      "  File \"C:\\anaconda3\\envs\\jupyterenv\\lib\\site-packages\\wandb\\agents\\pyagent.py\", line 307, in _run_job\n",
      "    self._function()\n",
      "  File \"C:\\Users\\Addisu\\AppData\\Local\\Temp\\ipykernel_74596\\2644847777.py\", line 221, in sweep_train\n",
      "    train(model,\n",
      "  File \"C:\\Users\\Addisu\\AppData\\Local\\Temp\\ipykernel_74596\\2644847777.py\", line 151, in train\n",
      "    model.fit(X_train,\n",
      "  File \"C:\\anaconda3\\envs\\jupyterenv\\lib\\site-packages\\keras\\src\\utils\\traceback_utils.py\", line 70, in error_handler\n",
      "    raise e.with_traceback(filtered_tb) from None\n",
      "  File \"C:\\anaconda3\\envs\\jupyterenv\\lib\\site-packages\\wandb\\integration\\keras\\keras.py\", line 656, in on_train_batch_end\n",
      "    wandb.run.summary[\"graph\"] = wandb.Graph.from_keras(self.model)\n",
      "  File \"C:\\anaconda3\\envs\\jupyterenv\\lib\\site-packages\\wandb\\sdk\\wandb_summary.py\", line 52, in __setitem__\n",
      "    self.update({key: val})\n",
      "  File \"C:\\anaconda3\\envs\\jupyterenv\\lib\\site-packages\\wandb\\sdk\\wandb_summary.py\", line 74, in update\n",
      "    self._update(record)\n",
      "  File \"C:\\anaconda3\\envs\\jupyterenv\\lib\\site-packages\\wandb\\sdk\\wandb_summary.py\", line 128, in _update\n",
      "    self._update_callback(record)\n",
      "  File \"C:\\anaconda3\\envs\\jupyterenv\\lib\\site-packages\\wandb\\sdk\\wandb_run.py\", line 400, in wrapper_fn\n",
      "    return func(self, *args, **kwargs)\n",
      "  File \"C:\\anaconda3\\envs\\jupyterenv\\lib\\site-packages\\wandb\\sdk\\wandb_run.py\", line 1424, in _summary_update_callback\n",
      "    self._backend.interface.publish_summary(summary_record)\n",
      "  File \"C:\\anaconda3\\envs\\jupyterenv\\lib\\site-packages\\wandb\\sdk\\interface\\interface.py\", line 270, in publish_summary\n",
      "    pb_summary_record = self._make_summary(summary_record)\n",
      "  File \"C:\\anaconda3\\envs\\jupyterenv\\lib\\site-packages\\wandb\\sdk\\interface\\interface.py\", line 248, in _make_summary\n",
      "    json_value = self._summary_encode(item.value, path_from_root)\n",
      "  File \"C:\\anaconda3\\envs\\jupyterenv\\lib\\site-packages\\wandb\\sdk\\interface\\interface.py\", line 221, in _summary_encode\n",
      "    val_to_json(self._run, path_from_root, value, namespace=\"summary\")\n",
      "  File \"C:\\anaconda3\\envs\\jupyterenv\\lib\\site-packages\\wandb\\sdk\\data_types\\utils.py\", line 164, in val_to_json\n",
      "    val.bind_to_run(run, key, namespace)\n",
      "  File \"C:\\anaconda3\\envs\\jupyterenv\\lib\\site-packages\\wandb\\data_types.py\", line 1377, in bind_to_run\n",
      "    with codecs.open(tmp_path, \"w\", encoding=\"utf-8\") as fp:\n",
      "  File \"C:\\anaconda3\\envs\\jupyterenv\\lib\\codecs.py\", line 906, in open\n",
      "    file = builtins.open(filename, mode, buffering)\n",
      "FileNotFoundError: [Errno 2] No such file or directory: 'C:\\\\Users\\\\Addisu\\\\AppData\\\\Local\\\\Temp\\\\tmpbie7lvyxwandb-media\\\\1lrdtr67.graph.json'\n",
      "\n",
      "\u001b[34m\u001b[1mwandb\u001b[0m: \u001b[32m\u001b[41mERROR\u001b[0m Run 3zvqg89d errored:\n",
      "\u001b[34m\u001b[1mwandb\u001b[0m: \u001b[32m\u001b[41mERROR\u001b[0m Traceback (most recent call last):\n",
      "\u001b[34m\u001b[1mwandb\u001b[0m: \u001b[32m\u001b[41mERROR\u001b[0m   File \"C:\\anaconda3\\envs\\jupyterenv\\lib\\site-packages\\wandb\\agents\\pyagent.py\", line 307, in _run_job\n",
      "\u001b[34m\u001b[1mwandb\u001b[0m: \u001b[32m\u001b[41mERROR\u001b[0m     self._function()\n",
      "\u001b[34m\u001b[1mwandb\u001b[0m: \u001b[32m\u001b[41mERROR\u001b[0m   File \"C:\\Users\\Addisu\\AppData\\Local\\Temp\\ipykernel_74596\\2644847777.py\", line 221, in sweep_train\n",
      "\u001b[34m\u001b[1mwandb\u001b[0m: \u001b[32m\u001b[41mERROR\u001b[0m     train(model,\n",
      "\u001b[34m\u001b[1mwandb\u001b[0m: \u001b[32m\u001b[41mERROR\u001b[0m   File \"C:\\Users\\Addisu\\AppData\\Local\\Temp\\ipykernel_74596\\2644847777.py\", line 151, in train\n",
      "\u001b[34m\u001b[1mwandb\u001b[0m: \u001b[32m\u001b[41mERROR\u001b[0m     model.fit(X_train,\n",
      "\u001b[34m\u001b[1mwandb\u001b[0m: \u001b[32m\u001b[41mERROR\u001b[0m   File \"C:\\anaconda3\\envs\\jupyterenv\\lib\\site-packages\\keras\\src\\utils\\traceback_utils.py\", line 70, in error_handler\n",
      "\u001b[34m\u001b[1mwandb\u001b[0m: \u001b[32m\u001b[41mERROR\u001b[0m     raise e.with_traceback(filtered_tb) from None\n",
      "\u001b[34m\u001b[1mwandb\u001b[0m: \u001b[32m\u001b[41mERROR\u001b[0m   File \"C:\\anaconda3\\envs\\jupyterenv\\lib\\site-packages\\wandb\\integration\\keras\\keras.py\", line 656, in on_train_batch_end\n",
      "\u001b[34m\u001b[1mwandb\u001b[0m: \u001b[32m\u001b[41mERROR\u001b[0m     wandb.run.summary[\"graph\"] = wandb.Graph.from_keras(self.model)\n",
      "\u001b[34m\u001b[1mwandb\u001b[0m: \u001b[32m\u001b[41mERROR\u001b[0m   File \"C:\\anaconda3\\envs\\jupyterenv\\lib\\site-packages\\wandb\\sdk\\wandb_summary.py\", line 52, in __setitem__\n",
      "\u001b[34m\u001b[1mwandb\u001b[0m: \u001b[32m\u001b[41mERROR\u001b[0m     self.update({key: val})\n",
      "\u001b[34m\u001b[1mwandb\u001b[0m: \u001b[32m\u001b[41mERROR\u001b[0m   File \"C:\\anaconda3\\envs\\jupyterenv\\lib\\site-packages\\wandb\\sdk\\wandb_summary.py\", line 74, in update\n",
      "\u001b[34m\u001b[1mwandb\u001b[0m: \u001b[32m\u001b[41mERROR\u001b[0m     self._update(record)\n",
      "\u001b[34m\u001b[1mwandb\u001b[0m: \u001b[32m\u001b[41mERROR\u001b[0m   File \"C:\\anaconda3\\envs\\jupyterenv\\lib\\site-packages\\wandb\\sdk\\wandb_summary.py\", line 128, in _update\n",
      "\u001b[34m\u001b[1mwandb\u001b[0m: \u001b[32m\u001b[41mERROR\u001b[0m     self._update_callback(record)\n",
      "\u001b[34m\u001b[1mwandb\u001b[0m: \u001b[32m\u001b[41mERROR\u001b[0m   File \"C:\\anaconda3\\envs\\jupyterenv\\lib\\site-packages\\wandb\\sdk\\wandb_run.py\", line 400, in wrapper_fn\n",
      "\u001b[34m\u001b[1mwandb\u001b[0m: \u001b[32m\u001b[41mERROR\u001b[0m     return func(self, *args, **kwargs)\n",
      "\u001b[34m\u001b[1mwandb\u001b[0m: \u001b[32m\u001b[41mERROR\u001b[0m   File \"C:\\anaconda3\\envs\\jupyterenv\\lib\\site-packages\\wandb\\sdk\\wandb_run.py\", line 1424, in _summary_update_callback\n",
      "\u001b[34m\u001b[1mwandb\u001b[0m: \u001b[32m\u001b[41mERROR\u001b[0m     self._backend.interface.publish_summary(summary_record)\n",
      "\u001b[34m\u001b[1mwandb\u001b[0m: \u001b[32m\u001b[41mERROR\u001b[0m   File \"C:\\anaconda3\\envs\\jupyterenv\\lib\\site-packages\\wandb\\sdk\\interface\\interface.py\", line 270, in publish_summary\n",
      "\u001b[34m\u001b[1mwandb\u001b[0m: \u001b[32m\u001b[41mERROR\u001b[0m     pb_summary_record = self._make_summary(summary_record)\n",
      "\u001b[34m\u001b[1mwandb\u001b[0m: \u001b[32m\u001b[41mERROR\u001b[0m   File \"C:\\anaconda3\\envs\\jupyterenv\\lib\\site-packages\\wandb\\sdk\\interface\\interface.py\", line 248, in _make_summary\n",
      "\u001b[34m\u001b[1mwandb\u001b[0m: \u001b[32m\u001b[41mERROR\u001b[0m     json_value = self._summary_encode(item.value, path_from_root)\n",
      "\u001b[34m\u001b[1mwandb\u001b[0m: \u001b[32m\u001b[41mERROR\u001b[0m   File \"C:\\anaconda3\\envs\\jupyterenv\\lib\\site-packages\\wandb\\sdk\\interface\\interface.py\", line 221, in _summary_encode\n",
      "\u001b[34m\u001b[1mwandb\u001b[0m: \u001b[32m\u001b[41mERROR\u001b[0m     val_to_json(self._run, path_from_root, value, namespace=\"summary\")\n",
      "\u001b[34m\u001b[1mwandb\u001b[0m: \u001b[32m\u001b[41mERROR\u001b[0m   File \"C:\\anaconda3\\envs\\jupyterenv\\lib\\site-packages\\wandb\\sdk\\data_types\\utils.py\", line 164, in val_to_json\n",
      "\u001b[34m\u001b[1mwandb\u001b[0m: \u001b[32m\u001b[41mERROR\u001b[0m     val.bind_to_run(run, key, namespace)\n",
      "\u001b[34m\u001b[1mwandb\u001b[0m: \u001b[32m\u001b[41mERROR\u001b[0m   File \"C:\\anaconda3\\envs\\jupyterenv\\lib\\site-packages\\wandb\\data_types.py\", line 1377, in bind_to_run\n",
      "\u001b[34m\u001b[1mwandb\u001b[0m: \u001b[32m\u001b[41mERROR\u001b[0m     with codecs.open(tmp_path, \"w\", encoding=\"utf-8\") as fp:\n",
      "\u001b[34m\u001b[1mwandb\u001b[0m: \u001b[32m\u001b[41mERROR\u001b[0m   File \"C:\\anaconda3\\envs\\jupyterenv\\lib\\codecs.py\", line 906, in open\n",
      "\u001b[34m\u001b[1mwandb\u001b[0m: \u001b[32m\u001b[41mERROR\u001b[0m     file = builtins.open(filename, mode, buffering)\n",
      "\u001b[34m\u001b[1mwandb\u001b[0m: \u001b[32m\u001b[41mERROR\u001b[0m FileNotFoundError: [Errno 2] No such file or directory: 'C:\\\\Users\\\\Addisu\\\\AppData\\\\Local\\\\Temp\\\\tmpbie7lvyxwandb-media\\\\1lrdtr67.graph.json'\n",
      "\u001b[34m\u001b[1mwandb\u001b[0m: \u001b[32m\u001b[41mERROR\u001b[0m \n",
      "\u001b[34m\u001b[1mwandb\u001b[0m: Agent Starting Run: 0g5supz5 with config:\n",
      "\u001b[34m\u001b[1mwandb\u001b[0m: \tbatch_size: 48\n",
      "\u001b[34m\u001b[1mwandb\u001b[0m: \tdense_activation: sigmoid\n",
      "\u001b[34m\u001b[1mwandb\u001b[0m: \tdropout: 0.1\n",
      "\u001b[34m\u001b[1mwandb\u001b[0m: \tepochs: 1\n",
      "\u001b[34m\u001b[1mwandb\u001b[0m: \tlearning_rate: 0.0056974388811458455\n",
      "\u001b[34m\u001b[1mwandb\u001b[0m: \toptimizer: sgd\n"
     ]
    },
    {
     "data": {
      "text/html": [
       "wandb version 0.17.2 is available!  To upgrade, please run:\n",
       " $ pip install wandb --upgrade"
      ],
      "text/plain": [
       "<IPython.core.display.HTML object>"
      ]
     },
     "metadata": {},
     "output_type": "display_data"
    },
    {
     "data": {
      "text/html": [
       "Tracking run with wandb version 0.17.0"
      ],
      "text/plain": [
       "<IPython.core.display.HTML object>"
      ]
     },
     "metadata": {},
     "output_type": "display_data"
    },
    {
     "data": {
      "text/html": [
       "Run data is saved locally in <code>C:\\Users\\Addisu\\Desktop\\kidi files\\Python workshop with ellen\\wandb\\run-20240621_154227-0g5supz5</code>"
      ],
      "text/plain": [
       "<IPython.core.display.HTML object>"
      ]
     },
     "metadata": {},
     "output_type": "display_data"
    },
    {
     "data": {
      "text/html": [
       "Syncing run <strong><a href='https://wandb.ai/evapppp/sweeps-keras/runs/0g5supz5' target=\"_blank\">true-sweep-22</a></strong> to <a href='https://wandb.ai/evapppp/sweeps-keras' target=\"_blank\">Weights & Biases</a> (<a href='https://wandb.me/run' target=\"_blank\">docs</a>)<br/>Sweep page: <a href='https://wandb.ai/evapppp/sweeps-keras/sweeps/qu378scj' target=\"_blank\">https://wandb.ai/evapppp/sweeps-keras/sweeps/qu378scj</a>"
      ],
      "text/plain": [
       "<IPython.core.display.HTML object>"
      ]
     },
     "metadata": {},
     "output_type": "display_data"
    },
    {
     "data": {
      "text/html": [
       " View project at <a href='https://wandb.ai/evapppp/sweeps-keras' target=\"_blank\">https://wandb.ai/evapppp/sweeps-keras</a>"
      ],
      "text/plain": [
       "<IPython.core.display.HTML object>"
      ]
     },
     "metadata": {},
     "output_type": "display_data"
    },
    {
     "data": {
      "text/html": [
       " View sweep at <a href='https://wandb.ai/evapppp/sweeps-keras/sweeps/qu378scj' target=\"_blank\">https://wandb.ai/evapppp/sweeps-keras/sweeps/qu378scj</a>"
      ],
      "text/plain": [
       "<IPython.core.display.HTML object>"
      ]
     },
     "metadata": {},
     "output_type": "display_data"
    },
    {
     "data": {
      "text/html": [
       " View run at <a href='https://wandb.ai/evapppp/sweeps-keras/runs/0g5supz5' target=\"_blank\">https://wandb.ai/evapppp/sweeps-keras/runs/0g5supz5</a>"
      ],
      "text/plain": [
       "<IPython.core.display.HTML object>"
      ]
     },
     "metadata": {},
     "output_type": "display_data"
    },
    {
     "name": "stderr",
     "output_type": "stream",
     "text": [
      "Traceback (most recent call last):\n",
      "  File \"C:\\Users\\Addisu\\AppData\\Local\\Temp\\ipykernel_74596\\2644847777.py\", line 221, in sweep_train\n",
      "    train(model,\n",
      "  File \"C:\\Users\\Addisu\\AppData\\Local\\Temp\\ipykernel_74596\\2644847777.py\", line 151, in train\n",
      "    model.fit(X_train,\n",
      "  File \"C:\\anaconda3\\envs\\jupyterenv\\lib\\site-packages\\keras\\src\\utils\\traceback_utils.py\", line 70, in error_handler\n",
      "    raise e.with_traceback(filtered_tb) from None\n",
      "  File \"C:\\anaconda3\\envs\\jupyterenv\\lib\\site-packages\\wandb\\integration\\keras\\keras.py\", line 656, in on_train_batch_end\n",
      "    wandb.run.summary[\"graph\"] = wandb.Graph.from_keras(self.model)\n",
      "  File \"C:\\anaconda3\\envs\\jupyterenv\\lib\\site-packages\\wandb\\sdk\\wandb_summary.py\", line 52, in __setitem__\n",
      "    self.update({key: val})\n",
      "  File \"C:\\anaconda3\\envs\\jupyterenv\\lib\\site-packages\\wandb\\sdk\\wandb_summary.py\", line 74, in update\n",
      "    self._update(record)\n",
      "  File \"C:\\anaconda3\\envs\\jupyterenv\\lib\\site-packages\\wandb\\sdk\\wandb_summary.py\", line 128, in _update\n",
      "    self._update_callback(record)\n",
      "  File \"C:\\anaconda3\\envs\\jupyterenv\\lib\\site-packages\\wandb\\sdk\\wandb_run.py\", line 400, in wrapper_fn\n",
      "    return func(self, *args, **kwargs)\n",
      "  File \"C:\\anaconda3\\envs\\jupyterenv\\lib\\site-packages\\wandb\\sdk\\wandb_run.py\", line 1424, in _summary_update_callback\n",
      "    self._backend.interface.publish_summary(summary_record)\n",
      "  File \"C:\\anaconda3\\envs\\jupyterenv\\lib\\site-packages\\wandb\\sdk\\interface\\interface.py\", line 270, in publish_summary\n",
      "    pb_summary_record = self._make_summary(summary_record)\n",
      "  File \"C:\\anaconda3\\envs\\jupyterenv\\lib\\site-packages\\wandb\\sdk\\interface\\interface.py\", line 248, in _make_summary\n",
      "    json_value = self._summary_encode(item.value, path_from_root)\n",
      "  File \"C:\\anaconda3\\envs\\jupyterenv\\lib\\site-packages\\wandb\\sdk\\interface\\interface.py\", line 221, in _summary_encode\n",
      "    val_to_json(self._run, path_from_root, value, namespace=\"summary\")\n",
      "  File \"C:\\anaconda3\\envs\\jupyterenv\\lib\\site-packages\\wandb\\sdk\\data_types\\utils.py\", line 164, in val_to_json\n",
      "    val.bind_to_run(run, key, namespace)\n",
      "  File \"C:\\anaconda3\\envs\\jupyterenv\\lib\\site-packages\\wandb\\data_types.py\", line 1377, in bind_to_run\n",
      "    with codecs.open(tmp_path, \"w\", encoding=\"utf-8\") as fp:\n",
      "  File \"C:\\anaconda3\\envs\\jupyterenv\\lib\\codecs.py\", line 906, in open\n",
      "    file = builtins.open(filename, mode, buffering)\n",
      "FileNotFoundError: [Errno 2] No such file or directory: 'C:\\\\Users\\\\Addisu\\\\AppData\\\\Local\\\\Temp\\\\tmpbie7lvyxwandb-media\\\\tuvv4f7b.graph.json'\n"
     ]
    },
    {
     "data": {
      "text/html": [
       " View run <strong style=\"color:#cdcd00\">true-sweep-22</strong> at: <a href='https://wandb.ai/evapppp/sweeps-keras/runs/0g5supz5' target=\"_blank\">https://wandb.ai/evapppp/sweeps-keras/runs/0g5supz5</a><br/> View project at: <a href='https://wandb.ai/evapppp/sweeps-keras' target=\"_blank\">https://wandb.ai/evapppp/sweeps-keras</a><br/>Synced 5 W&B file(s), 0 media file(s), 0 artifact file(s) and 0 other file(s)"
      ],
      "text/plain": [
       "<IPython.core.display.HTML object>"
      ]
     },
     "metadata": {},
     "output_type": "display_data"
    },
    {
     "data": {
      "text/html": [
       "Find logs at: <code>.\\wandb\\run-20240621_154227-0g5supz5\\logs</code>"
      ],
      "text/plain": [
       "<IPython.core.display.HTML object>"
      ]
     },
     "metadata": {},
     "output_type": "display_data"
    },
    {
     "name": "stderr",
     "output_type": "stream",
     "text": [
      "Run 0g5supz5 errored:\n",
      "Traceback (most recent call last):\n",
      "  File \"C:\\anaconda3\\envs\\jupyterenv\\lib\\site-packages\\wandb\\agents\\pyagent.py\", line 307, in _run_job\n",
      "    self._function()\n",
      "  File \"C:\\Users\\Addisu\\AppData\\Local\\Temp\\ipykernel_74596\\2644847777.py\", line 221, in sweep_train\n",
      "    train(model,\n",
      "  File \"C:\\Users\\Addisu\\AppData\\Local\\Temp\\ipykernel_74596\\2644847777.py\", line 151, in train\n",
      "    model.fit(X_train,\n",
      "  File \"C:\\anaconda3\\envs\\jupyterenv\\lib\\site-packages\\keras\\src\\utils\\traceback_utils.py\", line 70, in error_handler\n",
      "    raise e.with_traceback(filtered_tb) from None\n",
      "  File \"C:\\anaconda3\\envs\\jupyterenv\\lib\\site-packages\\wandb\\integration\\keras\\keras.py\", line 656, in on_train_batch_end\n",
      "    wandb.run.summary[\"graph\"] = wandb.Graph.from_keras(self.model)\n",
      "  File \"C:\\anaconda3\\envs\\jupyterenv\\lib\\site-packages\\wandb\\sdk\\wandb_summary.py\", line 52, in __setitem__\n",
      "    self.update({key: val})\n",
      "  File \"C:\\anaconda3\\envs\\jupyterenv\\lib\\site-packages\\wandb\\sdk\\wandb_summary.py\", line 74, in update\n",
      "    self._update(record)\n",
      "  File \"C:\\anaconda3\\envs\\jupyterenv\\lib\\site-packages\\wandb\\sdk\\wandb_summary.py\", line 128, in _update\n",
      "    self._update_callback(record)\n",
      "  File \"C:\\anaconda3\\envs\\jupyterenv\\lib\\site-packages\\wandb\\sdk\\wandb_run.py\", line 400, in wrapper_fn\n",
      "    return func(self, *args, **kwargs)\n",
      "  File \"C:\\anaconda3\\envs\\jupyterenv\\lib\\site-packages\\wandb\\sdk\\wandb_run.py\", line 1424, in _summary_update_callback\n",
      "    self._backend.interface.publish_summary(summary_record)\n",
      "  File \"C:\\anaconda3\\envs\\jupyterenv\\lib\\site-packages\\wandb\\sdk\\interface\\interface.py\", line 270, in publish_summary\n",
      "    pb_summary_record = self._make_summary(summary_record)\n",
      "  File \"C:\\anaconda3\\envs\\jupyterenv\\lib\\site-packages\\wandb\\sdk\\interface\\interface.py\", line 248, in _make_summary\n",
      "    json_value = self._summary_encode(item.value, path_from_root)\n",
      "  File \"C:\\anaconda3\\envs\\jupyterenv\\lib\\site-packages\\wandb\\sdk\\interface\\interface.py\", line 221, in _summary_encode\n",
      "    val_to_json(self._run, path_from_root, value, namespace=\"summary\")\n",
      "  File \"C:\\anaconda3\\envs\\jupyterenv\\lib\\site-packages\\wandb\\sdk\\data_types\\utils.py\", line 164, in val_to_json\n",
      "    val.bind_to_run(run, key, namespace)\n",
      "  File \"C:\\anaconda3\\envs\\jupyterenv\\lib\\site-packages\\wandb\\data_types.py\", line 1377, in bind_to_run\n",
      "    with codecs.open(tmp_path, \"w\", encoding=\"utf-8\") as fp:\n",
      "  File \"C:\\anaconda3\\envs\\jupyterenv\\lib\\codecs.py\", line 906, in open\n",
      "    file = builtins.open(filename, mode, buffering)\n",
      "FileNotFoundError: [Errno 2] No such file or directory: 'C:\\\\Users\\\\Addisu\\\\AppData\\\\Local\\\\Temp\\\\tmpbie7lvyxwandb-media\\\\tuvv4f7b.graph.json'\n",
      "\n",
      "\u001b[34m\u001b[1mwandb\u001b[0m: \u001b[32m\u001b[41mERROR\u001b[0m Run 0g5supz5 errored:\n",
      "\u001b[34m\u001b[1mwandb\u001b[0m: \u001b[32m\u001b[41mERROR\u001b[0m Traceback (most recent call last):\n",
      "\u001b[34m\u001b[1mwandb\u001b[0m: \u001b[32m\u001b[41mERROR\u001b[0m   File \"C:\\anaconda3\\envs\\jupyterenv\\lib\\site-packages\\wandb\\agents\\pyagent.py\", line 307, in _run_job\n",
      "\u001b[34m\u001b[1mwandb\u001b[0m: \u001b[32m\u001b[41mERROR\u001b[0m     self._function()\n",
      "\u001b[34m\u001b[1mwandb\u001b[0m: \u001b[32m\u001b[41mERROR\u001b[0m   File \"C:\\Users\\Addisu\\AppData\\Local\\Temp\\ipykernel_74596\\2644847777.py\", line 221, in sweep_train\n",
      "\u001b[34m\u001b[1mwandb\u001b[0m: \u001b[32m\u001b[41mERROR\u001b[0m     train(model,\n",
      "\u001b[34m\u001b[1mwandb\u001b[0m: \u001b[32m\u001b[41mERROR\u001b[0m   File \"C:\\Users\\Addisu\\AppData\\Local\\Temp\\ipykernel_74596\\2644847777.py\", line 151, in train\n",
      "\u001b[34m\u001b[1mwandb\u001b[0m: \u001b[32m\u001b[41mERROR\u001b[0m     model.fit(X_train,\n",
      "\u001b[34m\u001b[1mwandb\u001b[0m: \u001b[32m\u001b[41mERROR\u001b[0m   File \"C:\\anaconda3\\envs\\jupyterenv\\lib\\site-packages\\keras\\src\\utils\\traceback_utils.py\", line 70, in error_handler\n",
      "\u001b[34m\u001b[1mwandb\u001b[0m: \u001b[32m\u001b[41mERROR\u001b[0m     raise e.with_traceback(filtered_tb) from None\n",
      "\u001b[34m\u001b[1mwandb\u001b[0m: \u001b[32m\u001b[41mERROR\u001b[0m   File \"C:\\anaconda3\\envs\\jupyterenv\\lib\\site-packages\\wandb\\integration\\keras\\keras.py\", line 656, in on_train_batch_end\n",
      "\u001b[34m\u001b[1mwandb\u001b[0m: \u001b[32m\u001b[41mERROR\u001b[0m     wandb.run.summary[\"graph\"] = wandb.Graph.from_keras(self.model)\n",
      "\u001b[34m\u001b[1mwandb\u001b[0m: \u001b[32m\u001b[41mERROR\u001b[0m   File \"C:\\anaconda3\\envs\\jupyterenv\\lib\\site-packages\\wandb\\sdk\\wandb_summary.py\", line 52, in __setitem__\n",
      "\u001b[34m\u001b[1mwandb\u001b[0m: \u001b[32m\u001b[41mERROR\u001b[0m     self.update({key: val})\n",
      "\u001b[34m\u001b[1mwandb\u001b[0m: \u001b[32m\u001b[41mERROR\u001b[0m   File \"C:\\anaconda3\\envs\\jupyterenv\\lib\\site-packages\\wandb\\sdk\\wandb_summary.py\", line 74, in update\n",
      "\u001b[34m\u001b[1mwandb\u001b[0m: \u001b[32m\u001b[41mERROR\u001b[0m     self._update(record)\n",
      "\u001b[34m\u001b[1mwandb\u001b[0m: \u001b[32m\u001b[41mERROR\u001b[0m   File \"C:\\anaconda3\\envs\\jupyterenv\\lib\\site-packages\\wandb\\sdk\\wandb_summary.py\", line 128, in _update\n",
      "\u001b[34m\u001b[1mwandb\u001b[0m: \u001b[32m\u001b[41mERROR\u001b[0m     self._update_callback(record)\n",
      "\u001b[34m\u001b[1mwandb\u001b[0m: \u001b[32m\u001b[41mERROR\u001b[0m   File \"C:\\anaconda3\\envs\\jupyterenv\\lib\\site-packages\\wandb\\sdk\\wandb_run.py\", line 400, in wrapper_fn\n",
      "\u001b[34m\u001b[1mwandb\u001b[0m: \u001b[32m\u001b[41mERROR\u001b[0m     return func(self, *args, **kwargs)\n",
      "\u001b[34m\u001b[1mwandb\u001b[0m: \u001b[32m\u001b[41mERROR\u001b[0m   File \"C:\\anaconda3\\envs\\jupyterenv\\lib\\site-packages\\wandb\\sdk\\wandb_run.py\", line 1424, in _summary_update_callback\n",
      "\u001b[34m\u001b[1mwandb\u001b[0m: \u001b[32m\u001b[41mERROR\u001b[0m     self._backend.interface.publish_summary(summary_record)\n",
      "\u001b[34m\u001b[1mwandb\u001b[0m: \u001b[32m\u001b[41mERROR\u001b[0m   File \"C:\\anaconda3\\envs\\jupyterenv\\lib\\site-packages\\wandb\\sdk\\interface\\interface.py\", line 270, in publish_summary\n",
      "\u001b[34m\u001b[1mwandb\u001b[0m: \u001b[32m\u001b[41mERROR\u001b[0m     pb_summary_record = self._make_summary(summary_record)\n",
      "\u001b[34m\u001b[1mwandb\u001b[0m: \u001b[32m\u001b[41mERROR\u001b[0m   File \"C:\\anaconda3\\envs\\jupyterenv\\lib\\site-packages\\wandb\\sdk\\interface\\interface.py\", line 248, in _make_summary\n",
      "\u001b[34m\u001b[1mwandb\u001b[0m: \u001b[32m\u001b[41mERROR\u001b[0m     json_value = self._summary_encode(item.value, path_from_root)\n",
      "\u001b[34m\u001b[1mwandb\u001b[0m: \u001b[32m\u001b[41mERROR\u001b[0m   File \"C:\\anaconda3\\envs\\jupyterenv\\lib\\site-packages\\wandb\\sdk\\interface\\interface.py\", line 221, in _summary_encode\n",
      "\u001b[34m\u001b[1mwandb\u001b[0m: \u001b[32m\u001b[41mERROR\u001b[0m     val_to_json(self._run, path_from_root, value, namespace=\"summary\")\n",
      "\u001b[34m\u001b[1mwandb\u001b[0m: \u001b[32m\u001b[41mERROR\u001b[0m   File \"C:\\anaconda3\\envs\\jupyterenv\\lib\\site-packages\\wandb\\sdk\\data_types\\utils.py\", line 164, in val_to_json\n",
      "\u001b[34m\u001b[1mwandb\u001b[0m: \u001b[32m\u001b[41mERROR\u001b[0m     val.bind_to_run(run, key, namespace)\n",
      "\u001b[34m\u001b[1mwandb\u001b[0m: \u001b[32m\u001b[41mERROR\u001b[0m   File \"C:\\anaconda3\\envs\\jupyterenv\\lib\\site-packages\\wandb\\data_types.py\", line 1377, in bind_to_run\n",
      "\u001b[34m\u001b[1mwandb\u001b[0m: \u001b[32m\u001b[41mERROR\u001b[0m     with codecs.open(tmp_path, \"w\", encoding=\"utf-8\") as fp:\n",
      "\u001b[34m\u001b[1mwandb\u001b[0m: \u001b[32m\u001b[41mERROR\u001b[0m   File \"C:\\anaconda3\\envs\\jupyterenv\\lib\\codecs.py\", line 906, in open\n",
      "\u001b[34m\u001b[1mwandb\u001b[0m: \u001b[32m\u001b[41mERROR\u001b[0m     file = builtins.open(filename, mode, buffering)\n",
      "\u001b[34m\u001b[1mwandb\u001b[0m: \u001b[32m\u001b[41mERROR\u001b[0m FileNotFoundError: [Errno 2] No such file or directory: 'C:\\\\Users\\\\Addisu\\\\AppData\\\\Local\\\\Temp\\\\tmpbie7lvyxwandb-media\\\\tuvv4f7b.graph.json'\n",
      "\u001b[34m\u001b[1mwandb\u001b[0m: \u001b[32m\u001b[41mERROR\u001b[0m \n",
      "\u001b[34m\u001b[1mwandb\u001b[0m: Agent Starting Run: a05jk9pu with config:\n",
      "\u001b[34m\u001b[1mwandb\u001b[0m: \tbatch_size: 120\n",
      "\u001b[34m\u001b[1mwandb\u001b[0m: \tdense_activation: sigmoid\n",
      "\u001b[34m\u001b[1mwandb\u001b[0m: \tdropout: 0.2\n",
      "\u001b[34m\u001b[1mwandb\u001b[0m: \tepochs: 1\n",
      "\u001b[34m\u001b[1mwandb\u001b[0m: \tlearning_rate: 0.008262620927415044\n",
      "\u001b[34m\u001b[1mwandb\u001b[0m: \toptimizer: adam\n"
     ]
    },
    {
     "data": {
      "text/html": [
       "wandb version 0.17.2 is available!  To upgrade, please run:\n",
       " $ pip install wandb --upgrade"
      ],
      "text/plain": [
       "<IPython.core.display.HTML object>"
      ]
     },
     "metadata": {},
     "output_type": "display_data"
    },
    {
     "data": {
      "text/html": [
       "Tracking run with wandb version 0.17.0"
      ],
      "text/plain": [
       "<IPython.core.display.HTML object>"
      ]
     },
     "metadata": {},
     "output_type": "display_data"
    },
    {
     "data": {
      "text/html": [
       "Run data is saved locally in <code>C:\\Users\\Addisu\\Desktop\\kidi files\\Python workshop with ellen\\wandb\\run-20240621_154255-a05jk9pu</code>"
      ],
      "text/plain": [
       "<IPython.core.display.HTML object>"
      ]
     },
     "metadata": {},
     "output_type": "display_data"
    },
    {
     "data": {
      "text/html": [
       "Syncing run <strong><a href='https://wandb.ai/evapppp/sweeps-keras/runs/a05jk9pu' target=\"_blank\">laced-sweep-23</a></strong> to <a href='https://wandb.ai/evapppp/sweeps-keras' target=\"_blank\">Weights & Biases</a> (<a href='https://wandb.me/run' target=\"_blank\">docs</a>)<br/>Sweep page: <a href='https://wandb.ai/evapppp/sweeps-keras/sweeps/qu378scj' target=\"_blank\">https://wandb.ai/evapppp/sweeps-keras/sweeps/qu378scj</a>"
      ],
      "text/plain": [
       "<IPython.core.display.HTML object>"
      ]
     },
     "metadata": {},
     "output_type": "display_data"
    },
    {
     "data": {
      "text/html": [
       " View project at <a href='https://wandb.ai/evapppp/sweeps-keras' target=\"_blank\">https://wandb.ai/evapppp/sweeps-keras</a>"
      ],
      "text/plain": [
       "<IPython.core.display.HTML object>"
      ]
     },
     "metadata": {},
     "output_type": "display_data"
    },
    {
     "data": {
      "text/html": [
       " View sweep at <a href='https://wandb.ai/evapppp/sweeps-keras/sweeps/qu378scj' target=\"_blank\">https://wandb.ai/evapppp/sweeps-keras/sweeps/qu378scj</a>"
      ],
      "text/plain": [
       "<IPython.core.display.HTML object>"
      ]
     },
     "metadata": {},
     "output_type": "display_data"
    },
    {
     "data": {
      "text/html": [
       " View run at <a href='https://wandb.ai/evapppp/sweeps-keras/runs/a05jk9pu' target=\"_blank\">https://wandb.ai/evapppp/sweeps-keras/runs/a05jk9pu</a>"
      ],
      "text/plain": [
       "<IPython.core.display.HTML object>"
      ]
     },
     "metadata": {},
     "output_type": "display_data"
    },
    {
     "name": "stderr",
     "output_type": "stream",
     "text": [
      "Traceback (most recent call last):\n",
      "  File \"C:\\Users\\Addisu\\AppData\\Local\\Temp\\ipykernel_74596\\2644847777.py\", line 221, in sweep_train\n",
      "    train(model,\n",
      "  File \"C:\\Users\\Addisu\\AppData\\Local\\Temp\\ipykernel_74596\\2644847777.py\", line 151, in train\n",
      "    model.fit(X_train,\n",
      "  File \"C:\\anaconda3\\envs\\jupyterenv\\lib\\site-packages\\keras\\src\\utils\\traceback_utils.py\", line 70, in error_handler\n",
      "    raise e.with_traceback(filtered_tb) from None\n",
      "  File \"C:\\anaconda3\\envs\\jupyterenv\\lib\\site-packages\\wandb\\integration\\keras\\keras.py\", line 656, in on_train_batch_end\n",
      "    wandb.run.summary[\"graph\"] = wandb.Graph.from_keras(self.model)\n",
      "  File \"C:\\anaconda3\\envs\\jupyterenv\\lib\\site-packages\\wandb\\sdk\\wandb_summary.py\", line 52, in __setitem__\n",
      "    self.update({key: val})\n",
      "  File \"C:\\anaconda3\\envs\\jupyterenv\\lib\\site-packages\\wandb\\sdk\\wandb_summary.py\", line 74, in update\n",
      "    self._update(record)\n",
      "  File \"C:\\anaconda3\\envs\\jupyterenv\\lib\\site-packages\\wandb\\sdk\\wandb_summary.py\", line 128, in _update\n",
      "    self._update_callback(record)\n",
      "  File \"C:\\anaconda3\\envs\\jupyterenv\\lib\\site-packages\\wandb\\sdk\\wandb_run.py\", line 400, in wrapper_fn\n",
      "    return func(self, *args, **kwargs)\n",
      "  File \"C:\\anaconda3\\envs\\jupyterenv\\lib\\site-packages\\wandb\\sdk\\wandb_run.py\", line 1424, in _summary_update_callback\n",
      "    self._backend.interface.publish_summary(summary_record)\n",
      "  File \"C:\\anaconda3\\envs\\jupyterenv\\lib\\site-packages\\wandb\\sdk\\interface\\interface.py\", line 270, in publish_summary\n",
      "    pb_summary_record = self._make_summary(summary_record)\n",
      "  File \"C:\\anaconda3\\envs\\jupyterenv\\lib\\site-packages\\wandb\\sdk\\interface\\interface.py\", line 248, in _make_summary\n",
      "    json_value = self._summary_encode(item.value, path_from_root)\n",
      "  File \"C:\\anaconda3\\envs\\jupyterenv\\lib\\site-packages\\wandb\\sdk\\interface\\interface.py\", line 221, in _summary_encode\n",
      "    val_to_json(self._run, path_from_root, value, namespace=\"summary\")\n",
      "  File \"C:\\anaconda3\\envs\\jupyterenv\\lib\\site-packages\\wandb\\sdk\\data_types\\utils.py\", line 164, in val_to_json\n",
      "    val.bind_to_run(run, key, namespace)\n",
      "  File \"C:\\anaconda3\\envs\\jupyterenv\\lib\\site-packages\\wandb\\data_types.py\", line 1377, in bind_to_run\n",
      "    with codecs.open(tmp_path, \"w\", encoding=\"utf-8\") as fp:\n",
      "  File \"C:\\anaconda3\\envs\\jupyterenv\\lib\\codecs.py\", line 906, in open\n",
      "    file = builtins.open(filename, mode, buffering)\n",
      "FileNotFoundError: [Errno 2] No such file or directory: 'C:\\\\Users\\\\Addisu\\\\AppData\\\\Local\\\\Temp\\\\tmpbie7lvyxwandb-media\\\\qgtima1s.graph.json'\n"
     ]
    },
    {
     "data": {
      "text/html": [
       " View run <strong style=\"color:#cdcd00\">laced-sweep-23</strong> at: <a href='https://wandb.ai/evapppp/sweeps-keras/runs/a05jk9pu' target=\"_blank\">https://wandb.ai/evapppp/sweeps-keras/runs/a05jk9pu</a><br/> View project at: <a href='https://wandb.ai/evapppp/sweeps-keras' target=\"_blank\">https://wandb.ai/evapppp/sweeps-keras</a><br/>Synced 5 W&B file(s), 0 media file(s), 0 artifact file(s) and 0 other file(s)"
      ],
      "text/plain": [
       "<IPython.core.display.HTML object>"
      ]
     },
     "metadata": {},
     "output_type": "display_data"
    },
    {
     "data": {
      "text/html": [
       "Find logs at: <code>.\\wandb\\run-20240621_154255-a05jk9pu\\logs</code>"
      ],
      "text/plain": [
       "<IPython.core.display.HTML object>"
      ]
     },
     "metadata": {},
     "output_type": "display_data"
    },
    {
     "name": "stderr",
     "output_type": "stream",
     "text": [
      "Run a05jk9pu errored:\n",
      "Traceback (most recent call last):\n",
      "  File \"C:\\anaconda3\\envs\\jupyterenv\\lib\\site-packages\\wandb\\agents\\pyagent.py\", line 307, in _run_job\n",
      "    self._function()\n",
      "  File \"C:\\Users\\Addisu\\AppData\\Local\\Temp\\ipykernel_74596\\2644847777.py\", line 221, in sweep_train\n",
      "    train(model,\n",
      "  File \"C:\\Users\\Addisu\\AppData\\Local\\Temp\\ipykernel_74596\\2644847777.py\", line 151, in train\n",
      "    model.fit(X_train,\n",
      "  File \"C:\\anaconda3\\envs\\jupyterenv\\lib\\site-packages\\keras\\src\\utils\\traceback_utils.py\", line 70, in error_handler\n",
      "    raise e.with_traceback(filtered_tb) from None\n",
      "  File \"C:\\anaconda3\\envs\\jupyterenv\\lib\\site-packages\\wandb\\integration\\keras\\keras.py\", line 656, in on_train_batch_end\n",
      "    wandb.run.summary[\"graph\"] = wandb.Graph.from_keras(self.model)\n",
      "  File \"C:\\anaconda3\\envs\\jupyterenv\\lib\\site-packages\\wandb\\sdk\\wandb_summary.py\", line 52, in __setitem__\n",
      "    self.update({key: val})\n",
      "  File \"C:\\anaconda3\\envs\\jupyterenv\\lib\\site-packages\\wandb\\sdk\\wandb_summary.py\", line 74, in update\n",
      "    self._update(record)\n",
      "  File \"C:\\anaconda3\\envs\\jupyterenv\\lib\\site-packages\\wandb\\sdk\\wandb_summary.py\", line 128, in _update\n",
      "    self._update_callback(record)\n",
      "  File \"C:\\anaconda3\\envs\\jupyterenv\\lib\\site-packages\\wandb\\sdk\\wandb_run.py\", line 400, in wrapper_fn\n",
      "    return func(self, *args, **kwargs)\n",
      "  File \"C:\\anaconda3\\envs\\jupyterenv\\lib\\site-packages\\wandb\\sdk\\wandb_run.py\", line 1424, in _summary_update_callback\n",
      "    self._backend.interface.publish_summary(summary_record)\n",
      "  File \"C:\\anaconda3\\envs\\jupyterenv\\lib\\site-packages\\wandb\\sdk\\interface\\interface.py\", line 270, in publish_summary\n",
      "    pb_summary_record = self._make_summary(summary_record)\n",
      "  File \"C:\\anaconda3\\envs\\jupyterenv\\lib\\site-packages\\wandb\\sdk\\interface\\interface.py\", line 248, in _make_summary\n",
      "    json_value = self._summary_encode(item.value, path_from_root)\n",
      "  File \"C:\\anaconda3\\envs\\jupyterenv\\lib\\site-packages\\wandb\\sdk\\interface\\interface.py\", line 221, in _summary_encode\n",
      "    val_to_json(self._run, path_from_root, value, namespace=\"summary\")\n",
      "  File \"C:\\anaconda3\\envs\\jupyterenv\\lib\\site-packages\\wandb\\sdk\\data_types\\utils.py\", line 164, in val_to_json\n",
      "    val.bind_to_run(run, key, namespace)\n",
      "  File \"C:\\anaconda3\\envs\\jupyterenv\\lib\\site-packages\\wandb\\data_types.py\", line 1377, in bind_to_run\n",
      "    with codecs.open(tmp_path, \"w\", encoding=\"utf-8\") as fp:\n",
      "  File \"C:\\anaconda3\\envs\\jupyterenv\\lib\\codecs.py\", line 906, in open\n",
      "    file = builtins.open(filename, mode, buffering)\n",
      "FileNotFoundError: [Errno 2] No such file or directory: 'C:\\\\Users\\\\Addisu\\\\AppData\\\\Local\\\\Temp\\\\tmpbie7lvyxwandb-media\\\\qgtima1s.graph.json'\n",
      "\n",
      "\u001b[34m\u001b[1mwandb\u001b[0m: \u001b[32m\u001b[41mERROR\u001b[0m Run a05jk9pu errored:\n",
      "\u001b[34m\u001b[1mwandb\u001b[0m: \u001b[32m\u001b[41mERROR\u001b[0m Traceback (most recent call last):\n",
      "\u001b[34m\u001b[1mwandb\u001b[0m: \u001b[32m\u001b[41mERROR\u001b[0m   File \"C:\\anaconda3\\envs\\jupyterenv\\lib\\site-packages\\wandb\\agents\\pyagent.py\", line 307, in _run_job\n",
      "\u001b[34m\u001b[1mwandb\u001b[0m: \u001b[32m\u001b[41mERROR\u001b[0m     self._function()\n",
      "\u001b[34m\u001b[1mwandb\u001b[0m: \u001b[32m\u001b[41mERROR\u001b[0m   File \"C:\\Users\\Addisu\\AppData\\Local\\Temp\\ipykernel_74596\\2644847777.py\", line 221, in sweep_train\n",
      "\u001b[34m\u001b[1mwandb\u001b[0m: \u001b[32m\u001b[41mERROR\u001b[0m     train(model,\n",
      "\u001b[34m\u001b[1mwandb\u001b[0m: \u001b[32m\u001b[41mERROR\u001b[0m   File \"C:\\Users\\Addisu\\AppData\\Local\\Temp\\ipykernel_74596\\2644847777.py\", line 151, in train\n",
      "\u001b[34m\u001b[1mwandb\u001b[0m: \u001b[32m\u001b[41mERROR\u001b[0m     model.fit(X_train,\n",
      "\u001b[34m\u001b[1mwandb\u001b[0m: \u001b[32m\u001b[41mERROR\u001b[0m   File \"C:\\anaconda3\\envs\\jupyterenv\\lib\\site-packages\\keras\\src\\utils\\traceback_utils.py\", line 70, in error_handler\n",
      "\u001b[34m\u001b[1mwandb\u001b[0m: \u001b[32m\u001b[41mERROR\u001b[0m     raise e.with_traceback(filtered_tb) from None\n",
      "\u001b[34m\u001b[1mwandb\u001b[0m: \u001b[32m\u001b[41mERROR\u001b[0m   File \"C:\\anaconda3\\envs\\jupyterenv\\lib\\site-packages\\wandb\\integration\\keras\\keras.py\", line 656, in on_train_batch_end\n",
      "\u001b[34m\u001b[1mwandb\u001b[0m: \u001b[32m\u001b[41mERROR\u001b[0m     wandb.run.summary[\"graph\"] = wandb.Graph.from_keras(self.model)\n",
      "\u001b[34m\u001b[1mwandb\u001b[0m: \u001b[32m\u001b[41mERROR\u001b[0m   File \"C:\\anaconda3\\envs\\jupyterenv\\lib\\site-packages\\wandb\\sdk\\wandb_summary.py\", line 52, in __setitem__\n",
      "\u001b[34m\u001b[1mwandb\u001b[0m: \u001b[32m\u001b[41mERROR\u001b[0m     self.update({key: val})\n",
      "\u001b[34m\u001b[1mwandb\u001b[0m: \u001b[32m\u001b[41mERROR\u001b[0m   File \"C:\\anaconda3\\envs\\jupyterenv\\lib\\site-packages\\wandb\\sdk\\wandb_summary.py\", line 74, in update\n",
      "\u001b[34m\u001b[1mwandb\u001b[0m: \u001b[32m\u001b[41mERROR\u001b[0m     self._update(record)\n",
      "\u001b[34m\u001b[1mwandb\u001b[0m: \u001b[32m\u001b[41mERROR\u001b[0m   File \"C:\\anaconda3\\envs\\jupyterenv\\lib\\site-packages\\wandb\\sdk\\wandb_summary.py\", line 128, in _update\n",
      "\u001b[34m\u001b[1mwandb\u001b[0m: \u001b[32m\u001b[41mERROR\u001b[0m     self._update_callback(record)\n",
      "\u001b[34m\u001b[1mwandb\u001b[0m: \u001b[32m\u001b[41mERROR\u001b[0m   File \"C:\\anaconda3\\envs\\jupyterenv\\lib\\site-packages\\wandb\\sdk\\wandb_run.py\", line 400, in wrapper_fn\n",
      "\u001b[34m\u001b[1mwandb\u001b[0m: \u001b[32m\u001b[41mERROR\u001b[0m     return func(self, *args, **kwargs)\n",
      "\u001b[34m\u001b[1mwandb\u001b[0m: \u001b[32m\u001b[41mERROR\u001b[0m   File \"C:\\anaconda3\\envs\\jupyterenv\\lib\\site-packages\\wandb\\sdk\\wandb_run.py\", line 1424, in _summary_update_callback\n",
      "\u001b[34m\u001b[1mwandb\u001b[0m: \u001b[32m\u001b[41mERROR\u001b[0m     self._backend.interface.publish_summary(summary_record)\n",
      "\u001b[34m\u001b[1mwandb\u001b[0m: \u001b[32m\u001b[41mERROR\u001b[0m   File \"C:\\anaconda3\\envs\\jupyterenv\\lib\\site-packages\\wandb\\sdk\\interface\\interface.py\", line 270, in publish_summary\n",
      "\u001b[34m\u001b[1mwandb\u001b[0m: \u001b[32m\u001b[41mERROR\u001b[0m     pb_summary_record = self._make_summary(summary_record)\n",
      "\u001b[34m\u001b[1mwandb\u001b[0m: \u001b[32m\u001b[41mERROR\u001b[0m   File \"C:\\anaconda3\\envs\\jupyterenv\\lib\\site-packages\\wandb\\sdk\\interface\\interface.py\", line 248, in _make_summary\n",
      "\u001b[34m\u001b[1mwandb\u001b[0m: \u001b[32m\u001b[41mERROR\u001b[0m     json_value = self._summary_encode(item.value, path_from_root)\n",
      "\u001b[34m\u001b[1mwandb\u001b[0m: \u001b[32m\u001b[41mERROR\u001b[0m   File \"C:\\anaconda3\\envs\\jupyterenv\\lib\\site-packages\\wandb\\sdk\\interface\\interface.py\", line 221, in _summary_encode\n",
      "\u001b[34m\u001b[1mwandb\u001b[0m: \u001b[32m\u001b[41mERROR\u001b[0m     val_to_json(self._run, path_from_root, value, namespace=\"summary\")\n",
      "\u001b[34m\u001b[1mwandb\u001b[0m: \u001b[32m\u001b[41mERROR\u001b[0m   File \"C:\\anaconda3\\envs\\jupyterenv\\lib\\site-packages\\wandb\\sdk\\data_types\\utils.py\", line 164, in val_to_json\n",
      "\u001b[34m\u001b[1mwandb\u001b[0m: \u001b[32m\u001b[41mERROR\u001b[0m     val.bind_to_run(run, key, namespace)\n",
      "\u001b[34m\u001b[1mwandb\u001b[0m: \u001b[32m\u001b[41mERROR\u001b[0m   File \"C:\\anaconda3\\envs\\jupyterenv\\lib\\site-packages\\wandb\\data_types.py\", line 1377, in bind_to_run\n",
      "\u001b[34m\u001b[1mwandb\u001b[0m: \u001b[32m\u001b[41mERROR\u001b[0m     with codecs.open(tmp_path, \"w\", encoding=\"utf-8\") as fp:\n",
      "\u001b[34m\u001b[1mwandb\u001b[0m: \u001b[32m\u001b[41mERROR\u001b[0m   File \"C:\\anaconda3\\envs\\jupyterenv\\lib\\codecs.py\", line 906, in open\n",
      "\u001b[34m\u001b[1mwandb\u001b[0m: \u001b[32m\u001b[41mERROR\u001b[0m     file = builtins.open(filename, mode, buffering)\n",
      "\u001b[34m\u001b[1mwandb\u001b[0m: \u001b[32m\u001b[41mERROR\u001b[0m FileNotFoundError: [Errno 2] No such file or directory: 'C:\\\\Users\\\\Addisu\\\\AppData\\\\Local\\\\Temp\\\\tmpbie7lvyxwandb-media\\\\qgtima1s.graph.json'\n",
      "\u001b[34m\u001b[1mwandb\u001b[0m: \u001b[32m\u001b[41mERROR\u001b[0m \n",
      "\u001b[34m\u001b[1mwandb\u001b[0m: Agent Starting Run: cc47nuvv with config:\n",
      "\u001b[34m\u001b[1mwandb\u001b[0m: \tbatch_size: 32\n",
      "\u001b[34m\u001b[1mwandb\u001b[0m: \tdense_activation: sigmoid\n",
      "\u001b[34m\u001b[1mwandb\u001b[0m: \tdropout: 0.3\n",
      "\u001b[34m\u001b[1mwandb\u001b[0m: \tepochs: 1\n",
      "\u001b[34m\u001b[1mwandb\u001b[0m: \tlearning_rate: 0.007061529207055823\n",
      "\u001b[34m\u001b[1mwandb\u001b[0m: \toptimizer: sgd\n"
     ]
    },
    {
     "data": {
      "text/html": [
       "Tracking run with wandb version 0.17.0"
      ],
      "text/plain": [
       "<IPython.core.display.HTML object>"
      ]
     },
     "metadata": {},
     "output_type": "display_data"
    },
    {
     "data": {
      "text/html": [
       "Run data is saved locally in <code>C:\\Users\\Addisu\\Desktop\\kidi files\\Python workshop with ellen\\wandb\\run-20240621_154322-cc47nuvv</code>"
      ],
      "text/plain": [
       "<IPython.core.display.HTML object>"
      ]
     },
     "metadata": {},
     "output_type": "display_data"
    },
    {
     "data": {
      "text/html": [
       "Syncing run <strong><a href='https://wandb.ai/evapppp/sweeps-keras/runs/cc47nuvv' target=\"_blank\">visionary-sweep-24</a></strong> to <a href='https://wandb.ai/evapppp/sweeps-keras' target=\"_blank\">Weights & Biases</a> (<a href='https://wandb.me/run' target=\"_blank\">docs</a>)<br/>Sweep page: <a href='https://wandb.ai/evapppp/sweeps-keras/sweeps/qu378scj' target=\"_blank\">https://wandb.ai/evapppp/sweeps-keras/sweeps/qu378scj</a>"
      ],
      "text/plain": [
       "<IPython.core.display.HTML object>"
      ]
     },
     "metadata": {},
     "output_type": "display_data"
    },
    {
     "data": {
      "text/html": [
       " View project at <a href='https://wandb.ai/evapppp/sweeps-keras' target=\"_blank\">https://wandb.ai/evapppp/sweeps-keras</a>"
      ],
      "text/plain": [
       "<IPython.core.display.HTML object>"
      ]
     },
     "metadata": {},
     "output_type": "display_data"
    },
    {
     "data": {
      "text/html": [
       " View sweep at <a href='https://wandb.ai/evapppp/sweeps-keras/sweeps/qu378scj' target=\"_blank\">https://wandb.ai/evapppp/sweeps-keras/sweeps/qu378scj</a>"
      ],
      "text/plain": [
       "<IPython.core.display.HTML object>"
      ]
     },
     "metadata": {},
     "output_type": "display_data"
    },
    {
     "data": {
      "text/html": [
       " View run at <a href='https://wandb.ai/evapppp/sweeps-keras/runs/cc47nuvv' target=\"_blank\">https://wandb.ai/evapppp/sweeps-keras/runs/cc47nuvv</a>"
      ],
      "text/plain": [
       "<IPython.core.display.HTML object>"
      ]
     },
     "metadata": {},
     "output_type": "display_data"
    },
    {
     "name": "stderr",
     "output_type": "stream",
     "text": [
      "Traceback (most recent call last):\n",
      "  File \"C:\\Users\\Addisu\\AppData\\Local\\Temp\\ipykernel_74596\\2644847777.py\", line 221, in sweep_train\n",
      "    train(model,\n",
      "  File \"C:\\Users\\Addisu\\AppData\\Local\\Temp\\ipykernel_74596\\2644847777.py\", line 151, in train\n",
      "    model.fit(X_train,\n",
      "  File \"C:\\anaconda3\\envs\\jupyterenv\\lib\\site-packages\\keras\\src\\utils\\traceback_utils.py\", line 70, in error_handler\n",
      "    raise e.with_traceback(filtered_tb) from None\n",
      "  File \"C:\\anaconda3\\envs\\jupyterenv\\lib\\site-packages\\wandb\\integration\\keras\\keras.py\", line 656, in on_train_batch_end\n",
      "    wandb.run.summary[\"graph\"] = wandb.Graph.from_keras(self.model)\n",
      "  File \"C:\\anaconda3\\envs\\jupyterenv\\lib\\site-packages\\wandb\\sdk\\wandb_summary.py\", line 52, in __setitem__\n",
      "    self.update({key: val})\n",
      "  File \"C:\\anaconda3\\envs\\jupyterenv\\lib\\site-packages\\wandb\\sdk\\wandb_summary.py\", line 74, in update\n",
      "    self._update(record)\n",
      "  File \"C:\\anaconda3\\envs\\jupyterenv\\lib\\site-packages\\wandb\\sdk\\wandb_summary.py\", line 128, in _update\n",
      "    self._update_callback(record)\n",
      "  File \"C:\\anaconda3\\envs\\jupyterenv\\lib\\site-packages\\wandb\\sdk\\wandb_run.py\", line 400, in wrapper_fn\n",
      "    return func(self, *args, **kwargs)\n",
      "  File \"C:\\anaconda3\\envs\\jupyterenv\\lib\\site-packages\\wandb\\sdk\\wandb_run.py\", line 1424, in _summary_update_callback\n",
      "    self._backend.interface.publish_summary(summary_record)\n",
      "  File \"C:\\anaconda3\\envs\\jupyterenv\\lib\\site-packages\\wandb\\sdk\\interface\\interface.py\", line 270, in publish_summary\n",
      "    pb_summary_record = self._make_summary(summary_record)\n",
      "  File \"C:\\anaconda3\\envs\\jupyterenv\\lib\\site-packages\\wandb\\sdk\\interface\\interface.py\", line 248, in _make_summary\n",
      "    json_value = self._summary_encode(item.value, path_from_root)\n",
      "  File \"C:\\anaconda3\\envs\\jupyterenv\\lib\\site-packages\\wandb\\sdk\\interface\\interface.py\", line 221, in _summary_encode\n",
      "    val_to_json(self._run, path_from_root, value, namespace=\"summary\")\n",
      "  File \"C:\\anaconda3\\envs\\jupyterenv\\lib\\site-packages\\wandb\\sdk\\data_types\\utils.py\", line 164, in val_to_json\n",
      "    val.bind_to_run(run, key, namespace)\n",
      "  File \"C:\\anaconda3\\envs\\jupyterenv\\lib\\site-packages\\wandb\\data_types.py\", line 1377, in bind_to_run\n",
      "    with codecs.open(tmp_path, \"w\", encoding=\"utf-8\") as fp:\n",
      "  File \"C:\\anaconda3\\envs\\jupyterenv\\lib\\codecs.py\", line 906, in open\n",
      "    file = builtins.open(filename, mode, buffering)\n",
      "FileNotFoundError: [Errno 2] No such file or directory: 'C:\\\\Users\\\\Addisu\\\\AppData\\\\Local\\\\Temp\\\\tmpbie7lvyxwandb-media\\\\mz4vl4ym.graph.json'\n"
     ]
    },
    {
     "data": {
      "text/html": [
       " View run <strong style=\"color:#cdcd00\">visionary-sweep-24</strong> at: <a href='https://wandb.ai/evapppp/sweeps-keras/runs/cc47nuvv' target=\"_blank\">https://wandb.ai/evapppp/sweeps-keras/runs/cc47nuvv</a><br/> View project at: <a href='https://wandb.ai/evapppp/sweeps-keras' target=\"_blank\">https://wandb.ai/evapppp/sweeps-keras</a><br/>Synced 5 W&B file(s), 0 media file(s), 0 artifact file(s) and 0 other file(s)"
      ],
      "text/plain": [
       "<IPython.core.display.HTML object>"
      ]
     },
     "metadata": {},
     "output_type": "display_data"
    },
    {
     "data": {
      "text/html": [
       "Find logs at: <code>.\\wandb\\run-20240621_154322-cc47nuvv\\logs</code>"
      ],
      "text/plain": [
       "<IPython.core.display.HTML object>"
      ]
     },
     "metadata": {},
     "output_type": "display_data"
    },
    {
     "name": "stderr",
     "output_type": "stream",
     "text": [
      "Run cc47nuvv errored:\n",
      "Traceback (most recent call last):\n",
      "  File \"C:\\anaconda3\\envs\\jupyterenv\\lib\\site-packages\\wandb\\agents\\pyagent.py\", line 307, in _run_job\n",
      "    self._function()\n",
      "  File \"C:\\Users\\Addisu\\AppData\\Local\\Temp\\ipykernel_74596\\2644847777.py\", line 221, in sweep_train\n",
      "    train(model,\n",
      "  File \"C:\\Users\\Addisu\\AppData\\Local\\Temp\\ipykernel_74596\\2644847777.py\", line 151, in train\n",
      "    model.fit(X_train,\n",
      "  File \"C:\\anaconda3\\envs\\jupyterenv\\lib\\site-packages\\keras\\src\\utils\\traceback_utils.py\", line 70, in error_handler\n",
      "    raise e.with_traceback(filtered_tb) from None\n",
      "  File \"C:\\anaconda3\\envs\\jupyterenv\\lib\\site-packages\\wandb\\integration\\keras\\keras.py\", line 656, in on_train_batch_end\n",
      "    wandb.run.summary[\"graph\"] = wandb.Graph.from_keras(self.model)\n",
      "  File \"C:\\anaconda3\\envs\\jupyterenv\\lib\\site-packages\\wandb\\sdk\\wandb_summary.py\", line 52, in __setitem__\n",
      "    self.update({key: val})\n",
      "  File \"C:\\anaconda3\\envs\\jupyterenv\\lib\\site-packages\\wandb\\sdk\\wandb_summary.py\", line 74, in update\n",
      "    self._update(record)\n",
      "  File \"C:\\anaconda3\\envs\\jupyterenv\\lib\\site-packages\\wandb\\sdk\\wandb_summary.py\", line 128, in _update\n",
      "    self._update_callback(record)\n",
      "  File \"C:\\anaconda3\\envs\\jupyterenv\\lib\\site-packages\\wandb\\sdk\\wandb_run.py\", line 400, in wrapper_fn\n",
      "    return func(self, *args, **kwargs)\n",
      "  File \"C:\\anaconda3\\envs\\jupyterenv\\lib\\site-packages\\wandb\\sdk\\wandb_run.py\", line 1424, in _summary_update_callback\n",
      "    self._backend.interface.publish_summary(summary_record)\n",
      "  File \"C:\\anaconda3\\envs\\jupyterenv\\lib\\site-packages\\wandb\\sdk\\interface\\interface.py\", line 270, in publish_summary\n",
      "    pb_summary_record = self._make_summary(summary_record)\n",
      "  File \"C:\\anaconda3\\envs\\jupyterenv\\lib\\site-packages\\wandb\\sdk\\interface\\interface.py\", line 248, in _make_summary\n",
      "    json_value = self._summary_encode(item.value, path_from_root)\n",
      "  File \"C:\\anaconda3\\envs\\jupyterenv\\lib\\site-packages\\wandb\\sdk\\interface\\interface.py\", line 221, in _summary_encode\n",
      "    val_to_json(self._run, path_from_root, value, namespace=\"summary\")\n",
      "  File \"C:\\anaconda3\\envs\\jupyterenv\\lib\\site-packages\\wandb\\sdk\\data_types\\utils.py\", line 164, in val_to_json\n",
      "    val.bind_to_run(run, key, namespace)\n",
      "  File \"C:\\anaconda3\\envs\\jupyterenv\\lib\\site-packages\\wandb\\data_types.py\", line 1377, in bind_to_run\n",
      "    with codecs.open(tmp_path, \"w\", encoding=\"utf-8\") as fp:\n",
      "  File \"C:\\anaconda3\\envs\\jupyterenv\\lib\\codecs.py\", line 906, in open\n",
      "    file = builtins.open(filename, mode, buffering)\n",
      "FileNotFoundError: [Errno 2] No such file or directory: 'C:\\\\Users\\\\Addisu\\\\AppData\\\\Local\\\\Temp\\\\tmpbie7lvyxwandb-media\\\\mz4vl4ym.graph.json'\n",
      "\n",
      "\u001b[34m\u001b[1mwandb\u001b[0m: \u001b[32m\u001b[41mERROR\u001b[0m Run cc47nuvv errored:\n",
      "\u001b[34m\u001b[1mwandb\u001b[0m: \u001b[32m\u001b[41mERROR\u001b[0m Traceback (most recent call last):\n",
      "\u001b[34m\u001b[1mwandb\u001b[0m: \u001b[32m\u001b[41mERROR\u001b[0m   File \"C:\\anaconda3\\envs\\jupyterenv\\lib\\site-packages\\wandb\\agents\\pyagent.py\", line 307, in _run_job\n",
      "\u001b[34m\u001b[1mwandb\u001b[0m: \u001b[32m\u001b[41mERROR\u001b[0m     self._function()\n",
      "\u001b[34m\u001b[1mwandb\u001b[0m: \u001b[32m\u001b[41mERROR\u001b[0m   File \"C:\\Users\\Addisu\\AppData\\Local\\Temp\\ipykernel_74596\\2644847777.py\", line 221, in sweep_train\n",
      "\u001b[34m\u001b[1mwandb\u001b[0m: \u001b[32m\u001b[41mERROR\u001b[0m     train(model,\n",
      "\u001b[34m\u001b[1mwandb\u001b[0m: \u001b[32m\u001b[41mERROR\u001b[0m   File \"C:\\Users\\Addisu\\AppData\\Local\\Temp\\ipykernel_74596\\2644847777.py\", line 151, in train\n",
      "\u001b[34m\u001b[1mwandb\u001b[0m: \u001b[32m\u001b[41mERROR\u001b[0m     model.fit(X_train,\n",
      "\u001b[34m\u001b[1mwandb\u001b[0m: \u001b[32m\u001b[41mERROR\u001b[0m   File \"C:\\anaconda3\\envs\\jupyterenv\\lib\\site-packages\\keras\\src\\utils\\traceback_utils.py\", line 70, in error_handler\n",
      "\u001b[34m\u001b[1mwandb\u001b[0m: \u001b[32m\u001b[41mERROR\u001b[0m     raise e.with_traceback(filtered_tb) from None\n",
      "\u001b[34m\u001b[1mwandb\u001b[0m: \u001b[32m\u001b[41mERROR\u001b[0m   File \"C:\\anaconda3\\envs\\jupyterenv\\lib\\site-packages\\wandb\\integration\\keras\\keras.py\", line 656, in on_train_batch_end\n",
      "\u001b[34m\u001b[1mwandb\u001b[0m: \u001b[32m\u001b[41mERROR\u001b[0m     wandb.run.summary[\"graph\"] = wandb.Graph.from_keras(self.model)\n",
      "\u001b[34m\u001b[1mwandb\u001b[0m: \u001b[32m\u001b[41mERROR\u001b[0m   File \"C:\\anaconda3\\envs\\jupyterenv\\lib\\site-packages\\wandb\\sdk\\wandb_summary.py\", line 52, in __setitem__\n",
      "\u001b[34m\u001b[1mwandb\u001b[0m: \u001b[32m\u001b[41mERROR\u001b[0m     self.update({key: val})\n",
      "\u001b[34m\u001b[1mwandb\u001b[0m: \u001b[32m\u001b[41mERROR\u001b[0m   File \"C:\\anaconda3\\envs\\jupyterenv\\lib\\site-packages\\wandb\\sdk\\wandb_summary.py\", line 74, in update\n",
      "\u001b[34m\u001b[1mwandb\u001b[0m: \u001b[32m\u001b[41mERROR\u001b[0m     self._update(record)\n",
      "\u001b[34m\u001b[1mwandb\u001b[0m: \u001b[32m\u001b[41mERROR\u001b[0m   File \"C:\\anaconda3\\envs\\jupyterenv\\lib\\site-packages\\wandb\\sdk\\wandb_summary.py\", line 128, in _update\n",
      "\u001b[34m\u001b[1mwandb\u001b[0m: \u001b[32m\u001b[41mERROR\u001b[0m     self._update_callback(record)\n",
      "\u001b[34m\u001b[1mwandb\u001b[0m: \u001b[32m\u001b[41mERROR\u001b[0m   File \"C:\\anaconda3\\envs\\jupyterenv\\lib\\site-packages\\wandb\\sdk\\wandb_run.py\", line 400, in wrapper_fn\n",
      "\u001b[34m\u001b[1mwandb\u001b[0m: \u001b[32m\u001b[41mERROR\u001b[0m     return func(self, *args, **kwargs)\n",
      "\u001b[34m\u001b[1mwandb\u001b[0m: \u001b[32m\u001b[41mERROR\u001b[0m   File \"C:\\anaconda3\\envs\\jupyterenv\\lib\\site-packages\\wandb\\sdk\\wandb_run.py\", line 1424, in _summary_update_callback\n",
      "\u001b[34m\u001b[1mwandb\u001b[0m: \u001b[32m\u001b[41mERROR\u001b[0m     self._backend.interface.publish_summary(summary_record)\n",
      "\u001b[34m\u001b[1mwandb\u001b[0m: \u001b[32m\u001b[41mERROR\u001b[0m   File \"C:\\anaconda3\\envs\\jupyterenv\\lib\\site-packages\\wandb\\sdk\\interface\\interface.py\", line 270, in publish_summary\n",
      "\u001b[34m\u001b[1mwandb\u001b[0m: \u001b[32m\u001b[41mERROR\u001b[0m     pb_summary_record = self._make_summary(summary_record)\n",
      "\u001b[34m\u001b[1mwandb\u001b[0m: \u001b[32m\u001b[41mERROR\u001b[0m   File \"C:\\anaconda3\\envs\\jupyterenv\\lib\\site-packages\\wandb\\sdk\\interface\\interface.py\", line 248, in _make_summary\n",
      "\u001b[34m\u001b[1mwandb\u001b[0m: \u001b[32m\u001b[41mERROR\u001b[0m     json_value = self._summary_encode(item.value, path_from_root)\n",
      "\u001b[34m\u001b[1mwandb\u001b[0m: \u001b[32m\u001b[41mERROR\u001b[0m   File \"C:\\anaconda3\\envs\\jupyterenv\\lib\\site-packages\\wandb\\sdk\\interface\\interface.py\", line 221, in _summary_encode\n",
      "\u001b[34m\u001b[1mwandb\u001b[0m: \u001b[32m\u001b[41mERROR\u001b[0m     val_to_json(self._run, path_from_root, value, namespace=\"summary\")\n",
      "\u001b[34m\u001b[1mwandb\u001b[0m: \u001b[32m\u001b[41mERROR\u001b[0m   File \"C:\\anaconda3\\envs\\jupyterenv\\lib\\site-packages\\wandb\\sdk\\data_types\\utils.py\", line 164, in val_to_json\n",
      "\u001b[34m\u001b[1mwandb\u001b[0m: \u001b[32m\u001b[41mERROR\u001b[0m     val.bind_to_run(run, key, namespace)\n",
      "\u001b[34m\u001b[1mwandb\u001b[0m: \u001b[32m\u001b[41mERROR\u001b[0m   File \"C:\\anaconda3\\envs\\jupyterenv\\lib\\site-packages\\wandb\\data_types.py\", line 1377, in bind_to_run\n",
      "\u001b[34m\u001b[1mwandb\u001b[0m: \u001b[32m\u001b[41mERROR\u001b[0m     with codecs.open(tmp_path, \"w\", encoding=\"utf-8\") as fp:\n",
      "\u001b[34m\u001b[1mwandb\u001b[0m: \u001b[32m\u001b[41mERROR\u001b[0m   File \"C:\\anaconda3\\envs\\jupyterenv\\lib\\codecs.py\", line 906, in open\n",
      "\u001b[34m\u001b[1mwandb\u001b[0m: \u001b[32m\u001b[41mERROR\u001b[0m     file = builtins.open(filename, mode, buffering)\n",
      "\u001b[34m\u001b[1mwandb\u001b[0m: \u001b[32m\u001b[41mERROR\u001b[0m FileNotFoundError: [Errno 2] No such file or directory: 'C:\\\\Users\\\\Addisu\\\\AppData\\\\Local\\\\Temp\\\\tmpbie7lvyxwandb-media\\\\mz4vl4ym.graph.json'\n",
      "\u001b[34m\u001b[1mwandb\u001b[0m: \u001b[32m\u001b[41mERROR\u001b[0m \n",
      "\u001b[34m\u001b[1mwandb\u001b[0m: Agent Starting Run: tsqdmuv8 with config:\n",
      "\u001b[34m\u001b[1mwandb\u001b[0m: \tbatch_size: 88\n",
      "\u001b[34m\u001b[1mwandb\u001b[0m: \tdense_activation: sigmoid\n",
      "\u001b[34m\u001b[1mwandb\u001b[0m: \tdropout: 0.2\n",
      "\u001b[34m\u001b[1mwandb\u001b[0m: \tepochs: 1\n",
      "\u001b[34m\u001b[1mwandb\u001b[0m: \tlearning_rate: 0.004572571177723594\n",
      "\u001b[34m\u001b[1mwandb\u001b[0m: \toptimizer: sgd\n"
     ]
    },
    {
     "data": {
      "text/html": [
       "Tracking run with wandb version 0.17.0"
      ],
      "text/plain": [
       "<IPython.core.display.HTML object>"
      ]
     },
     "metadata": {},
     "output_type": "display_data"
    },
    {
     "data": {
      "text/html": [
       "Run data is saved locally in <code>C:\\Users\\Addisu\\Desktop\\kidi files\\Python workshop with ellen\\wandb\\run-20240621_154355-tsqdmuv8</code>"
      ],
      "text/plain": [
       "<IPython.core.display.HTML object>"
      ]
     },
     "metadata": {},
     "output_type": "display_data"
    },
    {
     "data": {
      "text/html": [
       "Syncing run <strong><a href='https://wandb.ai/evapppp/sweeps-keras/runs/tsqdmuv8' target=\"_blank\">glowing-sweep-25</a></strong> to <a href='https://wandb.ai/evapppp/sweeps-keras' target=\"_blank\">Weights & Biases</a> (<a href='https://wandb.me/run' target=\"_blank\">docs</a>)<br/>Sweep page: <a href='https://wandb.ai/evapppp/sweeps-keras/sweeps/qu378scj' target=\"_blank\">https://wandb.ai/evapppp/sweeps-keras/sweeps/qu378scj</a>"
      ],
      "text/plain": [
       "<IPython.core.display.HTML object>"
      ]
     },
     "metadata": {},
     "output_type": "display_data"
    },
    {
     "data": {
      "text/html": [
       " View project at <a href='https://wandb.ai/evapppp/sweeps-keras' target=\"_blank\">https://wandb.ai/evapppp/sweeps-keras</a>"
      ],
      "text/plain": [
       "<IPython.core.display.HTML object>"
      ]
     },
     "metadata": {},
     "output_type": "display_data"
    },
    {
     "data": {
      "text/html": [
       " View sweep at <a href='https://wandb.ai/evapppp/sweeps-keras/sweeps/qu378scj' target=\"_blank\">https://wandb.ai/evapppp/sweeps-keras/sweeps/qu378scj</a>"
      ],
      "text/plain": [
       "<IPython.core.display.HTML object>"
      ]
     },
     "metadata": {},
     "output_type": "display_data"
    },
    {
     "data": {
      "text/html": [
       " View run at <a href='https://wandb.ai/evapppp/sweeps-keras/runs/tsqdmuv8' target=\"_blank\">https://wandb.ai/evapppp/sweeps-keras/runs/tsqdmuv8</a>"
      ],
      "text/plain": [
       "<IPython.core.display.HTML object>"
      ]
     },
     "metadata": {},
     "output_type": "display_data"
    },
    {
     "name": "stderr",
     "output_type": "stream",
     "text": [
      "Traceback (most recent call last):\n",
      "  File \"C:\\Users\\Addisu\\AppData\\Local\\Temp\\ipykernel_74596\\2644847777.py\", line 221, in sweep_train\n",
      "    train(model,\n",
      "  File \"C:\\Users\\Addisu\\AppData\\Local\\Temp\\ipykernel_74596\\2644847777.py\", line 151, in train\n",
      "    model.fit(X_train,\n",
      "  File \"C:\\anaconda3\\envs\\jupyterenv\\lib\\site-packages\\keras\\src\\utils\\traceback_utils.py\", line 70, in error_handler\n",
      "    raise e.with_traceback(filtered_tb) from None\n",
      "  File \"C:\\anaconda3\\envs\\jupyterenv\\lib\\site-packages\\wandb\\integration\\keras\\keras.py\", line 656, in on_train_batch_end\n",
      "    wandb.run.summary[\"graph\"] = wandb.Graph.from_keras(self.model)\n",
      "  File \"C:\\anaconda3\\envs\\jupyterenv\\lib\\site-packages\\wandb\\sdk\\wandb_summary.py\", line 52, in __setitem__\n",
      "    self.update({key: val})\n",
      "  File \"C:\\anaconda3\\envs\\jupyterenv\\lib\\site-packages\\wandb\\sdk\\wandb_summary.py\", line 74, in update\n",
      "    self._update(record)\n",
      "  File \"C:\\anaconda3\\envs\\jupyterenv\\lib\\site-packages\\wandb\\sdk\\wandb_summary.py\", line 128, in _update\n",
      "    self._update_callback(record)\n",
      "  File \"C:\\anaconda3\\envs\\jupyterenv\\lib\\site-packages\\wandb\\sdk\\wandb_run.py\", line 400, in wrapper_fn\n",
      "    return func(self, *args, **kwargs)\n",
      "  File \"C:\\anaconda3\\envs\\jupyterenv\\lib\\site-packages\\wandb\\sdk\\wandb_run.py\", line 1424, in _summary_update_callback\n",
      "    self._backend.interface.publish_summary(summary_record)\n",
      "  File \"C:\\anaconda3\\envs\\jupyterenv\\lib\\site-packages\\wandb\\sdk\\interface\\interface.py\", line 270, in publish_summary\n",
      "    pb_summary_record = self._make_summary(summary_record)\n",
      "  File \"C:\\anaconda3\\envs\\jupyterenv\\lib\\site-packages\\wandb\\sdk\\interface\\interface.py\", line 248, in _make_summary\n",
      "    json_value = self._summary_encode(item.value, path_from_root)\n",
      "  File \"C:\\anaconda3\\envs\\jupyterenv\\lib\\site-packages\\wandb\\sdk\\interface\\interface.py\", line 221, in _summary_encode\n",
      "    val_to_json(self._run, path_from_root, value, namespace=\"summary\")\n",
      "  File \"C:\\anaconda3\\envs\\jupyterenv\\lib\\site-packages\\wandb\\sdk\\data_types\\utils.py\", line 164, in val_to_json\n",
      "    val.bind_to_run(run, key, namespace)\n",
      "  File \"C:\\anaconda3\\envs\\jupyterenv\\lib\\site-packages\\wandb\\data_types.py\", line 1377, in bind_to_run\n",
      "    with codecs.open(tmp_path, \"w\", encoding=\"utf-8\") as fp:\n",
      "  File \"C:\\anaconda3\\envs\\jupyterenv\\lib\\codecs.py\", line 906, in open\n",
      "    file = builtins.open(filename, mode, buffering)\n",
      "FileNotFoundError: [Errno 2] No such file or directory: 'C:\\\\Users\\\\Addisu\\\\AppData\\\\Local\\\\Temp\\\\tmpbie7lvyxwandb-media\\\\sctsr3tx.graph.json'\n"
     ]
    },
    {
     "data": {
      "text/html": [
       " View run <strong style=\"color:#cdcd00\">glowing-sweep-25</strong> at: <a href='https://wandb.ai/evapppp/sweeps-keras/runs/tsqdmuv8' target=\"_blank\">https://wandb.ai/evapppp/sweeps-keras/runs/tsqdmuv8</a><br/> View project at: <a href='https://wandb.ai/evapppp/sweeps-keras' target=\"_blank\">https://wandb.ai/evapppp/sweeps-keras</a><br/>Synced 5 W&B file(s), 0 media file(s), 0 artifact file(s) and 0 other file(s)"
      ],
      "text/plain": [
       "<IPython.core.display.HTML object>"
      ]
     },
     "metadata": {},
     "output_type": "display_data"
    },
    {
     "data": {
      "text/html": [
       "Find logs at: <code>.\\wandb\\run-20240621_154355-tsqdmuv8\\logs</code>"
      ],
      "text/plain": [
       "<IPython.core.display.HTML object>"
      ]
     },
     "metadata": {},
     "output_type": "display_data"
    },
    {
     "name": "stderr",
     "output_type": "stream",
     "text": [
      "Run tsqdmuv8 errored:\n",
      "Traceback (most recent call last):\n",
      "  File \"C:\\anaconda3\\envs\\jupyterenv\\lib\\site-packages\\wandb\\agents\\pyagent.py\", line 307, in _run_job\n",
      "    self._function()\n",
      "  File \"C:\\Users\\Addisu\\AppData\\Local\\Temp\\ipykernel_74596\\2644847777.py\", line 221, in sweep_train\n",
      "    train(model,\n",
      "  File \"C:\\Users\\Addisu\\AppData\\Local\\Temp\\ipykernel_74596\\2644847777.py\", line 151, in train\n",
      "    model.fit(X_train,\n",
      "  File \"C:\\anaconda3\\envs\\jupyterenv\\lib\\site-packages\\keras\\src\\utils\\traceback_utils.py\", line 70, in error_handler\n",
      "    raise e.with_traceback(filtered_tb) from None\n",
      "  File \"C:\\anaconda3\\envs\\jupyterenv\\lib\\site-packages\\wandb\\integration\\keras\\keras.py\", line 656, in on_train_batch_end\n",
      "    wandb.run.summary[\"graph\"] = wandb.Graph.from_keras(self.model)\n",
      "  File \"C:\\anaconda3\\envs\\jupyterenv\\lib\\site-packages\\wandb\\sdk\\wandb_summary.py\", line 52, in __setitem__\n",
      "    self.update({key: val})\n",
      "  File \"C:\\anaconda3\\envs\\jupyterenv\\lib\\site-packages\\wandb\\sdk\\wandb_summary.py\", line 74, in update\n",
      "    self._update(record)\n",
      "  File \"C:\\anaconda3\\envs\\jupyterenv\\lib\\site-packages\\wandb\\sdk\\wandb_summary.py\", line 128, in _update\n",
      "    self._update_callback(record)\n",
      "  File \"C:\\anaconda3\\envs\\jupyterenv\\lib\\site-packages\\wandb\\sdk\\wandb_run.py\", line 400, in wrapper_fn\n",
      "    return func(self, *args, **kwargs)\n",
      "  File \"C:\\anaconda3\\envs\\jupyterenv\\lib\\site-packages\\wandb\\sdk\\wandb_run.py\", line 1424, in _summary_update_callback\n",
      "    self._backend.interface.publish_summary(summary_record)\n",
      "  File \"C:\\anaconda3\\envs\\jupyterenv\\lib\\site-packages\\wandb\\sdk\\interface\\interface.py\", line 270, in publish_summary\n",
      "    pb_summary_record = self._make_summary(summary_record)\n",
      "  File \"C:\\anaconda3\\envs\\jupyterenv\\lib\\site-packages\\wandb\\sdk\\interface\\interface.py\", line 248, in _make_summary\n",
      "    json_value = self._summary_encode(item.value, path_from_root)\n",
      "  File \"C:\\anaconda3\\envs\\jupyterenv\\lib\\site-packages\\wandb\\sdk\\interface\\interface.py\", line 221, in _summary_encode\n",
      "    val_to_json(self._run, path_from_root, value, namespace=\"summary\")\n",
      "  File \"C:\\anaconda3\\envs\\jupyterenv\\lib\\site-packages\\wandb\\sdk\\data_types\\utils.py\", line 164, in val_to_json\n",
      "    val.bind_to_run(run, key, namespace)\n",
      "  File \"C:\\anaconda3\\envs\\jupyterenv\\lib\\site-packages\\wandb\\data_types.py\", line 1377, in bind_to_run\n",
      "    with codecs.open(tmp_path, \"w\", encoding=\"utf-8\") as fp:\n",
      "  File \"C:\\anaconda3\\envs\\jupyterenv\\lib\\codecs.py\", line 906, in open\n",
      "    file = builtins.open(filename, mode, buffering)\n",
      "FileNotFoundError: [Errno 2] No such file or directory: 'C:\\\\Users\\\\Addisu\\\\AppData\\\\Local\\\\Temp\\\\tmpbie7lvyxwandb-media\\\\sctsr3tx.graph.json'\n",
      "\n",
      "\u001b[34m\u001b[1mwandb\u001b[0m: \u001b[32m\u001b[41mERROR\u001b[0m Run tsqdmuv8 errored:\n",
      "\u001b[34m\u001b[1mwandb\u001b[0m: \u001b[32m\u001b[41mERROR\u001b[0m Traceback (most recent call last):\n",
      "\u001b[34m\u001b[1mwandb\u001b[0m: \u001b[32m\u001b[41mERROR\u001b[0m   File \"C:\\anaconda3\\envs\\jupyterenv\\lib\\site-packages\\wandb\\agents\\pyagent.py\", line 307, in _run_job\n",
      "\u001b[34m\u001b[1mwandb\u001b[0m: \u001b[32m\u001b[41mERROR\u001b[0m     self._function()\n",
      "\u001b[34m\u001b[1mwandb\u001b[0m: \u001b[32m\u001b[41mERROR\u001b[0m   File \"C:\\Users\\Addisu\\AppData\\Local\\Temp\\ipykernel_74596\\2644847777.py\", line 221, in sweep_train\n",
      "\u001b[34m\u001b[1mwandb\u001b[0m: \u001b[32m\u001b[41mERROR\u001b[0m     train(model,\n",
      "\u001b[34m\u001b[1mwandb\u001b[0m: \u001b[32m\u001b[41mERROR\u001b[0m   File \"C:\\Users\\Addisu\\AppData\\Local\\Temp\\ipykernel_74596\\2644847777.py\", line 151, in train\n",
      "\u001b[34m\u001b[1mwandb\u001b[0m: \u001b[32m\u001b[41mERROR\u001b[0m     model.fit(X_train,\n",
      "\u001b[34m\u001b[1mwandb\u001b[0m: \u001b[32m\u001b[41mERROR\u001b[0m   File \"C:\\anaconda3\\envs\\jupyterenv\\lib\\site-packages\\keras\\src\\utils\\traceback_utils.py\", line 70, in error_handler\n",
      "\u001b[34m\u001b[1mwandb\u001b[0m: \u001b[32m\u001b[41mERROR\u001b[0m     raise e.with_traceback(filtered_tb) from None\n",
      "\u001b[34m\u001b[1mwandb\u001b[0m: \u001b[32m\u001b[41mERROR\u001b[0m   File \"C:\\anaconda3\\envs\\jupyterenv\\lib\\site-packages\\wandb\\integration\\keras\\keras.py\", line 656, in on_train_batch_end\n",
      "\u001b[34m\u001b[1mwandb\u001b[0m: \u001b[32m\u001b[41mERROR\u001b[0m     wandb.run.summary[\"graph\"] = wandb.Graph.from_keras(self.model)\n",
      "\u001b[34m\u001b[1mwandb\u001b[0m: \u001b[32m\u001b[41mERROR\u001b[0m   File \"C:\\anaconda3\\envs\\jupyterenv\\lib\\site-packages\\wandb\\sdk\\wandb_summary.py\", line 52, in __setitem__\n",
      "\u001b[34m\u001b[1mwandb\u001b[0m: \u001b[32m\u001b[41mERROR\u001b[0m     self.update({key: val})\n",
      "\u001b[34m\u001b[1mwandb\u001b[0m: \u001b[32m\u001b[41mERROR\u001b[0m   File \"C:\\anaconda3\\envs\\jupyterenv\\lib\\site-packages\\wandb\\sdk\\wandb_summary.py\", line 74, in update\n",
      "\u001b[34m\u001b[1mwandb\u001b[0m: \u001b[32m\u001b[41mERROR\u001b[0m     self._update(record)\n",
      "\u001b[34m\u001b[1mwandb\u001b[0m: \u001b[32m\u001b[41mERROR\u001b[0m   File \"C:\\anaconda3\\envs\\jupyterenv\\lib\\site-packages\\wandb\\sdk\\wandb_summary.py\", line 128, in _update\n",
      "\u001b[34m\u001b[1mwandb\u001b[0m: \u001b[32m\u001b[41mERROR\u001b[0m     self._update_callback(record)\n",
      "\u001b[34m\u001b[1mwandb\u001b[0m: \u001b[32m\u001b[41mERROR\u001b[0m   File \"C:\\anaconda3\\envs\\jupyterenv\\lib\\site-packages\\wandb\\sdk\\wandb_run.py\", line 400, in wrapper_fn\n",
      "\u001b[34m\u001b[1mwandb\u001b[0m: \u001b[32m\u001b[41mERROR\u001b[0m     return func(self, *args, **kwargs)\n",
      "\u001b[34m\u001b[1mwandb\u001b[0m: \u001b[32m\u001b[41mERROR\u001b[0m   File \"C:\\anaconda3\\envs\\jupyterenv\\lib\\site-packages\\wandb\\sdk\\wandb_run.py\", line 1424, in _summary_update_callback\n",
      "\u001b[34m\u001b[1mwandb\u001b[0m: \u001b[32m\u001b[41mERROR\u001b[0m     self._backend.interface.publish_summary(summary_record)\n",
      "\u001b[34m\u001b[1mwandb\u001b[0m: \u001b[32m\u001b[41mERROR\u001b[0m   File \"C:\\anaconda3\\envs\\jupyterenv\\lib\\site-packages\\wandb\\sdk\\interface\\interface.py\", line 270, in publish_summary\n",
      "\u001b[34m\u001b[1mwandb\u001b[0m: \u001b[32m\u001b[41mERROR\u001b[0m     pb_summary_record = self._make_summary(summary_record)\n",
      "\u001b[34m\u001b[1mwandb\u001b[0m: \u001b[32m\u001b[41mERROR\u001b[0m   File \"C:\\anaconda3\\envs\\jupyterenv\\lib\\site-packages\\wandb\\sdk\\interface\\interface.py\", line 248, in _make_summary\n",
      "\u001b[34m\u001b[1mwandb\u001b[0m: \u001b[32m\u001b[41mERROR\u001b[0m     json_value = self._summary_encode(item.value, path_from_root)\n",
      "\u001b[34m\u001b[1mwandb\u001b[0m: \u001b[32m\u001b[41mERROR\u001b[0m   File \"C:\\anaconda3\\envs\\jupyterenv\\lib\\site-packages\\wandb\\sdk\\interface\\interface.py\", line 221, in _summary_encode\n",
      "\u001b[34m\u001b[1mwandb\u001b[0m: \u001b[32m\u001b[41mERROR\u001b[0m     val_to_json(self._run, path_from_root, value, namespace=\"summary\")\n",
      "\u001b[34m\u001b[1mwandb\u001b[0m: \u001b[32m\u001b[41mERROR\u001b[0m   File \"C:\\anaconda3\\envs\\jupyterenv\\lib\\site-packages\\wandb\\sdk\\data_types\\utils.py\", line 164, in val_to_json\n",
      "\u001b[34m\u001b[1mwandb\u001b[0m: \u001b[32m\u001b[41mERROR\u001b[0m     val.bind_to_run(run, key, namespace)\n",
      "\u001b[34m\u001b[1mwandb\u001b[0m: \u001b[32m\u001b[41mERROR\u001b[0m   File \"C:\\anaconda3\\envs\\jupyterenv\\lib\\site-packages\\wandb\\data_types.py\", line 1377, in bind_to_run\n",
      "\u001b[34m\u001b[1mwandb\u001b[0m: \u001b[32m\u001b[41mERROR\u001b[0m     with codecs.open(tmp_path, \"w\", encoding=\"utf-8\") as fp:\n",
      "\u001b[34m\u001b[1mwandb\u001b[0m: \u001b[32m\u001b[41mERROR\u001b[0m   File \"C:\\anaconda3\\envs\\jupyterenv\\lib\\codecs.py\", line 906, in open\n",
      "\u001b[34m\u001b[1mwandb\u001b[0m: \u001b[32m\u001b[41mERROR\u001b[0m     file = builtins.open(filename, mode, buffering)\n",
      "\u001b[34m\u001b[1mwandb\u001b[0m: \u001b[32m\u001b[41mERROR\u001b[0m FileNotFoundError: [Errno 2] No such file or directory: 'C:\\\\Users\\\\Addisu\\\\AppData\\\\Local\\\\Temp\\\\tmpbie7lvyxwandb-media\\\\sctsr3tx.graph.json'\n",
      "\u001b[34m\u001b[1mwandb\u001b[0m: \u001b[32m\u001b[41mERROR\u001b[0m \n",
      "\u001b[34m\u001b[1mwandb\u001b[0m: Agent Starting Run: 8njyuu21 with config:\n",
      "\u001b[34m\u001b[1mwandb\u001b[0m: \tbatch_size: 72\n",
      "\u001b[34m\u001b[1mwandb\u001b[0m: \tdense_activation: sigmoid\n",
      "\u001b[34m\u001b[1mwandb\u001b[0m: \tdropout: 0.1\n",
      "\u001b[34m\u001b[1mwandb\u001b[0m: \tepochs: 1\n",
      "\u001b[34m\u001b[1mwandb\u001b[0m: \tlearning_rate: 0.0013936071622022072\n",
      "\u001b[34m\u001b[1mwandb\u001b[0m: \toptimizer: sgd\n"
     ]
    },
    {
     "data": {
      "text/html": [
       "wandb version 0.17.2 is available!  To upgrade, please run:\n",
       " $ pip install wandb --upgrade"
      ],
      "text/plain": [
       "<IPython.core.display.HTML object>"
      ]
     },
     "metadata": {},
     "output_type": "display_data"
    },
    {
     "data": {
      "text/html": [
       "Tracking run with wandb version 0.17.0"
      ],
      "text/plain": [
       "<IPython.core.display.HTML object>"
      ]
     },
     "metadata": {},
     "output_type": "display_data"
    },
    {
     "data": {
      "text/html": [
       "Run data is saved locally in <code>C:\\Users\\Addisu\\Desktop\\kidi files\\Python workshop with ellen\\wandb\\run-20240621_154427-8njyuu21</code>"
      ],
      "text/plain": [
       "<IPython.core.display.HTML object>"
      ]
     },
     "metadata": {},
     "output_type": "display_data"
    },
    {
     "data": {
      "text/html": [
       "Syncing run <strong><a href='https://wandb.ai/evapppp/sweeps-keras/runs/8njyuu21' target=\"_blank\">fluent-sweep-26</a></strong> to <a href='https://wandb.ai/evapppp/sweeps-keras' target=\"_blank\">Weights & Biases</a> (<a href='https://wandb.me/run' target=\"_blank\">docs</a>)<br/>Sweep page: <a href='https://wandb.ai/evapppp/sweeps-keras/sweeps/qu378scj' target=\"_blank\">https://wandb.ai/evapppp/sweeps-keras/sweeps/qu378scj</a>"
      ],
      "text/plain": [
       "<IPython.core.display.HTML object>"
      ]
     },
     "metadata": {},
     "output_type": "display_data"
    },
    {
     "data": {
      "text/html": [
       " View project at <a href='https://wandb.ai/evapppp/sweeps-keras' target=\"_blank\">https://wandb.ai/evapppp/sweeps-keras</a>"
      ],
      "text/plain": [
       "<IPython.core.display.HTML object>"
      ]
     },
     "metadata": {},
     "output_type": "display_data"
    },
    {
     "data": {
      "text/html": [
       " View sweep at <a href='https://wandb.ai/evapppp/sweeps-keras/sweeps/qu378scj' target=\"_blank\">https://wandb.ai/evapppp/sweeps-keras/sweeps/qu378scj</a>"
      ],
      "text/plain": [
       "<IPython.core.display.HTML object>"
      ]
     },
     "metadata": {},
     "output_type": "display_data"
    },
    {
     "data": {
      "text/html": [
       " View run at <a href='https://wandb.ai/evapppp/sweeps-keras/runs/8njyuu21' target=\"_blank\">https://wandb.ai/evapppp/sweeps-keras/runs/8njyuu21</a>"
      ],
      "text/plain": [
       "<IPython.core.display.HTML object>"
      ]
     },
     "metadata": {},
     "output_type": "display_data"
    },
    {
     "name": "stderr",
     "output_type": "stream",
     "text": [
      "Traceback (most recent call last):\n",
      "  File \"C:\\Users\\Addisu\\AppData\\Local\\Temp\\ipykernel_74596\\2644847777.py\", line 221, in sweep_train\n",
      "    train(model,\n",
      "  File \"C:\\Users\\Addisu\\AppData\\Local\\Temp\\ipykernel_74596\\2644847777.py\", line 151, in train\n",
      "    model.fit(X_train,\n",
      "  File \"C:\\anaconda3\\envs\\jupyterenv\\lib\\site-packages\\keras\\src\\utils\\traceback_utils.py\", line 70, in error_handler\n",
      "    raise e.with_traceback(filtered_tb) from None\n",
      "  File \"C:\\anaconda3\\envs\\jupyterenv\\lib\\site-packages\\wandb\\integration\\keras\\keras.py\", line 656, in on_train_batch_end\n",
      "    wandb.run.summary[\"graph\"] = wandb.Graph.from_keras(self.model)\n",
      "  File \"C:\\anaconda3\\envs\\jupyterenv\\lib\\site-packages\\wandb\\sdk\\wandb_summary.py\", line 52, in __setitem__\n",
      "    self.update({key: val})\n",
      "  File \"C:\\anaconda3\\envs\\jupyterenv\\lib\\site-packages\\wandb\\sdk\\wandb_summary.py\", line 74, in update\n",
      "    self._update(record)\n",
      "  File \"C:\\anaconda3\\envs\\jupyterenv\\lib\\site-packages\\wandb\\sdk\\wandb_summary.py\", line 128, in _update\n",
      "    self._update_callback(record)\n",
      "  File \"C:\\anaconda3\\envs\\jupyterenv\\lib\\site-packages\\wandb\\sdk\\wandb_run.py\", line 400, in wrapper_fn\n",
      "    return func(self, *args, **kwargs)\n",
      "  File \"C:\\anaconda3\\envs\\jupyterenv\\lib\\site-packages\\wandb\\sdk\\wandb_run.py\", line 1424, in _summary_update_callback\n",
      "    self._backend.interface.publish_summary(summary_record)\n",
      "  File \"C:\\anaconda3\\envs\\jupyterenv\\lib\\site-packages\\wandb\\sdk\\interface\\interface.py\", line 270, in publish_summary\n",
      "    pb_summary_record = self._make_summary(summary_record)\n",
      "  File \"C:\\anaconda3\\envs\\jupyterenv\\lib\\site-packages\\wandb\\sdk\\interface\\interface.py\", line 248, in _make_summary\n",
      "    json_value = self._summary_encode(item.value, path_from_root)\n",
      "  File \"C:\\anaconda3\\envs\\jupyterenv\\lib\\site-packages\\wandb\\sdk\\interface\\interface.py\", line 221, in _summary_encode\n",
      "    val_to_json(self._run, path_from_root, value, namespace=\"summary\")\n",
      "  File \"C:\\anaconda3\\envs\\jupyterenv\\lib\\site-packages\\wandb\\sdk\\data_types\\utils.py\", line 164, in val_to_json\n",
      "    val.bind_to_run(run, key, namespace)\n",
      "  File \"C:\\anaconda3\\envs\\jupyterenv\\lib\\site-packages\\wandb\\data_types.py\", line 1377, in bind_to_run\n",
      "    with codecs.open(tmp_path, \"w\", encoding=\"utf-8\") as fp:\n",
      "  File \"C:\\anaconda3\\envs\\jupyterenv\\lib\\codecs.py\", line 906, in open\n",
      "    file = builtins.open(filename, mode, buffering)\n",
      "FileNotFoundError: [Errno 2] No such file or directory: 'C:\\\\Users\\\\Addisu\\\\AppData\\\\Local\\\\Temp\\\\tmpbie7lvyxwandb-media\\\\zxo2x8qc.graph.json'\n"
     ]
    },
    {
     "data": {
      "text/html": [
       " View run <strong style=\"color:#cdcd00\">fluent-sweep-26</strong> at: <a href='https://wandb.ai/evapppp/sweeps-keras/runs/8njyuu21' target=\"_blank\">https://wandb.ai/evapppp/sweeps-keras/runs/8njyuu21</a><br/> View project at: <a href='https://wandb.ai/evapppp/sweeps-keras' target=\"_blank\">https://wandb.ai/evapppp/sweeps-keras</a><br/>Synced 5 W&B file(s), 0 media file(s), 0 artifact file(s) and 0 other file(s)"
      ],
      "text/plain": [
       "<IPython.core.display.HTML object>"
      ]
     },
     "metadata": {},
     "output_type": "display_data"
    },
    {
     "data": {
      "text/html": [
       "Find logs at: <code>.\\wandb\\run-20240621_154427-8njyuu21\\logs</code>"
      ],
      "text/plain": [
       "<IPython.core.display.HTML object>"
      ]
     },
     "metadata": {},
     "output_type": "display_data"
    },
    {
     "name": "stderr",
     "output_type": "stream",
     "text": [
      "Run 8njyuu21 errored:\n",
      "Traceback (most recent call last):\n",
      "  File \"C:\\anaconda3\\envs\\jupyterenv\\lib\\site-packages\\wandb\\agents\\pyagent.py\", line 307, in _run_job\n",
      "    self._function()\n",
      "  File \"C:\\Users\\Addisu\\AppData\\Local\\Temp\\ipykernel_74596\\2644847777.py\", line 221, in sweep_train\n",
      "    train(model,\n",
      "  File \"C:\\Users\\Addisu\\AppData\\Local\\Temp\\ipykernel_74596\\2644847777.py\", line 151, in train\n",
      "    model.fit(X_train,\n",
      "  File \"C:\\anaconda3\\envs\\jupyterenv\\lib\\site-packages\\keras\\src\\utils\\traceback_utils.py\", line 70, in error_handler\n",
      "    raise e.with_traceback(filtered_tb) from None\n",
      "  File \"C:\\anaconda3\\envs\\jupyterenv\\lib\\site-packages\\wandb\\integration\\keras\\keras.py\", line 656, in on_train_batch_end\n",
      "    wandb.run.summary[\"graph\"] = wandb.Graph.from_keras(self.model)\n",
      "  File \"C:\\anaconda3\\envs\\jupyterenv\\lib\\site-packages\\wandb\\sdk\\wandb_summary.py\", line 52, in __setitem__\n",
      "    self.update({key: val})\n",
      "  File \"C:\\anaconda3\\envs\\jupyterenv\\lib\\site-packages\\wandb\\sdk\\wandb_summary.py\", line 74, in update\n",
      "    self._update(record)\n",
      "  File \"C:\\anaconda3\\envs\\jupyterenv\\lib\\site-packages\\wandb\\sdk\\wandb_summary.py\", line 128, in _update\n",
      "    self._update_callback(record)\n",
      "  File \"C:\\anaconda3\\envs\\jupyterenv\\lib\\site-packages\\wandb\\sdk\\wandb_run.py\", line 400, in wrapper_fn\n",
      "    return func(self, *args, **kwargs)\n",
      "  File \"C:\\anaconda3\\envs\\jupyterenv\\lib\\site-packages\\wandb\\sdk\\wandb_run.py\", line 1424, in _summary_update_callback\n",
      "    self._backend.interface.publish_summary(summary_record)\n",
      "  File \"C:\\anaconda3\\envs\\jupyterenv\\lib\\site-packages\\wandb\\sdk\\interface\\interface.py\", line 270, in publish_summary\n",
      "    pb_summary_record = self._make_summary(summary_record)\n",
      "  File \"C:\\anaconda3\\envs\\jupyterenv\\lib\\site-packages\\wandb\\sdk\\interface\\interface.py\", line 248, in _make_summary\n",
      "    json_value = self._summary_encode(item.value, path_from_root)\n",
      "  File \"C:\\anaconda3\\envs\\jupyterenv\\lib\\site-packages\\wandb\\sdk\\interface\\interface.py\", line 221, in _summary_encode\n",
      "    val_to_json(self._run, path_from_root, value, namespace=\"summary\")\n",
      "  File \"C:\\anaconda3\\envs\\jupyterenv\\lib\\site-packages\\wandb\\sdk\\data_types\\utils.py\", line 164, in val_to_json\n",
      "    val.bind_to_run(run, key, namespace)\n",
      "  File \"C:\\anaconda3\\envs\\jupyterenv\\lib\\site-packages\\wandb\\data_types.py\", line 1377, in bind_to_run\n",
      "    with codecs.open(tmp_path, \"w\", encoding=\"utf-8\") as fp:\n",
      "  File \"C:\\anaconda3\\envs\\jupyterenv\\lib\\codecs.py\", line 906, in open\n",
      "    file = builtins.open(filename, mode, buffering)\n",
      "FileNotFoundError: [Errno 2] No such file or directory: 'C:\\\\Users\\\\Addisu\\\\AppData\\\\Local\\\\Temp\\\\tmpbie7lvyxwandb-media\\\\zxo2x8qc.graph.json'\n",
      "\n",
      "\u001b[34m\u001b[1mwandb\u001b[0m: \u001b[32m\u001b[41mERROR\u001b[0m Run 8njyuu21 errored:\n",
      "\u001b[34m\u001b[1mwandb\u001b[0m: \u001b[32m\u001b[41mERROR\u001b[0m Traceback (most recent call last):\n",
      "\u001b[34m\u001b[1mwandb\u001b[0m: \u001b[32m\u001b[41mERROR\u001b[0m   File \"C:\\anaconda3\\envs\\jupyterenv\\lib\\site-packages\\wandb\\agents\\pyagent.py\", line 307, in _run_job\n",
      "\u001b[34m\u001b[1mwandb\u001b[0m: \u001b[32m\u001b[41mERROR\u001b[0m     self._function()\n",
      "\u001b[34m\u001b[1mwandb\u001b[0m: \u001b[32m\u001b[41mERROR\u001b[0m   File \"C:\\Users\\Addisu\\AppData\\Local\\Temp\\ipykernel_74596\\2644847777.py\", line 221, in sweep_train\n",
      "\u001b[34m\u001b[1mwandb\u001b[0m: \u001b[32m\u001b[41mERROR\u001b[0m     train(model,\n",
      "\u001b[34m\u001b[1mwandb\u001b[0m: \u001b[32m\u001b[41mERROR\u001b[0m   File \"C:\\Users\\Addisu\\AppData\\Local\\Temp\\ipykernel_74596\\2644847777.py\", line 151, in train\n",
      "\u001b[34m\u001b[1mwandb\u001b[0m: \u001b[32m\u001b[41mERROR\u001b[0m     model.fit(X_train,\n",
      "\u001b[34m\u001b[1mwandb\u001b[0m: \u001b[32m\u001b[41mERROR\u001b[0m   File \"C:\\anaconda3\\envs\\jupyterenv\\lib\\site-packages\\keras\\src\\utils\\traceback_utils.py\", line 70, in error_handler\n",
      "\u001b[34m\u001b[1mwandb\u001b[0m: \u001b[32m\u001b[41mERROR\u001b[0m     raise e.with_traceback(filtered_tb) from None\n",
      "\u001b[34m\u001b[1mwandb\u001b[0m: \u001b[32m\u001b[41mERROR\u001b[0m   File \"C:\\anaconda3\\envs\\jupyterenv\\lib\\site-packages\\wandb\\integration\\keras\\keras.py\", line 656, in on_train_batch_end\n",
      "\u001b[34m\u001b[1mwandb\u001b[0m: \u001b[32m\u001b[41mERROR\u001b[0m     wandb.run.summary[\"graph\"] = wandb.Graph.from_keras(self.model)\n",
      "\u001b[34m\u001b[1mwandb\u001b[0m: \u001b[32m\u001b[41mERROR\u001b[0m   File \"C:\\anaconda3\\envs\\jupyterenv\\lib\\site-packages\\wandb\\sdk\\wandb_summary.py\", line 52, in __setitem__\n",
      "\u001b[34m\u001b[1mwandb\u001b[0m: \u001b[32m\u001b[41mERROR\u001b[0m     self.update({key: val})\n",
      "\u001b[34m\u001b[1mwandb\u001b[0m: \u001b[32m\u001b[41mERROR\u001b[0m   File \"C:\\anaconda3\\envs\\jupyterenv\\lib\\site-packages\\wandb\\sdk\\wandb_summary.py\", line 74, in update\n",
      "\u001b[34m\u001b[1mwandb\u001b[0m: \u001b[32m\u001b[41mERROR\u001b[0m     self._update(record)\n",
      "\u001b[34m\u001b[1mwandb\u001b[0m: \u001b[32m\u001b[41mERROR\u001b[0m   File \"C:\\anaconda3\\envs\\jupyterenv\\lib\\site-packages\\wandb\\sdk\\wandb_summary.py\", line 128, in _update\n",
      "\u001b[34m\u001b[1mwandb\u001b[0m: \u001b[32m\u001b[41mERROR\u001b[0m     self._update_callback(record)\n",
      "\u001b[34m\u001b[1mwandb\u001b[0m: \u001b[32m\u001b[41mERROR\u001b[0m   File \"C:\\anaconda3\\envs\\jupyterenv\\lib\\site-packages\\wandb\\sdk\\wandb_run.py\", line 400, in wrapper_fn\n",
      "\u001b[34m\u001b[1mwandb\u001b[0m: \u001b[32m\u001b[41mERROR\u001b[0m     return func(self, *args, **kwargs)\n",
      "\u001b[34m\u001b[1mwandb\u001b[0m: \u001b[32m\u001b[41mERROR\u001b[0m   File \"C:\\anaconda3\\envs\\jupyterenv\\lib\\site-packages\\wandb\\sdk\\wandb_run.py\", line 1424, in _summary_update_callback\n",
      "\u001b[34m\u001b[1mwandb\u001b[0m: \u001b[32m\u001b[41mERROR\u001b[0m     self._backend.interface.publish_summary(summary_record)\n",
      "\u001b[34m\u001b[1mwandb\u001b[0m: \u001b[32m\u001b[41mERROR\u001b[0m   File \"C:\\anaconda3\\envs\\jupyterenv\\lib\\site-packages\\wandb\\sdk\\interface\\interface.py\", line 270, in publish_summary\n",
      "\u001b[34m\u001b[1mwandb\u001b[0m: \u001b[32m\u001b[41mERROR\u001b[0m     pb_summary_record = self._make_summary(summary_record)\n",
      "\u001b[34m\u001b[1mwandb\u001b[0m: \u001b[32m\u001b[41mERROR\u001b[0m   File \"C:\\anaconda3\\envs\\jupyterenv\\lib\\site-packages\\wandb\\sdk\\interface\\interface.py\", line 248, in _make_summary\n",
      "\u001b[34m\u001b[1mwandb\u001b[0m: \u001b[32m\u001b[41mERROR\u001b[0m     json_value = self._summary_encode(item.value, path_from_root)\n",
      "\u001b[34m\u001b[1mwandb\u001b[0m: \u001b[32m\u001b[41mERROR\u001b[0m   File \"C:\\anaconda3\\envs\\jupyterenv\\lib\\site-packages\\wandb\\sdk\\interface\\interface.py\", line 221, in _summary_encode\n",
      "\u001b[34m\u001b[1mwandb\u001b[0m: \u001b[32m\u001b[41mERROR\u001b[0m     val_to_json(self._run, path_from_root, value, namespace=\"summary\")\n",
      "\u001b[34m\u001b[1mwandb\u001b[0m: \u001b[32m\u001b[41mERROR\u001b[0m   File \"C:\\anaconda3\\envs\\jupyterenv\\lib\\site-packages\\wandb\\sdk\\data_types\\utils.py\", line 164, in val_to_json\n",
      "\u001b[34m\u001b[1mwandb\u001b[0m: \u001b[32m\u001b[41mERROR\u001b[0m     val.bind_to_run(run, key, namespace)\n",
      "\u001b[34m\u001b[1mwandb\u001b[0m: \u001b[32m\u001b[41mERROR\u001b[0m   File \"C:\\anaconda3\\envs\\jupyterenv\\lib\\site-packages\\wandb\\data_types.py\", line 1377, in bind_to_run\n",
      "\u001b[34m\u001b[1mwandb\u001b[0m: \u001b[32m\u001b[41mERROR\u001b[0m     with codecs.open(tmp_path, \"w\", encoding=\"utf-8\") as fp:\n",
      "\u001b[34m\u001b[1mwandb\u001b[0m: \u001b[32m\u001b[41mERROR\u001b[0m   File \"C:\\anaconda3\\envs\\jupyterenv\\lib\\codecs.py\", line 906, in open\n",
      "\u001b[34m\u001b[1mwandb\u001b[0m: \u001b[32m\u001b[41mERROR\u001b[0m     file = builtins.open(filename, mode, buffering)\n",
      "\u001b[34m\u001b[1mwandb\u001b[0m: \u001b[32m\u001b[41mERROR\u001b[0m FileNotFoundError: [Errno 2] No such file or directory: 'C:\\\\Users\\\\Addisu\\\\AppData\\\\Local\\\\Temp\\\\tmpbie7lvyxwandb-media\\\\zxo2x8qc.graph.json'\n",
      "\u001b[34m\u001b[1mwandb\u001b[0m: \u001b[32m\u001b[41mERROR\u001b[0m \n",
      "\u001b[34m\u001b[1mwandb\u001b[0m: Agent Starting Run: 4kydl5i7 with config:\n",
      "\u001b[34m\u001b[1mwandb\u001b[0m: \tbatch_size: 88\n",
      "\u001b[34m\u001b[1mwandb\u001b[0m: \tdense_activation: relu\n",
      "\u001b[34m\u001b[1mwandb\u001b[0m: \tdropout: 0.1\n",
      "\u001b[34m\u001b[1mwandb\u001b[0m: \tepochs: 1\n",
      "\u001b[34m\u001b[1mwandb\u001b[0m: \tlearning_rate: 0.0017887395576684428\n",
      "\u001b[34m\u001b[1mwandb\u001b[0m: \toptimizer: sgd\n"
     ]
    },
    {
     "data": {
      "text/html": [
       "wandb version 0.17.2 is available!  To upgrade, please run:\n",
       " $ pip install wandb --upgrade"
      ],
      "text/plain": [
       "<IPython.core.display.HTML object>"
      ]
     },
     "metadata": {},
     "output_type": "display_data"
    },
    {
     "data": {
      "text/html": [
       "Tracking run with wandb version 0.17.0"
      ],
      "text/plain": [
       "<IPython.core.display.HTML object>"
      ]
     },
     "metadata": {},
     "output_type": "display_data"
    },
    {
     "data": {
      "text/html": [
       "Run data is saved locally in <code>C:\\Users\\Addisu\\Desktop\\kidi files\\Python workshop with ellen\\wandb\\run-20240621_154454-4kydl5i7</code>"
      ],
      "text/plain": [
       "<IPython.core.display.HTML object>"
      ]
     },
     "metadata": {},
     "output_type": "display_data"
    },
    {
     "data": {
      "text/html": [
       "Syncing run <strong><a href='https://wandb.ai/evapppp/sweeps-keras/runs/4kydl5i7' target=\"_blank\">ancient-sweep-27</a></strong> to <a href='https://wandb.ai/evapppp/sweeps-keras' target=\"_blank\">Weights & Biases</a> (<a href='https://wandb.me/run' target=\"_blank\">docs</a>)<br/>Sweep page: <a href='https://wandb.ai/evapppp/sweeps-keras/sweeps/qu378scj' target=\"_blank\">https://wandb.ai/evapppp/sweeps-keras/sweeps/qu378scj</a>"
      ],
      "text/plain": [
       "<IPython.core.display.HTML object>"
      ]
     },
     "metadata": {},
     "output_type": "display_data"
    },
    {
     "data": {
      "text/html": [
       " View project at <a href='https://wandb.ai/evapppp/sweeps-keras' target=\"_blank\">https://wandb.ai/evapppp/sweeps-keras</a>"
      ],
      "text/plain": [
       "<IPython.core.display.HTML object>"
      ]
     },
     "metadata": {},
     "output_type": "display_data"
    },
    {
     "data": {
      "text/html": [
       " View sweep at <a href='https://wandb.ai/evapppp/sweeps-keras/sweeps/qu378scj' target=\"_blank\">https://wandb.ai/evapppp/sweeps-keras/sweeps/qu378scj</a>"
      ],
      "text/plain": [
       "<IPython.core.display.HTML object>"
      ]
     },
     "metadata": {},
     "output_type": "display_data"
    },
    {
     "data": {
      "text/html": [
       " View run at <a href='https://wandb.ai/evapppp/sweeps-keras/runs/4kydl5i7' target=\"_blank\">https://wandb.ai/evapppp/sweeps-keras/runs/4kydl5i7</a>"
      ],
      "text/plain": [
       "<IPython.core.display.HTML object>"
      ]
     },
     "metadata": {},
     "output_type": "display_data"
    },
    {
     "name": "stderr",
     "output_type": "stream",
     "text": [
      "Traceback (most recent call last):\n",
      "  File \"C:\\Users\\Addisu\\AppData\\Local\\Temp\\ipykernel_74596\\2644847777.py\", line 221, in sweep_train\n",
      "    train(model,\n",
      "  File \"C:\\Users\\Addisu\\AppData\\Local\\Temp\\ipykernel_74596\\2644847777.py\", line 151, in train\n",
      "    model.fit(X_train,\n",
      "  File \"C:\\anaconda3\\envs\\jupyterenv\\lib\\site-packages\\keras\\src\\utils\\traceback_utils.py\", line 70, in error_handler\n",
      "    raise e.with_traceback(filtered_tb) from None\n",
      "  File \"C:\\anaconda3\\envs\\jupyterenv\\lib\\site-packages\\wandb\\integration\\keras\\keras.py\", line 656, in on_train_batch_end\n",
      "    wandb.run.summary[\"graph\"] = wandb.Graph.from_keras(self.model)\n",
      "  File \"C:\\anaconda3\\envs\\jupyterenv\\lib\\site-packages\\wandb\\sdk\\wandb_summary.py\", line 52, in __setitem__\n",
      "    self.update({key: val})\n",
      "  File \"C:\\anaconda3\\envs\\jupyterenv\\lib\\site-packages\\wandb\\sdk\\wandb_summary.py\", line 74, in update\n",
      "    self._update(record)\n",
      "  File \"C:\\anaconda3\\envs\\jupyterenv\\lib\\site-packages\\wandb\\sdk\\wandb_summary.py\", line 128, in _update\n",
      "    self._update_callback(record)\n",
      "  File \"C:\\anaconda3\\envs\\jupyterenv\\lib\\site-packages\\wandb\\sdk\\wandb_run.py\", line 400, in wrapper_fn\n",
      "    return func(self, *args, **kwargs)\n",
      "  File \"C:\\anaconda3\\envs\\jupyterenv\\lib\\site-packages\\wandb\\sdk\\wandb_run.py\", line 1424, in _summary_update_callback\n",
      "    self._backend.interface.publish_summary(summary_record)\n",
      "  File \"C:\\anaconda3\\envs\\jupyterenv\\lib\\site-packages\\wandb\\sdk\\interface\\interface.py\", line 270, in publish_summary\n",
      "    pb_summary_record = self._make_summary(summary_record)\n",
      "  File \"C:\\anaconda3\\envs\\jupyterenv\\lib\\site-packages\\wandb\\sdk\\interface\\interface.py\", line 248, in _make_summary\n",
      "    json_value = self._summary_encode(item.value, path_from_root)\n",
      "  File \"C:\\anaconda3\\envs\\jupyterenv\\lib\\site-packages\\wandb\\sdk\\interface\\interface.py\", line 221, in _summary_encode\n",
      "    val_to_json(self._run, path_from_root, value, namespace=\"summary\")\n",
      "  File \"C:\\anaconda3\\envs\\jupyterenv\\lib\\site-packages\\wandb\\sdk\\data_types\\utils.py\", line 164, in val_to_json\n",
      "    val.bind_to_run(run, key, namespace)\n",
      "  File \"C:\\anaconda3\\envs\\jupyterenv\\lib\\site-packages\\wandb\\data_types.py\", line 1377, in bind_to_run\n",
      "    with codecs.open(tmp_path, \"w\", encoding=\"utf-8\") as fp:\n",
      "  File \"C:\\anaconda3\\envs\\jupyterenv\\lib\\codecs.py\", line 906, in open\n",
      "    file = builtins.open(filename, mode, buffering)\n",
      "FileNotFoundError: [Errno 2] No such file or directory: 'C:\\\\Users\\\\Addisu\\\\AppData\\\\Local\\\\Temp\\\\tmpbie7lvyxwandb-media\\\\vrgpem54.graph.json'\n"
     ]
    },
    {
     "data": {
      "text/html": [
       " View run <strong style=\"color:#cdcd00\">ancient-sweep-27</strong> at: <a href='https://wandb.ai/evapppp/sweeps-keras/runs/4kydl5i7' target=\"_blank\">https://wandb.ai/evapppp/sweeps-keras/runs/4kydl5i7</a><br/> View project at: <a href='https://wandb.ai/evapppp/sweeps-keras' target=\"_blank\">https://wandb.ai/evapppp/sweeps-keras</a><br/>Synced 5 W&B file(s), 0 media file(s), 0 artifact file(s) and 0 other file(s)"
      ],
      "text/plain": [
       "<IPython.core.display.HTML object>"
      ]
     },
     "metadata": {},
     "output_type": "display_data"
    },
    {
     "data": {
      "text/html": [
       "Find logs at: <code>.\\wandb\\run-20240621_154454-4kydl5i7\\logs</code>"
      ],
      "text/plain": [
       "<IPython.core.display.HTML object>"
      ]
     },
     "metadata": {},
     "output_type": "display_data"
    },
    {
     "name": "stderr",
     "output_type": "stream",
     "text": [
      "Run 4kydl5i7 errored:\n",
      "Traceback (most recent call last):\n",
      "  File \"C:\\anaconda3\\envs\\jupyterenv\\lib\\site-packages\\wandb\\agents\\pyagent.py\", line 307, in _run_job\n",
      "    self._function()\n",
      "  File \"C:\\Users\\Addisu\\AppData\\Local\\Temp\\ipykernel_74596\\2644847777.py\", line 221, in sweep_train\n",
      "    train(model,\n",
      "  File \"C:\\Users\\Addisu\\AppData\\Local\\Temp\\ipykernel_74596\\2644847777.py\", line 151, in train\n",
      "    model.fit(X_train,\n",
      "  File \"C:\\anaconda3\\envs\\jupyterenv\\lib\\site-packages\\keras\\src\\utils\\traceback_utils.py\", line 70, in error_handler\n",
      "    raise e.with_traceback(filtered_tb) from None\n",
      "  File \"C:\\anaconda3\\envs\\jupyterenv\\lib\\site-packages\\wandb\\integration\\keras\\keras.py\", line 656, in on_train_batch_end\n",
      "    wandb.run.summary[\"graph\"] = wandb.Graph.from_keras(self.model)\n",
      "  File \"C:\\anaconda3\\envs\\jupyterenv\\lib\\site-packages\\wandb\\sdk\\wandb_summary.py\", line 52, in __setitem__\n",
      "    self.update({key: val})\n",
      "  File \"C:\\anaconda3\\envs\\jupyterenv\\lib\\site-packages\\wandb\\sdk\\wandb_summary.py\", line 74, in update\n",
      "    self._update(record)\n",
      "  File \"C:\\anaconda3\\envs\\jupyterenv\\lib\\site-packages\\wandb\\sdk\\wandb_summary.py\", line 128, in _update\n",
      "    self._update_callback(record)\n",
      "  File \"C:\\anaconda3\\envs\\jupyterenv\\lib\\site-packages\\wandb\\sdk\\wandb_run.py\", line 400, in wrapper_fn\n",
      "    return func(self, *args, **kwargs)\n",
      "  File \"C:\\anaconda3\\envs\\jupyterenv\\lib\\site-packages\\wandb\\sdk\\wandb_run.py\", line 1424, in _summary_update_callback\n",
      "    self._backend.interface.publish_summary(summary_record)\n",
      "  File \"C:\\anaconda3\\envs\\jupyterenv\\lib\\site-packages\\wandb\\sdk\\interface\\interface.py\", line 270, in publish_summary\n",
      "    pb_summary_record = self._make_summary(summary_record)\n",
      "  File \"C:\\anaconda3\\envs\\jupyterenv\\lib\\site-packages\\wandb\\sdk\\interface\\interface.py\", line 248, in _make_summary\n",
      "    json_value = self._summary_encode(item.value, path_from_root)\n",
      "  File \"C:\\anaconda3\\envs\\jupyterenv\\lib\\site-packages\\wandb\\sdk\\interface\\interface.py\", line 221, in _summary_encode\n",
      "    val_to_json(self._run, path_from_root, value, namespace=\"summary\")\n",
      "  File \"C:\\anaconda3\\envs\\jupyterenv\\lib\\site-packages\\wandb\\sdk\\data_types\\utils.py\", line 164, in val_to_json\n",
      "    val.bind_to_run(run, key, namespace)\n",
      "  File \"C:\\anaconda3\\envs\\jupyterenv\\lib\\site-packages\\wandb\\data_types.py\", line 1377, in bind_to_run\n",
      "    with codecs.open(tmp_path, \"w\", encoding=\"utf-8\") as fp:\n",
      "  File \"C:\\anaconda3\\envs\\jupyterenv\\lib\\codecs.py\", line 906, in open\n",
      "    file = builtins.open(filename, mode, buffering)\n",
      "FileNotFoundError: [Errno 2] No such file or directory: 'C:\\\\Users\\\\Addisu\\\\AppData\\\\Local\\\\Temp\\\\tmpbie7lvyxwandb-media\\\\vrgpem54.graph.json'\n",
      "\n",
      "\u001b[34m\u001b[1mwandb\u001b[0m: \u001b[32m\u001b[41mERROR\u001b[0m Run 4kydl5i7 errored:\n",
      "\u001b[34m\u001b[1mwandb\u001b[0m: \u001b[32m\u001b[41mERROR\u001b[0m Traceback (most recent call last):\n",
      "\u001b[34m\u001b[1mwandb\u001b[0m: \u001b[32m\u001b[41mERROR\u001b[0m   File \"C:\\anaconda3\\envs\\jupyterenv\\lib\\site-packages\\wandb\\agents\\pyagent.py\", line 307, in _run_job\n",
      "\u001b[34m\u001b[1mwandb\u001b[0m: \u001b[32m\u001b[41mERROR\u001b[0m     self._function()\n",
      "\u001b[34m\u001b[1mwandb\u001b[0m: \u001b[32m\u001b[41mERROR\u001b[0m   File \"C:\\Users\\Addisu\\AppData\\Local\\Temp\\ipykernel_74596\\2644847777.py\", line 221, in sweep_train\n",
      "\u001b[34m\u001b[1mwandb\u001b[0m: \u001b[32m\u001b[41mERROR\u001b[0m     train(model,\n",
      "\u001b[34m\u001b[1mwandb\u001b[0m: \u001b[32m\u001b[41mERROR\u001b[0m   File \"C:\\Users\\Addisu\\AppData\\Local\\Temp\\ipykernel_74596\\2644847777.py\", line 151, in train\n",
      "\u001b[34m\u001b[1mwandb\u001b[0m: \u001b[32m\u001b[41mERROR\u001b[0m     model.fit(X_train,\n",
      "\u001b[34m\u001b[1mwandb\u001b[0m: \u001b[32m\u001b[41mERROR\u001b[0m   File \"C:\\anaconda3\\envs\\jupyterenv\\lib\\site-packages\\keras\\src\\utils\\traceback_utils.py\", line 70, in error_handler\n",
      "\u001b[34m\u001b[1mwandb\u001b[0m: \u001b[32m\u001b[41mERROR\u001b[0m     raise e.with_traceback(filtered_tb) from None\n",
      "\u001b[34m\u001b[1mwandb\u001b[0m: \u001b[32m\u001b[41mERROR\u001b[0m   File \"C:\\anaconda3\\envs\\jupyterenv\\lib\\site-packages\\wandb\\integration\\keras\\keras.py\", line 656, in on_train_batch_end\n",
      "\u001b[34m\u001b[1mwandb\u001b[0m: \u001b[32m\u001b[41mERROR\u001b[0m     wandb.run.summary[\"graph\"] = wandb.Graph.from_keras(self.model)\n",
      "\u001b[34m\u001b[1mwandb\u001b[0m: \u001b[32m\u001b[41mERROR\u001b[0m   File \"C:\\anaconda3\\envs\\jupyterenv\\lib\\site-packages\\wandb\\sdk\\wandb_summary.py\", line 52, in __setitem__\n",
      "\u001b[34m\u001b[1mwandb\u001b[0m: \u001b[32m\u001b[41mERROR\u001b[0m     self.update({key: val})\n",
      "\u001b[34m\u001b[1mwandb\u001b[0m: \u001b[32m\u001b[41mERROR\u001b[0m   File \"C:\\anaconda3\\envs\\jupyterenv\\lib\\site-packages\\wandb\\sdk\\wandb_summary.py\", line 74, in update\n",
      "\u001b[34m\u001b[1mwandb\u001b[0m: \u001b[32m\u001b[41mERROR\u001b[0m     self._update(record)\n",
      "\u001b[34m\u001b[1mwandb\u001b[0m: \u001b[32m\u001b[41mERROR\u001b[0m   File \"C:\\anaconda3\\envs\\jupyterenv\\lib\\site-packages\\wandb\\sdk\\wandb_summary.py\", line 128, in _update\n",
      "\u001b[34m\u001b[1mwandb\u001b[0m: \u001b[32m\u001b[41mERROR\u001b[0m     self._update_callback(record)\n",
      "\u001b[34m\u001b[1mwandb\u001b[0m: \u001b[32m\u001b[41mERROR\u001b[0m   File \"C:\\anaconda3\\envs\\jupyterenv\\lib\\site-packages\\wandb\\sdk\\wandb_run.py\", line 400, in wrapper_fn\n",
      "\u001b[34m\u001b[1mwandb\u001b[0m: \u001b[32m\u001b[41mERROR\u001b[0m     return func(self, *args, **kwargs)\n",
      "\u001b[34m\u001b[1mwandb\u001b[0m: \u001b[32m\u001b[41mERROR\u001b[0m   File \"C:\\anaconda3\\envs\\jupyterenv\\lib\\site-packages\\wandb\\sdk\\wandb_run.py\", line 1424, in _summary_update_callback\n",
      "\u001b[34m\u001b[1mwandb\u001b[0m: \u001b[32m\u001b[41mERROR\u001b[0m     self._backend.interface.publish_summary(summary_record)\n",
      "\u001b[34m\u001b[1mwandb\u001b[0m: \u001b[32m\u001b[41mERROR\u001b[0m   File \"C:\\anaconda3\\envs\\jupyterenv\\lib\\site-packages\\wandb\\sdk\\interface\\interface.py\", line 270, in publish_summary\n",
      "\u001b[34m\u001b[1mwandb\u001b[0m: \u001b[32m\u001b[41mERROR\u001b[0m     pb_summary_record = self._make_summary(summary_record)\n",
      "\u001b[34m\u001b[1mwandb\u001b[0m: \u001b[32m\u001b[41mERROR\u001b[0m   File \"C:\\anaconda3\\envs\\jupyterenv\\lib\\site-packages\\wandb\\sdk\\interface\\interface.py\", line 248, in _make_summary\n",
      "\u001b[34m\u001b[1mwandb\u001b[0m: \u001b[32m\u001b[41mERROR\u001b[0m     json_value = self._summary_encode(item.value, path_from_root)\n",
      "\u001b[34m\u001b[1mwandb\u001b[0m: \u001b[32m\u001b[41mERROR\u001b[0m   File \"C:\\anaconda3\\envs\\jupyterenv\\lib\\site-packages\\wandb\\sdk\\interface\\interface.py\", line 221, in _summary_encode\n",
      "\u001b[34m\u001b[1mwandb\u001b[0m: \u001b[32m\u001b[41mERROR\u001b[0m     val_to_json(self._run, path_from_root, value, namespace=\"summary\")\n",
      "\u001b[34m\u001b[1mwandb\u001b[0m: \u001b[32m\u001b[41mERROR\u001b[0m   File \"C:\\anaconda3\\envs\\jupyterenv\\lib\\site-packages\\wandb\\sdk\\data_types\\utils.py\", line 164, in val_to_json\n",
      "\u001b[34m\u001b[1mwandb\u001b[0m: \u001b[32m\u001b[41mERROR\u001b[0m     val.bind_to_run(run, key, namespace)\n",
      "\u001b[34m\u001b[1mwandb\u001b[0m: \u001b[32m\u001b[41mERROR\u001b[0m   File \"C:\\anaconda3\\envs\\jupyterenv\\lib\\site-packages\\wandb\\data_types.py\", line 1377, in bind_to_run\n",
      "\u001b[34m\u001b[1mwandb\u001b[0m: \u001b[32m\u001b[41mERROR\u001b[0m     with codecs.open(tmp_path, \"w\", encoding=\"utf-8\") as fp:\n",
      "\u001b[34m\u001b[1mwandb\u001b[0m: \u001b[32m\u001b[41mERROR\u001b[0m   File \"C:\\anaconda3\\envs\\jupyterenv\\lib\\codecs.py\", line 906, in open\n",
      "\u001b[34m\u001b[1mwandb\u001b[0m: \u001b[32m\u001b[41mERROR\u001b[0m     file = builtins.open(filename, mode, buffering)\n",
      "\u001b[34m\u001b[1mwandb\u001b[0m: \u001b[32m\u001b[41mERROR\u001b[0m FileNotFoundError: [Errno 2] No such file or directory: 'C:\\\\Users\\\\Addisu\\\\AppData\\\\Local\\\\Temp\\\\tmpbie7lvyxwandb-media\\\\vrgpem54.graph.json'\n",
      "\u001b[34m\u001b[1mwandb\u001b[0m: \u001b[32m\u001b[41mERROR\u001b[0m \n",
      "\u001b[34m\u001b[1mwandb\u001b[0m: Agent Starting Run: qxgh7kt1 with config:\n",
      "\u001b[34m\u001b[1mwandb\u001b[0m: \tbatch_size: 40\n",
      "\u001b[34m\u001b[1mwandb\u001b[0m: \tdense_activation: sigmoid\n",
      "\u001b[34m\u001b[1mwandb\u001b[0m: \tdropout: 0.3\n",
      "\u001b[34m\u001b[1mwandb\u001b[0m: \tepochs: 1\n",
      "\u001b[34m\u001b[1mwandb\u001b[0m: \tlearning_rate: 0.006374243745873202\n",
      "\u001b[34m\u001b[1mwandb\u001b[0m: \toptimizer: adam\n"
     ]
    },
    {
     "data": {
      "text/html": [
       "wandb version 0.17.2 is available!  To upgrade, please run:\n",
       " $ pip install wandb --upgrade"
      ],
      "text/plain": [
       "<IPython.core.display.HTML object>"
      ]
     },
     "metadata": {},
     "output_type": "display_data"
    },
    {
     "data": {
      "text/html": [
       "Tracking run with wandb version 0.17.0"
      ],
      "text/plain": [
       "<IPython.core.display.HTML object>"
      ]
     },
     "metadata": {},
     "output_type": "display_data"
    },
    {
     "data": {
      "text/html": [
       "Run data is saved locally in <code>C:\\Users\\Addisu\\Desktop\\kidi files\\Python workshop with ellen\\wandb\\run-20240621_154525-qxgh7kt1</code>"
      ],
      "text/plain": [
       "<IPython.core.display.HTML object>"
      ]
     },
     "metadata": {},
     "output_type": "display_data"
    },
    {
     "data": {
      "text/html": [
       "Syncing run <strong><a href='https://wandb.ai/evapppp/sweeps-keras/runs/qxgh7kt1' target=\"_blank\">silvery-sweep-28</a></strong> to <a href='https://wandb.ai/evapppp/sweeps-keras' target=\"_blank\">Weights & Biases</a> (<a href='https://wandb.me/run' target=\"_blank\">docs</a>)<br/>Sweep page: <a href='https://wandb.ai/evapppp/sweeps-keras/sweeps/qu378scj' target=\"_blank\">https://wandb.ai/evapppp/sweeps-keras/sweeps/qu378scj</a>"
      ],
      "text/plain": [
       "<IPython.core.display.HTML object>"
      ]
     },
     "metadata": {},
     "output_type": "display_data"
    },
    {
     "data": {
      "text/html": [
       " View project at <a href='https://wandb.ai/evapppp/sweeps-keras' target=\"_blank\">https://wandb.ai/evapppp/sweeps-keras</a>"
      ],
      "text/plain": [
       "<IPython.core.display.HTML object>"
      ]
     },
     "metadata": {},
     "output_type": "display_data"
    },
    {
     "data": {
      "text/html": [
       " View sweep at <a href='https://wandb.ai/evapppp/sweeps-keras/sweeps/qu378scj' target=\"_blank\">https://wandb.ai/evapppp/sweeps-keras/sweeps/qu378scj</a>"
      ],
      "text/plain": [
       "<IPython.core.display.HTML object>"
      ]
     },
     "metadata": {},
     "output_type": "display_data"
    },
    {
     "data": {
      "text/html": [
       " View run at <a href='https://wandb.ai/evapppp/sweeps-keras/runs/qxgh7kt1' target=\"_blank\">https://wandb.ai/evapppp/sweeps-keras/runs/qxgh7kt1</a>"
      ],
      "text/plain": [
       "<IPython.core.display.HTML object>"
      ]
     },
     "metadata": {},
     "output_type": "display_data"
    },
    {
     "name": "stderr",
     "output_type": "stream",
     "text": [
      "Traceback (most recent call last):\n",
      "  File \"C:\\Users\\Addisu\\AppData\\Local\\Temp\\ipykernel_74596\\2644847777.py\", line 221, in sweep_train\n",
      "    train(model,\n",
      "  File \"C:\\Users\\Addisu\\AppData\\Local\\Temp\\ipykernel_74596\\2644847777.py\", line 151, in train\n",
      "    model.fit(X_train,\n",
      "  File \"C:\\anaconda3\\envs\\jupyterenv\\lib\\site-packages\\keras\\src\\utils\\traceback_utils.py\", line 70, in error_handler\n",
      "    raise e.with_traceback(filtered_tb) from None\n",
      "  File \"C:\\anaconda3\\envs\\jupyterenv\\lib\\site-packages\\wandb\\integration\\keras\\keras.py\", line 656, in on_train_batch_end\n",
      "    wandb.run.summary[\"graph\"] = wandb.Graph.from_keras(self.model)\n",
      "  File \"C:\\anaconda3\\envs\\jupyterenv\\lib\\site-packages\\wandb\\sdk\\wandb_summary.py\", line 52, in __setitem__\n",
      "    self.update({key: val})\n",
      "  File \"C:\\anaconda3\\envs\\jupyterenv\\lib\\site-packages\\wandb\\sdk\\wandb_summary.py\", line 74, in update\n",
      "    self._update(record)\n",
      "  File \"C:\\anaconda3\\envs\\jupyterenv\\lib\\site-packages\\wandb\\sdk\\wandb_summary.py\", line 128, in _update\n",
      "    self._update_callback(record)\n",
      "  File \"C:\\anaconda3\\envs\\jupyterenv\\lib\\site-packages\\wandb\\sdk\\wandb_run.py\", line 400, in wrapper_fn\n",
      "    return func(self, *args, **kwargs)\n",
      "  File \"C:\\anaconda3\\envs\\jupyterenv\\lib\\site-packages\\wandb\\sdk\\wandb_run.py\", line 1424, in _summary_update_callback\n",
      "    self._backend.interface.publish_summary(summary_record)\n",
      "  File \"C:\\anaconda3\\envs\\jupyterenv\\lib\\site-packages\\wandb\\sdk\\interface\\interface.py\", line 270, in publish_summary\n",
      "    pb_summary_record = self._make_summary(summary_record)\n",
      "  File \"C:\\anaconda3\\envs\\jupyterenv\\lib\\site-packages\\wandb\\sdk\\interface\\interface.py\", line 248, in _make_summary\n",
      "    json_value = self._summary_encode(item.value, path_from_root)\n",
      "  File \"C:\\anaconda3\\envs\\jupyterenv\\lib\\site-packages\\wandb\\sdk\\interface\\interface.py\", line 221, in _summary_encode\n",
      "    val_to_json(self._run, path_from_root, value, namespace=\"summary\")\n",
      "  File \"C:\\anaconda3\\envs\\jupyterenv\\lib\\site-packages\\wandb\\sdk\\data_types\\utils.py\", line 164, in val_to_json\n",
      "    val.bind_to_run(run, key, namespace)\n",
      "  File \"C:\\anaconda3\\envs\\jupyterenv\\lib\\site-packages\\wandb\\data_types.py\", line 1377, in bind_to_run\n",
      "    with codecs.open(tmp_path, \"w\", encoding=\"utf-8\") as fp:\n",
      "  File \"C:\\anaconda3\\envs\\jupyterenv\\lib\\codecs.py\", line 906, in open\n",
      "    file = builtins.open(filename, mode, buffering)\n",
      "FileNotFoundError: [Errno 2] No such file or directory: 'C:\\\\Users\\\\Addisu\\\\AppData\\\\Local\\\\Temp\\\\tmpbie7lvyxwandb-media\\\\3rffba5u.graph.json'\n"
     ]
    },
    {
     "data": {
      "text/html": [
       " View run <strong style=\"color:#cdcd00\">silvery-sweep-28</strong> at: <a href='https://wandb.ai/evapppp/sweeps-keras/runs/qxgh7kt1' target=\"_blank\">https://wandb.ai/evapppp/sweeps-keras/runs/qxgh7kt1</a><br/> View project at: <a href='https://wandb.ai/evapppp/sweeps-keras' target=\"_blank\">https://wandb.ai/evapppp/sweeps-keras</a><br/>Synced 5 W&B file(s), 0 media file(s), 0 artifact file(s) and 0 other file(s)"
      ],
      "text/plain": [
       "<IPython.core.display.HTML object>"
      ]
     },
     "metadata": {},
     "output_type": "display_data"
    },
    {
     "data": {
      "text/html": [
       "Find logs at: <code>.\\wandb\\run-20240621_154525-qxgh7kt1\\logs</code>"
      ],
      "text/plain": [
       "<IPython.core.display.HTML object>"
      ]
     },
     "metadata": {},
     "output_type": "display_data"
    },
    {
     "name": "stderr",
     "output_type": "stream",
     "text": [
      "Run qxgh7kt1 errored:\n",
      "Traceback (most recent call last):\n",
      "  File \"C:\\anaconda3\\envs\\jupyterenv\\lib\\site-packages\\wandb\\agents\\pyagent.py\", line 307, in _run_job\n",
      "    self._function()\n",
      "  File \"C:\\Users\\Addisu\\AppData\\Local\\Temp\\ipykernel_74596\\2644847777.py\", line 221, in sweep_train\n",
      "    train(model,\n",
      "  File \"C:\\Users\\Addisu\\AppData\\Local\\Temp\\ipykernel_74596\\2644847777.py\", line 151, in train\n",
      "    model.fit(X_train,\n",
      "  File \"C:\\anaconda3\\envs\\jupyterenv\\lib\\site-packages\\keras\\src\\utils\\traceback_utils.py\", line 70, in error_handler\n",
      "    raise e.with_traceback(filtered_tb) from None\n",
      "  File \"C:\\anaconda3\\envs\\jupyterenv\\lib\\site-packages\\wandb\\integration\\keras\\keras.py\", line 656, in on_train_batch_end\n",
      "    wandb.run.summary[\"graph\"] = wandb.Graph.from_keras(self.model)\n",
      "  File \"C:\\anaconda3\\envs\\jupyterenv\\lib\\site-packages\\wandb\\sdk\\wandb_summary.py\", line 52, in __setitem__\n",
      "    self.update({key: val})\n",
      "  File \"C:\\anaconda3\\envs\\jupyterenv\\lib\\site-packages\\wandb\\sdk\\wandb_summary.py\", line 74, in update\n",
      "    self._update(record)\n",
      "  File \"C:\\anaconda3\\envs\\jupyterenv\\lib\\site-packages\\wandb\\sdk\\wandb_summary.py\", line 128, in _update\n",
      "    self._update_callback(record)\n",
      "  File \"C:\\anaconda3\\envs\\jupyterenv\\lib\\site-packages\\wandb\\sdk\\wandb_run.py\", line 400, in wrapper_fn\n",
      "    return func(self, *args, **kwargs)\n",
      "  File \"C:\\anaconda3\\envs\\jupyterenv\\lib\\site-packages\\wandb\\sdk\\wandb_run.py\", line 1424, in _summary_update_callback\n",
      "    self._backend.interface.publish_summary(summary_record)\n",
      "  File \"C:\\anaconda3\\envs\\jupyterenv\\lib\\site-packages\\wandb\\sdk\\interface\\interface.py\", line 270, in publish_summary\n",
      "    pb_summary_record = self._make_summary(summary_record)\n",
      "  File \"C:\\anaconda3\\envs\\jupyterenv\\lib\\site-packages\\wandb\\sdk\\interface\\interface.py\", line 248, in _make_summary\n",
      "    json_value = self._summary_encode(item.value, path_from_root)\n",
      "  File \"C:\\anaconda3\\envs\\jupyterenv\\lib\\site-packages\\wandb\\sdk\\interface\\interface.py\", line 221, in _summary_encode\n",
      "    val_to_json(self._run, path_from_root, value, namespace=\"summary\")\n",
      "  File \"C:\\anaconda3\\envs\\jupyterenv\\lib\\site-packages\\wandb\\sdk\\data_types\\utils.py\", line 164, in val_to_json\n",
      "    val.bind_to_run(run, key, namespace)\n",
      "  File \"C:\\anaconda3\\envs\\jupyterenv\\lib\\site-packages\\wandb\\data_types.py\", line 1377, in bind_to_run\n",
      "    with codecs.open(tmp_path, \"w\", encoding=\"utf-8\") as fp:\n",
      "  File \"C:\\anaconda3\\envs\\jupyterenv\\lib\\codecs.py\", line 906, in open\n",
      "    file = builtins.open(filename, mode, buffering)\n",
      "FileNotFoundError: [Errno 2] No such file or directory: 'C:\\\\Users\\\\Addisu\\\\AppData\\\\Local\\\\Temp\\\\tmpbie7lvyxwandb-media\\\\3rffba5u.graph.json'\n",
      "\n",
      "\u001b[34m\u001b[1mwandb\u001b[0m: \u001b[32m\u001b[41mERROR\u001b[0m Run qxgh7kt1 errored:\n",
      "\u001b[34m\u001b[1mwandb\u001b[0m: \u001b[32m\u001b[41mERROR\u001b[0m Traceback (most recent call last):\n",
      "\u001b[34m\u001b[1mwandb\u001b[0m: \u001b[32m\u001b[41mERROR\u001b[0m   File \"C:\\anaconda3\\envs\\jupyterenv\\lib\\site-packages\\wandb\\agents\\pyagent.py\", line 307, in _run_job\n",
      "\u001b[34m\u001b[1mwandb\u001b[0m: \u001b[32m\u001b[41mERROR\u001b[0m     self._function()\n",
      "\u001b[34m\u001b[1mwandb\u001b[0m: \u001b[32m\u001b[41mERROR\u001b[0m   File \"C:\\Users\\Addisu\\AppData\\Local\\Temp\\ipykernel_74596\\2644847777.py\", line 221, in sweep_train\n",
      "\u001b[34m\u001b[1mwandb\u001b[0m: \u001b[32m\u001b[41mERROR\u001b[0m     train(model,\n",
      "\u001b[34m\u001b[1mwandb\u001b[0m: \u001b[32m\u001b[41mERROR\u001b[0m   File \"C:\\Users\\Addisu\\AppData\\Local\\Temp\\ipykernel_74596\\2644847777.py\", line 151, in train\n",
      "\u001b[34m\u001b[1mwandb\u001b[0m: \u001b[32m\u001b[41mERROR\u001b[0m     model.fit(X_train,\n",
      "\u001b[34m\u001b[1mwandb\u001b[0m: \u001b[32m\u001b[41mERROR\u001b[0m   File \"C:\\anaconda3\\envs\\jupyterenv\\lib\\site-packages\\keras\\src\\utils\\traceback_utils.py\", line 70, in error_handler\n",
      "\u001b[34m\u001b[1mwandb\u001b[0m: \u001b[32m\u001b[41mERROR\u001b[0m     raise e.with_traceback(filtered_tb) from None\n",
      "\u001b[34m\u001b[1mwandb\u001b[0m: \u001b[32m\u001b[41mERROR\u001b[0m   File \"C:\\anaconda3\\envs\\jupyterenv\\lib\\site-packages\\wandb\\integration\\keras\\keras.py\", line 656, in on_train_batch_end\n",
      "\u001b[34m\u001b[1mwandb\u001b[0m: \u001b[32m\u001b[41mERROR\u001b[0m     wandb.run.summary[\"graph\"] = wandb.Graph.from_keras(self.model)\n",
      "\u001b[34m\u001b[1mwandb\u001b[0m: \u001b[32m\u001b[41mERROR\u001b[0m   File \"C:\\anaconda3\\envs\\jupyterenv\\lib\\site-packages\\wandb\\sdk\\wandb_summary.py\", line 52, in __setitem__\n",
      "\u001b[34m\u001b[1mwandb\u001b[0m: \u001b[32m\u001b[41mERROR\u001b[0m     self.update({key: val})\n",
      "\u001b[34m\u001b[1mwandb\u001b[0m: \u001b[32m\u001b[41mERROR\u001b[0m   File \"C:\\anaconda3\\envs\\jupyterenv\\lib\\site-packages\\wandb\\sdk\\wandb_summary.py\", line 74, in update\n",
      "\u001b[34m\u001b[1mwandb\u001b[0m: \u001b[32m\u001b[41mERROR\u001b[0m     self._update(record)\n",
      "\u001b[34m\u001b[1mwandb\u001b[0m: \u001b[32m\u001b[41mERROR\u001b[0m   File \"C:\\anaconda3\\envs\\jupyterenv\\lib\\site-packages\\wandb\\sdk\\wandb_summary.py\", line 128, in _update\n",
      "\u001b[34m\u001b[1mwandb\u001b[0m: \u001b[32m\u001b[41mERROR\u001b[0m     self._update_callback(record)\n",
      "\u001b[34m\u001b[1mwandb\u001b[0m: \u001b[32m\u001b[41mERROR\u001b[0m   File \"C:\\anaconda3\\envs\\jupyterenv\\lib\\site-packages\\wandb\\sdk\\wandb_run.py\", line 400, in wrapper_fn\n",
      "\u001b[34m\u001b[1mwandb\u001b[0m: \u001b[32m\u001b[41mERROR\u001b[0m     return func(self, *args, **kwargs)\n",
      "\u001b[34m\u001b[1mwandb\u001b[0m: \u001b[32m\u001b[41mERROR\u001b[0m   File \"C:\\anaconda3\\envs\\jupyterenv\\lib\\site-packages\\wandb\\sdk\\wandb_run.py\", line 1424, in _summary_update_callback\n",
      "\u001b[34m\u001b[1mwandb\u001b[0m: \u001b[32m\u001b[41mERROR\u001b[0m     self._backend.interface.publish_summary(summary_record)\n",
      "\u001b[34m\u001b[1mwandb\u001b[0m: \u001b[32m\u001b[41mERROR\u001b[0m   File \"C:\\anaconda3\\envs\\jupyterenv\\lib\\site-packages\\wandb\\sdk\\interface\\interface.py\", line 270, in publish_summary\n",
      "\u001b[34m\u001b[1mwandb\u001b[0m: \u001b[32m\u001b[41mERROR\u001b[0m     pb_summary_record = self._make_summary(summary_record)\n",
      "\u001b[34m\u001b[1mwandb\u001b[0m: \u001b[32m\u001b[41mERROR\u001b[0m   File \"C:\\anaconda3\\envs\\jupyterenv\\lib\\site-packages\\wandb\\sdk\\interface\\interface.py\", line 248, in _make_summary\n",
      "\u001b[34m\u001b[1mwandb\u001b[0m: \u001b[32m\u001b[41mERROR\u001b[0m     json_value = self._summary_encode(item.value, path_from_root)\n",
      "\u001b[34m\u001b[1mwandb\u001b[0m: \u001b[32m\u001b[41mERROR\u001b[0m   File \"C:\\anaconda3\\envs\\jupyterenv\\lib\\site-packages\\wandb\\sdk\\interface\\interface.py\", line 221, in _summary_encode\n",
      "\u001b[34m\u001b[1mwandb\u001b[0m: \u001b[32m\u001b[41mERROR\u001b[0m     val_to_json(self._run, path_from_root, value, namespace=\"summary\")\n",
      "\u001b[34m\u001b[1mwandb\u001b[0m: \u001b[32m\u001b[41mERROR\u001b[0m   File \"C:\\anaconda3\\envs\\jupyterenv\\lib\\site-packages\\wandb\\sdk\\data_types\\utils.py\", line 164, in val_to_json\n",
      "\u001b[34m\u001b[1mwandb\u001b[0m: \u001b[32m\u001b[41mERROR\u001b[0m     val.bind_to_run(run, key, namespace)\n",
      "\u001b[34m\u001b[1mwandb\u001b[0m: \u001b[32m\u001b[41mERROR\u001b[0m   File \"C:\\anaconda3\\envs\\jupyterenv\\lib\\site-packages\\wandb\\data_types.py\", line 1377, in bind_to_run\n",
      "\u001b[34m\u001b[1mwandb\u001b[0m: \u001b[32m\u001b[41mERROR\u001b[0m     with codecs.open(tmp_path, \"w\", encoding=\"utf-8\") as fp:\n",
      "\u001b[34m\u001b[1mwandb\u001b[0m: \u001b[32m\u001b[41mERROR\u001b[0m   File \"C:\\anaconda3\\envs\\jupyterenv\\lib\\codecs.py\", line 906, in open\n",
      "\u001b[34m\u001b[1mwandb\u001b[0m: \u001b[32m\u001b[41mERROR\u001b[0m     file = builtins.open(filename, mode, buffering)\n",
      "\u001b[34m\u001b[1mwandb\u001b[0m: \u001b[32m\u001b[41mERROR\u001b[0m FileNotFoundError: [Errno 2] No such file or directory: 'C:\\\\Users\\\\Addisu\\\\AppData\\\\Local\\\\Temp\\\\tmpbie7lvyxwandb-media\\\\3rffba5u.graph.json'\n",
      "\u001b[34m\u001b[1mwandb\u001b[0m: \u001b[32m\u001b[41mERROR\u001b[0m \n",
      "\u001b[34m\u001b[1mwandb\u001b[0m: Sweep Agent: Waiting for job.\n",
      "\u001b[34m\u001b[1mwandb\u001b[0m: Job received.\n",
      "\u001b[34m\u001b[1mwandb\u001b[0m: Agent Starting Run: e0bw7sof with config:\n",
      "\u001b[34m\u001b[1mwandb\u001b[0m: \tbatch_size: 48\n",
      "\u001b[34m\u001b[1mwandb\u001b[0m: \tdense_activation: sigmoid\n",
      "\u001b[34m\u001b[1mwandb\u001b[0m: \tdropout: 0.1\n",
      "\u001b[34m\u001b[1mwandb\u001b[0m: \tepochs: 1\n",
      "\u001b[34m\u001b[1mwandb\u001b[0m: \tlearning_rate: 0.006176254834049147\n",
      "\u001b[34m\u001b[1mwandb\u001b[0m: \toptimizer: sgd\n"
     ]
    },
    {
     "data": {
      "text/html": [
       "wandb version 0.17.2 is available!  To upgrade, please run:\n",
       " $ pip install wandb --upgrade"
      ],
      "text/plain": [
       "<IPython.core.display.HTML object>"
      ]
     },
     "metadata": {},
     "output_type": "display_data"
    },
    {
     "data": {
      "text/html": [
       "Tracking run with wandb version 0.17.0"
      ],
      "text/plain": [
       "<IPython.core.display.HTML object>"
      ]
     },
     "metadata": {},
     "output_type": "display_data"
    },
    {
     "data": {
      "text/html": [
       "Run data is saved locally in <code>C:\\Users\\Addisu\\Desktop\\kidi files\\Python workshop with ellen\\wandb\\run-20240621_154600-e0bw7sof</code>"
      ],
      "text/plain": [
       "<IPython.core.display.HTML object>"
      ]
     },
     "metadata": {},
     "output_type": "display_data"
    },
    {
     "data": {
      "text/html": [
       "Syncing run <strong><a href='https://wandb.ai/evapppp/sweeps-keras/runs/e0bw7sof' target=\"_blank\">devout-sweep-29</a></strong> to <a href='https://wandb.ai/evapppp/sweeps-keras' target=\"_blank\">Weights & Biases</a> (<a href='https://wandb.me/run' target=\"_blank\">docs</a>)<br/>Sweep page: <a href='https://wandb.ai/evapppp/sweeps-keras/sweeps/qu378scj' target=\"_blank\">https://wandb.ai/evapppp/sweeps-keras/sweeps/qu378scj</a>"
      ],
      "text/plain": [
       "<IPython.core.display.HTML object>"
      ]
     },
     "metadata": {},
     "output_type": "display_data"
    },
    {
     "data": {
      "text/html": [
       " View project at <a href='https://wandb.ai/evapppp/sweeps-keras' target=\"_blank\">https://wandb.ai/evapppp/sweeps-keras</a>"
      ],
      "text/plain": [
       "<IPython.core.display.HTML object>"
      ]
     },
     "metadata": {},
     "output_type": "display_data"
    },
    {
     "data": {
      "text/html": [
       " View sweep at <a href='https://wandb.ai/evapppp/sweeps-keras/sweeps/qu378scj' target=\"_blank\">https://wandb.ai/evapppp/sweeps-keras/sweeps/qu378scj</a>"
      ],
      "text/plain": [
       "<IPython.core.display.HTML object>"
      ]
     },
     "metadata": {},
     "output_type": "display_data"
    },
    {
     "data": {
      "text/html": [
       " View run at <a href='https://wandb.ai/evapppp/sweeps-keras/runs/e0bw7sof' target=\"_blank\">https://wandb.ai/evapppp/sweeps-keras/runs/e0bw7sof</a>"
      ],
      "text/plain": [
       "<IPython.core.display.HTML object>"
      ]
     },
     "metadata": {},
     "output_type": "display_data"
    },
    {
     "name": "stderr",
     "output_type": "stream",
     "text": [
      "Traceback (most recent call last):\n",
      "  File \"C:\\Users\\Addisu\\AppData\\Local\\Temp\\ipykernel_74596\\2644847777.py\", line 221, in sweep_train\n",
      "    train(model,\n",
      "  File \"C:\\Users\\Addisu\\AppData\\Local\\Temp\\ipykernel_74596\\2644847777.py\", line 151, in train\n",
      "    model.fit(X_train,\n",
      "  File \"C:\\anaconda3\\envs\\jupyterenv\\lib\\site-packages\\keras\\src\\utils\\traceback_utils.py\", line 70, in error_handler\n",
      "    raise e.with_traceback(filtered_tb) from None\n",
      "  File \"C:\\anaconda3\\envs\\jupyterenv\\lib\\site-packages\\wandb\\integration\\keras\\keras.py\", line 656, in on_train_batch_end\n",
      "    wandb.run.summary[\"graph\"] = wandb.Graph.from_keras(self.model)\n",
      "  File \"C:\\anaconda3\\envs\\jupyterenv\\lib\\site-packages\\wandb\\sdk\\wandb_summary.py\", line 52, in __setitem__\n",
      "    self.update({key: val})\n",
      "  File \"C:\\anaconda3\\envs\\jupyterenv\\lib\\site-packages\\wandb\\sdk\\wandb_summary.py\", line 74, in update\n",
      "    self._update(record)\n",
      "  File \"C:\\anaconda3\\envs\\jupyterenv\\lib\\site-packages\\wandb\\sdk\\wandb_summary.py\", line 128, in _update\n",
      "    self._update_callback(record)\n",
      "  File \"C:\\anaconda3\\envs\\jupyterenv\\lib\\site-packages\\wandb\\sdk\\wandb_run.py\", line 400, in wrapper_fn\n",
      "    return func(self, *args, **kwargs)\n",
      "  File \"C:\\anaconda3\\envs\\jupyterenv\\lib\\site-packages\\wandb\\sdk\\wandb_run.py\", line 1424, in _summary_update_callback\n",
      "    self._backend.interface.publish_summary(summary_record)\n",
      "  File \"C:\\anaconda3\\envs\\jupyterenv\\lib\\site-packages\\wandb\\sdk\\interface\\interface.py\", line 270, in publish_summary\n",
      "    pb_summary_record = self._make_summary(summary_record)\n",
      "  File \"C:\\anaconda3\\envs\\jupyterenv\\lib\\site-packages\\wandb\\sdk\\interface\\interface.py\", line 248, in _make_summary\n",
      "    json_value = self._summary_encode(item.value, path_from_root)\n",
      "  File \"C:\\anaconda3\\envs\\jupyterenv\\lib\\site-packages\\wandb\\sdk\\interface\\interface.py\", line 221, in _summary_encode\n",
      "    val_to_json(self._run, path_from_root, value, namespace=\"summary\")\n",
      "  File \"C:\\anaconda3\\envs\\jupyterenv\\lib\\site-packages\\wandb\\sdk\\data_types\\utils.py\", line 164, in val_to_json\n",
      "    val.bind_to_run(run, key, namespace)\n",
      "  File \"C:\\anaconda3\\envs\\jupyterenv\\lib\\site-packages\\wandb\\data_types.py\", line 1377, in bind_to_run\n",
      "    with codecs.open(tmp_path, \"w\", encoding=\"utf-8\") as fp:\n",
      "  File \"C:\\anaconda3\\envs\\jupyterenv\\lib\\codecs.py\", line 906, in open\n",
      "    file = builtins.open(filename, mode, buffering)\n",
      "FileNotFoundError: [Errno 2] No such file or directory: 'C:\\\\Users\\\\Addisu\\\\AppData\\\\Local\\\\Temp\\\\tmpbie7lvyxwandb-media\\\\ryiwuzg4.graph.json'\n"
     ]
    },
    {
     "data": {
      "text/html": [
       " View run <strong style=\"color:#cdcd00\">devout-sweep-29</strong> at: <a href='https://wandb.ai/evapppp/sweeps-keras/runs/e0bw7sof' target=\"_blank\">https://wandb.ai/evapppp/sweeps-keras/runs/e0bw7sof</a><br/> View project at: <a href='https://wandb.ai/evapppp/sweeps-keras' target=\"_blank\">https://wandb.ai/evapppp/sweeps-keras</a><br/>Synced 5 W&B file(s), 0 media file(s), 0 artifact file(s) and 0 other file(s)"
      ],
      "text/plain": [
       "<IPython.core.display.HTML object>"
      ]
     },
     "metadata": {},
     "output_type": "display_data"
    },
    {
     "data": {
      "text/html": [
       "Find logs at: <code>.\\wandb\\run-20240621_154600-e0bw7sof\\logs</code>"
      ],
      "text/plain": [
       "<IPython.core.display.HTML object>"
      ]
     },
     "metadata": {},
     "output_type": "display_data"
    },
    {
     "name": "stderr",
     "output_type": "stream",
     "text": [
      "Run e0bw7sof errored:\n",
      "Traceback (most recent call last):\n",
      "  File \"C:\\anaconda3\\envs\\jupyterenv\\lib\\site-packages\\wandb\\agents\\pyagent.py\", line 307, in _run_job\n",
      "    self._function()\n",
      "  File \"C:\\Users\\Addisu\\AppData\\Local\\Temp\\ipykernel_74596\\2644847777.py\", line 221, in sweep_train\n",
      "    train(model,\n",
      "  File \"C:\\Users\\Addisu\\AppData\\Local\\Temp\\ipykernel_74596\\2644847777.py\", line 151, in train\n",
      "    model.fit(X_train,\n",
      "  File \"C:\\anaconda3\\envs\\jupyterenv\\lib\\site-packages\\keras\\src\\utils\\traceback_utils.py\", line 70, in error_handler\n",
      "    raise e.with_traceback(filtered_tb) from None\n",
      "  File \"C:\\anaconda3\\envs\\jupyterenv\\lib\\site-packages\\wandb\\integration\\keras\\keras.py\", line 656, in on_train_batch_end\n",
      "    wandb.run.summary[\"graph\"] = wandb.Graph.from_keras(self.model)\n",
      "  File \"C:\\anaconda3\\envs\\jupyterenv\\lib\\site-packages\\wandb\\sdk\\wandb_summary.py\", line 52, in __setitem__\n",
      "    self.update({key: val})\n",
      "  File \"C:\\anaconda3\\envs\\jupyterenv\\lib\\site-packages\\wandb\\sdk\\wandb_summary.py\", line 74, in update\n",
      "    self._update(record)\n",
      "  File \"C:\\anaconda3\\envs\\jupyterenv\\lib\\site-packages\\wandb\\sdk\\wandb_summary.py\", line 128, in _update\n",
      "    self._update_callback(record)\n",
      "  File \"C:\\anaconda3\\envs\\jupyterenv\\lib\\site-packages\\wandb\\sdk\\wandb_run.py\", line 400, in wrapper_fn\n",
      "    return func(self, *args, **kwargs)\n",
      "  File \"C:\\anaconda3\\envs\\jupyterenv\\lib\\site-packages\\wandb\\sdk\\wandb_run.py\", line 1424, in _summary_update_callback\n",
      "    self._backend.interface.publish_summary(summary_record)\n",
      "  File \"C:\\anaconda3\\envs\\jupyterenv\\lib\\site-packages\\wandb\\sdk\\interface\\interface.py\", line 270, in publish_summary\n",
      "    pb_summary_record = self._make_summary(summary_record)\n",
      "  File \"C:\\anaconda3\\envs\\jupyterenv\\lib\\site-packages\\wandb\\sdk\\interface\\interface.py\", line 248, in _make_summary\n",
      "    json_value = self._summary_encode(item.value, path_from_root)\n",
      "  File \"C:\\anaconda3\\envs\\jupyterenv\\lib\\site-packages\\wandb\\sdk\\interface\\interface.py\", line 221, in _summary_encode\n",
      "    val_to_json(self._run, path_from_root, value, namespace=\"summary\")\n",
      "  File \"C:\\anaconda3\\envs\\jupyterenv\\lib\\site-packages\\wandb\\sdk\\data_types\\utils.py\", line 164, in val_to_json\n",
      "    val.bind_to_run(run, key, namespace)\n",
      "  File \"C:\\anaconda3\\envs\\jupyterenv\\lib\\site-packages\\wandb\\data_types.py\", line 1377, in bind_to_run\n",
      "    with codecs.open(tmp_path, \"w\", encoding=\"utf-8\") as fp:\n",
      "  File \"C:\\anaconda3\\envs\\jupyterenv\\lib\\codecs.py\", line 906, in open\n",
      "    file = builtins.open(filename, mode, buffering)\n",
      "FileNotFoundError: [Errno 2] No such file or directory: 'C:\\\\Users\\\\Addisu\\\\AppData\\\\Local\\\\Temp\\\\tmpbie7lvyxwandb-media\\\\ryiwuzg4.graph.json'\n",
      "\n",
      "\u001b[34m\u001b[1mwandb\u001b[0m: \u001b[32m\u001b[41mERROR\u001b[0m Run e0bw7sof errored:\n",
      "\u001b[34m\u001b[1mwandb\u001b[0m: \u001b[32m\u001b[41mERROR\u001b[0m Traceback (most recent call last):\n",
      "\u001b[34m\u001b[1mwandb\u001b[0m: \u001b[32m\u001b[41mERROR\u001b[0m   File \"C:\\anaconda3\\envs\\jupyterenv\\lib\\site-packages\\wandb\\agents\\pyagent.py\", line 307, in _run_job\n",
      "\u001b[34m\u001b[1mwandb\u001b[0m: \u001b[32m\u001b[41mERROR\u001b[0m     self._function()\n",
      "\u001b[34m\u001b[1mwandb\u001b[0m: \u001b[32m\u001b[41mERROR\u001b[0m   File \"C:\\Users\\Addisu\\AppData\\Local\\Temp\\ipykernel_74596\\2644847777.py\", line 221, in sweep_train\n",
      "\u001b[34m\u001b[1mwandb\u001b[0m: \u001b[32m\u001b[41mERROR\u001b[0m     train(model,\n",
      "\u001b[34m\u001b[1mwandb\u001b[0m: \u001b[32m\u001b[41mERROR\u001b[0m   File \"C:\\Users\\Addisu\\AppData\\Local\\Temp\\ipykernel_74596\\2644847777.py\", line 151, in train\n",
      "\u001b[34m\u001b[1mwandb\u001b[0m: \u001b[32m\u001b[41mERROR\u001b[0m     model.fit(X_train,\n",
      "\u001b[34m\u001b[1mwandb\u001b[0m: \u001b[32m\u001b[41mERROR\u001b[0m   File \"C:\\anaconda3\\envs\\jupyterenv\\lib\\site-packages\\keras\\src\\utils\\traceback_utils.py\", line 70, in error_handler\n",
      "\u001b[34m\u001b[1mwandb\u001b[0m: \u001b[32m\u001b[41mERROR\u001b[0m     raise e.with_traceback(filtered_tb) from None\n",
      "\u001b[34m\u001b[1mwandb\u001b[0m: \u001b[32m\u001b[41mERROR\u001b[0m   File \"C:\\anaconda3\\envs\\jupyterenv\\lib\\site-packages\\wandb\\integration\\keras\\keras.py\", line 656, in on_train_batch_end\n",
      "\u001b[34m\u001b[1mwandb\u001b[0m: \u001b[32m\u001b[41mERROR\u001b[0m     wandb.run.summary[\"graph\"] = wandb.Graph.from_keras(self.model)\n",
      "\u001b[34m\u001b[1mwandb\u001b[0m: \u001b[32m\u001b[41mERROR\u001b[0m   File \"C:\\anaconda3\\envs\\jupyterenv\\lib\\site-packages\\wandb\\sdk\\wandb_summary.py\", line 52, in __setitem__\n",
      "\u001b[34m\u001b[1mwandb\u001b[0m: \u001b[32m\u001b[41mERROR\u001b[0m     self.update({key: val})\n",
      "\u001b[34m\u001b[1mwandb\u001b[0m: \u001b[32m\u001b[41mERROR\u001b[0m   File \"C:\\anaconda3\\envs\\jupyterenv\\lib\\site-packages\\wandb\\sdk\\wandb_summary.py\", line 74, in update\n",
      "\u001b[34m\u001b[1mwandb\u001b[0m: \u001b[32m\u001b[41mERROR\u001b[0m     self._update(record)\n",
      "\u001b[34m\u001b[1mwandb\u001b[0m: \u001b[32m\u001b[41mERROR\u001b[0m   File \"C:\\anaconda3\\envs\\jupyterenv\\lib\\site-packages\\wandb\\sdk\\wandb_summary.py\", line 128, in _update\n",
      "\u001b[34m\u001b[1mwandb\u001b[0m: \u001b[32m\u001b[41mERROR\u001b[0m     self._update_callback(record)\n",
      "\u001b[34m\u001b[1mwandb\u001b[0m: \u001b[32m\u001b[41mERROR\u001b[0m   File \"C:\\anaconda3\\envs\\jupyterenv\\lib\\site-packages\\wandb\\sdk\\wandb_run.py\", line 400, in wrapper_fn\n",
      "\u001b[34m\u001b[1mwandb\u001b[0m: \u001b[32m\u001b[41mERROR\u001b[0m     return func(self, *args, **kwargs)\n",
      "\u001b[34m\u001b[1mwandb\u001b[0m: \u001b[32m\u001b[41mERROR\u001b[0m   File \"C:\\anaconda3\\envs\\jupyterenv\\lib\\site-packages\\wandb\\sdk\\wandb_run.py\", line 1424, in _summary_update_callback\n",
      "\u001b[34m\u001b[1mwandb\u001b[0m: \u001b[32m\u001b[41mERROR\u001b[0m     self._backend.interface.publish_summary(summary_record)\n",
      "\u001b[34m\u001b[1mwandb\u001b[0m: \u001b[32m\u001b[41mERROR\u001b[0m   File \"C:\\anaconda3\\envs\\jupyterenv\\lib\\site-packages\\wandb\\sdk\\interface\\interface.py\", line 270, in publish_summary\n",
      "\u001b[34m\u001b[1mwandb\u001b[0m: \u001b[32m\u001b[41mERROR\u001b[0m     pb_summary_record = self._make_summary(summary_record)\n",
      "\u001b[34m\u001b[1mwandb\u001b[0m: \u001b[32m\u001b[41mERROR\u001b[0m   File \"C:\\anaconda3\\envs\\jupyterenv\\lib\\site-packages\\wandb\\sdk\\interface\\interface.py\", line 248, in _make_summary\n",
      "\u001b[34m\u001b[1mwandb\u001b[0m: \u001b[32m\u001b[41mERROR\u001b[0m     json_value = self._summary_encode(item.value, path_from_root)\n",
      "\u001b[34m\u001b[1mwandb\u001b[0m: \u001b[32m\u001b[41mERROR\u001b[0m   File \"C:\\anaconda3\\envs\\jupyterenv\\lib\\site-packages\\wandb\\sdk\\interface\\interface.py\", line 221, in _summary_encode\n",
      "\u001b[34m\u001b[1mwandb\u001b[0m: \u001b[32m\u001b[41mERROR\u001b[0m     val_to_json(self._run, path_from_root, value, namespace=\"summary\")\n",
      "\u001b[34m\u001b[1mwandb\u001b[0m: \u001b[32m\u001b[41mERROR\u001b[0m   File \"C:\\anaconda3\\envs\\jupyterenv\\lib\\site-packages\\wandb\\sdk\\data_types\\utils.py\", line 164, in val_to_json\n",
      "\u001b[34m\u001b[1mwandb\u001b[0m: \u001b[32m\u001b[41mERROR\u001b[0m     val.bind_to_run(run, key, namespace)\n",
      "\u001b[34m\u001b[1mwandb\u001b[0m: \u001b[32m\u001b[41mERROR\u001b[0m   File \"C:\\anaconda3\\envs\\jupyterenv\\lib\\site-packages\\wandb\\data_types.py\", line 1377, in bind_to_run\n",
      "\u001b[34m\u001b[1mwandb\u001b[0m: \u001b[32m\u001b[41mERROR\u001b[0m     with codecs.open(tmp_path, \"w\", encoding=\"utf-8\") as fp:\n",
      "\u001b[34m\u001b[1mwandb\u001b[0m: \u001b[32m\u001b[41mERROR\u001b[0m   File \"C:\\anaconda3\\envs\\jupyterenv\\lib\\codecs.py\", line 906, in open\n",
      "\u001b[34m\u001b[1mwandb\u001b[0m: \u001b[32m\u001b[41mERROR\u001b[0m     file = builtins.open(filename, mode, buffering)\n",
      "\u001b[34m\u001b[1mwandb\u001b[0m: \u001b[32m\u001b[41mERROR\u001b[0m FileNotFoundError: [Errno 2] No such file or directory: 'C:\\\\Users\\\\Addisu\\\\AppData\\\\Local\\\\Temp\\\\tmpbie7lvyxwandb-media\\\\ryiwuzg4.graph.json'\n",
      "\u001b[34m\u001b[1mwandb\u001b[0m: \u001b[32m\u001b[41mERROR\u001b[0m \n",
      "\u001b[34m\u001b[1mwandb\u001b[0m: Agent Starting Run: 1fqvp5e3 with config:\n",
      "\u001b[34m\u001b[1mwandb\u001b[0m: \tbatch_size: 48\n",
      "\u001b[34m\u001b[1mwandb\u001b[0m: \tdense_activation: relu\n",
      "\u001b[34m\u001b[1mwandb\u001b[0m: \tdropout: 0.1\n",
      "\u001b[34m\u001b[1mwandb\u001b[0m: \tepochs: 1\n",
      "\u001b[34m\u001b[1mwandb\u001b[0m: \tlearning_rate: 0.0024489167359607266\n",
      "\u001b[34m\u001b[1mwandb\u001b[0m: \toptimizer: sgd\n"
     ]
    },
    {
     "data": {
      "text/html": [
       "wandb version 0.17.2 is available!  To upgrade, please run:\n",
       " $ pip install wandb --upgrade"
      ],
      "text/plain": [
       "<IPython.core.display.HTML object>"
      ]
     },
     "metadata": {},
     "output_type": "display_data"
    },
    {
     "data": {
      "text/html": [
       "Tracking run with wandb version 0.17.0"
      ],
      "text/plain": [
       "<IPython.core.display.HTML object>"
      ]
     },
     "metadata": {},
     "output_type": "display_data"
    },
    {
     "data": {
      "text/html": [
       "Run data is saved locally in <code>C:\\Users\\Addisu\\Desktop\\kidi files\\Python workshop with ellen\\wandb\\run-20240621_154626-1fqvp5e3</code>"
      ],
      "text/plain": [
       "<IPython.core.display.HTML object>"
      ]
     },
     "metadata": {},
     "output_type": "display_data"
    },
    {
     "data": {
      "text/html": [
       "Syncing run <strong><a href='https://wandb.ai/evapppp/sweeps-keras/runs/1fqvp5e3' target=\"_blank\">lively-sweep-30</a></strong> to <a href='https://wandb.ai/evapppp/sweeps-keras' target=\"_blank\">Weights & Biases</a> (<a href='https://wandb.me/run' target=\"_blank\">docs</a>)<br/>Sweep page: <a href='https://wandb.ai/evapppp/sweeps-keras/sweeps/qu378scj' target=\"_blank\">https://wandb.ai/evapppp/sweeps-keras/sweeps/qu378scj</a>"
      ],
      "text/plain": [
       "<IPython.core.display.HTML object>"
      ]
     },
     "metadata": {},
     "output_type": "display_data"
    },
    {
     "data": {
      "text/html": [
       " View project at <a href='https://wandb.ai/evapppp/sweeps-keras' target=\"_blank\">https://wandb.ai/evapppp/sweeps-keras</a>"
      ],
      "text/plain": [
       "<IPython.core.display.HTML object>"
      ]
     },
     "metadata": {},
     "output_type": "display_data"
    },
    {
     "data": {
      "text/html": [
       " View sweep at <a href='https://wandb.ai/evapppp/sweeps-keras/sweeps/qu378scj' target=\"_blank\">https://wandb.ai/evapppp/sweeps-keras/sweeps/qu378scj</a>"
      ],
      "text/plain": [
       "<IPython.core.display.HTML object>"
      ]
     },
     "metadata": {},
     "output_type": "display_data"
    },
    {
     "data": {
      "text/html": [
       " View run at <a href='https://wandb.ai/evapppp/sweeps-keras/runs/1fqvp5e3' target=\"_blank\">https://wandb.ai/evapppp/sweeps-keras/runs/1fqvp5e3</a>"
      ],
      "text/plain": [
       "<IPython.core.display.HTML object>"
      ]
     },
     "metadata": {},
     "output_type": "display_data"
    },
    {
     "name": "stderr",
     "output_type": "stream",
     "text": [
      "Traceback (most recent call last):\n",
      "  File \"C:\\Users\\Addisu\\AppData\\Local\\Temp\\ipykernel_74596\\2644847777.py\", line 221, in sweep_train\n",
      "    train(model,\n",
      "  File \"C:\\Users\\Addisu\\AppData\\Local\\Temp\\ipykernel_74596\\2644847777.py\", line 151, in train\n",
      "    model.fit(X_train,\n",
      "  File \"C:\\anaconda3\\envs\\jupyterenv\\lib\\site-packages\\keras\\src\\utils\\traceback_utils.py\", line 70, in error_handler\n",
      "    raise e.with_traceback(filtered_tb) from None\n",
      "  File \"C:\\anaconda3\\envs\\jupyterenv\\lib\\site-packages\\wandb\\integration\\keras\\keras.py\", line 656, in on_train_batch_end\n",
      "    wandb.run.summary[\"graph\"] = wandb.Graph.from_keras(self.model)\n",
      "  File \"C:\\anaconda3\\envs\\jupyterenv\\lib\\site-packages\\wandb\\sdk\\wandb_summary.py\", line 52, in __setitem__\n",
      "    self.update({key: val})\n",
      "  File \"C:\\anaconda3\\envs\\jupyterenv\\lib\\site-packages\\wandb\\sdk\\wandb_summary.py\", line 74, in update\n",
      "    self._update(record)\n",
      "  File \"C:\\anaconda3\\envs\\jupyterenv\\lib\\site-packages\\wandb\\sdk\\wandb_summary.py\", line 128, in _update\n",
      "    self._update_callback(record)\n",
      "  File \"C:\\anaconda3\\envs\\jupyterenv\\lib\\site-packages\\wandb\\sdk\\wandb_run.py\", line 400, in wrapper_fn\n",
      "    return func(self, *args, **kwargs)\n",
      "  File \"C:\\anaconda3\\envs\\jupyterenv\\lib\\site-packages\\wandb\\sdk\\wandb_run.py\", line 1424, in _summary_update_callback\n",
      "    self._backend.interface.publish_summary(summary_record)\n",
      "  File \"C:\\anaconda3\\envs\\jupyterenv\\lib\\site-packages\\wandb\\sdk\\interface\\interface.py\", line 270, in publish_summary\n",
      "    pb_summary_record = self._make_summary(summary_record)\n",
      "  File \"C:\\anaconda3\\envs\\jupyterenv\\lib\\site-packages\\wandb\\sdk\\interface\\interface.py\", line 248, in _make_summary\n",
      "    json_value = self._summary_encode(item.value, path_from_root)\n",
      "  File \"C:\\anaconda3\\envs\\jupyterenv\\lib\\site-packages\\wandb\\sdk\\interface\\interface.py\", line 221, in _summary_encode\n",
      "    val_to_json(self._run, path_from_root, value, namespace=\"summary\")\n",
      "  File \"C:\\anaconda3\\envs\\jupyterenv\\lib\\site-packages\\wandb\\sdk\\data_types\\utils.py\", line 164, in val_to_json\n",
      "    val.bind_to_run(run, key, namespace)\n",
      "  File \"C:\\anaconda3\\envs\\jupyterenv\\lib\\site-packages\\wandb\\data_types.py\", line 1377, in bind_to_run\n",
      "    with codecs.open(tmp_path, \"w\", encoding=\"utf-8\") as fp:\n",
      "  File \"C:\\anaconda3\\envs\\jupyterenv\\lib\\codecs.py\", line 906, in open\n",
      "    file = builtins.open(filename, mode, buffering)\n",
      "FileNotFoundError: [Errno 2] No such file or directory: 'C:\\\\Users\\\\Addisu\\\\AppData\\\\Local\\\\Temp\\\\tmpbie7lvyxwandb-media\\\\eqyb6bes.graph.json'\n"
     ]
    },
    {
     "data": {
      "text/html": [
       " View run <strong style=\"color:#cdcd00\">lively-sweep-30</strong> at: <a href='https://wandb.ai/evapppp/sweeps-keras/runs/1fqvp5e3' target=\"_blank\">https://wandb.ai/evapppp/sweeps-keras/runs/1fqvp5e3</a><br/> View project at: <a href='https://wandb.ai/evapppp/sweeps-keras' target=\"_blank\">https://wandb.ai/evapppp/sweeps-keras</a><br/>Synced 5 W&B file(s), 0 media file(s), 0 artifact file(s) and 0 other file(s)"
      ],
      "text/plain": [
       "<IPython.core.display.HTML object>"
      ]
     },
     "metadata": {},
     "output_type": "display_data"
    },
    {
     "data": {
      "text/html": [
       "Find logs at: <code>.\\wandb\\run-20240621_154626-1fqvp5e3\\logs</code>"
      ],
      "text/plain": [
       "<IPython.core.display.HTML object>"
      ]
     },
     "metadata": {},
     "output_type": "display_data"
    },
    {
     "name": "stderr",
     "output_type": "stream",
     "text": [
      "Run 1fqvp5e3 errored:\n",
      "Traceback (most recent call last):\n",
      "  File \"C:\\anaconda3\\envs\\jupyterenv\\lib\\site-packages\\wandb\\agents\\pyagent.py\", line 307, in _run_job\n",
      "    self._function()\n",
      "  File \"C:\\Users\\Addisu\\AppData\\Local\\Temp\\ipykernel_74596\\2644847777.py\", line 221, in sweep_train\n",
      "    train(model,\n",
      "  File \"C:\\Users\\Addisu\\AppData\\Local\\Temp\\ipykernel_74596\\2644847777.py\", line 151, in train\n",
      "    model.fit(X_train,\n",
      "  File \"C:\\anaconda3\\envs\\jupyterenv\\lib\\site-packages\\keras\\src\\utils\\traceback_utils.py\", line 70, in error_handler\n",
      "    raise e.with_traceback(filtered_tb) from None\n",
      "  File \"C:\\anaconda3\\envs\\jupyterenv\\lib\\site-packages\\wandb\\integration\\keras\\keras.py\", line 656, in on_train_batch_end\n",
      "    wandb.run.summary[\"graph\"] = wandb.Graph.from_keras(self.model)\n",
      "  File \"C:\\anaconda3\\envs\\jupyterenv\\lib\\site-packages\\wandb\\sdk\\wandb_summary.py\", line 52, in __setitem__\n",
      "    self.update({key: val})\n",
      "  File \"C:\\anaconda3\\envs\\jupyterenv\\lib\\site-packages\\wandb\\sdk\\wandb_summary.py\", line 74, in update\n",
      "    self._update(record)\n",
      "  File \"C:\\anaconda3\\envs\\jupyterenv\\lib\\site-packages\\wandb\\sdk\\wandb_summary.py\", line 128, in _update\n",
      "    self._update_callback(record)\n",
      "  File \"C:\\anaconda3\\envs\\jupyterenv\\lib\\site-packages\\wandb\\sdk\\wandb_run.py\", line 400, in wrapper_fn\n",
      "    return func(self, *args, **kwargs)\n",
      "  File \"C:\\anaconda3\\envs\\jupyterenv\\lib\\site-packages\\wandb\\sdk\\wandb_run.py\", line 1424, in _summary_update_callback\n",
      "    self._backend.interface.publish_summary(summary_record)\n",
      "  File \"C:\\anaconda3\\envs\\jupyterenv\\lib\\site-packages\\wandb\\sdk\\interface\\interface.py\", line 270, in publish_summary\n",
      "    pb_summary_record = self._make_summary(summary_record)\n",
      "  File \"C:\\anaconda3\\envs\\jupyterenv\\lib\\site-packages\\wandb\\sdk\\interface\\interface.py\", line 248, in _make_summary\n",
      "    json_value = self._summary_encode(item.value, path_from_root)\n",
      "  File \"C:\\anaconda3\\envs\\jupyterenv\\lib\\site-packages\\wandb\\sdk\\interface\\interface.py\", line 221, in _summary_encode\n",
      "    val_to_json(self._run, path_from_root, value, namespace=\"summary\")\n",
      "  File \"C:\\anaconda3\\envs\\jupyterenv\\lib\\site-packages\\wandb\\sdk\\data_types\\utils.py\", line 164, in val_to_json\n",
      "    val.bind_to_run(run, key, namespace)\n",
      "  File \"C:\\anaconda3\\envs\\jupyterenv\\lib\\site-packages\\wandb\\data_types.py\", line 1377, in bind_to_run\n",
      "    with codecs.open(tmp_path, \"w\", encoding=\"utf-8\") as fp:\n",
      "  File \"C:\\anaconda3\\envs\\jupyterenv\\lib\\codecs.py\", line 906, in open\n",
      "    file = builtins.open(filename, mode, buffering)\n",
      "FileNotFoundError: [Errno 2] No such file or directory: 'C:\\\\Users\\\\Addisu\\\\AppData\\\\Local\\\\Temp\\\\tmpbie7lvyxwandb-media\\\\eqyb6bes.graph.json'\n",
      "\n",
      "\u001b[34m\u001b[1mwandb\u001b[0m: \u001b[32m\u001b[41mERROR\u001b[0m Run 1fqvp5e3 errored:\n",
      "\u001b[34m\u001b[1mwandb\u001b[0m: \u001b[32m\u001b[41mERROR\u001b[0m Traceback (most recent call last):\n",
      "\u001b[34m\u001b[1mwandb\u001b[0m: \u001b[32m\u001b[41mERROR\u001b[0m   File \"C:\\anaconda3\\envs\\jupyterenv\\lib\\site-packages\\wandb\\agents\\pyagent.py\", line 307, in _run_job\n",
      "\u001b[34m\u001b[1mwandb\u001b[0m: \u001b[32m\u001b[41mERROR\u001b[0m     self._function()\n",
      "\u001b[34m\u001b[1mwandb\u001b[0m: \u001b[32m\u001b[41mERROR\u001b[0m   File \"C:\\Users\\Addisu\\AppData\\Local\\Temp\\ipykernel_74596\\2644847777.py\", line 221, in sweep_train\n",
      "\u001b[34m\u001b[1mwandb\u001b[0m: \u001b[32m\u001b[41mERROR\u001b[0m     train(model,\n",
      "\u001b[34m\u001b[1mwandb\u001b[0m: \u001b[32m\u001b[41mERROR\u001b[0m   File \"C:\\Users\\Addisu\\AppData\\Local\\Temp\\ipykernel_74596\\2644847777.py\", line 151, in train\n",
      "\u001b[34m\u001b[1mwandb\u001b[0m: \u001b[32m\u001b[41mERROR\u001b[0m     model.fit(X_train,\n",
      "\u001b[34m\u001b[1mwandb\u001b[0m: \u001b[32m\u001b[41mERROR\u001b[0m   File \"C:\\anaconda3\\envs\\jupyterenv\\lib\\site-packages\\keras\\src\\utils\\traceback_utils.py\", line 70, in error_handler\n",
      "\u001b[34m\u001b[1mwandb\u001b[0m: \u001b[32m\u001b[41mERROR\u001b[0m     raise e.with_traceback(filtered_tb) from None\n",
      "\u001b[34m\u001b[1mwandb\u001b[0m: \u001b[32m\u001b[41mERROR\u001b[0m   File \"C:\\anaconda3\\envs\\jupyterenv\\lib\\site-packages\\wandb\\integration\\keras\\keras.py\", line 656, in on_train_batch_end\n",
      "\u001b[34m\u001b[1mwandb\u001b[0m: \u001b[32m\u001b[41mERROR\u001b[0m     wandb.run.summary[\"graph\"] = wandb.Graph.from_keras(self.model)\n",
      "\u001b[34m\u001b[1mwandb\u001b[0m: \u001b[32m\u001b[41mERROR\u001b[0m   File \"C:\\anaconda3\\envs\\jupyterenv\\lib\\site-packages\\wandb\\sdk\\wandb_summary.py\", line 52, in __setitem__\n",
      "\u001b[34m\u001b[1mwandb\u001b[0m: \u001b[32m\u001b[41mERROR\u001b[0m     self.update({key: val})\n",
      "\u001b[34m\u001b[1mwandb\u001b[0m: \u001b[32m\u001b[41mERROR\u001b[0m   File \"C:\\anaconda3\\envs\\jupyterenv\\lib\\site-packages\\wandb\\sdk\\wandb_summary.py\", line 74, in update\n",
      "\u001b[34m\u001b[1mwandb\u001b[0m: \u001b[32m\u001b[41mERROR\u001b[0m     self._update(record)\n",
      "\u001b[34m\u001b[1mwandb\u001b[0m: \u001b[32m\u001b[41mERROR\u001b[0m   File \"C:\\anaconda3\\envs\\jupyterenv\\lib\\site-packages\\wandb\\sdk\\wandb_summary.py\", line 128, in _update\n",
      "\u001b[34m\u001b[1mwandb\u001b[0m: \u001b[32m\u001b[41mERROR\u001b[0m     self._update_callback(record)\n",
      "\u001b[34m\u001b[1mwandb\u001b[0m: \u001b[32m\u001b[41mERROR\u001b[0m   File \"C:\\anaconda3\\envs\\jupyterenv\\lib\\site-packages\\wandb\\sdk\\wandb_run.py\", line 400, in wrapper_fn\n",
      "\u001b[34m\u001b[1mwandb\u001b[0m: \u001b[32m\u001b[41mERROR\u001b[0m     return func(self, *args, **kwargs)\n",
      "\u001b[34m\u001b[1mwandb\u001b[0m: \u001b[32m\u001b[41mERROR\u001b[0m   File \"C:\\anaconda3\\envs\\jupyterenv\\lib\\site-packages\\wandb\\sdk\\wandb_run.py\", line 1424, in _summary_update_callback\n",
      "\u001b[34m\u001b[1mwandb\u001b[0m: \u001b[32m\u001b[41mERROR\u001b[0m     self._backend.interface.publish_summary(summary_record)\n",
      "\u001b[34m\u001b[1mwandb\u001b[0m: \u001b[32m\u001b[41mERROR\u001b[0m   File \"C:\\anaconda3\\envs\\jupyterenv\\lib\\site-packages\\wandb\\sdk\\interface\\interface.py\", line 270, in publish_summary\n",
      "\u001b[34m\u001b[1mwandb\u001b[0m: \u001b[32m\u001b[41mERROR\u001b[0m     pb_summary_record = self._make_summary(summary_record)\n",
      "\u001b[34m\u001b[1mwandb\u001b[0m: \u001b[32m\u001b[41mERROR\u001b[0m   File \"C:\\anaconda3\\envs\\jupyterenv\\lib\\site-packages\\wandb\\sdk\\interface\\interface.py\", line 248, in _make_summary\n",
      "\u001b[34m\u001b[1mwandb\u001b[0m: \u001b[32m\u001b[41mERROR\u001b[0m     json_value = self._summary_encode(item.value, path_from_root)\n",
      "\u001b[34m\u001b[1mwandb\u001b[0m: \u001b[32m\u001b[41mERROR\u001b[0m   File \"C:\\anaconda3\\envs\\jupyterenv\\lib\\site-packages\\wandb\\sdk\\interface\\interface.py\", line 221, in _summary_encode\n",
      "\u001b[34m\u001b[1mwandb\u001b[0m: \u001b[32m\u001b[41mERROR\u001b[0m     val_to_json(self._run, path_from_root, value, namespace=\"summary\")\n",
      "\u001b[34m\u001b[1mwandb\u001b[0m: \u001b[32m\u001b[41mERROR\u001b[0m   File \"C:\\anaconda3\\envs\\jupyterenv\\lib\\site-packages\\wandb\\sdk\\data_types\\utils.py\", line 164, in val_to_json\n",
      "\u001b[34m\u001b[1mwandb\u001b[0m: \u001b[32m\u001b[41mERROR\u001b[0m     val.bind_to_run(run, key, namespace)\n",
      "\u001b[34m\u001b[1mwandb\u001b[0m: \u001b[32m\u001b[41mERROR\u001b[0m   File \"C:\\anaconda3\\envs\\jupyterenv\\lib\\site-packages\\wandb\\data_types.py\", line 1377, in bind_to_run\n",
      "\u001b[34m\u001b[1mwandb\u001b[0m: \u001b[32m\u001b[41mERROR\u001b[0m     with codecs.open(tmp_path, \"w\", encoding=\"utf-8\") as fp:\n",
      "\u001b[34m\u001b[1mwandb\u001b[0m: \u001b[32m\u001b[41mERROR\u001b[0m   File \"C:\\anaconda3\\envs\\jupyterenv\\lib\\codecs.py\", line 906, in open\n",
      "\u001b[34m\u001b[1mwandb\u001b[0m: \u001b[32m\u001b[41mERROR\u001b[0m     file = builtins.open(filename, mode, buffering)\n",
      "\u001b[34m\u001b[1mwandb\u001b[0m: \u001b[32m\u001b[41mERROR\u001b[0m FileNotFoundError: [Errno 2] No such file or directory: 'C:\\\\Users\\\\Addisu\\\\AppData\\\\Local\\\\Temp\\\\tmpbie7lvyxwandb-media\\\\eqyb6bes.graph.json'\n",
      "\u001b[34m\u001b[1mwandb\u001b[0m: \u001b[32m\u001b[41mERROR\u001b[0m \n",
      "\u001b[34m\u001b[1mwandb\u001b[0m: Agent Starting Run: oki9plxi with config:\n",
      "\u001b[34m\u001b[1mwandb\u001b[0m: \tbatch_size: 128\n",
      "\u001b[34m\u001b[1mwandb\u001b[0m: \tdense_activation: sigmoid\n",
      "\u001b[34m\u001b[1mwandb\u001b[0m: \tdropout: 0.2\n",
      "\u001b[34m\u001b[1mwandb\u001b[0m: \tepochs: 1\n",
      "\u001b[34m\u001b[1mwandb\u001b[0m: \tlearning_rate: 0.0071944066776511145\n",
      "\u001b[34m\u001b[1mwandb\u001b[0m: \toptimizer: adam\n"
     ]
    },
    {
     "data": {
      "text/html": [
       "wandb version 0.17.2 is available!  To upgrade, please run:\n",
       " $ pip install wandb --upgrade"
      ],
      "text/plain": [
       "<IPython.core.display.HTML object>"
      ]
     },
     "metadata": {},
     "output_type": "display_data"
    },
    {
     "data": {
      "text/html": [
       "Tracking run with wandb version 0.17.0"
      ],
      "text/plain": [
       "<IPython.core.display.HTML object>"
      ]
     },
     "metadata": {},
     "output_type": "display_data"
    },
    {
     "data": {
      "text/html": [
       "Run data is saved locally in <code>C:\\Users\\Addisu\\Desktop\\kidi files\\Python workshop with ellen\\wandb\\run-20240621_154649-oki9plxi</code>"
      ],
      "text/plain": [
       "<IPython.core.display.HTML object>"
      ]
     },
     "metadata": {},
     "output_type": "display_data"
    },
    {
     "data": {
      "text/html": [
       "Syncing run <strong><a href='https://wandb.ai/evapppp/sweeps-keras/runs/oki9plxi' target=\"_blank\">legendary-sweep-31</a></strong> to <a href='https://wandb.ai/evapppp/sweeps-keras' target=\"_blank\">Weights & Biases</a> (<a href='https://wandb.me/run' target=\"_blank\">docs</a>)<br/>Sweep page: <a href='https://wandb.ai/evapppp/sweeps-keras/sweeps/qu378scj' target=\"_blank\">https://wandb.ai/evapppp/sweeps-keras/sweeps/qu378scj</a>"
      ],
      "text/plain": [
       "<IPython.core.display.HTML object>"
      ]
     },
     "metadata": {},
     "output_type": "display_data"
    },
    {
     "data": {
      "text/html": [
       " View project at <a href='https://wandb.ai/evapppp/sweeps-keras' target=\"_blank\">https://wandb.ai/evapppp/sweeps-keras</a>"
      ],
      "text/plain": [
       "<IPython.core.display.HTML object>"
      ]
     },
     "metadata": {},
     "output_type": "display_data"
    },
    {
     "data": {
      "text/html": [
       " View sweep at <a href='https://wandb.ai/evapppp/sweeps-keras/sweeps/qu378scj' target=\"_blank\">https://wandb.ai/evapppp/sweeps-keras/sweeps/qu378scj</a>"
      ],
      "text/plain": [
       "<IPython.core.display.HTML object>"
      ]
     },
     "metadata": {},
     "output_type": "display_data"
    },
    {
     "data": {
      "text/html": [
       " View run at <a href='https://wandb.ai/evapppp/sweeps-keras/runs/oki9plxi' target=\"_blank\">https://wandb.ai/evapppp/sweeps-keras/runs/oki9plxi</a>"
      ],
      "text/plain": [
       "<IPython.core.display.HTML object>"
      ]
     },
     "metadata": {},
     "output_type": "display_data"
    },
    {
     "name": "stderr",
     "output_type": "stream",
     "text": [
      "Traceback (most recent call last):\n",
      "  File \"C:\\Users\\Addisu\\AppData\\Local\\Temp\\ipykernel_74596\\2644847777.py\", line 221, in sweep_train\n",
      "    train(model,\n",
      "  File \"C:\\Users\\Addisu\\AppData\\Local\\Temp\\ipykernel_74596\\2644847777.py\", line 151, in train\n",
      "    model.fit(X_train,\n",
      "  File \"C:\\anaconda3\\envs\\jupyterenv\\lib\\site-packages\\keras\\src\\utils\\traceback_utils.py\", line 70, in error_handler\n",
      "    raise e.with_traceback(filtered_tb) from None\n",
      "  File \"C:\\anaconda3\\envs\\jupyterenv\\lib\\site-packages\\wandb\\integration\\keras\\keras.py\", line 656, in on_train_batch_end\n",
      "    wandb.run.summary[\"graph\"] = wandb.Graph.from_keras(self.model)\n",
      "  File \"C:\\anaconda3\\envs\\jupyterenv\\lib\\site-packages\\wandb\\sdk\\wandb_summary.py\", line 52, in __setitem__\n",
      "    self.update({key: val})\n",
      "  File \"C:\\anaconda3\\envs\\jupyterenv\\lib\\site-packages\\wandb\\sdk\\wandb_summary.py\", line 74, in update\n",
      "    self._update(record)\n",
      "  File \"C:\\anaconda3\\envs\\jupyterenv\\lib\\site-packages\\wandb\\sdk\\wandb_summary.py\", line 128, in _update\n",
      "    self._update_callback(record)\n",
      "  File \"C:\\anaconda3\\envs\\jupyterenv\\lib\\site-packages\\wandb\\sdk\\wandb_run.py\", line 400, in wrapper_fn\n",
      "    return func(self, *args, **kwargs)\n",
      "  File \"C:\\anaconda3\\envs\\jupyterenv\\lib\\site-packages\\wandb\\sdk\\wandb_run.py\", line 1424, in _summary_update_callback\n",
      "    self._backend.interface.publish_summary(summary_record)\n",
      "  File \"C:\\anaconda3\\envs\\jupyterenv\\lib\\site-packages\\wandb\\sdk\\interface\\interface.py\", line 270, in publish_summary\n",
      "    pb_summary_record = self._make_summary(summary_record)\n",
      "  File \"C:\\anaconda3\\envs\\jupyterenv\\lib\\site-packages\\wandb\\sdk\\interface\\interface.py\", line 248, in _make_summary\n",
      "    json_value = self._summary_encode(item.value, path_from_root)\n",
      "  File \"C:\\anaconda3\\envs\\jupyterenv\\lib\\site-packages\\wandb\\sdk\\interface\\interface.py\", line 221, in _summary_encode\n",
      "    val_to_json(self._run, path_from_root, value, namespace=\"summary\")\n",
      "  File \"C:\\anaconda3\\envs\\jupyterenv\\lib\\site-packages\\wandb\\sdk\\data_types\\utils.py\", line 164, in val_to_json\n",
      "    val.bind_to_run(run, key, namespace)\n",
      "  File \"C:\\anaconda3\\envs\\jupyterenv\\lib\\site-packages\\wandb\\data_types.py\", line 1377, in bind_to_run\n",
      "    with codecs.open(tmp_path, \"w\", encoding=\"utf-8\") as fp:\n",
      "  File \"C:\\anaconda3\\envs\\jupyterenv\\lib\\codecs.py\", line 906, in open\n",
      "    file = builtins.open(filename, mode, buffering)\n",
      "FileNotFoundError: [Errno 2] No such file or directory: 'C:\\\\Users\\\\Addisu\\\\AppData\\\\Local\\\\Temp\\\\tmpbie7lvyxwandb-media\\\\47beb0fy.graph.json'\n"
     ]
    },
    {
     "data": {
      "text/html": [
       " View run <strong style=\"color:#cdcd00\">legendary-sweep-31</strong> at: <a href='https://wandb.ai/evapppp/sweeps-keras/runs/oki9plxi' target=\"_blank\">https://wandb.ai/evapppp/sweeps-keras/runs/oki9plxi</a><br/> View project at: <a href='https://wandb.ai/evapppp/sweeps-keras' target=\"_blank\">https://wandb.ai/evapppp/sweeps-keras</a><br/>Synced 5 W&B file(s), 0 media file(s), 0 artifact file(s) and 0 other file(s)"
      ],
      "text/plain": [
       "<IPython.core.display.HTML object>"
      ]
     },
     "metadata": {},
     "output_type": "display_data"
    },
    {
     "data": {
      "text/html": [
       "Find logs at: <code>.\\wandb\\run-20240621_154649-oki9plxi\\logs</code>"
      ],
      "text/plain": [
       "<IPython.core.display.HTML object>"
      ]
     },
     "metadata": {},
     "output_type": "display_data"
    },
    {
     "name": "stderr",
     "output_type": "stream",
     "text": [
      "Run oki9plxi errored:\n",
      "Traceback (most recent call last):\n",
      "  File \"C:\\anaconda3\\envs\\jupyterenv\\lib\\site-packages\\wandb\\agents\\pyagent.py\", line 307, in _run_job\n",
      "    self._function()\n",
      "  File \"C:\\Users\\Addisu\\AppData\\Local\\Temp\\ipykernel_74596\\2644847777.py\", line 221, in sweep_train\n",
      "    train(model,\n",
      "  File \"C:\\Users\\Addisu\\AppData\\Local\\Temp\\ipykernel_74596\\2644847777.py\", line 151, in train\n",
      "    model.fit(X_train,\n",
      "  File \"C:\\anaconda3\\envs\\jupyterenv\\lib\\site-packages\\keras\\src\\utils\\traceback_utils.py\", line 70, in error_handler\n",
      "    raise e.with_traceback(filtered_tb) from None\n",
      "  File \"C:\\anaconda3\\envs\\jupyterenv\\lib\\site-packages\\wandb\\integration\\keras\\keras.py\", line 656, in on_train_batch_end\n",
      "    wandb.run.summary[\"graph\"] = wandb.Graph.from_keras(self.model)\n",
      "  File \"C:\\anaconda3\\envs\\jupyterenv\\lib\\site-packages\\wandb\\sdk\\wandb_summary.py\", line 52, in __setitem__\n",
      "    self.update({key: val})\n",
      "  File \"C:\\anaconda3\\envs\\jupyterenv\\lib\\site-packages\\wandb\\sdk\\wandb_summary.py\", line 74, in update\n",
      "    self._update(record)\n",
      "  File \"C:\\anaconda3\\envs\\jupyterenv\\lib\\site-packages\\wandb\\sdk\\wandb_summary.py\", line 128, in _update\n",
      "    self._update_callback(record)\n",
      "  File \"C:\\anaconda3\\envs\\jupyterenv\\lib\\site-packages\\wandb\\sdk\\wandb_run.py\", line 400, in wrapper_fn\n",
      "    return func(self, *args, **kwargs)\n",
      "  File \"C:\\anaconda3\\envs\\jupyterenv\\lib\\site-packages\\wandb\\sdk\\wandb_run.py\", line 1424, in _summary_update_callback\n",
      "    self._backend.interface.publish_summary(summary_record)\n",
      "  File \"C:\\anaconda3\\envs\\jupyterenv\\lib\\site-packages\\wandb\\sdk\\interface\\interface.py\", line 270, in publish_summary\n",
      "    pb_summary_record = self._make_summary(summary_record)\n",
      "  File \"C:\\anaconda3\\envs\\jupyterenv\\lib\\site-packages\\wandb\\sdk\\interface\\interface.py\", line 248, in _make_summary\n",
      "    json_value = self._summary_encode(item.value, path_from_root)\n",
      "  File \"C:\\anaconda3\\envs\\jupyterenv\\lib\\site-packages\\wandb\\sdk\\interface\\interface.py\", line 221, in _summary_encode\n",
      "    val_to_json(self._run, path_from_root, value, namespace=\"summary\")\n",
      "  File \"C:\\anaconda3\\envs\\jupyterenv\\lib\\site-packages\\wandb\\sdk\\data_types\\utils.py\", line 164, in val_to_json\n",
      "    val.bind_to_run(run, key, namespace)\n",
      "  File \"C:\\anaconda3\\envs\\jupyterenv\\lib\\site-packages\\wandb\\data_types.py\", line 1377, in bind_to_run\n",
      "    with codecs.open(tmp_path, \"w\", encoding=\"utf-8\") as fp:\n",
      "  File \"C:\\anaconda3\\envs\\jupyterenv\\lib\\codecs.py\", line 906, in open\n",
      "    file = builtins.open(filename, mode, buffering)\n",
      "FileNotFoundError: [Errno 2] No such file or directory: 'C:\\\\Users\\\\Addisu\\\\AppData\\\\Local\\\\Temp\\\\tmpbie7lvyxwandb-media\\\\47beb0fy.graph.json'\n",
      "\n",
      "\u001b[34m\u001b[1mwandb\u001b[0m: \u001b[32m\u001b[41mERROR\u001b[0m Run oki9plxi errored:\n",
      "\u001b[34m\u001b[1mwandb\u001b[0m: \u001b[32m\u001b[41mERROR\u001b[0m Traceback (most recent call last):\n",
      "\u001b[34m\u001b[1mwandb\u001b[0m: \u001b[32m\u001b[41mERROR\u001b[0m   File \"C:\\anaconda3\\envs\\jupyterenv\\lib\\site-packages\\wandb\\agents\\pyagent.py\", line 307, in _run_job\n",
      "\u001b[34m\u001b[1mwandb\u001b[0m: \u001b[32m\u001b[41mERROR\u001b[0m     self._function()\n",
      "\u001b[34m\u001b[1mwandb\u001b[0m: \u001b[32m\u001b[41mERROR\u001b[0m   File \"C:\\Users\\Addisu\\AppData\\Local\\Temp\\ipykernel_74596\\2644847777.py\", line 221, in sweep_train\n",
      "\u001b[34m\u001b[1mwandb\u001b[0m: \u001b[32m\u001b[41mERROR\u001b[0m     train(model,\n",
      "\u001b[34m\u001b[1mwandb\u001b[0m: \u001b[32m\u001b[41mERROR\u001b[0m   File \"C:\\Users\\Addisu\\AppData\\Local\\Temp\\ipykernel_74596\\2644847777.py\", line 151, in train\n",
      "\u001b[34m\u001b[1mwandb\u001b[0m: \u001b[32m\u001b[41mERROR\u001b[0m     model.fit(X_train,\n",
      "\u001b[34m\u001b[1mwandb\u001b[0m: \u001b[32m\u001b[41mERROR\u001b[0m   File \"C:\\anaconda3\\envs\\jupyterenv\\lib\\site-packages\\keras\\src\\utils\\traceback_utils.py\", line 70, in error_handler\n",
      "\u001b[34m\u001b[1mwandb\u001b[0m: \u001b[32m\u001b[41mERROR\u001b[0m     raise e.with_traceback(filtered_tb) from None\n",
      "\u001b[34m\u001b[1mwandb\u001b[0m: \u001b[32m\u001b[41mERROR\u001b[0m   File \"C:\\anaconda3\\envs\\jupyterenv\\lib\\site-packages\\wandb\\integration\\keras\\keras.py\", line 656, in on_train_batch_end\n",
      "\u001b[34m\u001b[1mwandb\u001b[0m: \u001b[32m\u001b[41mERROR\u001b[0m     wandb.run.summary[\"graph\"] = wandb.Graph.from_keras(self.model)\n",
      "\u001b[34m\u001b[1mwandb\u001b[0m: \u001b[32m\u001b[41mERROR\u001b[0m   File \"C:\\anaconda3\\envs\\jupyterenv\\lib\\site-packages\\wandb\\sdk\\wandb_summary.py\", line 52, in __setitem__\n",
      "\u001b[34m\u001b[1mwandb\u001b[0m: \u001b[32m\u001b[41mERROR\u001b[0m     self.update({key: val})\n",
      "\u001b[34m\u001b[1mwandb\u001b[0m: \u001b[32m\u001b[41mERROR\u001b[0m   File \"C:\\anaconda3\\envs\\jupyterenv\\lib\\site-packages\\wandb\\sdk\\wandb_summary.py\", line 74, in update\n",
      "\u001b[34m\u001b[1mwandb\u001b[0m: \u001b[32m\u001b[41mERROR\u001b[0m     self._update(record)\n",
      "\u001b[34m\u001b[1mwandb\u001b[0m: \u001b[32m\u001b[41mERROR\u001b[0m   File \"C:\\anaconda3\\envs\\jupyterenv\\lib\\site-packages\\wandb\\sdk\\wandb_summary.py\", line 128, in _update\n",
      "\u001b[34m\u001b[1mwandb\u001b[0m: \u001b[32m\u001b[41mERROR\u001b[0m     self._update_callback(record)\n",
      "\u001b[34m\u001b[1mwandb\u001b[0m: \u001b[32m\u001b[41mERROR\u001b[0m   File \"C:\\anaconda3\\envs\\jupyterenv\\lib\\site-packages\\wandb\\sdk\\wandb_run.py\", line 400, in wrapper_fn\n",
      "\u001b[34m\u001b[1mwandb\u001b[0m: \u001b[32m\u001b[41mERROR\u001b[0m     return func(self, *args, **kwargs)\n",
      "\u001b[34m\u001b[1mwandb\u001b[0m: \u001b[32m\u001b[41mERROR\u001b[0m   File \"C:\\anaconda3\\envs\\jupyterenv\\lib\\site-packages\\wandb\\sdk\\wandb_run.py\", line 1424, in _summary_update_callback\n",
      "\u001b[34m\u001b[1mwandb\u001b[0m: \u001b[32m\u001b[41mERROR\u001b[0m     self._backend.interface.publish_summary(summary_record)\n",
      "\u001b[34m\u001b[1mwandb\u001b[0m: \u001b[32m\u001b[41mERROR\u001b[0m   File \"C:\\anaconda3\\envs\\jupyterenv\\lib\\site-packages\\wandb\\sdk\\interface\\interface.py\", line 270, in publish_summary\n",
      "\u001b[34m\u001b[1mwandb\u001b[0m: \u001b[32m\u001b[41mERROR\u001b[0m     pb_summary_record = self._make_summary(summary_record)\n",
      "\u001b[34m\u001b[1mwandb\u001b[0m: \u001b[32m\u001b[41mERROR\u001b[0m   File \"C:\\anaconda3\\envs\\jupyterenv\\lib\\site-packages\\wandb\\sdk\\interface\\interface.py\", line 248, in _make_summary\n",
      "\u001b[34m\u001b[1mwandb\u001b[0m: \u001b[32m\u001b[41mERROR\u001b[0m     json_value = self._summary_encode(item.value, path_from_root)\n",
      "\u001b[34m\u001b[1mwandb\u001b[0m: \u001b[32m\u001b[41mERROR\u001b[0m   File \"C:\\anaconda3\\envs\\jupyterenv\\lib\\site-packages\\wandb\\sdk\\interface\\interface.py\", line 221, in _summary_encode\n",
      "\u001b[34m\u001b[1mwandb\u001b[0m: \u001b[32m\u001b[41mERROR\u001b[0m     val_to_json(self._run, path_from_root, value, namespace=\"summary\")\n",
      "\u001b[34m\u001b[1mwandb\u001b[0m: \u001b[32m\u001b[41mERROR\u001b[0m   File \"C:\\anaconda3\\envs\\jupyterenv\\lib\\site-packages\\wandb\\sdk\\data_types\\utils.py\", line 164, in val_to_json\n",
      "\u001b[34m\u001b[1mwandb\u001b[0m: \u001b[32m\u001b[41mERROR\u001b[0m     val.bind_to_run(run, key, namespace)\n",
      "\u001b[34m\u001b[1mwandb\u001b[0m: \u001b[32m\u001b[41mERROR\u001b[0m   File \"C:\\anaconda3\\envs\\jupyterenv\\lib\\site-packages\\wandb\\data_types.py\", line 1377, in bind_to_run\n",
      "\u001b[34m\u001b[1mwandb\u001b[0m: \u001b[32m\u001b[41mERROR\u001b[0m     with codecs.open(tmp_path, \"w\", encoding=\"utf-8\") as fp:\n",
      "\u001b[34m\u001b[1mwandb\u001b[0m: \u001b[32m\u001b[41mERROR\u001b[0m   File \"C:\\anaconda3\\envs\\jupyterenv\\lib\\codecs.py\", line 906, in open\n",
      "\u001b[34m\u001b[1mwandb\u001b[0m: \u001b[32m\u001b[41mERROR\u001b[0m     file = builtins.open(filename, mode, buffering)\n",
      "\u001b[34m\u001b[1mwandb\u001b[0m: \u001b[32m\u001b[41mERROR\u001b[0m FileNotFoundError: [Errno 2] No such file or directory: 'C:\\\\Users\\\\Addisu\\\\AppData\\\\Local\\\\Temp\\\\tmpbie7lvyxwandb-media\\\\47beb0fy.graph.json'\n",
      "\u001b[34m\u001b[1mwandb\u001b[0m: \u001b[32m\u001b[41mERROR\u001b[0m \n",
      "\u001b[34m\u001b[1mwandb\u001b[0m: Agent Starting Run: 3jqt1x7d with config:\n",
      "\u001b[34m\u001b[1mwandb\u001b[0m: \tbatch_size: 56\n",
      "\u001b[34m\u001b[1mwandb\u001b[0m: \tdense_activation: relu\n",
      "\u001b[34m\u001b[1mwandb\u001b[0m: \tdropout: 0.1\n",
      "\u001b[34m\u001b[1mwandb\u001b[0m: \tepochs: 1\n",
      "\u001b[34m\u001b[1mwandb\u001b[0m: \tlearning_rate: 0.004529284949023382\n",
      "\u001b[34m\u001b[1mwandb\u001b[0m: \toptimizer: sgd\n"
     ]
    },
    {
     "data": {
      "text/html": [
       "wandb version 0.17.2 is available!  To upgrade, please run:\n",
       " $ pip install wandb --upgrade"
      ],
      "text/plain": [
       "<IPython.core.display.HTML object>"
      ]
     },
     "metadata": {},
     "output_type": "display_data"
    },
    {
     "data": {
      "text/html": [
       "Tracking run with wandb version 0.17.0"
      ],
      "text/plain": [
       "<IPython.core.display.HTML object>"
      ]
     },
     "metadata": {},
     "output_type": "display_data"
    },
    {
     "data": {
      "text/html": [
       "Run data is saved locally in <code>C:\\Users\\Addisu\\Desktop\\kidi files\\Python workshop with ellen\\wandb\\run-20240621_154717-3jqt1x7d</code>"
      ],
      "text/plain": [
       "<IPython.core.display.HTML object>"
      ]
     },
     "metadata": {},
     "output_type": "display_data"
    },
    {
     "data": {
      "text/html": [
       "Syncing run <strong><a href='https://wandb.ai/evapppp/sweeps-keras/runs/3jqt1x7d' target=\"_blank\">firm-sweep-32</a></strong> to <a href='https://wandb.ai/evapppp/sweeps-keras' target=\"_blank\">Weights & Biases</a> (<a href='https://wandb.me/run' target=\"_blank\">docs</a>)<br/>Sweep page: <a href='https://wandb.ai/evapppp/sweeps-keras/sweeps/qu378scj' target=\"_blank\">https://wandb.ai/evapppp/sweeps-keras/sweeps/qu378scj</a>"
      ],
      "text/plain": [
       "<IPython.core.display.HTML object>"
      ]
     },
     "metadata": {},
     "output_type": "display_data"
    },
    {
     "data": {
      "text/html": [
       " View project at <a href='https://wandb.ai/evapppp/sweeps-keras' target=\"_blank\">https://wandb.ai/evapppp/sweeps-keras</a>"
      ],
      "text/plain": [
       "<IPython.core.display.HTML object>"
      ]
     },
     "metadata": {},
     "output_type": "display_data"
    },
    {
     "data": {
      "text/html": [
       " View sweep at <a href='https://wandb.ai/evapppp/sweeps-keras/sweeps/qu378scj' target=\"_blank\">https://wandb.ai/evapppp/sweeps-keras/sweeps/qu378scj</a>"
      ],
      "text/plain": [
       "<IPython.core.display.HTML object>"
      ]
     },
     "metadata": {},
     "output_type": "display_data"
    },
    {
     "data": {
      "text/html": [
       " View run at <a href='https://wandb.ai/evapppp/sweeps-keras/runs/3jqt1x7d' target=\"_blank\">https://wandb.ai/evapppp/sweeps-keras/runs/3jqt1x7d</a>"
      ],
      "text/plain": [
       "<IPython.core.display.HTML object>"
      ]
     },
     "metadata": {},
     "output_type": "display_data"
    },
    {
     "name": "stderr",
     "output_type": "stream",
     "text": [
      "Traceback (most recent call last):\n",
      "  File \"C:\\Users\\Addisu\\AppData\\Local\\Temp\\ipykernel_74596\\2644847777.py\", line 221, in sweep_train\n",
      "    train(model,\n",
      "  File \"C:\\Users\\Addisu\\AppData\\Local\\Temp\\ipykernel_74596\\2644847777.py\", line 151, in train\n",
      "    model.fit(X_train,\n",
      "  File \"C:\\anaconda3\\envs\\jupyterenv\\lib\\site-packages\\keras\\src\\utils\\traceback_utils.py\", line 70, in error_handler\n",
      "    raise e.with_traceback(filtered_tb) from None\n",
      "  File \"C:\\anaconda3\\envs\\jupyterenv\\lib\\site-packages\\wandb\\integration\\keras\\keras.py\", line 656, in on_train_batch_end\n",
      "    wandb.run.summary[\"graph\"] = wandb.Graph.from_keras(self.model)\n",
      "  File \"C:\\anaconda3\\envs\\jupyterenv\\lib\\site-packages\\wandb\\sdk\\wandb_summary.py\", line 52, in __setitem__\n",
      "    self.update({key: val})\n",
      "  File \"C:\\anaconda3\\envs\\jupyterenv\\lib\\site-packages\\wandb\\sdk\\wandb_summary.py\", line 74, in update\n",
      "    self._update(record)\n",
      "  File \"C:\\anaconda3\\envs\\jupyterenv\\lib\\site-packages\\wandb\\sdk\\wandb_summary.py\", line 128, in _update\n",
      "    self._update_callback(record)\n",
      "  File \"C:\\anaconda3\\envs\\jupyterenv\\lib\\site-packages\\wandb\\sdk\\wandb_run.py\", line 400, in wrapper_fn\n",
      "    return func(self, *args, **kwargs)\n",
      "  File \"C:\\anaconda3\\envs\\jupyterenv\\lib\\site-packages\\wandb\\sdk\\wandb_run.py\", line 1424, in _summary_update_callback\n",
      "    self._backend.interface.publish_summary(summary_record)\n",
      "  File \"C:\\anaconda3\\envs\\jupyterenv\\lib\\site-packages\\wandb\\sdk\\interface\\interface.py\", line 270, in publish_summary\n",
      "    pb_summary_record = self._make_summary(summary_record)\n",
      "  File \"C:\\anaconda3\\envs\\jupyterenv\\lib\\site-packages\\wandb\\sdk\\interface\\interface.py\", line 248, in _make_summary\n",
      "    json_value = self._summary_encode(item.value, path_from_root)\n",
      "  File \"C:\\anaconda3\\envs\\jupyterenv\\lib\\site-packages\\wandb\\sdk\\interface\\interface.py\", line 221, in _summary_encode\n",
      "    val_to_json(self._run, path_from_root, value, namespace=\"summary\")\n",
      "  File \"C:\\anaconda3\\envs\\jupyterenv\\lib\\site-packages\\wandb\\sdk\\data_types\\utils.py\", line 164, in val_to_json\n",
      "    val.bind_to_run(run, key, namespace)\n",
      "  File \"C:\\anaconda3\\envs\\jupyterenv\\lib\\site-packages\\wandb\\data_types.py\", line 1377, in bind_to_run\n",
      "    with codecs.open(tmp_path, \"w\", encoding=\"utf-8\") as fp:\n",
      "  File \"C:\\anaconda3\\envs\\jupyterenv\\lib\\codecs.py\", line 906, in open\n",
      "    file = builtins.open(filename, mode, buffering)\n",
      "FileNotFoundError: [Errno 2] No such file or directory: 'C:\\\\Users\\\\Addisu\\\\AppData\\\\Local\\\\Temp\\\\tmpbie7lvyxwandb-media\\\\79b7l2o5.graph.json'\n"
     ]
    },
    {
     "data": {
      "text/html": [
       " View run <strong style=\"color:#cdcd00\">firm-sweep-32</strong> at: <a href='https://wandb.ai/evapppp/sweeps-keras/runs/3jqt1x7d' target=\"_blank\">https://wandb.ai/evapppp/sweeps-keras/runs/3jqt1x7d</a><br/> View project at: <a href='https://wandb.ai/evapppp/sweeps-keras' target=\"_blank\">https://wandb.ai/evapppp/sweeps-keras</a><br/>Synced 5 W&B file(s), 0 media file(s), 0 artifact file(s) and 0 other file(s)"
      ],
      "text/plain": [
       "<IPython.core.display.HTML object>"
      ]
     },
     "metadata": {},
     "output_type": "display_data"
    },
    {
     "data": {
      "text/html": [
       "Find logs at: <code>.\\wandb\\run-20240621_154717-3jqt1x7d\\logs</code>"
      ],
      "text/plain": [
       "<IPython.core.display.HTML object>"
      ]
     },
     "metadata": {},
     "output_type": "display_data"
    },
    {
     "name": "stderr",
     "output_type": "stream",
     "text": [
      "Run 3jqt1x7d errored:\n",
      "Traceback (most recent call last):\n",
      "  File \"C:\\anaconda3\\envs\\jupyterenv\\lib\\site-packages\\wandb\\agents\\pyagent.py\", line 307, in _run_job\n",
      "    self._function()\n",
      "  File \"C:\\Users\\Addisu\\AppData\\Local\\Temp\\ipykernel_74596\\2644847777.py\", line 221, in sweep_train\n",
      "    train(model,\n",
      "  File \"C:\\Users\\Addisu\\AppData\\Local\\Temp\\ipykernel_74596\\2644847777.py\", line 151, in train\n",
      "    model.fit(X_train,\n",
      "  File \"C:\\anaconda3\\envs\\jupyterenv\\lib\\site-packages\\keras\\src\\utils\\traceback_utils.py\", line 70, in error_handler\n",
      "    raise e.with_traceback(filtered_tb) from None\n",
      "  File \"C:\\anaconda3\\envs\\jupyterenv\\lib\\site-packages\\wandb\\integration\\keras\\keras.py\", line 656, in on_train_batch_end\n",
      "    wandb.run.summary[\"graph\"] = wandb.Graph.from_keras(self.model)\n",
      "  File \"C:\\anaconda3\\envs\\jupyterenv\\lib\\site-packages\\wandb\\sdk\\wandb_summary.py\", line 52, in __setitem__\n",
      "    self.update({key: val})\n",
      "  File \"C:\\anaconda3\\envs\\jupyterenv\\lib\\site-packages\\wandb\\sdk\\wandb_summary.py\", line 74, in update\n",
      "    self._update(record)\n",
      "  File \"C:\\anaconda3\\envs\\jupyterenv\\lib\\site-packages\\wandb\\sdk\\wandb_summary.py\", line 128, in _update\n",
      "    self._update_callback(record)\n",
      "  File \"C:\\anaconda3\\envs\\jupyterenv\\lib\\site-packages\\wandb\\sdk\\wandb_run.py\", line 400, in wrapper_fn\n",
      "    return func(self, *args, **kwargs)\n",
      "  File \"C:\\anaconda3\\envs\\jupyterenv\\lib\\site-packages\\wandb\\sdk\\wandb_run.py\", line 1424, in _summary_update_callback\n",
      "    self._backend.interface.publish_summary(summary_record)\n",
      "  File \"C:\\anaconda3\\envs\\jupyterenv\\lib\\site-packages\\wandb\\sdk\\interface\\interface.py\", line 270, in publish_summary\n",
      "    pb_summary_record = self._make_summary(summary_record)\n",
      "  File \"C:\\anaconda3\\envs\\jupyterenv\\lib\\site-packages\\wandb\\sdk\\interface\\interface.py\", line 248, in _make_summary\n",
      "    json_value = self._summary_encode(item.value, path_from_root)\n",
      "  File \"C:\\anaconda3\\envs\\jupyterenv\\lib\\site-packages\\wandb\\sdk\\interface\\interface.py\", line 221, in _summary_encode\n",
      "    val_to_json(self._run, path_from_root, value, namespace=\"summary\")\n",
      "  File \"C:\\anaconda3\\envs\\jupyterenv\\lib\\site-packages\\wandb\\sdk\\data_types\\utils.py\", line 164, in val_to_json\n",
      "    val.bind_to_run(run, key, namespace)\n",
      "  File \"C:\\anaconda3\\envs\\jupyterenv\\lib\\site-packages\\wandb\\data_types.py\", line 1377, in bind_to_run\n",
      "    with codecs.open(tmp_path, \"w\", encoding=\"utf-8\") as fp:\n",
      "  File \"C:\\anaconda3\\envs\\jupyterenv\\lib\\codecs.py\", line 906, in open\n",
      "    file = builtins.open(filename, mode, buffering)\n",
      "FileNotFoundError: [Errno 2] No such file or directory: 'C:\\\\Users\\\\Addisu\\\\AppData\\\\Local\\\\Temp\\\\tmpbie7lvyxwandb-media\\\\79b7l2o5.graph.json'\n",
      "\n",
      "\u001b[34m\u001b[1mwandb\u001b[0m: \u001b[32m\u001b[41mERROR\u001b[0m Run 3jqt1x7d errored:\n",
      "\u001b[34m\u001b[1mwandb\u001b[0m: \u001b[32m\u001b[41mERROR\u001b[0m Traceback (most recent call last):\n",
      "\u001b[34m\u001b[1mwandb\u001b[0m: \u001b[32m\u001b[41mERROR\u001b[0m   File \"C:\\anaconda3\\envs\\jupyterenv\\lib\\site-packages\\wandb\\agents\\pyagent.py\", line 307, in _run_job\n",
      "\u001b[34m\u001b[1mwandb\u001b[0m: \u001b[32m\u001b[41mERROR\u001b[0m     self._function()\n",
      "\u001b[34m\u001b[1mwandb\u001b[0m: \u001b[32m\u001b[41mERROR\u001b[0m   File \"C:\\Users\\Addisu\\AppData\\Local\\Temp\\ipykernel_74596\\2644847777.py\", line 221, in sweep_train\n",
      "\u001b[34m\u001b[1mwandb\u001b[0m: \u001b[32m\u001b[41mERROR\u001b[0m     train(model,\n",
      "\u001b[34m\u001b[1mwandb\u001b[0m: \u001b[32m\u001b[41mERROR\u001b[0m   File \"C:\\Users\\Addisu\\AppData\\Local\\Temp\\ipykernel_74596\\2644847777.py\", line 151, in train\n",
      "\u001b[34m\u001b[1mwandb\u001b[0m: \u001b[32m\u001b[41mERROR\u001b[0m     model.fit(X_train,\n",
      "\u001b[34m\u001b[1mwandb\u001b[0m: \u001b[32m\u001b[41mERROR\u001b[0m   File \"C:\\anaconda3\\envs\\jupyterenv\\lib\\site-packages\\keras\\src\\utils\\traceback_utils.py\", line 70, in error_handler\n",
      "\u001b[34m\u001b[1mwandb\u001b[0m: \u001b[32m\u001b[41mERROR\u001b[0m     raise e.with_traceback(filtered_tb) from None\n",
      "\u001b[34m\u001b[1mwandb\u001b[0m: \u001b[32m\u001b[41mERROR\u001b[0m   File \"C:\\anaconda3\\envs\\jupyterenv\\lib\\site-packages\\wandb\\integration\\keras\\keras.py\", line 656, in on_train_batch_end\n",
      "\u001b[34m\u001b[1mwandb\u001b[0m: \u001b[32m\u001b[41mERROR\u001b[0m     wandb.run.summary[\"graph\"] = wandb.Graph.from_keras(self.model)\n",
      "\u001b[34m\u001b[1mwandb\u001b[0m: \u001b[32m\u001b[41mERROR\u001b[0m   File \"C:\\anaconda3\\envs\\jupyterenv\\lib\\site-packages\\wandb\\sdk\\wandb_summary.py\", line 52, in __setitem__\n",
      "\u001b[34m\u001b[1mwandb\u001b[0m: \u001b[32m\u001b[41mERROR\u001b[0m     self.update({key: val})\n",
      "\u001b[34m\u001b[1mwandb\u001b[0m: \u001b[32m\u001b[41mERROR\u001b[0m   File \"C:\\anaconda3\\envs\\jupyterenv\\lib\\site-packages\\wandb\\sdk\\wandb_summary.py\", line 74, in update\n",
      "\u001b[34m\u001b[1mwandb\u001b[0m: \u001b[32m\u001b[41mERROR\u001b[0m     self._update(record)\n",
      "\u001b[34m\u001b[1mwandb\u001b[0m: \u001b[32m\u001b[41mERROR\u001b[0m   File \"C:\\anaconda3\\envs\\jupyterenv\\lib\\site-packages\\wandb\\sdk\\wandb_summary.py\", line 128, in _update\n",
      "\u001b[34m\u001b[1mwandb\u001b[0m: \u001b[32m\u001b[41mERROR\u001b[0m     self._update_callback(record)\n",
      "\u001b[34m\u001b[1mwandb\u001b[0m: \u001b[32m\u001b[41mERROR\u001b[0m   File \"C:\\anaconda3\\envs\\jupyterenv\\lib\\site-packages\\wandb\\sdk\\wandb_run.py\", line 400, in wrapper_fn\n",
      "\u001b[34m\u001b[1mwandb\u001b[0m: \u001b[32m\u001b[41mERROR\u001b[0m     return func(self, *args, **kwargs)\n",
      "\u001b[34m\u001b[1mwandb\u001b[0m: \u001b[32m\u001b[41mERROR\u001b[0m   File \"C:\\anaconda3\\envs\\jupyterenv\\lib\\site-packages\\wandb\\sdk\\wandb_run.py\", line 1424, in _summary_update_callback\n",
      "\u001b[34m\u001b[1mwandb\u001b[0m: \u001b[32m\u001b[41mERROR\u001b[0m     self._backend.interface.publish_summary(summary_record)\n",
      "\u001b[34m\u001b[1mwandb\u001b[0m: \u001b[32m\u001b[41mERROR\u001b[0m   File \"C:\\anaconda3\\envs\\jupyterenv\\lib\\site-packages\\wandb\\sdk\\interface\\interface.py\", line 270, in publish_summary\n",
      "\u001b[34m\u001b[1mwandb\u001b[0m: \u001b[32m\u001b[41mERROR\u001b[0m     pb_summary_record = self._make_summary(summary_record)\n",
      "\u001b[34m\u001b[1mwandb\u001b[0m: \u001b[32m\u001b[41mERROR\u001b[0m   File \"C:\\anaconda3\\envs\\jupyterenv\\lib\\site-packages\\wandb\\sdk\\interface\\interface.py\", line 248, in _make_summary\n",
      "\u001b[34m\u001b[1mwandb\u001b[0m: \u001b[32m\u001b[41mERROR\u001b[0m     json_value = self._summary_encode(item.value, path_from_root)\n",
      "\u001b[34m\u001b[1mwandb\u001b[0m: \u001b[32m\u001b[41mERROR\u001b[0m   File \"C:\\anaconda3\\envs\\jupyterenv\\lib\\site-packages\\wandb\\sdk\\interface\\interface.py\", line 221, in _summary_encode\n",
      "\u001b[34m\u001b[1mwandb\u001b[0m: \u001b[32m\u001b[41mERROR\u001b[0m     val_to_json(self._run, path_from_root, value, namespace=\"summary\")\n",
      "\u001b[34m\u001b[1mwandb\u001b[0m: \u001b[32m\u001b[41mERROR\u001b[0m   File \"C:\\anaconda3\\envs\\jupyterenv\\lib\\site-packages\\wandb\\sdk\\data_types\\utils.py\", line 164, in val_to_json\n",
      "\u001b[34m\u001b[1mwandb\u001b[0m: \u001b[32m\u001b[41mERROR\u001b[0m     val.bind_to_run(run, key, namespace)\n",
      "\u001b[34m\u001b[1mwandb\u001b[0m: \u001b[32m\u001b[41mERROR\u001b[0m   File \"C:\\anaconda3\\envs\\jupyterenv\\lib\\site-packages\\wandb\\data_types.py\", line 1377, in bind_to_run\n",
      "\u001b[34m\u001b[1mwandb\u001b[0m: \u001b[32m\u001b[41mERROR\u001b[0m     with codecs.open(tmp_path, \"w\", encoding=\"utf-8\") as fp:\n",
      "\u001b[34m\u001b[1mwandb\u001b[0m: \u001b[32m\u001b[41mERROR\u001b[0m   File \"C:\\anaconda3\\envs\\jupyterenv\\lib\\codecs.py\", line 906, in open\n",
      "\u001b[34m\u001b[1mwandb\u001b[0m: \u001b[32m\u001b[41mERROR\u001b[0m     file = builtins.open(filename, mode, buffering)\n",
      "\u001b[34m\u001b[1mwandb\u001b[0m: \u001b[32m\u001b[41mERROR\u001b[0m FileNotFoundError: [Errno 2] No such file or directory: 'C:\\\\Users\\\\Addisu\\\\AppData\\\\Local\\\\Temp\\\\tmpbie7lvyxwandb-media\\\\79b7l2o5.graph.json'\n",
      "\u001b[34m\u001b[1mwandb\u001b[0m: \u001b[32m\u001b[41mERROR\u001b[0m \n",
      "\u001b[34m\u001b[1mwandb\u001b[0m: Agent Starting Run: 28kpoe92 with config:\n",
      "\u001b[34m\u001b[1mwandb\u001b[0m: \tbatch_size: 112\n",
      "\u001b[34m\u001b[1mwandb\u001b[0m: \tdense_activation: sigmoid\n",
      "\u001b[34m\u001b[1mwandb\u001b[0m: \tdropout: 0.2\n",
      "\u001b[34m\u001b[1mwandb\u001b[0m: \tepochs: 1\n",
      "\u001b[34m\u001b[1mwandb\u001b[0m: \tlearning_rate: 0.007582264793311968\n",
      "\u001b[34m\u001b[1mwandb\u001b[0m: \toptimizer: sgd\n"
     ]
    },
    {
     "data": {
      "text/html": [
       "wandb version 0.17.2 is available!  To upgrade, please run:\n",
       " $ pip install wandb --upgrade"
      ],
      "text/plain": [
       "<IPython.core.display.HTML object>"
      ]
     },
     "metadata": {},
     "output_type": "display_data"
    },
    {
     "data": {
      "text/html": [
       "Tracking run with wandb version 0.17.0"
      ],
      "text/plain": [
       "<IPython.core.display.HTML object>"
      ]
     },
     "metadata": {},
     "output_type": "display_data"
    },
    {
     "data": {
      "text/html": [
       "Run data is saved locally in <code>C:\\Users\\Addisu\\Desktop\\kidi files\\Python workshop with ellen\\wandb\\run-20240621_154744-28kpoe92</code>"
      ],
      "text/plain": [
       "<IPython.core.display.HTML object>"
      ]
     },
     "metadata": {},
     "output_type": "display_data"
    },
    {
     "data": {
      "text/html": [
       "Syncing run <strong><a href='https://wandb.ai/evapppp/sweeps-keras/runs/28kpoe92' target=\"_blank\">glorious-sweep-33</a></strong> to <a href='https://wandb.ai/evapppp/sweeps-keras' target=\"_blank\">Weights & Biases</a> (<a href='https://wandb.me/run' target=\"_blank\">docs</a>)<br/>Sweep page: <a href='https://wandb.ai/evapppp/sweeps-keras/sweeps/qu378scj' target=\"_blank\">https://wandb.ai/evapppp/sweeps-keras/sweeps/qu378scj</a>"
      ],
      "text/plain": [
       "<IPython.core.display.HTML object>"
      ]
     },
     "metadata": {},
     "output_type": "display_data"
    },
    {
     "data": {
      "text/html": [
       " View project at <a href='https://wandb.ai/evapppp/sweeps-keras' target=\"_blank\">https://wandb.ai/evapppp/sweeps-keras</a>"
      ],
      "text/plain": [
       "<IPython.core.display.HTML object>"
      ]
     },
     "metadata": {},
     "output_type": "display_data"
    },
    {
     "data": {
      "text/html": [
       " View sweep at <a href='https://wandb.ai/evapppp/sweeps-keras/sweeps/qu378scj' target=\"_blank\">https://wandb.ai/evapppp/sweeps-keras/sweeps/qu378scj</a>"
      ],
      "text/plain": [
       "<IPython.core.display.HTML object>"
      ]
     },
     "metadata": {},
     "output_type": "display_data"
    },
    {
     "data": {
      "text/html": [
       " View run at <a href='https://wandb.ai/evapppp/sweeps-keras/runs/28kpoe92' target=\"_blank\">https://wandb.ai/evapppp/sweeps-keras/runs/28kpoe92</a>"
      ],
      "text/plain": [
       "<IPython.core.display.HTML object>"
      ]
     },
     "metadata": {},
     "output_type": "display_data"
    },
    {
     "name": "stderr",
     "output_type": "stream",
     "text": [
      "Traceback (most recent call last):\n",
      "  File \"C:\\Users\\Addisu\\AppData\\Local\\Temp\\ipykernel_74596\\2644847777.py\", line 221, in sweep_train\n",
      "    train(model,\n",
      "  File \"C:\\Users\\Addisu\\AppData\\Local\\Temp\\ipykernel_74596\\2644847777.py\", line 151, in train\n",
      "    model.fit(X_train,\n",
      "  File \"C:\\anaconda3\\envs\\jupyterenv\\lib\\site-packages\\keras\\src\\utils\\traceback_utils.py\", line 70, in error_handler\n",
      "    raise e.with_traceback(filtered_tb) from None\n",
      "  File \"C:\\anaconda3\\envs\\jupyterenv\\lib\\site-packages\\wandb\\integration\\keras\\keras.py\", line 656, in on_train_batch_end\n",
      "    wandb.run.summary[\"graph\"] = wandb.Graph.from_keras(self.model)\n",
      "  File \"C:\\anaconda3\\envs\\jupyterenv\\lib\\site-packages\\wandb\\sdk\\wandb_summary.py\", line 52, in __setitem__\n",
      "    self.update({key: val})\n",
      "  File \"C:\\anaconda3\\envs\\jupyterenv\\lib\\site-packages\\wandb\\sdk\\wandb_summary.py\", line 74, in update\n",
      "    self._update(record)\n",
      "  File \"C:\\anaconda3\\envs\\jupyterenv\\lib\\site-packages\\wandb\\sdk\\wandb_summary.py\", line 128, in _update\n",
      "    self._update_callback(record)\n",
      "  File \"C:\\anaconda3\\envs\\jupyterenv\\lib\\site-packages\\wandb\\sdk\\wandb_run.py\", line 400, in wrapper_fn\n",
      "    return func(self, *args, **kwargs)\n",
      "  File \"C:\\anaconda3\\envs\\jupyterenv\\lib\\site-packages\\wandb\\sdk\\wandb_run.py\", line 1424, in _summary_update_callback\n",
      "    self._backend.interface.publish_summary(summary_record)\n",
      "  File \"C:\\anaconda3\\envs\\jupyterenv\\lib\\site-packages\\wandb\\sdk\\interface\\interface.py\", line 270, in publish_summary\n",
      "    pb_summary_record = self._make_summary(summary_record)\n",
      "  File \"C:\\anaconda3\\envs\\jupyterenv\\lib\\site-packages\\wandb\\sdk\\interface\\interface.py\", line 248, in _make_summary\n",
      "    json_value = self._summary_encode(item.value, path_from_root)\n",
      "  File \"C:\\anaconda3\\envs\\jupyterenv\\lib\\site-packages\\wandb\\sdk\\interface\\interface.py\", line 221, in _summary_encode\n",
      "    val_to_json(self._run, path_from_root, value, namespace=\"summary\")\n",
      "  File \"C:\\anaconda3\\envs\\jupyterenv\\lib\\site-packages\\wandb\\sdk\\data_types\\utils.py\", line 164, in val_to_json\n",
      "    val.bind_to_run(run, key, namespace)\n",
      "  File \"C:\\anaconda3\\envs\\jupyterenv\\lib\\site-packages\\wandb\\data_types.py\", line 1377, in bind_to_run\n",
      "    with codecs.open(tmp_path, \"w\", encoding=\"utf-8\") as fp:\n",
      "  File \"C:\\anaconda3\\envs\\jupyterenv\\lib\\codecs.py\", line 906, in open\n",
      "    file = builtins.open(filename, mode, buffering)\n",
      "FileNotFoundError: [Errno 2] No such file or directory: 'C:\\\\Users\\\\Addisu\\\\AppData\\\\Local\\\\Temp\\\\tmpbie7lvyxwandb-media\\\\tb3gn7pc.graph.json'\n"
     ]
    },
    {
     "data": {
      "text/html": [
       " View run <strong style=\"color:#cdcd00\">glorious-sweep-33</strong> at: <a href='https://wandb.ai/evapppp/sweeps-keras/runs/28kpoe92' target=\"_blank\">https://wandb.ai/evapppp/sweeps-keras/runs/28kpoe92</a><br/> View project at: <a href='https://wandb.ai/evapppp/sweeps-keras' target=\"_blank\">https://wandb.ai/evapppp/sweeps-keras</a><br/>Synced 5 W&B file(s), 0 media file(s), 0 artifact file(s) and 0 other file(s)"
      ],
      "text/plain": [
       "<IPython.core.display.HTML object>"
      ]
     },
     "metadata": {},
     "output_type": "display_data"
    },
    {
     "data": {
      "text/html": [
       "Find logs at: <code>.\\wandb\\run-20240621_154744-28kpoe92\\logs</code>"
      ],
      "text/plain": [
       "<IPython.core.display.HTML object>"
      ]
     },
     "metadata": {},
     "output_type": "display_data"
    },
    {
     "name": "stderr",
     "output_type": "stream",
     "text": [
      "Run 28kpoe92 errored:\n",
      "Traceback (most recent call last):\n",
      "  File \"C:\\anaconda3\\envs\\jupyterenv\\lib\\site-packages\\wandb\\agents\\pyagent.py\", line 307, in _run_job\n",
      "    self._function()\n",
      "  File \"C:\\Users\\Addisu\\AppData\\Local\\Temp\\ipykernel_74596\\2644847777.py\", line 221, in sweep_train\n",
      "    train(model,\n",
      "  File \"C:\\Users\\Addisu\\AppData\\Local\\Temp\\ipykernel_74596\\2644847777.py\", line 151, in train\n",
      "    model.fit(X_train,\n",
      "  File \"C:\\anaconda3\\envs\\jupyterenv\\lib\\site-packages\\keras\\src\\utils\\traceback_utils.py\", line 70, in error_handler\n",
      "    raise e.with_traceback(filtered_tb) from None\n",
      "  File \"C:\\anaconda3\\envs\\jupyterenv\\lib\\site-packages\\wandb\\integration\\keras\\keras.py\", line 656, in on_train_batch_end\n",
      "    wandb.run.summary[\"graph\"] = wandb.Graph.from_keras(self.model)\n",
      "  File \"C:\\anaconda3\\envs\\jupyterenv\\lib\\site-packages\\wandb\\sdk\\wandb_summary.py\", line 52, in __setitem__\n",
      "    self.update({key: val})\n",
      "  File \"C:\\anaconda3\\envs\\jupyterenv\\lib\\site-packages\\wandb\\sdk\\wandb_summary.py\", line 74, in update\n",
      "    self._update(record)\n",
      "  File \"C:\\anaconda3\\envs\\jupyterenv\\lib\\site-packages\\wandb\\sdk\\wandb_summary.py\", line 128, in _update\n",
      "    self._update_callback(record)\n",
      "  File \"C:\\anaconda3\\envs\\jupyterenv\\lib\\site-packages\\wandb\\sdk\\wandb_run.py\", line 400, in wrapper_fn\n",
      "    return func(self, *args, **kwargs)\n",
      "  File \"C:\\anaconda3\\envs\\jupyterenv\\lib\\site-packages\\wandb\\sdk\\wandb_run.py\", line 1424, in _summary_update_callback\n",
      "    self._backend.interface.publish_summary(summary_record)\n",
      "  File \"C:\\anaconda3\\envs\\jupyterenv\\lib\\site-packages\\wandb\\sdk\\interface\\interface.py\", line 270, in publish_summary\n",
      "    pb_summary_record = self._make_summary(summary_record)\n",
      "  File \"C:\\anaconda3\\envs\\jupyterenv\\lib\\site-packages\\wandb\\sdk\\interface\\interface.py\", line 248, in _make_summary\n",
      "    json_value = self._summary_encode(item.value, path_from_root)\n",
      "  File \"C:\\anaconda3\\envs\\jupyterenv\\lib\\site-packages\\wandb\\sdk\\interface\\interface.py\", line 221, in _summary_encode\n",
      "    val_to_json(self._run, path_from_root, value, namespace=\"summary\")\n",
      "  File \"C:\\anaconda3\\envs\\jupyterenv\\lib\\site-packages\\wandb\\sdk\\data_types\\utils.py\", line 164, in val_to_json\n",
      "    val.bind_to_run(run, key, namespace)\n",
      "  File \"C:\\anaconda3\\envs\\jupyterenv\\lib\\site-packages\\wandb\\data_types.py\", line 1377, in bind_to_run\n",
      "    with codecs.open(tmp_path, \"w\", encoding=\"utf-8\") as fp:\n",
      "  File \"C:\\anaconda3\\envs\\jupyterenv\\lib\\codecs.py\", line 906, in open\n",
      "    file = builtins.open(filename, mode, buffering)\n",
      "FileNotFoundError: [Errno 2] No such file or directory: 'C:\\\\Users\\\\Addisu\\\\AppData\\\\Local\\\\Temp\\\\tmpbie7lvyxwandb-media\\\\tb3gn7pc.graph.json'\n",
      "\n",
      "\u001b[34m\u001b[1mwandb\u001b[0m: \u001b[32m\u001b[41mERROR\u001b[0m Run 28kpoe92 errored:\n",
      "\u001b[34m\u001b[1mwandb\u001b[0m: \u001b[32m\u001b[41mERROR\u001b[0m Traceback (most recent call last):\n",
      "\u001b[34m\u001b[1mwandb\u001b[0m: \u001b[32m\u001b[41mERROR\u001b[0m   File \"C:\\anaconda3\\envs\\jupyterenv\\lib\\site-packages\\wandb\\agents\\pyagent.py\", line 307, in _run_job\n",
      "\u001b[34m\u001b[1mwandb\u001b[0m: \u001b[32m\u001b[41mERROR\u001b[0m     self._function()\n",
      "\u001b[34m\u001b[1mwandb\u001b[0m: \u001b[32m\u001b[41mERROR\u001b[0m   File \"C:\\Users\\Addisu\\AppData\\Local\\Temp\\ipykernel_74596\\2644847777.py\", line 221, in sweep_train\n",
      "\u001b[34m\u001b[1mwandb\u001b[0m: \u001b[32m\u001b[41mERROR\u001b[0m     train(model,\n",
      "\u001b[34m\u001b[1mwandb\u001b[0m: \u001b[32m\u001b[41mERROR\u001b[0m   File \"C:\\Users\\Addisu\\AppData\\Local\\Temp\\ipykernel_74596\\2644847777.py\", line 151, in train\n",
      "\u001b[34m\u001b[1mwandb\u001b[0m: \u001b[32m\u001b[41mERROR\u001b[0m     model.fit(X_train,\n",
      "\u001b[34m\u001b[1mwandb\u001b[0m: \u001b[32m\u001b[41mERROR\u001b[0m   File \"C:\\anaconda3\\envs\\jupyterenv\\lib\\site-packages\\keras\\src\\utils\\traceback_utils.py\", line 70, in error_handler\n",
      "\u001b[34m\u001b[1mwandb\u001b[0m: \u001b[32m\u001b[41mERROR\u001b[0m     raise e.with_traceback(filtered_tb) from None\n",
      "\u001b[34m\u001b[1mwandb\u001b[0m: \u001b[32m\u001b[41mERROR\u001b[0m   File \"C:\\anaconda3\\envs\\jupyterenv\\lib\\site-packages\\wandb\\integration\\keras\\keras.py\", line 656, in on_train_batch_end\n",
      "\u001b[34m\u001b[1mwandb\u001b[0m: \u001b[32m\u001b[41mERROR\u001b[0m     wandb.run.summary[\"graph\"] = wandb.Graph.from_keras(self.model)\n",
      "\u001b[34m\u001b[1mwandb\u001b[0m: \u001b[32m\u001b[41mERROR\u001b[0m   File \"C:\\anaconda3\\envs\\jupyterenv\\lib\\site-packages\\wandb\\sdk\\wandb_summary.py\", line 52, in __setitem__\n",
      "\u001b[34m\u001b[1mwandb\u001b[0m: \u001b[32m\u001b[41mERROR\u001b[0m     self.update({key: val})\n",
      "\u001b[34m\u001b[1mwandb\u001b[0m: \u001b[32m\u001b[41mERROR\u001b[0m   File \"C:\\anaconda3\\envs\\jupyterenv\\lib\\site-packages\\wandb\\sdk\\wandb_summary.py\", line 74, in update\n",
      "\u001b[34m\u001b[1mwandb\u001b[0m: \u001b[32m\u001b[41mERROR\u001b[0m     self._update(record)\n",
      "\u001b[34m\u001b[1mwandb\u001b[0m: \u001b[32m\u001b[41mERROR\u001b[0m   File \"C:\\anaconda3\\envs\\jupyterenv\\lib\\site-packages\\wandb\\sdk\\wandb_summary.py\", line 128, in _update\n",
      "\u001b[34m\u001b[1mwandb\u001b[0m: \u001b[32m\u001b[41mERROR\u001b[0m     self._update_callback(record)\n",
      "\u001b[34m\u001b[1mwandb\u001b[0m: \u001b[32m\u001b[41mERROR\u001b[0m   File \"C:\\anaconda3\\envs\\jupyterenv\\lib\\site-packages\\wandb\\sdk\\wandb_run.py\", line 400, in wrapper_fn\n",
      "\u001b[34m\u001b[1mwandb\u001b[0m: \u001b[32m\u001b[41mERROR\u001b[0m     return func(self, *args, **kwargs)\n",
      "\u001b[34m\u001b[1mwandb\u001b[0m: \u001b[32m\u001b[41mERROR\u001b[0m   File \"C:\\anaconda3\\envs\\jupyterenv\\lib\\site-packages\\wandb\\sdk\\wandb_run.py\", line 1424, in _summary_update_callback\n",
      "\u001b[34m\u001b[1mwandb\u001b[0m: \u001b[32m\u001b[41mERROR\u001b[0m     self._backend.interface.publish_summary(summary_record)\n",
      "\u001b[34m\u001b[1mwandb\u001b[0m: \u001b[32m\u001b[41mERROR\u001b[0m   File \"C:\\anaconda3\\envs\\jupyterenv\\lib\\site-packages\\wandb\\sdk\\interface\\interface.py\", line 270, in publish_summary\n",
      "\u001b[34m\u001b[1mwandb\u001b[0m: \u001b[32m\u001b[41mERROR\u001b[0m     pb_summary_record = self._make_summary(summary_record)\n",
      "\u001b[34m\u001b[1mwandb\u001b[0m: \u001b[32m\u001b[41mERROR\u001b[0m   File \"C:\\anaconda3\\envs\\jupyterenv\\lib\\site-packages\\wandb\\sdk\\interface\\interface.py\", line 248, in _make_summary\n",
      "\u001b[34m\u001b[1mwandb\u001b[0m: \u001b[32m\u001b[41mERROR\u001b[0m     json_value = self._summary_encode(item.value, path_from_root)\n",
      "\u001b[34m\u001b[1mwandb\u001b[0m: \u001b[32m\u001b[41mERROR\u001b[0m   File \"C:\\anaconda3\\envs\\jupyterenv\\lib\\site-packages\\wandb\\sdk\\interface\\interface.py\", line 221, in _summary_encode\n",
      "\u001b[34m\u001b[1mwandb\u001b[0m: \u001b[32m\u001b[41mERROR\u001b[0m     val_to_json(self._run, path_from_root, value, namespace=\"summary\")\n",
      "\u001b[34m\u001b[1mwandb\u001b[0m: \u001b[32m\u001b[41mERROR\u001b[0m   File \"C:\\anaconda3\\envs\\jupyterenv\\lib\\site-packages\\wandb\\sdk\\data_types\\utils.py\", line 164, in val_to_json\n",
      "\u001b[34m\u001b[1mwandb\u001b[0m: \u001b[32m\u001b[41mERROR\u001b[0m     val.bind_to_run(run, key, namespace)\n",
      "\u001b[34m\u001b[1mwandb\u001b[0m: \u001b[32m\u001b[41mERROR\u001b[0m   File \"C:\\anaconda3\\envs\\jupyterenv\\lib\\site-packages\\wandb\\data_types.py\", line 1377, in bind_to_run\n",
      "\u001b[34m\u001b[1mwandb\u001b[0m: \u001b[32m\u001b[41mERROR\u001b[0m     with codecs.open(tmp_path, \"w\", encoding=\"utf-8\") as fp:\n",
      "\u001b[34m\u001b[1mwandb\u001b[0m: \u001b[32m\u001b[41mERROR\u001b[0m   File \"C:\\anaconda3\\envs\\jupyterenv\\lib\\codecs.py\", line 906, in open\n",
      "\u001b[34m\u001b[1mwandb\u001b[0m: \u001b[32m\u001b[41mERROR\u001b[0m     file = builtins.open(filename, mode, buffering)\n",
      "\u001b[34m\u001b[1mwandb\u001b[0m: \u001b[32m\u001b[41mERROR\u001b[0m FileNotFoundError: [Errno 2] No such file or directory: 'C:\\\\Users\\\\Addisu\\\\AppData\\\\Local\\\\Temp\\\\tmpbie7lvyxwandb-media\\\\tb3gn7pc.graph.json'\n",
      "\u001b[34m\u001b[1mwandb\u001b[0m: \u001b[32m\u001b[41mERROR\u001b[0m \n",
      "\u001b[34m\u001b[1mwandb\u001b[0m: Agent Starting Run: an6zuzoz with config:\n",
      "\u001b[34m\u001b[1mwandb\u001b[0m: \tbatch_size: 96\n",
      "\u001b[34m\u001b[1mwandb\u001b[0m: \tdense_activation: sigmoid\n",
      "\u001b[34m\u001b[1mwandb\u001b[0m: \tdropout: 0.1\n",
      "\u001b[34m\u001b[1mwandb\u001b[0m: \tepochs: 1\n",
      "\u001b[34m\u001b[1mwandb\u001b[0m: \tlearning_rate: 0.005562626152779151\n",
      "\u001b[34m\u001b[1mwandb\u001b[0m: \toptimizer: adam\n"
     ]
    },
    {
     "data": {
      "text/html": [
       "Tracking run with wandb version 0.17.0"
      ],
      "text/plain": [
       "<IPython.core.display.HTML object>"
      ]
     },
     "metadata": {},
     "output_type": "display_data"
    },
    {
     "data": {
      "text/html": [
       "Run data is saved locally in <code>C:\\Users\\Addisu\\Desktop\\kidi files\\Python workshop with ellen\\wandb\\run-20240621_154812-an6zuzoz</code>"
      ],
      "text/plain": [
       "<IPython.core.display.HTML object>"
      ]
     },
     "metadata": {},
     "output_type": "display_data"
    },
    {
     "data": {
      "text/html": [
       "Syncing run <strong><a href='https://wandb.ai/evapppp/sweeps-keras/runs/an6zuzoz' target=\"_blank\">eternal-sweep-34</a></strong> to <a href='https://wandb.ai/evapppp/sweeps-keras' target=\"_blank\">Weights & Biases</a> (<a href='https://wandb.me/run' target=\"_blank\">docs</a>)<br/>Sweep page: <a href='https://wandb.ai/evapppp/sweeps-keras/sweeps/qu378scj' target=\"_blank\">https://wandb.ai/evapppp/sweeps-keras/sweeps/qu378scj</a>"
      ],
      "text/plain": [
       "<IPython.core.display.HTML object>"
      ]
     },
     "metadata": {},
     "output_type": "display_data"
    },
    {
     "data": {
      "text/html": [
       " View project at <a href='https://wandb.ai/evapppp/sweeps-keras' target=\"_blank\">https://wandb.ai/evapppp/sweeps-keras</a>"
      ],
      "text/plain": [
       "<IPython.core.display.HTML object>"
      ]
     },
     "metadata": {},
     "output_type": "display_data"
    },
    {
     "data": {
      "text/html": [
       " View sweep at <a href='https://wandb.ai/evapppp/sweeps-keras/sweeps/qu378scj' target=\"_blank\">https://wandb.ai/evapppp/sweeps-keras/sweeps/qu378scj</a>"
      ],
      "text/plain": [
       "<IPython.core.display.HTML object>"
      ]
     },
     "metadata": {},
     "output_type": "display_data"
    },
    {
     "data": {
      "text/html": [
       " View run at <a href='https://wandb.ai/evapppp/sweeps-keras/runs/an6zuzoz' target=\"_blank\">https://wandb.ai/evapppp/sweeps-keras/runs/an6zuzoz</a>"
      ],
      "text/plain": [
       "<IPython.core.display.HTML object>"
      ]
     },
     "metadata": {},
     "output_type": "display_data"
    },
    {
     "name": "stderr",
     "output_type": "stream",
     "text": [
      "Traceback (most recent call last):\n",
      "  File \"C:\\Users\\Addisu\\AppData\\Local\\Temp\\ipykernel_74596\\2644847777.py\", line 221, in sweep_train\n",
      "    train(model,\n",
      "  File \"C:\\Users\\Addisu\\AppData\\Local\\Temp\\ipykernel_74596\\2644847777.py\", line 151, in train\n",
      "    model.fit(X_train,\n",
      "  File \"C:\\anaconda3\\envs\\jupyterenv\\lib\\site-packages\\keras\\src\\utils\\traceback_utils.py\", line 70, in error_handler\n",
      "    raise e.with_traceback(filtered_tb) from None\n",
      "  File \"C:\\anaconda3\\envs\\jupyterenv\\lib\\site-packages\\wandb\\integration\\keras\\keras.py\", line 656, in on_train_batch_end\n",
      "    wandb.run.summary[\"graph\"] = wandb.Graph.from_keras(self.model)\n",
      "  File \"C:\\anaconda3\\envs\\jupyterenv\\lib\\site-packages\\wandb\\sdk\\wandb_summary.py\", line 52, in __setitem__\n",
      "    self.update({key: val})\n",
      "  File \"C:\\anaconda3\\envs\\jupyterenv\\lib\\site-packages\\wandb\\sdk\\wandb_summary.py\", line 74, in update\n",
      "    self._update(record)\n",
      "  File \"C:\\anaconda3\\envs\\jupyterenv\\lib\\site-packages\\wandb\\sdk\\wandb_summary.py\", line 128, in _update\n",
      "    self._update_callback(record)\n",
      "  File \"C:\\anaconda3\\envs\\jupyterenv\\lib\\site-packages\\wandb\\sdk\\wandb_run.py\", line 400, in wrapper_fn\n",
      "    return func(self, *args, **kwargs)\n",
      "  File \"C:\\anaconda3\\envs\\jupyterenv\\lib\\site-packages\\wandb\\sdk\\wandb_run.py\", line 1424, in _summary_update_callback\n",
      "    self._backend.interface.publish_summary(summary_record)\n",
      "  File \"C:\\anaconda3\\envs\\jupyterenv\\lib\\site-packages\\wandb\\sdk\\interface\\interface.py\", line 270, in publish_summary\n",
      "    pb_summary_record = self._make_summary(summary_record)\n",
      "  File \"C:\\anaconda3\\envs\\jupyterenv\\lib\\site-packages\\wandb\\sdk\\interface\\interface.py\", line 248, in _make_summary\n",
      "    json_value = self._summary_encode(item.value, path_from_root)\n",
      "  File \"C:\\anaconda3\\envs\\jupyterenv\\lib\\site-packages\\wandb\\sdk\\interface\\interface.py\", line 221, in _summary_encode\n",
      "    val_to_json(self._run, path_from_root, value, namespace=\"summary\")\n",
      "  File \"C:\\anaconda3\\envs\\jupyterenv\\lib\\site-packages\\wandb\\sdk\\data_types\\utils.py\", line 164, in val_to_json\n",
      "    val.bind_to_run(run, key, namespace)\n",
      "  File \"C:\\anaconda3\\envs\\jupyterenv\\lib\\site-packages\\wandb\\data_types.py\", line 1377, in bind_to_run\n",
      "    with codecs.open(tmp_path, \"w\", encoding=\"utf-8\") as fp:\n",
      "  File \"C:\\anaconda3\\envs\\jupyterenv\\lib\\codecs.py\", line 906, in open\n",
      "    file = builtins.open(filename, mode, buffering)\n",
      "FileNotFoundError: [Errno 2] No such file or directory: 'C:\\\\Users\\\\Addisu\\\\AppData\\\\Local\\\\Temp\\\\tmpbie7lvyxwandb-media\\\\us4xqen0.graph.json'\n"
     ]
    },
    {
     "data": {
      "text/html": [
       " View run <strong style=\"color:#cdcd00\">eternal-sweep-34</strong> at: <a href='https://wandb.ai/evapppp/sweeps-keras/runs/an6zuzoz' target=\"_blank\">https://wandb.ai/evapppp/sweeps-keras/runs/an6zuzoz</a><br/> View project at: <a href='https://wandb.ai/evapppp/sweeps-keras' target=\"_blank\">https://wandb.ai/evapppp/sweeps-keras</a><br/>Synced 5 W&B file(s), 0 media file(s), 0 artifact file(s) and 0 other file(s)"
      ],
      "text/plain": [
       "<IPython.core.display.HTML object>"
      ]
     },
     "metadata": {},
     "output_type": "display_data"
    },
    {
     "data": {
      "text/html": [
       "Find logs at: <code>.\\wandb\\run-20240621_154812-an6zuzoz\\logs</code>"
      ],
      "text/plain": [
       "<IPython.core.display.HTML object>"
      ]
     },
     "metadata": {},
     "output_type": "display_data"
    },
    {
     "name": "stderr",
     "output_type": "stream",
     "text": [
      "Run an6zuzoz errored:\n",
      "Traceback (most recent call last):\n",
      "  File \"C:\\anaconda3\\envs\\jupyterenv\\lib\\site-packages\\wandb\\agents\\pyagent.py\", line 307, in _run_job\n",
      "    self._function()\n",
      "  File \"C:\\Users\\Addisu\\AppData\\Local\\Temp\\ipykernel_74596\\2644847777.py\", line 221, in sweep_train\n",
      "    train(model,\n",
      "  File \"C:\\Users\\Addisu\\AppData\\Local\\Temp\\ipykernel_74596\\2644847777.py\", line 151, in train\n",
      "    model.fit(X_train,\n",
      "  File \"C:\\anaconda3\\envs\\jupyterenv\\lib\\site-packages\\keras\\src\\utils\\traceback_utils.py\", line 70, in error_handler\n",
      "    raise e.with_traceback(filtered_tb) from None\n",
      "  File \"C:\\anaconda3\\envs\\jupyterenv\\lib\\site-packages\\wandb\\integration\\keras\\keras.py\", line 656, in on_train_batch_end\n",
      "    wandb.run.summary[\"graph\"] = wandb.Graph.from_keras(self.model)\n",
      "  File \"C:\\anaconda3\\envs\\jupyterenv\\lib\\site-packages\\wandb\\sdk\\wandb_summary.py\", line 52, in __setitem__\n",
      "    self.update({key: val})\n",
      "  File \"C:\\anaconda3\\envs\\jupyterenv\\lib\\site-packages\\wandb\\sdk\\wandb_summary.py\", line 74, in update\n",
      "    self._update(record)\n",
      "  File \"C:\\anaconda3\\envs\\jupyterenv\\lib\\site-packages\\wandb\\sdk\\wandb_summary.py\", line 128, in _update\n",
      "    self._update_callback(record)\n",
      "  File \"C:\\anaconda3\\envs\\jupyterenv\\lib\\site-packages\\wandb\\sdk\\wandb_run.py\", line 400, in wrapper_fn\n",
      "    return func(self, *args, **kwargs)\n",
      "  File \"C:\\anaconda3\\envs\\jupyterenv\\lib\\site-packages\\wandb\\sdk\\wandb_run.py\", line 1424, in _summary_update_callback\n",
      "    self._backend.interface.publish_summary(summary_record)\n",
      "  File \"C:\\anaconda3\\envs\\jupyterenv\\lib\\site-packages\\wandb\\sdk\\interface\\interface.py\", line 270, in publish_summary\n",
      "    pb_summary_record = self._make_summary(summary_record)\n",
      "  File \"C:\\anaconda3\\envs\\jupyterenv\\lib\\site-packages\\wandb\\sdk\\interface\\interface.py\", line 248, in _make_summary\n",
      "    json_value = self._summary_encode(item.value, path_from_root)\n",
      "  File \"C:\\anaconda3\\envs\\jupyterenv\\lib\\site-packages\\wandb\\sdk\\interface\\interface.py\", line 221, in _summary_encode\n",
      "    val_to_json(self._run, path_from_root, value, namespace=\"summary\")\n",
      "  File \"C:\\anaconda3\\envs\\jupyterenv\\lib\\site-packages\\wandb\\sdk\\data_types\\utils.py\", line 164, in val_to_json\n",
      "    val.bind_to_run(run, key, namespace)\n",
      "  File \"C:\\anaconda3\\envs\\jupyterenv\\lib\\site-packages\\wandb\\data_types.py\", line 1377, in bind_to_run\n",
      "    with codecs.open(tmp_path, \"w\", encoding=\"utf-8\") as fp:\n",
      "  File \"C:\\anaconda3\\envs\\jupyterenv\\lib\\codecs.py\", line 906, in open\n",
      "    file = builtins.open(filename, mode, buffering)\n",
      "FileNotFoundError: [Errno 2] No such file or directory: 'C:\\\\Users\\\\Addisu\\\\AppData\\\\Local\\\\Temp\\\\tmpbie7lvyxwandb-media\\\\us4xqen0.graph.json'\n",
      "\n",
      "\u001b[34m\u001b[1mwandb\u001b[0m: \u001b[32m\u001b[41mERROR\u001b[0m Run an6zuzoz errored:\n",
      "\u001b[34m\u001b[1mwandb\u001b[0m: \u001b[32m\u001b[41mERROR\u001b[0m Traceback (most recent call last):\n",
      "\u001b[34m\u001b[1mwandb\u001b[0m: \u001b[32m\u001b[41mERROR\u001b[0m   File \"C:\\anaconda3\\envs\\jupyterenv\\lib\\site-packages\\wandb\\agents\\pyagent.py\", line 307, in _run_job\n",
      "\u001b[34m\u001b[1mwandb\u001b[0m: \u001b[32m\u001b[41mERROR\u001b[0m     self._function()\n",
      "\u001b[34m\u001b[1mwandb\u001b[0m: \u001b[32m\u001b[41mERROR\u001b[0m   File \"C:\\Users\\Addisu\\AppData\\Local\\Temp\\ipykernel_74596\\2644847777.py\", line 221, in sweep_train\n",
      "\u001b[34m\u001b[1mwandb\u001b[0m: \u001b[32m\u001b[41mERROR\u001b[0m     train(model,\n",
      "\u001b[34m\u001b[1mwandb\u001b[0m: \u001b[32m\u001b[41mERROR\u001b[0m   File \"C:\\Users\\Addisu\\AppData\\Local\\Temp\\ipykernel_74596\\2644847777.py\", line 151, in train\n",
      "\u001b[34m\u001b[1mwandb\u001b[0m: \u001b[32m\u001b[41mERROR\u001b[0m     model.fit(X_train,\n",
      "\u001b[34m\u001b[1mwandb\u001b[0m: \u001b[32m\u001b[41mERROR\u001b[0m   File \"C:\\anaconda3\\envs\\jupyterenv\\lib\\site-packages\\keras\\src\\utils\\traceback_utils.py\", line 70, in error_handler\n",
      "\u001b[34m\u001b[1mwandb\u001b[0m: \u001b[32m\u001b[41mERROR\u001b[0m     raise e.with_traceback(filtered_tb) from None\n",
      "\u001b[34m\u001b[1mwandb\u001b[0m: \u001b[32m\u001b[41mERROR\u001b[0m   File \"C:\\anaconda3\\envs\\jupyterenv\\lib\\site-packages\\wandb\\integration\\keras\\keras.py\", line 656, in on_train_batch_end\n",
      "\u001b[34m\u001b[1mwandb\u001b[0m: \u001b[32m\u001b[41mERROR\u001b[0m     wandb.run.summary[\"graph\"] = wandb.Graph.from_keras(self.model)\n",
      "\u001b[34m\u001b[1mwandb\u001b[0m: \u001b[32m\u001b[41mERROR\u001b[0m   File \"C:\\anaconda3\\envs\\jupyterenv\\lib\\site-packages\\wandb\\sdk\\wandb_summary.py\", line 52, in __setitem__\n",
      "\u001b[34m\u001b[1mwandb\u001b[0m: \u001b[32m\u001b[41mERROR\u001b[0m     self.update({key: val})\n",
      "\u001b[34m\u001b[1mwandb\u001b[0m: \u001b[32m\u001b[41mERROR\u001b[0m   File \"C:\\anaconda3\\envs\\jupyterenv\\lib\\site-packages\\wandb\\sdk\\wandb_summary.py\", line 74, in update\n",
      "\u001b[34m\u001b[1mwandb\u001b[0m: \u001b[32m\u001b[41mERROR\u001b[0m     self._update(record)\n",
      "\u001b[34m\u001b[1mwandb\u001b[0m: \u001b[32m\u001b[41mERROR\u001b[0m   File \"C:\\anaconda3\\envs\\jupyterenv\\lib\\site-packages\\wandb\\sdk\\wandb_summary.py\", line 128, in _update\n",
      "\u001b[34m\u001b[1mwandb\u001b[0m: \u001b[32m\u001b[41mERROR\u001b[0m     self._update_callback(record)\n",
      "\u001b[34m\u001b[1mwandb\u001b[0m: \u001b[32m\u001b[41mERROR\u001b[0m   File \"C:\\anaconda3\\envs\\jupyterenv\\lib\\site-packages\\wandb\\sdk\\wandb_run.py\", line 400, in wrapper_fn\n",
      "\u001b[34m\u001b[1mwandb\u001b[0m: \u001b[32m\u001b[41mERROR\u001b[0m     return func(self, *args, **kwargs)\n",
      "\u001b[34m\u001b[1mwandb\u001b[0m: \u001b[32m\u001b[41mERROR\u001b[0m   File \"C:\\anaconda3\\envs\\jupyterenv\\lib\\site-packages\\wandb\\sdk\\wandb_run.py\", line 1424, in _summary_update_callback\n",
      "\u001b[34m\u001b[1mwandb\u001b[0m: \u001b[32m\u001b[41mERROR\u001b[0m     self._backend.interface.publish_summary(summary_record)\n",
      "\u001b[34m\u001b[1mwandb\u001b[0m: \u001b[32m\u001b[41mERROR\u001b[0m   File \"C:\\anaconda3\\envs\\jupyterenv\\lib\\site-packages\\wandb\\sdk\\interface\\interface.py\", line 270, in publish_summary\n",
      "\u001b[34m\u001b[1mwandb\u001b[0m: \u001b[32m\u001b[41mERROR\u001b[0m     pb_summary_record = self._make_summary(summary_record)\n",
      "\u001b[34m\u001b[1mwandb\u001b[0m: \u001b[32m\u001b[41mERROR\u001b[0m   File \"C:\\anaconda3\\envs\\jupyterenv\\lib\\site-packages\\wandb\\sdk\\interface\\interface.py\", line 248, in _make_summary\n",
      "\u001b[34m\u001b[1mwandb\u001b[0m: \u001b[32m\u001b[41mERROR\u001b[0m     json_value = self._summary_encode(item.value, path_from_root)\n",
      "\u001b[34m\u001b[1mwandb\u001b[0m: \u001b[32m\u001b[41mERROR\u001b[0m   File \"C:\\anaconda3\\envs\\jupyterenv\\lib\\site-packages\\wandb\\sdk\\interface\\interface.py\", line 221, in _summary_encode\n",
      "\u001b[34m\u001b[1mwandb\u001b[0m: \u001b[32m\u001b[41mERROR\u001b[0m     val_to_json(self._run, path_from_root, value, namespace=\"summary\")\n",
      "\u001b[34m\u001b[1mwandb\u001b[0m: \u001b[32m\u001b[41mERROR\u001b[0m   File \"C:\\anaconda3\\envs\\jupyterenv\\lib\\site-packages\\wandb\\sdk\\data_types\\utils.py\", line 164, in val_to_json\n",
      "\u001b[34m\u001b[1mwandb\u001b[0m: \u001b[32m\u001b[41mERROR\u001b[0m     val.bind_to_run(run, key, namespace)\n",
      "\u001b[34m\u001b[1mwandb\u001b[0m: \u001b[32m\u001b[41mERROR\u001b[0m   File \"C:\\anaconda3\\envs\\jupyterenv\\lib\\site-packages\\wandb\\data_types.py\", line 1377, in bind_to_run\n",
      "\u001b[34m\u001b[1mwandb\u001b[0m: \u001b[32m\u001b[41mERROR\u001b[0m     with codecs.open(tmp_path, \"w\", encoding=\"utf-8\") as fp:\n",
      "\u001b[34m\u001b[1mwandb\u001b[0m: \u001b[32m\u001b[41mERROR\u001b[0m   File \"C:\\anaconda3\\envs\\jupyterenv\\lib\\codecs.py\", line 906, in open\n",
      "\u001b[34m\u001b[1mwandb\u001b[0m: \u001b[32m\u001b[41mERROR\u001b[0m     file = builtins.open(filename, mode, buffering)\n",
      "\u001b[34m\u001b[1mwandb\u001b[0m: \u001b[32m\u001b[41mERROR\u001b[0m FileNotFoundError: [Errno 2] No such file or directory: 'C:\\\\Users\\\\Addisu\\\\AppData\\\\Local\\\\Temp\\\\tmpbie7lvyxwandb-media\\\\us4xqen0.graph.json'\n",
      "\u001b[34m\u001b[1mwandb\u001b[0m: \u001b[32m\u001b[41mERROR\u001b[0m \n",
      "\u001b[34m\u001b[1mwandb\u001b[0m: Agent Starting Run: czjjvii5 with config:\n",
      "\u001b[34m\u001b[1mwandb\u001b[0m: \tbatch_size: 96\n",
      "\u001b[34m\u001b[1mwandb\u001b[0m: \tdense_activation: relu\n",
      "\u001b[34m\u001b[1mwandb\u001b[0m: \tdropout: 0.2\n",
      "\u001b[34m\u001b[1mwandb\u001b[0m: \tepochs: 1\n",
      "\u001b[34m\u001b[1mwandb\u001b[0m: \tlearning_rate: 0.000271807774206172\n",
      "\u001b[34m\u001b[1mwandb\u001b[0m: \toptimizer: sgd\n"
     ]
    },
    {
     "data": {
      "text/html": [
       "wandb version 0.17.2 is available!  To upgrade, please run:\n",
       " $ pip install wandb --upgrade"
      ],
      "text/plain": [
       "<IPython.core.display.HTML object>"
      ]
     },
     "metadata": {},
     "output_type": "display_data"
    },
    {
     "data": {
      "text/html": [
       "Tracking run with wandb version 0.17.0"
      ],
      "text/plain": [
       "<IPython.core.display.HTML object>"
      ]
     },
     "metadata": {},
     "output_type": "display_data"
    },
    {
     "data": {
      "text/html": [
       "Run data is saved locally in <code>C:\\Users\\Addisu\\Desktop\\kidi files\\Python workshop with ellen\\wandb\\run-20240621_154853-czjjvii5</code>"
      ],
      "text/plain": [
       "<IPython.core.display.HTML object>"
      ]
     },
     "metadata": {},
     "output_type": "display_data"
    },
    {
     "data": {
      "text/html": [
       "Syncing run <strong><a href='https://wandb.ai/evapppp/sweeps-keras/runs/czjjvii5' target=\"_blank\">worthy-sweep-35</a></strong> to <a href='https://wandb.ai/evapppp/sweeps-keras' target=\"_blank\">Weights & Biases</a> (<a href='https://wandb.me/run' target=\"_blank\">docs</a>)<br/>Sweep page: <a href='https://wandb.ai/evapppp/sweeps-keras/sweeps/qu378scj' target=\"_blank\">https://wandb.ai/evapppp/sweeps-keras/sweeps/qu378scj</a>"
      ],
      "text/plain": [
       "<IPython.core.display.HTML object>"
      ]
     },
     "metadata": {},
     "output_type": "display_data"
    },
    {
     "data": {
      "text/html": [
       " View project at <a href='https://wandb.ai/evapppp/sweeps-keras' target=\"_blank\">https://wandb.ai/evapppp/sweeps-keras</a>"
      ],
      "text/plain": [
       "<IPython.core.display.HTML object>"
      ]
     },
     "metadata": {},
     "output_type": "display_data"
    },
    {
     "data": {
      "text/html": [
       " View sweep at <a href='https://wandb.ai/evapppp/sweeps-keras/sweeps/qu378scj' target=\"_blank\">https://wandb.ai/evapppp/sweeps-keras/sweeps/qu378scj</a>"
      ],
      "text/plain": [
       "<IPython.core.display.HTML object>"
      ]
     },
     "metadata": {},
     "output_type": "display_data"
    },
    {
     "data": {
      "text/html": [
       " View run at <a href='https://wandb.ai/evapppp/sweeps-keras/runs/czjjvii5' target=\"_blank\">https://wandb.ai/evapppp/sweeps-keras/runs/czjjvii5</a>"
      ],
      "text/plain": [
       "<IPython.core.display.HTML object>"
      ]
     },
     "metadata": {},
     "output_type": "display_data"
    },
    {
     "name": "stderr",
     "output_type": "stream",
     "text": [
      "Traceback (most recent call last):\n",
      "  File \"C:\\Users\\Addisu\\AppData\\Local\\Temp\\ipykernel_74596\\2644847777.py\", line 221, in sweep_train\n",
      "    train(model,\n",
      "  File \"C:\\Users\\Addisu\\AppData\\Local\\Temp\\ipykernel_74596\\2644847777.py\", line 151, in train\n",
      "    model.fit(X_train,\n",
      "  File \"C:\\anaconda3\\envs\\jupyterenv\\lib\\site-packages\\keras\\src\\utils\\traceback_utils.py\", line 70, in error_handler\n",
      "    raise e.with_traceback(filtered_tb) from None\n",
      "  File \"C:\\anaconda3\\envs\\jupyterenv\\lib\\site-packages\\wandb\\integration\\keras\\keras.py\", line 656, in on_train_batch_end\n",
      "    wandb.run.summary[\"graph\"] = wandb.Graph.from_keras(self.model)\n",
      "  File \"C:\\anaconda3\\envs\\jupyterenv\\lib\\site-packages\\wandb\\sdk\\wandb_summary.py\", line 52, in __setitem__\n",
      "    self.update({key: val})\n",
      "  File \"C:\\anaconda3\\envs\\jupyterenv\\lib\\site-packages\\wandb\\sdk\\wandb_summary.py\", line 74, in update\n",
      "    self._update(record)\n",
      "  File \"C:\\anaconda3\\envs\\jupyterenv\\lib\\site-packages\\wandb\\sdk\\wandb_summary.py\", line 128, in _update\n",
      "    self._update_callback(record)\n",
      "  File \"C:\\anaconda3\\envs\\jupyterenv\\lib\\site-packages\\wandb\\sdk\\wandb_run.py\", line 400, in wrapper_fn\n",
      "    return func(self, *args, **kwargs)\n",
      "  File \"C:\\anaconda3\\envs\\jupyterenv\\lib\\site-packages\\wandb\\sdk\\wandb_run.py\", line 1424, in _summary_update_callback\n",
      "    self._backend.interface.publish_summary(summary_record)\n",
      "  File \"C:\\anaconda3\\envs\\jupyterenv\\lib\\site-packages\\wandb\\sdk\\interface\\interface.py\", line 270, in publish_summary\n",
      "    pb_summary_record = self._make_summary(summary_record)\n",
      "  File \"C:\\anaconda3\\envs\\jupyterenv\\lib\\site-packages\\wandb\\sdk\\interface\\interface.py\", line 248, in _make_summary\n",
      "    json_value = self._summary_encode(item.value, path_from_root)\n",
      "  File \"C:\\anaconda3\\envs\\jupyterenv\\lib\\site-packages\\wandb\\sdk\\interface\\interface.py\", line 221, in _summary_encode\n",
      "    val_to_json(self._run, path_from_root, value, namespace=\"summary\")\n",
      "  File \"C:\\anaconda3\\envs\\jupyterenv\\lib\\site-packages\\wandb\\sdk\\data_types\\utils.py\", line 164, in val_to_json\n",
      "    val.bind_to_run(run, key, namespace)\n",
      "  File \"C:\\anaconda3\\envs\\jupyterenv\\lib\\site-packages\\wandb\\data_types.py\", line 1377, in bind_to_run\n",
      "    with codecs.open(tmp_path, \"w\", encoding=\"utf-8\") as fp:\n",
      "  File \"C:\\anaconda3\\envs\\jupyterenv\\lib\\codecs.py\", line 906, in open\n",
      "    file = builtins.open(filename, mode, buffering)\n",
      "FileNotFoundError: [Errno 2] No such file or directory: 'C:\\\\Users\\\\Addisu\\\\AppData\\\\Local\\\\Temp\\\\tmpbie7lvyxwandb-media\\\\a7a3841h.graph.json'\n"
     ]
    },
    {
     "data": {
      "text/html": [
       " View run <strong style=\"color:#cdcd00\">worthy-sweep-35</strong> at: <a href='https://wandb.ai/evapppp/sweeps-keras/runs/czjjvii5' target=\"_blank\">https://wandb.ai/evapppp/sweeps-keras/runs/czjjvii5</a><br/> View project at: <a href='https://wandb.ai/evapppp/sweeps-keras' target=\"_blank\">https://wandb.ai/evapppp/sweeps-keras</a><br/>Synced 5 W&B file(s), 0 media file(s), 0 artifact file(s) and 0 other file(s)"
      ],
      "text/plain": [
       "<IPython.core.display.HTML object>"
      ]
     },
     "metadata": {},
     "output_type": "display_data"
    },
    {
     "data": {
      "text/html": [
       "Find logs at: <code>.\\wandb\\run-20240621_154853-czjjvii5\\logs</code>"
      ],
      "text/plain": [
       "<IPython.core.display.HTML object>"
      ]
     },
     "metadata": {},
     "output_type": "display_data"
    },
    {
     "name": "stderr",
     "output_type": "stream",
     "text": [
      "Run czjjvii5 errored:\n",
      "Traceback (most recent call last):\n",
      "  File \"C:\\anaconda3\\envs\\jupyterenv\\lib\\site-packages\\wandb\\agents\\pyagent.py\", line 307, in _run_job\n",
      "    self._function()\n",
      "  File \"C:\\Users\\Addisu\\AppData\\Local\\Temp\\ipykernel_74596\\2644847777.py\", line 221, in sweep_train\n",
      "    train(model,\n",
      "  File \"C:\\Users\\Addisu\\AppData\\Local\\Temp\\ipykernel_74596\\2644847777.py\", line 151, in train\n",
      "    model.fit(X_train,\n",
      "  File \"C:\\anaconda3\\envs\\jupyterenv\\lib\\site-packages\\keras\\src\\utils\\traceback_utils.py\", line 70, in error_handler\n",
      "    raise e.with_traceback(filtered_tb) from None\n",
      "  File \"C:\\anaconda3\\envs\\jupyterenv\\lib\\site-packages\\wandb\\integration\\keras\\keras.py\", line 656, in on_train_batch_end\n",
      "    wandb.run.summary[\"graph\"] = wandb.Graph.from_keras(self.model)\n",
      "  File \"C:\\anaconda3\\envs\\jupyterenv\\lib\\site-packages\\wandb\\sdk\\wandb_summary.py\", line 52, in __setitem__\n",
      "    self.update({key: val})\n",
      "  File \"C:\\anaconda3\\envs\\jupyterenv\\lib\\site-packages\\wandb\\sdk\\wandb_summary.py\", line 74, in update\n",
      "    self._update(record)\n",
      "  File \"C:\\anaconda3\\envs\\jupyterenv\\lib\\site-packages\\wandb\\sdk\\wandb_summary.py\", line 128, in _update\n",
      "    self._update_callback(record)\n",
      "  File \"C:\\anaconda3\\envs\\jupyterenv\\lib\\site-packages\\wandb\\sdk\\wandb_run.py\", line 400, in wrapper_fn\n",
      "    return func(self, *args, **kwargs)\n",
      "  File \"C:\\anaconda3\\envs\\jupyterenv\\lib\\site-packages\\wandb\\sdk\\wandb_run.py\", line 1424, in _summary_update_callback\n",
      "    self._backend.interface.publish_summary(summary_record)\n",
      "  File \"C:\\anaconda3\\envs\\jupyterenv\\lib\\site-packages\\wandb\\sdk\\interface\\interface.py\", line 270, in publish_summary\n",
      "    pb_summary_record = self._make_summary(summary_record)\n",
      "  File \"C:\\anaconda3\\envs\\jupyterenv\\lib\\site-packages\\wandb\\sdk\\interface\\interface.py\", line 248, in _make_summary\n",
      "    json_value = self._summary_encode(item.value, path_from_root)\n",
      "  File \"C:\\anaconda3\\envs\\jupyterenv\\lib\\site-packages\\wandb\\sdk\\interface\\interface.py\", line 221, in _summary_encode\n",
      "    val_to_json(self._run, path_from_root, value, namespace=\"summary\")\n",
      "  File \"C:\\anaconda3\\envs\\jupyterenv\\lib\\site-packages\\wandb\\sdk\\data_types\\utils.py\", line 164, in val_to_json\n",
      "    val.bind_to_run(run, key, namespace)\n",
      "  File \"C:\\anaconda3\\envs\\jupyterenv\\lib\\site-packages\\wandb\\data_types.py\", line 1377, in bind_to_run\n",
      "    with codecs.open(tmp_path, \"w\", encoding=\"utf-8\") as fp:\n",
      "  File \"C:\\anaconda3\\envs\\jupyterenv\\lib\\codecs.py\", line 906, in open\n",
      "    file = builtins.open(filename, mode, buffering)\n",
      "FileNotFoundError: [Errno 2] No such file or directory: 'C:\\\\Users\\\\Addisu\\\\AppData\\\\Local\\\\Temp\\\\tmpbie7lvyxwandb-media\\\\a7a3841h.graph.json'\n",
      "\n",
      "\u001b[34m\u001b[1mwandb\u001b[0m: \u001b[32m\u001b[41mERROR\u001b[0m Run czjjvii5 errored:\n",
      "\u001b[34m\u001b[1mwandb\u001b[0m: \u001b[32m\u001b[41mERROR\u001b[0m Traceback (most recent call last):\n",
      "\u001b[34m\u001b[1mwandb\u001b[0m: \u001b[32m\u001b[41mERROR\u001b[0m   File \"C:\\anaconda3\\envs\\jupyterenv\\lib\\site-packages\\wandb\\agents\\pyagent.py\", line 307, in _run_job\n",
      "\u001b[34m\u001b[1mwandb\u001b[0m: \u001b[32m\u001b[41mERROR\u001b[0m     self._function()\n",
      "\u001b[34m\u001b[1mwandb\u001b[0m: \u001b[32m\u001b[41mERROR\u001b[0m   File \"C:\\Users\\Addisu\\AppData\\Local\\Temp\\ipykernel_74596\\2644847777.py\", line 221, in sweep_train\n",
      "\u001b[34m\u001b[1mwandb\u001b[0m: \u001b[32m\u001b[41mERROR\u001b[0m     train(model,\n",
      "\u001b[34m\u001b[1mwandb\u001b[0m: \u001b[32m\u001b[41mERROR\u001b[0m   File \"C:\\Users\\Addisu\\AppData\\Local\\Temp\\ipykernel_74596\\2644847777.py\", line 151, in train\n",
      "\u001b[34m\u001b[1mwandb\u001b[0m: \u001b[32m\u001b[41mERROR\u001b[0m     model.fit(X_train,\n",
      "\u001b[34m\u001b[1mwandb\u001b[0m: \u001b[32m\u001b[41mERROR\u001b[0m   File \"C:\\anaconda3\\envs\\jupyterenv\\lib\\site-packages\\keras\\src\\utils\\traceback_utils.py\", line 70, in error_handler\n",
      "\u001b[34m\u001b[1mwandb\u001b[0m: \u001b[32m\u001b[41mERROR\u001b[0m     raise e.with_traceback(filtered_tb) from None\n",
      "\u001b[34m\u001b[1mwandb\u001b[0m: \u001b[32m\u001b[41mERROR\u001b[0m   File \"C:\\anaconda3\\envs\\jupyterenv\\lib\\site-packages\\wandb\\integration\\keras\\keras.py\", line 656, in on_train_batch_end\n",
      "\u001b[34m\u001b[1mwandb\u001b[0m: \u001b[32m\u001b[41mERROR\u001b[0m     wandb.run.summary[\"graph\"] = wandb.Graph.from_keras(self.model)\n",
      "\u001b[34m\u001b[1mwandb\u001b[0m: \u001b[32m\u001b[41mERROR\u001b[0m   File \"C:\\anaconda3\\envs\\jupyterenv\\lib\\site-packages\\wandb\\sdk\\wandb_summary.py\", line 52, in __setitem__\n",
      "\u001b[34m\u001b[1mwandb\u001b[0m: \u001b[32m\u001b[41mERROR\u001b[0m     self.update({key: val})\n",
      "\u001b[34m\u001b[1mwandb\u001b[0m: \u001b[32m\u001b[41mERROR\u001b[0m   File \"C:\\anaconda3\\envs\\jupyterenv\\lib\\site-packages\\wandb\\sdk\\wandb_summary.py\", line 74, in update\n",
      "\u001b[34m\u001b[1mwandb\u001b[0m: \u001b[32m\u001b[41mERROR\u001b[0m     self._update(record)\n",
      "\u001b[34m\u001b[1mwandb\u001b[0m: \u001b[32m\u001b[41mERROR\u001b[0m   File \"C:\\anaconda3\\envs\\jupyterenv\\lib\\site-packages\\wandb\\sdk\\wandb_summary.py\", line 128, in _update\n",
      "\u001b[34m\u001b[1mwandb\u001b[0m: \u001b[32m\u001b[41mERROR\u001b[0m     self._update_callback(record)\n",
      "\u001b[34m\u001b[1mwandb\u001b[0m: \u001b[32m\u001b[41mERROR\u001b[0m   File \"C:\\anaconda3\\envs\\jupyterenv\\lib\\site-packages\\wandb\\sdk\\wandb_run.py\", line 400, in wrapper_fn\n",
      "\u001b[34m\u001b[1mwandb\u001b[0m: \u001b[32m\u001b[41mERROR\u001b[0m     return func(self, *args, **kwargs)\n",
      "\u001b[34m\u001b[1mwandb\u001b[0m: \u001b[32m\u001b[41mERROR\u001b[0m   File \"C:\\anaconda3\\envs\\jupyterenv\\lib\\site-packages\\wandb\\sdk\\wandb_run.py\", line 1424, in _summary_update_callback\n",
      "\u001b[34m\u001b[1mwandb\u001b[0m: \u001b[32m\u001b[41mERROR\u001b[0m     self._backend.interface.publish_summary(summary_record)\n",
      "\u001b[34m\u001b[1mwandb\u001b[0m: \u001b[32m\u001b[41mERROR\u001b[0m   File \"C:\\anaconda3\\envs\\jupyterenv\\lib\\site-packages\\wandb\\sdk\\interface\\interface.py\", line 270, in publish_summary\n",
      "\u001b[34m\u001b[1mwandb\u001b[0m: \u001b[32m\u001b[41mERROR\u001b[0m     pb_summary_record = self._make_summary(summary_record)\n",
      "\u001b[34m\u001b[1mwandb\u001b[0m: \u001b[32m\u001b[41mERROR\u001b[0m   File \"C:\\anaconda3\\envs\\jupyterenv\\lib\\site-packages\\wandb\\sdk\\interface\\interface.py\", line 248, in _make_summary\n",
      "\u001b[34m\u001b[1mwandb\u001b[0m: \u001b[32m\u001b[41mERROR\u001b[0m     json_value = self._summary_encode(item.value, path_from_root)\n",
      "\u001b[34m\u001b[1mwandb\u001b[0m: \u001b[32m\u001b[41mERROR\u001b[0m   File \"C:\\anaconda3\\envs\\jupyterenv\\lib\\site-packages\\wandb\\sdk\\interface\\interface.py\", line 221, in _summary_encode\n",
      "\u001b[34m\u001b[1mwandb\u001b[0m: \u001b[32m\u001b[41mERROR\u001b[0m     val_to_json(self._run, path_from_root, value, namespace=\"summary\")\n",
      "\u001b[34m\u001b[1mwandb\u001b[0m: \u001b[32m\u001b[41mERROR\u001b[0m   File \"C:\\anaconda3\\envs\\jupyterenv\\lib\\site-packages\\wandb\\sdk\\data_types\\utils.py\", line 164, in val_to_json\n",
      "\u001b[34m\u001b[1mwandb\u001b[0m: \u001b[32m\u001b[41mERROR\u001b[0m     val.bind_to_run(run, key, namespace)\n",
      "\u001b[34m\u001b[1mwandb\u001b[0m: \u001b[32m\u001b[41mERROR\u001b[0m   File \"C:\\anaconda3\\envs\\jupyterenv\\lib\\site-packages\\wandb\\data_types.py\", line 1377, in bind_to_run\n",
      "\u001b[34m\u001b[1mwandb\u001b[0m: \u001b[32m\u001b[41mERROR\u001b[0m     with codecs.open(tmp_path, \"w\", encoding=\"utf-8\") as fp:\n",
      "\u001b[34m\u001b[1mwandb\u001b[0m: \u001b[32m\u001b[41mERROR\u001b[0m   File \"C:\\anaconda3\\envs\\jupyterenv\\lib\\codecs.py\", line 906, in open\n",
      "\u001b[34m\u001b[1mwandb\u001b[0m: \u001b[32m\u001b[41mERROR\u001b[0m     file = builtins.open(filename, mode, buffering)\n",
      "\u001b[34m\u001b[1mwandb\u001b[0m: \u001b[32m\u001b[41mERROR\u001b[0m FileNotFoundError: [Errno 2] No such file or directory: 'C:\\\\Users\\\\Addisu\\\\AppData\\\\Local\\\\Temp\\\\tmpbie7lvyxwandb-media\\\\a7a3841h.graph.json'\n",
      "\u001b[34m\u001b[1mwandb\u001b[0m: \u001b[32m\u001b[41mERROR\u001b[0m \n",
      "\u001b[34m\u001b[1mwandb\u001b[0m: Agent Starting Run: 1qrpxjnt with config:\n",
      "\u001b[34m\u001b[1mwandb\u001b[0m: \tbatch_size: 56\n",
      "\u001b[34m\u001b[1mwandb\u001b[0m: \tdense_activation: relu\n",
      "\u001b[34m\u001b[1mwandb\u001b[0m: \tdropout: 0.1\n",
      "\u001b[34m\u001b[1mwandb\u001b[0m: \tepochs: 1\n",
      "\u001b[34m\u001b[1mwandb\u001b[0m: \tlearning_rate: 0.009756891894854028\n",
      "\u001b[34m\u001b[1mwandb\u001b[0m: \toptimizer: sgd\n"
     ]
    },
    {
     "data": {
      "text/html": [
       "wandb version 0.17.2 is available!  To upgrade, please run:\n",
       " $ pip install wandb --upgrade"
      ],
      "text/plain": [
       "<IPython.core.display.HTML object>"
      ]
     },
     "metadata": {},
     "output_type": "display_data"
    },
    {
     "data": {
      "text/html": [
       "Tracking run with wandb version 0.17.0"
      ],
      "text/plain": [
       "<IPython.core.display.HTML object>"
      ]
     },
     "metadata": {},
     "output_type": "display_data"
    },
    {
     "data": {
      "text/html": [
       "Run data is saved locally in <code>C:\\Users\\Addisu\\Desktop\\kidi files\\Python workshop with ellen\\wandb\\run-20240621_154932-1qrpxjnt</code>"
      ],
      "text/plain": [
       "<IPython.core.display.HTML object>"
      ]
     },
     "metadata": {},
     "output_type": "display_data"
    },
    {
     "data": {
      "text/html": [
       "Syncing run <strong><a href='https://wandb.ai/evapppp/sweeps-keras/runs/1qrpxjnt' target=\"_blank\">crimson-sweep-36</a></strong> to <a href='https://wandb.ai/evapppp/sweeps-keras' target=\"_blank\">Weights & Biases</a> (<a href='https://wandb.me/run' target=\"_blank\">docs</a>)<br/>Sweep page: <a href='https://wandb.ai/evapppp/sweeps-keras/sweeps/qu378scj' target=\"_blank\">https://wandb.ai/evapppp/sweeps-keras/sweeps/qu378scj</a>"
      ],
      "text/plain": [
       "<IPython.core.display.HTML object>"
      ]
     },
     "metadata": {},
     "output_type": "display_data"
    },
    {
     "data": {
      "text/html": [
       " View project at <a href='https://wandb.ai/evapppp/sweeps-keras' target=\"_blank\">https://wandb.ai/evapppp/sweeps-keras</a>"
      ],
      "text/plain": [
       "<IPython.core.display.HTML object>"
      ]
     },
     "metadata": {},
     "output_type": "display_data"
    },
    {
     "data": {
      "text/html": [
       " View sweep at <a href='https://wandb.ai/evapppp/sweeps-keras/sweeps/qu378scj' target=\"_blank\">https://wandb.ai/evapppp/sweeps-keras/sweeps/qu378scj</a>"
      ],
      "text/plain": [
       "<IPython.core.display.HTML object>"
      ]
     },
     "metadata": {},
     "output_type": "display_data"
    },
    {
     "data": {
      "text/html": [
       " View run at <a href='https://wandb.ai/evapppp/sweeps-keras/runs/1qrpxjnt' target=\"_blank\">https://wandb.ai/evapppp/sweeps-keras/runs/1qrpxjnt</a>"
      ],
      "text/plain": [
       "<IPython.core.display.HTML object>"
      ]
     },
     "metadata": {},
     "output_type": "display_data"
    },
    {
     "name": "stderr",
     "output_type": "stream",
     "text": [
      "Traceback (most recent call last):\n",
      "  File \"C:\\Users\\Addisu\\AppData\\Local\\Temp\\ipykernel_74596\\2644847777.py\", line 221, in sweep_train\n",
      "    train(model,\n",
      "  File \"C:\\Users\\Addisu\\AppData\\Local\\Temp\\ipykernel_74596\\2644847777.py\", line 151, in train\n",
      "    model.fit(X_train,\n",
      "  File \"C:\\anaconda3\\envs\\jupyterenv\\lib\\site-packages\\keras\\src\\utils\\traceback_utils.py\", line 70, in error_handler\n",
      "    raise e.with_traceback(filtered_tb) from None\n",
      "  File \"C:\\anaconda3\\envs\\jupyterenv\\lib\\site-packages\\wandb\\integration\\keras\\keras.py\", line 656, in on_train_batch_end\n",
      "    wandb.run.summary[\"graph\"] = wandb.Graph.from_keras(self.model)\n",
      "  File \"C:\\anaconda3\\envs\\jupyterenv\\lib\\site-packages\\wandb\\sdk\\wandb_summary.py\", line 52, in __setitem__\n",
      "    self.update({key: val})\n",
      "  File \"C:\\anaconda3\\envs\\jupyterenv\\lib\\site-packages\\wandb\\sdk\\wandb_summary.py\", line 74, in update\n",
      "    self._update(record)\n",
      "  File \"C:\\anaconda3\\envs\\jupyterenv\\lib\\site-packages\\wandb\\sdk\\wandb_summary.py\", line 128, in _update\n",
      "    self._update_callback(record)\n",
      "  File \"C:\\anaconda3\\envs\\jupyterenv\\lib\\site-packages\\wandb\\sdk\\wandb_run.py\", line 400, in wrapper_fn\n",
      "    return func(self, *args, **kwargs)\n",
      "  File \"C:\\anaconda3\\envs\\jupyterenv\\lib\\site-packages\\wandb\\sdk\\wandb_run.py\", line 1424, in _summary_update_callback\n",
      "    self._backend.interface.publish_summary(summary_record)\n",
      "  File \"C:\\anaconda3\\envs\\jupyterenv\\lib\\site-packages\\wandb\\sdk\\interface\\interface.py\", line 270, in publish_summary\n",
      "    pb_summary_record = self._make_summary(summary_record)\n",
      "  File \"C:\\anaconda3\\envs\\jupyterenv\\lib\\site-packages\\wandb\\sdk\\interface\\interface.py\", line 248, in _make_summary\n",
      "    json_value = self._summary_encode(item.value, path_from_root)\n",
      "  File \"C:\\anaconda3\\envs\\jupyterenv\\lib\\site-packages\\wandb\\sdk\\interface\\interface.py\", line 221, in _summary_encode\n",
      "    val_to_json(self._run, path_from_root, value, namespace=\"summary\")\n",
      "  File \"C:\\anaconda3\\envs\\jupyterenv\\lib\\site-packages\\wandb\\sdk\\data_types\\utils.py\", line 164, in val_to_json\n",
      "    val.bind_to_run(run, key, namespace)\n",
      "  File \"C:\\anaconda3\\envs\\jupyterenv\\lib\\site-packages\\wandb\\data_types.py\", line 1377, in bind_to_run\n",
      "    with codecs.open(tmp_path, \"w\", encoding=\"utf-8\") as fp:\n",
      "  File \"C:\\anaconda3\\envs\\jupyterenv\\lib\\codecs.py\", line 906, in open\n",
      "    file = builtins.open(filename, mode, buffering)\n",
      "FileNotFoundError: [Errno 2] No such file or directory: 'C:\\\\Users\\\\Addisu\\\\AppData\\\\Local\\\\Temp\\\\tmpbie7lvyxwandb-media\\\\u5nyysak.graph.json'\n"
     ]
    },
    {
     "data": {
      "text/html": [
       " View run <strong style=\"color:#cdcd00\">crimson-sweep-36</strong> at: <a href='https://wandb.ai/evapppp/sweeps-keras/runs/1qrpxjnt' target=\"_blank\">https://wandb.ai/evapppp/sweeps-keras/runs/1qrpxjnt</a><br/> View project at: <a href='https://wandb.ai/evapppp/sweeps-keras' target=\"_blank\">https://wandb.ai/evapppp/sweeps-keras</a><br/>Synced 5 W&B file(s), 0 media file(s), 0 artifact file(s) and 0 other file(s)"
      ],
      "text/plain": [
       "<IPython.core.display.HTML object>"
      ]
     },
     "metadata": {},
     "output_type": "display_data"
    },
    {
     "data": {
      "text/html": [
       "Find logs at: <code>.\\wandb\\run-20240621_154932-1qrpxjnt\\logs</code>"
      ],
      "text/plain": [
       "<IPython.core.display.HTML object>"
      ]
     },
     "metadata": {},
     "output_type": "display_data"
    },
    {
     "name": "stderr",
     "output_type": "stream",
     "text": [
      "Run 1qrpxjnt errored:\n",
      "Traceback (most recent call last):\n",
      "  File \"C:\\anaconda3\\envs\\jupyterenv\\lib\\site-packages\\wandb\\agents\\pyagent.py\", line 307, in _run_job\n",
      "    self._function()\n",
      "  File \"C:\\Users\\Addisu\\AppData\\Local\\Temp\\ipykernel_74596\\2644847777.py\", line 221, in sweep_train\n",
      "    train(model,\n",
      "  File \"C:\\Users\\Addisu\\AppData\\Local\\Temp\\ipykernel_74596\\2644847777.py\", line 151, in train\n",
      "    model.fit(X_train,\n",
      "  File \"C:\\anaconda3\\envs\\jupyterenv\\lib\\site-packages\\keras\\src\\utils\\traceback_utils.py\", line 70, in error_handler\n",
      "    raise e.with_traceback(filtered_tb) from None\n",
      "  File \"C:\\anaconda3\\envs\\jupyterenv\\lib\\site-packages\\wandb\\integration\\keras\\keras.py\", line 656, in on_train_batch_end\n",
      "    wandb.run.summary[\"graph\"] = wandb.Graph.from_keras(self.model)\n",
      "  File \"C:\\anaconda3\\envs\\jupyterenv\\lib\\site-packages\\wandb\\sdk\\wandb_summary.py\", line 52, in __setitem__\n",
      "    self.update({key: val})\n",
      "  File \"C:\\anaconda3\\envs\\jupyterenv\\lib\\site-packages\\wandb\\sdk\\wandb_summary.py\", line 74, in update\n",
      "    self._update(record)\n",
      "  File \"C:\\anaconda3\\envs\\jupyterenv\\lib\\site-packages\\wandb\\sdk\\wandb_summary.py\", line 128, in _update\n",
      "    self._update_callback(record)\n",
      "  File \"C:\\anaconda3\\envs\\jupyterenv\\lib\\site-packages\\wandb\\sdk\\wandb_run.py\", line 400, in wrapper_fn\n",
      "    return func(self, *args, **kwargs)\n",
      "  File \"C:\\anaconda3\\envs\\jupyterenv\\lib\\site-packages\\wandb\\sdk\\wandb_run.py\", line 1424, in _summary_update_callback\n",
      "    self._backend.interface.publish_summary(summary_record)\n",
      "  File \"C:\\anaconda3\\envs\\jupyterenv\\lib\\site-packages\\wandb\\sdk\\interface\\interface.py\", line 270, in publish_summary\n",
      "    pb_summary_record = self._make_summary(summary_record)\n",
      "  File \"C:\\anaconda3\\envs\\jupyterenv\\lib\\site-packages\\wandb\\sdk\\interface\\interface.py\", line 248, in _make_summary\n",
      "    json_value = self._summary_encode(item.value, path_from_root)\n",
      "  File \"C:\\anaconda3\\envs\\jupyterenv\\lib\\site-packages\\wandb\\sdk\\interface\\interface.py\", line 221, in _summary_encode\n",
      "    val_to_json(self._run, path_from_root, value, namespace=\"summary\")\n",
      "  File \"C:\\anaconda3\\envs\\jupyterenv\\lib\\site-packages\\wandb\\sdk\\data_types\\utils.py\", line 164, in val_to_json\n",
      "    val.bind_to_run(run, key, namespace)\n",
      "  File \"C:\\anaconda3\\envs\\jupyterenv\\lib\\site-packages\\wandb\\data_types.py\", line 1377, in bind_to_run\n",
      "    with codecs.open(tmp_path, \"w\", encoding=\"utf-8\") as fp:\n",
      "  File \"C:\\anaconda3\\envs\\jupyterenv\\lib\\codecs.py\", line 906, in open\n",
      "    file = builtins.open(filename, mode, buffering)\n",
      "FileNotFoundError: [Errno 2] No such file or directory: 'C:\\\\Users\\\\Addisu\\\\AppData\\\\Local\\\\Temp\\\\tmpbie7lvyxwandb-media\\\\u5nyysak.graph.json'\n",
      "\n",
      "\u001b[34m\u001b[1mwandb\u001b[0m: \u001b[32m\u001b[41mERROR\u001b[0m Run 1qrpxjnt errored:\n",
      "\u001b[34m\u001b[1mwandb\u001b[0m: \u001b[32m\u001b[41mERROR\u001b[0m Traceback (most recent call last):\n",
      "\u001b[34m\u001b[1mwandb\u001b[0m: \u001b[32m\u001b[41mERROR\u001b[0m   File \"C:\\anaconda3\\envs\\jupyterenv\\lib\\site-packages\\wandb\\agents\\pyagent.py\", line 307, in _run_job\n",
      "\u001b[34m\u001b[1mwandb\u001b[0m: \u001b[32m\u001b[41mERROR\u001b[0m     self._function()\n",
      "\u001b[34m\u001b[1mwandb\u001b[0m: \u001b[32m\u001b[41mERROR\u001b[0m   File \"C:\\Users\\Addisu\\AppData\\Local\\Temp\\ipykernel_74596\\2644847777.py\", line 221, in sweep_train\n",
      "\u001b[34m\u001b[1mwandb\u001b[0m: \u001b[32m\u001b[41mERROR\u001b[0m     train(model,\n",
      "\u001b[34m\u001b[1mwandb\u001b[0m: \u001b[32m\u001b[41mERROR\u001b[0m   File \"C:\\Users\\Addisu\\AppData\\Local\\Temp\\ipykernel_74596\\2644847777.py\", line 151, in train\n",
      "\u001b[34m\u001b[1mwandb\u001b[0m: \u001b[32m\u001b[41mERROR\u001b[0m     model.fit(X_train,\n",
      "\u001b[34m\u001b[1mwandb\u001b[0m: \u001b[32m\u001b[41mERROR\u001b[0m   File \"C:\\anaconda3\\envs\\jupyterenv\\lib\\site-packages\\keras\\src\\utils\\traceback_utils.py\", line 70, in error_handler\n",
      "\u001b[34m\u001b[1mwandb\u001b[0m: \u001b[32m\u001b[41mERROR\u001b[0m     raise e.with_traceback(filtered_tb) from None\n",
      "\u001b[34m\u001b[1mwandb\u001b[0m: \u001b[32m\u001b[41mERROR\u001b[0m   File \"C:\\anaconda3\\envs\\jupyterenv\\lib\\site-packages\\wandb\\integration\\keras\\keras.py\", line 656, in on_train_batch_end\n",
      "\u001b[34m\u001b[1mwandb\u001b[0m: \u001b[32m\u001b[41mERROR\u001b[0m     wandb.run.summary[\"graph\"] = wandb.Graph.from_keras(self.model)\n",
      "\u001b[34m\u001b[1mwandb\u001b[0m: \u001b[32m\u001b[41mERROR\u001b[0m   File \"C:\\anaconda3\\envs\\jupyterenv\\lib\\site-packages\\wandb\\sdk\\wandb_summary.py\", line 52, in __setitem__\n",
      "\u001b[34m\u001b[1mwandb\u001b[0m: \u001b[32m\u001b[41mERROR\u001b[0m     self.update({key: val})\n",
      "\u001b[34m\u001b[1mwandb\u001b[0m: \u001b[32m\u001b[41mERROR\u001b[0m   File \"C:\\anaconda3\\envs\\jupyterenv\\lib\\site-packages\\wandb\\sdk\\wandb_summary.py\", line 74, in update\n",
      "\u001b[34m\u001b[1mwandb\u001b[0m: \u001b[32m\u001b[41mERROR\u001b[0m     self._update(record)\n",
      "\u001b[34m\u001b[1mwandb\u001b[0m: \u001b[32m\u001b[41mERROR\u001b[0m   File \"C:\\anaconda3\\envs\\jupyterenv\\lib\\site-packages\\wandb\\sdk\\wandb_summary.py\", line 128, in _update\n",
      "\u001b[34m\u001b[1mwandb\u001b[0m: \u001b[32m\u001b[41mERROR\u001b[0m     self._update_callback(record)\n",
      "\u001b[34m\u001b[1mwandb\u001b[0m: \u001b[32m\u001b[41mERROR\u001b[0m   File \"C:\\anaconda3\\envs\\jupyterenv\\lib\\site-packages\\wandb\\sdk\\wandb_run.py\", line 400, in wrapper_fn\n",
      "\u001b[34m\u001b[1mwandb\u001b[0m: \u001b[32m\u001b[41mERROR\u001b[0m     return func(self, *args, **kwargs)\n",
      "\u001b[34m\u001b[1mwandb\u001b[0m: \u001b[32m\u001b[41mERROR\u001b[0m   File \"C:\\anaconda3\\envs\\jupyterenv\\lib\\site-packages\\wandb\\sdk\\wandb_run.py\", line 1424, in _summary_update_callback\n",
      "\u001b[34m\u001b[1mwandb\u001b[0m: \u001b[32m\u001b[41mERROR\u001b[0m     self._backend.interface.publish_summary(summary_record)\n",
      "\u001b[34m\u001b[1mwandb\u001b[0m: \u001b[32m\u001b[41mERROR\u001b[0m   File \"C:\\anaconda3\\envs\\jupyterenv\\lib\\site-packages\\wandb\\sdk\\interface\\interface.py\", line 270, in publish_summary\n",
      "\u001b[34m\u001b[1mwandb\u001b[0m: \u001b[32m\u001b[41mERROR\u001b[0m     pb_summary_record = self._make_summary(summary_record)\n",
      "\u001b[34m\u001b[1mwandb\u001b[0m: \u001b[32m\u001b[41mERROR\u001b[0m   File \"C:\\anaconda3\\envs\\jupyterenv\\lib\\site-packages\\wandb\\sdk\\interface\\interface.py\", line 248, in _make_summary\n",
      "\u001b[34m\u001b[1mwandb\u001b[0m: \u001b[32m\u001b[41mERROR\u001b[0m     json_value = self._summary_encode(item.value, path_from_root)\n",
      "\u001b[34m\u001b[1mwandb\u001b[0m: \u001b[32m\u001b[41mERROR\u001b[0m   File \"C:\\anaconda3\\envs\\jupyterenv\\lib\\site-packages\\wandb\\sdk\\interface\\interface.py\", line 221, in _summary_encode\n",
      "\u001b[34m\u001b[1mwandb\u001b[0m: \u001b[32m\u001b[41mERROR\u001b[0m     val_to_json(self._run, path_from_root, value, namespace=\"summary\")\n",
      "\u001b[34m\u001b[1mwandb\u001b[0m: \u001b[32m\u001b[41mERROR\u001b[0m   File \"C:\\anaconda3\\envs\\jupyterenv\\lib\\site-packages\\wandb\\sdk\\data_types\\utils.py\", line 164, in val_to_json\n",
      "\u001b[34m\u001b[1mwandb\u001b[0m: \u001b[32m\u001b[41mERROR\u001b[0m     val.bind_to_run(run, key, namespace)\n",
      "\u001b[34m\u001b[1mwandb\u001b[0m: \u001b[32m\u001b[41mERROR\u001b[0m   File \"C:\\anaconda3\\envs\\jupyterenv\\lib\\site-packages\\wandb\\data_types.py\", line 1377, in bind_to_run\n",
      "\u001b[34m\u001b[1mwandb\u001b[0m: \u001b[32m\u001b[41mERROR\u001b[0m     with codecs.open(tmp_path, \"w\", encoding=\"utf-8\") as fp:\n",
      "\u001b[34m\u001b[1mwandb\u001b[0m: \u001b[32m\u001b[41mERROR\u001b[0m   File \"C:\\anaconda3\\envs\\jupyterenv\\lib\\codecs.py\", line 906, in open\n",
      "\u001b[34m\u001b[1mwandb\u001b[0m: \u001b[32m\u001b[41mERROR\u001b[0m     file = builtins.open(filename, mode, buffering)\n",
      "\u001b[34m\u001b[1mwandb\u001b[0m: \u001b[32m\u001b[41mERROR\u001b[0m FileNotFoundError: [Errno 2] No such file or directory: 'C:\\\\Users\\\\Addisu\\\\AppData\\\\Local\\\\Temp\\\\tmpbie7lvyxwandb-media\\\\u5nyysak.graph.json'\n",
      "\u001b[34m\u001b[1mwandb\u001b[0m: \u001b[32m\u001b[41mERROR\u001b[0m \n",
      "\u001b[34m\u001b[1mwandb\u001b[0m: Agent Starting Run: d628oka5 with config:\n",
      "\u001b[34m\u001b[1mwandb\u001b[0m: \tbatch_size: 72\n",
      "\u001b[34m\u001b[1mwandb\u001b[0m: \tdense_activation: relu\n",
      "\u001b[34m\u001b[1mwandb\u001b[0m: \tdropout: 0.1\n",
      "\u001b[34m\u001b[1mwandb\u001b[0m: \tepochs: 1\n",
      "\u001b[34m\u001b[1mwandb\u001b[0m: \tlearning_rate: 0.0016764900364386892\n",
      "\u001b[34m\u001b[1mwandb\u001b[0m: \toptimizer: adam\n"
     ]
    },
    {
     "data": {
      "text/html": [
       "wandb version 0.17.2 is available!  To upgrade, please run:\n",
       " $ pip install wandb --upgrade"
      ],
      "text/plain": [
       "<IPython.core.display.HTML object>"
      ]
     },
     "metadata": {},
     "output_type": "display_data"
    },
    {
     "data": {
      "text/html": [
       "Tracking run with wandb version 0.17.0"
      ],
      "text/plain": [
       "<IPython.core.display.HTML object>"
      ]
     },
     "metadata": {},
     "output_type": "display_data"
    },
    {
     "data": {
      "text/html": [
       "Run data is saved locally in <code>C:\\Users\\Addisu\\Desktop\\kidi files\\Python workshop with ellen\\wandb\\run-20240621_155000-d628oka5</code>"
      ],
      "text/plain": [
       "<IPython.core.display.HTML object>"
      ]
     },
     "metadata": {},
     "output_type": "display_data"
    },
    {
     "data": {
      "text/html": [
       "Syncing run <strong><a href='https://wandb.ai/evapppp/sweeps-keras/runs/d628oka5' target=\"_blank\">snowy-sweep-37</a></strong> to <a href='https://wandb.ai/evapppp/sweeps-keras' target=\"_blank\">Weights & Biases</a> (<a href='https://wandb.me/run' target=\"_blank\">docs</a>)<br/>Sweep page: <a href='https://wandb.ai/evapppp/sweeps-keras/sweeps/qu378scj' target=\"_blank\">https://wandb.ai/evapppp/sweeps-keras/sweeps/qu378scj</a>"
      ],
      "text/plain": [
       "<IPython.core.display.HTML object>"
      ]
     },
     "metadata": {},
     "output_type": "display_data"
    },
    {
     "data": {
      "text/html": [
       " View project at <a href='https://wandb.ai/evapppp/sweeps-keras' target=\"_blank\">https://wandb.ai/evapppp/sweeps-keras</a>"
      ],
      "text/plain": [
       "<IPython.core.display.HTML object>"
      ]
     },
     "metadata": {},
     "output_type": "display_data"
    },
    {
     "data": {
      "text/html": [
       " View sweep at <a href='https://wandb.ai/evapppp/sweeps-keras/sweeps/qu378scj' target=\"_blank\">https://wandb.ai/evapppp/sweeps-keras/sweeps/qu378scj</a>"
      ],
      "text/plain": [
       "<IPython.core.display.HTML object>"
      ]
     },
     "metadata": {},
     "output_type": "display_data"
    },
    {
     "data": {
      "text/html": [
       " View run at <a href='https://wandb.ai/evapppp/sweeps-keras/runs/d628oka5' target=\"_blank\">https://wandb.ai/evapppp/sweeps-keras/runs/d628oka5</a>"
      ],
      "text/plain": [
       "<IPython.core.display.HTML object>"
      ]
     },
     "metadata": {},
     "output_type": "display_data"
    },
    {
     "name": "stderr",
     "output_type": "stream",
     "text": [
      "Traceback (most recent call last):\n",
      "  File \"C:\\Users\\Addisu\\AppData\\Local\\Temp\\ipykernel_74596\\2644847777.py\", line 221, in sweep_train\n",
      "    train(model,\n",
      "  File \"C:\\Users\\Addisu\\AppData\\Local\\Temp\\ipykernel_74596\\2644847777.py\", line 151, in train\n",
      "    model.fit(X_train,\n",
      "  File \"C:\\anaconda3\\envs\\jupyterenv\\lib\\site-packages\\keras\\src\\utils\\traceback_utils.py\", line 70, in error_handler\n",
      "    raise e.with_traceback(filtered_tb) from None\n",
      "  File \"C:\\anaconda3\\envs\\jupyterenv\\lib\\site-packages\\wandb\\integration\\keras\\keras.py\", line 656, in on_train_batch_end\n",
      "    wandb.run.summary[\"graph\"] = wandb.Graph.from_keras(self.model)\n",
      "  File \"C:\\anaconda3\\envs\\jupyterenv\\lib\\site-packages\\wandb\\sdk\\wandb_summary.py\", line 52, in __setitem__\n",
      "    self.update({key: val})\n",
      "  File \"C:\\anaconda3\\envs\\jupyterenv\\lib\\site-packages\\wandb\\sdk\\wandb_summary.py\", line 74, in update\n",
      "    self._update(record)\n",
      "  File \"C:\\anaconda3\\envs\\jupyterenv\\lib\\site-packages\\wandb\\sdk\\wandb_summary.py\", line 128, in _update\n",
      "    self._update_callback(record)\n",
      "  File \"C:\\anaconda3\\envs\\jupyterenv\\lib\\site-packages\\wandb\\sdk\\wandb_run.py\", line 400, in wrapper_fn\n",
      "    return func(self, *args, **kwargs)\n",
      "  File \"C:\\anaconda3\\envs\\jupyterenv\\lib\\site-packages\\wandb\\sdk\\wandb_run.py\", line 1424, in _summary_update_callback\n",
      "    self._backend.interface.publish_summary(summary_record)\n",
      "  File \"C:\\anaconda3\\envs\\jupyterenv\\lib\\site-packages\\wandb\\sdk\\interface\\interface.py\", line 270, in publish_summary\n",
      "    pb_summary_record = self._make_summary(summary_record)\n",
      "  File \"C:\\anaconda3\\envs\\jupyterenv\\lib\\site-packages\\wandb\\sdk\\interface\\interface.py\", line 248, in _make_summary\n",
      "    json_value = self._summary_encode(item.value, path_from_root)\n",
      "  File \"C:\\anaconda3\\envs\\jupyterenv\\lib\\site-packages\\wandb\\sdk\\interface\\interface.py\", line 221, in _summary_encode\n",
      "    val_to_json(self._run, path_from_root, value, namespace=\"summary\")\n",
      "  File \"C:\\anaconda3\\envs\\jupyterenv\\lib\\site-packages\\wandb\\sdk\\data_types\\utils.py\", line 164, in val_to_json\n",
      "    val.bind_to_run(run, key, namespace)\n",
      "  File \"C:\\anaconda3\\envs\\jupyterenv\\lib\\site-packages\\wandb\\data_types.py\", line 1377, in bind_to_run\n",
      "    with codecs.open(tmp_path, \"w\", encoding=\"utf-8\") as fp:\n",
      "  File \"C:\\anaconda3\\envs\\jupyterenv\\lib\\codecs.py\", line 906, in open\n",
      "    file = builtins.open(filename, mode, buffering)\n",
      "FileNotFoundError: [Errno 2] No such file or directory: 'C:\\\\Users\\\\Addisu\\\\AppData\\\\Local\\\\Temp\\\\tmpbie7lvyxwandb-media\\\\5sfpa7ub.graph.json'\n"
     ]
    },
    {
     "data": {
      "text/html": [
       " View run <strong style=\"color:#cdcd00\">snowy-sweep-37</strong> at: <a href='https://wandb.ai/evapppp/sweeps-keras/runs/d628oka5' target=\"_blank\">https://wandb.ai/evapppp/sweeps-keras/runs/d628oka5</a><br/> View project at: <a href='https://wandb.ai/evapppp/sweeps-keras' target=\"_blank\">https://wandb.ai/evapppp/sweeps-keras</a><br/>Synced 5 W&B file(s), 0 media file(s), 0 artifact file(s) and 0 other file(s)"
      ],
      "text/plain": [
       "<IPython.core.display.HTML object>"
      ]
     },
     "metadata": {},
     "output_type": "display_data"
    },
    {
     "data": {
      "text/html": [
       "Find logs at: <code>.\\wandb\\run-20240621_155000-d628oka5\\logs</code>"
      ],
      "text/plain": [
       "<IPython.core.display.HTML object>"
      ]
     },
     "metadata": {},
     "output_type": "display_data"
    },
    {
     "name": "stderr",
     "output_type": "stream",
     "text": [
      "Run d628oka5 errored:\n",
      "Traceback (most recent call last):\n",
      "  File \"C:\\anaconda3\\envs\\jupyterenv\\lib\\site-packages\\wandb\\agents\\pyagent.py\", line 307, in _run_job\n",
      "    self._function()\n",
      "  File \"C:\\Users\\Addisu\\AppData\\Local\\Temp\\ipykernel_74596\\2644847777.py\", line 221, in sweep_train\n",
      "    train(model,\n",
      "  File \"C:\\Users\\Addisu\\AppData\\Local\\Temp\\ipykernel_74596\\2644847777.py\", line 151, in train\n",
      "    model.fit(X_train,\n",
      "  File \"C:\\anaconda3\\envs\\jupyterenv\\lib\\site-packages\\keras\\src\\utils\\traceback_utils.py\", line 70, in error_handler\n",
      "    raise e.with_traceback(filtered_tb) from None\n",
      "  File \"C:\\anaconda3\\envs\\jupyterenv\\lib\\site-packages\\wandb\\integration\\keras\\keras.py\", line 656, in on_train_batch_end\n",
      "    wandb.run.summary[\"graph\"] = wandb.Graph.from_keras(self.model)\n",
      "  File \"C:\\anaconda3\\envs\\jupyterenv\\lib\\site-packages\\wandb\\sdk\\wandb_summary.py\", line 52, in __setitem__\n",
      "    self.update({key: val})\n",
      "  File \"C:\\anaconda3\\envs\\jupyterenv\\lib\\site-packages\\wandb\\sdk\\wandb_summary.py\", line 74, in update\n",
      "    self._update(record)\n",
      "  File \"C:\\anaconda3\\envs\\jupyterenv\\lib\\site-packages\\wandb\\sdk\\wandb_summary.py\", line 128, in _update\n",
      "    self._update_callback(record)\n",
      "  File \"C:\\anaconda3\\envs\\jupyterenv\\lib\\site-packages\\wandb\\sdk\\wandb_run.py\", line 400, in wrapper_fn\n",
      "    return func(self, *args, **kwargs)\n",
      "  File \"C:\\anaconda3\\envs\\jupyterenv\\lib\\site-packages\\wandb\\sdk\\wandb_run.py\", line 1424, in _summary_update_callback\n",
      "    self._backend.interface.publish_summary(summary_record)\n",
      "  File \"C:\\anaconda3\\envs\\jupyterenv\\lib\\site-packages\\wandb\\sdk\\interface\\interface.py\", line 270, in publish_summary\n",
      "    pb_summary_record = self._make_summary(summary_record)\n",
      "  File \"C:\\anaconda3\\envs\\jupyterenv\\lib\\site-packages\\wandb\\sdk\\interface\\interface.py\", line 248, in _make_summary\n",
      "    json_value = self._summary_encode(item.value, path_from_root)\n",
      "  File \"C:\\anaconda3\\envs\\jupyterenv\\lib\\site-packages\\wandb\\sdk\\interface\\interface.py\", line 221, in _summary_encode\n",
      "    val_to_json(self._run, path_from_root, value, namespace=\"summary\")\n",
      "  File \"C:\\anaconda3\\envs\\jupyterenv\\lib\\site-packages\\wandb\\sdk\\data_types\\utils.py\", line 164, in val_to_json\n",
      "    val.bind_to_run(run, key, namespace)\n",
      "  File \"C:\\anaconda3\\envs\\jupyterenv\\lib\\site-packages\\wandb\\data_types.py\", line 1377, in bind_to_run\n",
      "    with codecs.open(tmp_path, \"w\", encoding=\"utf-8\") as fp:\n",
      "  File \"C:\\anaconda3\\envs\\jupyterenv\\lib\\codecs.py\", line 906, in open\n",
      "    file = builtins.open(filename, mode, buffering)\n",
      "FileNotFoundError: [Errno 2] No such file or directory: 'C:\\\\Users\\\\Addisu\\\\AppData\\\\Local\\\\Temp\\\\tmpbie7lvyxwandb-media\\\\5sfpa7ub.graph.json'\n",
      "\n",
      "\u001b[34m\u001b[1mwandb\u001b[0m: \u001b[32m\u001b[41mERROR\u001b[0m Run d628oka5 errored:\n",
      "\u001b[34m\u001b[1mwandb\u001b[0m: \u001b[32m\u001b[41mERROR\u001b[0m Traceback (most recent call last):\n",
      "\u001b[34m\u001b[1mwandb\u001b[0m: \u001b[32m\u001b[41mERROR\u001b[0m   File \"C:\\anaconda3\\envs\\jupyterenv\\lib\\site-packages\\wandb\\agents\\pyagent.py\", line 307, in _run_job\n",
      "\u001b[34m\u001b[1mwandb\u001b[0m: \u001b[32m\u001b[41mERROR\u001b[0m     self._function()\n",
      "\u001b[34m\u001b[1mwandb\u001b[0m: \u001b[32m\u001b[41mERROR\u001b[0m   File \"C:\\Users\\Addisu\\AppData\\Local\\Temp\\ipykernel_74596\\2644847777.py\", line 221, in sweep_train\n",
      "\u001b[34m\u001b[1mwandb\u001b[0m: \u001b[32m\u001b[41mERROR\u001b[0m     train(model,\n",
      "\u001b[34m\u001b[1mwandb\u001b[0m: \u001b[32m\u001b[41mERROR\u001b[0m   File \"C:\\Users\\Addisu\\AppData\\Local\\Temp\\ipykernel_74596\\2644847777.py\", line 151, in train\n",
      "\u001b[34m\u001b[1mwandb\u001b[0m: \u001b[32m\u001b[41mERROR\u001b[0m     model.fit(X_train,\n",
      "\u001b[34m\u001b[1mwandb\u001b[0m: \u001b[32m\u001b[41mERROR\u001b[0m   File \"C:\\anaconda3\\envs\\jupyterenv\\lib\\site-packages\\keras\\src\\utils\\traceback_utils.py\", line 70, in error_handler\n",
      "\u001b[34m\u001b[1mwandb\u001b[0m: \u001b[32m\u001b[41mERROR\u001b[0m     raise e.with_traceback(filtered_tb) from None\n",
      "\u001b[34m\u001b[1mwandb\u001b[0m: \u001b[32m\u001b[41mERROR\u001b[0m   File \"C:\\anaconda3\\envs\\jupyterenv\\lib\\site-packages\\wandb\\integration\\keras\\keras.py\", line 656, in on_train_batch_end\n",
      "\u001b[34m\u001b[1mwandb\u001b[0m: \u001b[32m\u001b[41mERROR\u001b[0m     wandb.run.summary[\"graph\"] = wandb.Graph.from_keras(self.model)\n",
      "\u001b[34m\u001b[1mwandb\u001b[0m: \u001b[32m\u001b[41mERROR\u001b[0m   File \"C:\\anaconda3\\envs\\jupyterenv\\lib\\site-packages\\wandb\\sdk\\wandb_summary.py\", line 52, in __setitem__\n",
      "\u001b[34m\u001b[1mwandb\u001b[0m: \u001b[32m\u001b[41mERROR\u001b[0m     self.update({key: val})\n",
      "\u001b[34m\u001b[1mwandb\u001b[0m: \u001b[32m\u001b[41mERROR\u001b[0m   File \"C:\\anaconda3\\envs\\jupyterenv\\lib\\site-packages\\wandb\\sdk\\wandb_summary.py\", line 74, in update\n",
      "\u001b[34m\u001b[1mwandb\u001b[0m: \u001b[32m\u001b[41mERROR\u001b[0m     self._update(record)\n",
      "\u001b[34m\u001b[1mwandb\u001b[0m: \u001b[32m\u001b[41mERROR\u001b[0m   File \"C:\\anaconda3\\envs\\jupyterenv\\lib\\site-packages\\wandb\\sdk\\wandb_summary.py\", line 128, in _update\n",
      "\u001b[34m\u001b[1mwandb\u001b[0m: \u001b[32m\u001b[41mERROR\u001b[0m     self._update_callback(record)\n",
      "\u001b[34m\u001b[1mwandb\u001b[0m: \u001b[32m\u001b[41mERROR\u001b[0m   File \"C:\\anaconda3\\envs\\jupyterenv\\lib\\site-packages\\wandb\\sdk\\wandb_run.py\", line 400, in wrapper_fn\n",
      "\u001b[34m\u001b[1mwandb\u001b[0m: \u001b[32m\u001b[41mERROR\u001b[0m     return func(self, *args, **kwargs)\n",
      "\u001b[34m\u001b[1mwandb\u001b[0m: \u001b[32m\u001b[41mERROR\u001b[0m   File \"C:\\anaconda3\\envs\\jupyterenv\\lib\\site-packages\\wandb\\sdk\\wandb_run.py\", line 1424, in _summary_update_callback\n",
      "\u001b[34m\u001b[1mwandb\u001b[0m: \u001b[32m\u001b[41mERROR\u001b[0m     self._backend.interface.publish_summary(summary_record)\n",
      "\u001b[34m\u001b[1mwandb\u001b[0m: \u001b[32m\u001b[41mERROR\u001b[0m   File \"C:\\anaconda3\\envs\\jupyterenv\\lib\\site-packages\\wandb\\sdk\\interface\\interface.py\", line 270, in publish_summary\n",
      "\u001b[34m\u001b[1mwandb\u001b[0m: \u001b[32m\u001b[41mERROR\u001b[0m     pb_summary_record = self._make_summary(summary_record)\n",
      "\u001b[34m\u001b[1mwandb\u001b[0m: \u001b[32m\u001b[41mERROR\u001b[0m   File \"C:\\anaconda3\\envs\\jupyterenv\\lib\\site-packages\\wandb\\sdk\\interface\\interface.py\", line 248, in _make_summary\n",
      "\u001b[34m\u001b[1mwandb\u001b[0m: \u001b[32m\u001b[41mERROR\u001b[0m     json_value = self._summary_encode(item.value, path_from_root)\n",
      "\u001b[34m\u001b[1mwandb\u001b[0m: \u001b[32m\u001b[41mERROR\u001b[0m   File \"C:\\anaconda3\\envs\\jupyterenv\\lib\\site-packages\\wandb\\sdk\\interface\\interface.py\", line 221, in _summary_encode\n",
      "\u001b[34m\u001b[1mwandb\u001b[0m: \u001b[32m\u001b[41mERROR\u001b[0m     val_to_json(self._run, path_from_root, value, namespace=\"summary\")\n",
      "\u001b[34m\u001b[1mwandb\u001b[0m: \u001b[32m\u001b[41mERROR\u001b[0m   File \"C:\\anaconda3\\envs\\jupyterenv\\lib\\site-packages\\wandb\\sdk\\data_types\\utils.py\", line 164, in val_to_json\n",
      "\u001b[34m\u001b[1mwandb\u001b[0m: \u001b[32m\u001b[41mERROR\u001b[0m     val.bind_to_run(run, key, namespace)\n",
      "\u001b[34m\u001b[1mwandb\u001b[0m: \u001b[32m\u001b[41mERROR\u001b[0m   File \"C:\\anaconda3\\envs\\jupyterenv\\lib\\site-packages\\wandb\\data_types.py\", line 1377, in bind_to_run\n",
      "\u001b[34m\u001b[1mwandb\u001b[0m: \u001b[32m\u001b[41mERROR\u001b[0m     with codecs.open(tmp_path, \"w\", encoding=\"utf-8\") as fp:\n",
      "\u001b[34m\u001b[1mwandb\u001b[0m: \u001b[32m\u001b[41mERROR\u001b[0m   File \"C:\\anaconda3\\envs\\jupyterenv\\lib\\codecs.py\", line 906, in open\n",
      "\u001b[34m\u001b[1mwandb\u001b[0m: \u001b[32m\u001b[41mERROR\u001b[0m     file = builtins.open(filename, mode, buffering)\n",
      "\u001b[34m\u001b[1mwandb\u001b[0m: \u001b[32m\u001b[41mERROR\u001b[0m FileNotFoundError: [Errno 2] No such file or directory: 'C:\\\\Users\\\\Addisu\\\\AppData\\\\Local\\\\Temp\\\\tmpbie7lvyxwandb-media\\\\5sfpa7ub.graph.json'\n",
      "\u001b[34m\u001b[1mwandb\u001b[0m: \u001b[32m\u001b[41mERROR\u001b[0m \n",
      "\u001b[34m\u001b[1mwandb\u001b[0m: Agent Starting Run: xaycugho with config:\n",
      "\u001b[34m\u001b[1mwandb\u001b[0m: \tbatch_size: 112\n",
      "\u001b[34m\u001b[1mwandb\u001b[0m: \tdense_activation: relu\n",
      "\u001b[34m\u001b[1mwandb\u001b[0m: \tdropout: 0.3\n",
      "\u001b[34m\u001b[1mwandb\u001b[0m: \tepochs: 1\n",
      "\u001b[34m\u001b[1mwandb\u001b[0m: \tlearning_rate: 0.0049466811788270995\n",
      "\u001b[34m\u001b[1mwandb\u001b[0m: \toptimizer: sgd\n"
     ]
    },
    {
     "data": {
      "text/html": [
       "wandb version 0.17.2 is available!  To upgrade, please run:\n",
       " $ pip install wandb --upgrade"
      ],
      "text/plain": [
       "<IPython.core.display.HTML object>"
      ]
     },
     "metadata": {},
     "output_type": "display_data"
    },
    {
     "data": {
      "text/html": [
       "Tracking run with wandb version 0.17.0"
      ],
      "text/plain": [
       "<IPython.core.display.HTML object>"
      ]
     },
     "metadata": {},
     "output_type": "display_data"
    },
    {
     "data": {
      "text/html": [
       "Run data is saved locally in <code>C:\\Users\\Addisu\\Desktop\\kidi files\\Python workshop with ellen\\wandb\\run-20240621_155028-xaycugho</code>"
      ],
      "text/plain": [
       "<IPython.core.display.HTML object>"
      ]
     },
     "metadata": {},
     "output_type": "display_data"
    },
    {
     "data": {
      "text/html": [
       "Syncing run <strong><a href='https://wandb.ai/evapppp/sweeps-keras/runs/xaycugho' target=\"_blank\">daily-sweep-38</a></strong> to <a href='https://wandb.ai/evapppp/sweeps-keras' target=\"_blank\">Weights & Biases</a> (<a href='https://wandb.me/run' target=\"_blank\">docs</a>)<br/>Sweep page: <a href='https://wandb.ai/evapppp/sweeps-keras/sweeps/qu378scj' target=\"_blank\">https://wandb.ai/evapppp/sweeps-keras/sweeps/qu378scj</a>"
      ],
      "text/plain": [
       "<IPython.core.display.HTML object>"
      ]
     },
     "metadata": {},
     "output_type": "display_data"
    },
    {
     "data": {
      "text/html": [
       " View project at <a href='https://wandb.ai/evapppp/sweeps-keras' target=\"_blank\">https://wandb.ai/evapppp/sweeps-keras</a>"
      ],
      "text/plain": [
       "<IPython.core.display.HTML object>"
      ]
     },
     "metadata": {},
     "output_type": "display_data"
    },
    {
     "data": {
      "text/html": [
       " View sweep at <a href='https://wandb.ai/evapppp/sweeps-keras/sweeps/qu378scj' target=\"_blank\">https://wandb.ai/evapppp/sweeps-keras/sweeps/qu378scj</a>"
      ],
      "text/plain": [
       "<IPython.core.display.HTML object>"
      ]
     },
     "metadata": {},
     "output_type": "display_data"
    },
    {
     "data": {
      "text/html": [
       " View run at <a href='https://wandb.ai/evapppp/sweeps-keras/runs/xaycugho' target=\"_blank\">https://wandb.ai/evapppp/sweeps-keras/runs/xaycugho</a>"
      ],
      "text/plain": [
       "<IPython.core.display.HTML object>"
      ]
     },
     "metadata": {},
     "output_type": "display_data"
    },
    {
     "name": "stderr",
     "output_type": "stream",
     "text": [
      "Traceback (most recent call last):\n",
      "  File \"C:\\Users\\Addisu\\AppData\\Local\\Temp\\ipykernel_74596\\2644847777.py\", line 221, in sweep_train\n",
      "    train(model,\n",
      "  File \"C:\\Users\\Addisu\\AppData\\Local\\Temp\\ipykernel_74596\\2644847777.py\", line 151, in train\n",
      "    model.fit(X_train,\n",
      "  File \"C:\\anaconda3\\envs\\jupyterenv\\lib\\site-packages\\keras\\src\\utils\\traceback_utils.py\", line 70, in error_handler\n",
      "    raise e.with_traceback(filtered_tb) from None\n",
      "  File \"C:\\anaconda3\\envs\\jupyterenv\\lib\\site-packages\\wandb\\integration\\keras\\keras.py\", line 656, in on_train_batch_end\n",
      "    wandb.run.summary[\"graph\"] = wandb.Graph.from_keras(self.model)\n",
      "  File \"C:\\anaconda3\\envs\\jupyterenv\\lib\\site-packages\\wandb\\sdk\\wandb_summary.py\", line 52, in __setitem__\n",
      "    self.update({key: val})\n",
      "  File \"C:\\anaconda3\\envs\\jupyterenv\\lib\\site-packages\\wandb\\sdk\\wandb_summary.py\", line 74, in update\n",
      "    self._update(record)\n",
      "  File \"C:\\anaconda3\\envs\\jupyterenv\\lib\\site-packages\\wandb\\sdk\\wandb_summary.py\", line 128, in _update\n",
      "    self._update_callback(record)\n",
      "  File \"C:\\anaconda3\\envs\\jupyterenv\\lib\\site-packages\\wandb\\sdk\\wandb_run.py\", line 400, in wrapper_fn\n",
      "    return func(self, *args, **kwargs)\n",
      "  File \"C:\\anaconda3\\envs\\jupyterenv\\lib\\site-packages\\wandb\\sdk\\wandb_run.py\", line 1424, in _summary_update_callback\n",
      "    self._backend.interface.publish_summary(summary_record)\n",
      "  File \"C:\\anaconda3\\envs\\jupyterenv\\lib\\site-packages\\wandb\\sdk\\interface\\interface.py\", line 270, in publish_summary\n",
      "    pb_summary_record = self._make_summary(summary_record)\n",
      "  File \"C:\\anaconda3\\envs\\jupyterenv\\lib\\site-packages\\wandb\\sdk\\interface\\interface.py\", line 248, in _make_summary\n",
      "    json_value = self._summary_encode(item.value, path_from_root)\n",
      "  File \"C:\\anaconda3\\envs\\jupyterenv\\lib\\site-packages\\wandb\\sdk\\interface\\interface.py\", line 221, in _summary_encode\n",
      "    val_to_json(self._run, path_from_root, value, namespace=\"summary\")\n",
      "  File \"C:\\anaconda3\\envs\\jupyterenv\\lib\\site-packages\\wandb\\sdk\\data_types\\utils.py\", line 164, in val_to_json\n",
      "    val.bind_to_run(run, key, namespace)\n",
      "  File \"C:\\anaconda3\\envs\\jupyterenv\\lib\\site-packages\\wandb\\data_types.py\", line 1377, in bind_to_run\n",
      "    with codecs.open(tmp_path, \"w\", encoding=\"utf-8\") as fp:\n",
      "  File \"C:\\anaconda3\\envs\\jupyterenv\\lib\\codecs.py\", line 906, in open\n",
      "    file = builtins.open(filename, mode, buffering)\n",
      "FileNotFoundError: [Errno 2] No such file or directory: 'C:\\\\Users\\\\Addisu\\\\AppData\\\\Local\\\\Temp\\\\tmpbie7lvyxwandb-media\\\\6nnhpo1h.graph.json'\n"
     ]
    },
    {
     "data": {
      "text/html": [
       " View run <strong style=\"color:#cdcd00\">daily-sweep-38</strong> at: <a href='https://wandb.ai/evapppp/sweeps-keras/runs/xaycugho' target=\"_blank\">https://wandb.ai/evapppp/sweeps-keras/runs/xaycugho</a><br/> View project at: <a href='https://wandb.ai/evapppp/sweeps-keras' target=\"_blank\">https://wandb.ai/evapppp/sweeps-keras</a><br/>Synced 5 W&B file(s), 0 media file(s), 0 artifact file(s) and 0 other file(s)"
      ],
      "text/plain": [
       "<IPython.core.display.HTML object>"
      ]
     },
     "metadata": {},
     "output_type": "display_data"
    },
    {
     "data": {
      "text/html": [
       "Find logs at: <code>.\\wandb\\run-20240621_155028-xaycugho\\logs</code>"
      ],
      "text/plain": [
       "<IPython.core.display.HTML object>"
      ]
     },
     "metadata": {},
     "output_type": "display_data"
    },
    {
     "name": "stderr",
     "output_type": "stream",
     "text": [
      "Run xaycugho errored:\n",
      "Traceback (most recent call last):\n",
      "  File \"C:\\anaconda3\\envs\\jupyterenv\\lib\\site-packages\\wandb\\agents\\pyagent.py\", line 307, in _run_job\n",
      "    self._function()\n",
      "  File \"C:\\Users\\Addisu\\AppData\\Local\\Temp\\ipykernel_74596\\2644847777.py\", line 221, in sweep_train\n",
      "    train(model,\n",
      "  File \"C:\\Users\\Addisu\\AppData\\Local\\Temp\\ipykernel_74596\\2644847777.py\", line 151, in train\n",
      "    model.fit(X_train,\n",
      "  File \"C:\\anaconda3\\envs\\jupyterenv\\lib\\site-packages\\keras\\src\\utils\\traceback_utils.py\", line 70, in error_handler\n",
      "    raise e.with_traceback(filtered_tb) from None\n",
      "  File \"C:\\anaconda3\\envs\\jupyterenv\\lib\\site-packages\\wandb\\integration\\keras\\keras.py\", line 656, in on_train_batch_end\n",
      "    wandb.run.summary[\"graph\"] = wandb.Graph.from_keras(self.model)\n",
      "  File \"C:\\anaconda3\\envs\\jupyterenv\\lib\\site-packages\\wandb\\sdk\\wandb_summary.py\", line 52, in __setitem__\n",
      "    self.update({key: val})\n",
      "  File \"C:\\anaconda3\\envs\\jupyterenv\\lib\\site-packages\\wandb\\sdk\\wandb_summary.py\", line 74, in update\n",
      "    self._update(record)\n",
      "  File \"C:\\anaconda3\\envs\\jupyterenv\\lib\\site-packages\\wandb\\sdk\\wandb_summary.py\", line 128, in _update\n",
      "    self._update_callback(record)\n",
      "  File \"C:\\anaconda3\\envs\\jupyterenv\\lib\\site-packages\\wandb\\sdk\\wandb_run.py\", line 400, in wrapper_fn\n",
      "    return func(self, *args, **kwargs)\n",
      "  File \"C:\\anaconda3\\envs\\jupyterenv\\lib\\site-packages\\wandb\\sdk\\wandb_run.py\", line 1424, in _summary_update_callback\n",
      "    self._backend.interface.publish_summary(summary_record)\n",
      "  File \"C:\\anaconda3\\envs\\jupyterenv\\lib\\site-packages\\wandb\\sdk\\interface\\interface.py\", line 270, in publish_summary\n",
      "    pb_summary_record = self._make_summary(summary_record)\n",
      "  File \"C:\\anaconda3\\envs\\jupyterenv\\lib\\site-packages\\wandb\\sdk\\interface\\interface.py\", line 248, in _make_summary\n",
      "    json_value = self._summary_encode(item.value, path_from_root)\n",
      "  File \"C:\\anaconda3\\envs\\jupyterenv\\lib\\site-packages\\wandb\\sdk\\interface\\interface.py\", line 221, in _summary_encode\n",
      "    val_to_json(self._run, path_from_root, value, namespace=\"summary\")\n",
      "  File \"C:\\anaconda3\\envs\\jupyterenv\\lib\\site-packages\\wandb\\sdk\\data_types\\utils.py\", line 164, in val_to_json\n",
      "    val.bind_to_run(run, key, namespace)\n",
      "  File \"C:\\anaconda3\\envs\\jupyterenv\\lib\\site-packages\\wandb\\data_types.py\", line 1377, in bind_to_run\n",
      "    with codecs.open(tmp_path, \"w\", encoding=\"utf-8\") as fp:\n",
      "  File \"C:\\anaconda3\\envs\\jupyterenv\\lib\\codecs.py\", line 906, in open\n",
      "    file = builtins.open(filename, mode, buffering)\n",
      "FileNotFoundError: [Errno 2] No such file or directory: 'C:\\\\Users\\\\Addisu\\\\AppData\\\\Local\\\\Temp\\\\tmpbie7lvyxwandb-media\\\\6nnhpo1h.graph.json'\n",
      "\n",
      "\u001b[34m\u001b[1mwandb\u001b[0m: \u001b[32m\u001b[41mERROR\u001b[0m Run xaycugho errored:\n",
      "\u001b[34m\u001b[1mwandb\u001b[0m: \u001b[32m\u001b[41mERROR\u001b[0m Traceback (most recent call last):\n",
      "\u001b[34m\u001b[1mwandb\u001b[0m: \u001b[32m\u001b[41mERROR\u001b[0m   File \"C:\\anaconda3\\envs\\jupyterenv\\lib\\site-packages\\wandb\\agents\\pyagent.py\", line 307, in _run_job\n",
      "\u001b[34m\u001b[1mwandb\u001b[0m: \u001b[32m\u001b[41mERROR\u001b[0m     self._function()\n",
      "\u001b[34m\u001b[1mwandb\u001b[0m: \u001b[32m\u001b[41mERROR\u001b[0m   File \"C:\\Users\\Addisu\\AppData\\Local\\Temp\\ipykernel_74596\\2644847777.py\", line 221, in sweep_train\n",
      "\u001b[34m\u001b[1mwandb\u001b[0m: \u001b[32m\u001b[41mERROR\u001b[0m     train(model,\n",
      "\u001b[34m\u001b[1mwandb\u001b[0m: \u001b[32m\u001b[41mERROR\u001b[0m   File \"C:\\Users\\Addisu\\AppData\\Local\\Temp\\ipykernel_74596\\2644847777.py\", line 151, in train\n",
      "\u001b[34m\u001b[1mwandb\u001b[0m: \u001b[32m\u001b[41mERROR\u001b[0m     model.fit(X_train,\n",
      "\u001b[34m\u001b[1mwandb\u001b[0m: \u001b[32m\u001b[41mERROR\u001b[0m   File \"C:\\anaconda3\\envs\\jupyterenv\\lib\\site-packages\\keras\\src\\utils\\traceback_utils.py\", line 70, in error_handler\n",
      "\u001b[34m\u001b[1mwandb\u001b[0m: \u001b[32m\u001b[41mERROR\u001b[0m     raise e.with_traceback(filtered_tb) from None\n",
      "\u001b[34m\u001b[1mwandb\u001b[0m: \u001b[32m\u001b[41mERROR\u001b[0m   File \"C:\\anaconda3\\envs\\jupyterenv\\lib\\site-packages\\wandb\\integration\\keras\\keras.py\", line 656, in on_train_batch_end\n",
      "\u001b[34m\u001b[1mwandb\u001b[0m: \u001b[32m\u001b[41mERROR\u001b[0m     wandb.run.summary[\"graph\"] = wandb.Graph.from_keras(self.model)\n",
      "\u001b[34m\u001b[1mwandb\u001b[0m: \u001b[32m\u001b[41mERROR\u001b[0m   File \"C:\\anaconda3\\envs\\jupyterenv\\lib\\site-packages\\wandb\\sdk\\wandb_summary.py\", line 52, in __setitem__\n",
      "\u001b[34m\u001b[1mwandb\u001b[0m: \u001b[32m\u001b[41mERROR\u001b[0m     self.update({key: val})\n",
      "\u001b[34m\u001b[1mwandb\u001b[0m: \u001b[32m\u001b[41mERROR\u001b[0m   File \"C:\\anaconda3\\envs\\jupyterenv\\lib\\site-packages\\wandb\\sdk\\wandb_summary.py\", line 74, in update\n",
      "\u001b[34m\u001b[1mwandb\u001b[0m: \u001b[32m\u001b[41mERROR\u001b[0m     self._update(record)\n",
      "\u001b[34m\u001b[1mwandb\u001b[0m: \u001b[32m\u001b[41mERROR\u001b[0m   File \"C:\\anaconda3\\envs\\jupyterenv\\lib\\site-packages\\wandb\\sdk\\wandb_summary.py\", line 128, in _update\n",
      "\u001b[34m\u001b[1mwandb\u001b[0m: \u001b[32m\u001b[41mERROR\u001b[0m     self._update_callback(record)\n",
      "\u001b[34m\u001b[1mwandb\u001b[0m: \u001b[32m\u001b[41mERROR\u001b[0m   File \"C:\\anaconda3\\envs\\jupyterenv\\lib\\site-packages\\wandb\\sdk\\wandb_run.py\", line 400, in wrapper_fn\n",
      "\u001b[34m\u001b[1mwandb\u001b[0m: \u001b[32m\u001b[41mERROR\u001b[0m     return func(self, *args, **kwargs)\n",
      "\u001b[34m\u001b[1mwandb\u001b[0m: \u001b[32m\u001b[41mERROR\u001b[0m   File \"C:\\anaconda3\\envs\\jupyterenv\\lib\\site-packages\\wandb\\sdk\\wandb_run.py\", line 1424, in _summary_update_callback\n",
      "\u001b[34m\u001b[1mwandb\u001b[0m: \u001b[32m\u001b[41mERROR\u001b[0m     self._backend.interface.publish_summary(summary_record)\n",
      "\u001b[34m\u001b[1mwandb\u001b[0m: \u001b[32m\u001b[41mERROR\u001b[0m   File \"C:\\anaconda3\\envs\\jupyterenv\\lib\\site-packages\\wandb\\sdk\\interface\\interface.py\", line 270, in publish_summary\n",
      "\u001b[34m\u001b[1mwandb\u001b[0m: \u001b[32m\u001b[41mERROR\u001b[0m     pb_summary_record = self._make_summary(summary_record)\n",
      "\u001b[34m\u001b[1mwandb\u001b[0m: \u001b[32m\u001b[41mERROR\u001b[0m   File \"C:\\anaconda3\\envs\\jupyterenv\\lib\\site-packages\\wandb\\sdk\\interface\\interface.py\", line 248, in _make_summary\n",
      "\u001b[34m\u001b[1mwandb\u001b[0m: \u001b[32m\u001b[41mERROR\u001b[0m     json_value = self._summary_encode(item.value, path_from_root)\n",
      "\u001b[34m\u001b[1mwandb\u001b[0m: \u001b[32m\u001b[41mERROR\u001b[0m   File \"C:\\anaconda3\\envs\\jupyterenv\\lib\\site-packages\\wandb\\sdk\\interface\\interface.py\", line 221, in _summary_encode\n",
      "\u001b[34m\u001b[1mwandb\u001b[0m: \u001b[32m\u001b[41mERROR\u001b[0m     val_to_json(self._run, path_from_root, value, namespace=\"summary\")\n",
      "\u001b[34m\u001b[1mwandb\u001b[0m: \u001b[32m\u001b[41mERROR\u001b[0m   File \"C:\\anaconda3\\envs\\jupyterenv\\lib\\site-packages\\wandb\\sdk\\data_types\\utils.py\", line 164, in val_to_json\n",
      "\u001b[34m\u001b[1mwandb\u001b[0m: \u001b[32m\u001b[41mERROR\u001b[0m     val.bind_to_run(run, key, namespace)\n",
      "\u001b[34m\u001b[1mwandb\u001b[0m: \u001b[32m\u001b[41mERROR\u001b[0m   File \"C:\\anaconda3\\envs\\jupyterenv\\lib\\site-packages\\wandb\\data_types.py\", line 1377, in bind_to_run\n",
      "\u001b[34m\u001b[1mwandb\u001b[0m: \u001b[32m\u001b[41mERROR\u001b[0m     with codecs.open(tmp_path, \"w\", encoding=\"utf-8\") as fp:\n",
      "\u001b[34m\u001b[1mwandb\u001b[0m: \u001b[32m\u001b[41mERROR\u001b[0m   File \"C:\\anaconda3\\envs\\jupyterenv\\lib\\codecs.py\", line 906, in open\n",
      "\u001b[34m\u001b[1mwandb\u001b[0m: \u001b[32m\u001b[41mERROR\u001b[0m     file = builtins.open(filename, mode, buffering)\n",
      "\u001b[34m\u001b[1mwandb\u001b[0m: \u001b[32m\u001b[41mERROR\u001b[0m FileNotFoundError: [Errno 2] No such file or directory: 'C:\\\\Users\\\\Addisu\\\\AppData\\\\Local\\\\Temp\\\\tmpbie7lvyxwandb-media\\\\6nnhpo1h.graph.json'\n",
      "\u001b[34m\u001b[1mwandb\u001b[0m: \u001b[32m\u001b[41mERROR\u001b[0m \n",
      "\u001b[34m\u001b[1mwandb\u001b[0m: Agent Starting Run: 7xmm7mgx with config:\n",
      "\u001b[34m\u001b[1mwandb\u001b[0m: \tbatch_size: 48\n",
      "\u001b[34m\u001b[1mwandb\u001b[0m: \tdense_activation: sigmoid\n",
      "\u001b[34m\u001b[1mwandb\u001b[0m: \tdropout: 0.2\n",
      "\u001b[34m\u001b[1mwandb\u001b[0m: \tepochs: 1\n",
      "\u001b[34m\u001b[1mwandb\u001b[0m: \tlearning_rate: 0.008047054083866929\n",
      "\u001b[34m\u001b[1mwandb\u001b[0m: \toptimizer: adam\n"
     ]
    },
    {
     "data": {
      "text/html": [
       "wandb version 0.17.2 is available!  To upgrade, please run:\n",
       " $ pip install wandb --upgrade"
      ],
      "text/plain": [
       "<IPython.core.display.HTML object>"
      ]
     },
     "metadata": {},
     "output_type": "display_data"
    },
    {
     "data": {
      "text/html": [
       "Tracking run with wandb version 0.17.0"
      ],
      "text/plain": [
       "<IPython.core.display.HTML object>"
      ]
     },
     "metadata": {},
     "output_type": "display_data"
    },
    {
     "data": {
      "text/html": [
       "Run data is saved locally in <code>C:\\Users\\Addisu\\Desktop\\kidi files\\Python workshop with ellen\\wandb\\run-20240621_155054-7xmm7mgx</code>"
      ],
      "text/plain": [
       "<IPython.core.display.HTML object>"
      ]
     },
     "metadata": {},
     "output_type": "display_data"
    },
    {
     "data": {
      "text/html": [
       "Syncing run <strong><a href='https://wandb.ai/evapppp/sweeps-keras/runs/7xmm7mgx' target=\"_blank\">cosmic-sweep-39</a></strong> to <a href='https://wandb.ai/evapppp/sweeps-keras' target=\"_blank\">Weights & Biases</a> (<a href='https://wandb.me/run' target=\"_blank\">docs</a>)<br/>Sweep page: <a href='https://wandb.ai/evapppp/sweeps-keras/sweeps/qu378scj' target=\"_blank\">https://wandb.ai/evapppp/sweeps-keras/sweeps/qu378scj</a>"
      ],
      "text/plain": [
       "<IPython.core.display.HTML object>"
      ]
     },
     "metadata": {},
     "output_type": "display_data"
    },
    {
     "data": {
      "text/html": [
       " View project at <a href='https://wandb.ai/evapppp/sweeps-keras' target=\"_blank\">https://wandb.ai/evapppp/sweeps-keras</a>"
      ],
      "text/plain": [
       "<IPython.core.display.HTML object>"
      ]
     },
     "metadata": {},
     "output_type": "display_data"
    },
    {
     "data": {
      "text/html": [
       " View sweep at <a href='https://wandb.ai/evapppp/sweeps-keras/sweeps/qu378scj' target=\"_blank\">https://wandb.ai/evapppp/sweeps-keras/sweeps/qu378scj</a>"
      ],
      "text/plain": [
       "<IPython.core.display.HTML object>"
      ]
     },
     "metadata": {},
     "output_type": "display_data"
    },
    {
     "data": {
      "text/html": [
       " View run at <a href='https://wandb.ai/evapppp/sweeps-keras/runs/7xmm7mgx' target=\"_blank\">https://wandb.ai/evapppp/sweeps-keras/runs/7xmm7mgx</a>"
      ],
      "text/plain": [
       "<IPython.core.display.HTML object>"
      ]
     },
     "metadata": {},
     "output_type": "display_data"
    },
    {
     "name": "stderr",
     "output_type": "stream",
     "text": [
      "Traceback (most recent call last):\n",
      "  File \"C:\\Users\\Addisu\\AppData\\Local\\Temp\\ipykernel_74596\\2644847777.py\", line 221, in sweep_train\n",
      "    train(model,\n",
      "  File \"C:\\Users\\Addisu\\AppData\\Local\\Temp\\ipykernel_74596\\2644847777.py\", line 151, in train\n",
      "    model.fit(X_train,\n",
      "  File \"C:\\anaconda3\\envs\\jupyterenv\\lib\\site-packages\\keras\\src\\utils\\traceback_utils.py\", line 70, in error_handler\n",
      "    raise e.with_traceback(filtered_tb) from None\n",
      "  File \"C:\\anaconda3\\envs\\jupyterenv\\lib\\site-packages\\wandb\\integration\\keras\\keras.py\", line 656, in on_train_batch_end\n",
      "    wandb.run.summary[\"graph\"] = wandb.Graph.from_keras(self.model)\n",
      "  File \"C:\\anaconda3\\envs\\jupyterenv\\lib\\site-packages\\wandb\\sdk\\wandb_summary.py\", line 52, in __setitem__\n",
      "    self.update({key: val})\n",
      "  File \"C:\\anaconda3\\envs\\jupyterenv\\lib\\site-packages\\wandb\\sdk\\wandb_summary.py\", line 74, in update\n",
      "    self._update(record)\n",
      "  File \"C:\\anaconda3\\envs\\jupyterenv\\lib\\site-packages\\wandb\\sdk\\wandb_summary.py\", line 128, in _update\n",
      "    self._update_callback(record)\n",
      "  File \"C:\\anaconda3\\envs\\jupyterenv\\lib\\site-packages\\wandb\\sdk\\wandb_run.py\", line 400, in wrapper_fn\n",
      "    return func(self, *args, **kwargs)\n",
      "  File \"C:\\anaconda3\\envs\\jupyterenv\\lib\\site-packages\\wandb\\sdk\\wandb_run.py\", line 1424, in _summary_update_callback\n",
      "    self._backend.interface.publish_summary(summary_record)\n",
      "  File \"C:\\anaconda3\\envs\\jupyterenv\\lib\\site-packages\\wandb\\sdk\\interface\\interface.py\", line 270, in publish_summary\n",
      "    pb_summary_record = self._make_summary(summary_record)\n",
      "  File \"C:\\anaconda3\\envs\\jupyterenv\\lib\\site-packages\\wandb\\sdk\\interface\\interface.py\", line 248, in _make_summary\n",
      "    json_value = self._summary_encode(item.value, path_from_root)\n",
      "  File \"C:\\anaconda3\\envs\\jupyterenv\\lib\\site-packages\\wandb\\sdk\\interface\\interface.py\", line 221, in _summary_encode\n",
      "    val_to_json(self._run, path_from_root, value, namespace=\"summary\")\n",
      "  File \"C:\\anaconda3\\envs\\jupyterenv\\lib\\site-packages\\wandb\\sdk\\data_types\\utils.py\", line 164, in val_to_json\n",
      "    val.bind_to_run(run, key, namespace)\n",
      "  File \"C:\\anaconda3\\envs\\jupyterenv\\lib\\site-packages\\wandb\\data_types.py\", line 1377, in bind_to_run\n",
      "    with codecs.open(tmp_path, \"w\", encoding=\"utf-8\") as fp:\n",
      "  File \"C:\\anaconda3\\envs\\jupyterenv\\lib\\codecs.py\", line 906, in open\n",
      "    file = builtins.open(filename, mode, buffering)\n",
      "FileNotFoundError: [Errno 2] No such file or directory: 'C:\\\\Users\\\\Addisu\\\\AppData\\\\Local\\\\Temp\\\\tmpbie7lvyxwandb-media\\\\65fusg6s.graph.json'\n"
     ]
    },
    {
     "data": {
      "text/html": [
       " View run <strong style=\"color:#cdcd00\">cosmic-sweep-39</strong> at: <a href='https://wandb.ai/evapppp/sweeps-keras/runs/7xmm7mgx' target=\"_blank\">https://wandb.ai/evapppp/sweeps-keras/runs/7xmm7mgx</a><br/> View project at: <a href='https://wandb.ai/evapppp/sweeps-keras' target=\"_blank\">https://wandb.ai/evapppp/sweeps-keras</a><br/>Synced 5 W&B file(s), 0 media file(s), 0 artifact file(s) and 0 other file(s)"
      ],
      "text/plain": [
       "<IPython.core.display.HTML object>"
      ]
     },
     "metadata": {},
     "output_type": "display_data"
    },
    {
     "data": {
      "text/html": [
       "Find logs at: <code>.\\wandb\\run-20240621_155054-7xmm7mgx\\logs</code>"
      ],
      "text/plain": [
       "<IPython.core.display.HTML object>"
      ]
     },
     "metadata": {},
     "output_type": "display_data"
    },
    {
     "name": "stderr",
     "output_type": "stream",
     "text": [
      "Run 7xmm7mgx errored:\n",
      "Traceback (most recent call last):\n",
      "  File \"C:\\anaconda3\\envs\\jupyterenv\\lib\\site-packages\\wandb\\agents\\pyagent.py\", line 307, in _run_job\n",
      "    self._function()\n",
      "  File \"C:\\Users\\Addisu\\AppData\\Local\\Temp\\ipykernel_74596\\2644847777.py\", line 221, in sweep_train\n",
      "    train(model,\n",
      "  File \"C:\\Users\\Addisu\\AppData\\Local\\Temp\\ipykernel_74596\\2644847777.py\", line 151, in train\n",
      "    model.fit(X_train,\n",
      "  File \"C:\\anaconda3\\envs\\jupyterenv\\lib\\site-packages\\keras\\src\\utils\\traceback_utils.py\", line 70, in error_handler\n",
      "    raise e.with_traceback(filtered_tb) from None\n",
      "  File \"C:\\anaconda3\\envs\\jupyterenv\\lib\\site-packages\\wandb\\integration\\keras\\keras.py\", line 656, in on_train_batch_end\n",
      "    wandb.run.summary[\"graph\"] = wandb.Graph.from_keras(self.model)\n",
      "  File \"C:\\anaconda3\\envs\\jupyterenv\\lib\\site-packages\\wandb\\sdk\\wandb_summary.py\", line 52, in __setitem__\n",
      "    self.update({key: val})\n",
      "  File \"C:\\anaconda3\\envs\\jupyterenv\\lib\\site-packages\\wandb\\sdk\\wandb_summary.py\", line 74, in update\n",
      "    self._update(record)\n",
      "  File \"C:\\anaconda3\\envs\\jupyterenv\\lib\\site-packages\\wandb\\sdk\\wandb_summary.py\", line 128, in _update\n",
      "    self._update_callback(record)\n",
      "  File \"C:\\anaconda3\\envs\\jupyterenv\\lib\\site-packages\\wandb\\sdk\\wandb_run.py\", line 400, in wrapper_fn\n",
      "    return func(self, *args, **kwargs)\n",
      "  File \"C:\\anaconda3\\envs\\jupyterenv\\lib\\site-packages\\wandb\\sdk\\wandb_run.py\", line 1424, in _summary_update_callback\n",
      "    self._backend.interface.publish_summary(summary_record)\n",
      "  File \"C:\\anaconda3\\envs\\jupyterenv\\lib\\site-packages\\wandb\\sdk\\interface\\interface.py\", line 270, in publish_summary\n",
      "    pb_summary_record = self._make_summary(summary_record)\n",
      "  File \"C:\\anaconda3\\envs\\jupyterenv\\lib\\site-packages\\wandb\\sdk\\interface\\interface.py\", line 248, in _make_summary\n",
      "    json_value = self._summary_encode(item.value, path_from_root)\n",
      "  File \"C:\\anaconda3\\envs\\jupyterenv\\lib\\site-packages\\wandb\\sdk\\interface\\interface.py\", line 221, in _summary_encode\n",
      "    val_to_json(self._run, path_from_root, value, namespace=\"summary\")\n",
      "  File \"C:\\anaconda3\\envs\\jupyterenv\\lib\\site-packages\\wandb\\sdk\\data_types\\utils.py\", line 164, in val_to_json\n",
      "    val.bind_to_run(run, key, namespace)\n",
      "  File \"C:\\anaconda3\\envs\\jupyterenv\\lib\\site-packages\\wandb\\data_types.py\", line 1377, in bind_to_run\n",
      "    with codecs.open(tmp_path, \"w\", encoding=\"utf-8\") as fp:\n",
      "  File \"C:\\anaconda3\\envs\\jupyterenv\\lib\\codecs.py\", line 906, in open\n",
      "    file = builtins.open(filename, mode, buffering)\n",
      "FileNotFoundError: [Errno 2] No such file or directory: 'C:\\\\Users\\\\Addisu\\\\AppData\\\\Local\\\\Temp\\\\tmpbie7lvyxwandb-media\\\\65fusg6s.graph.json'\n",
      "\n",
      "\u001b[34m\u001b[1mwandb\u001b[0m: \u001b[32m\u001b[41mERROR\u001b[0m Run 7xmm7mgx errored:\n",
      "\u001b[34m\u001b[1mwandb\u001b[0m: \u001b[32m\u001b[41mERROR\u001b[0m Traceback (most recent call last):\n",
      "\u001b[34m\u001b[1mwandb\u001b[0m: \u001b[32m\u001b[41mERROR\u001b[0m   File \"C:\\anaconda3\\envs\\jupyterenv\\lib\\site-packages\\wandb\\agents\\pyagent.py\", line 307, in _run_job\n",
      "\u001b[34m\u001b[1mwandb\u001b[0m: \u001b[32m\u001b[41mERROR\u001b[0m     self._function()\n",
      "\u001b[34m\u001b[1mwandb\u001b[0m: \u001b[32m\u001b[41mERROR\u001b[0m   File \"C:\\Users\\Addisu\\AppData\\Local\\Temp\\ipykernel_74596\\2644847777.py\", line 221, in sweep_train\n",
      "\u001b[34m\u001b[1mwandb\u001b[0m: \u001b[32m\u001b[41mERROR\u001b[0m     train(model,\n",
      "\u001b[34m\u001b[1mwandb\u001b[0m: \u001b[32m\u001b[41mERROR\u001b[0m   File \"C:\\Users\\Addisu\\AppData\\Local\\Temp\\ipykernel_74596\\2644847777.py\", line 151, in train\n",
      "\u001b[34m\u001b[1mwandb\u001b[0m: \u001b[32m\u001b[41mERROR\u001b[0m     model.fit(X_train,\n",
      "\u001b[34m\u001b[1mwandb\u001b[0m: \u001b[32m\u001b[41mERROR\u001b[0m   File \"C:\\anaconda3\\envs\\jupyterenv\\lib\\site-packages\\keras\\src\\utils\\traceback_utils.py\", line 70, in error_handler\n",
      "\u001b[34m\u001b[1mwandb\u001b[0m: \u001b[32m\u001b[41mERROR\u001b[0m     raise e.with_traceback(filtered_tb) from None\n",
      "\u001b[34m\u001b[1mwandb\u001b[0m: \u001b[32m\u001b[41mERROR\u001b[0m   File \"C:\\anaconda3\\envs\\jupyterenv\\lib\\site-packages\\wandb\\integration\\keras\\keras.py\", line 656, in on_train_batch_end\n",
      "\u001b[34m\u001b[1mwandb\u001b[0m: \u001b[32m\u001b[41mERROR\u001b[0m     wandb.run.summary[\"graph\"] = wandb.Graph.from_keras(self.model)\n",
      "\u001b[34m\u001b[1mwandb\u001b[0m: \u001b[32m\u001b[41mERROR\u001b[0m   File \"C:\\anaconda3\\envs\\jupyterenv\\lib\\site-packages\\wandb\\sdk\\wandb_summary.py\", line 52, in __setitem__\n",
      "\u001b[34m\u001b[1mwandb\u001b[0m: \u001b[32m\u001b[41mERROR\u001b[0m     self.update({key: val})\n",
      "\u001b[34m\u001b[1mwandb\u001b[0m: \u001b[32m\u001b[41mERROR\u001b[0m   File \"C:\\anaconda3\\envs\\jupyterenv\\lib\\site-packages\\wandb\\sdk\\wandb_summary.py\", line 74, in update\n",
      "\u001b[34m\u001b[1mwandb\u001b[0m: \u001b[32m\u001b[41mERROR\u001b[0m     self._update(record)\n",
      "\u001b[34m\u001b[1mwandb\u001b[0m: \u001b[32m\u001b[41mERROR\u001b[0m   File \"C:\\anaconda3\\envs\\jupyterenv\\lib\\site-packages\\wandb\\sdk\\wandb_summary.py\", line 128, in _update\n",
      "\u001b[34m\u001b[1mwandb\u001b[0m: \u001b[32m\u001b[41mERROR\u001b[0m     self._update_callback(record)\n",
      "\u001b[34m\u001b[1mwandb\u001b[0m: \u001b[32m\u001b[41mERROR\u001b[0m   File \"C:\\anaconda3\\envs\\jupyterenv\\lib\\site-packages\\wandb\\sdk\\wandb_run.py\", line 400, in wrapper_fn\n",
      "\u001b[34m\u001b[1mwandb\u001b[0m: \u001b[32m\u001b[41mERROR\u001b[0m     return func(self, *args, **kwargs)\n",
      "\u001b[34m\u001b[1mwandb\u001b[0m: \u001b[32m\u001b[41mERROR\u001b[0m   File \"C:\\anaconda3\\envs\\jupyterenv\\lib\\site-packages\\wandb\\sdk\\wandb_run.py\", line 1424, in _summary_update_callback\n",
      "\u001b[34m\u001b[1mwandb\u001b[0m: \u001b[32m\u001b[41mERROR\u001b[0m     self._backend.interface.publish_summary(summary_record)\n",
      "\u001b[34m\u001b[1mwandb\u001b[0m: \u001b[32m\u001b[41mERROR\u001b[0m   File \"C:\\anaconda3\\envs\\jupyterenv\\lib\\site-packages\\wandb\\sdk\\interface\\interface.py\", line 270, in publish_summary\n",
      "\u001b[34m\u001b[1mwandb\u001b[0m: \u001b[32m\u001b[41mERROR\u001b[0m     pb_summary_record = self._make_summary(summary_record)\n",
      "\u001b[34m\u001b[1mwandb\u001b[0m: \u001b[32m\u001b[41mERROR\u001b[0m   File \"C:\\anaconda3\\envs\\jupyterenv\\lib\\site-packages\\wandb\\sdk\\interface\\interface.py\", line 248, in _make_summary\n",
      "\u001b[34m\u001b[1mwandb\u001b[0m: \u001b[32m\u001b[41mERROR\u001b[0m     json_value = self._summary_encode(item.value, path_from_root)\n",
      "\u001b[34m\u001b[1mwandb\u001b[0m: \u001b[32m\u001b[41mERROR\u001b[0m   File \"C:\\anaconda3\\envs\\jupyterenv\\lib\\site-packages\\wandb\\sdk\\interface\\interface.py\", line 221, in _summary_encode\n",
      "\u001b[34m\u001b[1mwandb\u001b[0m: \u001b[32m\u001b[41mERROR\u001b[0m     val_to_json(self._run, path_from_root, value, namespace=\"summary\")\n",
      "\u001b[34m\u001b[1mwandb\u001b[0m: \u001b[32m\u001b[41mERROR\u001b[0m   File \"C:\\anaconda3\\envs\\jupyterenv\\lib\\site-packages\\wandb\\sdk\\data_types\\utils.py\", line 164, in val_to_json\n",
      "\u001b[34m\u001b[1mwandb\u001b[0m: \u001b[32m\u001b[41mERROR\u001b[0m     val.bind_to_run(run, key, namespace)\n",
      "\u001b[34m\u001b[1mwandb\u001b[0m: \u001b[32m\u001b[41mERROR\u001b[0m   File \"C:\\anaconda3\\envs\\jupyterenv\\lib\\site-packages\\wandb\\data_types.py\", line 1377, in bind_to_run\n",
      "\u001b[34m\u001b[1mwandb\u001b[0m: \u001b[32m\u001b[41mERROR\u001b[0m     with codecs.open(tmp_path, \"w\", encoding=\"utf-8\") as fp:\n",
      "\u001b[34m\u001b[1mwandb\u001b[0m: \u001b[32m\u001b[41mERROR\u001b[0m   File \"C:\\anaconda3\\envs\\jupyterenv\\lib\\codecs.py\", line 906, in open\n",
      "\u001b[34m\u001b[1mwandb\u001b[0m: \u001b[32m\u001b[41mERROR\u001b[0m     file = builtins.open(filename, mode, buffering)\n",
      "\u001b[34m\u001b[1mwandb\u001b[0m: \u001b[32m\u001b[41mERROR\u001b[0m FileNotFoundError: [Errno 2] No such file or directory: 'C:\\\\Users\\\\Addisu\\\\AppData\\\\Local\\\\Temp\\\\tmpbie7lvyxwandb-media\\\\65fusg6s.graph.json'\n",
      "\u001b[34m\u001b[1mwandb\u001b[0m: \u001b[32m\u001b[41mERROR\u001b[0m \n",
      "\u001b[34m\u001b[1mwandb\u001b[0m: Sweep Agent: Waiting for job.\n",
      "\u001b[34m\u001b[1mwandb\u001b[0m: Job received.\n",
      "\u001b[34m\u001b[1mwandb\u001b[0m: Agent Starting Run: ok78im59 with config:\n",
      "\u001b[34m\u001b[1mwandb\u001b[0m: \tbatch_size: 48\n",
      "\u001b[34m\u001b[1mwandb\u001b[0m: \tdense_activation: sigmoid\n",
      "\u001b[34m\u001b[1mwandb\u001b[0m: \tdropout: 0.2\n",
      "\u001b[34m\u001b[1mwandb\u001b[0m: \tepochs: 1\n",
      "\u001b[34m\u001b[1mwandb\u001b[0m: \tlearning_rate: 0.0011150518011440592\n",
      "\u001b[34m\u001b[1mwandb\u001b[0m: \toptimizer: adam\n"
     ]
    },
    {
     "data": {
      "text/html": [
       "wandb version 0.17.2 is available!  To upgrade, please run:\n",
       " $ pip install wandb --upgrade"
      ],
      "text/plain": [
       "<IPython.core.display.HTML object>"
      ]
     },
     "metadata": {},
     "output_type": "display_data"
    },
    {
     "data": {
      "text/html": [
       "Tracking run with wandb version 0.17.0"
      ],
      "text/plain": [
       "<IPython.core.display.HTML object>"
      ]
     },
     "metadata": {},
     "output_type": "display_data"
    },
    {
     "data": {
      "text/html": [
       "Run data is saved locally in <code>C:\\Users\\Addisu\\Desktop\\kidi files\\Python workshop with ellen\\wandb\\run-20240621_155125-ok78im59</code>"
      ],
      "text/plain": [
       "<IPython.core.display.HTML object>"
      ]
     },
     "metadata": {},
     "output_type": "display_data"
    },
    {
     "data": {
      "text/html": [
       "Syncing run <strong><a href='https://wandb.ai/evapppp/sweeps-keras/runs/ok78im59' target=\"_blank\">easy-sweep-40</a></strong> to <a href='https://wandb.ai/evapppp/sweeps-keras' target=\"_blank\">Weights & Biases</a> (<a href='https://wandb.me/run' target=\"_blank\">docs</a>)<br/>Sweep page: <a href='https://wandb.ai/evapppp/sweeps-keras/sweeps/qu378scj' target=\"_blank\">https://wandb.ai/evapppp/sweeps-keras/sweeps/qu378scj</a>"
      ],
      "text/plain": [
       "<IPython.core.display.HTML object>"
      ]
     },
     "metadata": {},
     "output_type": "display_data"
    },
    {
     "data": {
      "text/html": [
       " View project at <a href='https://wandb.ai/evapppp/sweeps-keras' target=\"_blank\">https://wandb.ai/evapppp/sweeps-keras</a>"
      ],
      "text/plain": [
       "<IPython.core.display.HTML object>"
      ]
     },
     "metadata": {},
     "output_type": "display_data"
    },
    {
     "data": {
      "text/html": [
       " View sweep at <a href='https://wandb.ai/evapppp/sweeps-keras/sweeps/qu378scj' target=\"_blank\">https://wandb.ai/evapppp/sweeps-keras/sweeps/qu378scj</a>"
      ],
      "text/plain": [
       "<IPython.core.display.HTML object>"
      ]
     },
     "metadata": {},
     "output_type": "display_data"
    },
    {
     "data": {
      "text/html": [
       " View run at <a href='https://wandb.ai/evapppp/sweeps-keras/runs/ok78im59' target=\"_blank\">https://wandb.ai/evapppp/sweeps-keras/runs/ok78im59</a>"
      ],
      "text/plain": [
       "<IPython.core.display.HTML object>"
      ]
     },
     "metadata": {},
     "output_type": "display_data"
    },
    {
     "name": "stderr",
     "output_type": "stream",
     "text": [
      "Traceback (most recent call last):\n",
      "  File \"C:\\Users\\Addisu\\AppData\\Local\\Temp\\ipykernel_74596\\2644847777.py\", line 221, in sweep_train\n",
      "    train(model,\n",
      "  File \"C:\\Users\\Addisu\\AppData\\Local\\Temp\\ipykernel_74596\\2644847777.py\", line 151, in train\n",
      "    model.fit(X_train,\n",
      "  File \"C:\\anaconda3\\envs\\jupyterenv\\lib\\site-packages\\keras\\src\\utils\\traceback_utils.py\", line 70, in error_handler\n",
      "    raise e.with_traceback(filtered_tb) from None\n",
      "  File \"C:\\anaconda3\\envs\\jupyterenv\\lib\\site-packages\\wandb\\integration\\keras\\keras.py\", line 656, in on_train_batch_end\n",
      "    wandb.run.summary[\"graph\"] = wandb.Graph.from_keras(self.model)\n",
      "  File \"C:\\anaconda3\\envs\\jupyterenv\\lib\\site-packages\\wandb\\sdk\\wandb_summary.py\", line 52, in __setitem__\n",
      "    self.update({key: val})\n",
      "  File \"C:\\anaconda3\\envs\\jupyterenv\\lib\\site-packages\\wandb\\sdk\\wandb_summary.py\", line 74, in update\n",
      "    self._update(record)\n",
      "  File \"C:\\anaconda3\\envs\\jupyterenv\\lib\\site-packages\\wandb\\sdk\\wandb_summary.py\", line 128, in _update\n",
      "    self._update_callback(record)\n",
      "  File \"C:\\anaconda3\\envs\\jupyterenv\\lib\\site-packages\\wandb\\sdk\\wandb_run.py\", line 400, in wrapper_fn\n",
      "    return func(self, *args, **kwargs)\n",
      "  File \"C:\\anaconda3\\envs\\jupyterenv\\lib\\site-packages\\wandb\\sdk\\wandb_run.py\", line 1424, in _summary_update_callback\n",
      "    self._backend.interface.publish_summary(summary_record)\n",
      "  File \"C:\\anaconda3\\envs\\jupyterenv\\lib\\site-packages\\wandb\\sdk\\interface\\interface.py\", line 270, in publish_summary\n",
      "    pb_summary_record = self._make_summary(summary_record)\n",
      "  File \"C:\\anaconda3\\envs\\jupyterenv\\lib\\site-packages\\wandb\\sdk\\interface\\interface.py\", line 248, in _make_summary\n",
      "    json_value = self._summary_encode(item.value, path_from_root)\n",
      "  File \"C:\\anaconda3\\envs\\jupyterenv\\lib\\site-packages\\wandb\\sdk\\interface\\interface.py\", line 221, in _summary_encode\n",
      "    val_to_json(self._run, path_from_root, value, namespace=\"summary\")\n",
      "  File \"C:\\anaconda3\\envs\\jupyterenv\\lib\\site-packages\\wandb\\sdk\\data_types\\utils.py\", line 164, in val_to_json\n",
      "    val.bind_to_run(run, key, namespace)\n",
      "  File \"C:\\anaconda3\\envs\\jupyterenv\\lib\\site-packages\\wandb\\data_types.py\", line 1377, in bind_to_run\n",
      "    with codecs.open(tmp_path, \"w\", encoding=\"utf-8\") as fp:\n",
      "  File \"C:\\anaconda3\\envs\\jupyterenv\\lib\\codecs.py\", line 906, in open\n",
      "    file = builtins.open(filename, mode, buffering)\n",
      "FileNotFoundError: [Errno 2] No such file or directory: 'C:\\\\Users\\\\Addisu\\\\AppData\\\\Local\\\\Temp\\\\tmpbie7lvyxwandb-media\\\\x36vsa1o.graph.json'\n"
     ]
    },
    {
     "data": {
      "text/html": [
       " View run <strong style=\"color:#cdcd00\">easy-sweep-40</strong> at: <a href='https://wandb.ai/evapppp/sweeps-keras/runs/ok78im59' target=\"_blank\">https://wandb.ai/evapppp/sweeps-keras/runs/ok78im59</a><br/> View project at: <a href='https://wandb.ai/evapppp/sweeps-keras' target=\"_blank\">https://wandb.ai/evapppp/sweeps-keras</a><br/>Synced 5 W&B file(s), 0 media file(s), 0 artifact file(s) and 0 other file(s)"
      ],
      "text/plain": [
       "<IPython.core.display.HTML object>"
      ]
     },
     "metadata": {},
     "output_type": "display_data"
    },
    {
     "data": {
      "text/html": [
       "Find logs at: <code>.\\wandb\\run-20240621_155125-ok78im59\\logs</code>"
      ],
      "text/plain": [
       "<IPython.core.display.HTML object>"
      ]
     },
     "metadata": {},
     "output_type": "display_data"
    },
    {
     "name": "stderr",
     "output_type": "stream",
     "text": [
      "Run ok78im59 errored:\n",
      "Traceback (most recent call last):\n",
      "  File \"C:\\anaconda3\\envs\\jupyterenv\\lib\\site-packages\\wandb\\agents\\pyagent.py\", line 307, in _run_job\n",
      "    self._function()\n",
      "  File \"C:\\Users\\Addisu\\AppData\\Local\\Temp\\ipykernel_74596\\2644847777.py\", line 221, in sweep_train\n",
      "    train(model,\n",
      "  File \"C:\\Users\\Addisu\\AppData\\Local\\Temp\\ipykernel_74596\\2644847777.py\", line 151, in train\n",
      "    model.fit(X_train,\n",
      "  File \"C:\\anaconda3\\envs\\jupyterenv\\lib\\site-packages\\keras\\src\\utils\\traceback_utils.py\", line 70, in error_handler\n",
      "    raise e.with_traceback(filtered_tb) from None\n",
      "  File \"C:\\anaconda3\\envs\\jupyterenv\\lib\\site-packages\\wandb\\integration\\keras\\keras.py\", line 656, in on_train_batch_end\n",
      "    wandb.run.summary[\"graph\"] = wandb.Graph.from_keras(self.model)\n",
      "  File \"C:\\anaconda3\\envs\\jupyterenv\\lib\\site-packages\\wandb\\sdk\\wandb_summary.py\", line 52, in __setitem__\n",
      "    self.update({key: val})\n",
      "  File \"C:\\anaconda3\\envs\\jupyterenv\\lib\\site-packages\\wandb\\sdk\\wandb_summary.py\", line 74, in update\n",
      "    self._update(record)\n",
      "  File \"C:\\anaconda3\\envs\\jupyterenv\\lib\\site-packages\\wandb\\sdk\\wandb_summary.py\", line 128, in _update\n",
      "    self._update_callback(record)\n",
      "  File \"C:\\anaconda3\\envs\\jupyterenv\\lib\\site-packages\\wandb\\sdk\\wandb_run.py\", line 400, in wrapper_fn\n",
      "    return func(self, *args, **kwargs)\n",
      "  File \"C:\\anaconda3\\envs\\jupyterenv\\lib\\site-packages\\wandb\\sdk\\wandb_run.py\", line 1424, in _summary_update_callback\n",
      "    self._backend.interface.publish_summary(summary_record)\n",
      "  File \"C:\\anaconda3\\envs\\jupyterenv\\lib\\site-packages\\wandb\\sdk\\interface\\interface.py\", line 270, in publish_summary\n",
      "    pb_summary_record = self._make_summary(summary_record)\n",
      "  File \"C:\\anaconda3\\envs\\jupyterenv\\lib\\site-packages\\wandb\\sdk\\interface\\interface.py\", line 248, in _make_summary\n",
      "    json_value = self._summary_encode(item.value, path_from_root)\n",
      "  File \"C:\\anaconda3\\envs\\jupyterenv\\lib\\site-packages\\wandb\\sdk\\interface\\interface.py\", line 221, in _summary_encode\n",
      "    val_to_json(self._run, path_from_root, value, namespace=\"summary\")\n",
      "  File \"C:\\anaconda3\\envs\\jupyterenv\\lib\\site-packages\\wandb\\sdk\\data_types\\utils.py\", line 164, in val_to_json\n",
      "    val.bind_to_run(run, key, namespace)\n",
      "  File \"C:\\anaconda3\\envs\\jupyterenv\\lib\\site-packages\\wandb\\data_types.py\", line 1377, in bind_to_run\n",
      "    with codecs.open(tmp_path, \"w\", encoding=\"utf-8\") as fp:\n",
      "  File \"C:\\anaconda3\\envs\\jupyterenv\\lib\\codecs.py\", line 906, in open\n",
      "    file = builtins.open(filename, mode, buffering)\n",
      "FileNotFoundError: [Errno 2] No such file or directory: 'C:\\\\Users\\\\Addisu\\\\AppData\\\\Local\\\\Temp\\\\tmpbie7lvyxwandb-media\\\\x36vsa1o.graph.json'\n",
      "\n",
      "\u001b[34m\u001b[1mwandb\u001b[0m: \u001b[32m\u001b[41mERROR\u001b[0m Run ok78im59 errored:\n",
      "\u001b[34m\u001b[1mwandb\u001b[0m: \u001b[32m\u001b[41mERROR\u001b[0m Traceback (most recent call last):\n",
      "\u001b[34m\u001b[1mwandb\u001b[0m: \u001b[32m\u001b[41mERROR\u001b[0m   File \"C:\\anaconda3\\envs\\jupyterenv\\lib\\site-packages\\wandb\\agents\\pyagent.py\", line 307, in _run_job\n",
      "\u001b[34m\u001b[1mwandb\u001b[0m: \u001b[32m\u001b[41mERROR\u001b[0m     self._function()\n",
      "\u001b[34m\u001b[1mwandb\u001b[0m: \u001b[32m\u001b[41mERROR\u001b[0m   File \"C:\\Users\\Addisu\\AppData\\Local\\Temp\\ipykernel_74596\\2644847777.py\", line 221, in sweep_train\n",
      "\u001b[34m\u001b[1mwandb\u001b[0m: \u001b[32m\u001b[41mERROR\u001b[0m     train(model,\n",
      "\u001b[34m\u001b[1mwandb\u001b[0m: \u001b[32m\u001b[41mERROR\u001b[0m   File \"C:\\Users\\Addisu\\AppData\\Local\\Temp\\ipykernel_74596\\2644847777.py\", line 151, in train\n",
      "\u001b[34m\u001b[1mwandb\u001b[0m: \u001b[32m\u001b[41mERROR\u001b[0m     model.fit(X_train,\n",
      "\u001b[34m\u001b[1mwandb\u001b[0m: \u001b[32m\u001b[41mERROR\u001b[0m   File \"C:\\anaconda3\\envs\\jupyterenv\\lib\\site-packages\\keras\\src\\utils\\traceback_utils.py\", line 70, in error_handler\n",
      "\u001b[34m\u001b[1mwandb\u001b[0m: \u001b[32m\u001b[41mERROR\u001b[0m     raise e.with_traceback(filtered_tb) from None\n",
      "\u001b[34m\u001b[1mwandb\u001b[0m: \u001b[32m\u001b[41mERROR\u001b[0m   File \"C:\\anaconda3\\envs\\jupyterenv\\lib\\site-packages\\wandb\\integration\\keras\\keras.py\", line 656, in on_train_batch_end\n",
      "\u001b[34m\u001b[1mwandb\u001b[0m: \u001b[32m\u001b[41mERROR\u001b[0m     wandb.run.summary[\"graph\"] = wandb.Graph.from_keras(self.model)\n",
      "\u001b[34m\u001b[1mwandb\u001b[0m: \u001b[32m\u001b[41mERROR\u001b[0m   File \"C:\\anaconda3\\envs\\jupyterenv\\lib\\site-packages\\wandb\\sdk\\wandb_summary.py\", line 52, in __setitem__\n",
      "\u001b[34m\u001b[1mwandb\u001b[0m: \u001b[32m\u001b[41mERROR\u001b[0m     self.update({key: val})\n",
      "\u001b[34m\u001b[1mwandb\u001b[0m: \u001b[32m\u001b[41mERROR\u001b[0m   File \"C:\\anaconda3\\envs\\jupyterenv\\lib\\site-packages\\wandb\\sdk\\wandb_summary.py\", line 74, in update\n",
      "\u001b[34m\u001b[1mwandb\u001b[0m: \u001b[32m\u001b[41mERROR\u001b[0m     self._update(record)\n",
      "\u001b[34m\u001b[1mwandb\u001b[0m: \u001b[32m\u001b[41mERROR\u001b[0m   File \"C:\\anaconda3\\envs\\jupyterenv\\lib\\site-packages\\wandb\\sdk\\wandb_summary.py\", line 128, in _update\n",
      "\u001b[34m\u001b[1mwandb\u001b[0m: \u001b[32m\u001b[41mERROR\u001b[0m     self._update_callback(record)\n",
      "\u001b[34m\u001b[1mwandb\u001b[0m: \u001b[32m\u001b[41mERROR\u001b[0m   File \"C:\\anaconda3\\envs\\jupyterenv\\lib\\site-packages\\wandb\\sdk\\wandb_run.py\", line 400, in wrapper_fn\n",
      "\u001b[34m\u001b[1mwandb\u001b[0m: \u001b[32m\u001b[41mERROR\u001b[0m     return func(self, *args, **kwargs)\n",
      "\u001b[34m\u001b[1mwandb\u001b[0m: \u001b[32m\u001b[41mERROR\u001b[0m   File \"C:\\anaconda3\\envs\\jupyterenv\\lib\\site-packages\\wandb\\sdk\\wandb_run.py\", line 1424, in _summary_update_callback\n",
      "\u001b[34m\u001b[1mwandb\u001b[0m: \u001b[32m\u001b[41mERROR\u001b[0m     self._backend.interface.publish_summary(summary_record)\n",
      "\u001b[34m\u001b[1mwandb\u001b[0m: \u001b[32m\u001b[41mERROR\u001b[0m   File \"C:\\anaconda3\\envs\\jupyterenv\\lib\\site-packages\\wandb\\sdk\\interface\\interface.py\", line 270, in publish_summary\n",
      "\u001b[34m\u001b[1mwandb\u001b[0m: \u001b[32m\u001b[41mERROR\u001b[0m     pb_summary_record = self._make_summary(summary_record)\n",
      "\u001b[34m\u001b[1mwandb\u001b[0m: \u001b[32m\u001b[41mERROR\u001b[0m   File \"C:\\anaconda3\\envs\\jupyterenv\\lib\\site-packages\\wandb\\sdk\\interface\\interface.py\", line 248, in _make_summary\n",
      "\u001b[34m\u001b[1mwandb\u001b[0m: \u001b[32m\u001b[41mERROR\u001b[0m     json_value = self._summary_encode(item.value, path_from_root)\n",
      "\u001b[34m\u001b[1mwandb\u001b[0m: \u001b[32m\u001b[41mERROR\u001b[0m   File \"C:\\anaconda3\\envs\\jupyterenv\\lib\\site-packages\\wandb\\sdk\\interface\\interface.py\", line 221, in _summary_encode\n",
      "\u001b[34m\u001b[1mwandb\u001b[0m: \u001b[32m\u001b[41mERROR\u001b[0m     val_to_json(self._run, path_from_root, value, namespace=\"summary\")\n",
      "\u001b[34m\u001b[1mwandb\u001b[0m: \u001b[32m\u001b[41mERROR\u001b[0m   File \"C:\\anaconda3\\envs\\jupyterenv\\lib\\site-packages\\wandb\\sdk\\data_types\\utils.py\", line 164, in val_to_json\n",
      "\u001b[34m\u001b[1mwandb\u001b[0m: \u001b[32m\u001b[41mERROR\u001b[0m     val.bind_to_run(run, key, namespace)\n",
      "\u001b[34m\u001b[1mwandb\u001b[0m: \u001b[32m\u001b[41mERROR\u001b[0m   File \"C:\\anaconda3\\envs\\jupyterenv\\lib\\site-packages\\wandb\\data_types.py\", line 1377, in bind_to_run\n",
      "\u001b[34m\u001b[1mwandb\u001b[0m: \u001b[32m\u001b[41mERROR\u001b[0m     with codecs.open(tmp_path, \"w\", encoding=\"utf-8\") as fp:\n",
      "\u001b[34m\u001b[1mwandb\u001b[0m: \u001b[32m\u001b[41mERROR\u001b[0m   File \"C:\\anaconda3\\envs\\jupyterenv\\lib\\codecs.py\", line 906, in open\n",
      "\u001b[34m\u001b[1mwandb\u001b[0m: \u001b[32m\u001b[41mERROR\u001b[0m     file = builtins.open(filename, mode, buffering)\n",
      "\u001b[34m\u001b[1mwandb\u001b[0m: \u001b[32m\u001b[41mERROR\u001b[0m FileNotFoundError: [Errno 2] No such file or directory: 'C:\\\\Users\\\\Addisu\\\\AppData\\\\Local\\\\Temp\\\\tmpbie7lvyxwandb-media\\\\x36vsa1o.graph.json'\n",
      "\u001b[34m\u001b[1mwandb\u001b[0m: \u001b[32m\u001b[41mERROR\u001b[0m \n",
      "\u001b[34m\u001b[1mwandb\u001b[0m: Agent Starting Run: 9gjx0vot with config:\n",
      "\u001b[34m\u001b[1mwandb\u001b[0m: \tbatch_size: 72\n",
      "\u001b[34m\u001b[1mwandb\u001b[0m: \tdense_activation: sigmoid\n",
      "\u001b[34m\u001b[1mwandb\u001b[0m: \tdropout: 0.3\n",
      "\u001b[34m\u001b[1mwandb\u001b[0m: \tepochs: 1\n",
      "\u001b[34m\u001b[1mwandb\u001b[0m: \tlearning_rate: 0.0005346674691454645\n",
      "\u001b[34m\u001b[1mwandb\u001b[0m: \toptimizer: adam\n"
     ]
    },
    {
     "data": {
      "text/html": [
       "wandb version 0.17.2 is available!  To upgrade, please run:\n",
       " $ pip install wandb --upgrade"
      ],
      "text/plain": [
       "<IPython.core.display.HTML object>"
      ]
     },
     "metadata": {},
     "output_type": "display_data"
    },
    {
     "data": {
      "text/html": [
       "Tracking run with wandb version 0.17.0"
      ],
      "text/plain": [
       "<IPython.core.display.HTML object>"
      ]
     },
     "metadata": {},
     "output_type": "display_data"
    },
    {
     "data": {
      "text/html": [
       "Run data is saved locally in <code>C:\\Users\\Addisu\\Desktop\\kidi files\\Python workshop with ellen\\wandb\\run-20240621_155154-9gjx0vot</code>"
      ],
      "text/plain": [
       "<IPython.core.display.HTML object>"
      ]
     },
     "metadata": {},
     "output_type": "display_data"
    },
    {
     "data": {
      "text/html": [
       "Syncing run <strong><a href='https://wandb.ai/evapppp/sweeps-keras/runs/9gjx0vot' target=\"_blank\">happy-sweep-41</a></strong> to <a href='https://wandb.ai/evapppp/sweeps-keras' target=\"_blank\">Weights & Biases</a> (<a href='https://wandb.me/run' target=\"_blank\">docs</a>)<br/>Sweep page: <a href='https://wandb.ai/evapppp/sweeps-keras/sweeps/qu378scj' target=\"_blank\">https://wandb.ai/evapppp/sweeps-keras/sweeps/qu378scj</a>"
      ],
      "text/plain": [
       "<IPython.core.display.HTML object>"
      ]
     },
     "metadata": {},
     "output_type": "display_data"
    },
    {
     "data": {
      "text/html": [
       " View project at <a href='https://wandb.ai/evapppp/sweeps-keras' target=\"_blank\">https://wandb.ai/evapppp/sweeps-keras</a>"
      ],
      "text/plain": [
       "<IPython.core.display.HTML object>"
      ]
     },
     "metadata": {},
     "output_type": "display_data"
    },
    {
     "data": {
      "text/html": [
       " View sweep at <a href='https://wandb.ai/evapppp/sweeps-keras/sweeps/qu378scj' target=\"_blank\">https://wandb.ai/evapppp/sweeps-keras/sweeps/qu378scj</a>"
      ],
      "text/plain": [
       "<IPython.core.display.HTML object>"
      ]
     },
     "metadata": {},
     "output_type": "display_data"
    },
    {
     "data": {
      "text/html": [
       " View run at <a href='https://wandb.ai/evapppp/sweeps-keras/runs/9gjx0vot' target=\"_blank\">https://wandb.ai/evapppp/sweeps-keras/runs/9gjx0vot</a>"
      ],
      "text/plain": [
       "<IPython.core.display.HTML object>"
      ]
     },
     "metadata": {},
     "output_type": "display_data"
    },
    {
     "name": "stderr",
     "output_type": "stream",
     "text": [
      "Traceback (most recent call last):\n",
      "  File \"C:\\Users\\Addisu\\AppData\\Local\\Temp\\ipykernel_74596\\2644847777.py\", line 221, in sweep_train\n",
      "    train(model,\n",
      "  File \"C:\\Users\\Addisu\\AppData\\Local\\Temp\\ipykernel_74596\\2644847777.py\", line 151, in train\n",
      "    model.fit(X_train,\n",
      "  File \"C:\\anaconda3\\envs\\jupyterenv\\lib\\site-packages\\keras\\src\\utils\\traceback_utils.py\", line 70, in error_handler\n",
      "    raise e.with_traceback(filtered_tb) from None\n",
      "  File \"C:\\anaconda3\\envs\\jupyterenv\\lib\\site-packages\\wandb\\integration\\keras\\keras.py\", line 656, in on_train_batch_end\n",
      "    wandb.run.summary[\"graph\"] = wandb.Graph.from_keras(self.model)\n",
      "  File \"C:\\anaconda3\\envs\\jupyterenv\\lib\\site-packages\\wandb\\sdk\\wandb_summary.py\", line 52, in __setitem__\n",
      "    self.update({key: val})\n",
      "  File \"C:\\anaconda3\\envs\\jupyterenv\\lib\\site-packages\\wandb\\sdk\\wandb_summary.py\", line 74, in update\n",
      "    self._update(record)\n",
      "  File \"C:\\anaconda3\\envs\\jupyterenv\\lib\\site-packages\\wandb\\sdk\\wandb_summary.py\", line 128, in _update\n",
      "    self._update_callback(record)\n",
      "  File \"C:\\anaconda3\\envs\\jupyterenv\\lib\\site-packages\\wandb\\sdk\\wandb_run.py\", line 400, in wrapper_fn\n",
      "    return func(self, *args, **kwargs)\n",
      "  File \"C:\\anaconda3\\envs\\jupyterenv\\lib\\site-packages\\wandb\\sdk\\wandb_run.py\", line 1424, in _summary_update_callback\n",
      "    self._backend.interface.publish_summary(summary_record)\n",
      "  File \"C:\\anaconda3\\envs\\jupyterenv\\lib\\site-packages\\wandb\\sdk\\interface\\interface.py\", line 270, in publish_summary\n",
      "    pb_summary_record = self._make_summary(summary_record)\n",
      "  File \"C:\\anaconda3\\envs\\jupyterenv\\lib\\site-packages\\wandb\\sdk\\interface\\interface.py\", line 248, in _make_summary\n",
      "    json_value = self._summary_encode(item.value, path_from_root)\n",
      "  File \"C:\\anaconda3\\envs\\jupyterenv\\lib\\site-packages\\wandb\\sdk\\interface\\interface.py\", line 221, in _summary_encode\n",
      "    val_to_json(self._run, path_from_root, value, namespace=\"summary\")\n",
      "  File \"C:\\anaconda3\\envs\\jupyterenv\\lib\\site-packages\\wandb\\sdk\\data_types\\utils.py\", line 164, in val_to_json\n",
      "    val.bind_to_run(run, key, namespace)\n",
      "  File \"C:\\anaconda3\\envs\\jupyterenv\\lib\\site-packages\\wandb\\data_types.py\", line 1377, in bind_to_run\n",
      "    with codecs.open(tmp_path, \"w\", encoding=\"utf-8\") as fp:\n",
      "  File \"C:\\anaconda3\\envs\\jupyterenv\\lib\\codecs.py\", line 906, in open\n",
      "    file = builtins.open(filename, mode, buffering)\n",
      "FileNotFoundError: [Errno 2] No such file or directory: 'C:\\\\Users\\\\Addisu\\\\AppData\\\\Local\\\\Temp\\\\tmpbie7lvyxwandb-media\\\\zom2ol3h.graph.json'\n"
     ]
    },
    {
     "data": {
      "text/html": [
       " View run <strong style=\"color:#cdcd00\">happy-sweep-41</strong> at: <a href='https://wandb.ai/evapppp/sweeps-keras/runs/9gjx0vot' target=\"_blank\">https://wandb.ai/evapppp/sweeps-keras/runs/9gjx0vot</a><br/> View project at: <a href='https://wandb.ai/evapppp/sweeps-keras' target=\"_blank\">https://wandb.ai/evapppp/sweeps-keras</a><br/>Synced 5 W&B file(s), 0 media file(s), 0 artifact file(s) and 0 other file(s)"
      ],
      "text/plain": [
       "<IPython.core.display.HTML object>"
      ]
     },
     "metadata": {},
     "output_type": "display_data"
    },
    {
     "data": {
      "text/html": [
       "Find logs at: <code>.\\wandb\\run-20240621_155154-9gjx0vot\\logs</code>"
      ],
      "text/plain": [
       "<IPython.core.display.HTML object>"
      ]
     },
     "metadata": {},
     "output_type": "display_data"
    },
    {
     "name": "stderr",
     "output_type": "stream",
     "text": [
      "Run 9gjx0vot errored:\n",
      "Traceback (most recent call last):\n",
      "  File \"C:\\anaconda3\\envs\\jupyterenv\\lib\\site-packages\\wandb\\agents\\pyagent.py\", line 307, in _run_job\n",
      "    self._function()\n",
      "  File \"C:\\Users\\Addisu\\AppData\\Local\\Temp\\ipykernel_74596\\2644847777.py\", line 221, in sweep_train\n",
      "    train(model,\n",
      "  File \"C:\\Users\\Addisu\\AppData\\Local\\Temp\\ipykernel_74596\\2644847777.py\", line 151, in train\n",
      "    model.fit(X_train,\n",
      "  File \"C:\\anaconda3\\envs\\jupyterenv\\lib\\site-packages\\keras\\src\\utils\\traceback_utils.py\", line 70, in error_handler\n",
      "    raise e.with_traceback(filtered_tb) from None\n",
      "  File \"C:\\anaconda3\\envs\\jupyterenv\\lib\\site-packages\\wandb\\integration\\keras\\keras.py\", line 656, in on_train_batch_end\n",
      "    wandb.run.summary[\"graph\"] = wandb.Graph.from_keras(self.model)\n",
      "  File \"C:\\anaconda3\\envs\\jupyterenv\\lib\\site-packages\\wandb\\sdk\\wandb_summary.py\", line 52, in __setitem__\n",
      "    self.update({key: val})\n",
      "  File \"C:\\anaconda3\\envs\\jupyterenv\\lib\\site-packages\\wandb\\sdk\\wandb_summary.py\", line 74, in update\n",
      "    self._update(record)\n",
      "  File \"C:\\anaconda3\\envs\\jupyterenv\\lib\\site-packages\\wandb\\sdk\\wandb_summary.py\", line 128, in _update\n",
      "    self._update_callback(record)\n",
      "  File \"C:\\anaconda3\\envs\\jupyterenv\\lib\\site-packages\\wandb\\sdk\\wandb_run.py\", line 400, in wrapper_fn\n",
      "    return func(self, *args, **kwargs)\n",
      "  File \"C:\\anaconda3\\envs\\jupyterenv\\lib\\site-packages\\wandb\\sdk\\wandb_run.py\", line 1424, in _summary_update_callback\n",
      "    self._backend.interface.publish_summary(summary_record)\n",
      "  File \"C:\\anaconda3\\envs\\jupyterenv\\lib\\site-packages\\wandb\\sdk\\interface\\interface.py\", line 270, in publish_summary\n",
      "    pb_summary_record = self._make_summary(summary_record)\n",
      "  File \"C:\\anaconda3\\envs\\jupyterenv\\lib\\site-packages\\wandb\\sdk\\interface\\interface.py\", line 248, in _make_summary\n",
      "    json_value = self._summary_encode(item.value, path_from_root)\n",
      "  File \"C:\\anaconda3\\envs\\jupyterenv\\lib\\site-packages\\wandb\\sdk\\interface\\interface.py\", line 221, in _summary_encode\n",
      "    val_to_json(self._run, path_from_root, value, namespace=\"summary\")\n",
      "  File \"C:\\anaconda3\\envs\\jupyterenv\\lib\\site-packages\\wandb\\sdk\\data_types\\utils.py\", line 164, in val_to_json\n",
      "    val.bind_to_run(run, key, namespace)\n",
      "  File \"C:\\anaconda3\\envs\\jupyterenv\\lib\\site-packages\\wandb\\data_types.py\", line 1377, in bind_to_run\n",
      "    with codecs.open(tmp_path, \"w\", encoding=\"utf-8\") as fp:\n",
      "  File \"C:\\anaconda3\\envs\\jupyterenv\\lib\\codecs.py\", line 906, in open\n",
      "    file = builtins.open(filename, mode, buffering)\n",
      "FileNotFoundError: [Errno 2] No such file or directory: 'C:\\\\Users\\\\Addisu\\\\AppData\\\\Local\\\\Temp\\\\tmpbie7lvyxwandb-media\\\\zom2ol3h.graph.json'\n",
      "\n",
      "\u001b[34m\u001b[1mwandb\u001b[0m: \u001b[32m\u001b[41mERROR\u001b[0m Run 9gjx0vot errored:\n",
      "\u001b[34m\u001b[1mwandb\u001b[0m: \u001b[32m\u001b[41mERROR\u001b[0m Traceback (most recent call last):\n",
      "\u001b[34m\u001b[1mwandb\u001b[0m: \u001b[32m\u001b[41mERROR\u001b[0m   File \"C:\\anaconda3\\envs\\jupyterenv\\lib\\site-packages\\wandb\\agents\\pyagent.py\", line 307, in _run_job\n",
      "\u001b[34m\u001b[1mwandb\u001b[0m: \u001b[32m\u001b[41mERROR\u001b[0m     self._function()\n",
      "\u001b[34m\u001b[1mwandb\u001b[0m: \u001b[32m\u001b[41mERROR\u001b[0m   File \"C:\\Users\\Addisu\\AppData\\Local\\Temp\\ipykernel_74596\\2644847777.py\", line 221, in sweep_train\n",
      "\u001b[34m\u001b[1mwandb\u001b[0m: \u001b[32m\u001b[41mERROR\u001b[0m     train(model,\n",
      "\u001b[34m\u001b[1mwandb\u001b[0m: \u001b[32m\u001b[41mERROR\u001b[0m   File \"C:\\Users\\Addisu\\AppData\\Local\\Temp\\ipykernel_74596\\2644847777.py\", line 151, in train\n",
      "\u001b[34m\u001b[1mwandb\u001b[0m: \u001b[32m\u001b[41mERROR\u001b[0m     model.fit(X_train,\n",
      "\u001b[34m\u001b[1mwandb\u001b[0m: \u001b[32m\u001b[41mERROR\u001b[0m   File \"C:\\anaconda3\\envs\\jupyterenv\\lib\\site-packages\\keras\\src\\utils\\traceback_utils.py\", line 70, in error_handler\n",
      "\u001b[34m\u001b[1mwandb\u001b[0m: \u001b[32m\u001b[41mERROR\u001b[0m     raise e.with_traceback(filtered_tb) from None\n",
      "\u001b[34m\u001b[1mwandb\u001b[0m: \u001b[32m\u001b[41mERROR\u001b[0m   File \"C:\\anaconda3\\envs\\jupyterenv\\lib\\site-packages\\wandb\\integration\\keras\\keras.py\", line 656, in on_train_batch_end\n",
      "\u001b[34m\u001b[1mwandb\u001b[0m: \u001b[32m\u001b[41mERROR\u001b[0m     wandb.run.summary[\"graph\"] = wandb.Graph.from_keras(self.model)\n",
      "\u001b[34m\u001b[1mwandb\u001b[0m: \u001b[32m\u001b[41mERROR\u001b[0m   File \"C:\\anaconda3\\envs\\jupyterenv\\lib\\site-packages\\wandb\\sdk\\wandb_summary.py\", line 52, in __setitem__\n",
      "\u001b[34m\u001b[1mwandb\u001b[0m: \u001b[32m\u001b[41mERROR\u001b[0m     self.update({key: val})\n",
      "\u001b[34m\u001b[1mwandb\u001b[0m: \u001b[32m\u001b[41mERROR\u001b[0m   File \"C:\\anaconda3\\envs\\jupyterenv\\lib\\site-packages\\wandb\\sdk\\wandb_summary.py\", line 74, in update\n",
      "\u001b[34m\u001b[1mwandb\u001b[0m: \u001b[32m\u001b[41mERROR\u001b[0m     self._update(record)\n",
      "\u001b[34m\u001b[1mwandb\u001b[0m: \u001b[32m\u001b[41mERROR\u001b[0m   File \"C:\\anaconda3\\envs\\jupyterenv\\lib\\site-packages\\wandb\\sdk\\wandb_summary.py\", line 128, in _update\n",
      "\u001b[34m\u001b[1mwandb\u001b[0m: \u001b[32m\u001b[41mERROR\u001b[0m     self._update_callback(record)\n",
      "\u001b[34m\u001b[1mwandb\u001b[0m: \u001b[32m\u001b[41mERROR\u001b[0m   File \"C:\\anaconda3\\envs\\jupyterenv\\lib\\site-packages\\wandb\\sdk\\wandb_run.py\", line 400, in wrapper_fn\n",
      "\u001b[34m\u001b[1mwandb\u001b[0m: \u001b[32m\u001b[41mERROR\u001b[0m     return func(self, *args, **kwargs)\n",
      "\u001b[34m\u001b[1mwandb\u001b[0m: \u001b[32m\u001b[41mERROR\u001b[0m   File \"C:\\anaconda3\\envs\\jupyterenv\\lib\\site-packages\\wandb\\sdk\\wandb_run.py\", line 1424, in _summary_update_callback\n",
      "\u001b[34m\u001b[1mwandb\u001b[0m: \u001b[32m\u001b[41mERROR\u001b[0m     self._backend.interface.publish_summary(summary_record)\n",
      "\u001b[34m\u001b[1mwandb\u001b[0m: \u001b[32m\u001b[41mERROR\u001b[0m   File \"C:\\anaconda3\\envs\\jupyterenv\\lib\\site-packages\\wandb\\sdk\\interface\\interface.py\", line 270, in publish_summary\n",
      "\u001b[34m\u001b[1mwandb\u001b[0m: \u001b[32m\u001b[41mERROR\u001b[0m     pb_summary_record = self._make_summary(summary_record)\n",
      "\u001b[34m\u001b[1mwandb\u001b[0m: \u001b[32m\u001b[41mERROR\u001b[0m   File \"C:\\anaconda3\\envs\\jupyterenv\\lib\\site-packages\\wandb\\sdk\\interface\\interface.py\", line 248, in _make_summary\n",
      "\u001b[34m\u001b[1mwandb\u001b[0m: \u001b[32m\u001b[41mERROR\u001b[0m     json_value = self._summary_encode(item.value, path_from_root)\n",
      "\u001b[34m\u001b[1mwandb\u001b[0m: \u001b[32m\u001b[41mERROR\u001b[0m   File \"C:\\anaconda3\\envs\\jupyterenv\\lib\\site-packages\\wandb\\sdk\\interface\\interface.py\", line 221, in _summary_encode\n",
      "\u001b[34m\u001b[1mwandb\u001b[0m: \u001b[32m\u001b[41mERROR\u001b[0m     val_to_json(self._run, path_from_root, value, namespace=\"summary\")\n",
      "\u001b[34m\u001b[1mwandb\u001b[0m: \u001b[32m\u001b[41mERROR\u001b[0m   File \"C:\\anaconda3\\envs\\jupyterenv\\lib\\site-packages\\wandb\\sdk\\data_types\\utils.py\", line 164, in val_to_json\n",
      "\u001b[34m\u001b[1mwandb\u001b[0m: \u001b[32m\u001b[41mERROR\u001b[0m     val.bind_to_run(run, key, namespace)\n",
      "\u001b[34m\u001b[1mwandb\u001b[0m: \u001b[32m\u001b[41mERROR\u001b[0m   File \"C:\\anaconda3\\envs\\jupyterenv\\lib\\site-packages\\wandb\\data_types.py\", line 1377, in bind_to_run\n",
      "\u001b[34m\u001b[1mwandb\u001b[0m: \u001b[32m\u001b[41mERROR\u001b[0m     with codecs.open(tmp_path, \"w\", encoding=\"utf-8\") as fp:\n",
      "\u001b[34m\u001b[1mwandb\u001b[0m: \u001b[32m\u001b[41mERROR\u001b[0m   File \"C:\\anaconda3\\envs\\jupyterenv\\lib\\codecs.py\", line 906, in open\n",
      "\u001b[34m\u001b[1mwandb\u001b[0m: \u001b[32m\u001b[41mERROR\u001b[0m     file = builtins.open(filename, mode, buffering)\n",
      "\u001b[34m\u001b[1mwandb\u001b[0m: \u001b[32m\u001b[41mERROR\u001b[0m FileNotFoundError: [Errno 2] No such file or directory: 'C:\\\\Users\\\\Addisu\\\\AppData\\\\Local\\\\Temp\\\\tmpbie7lvyxwandb-media\\\\zom2ol3h.graph.json'\n",
      "\u001b[34m\u001b[1mwandb\u001b[0m: \u001b[32m\u001b[41mERROR\u001b[0m \n",
      "\u001b[34m\u001b[1mwandb\u001b[0m: Agent Starting Run: kjqk4cb4 with config:\n",
      "\u001b[34m\u001b[1mwandb\u001b[0m: \tbatch_size: 80\n",
      "\u001b[34m\u001b[1mwandb\u001b[0m: \tdense_activation: relu\n",
      "\u001b[34m\u001b[1mwandb\u001b[0m: \tdropout: 0.2\n",
      "\u001b[34m\u001b[1mwandb\u001b[0m: \tepochs: 1\n",
      "\u001b[34m\u001b[1mwandb\u001b[0m: \tlearning_rate: 0.00010874350549871736\n",
      "\u001b[34m\u001b[1mwandb\u001b[0m: \toptimizer: adam\n"
     ]
    },
    {
     "data": {
      "text/html": [
       "wandb version 0.17.2 is available!  To upgrade, please run:\n",
       " $ pip install wandb --upgrade"
      ],
      "text/plain": [
       "<IPython.core.display.HTML object>"
      ]
     },
     "metadata": {},
     "output_type": "display_data"
    },
    {
     "data": {
      "text/html": [
       "Tracking run with wandb version 0.17.0"
      ],
      "text/plain": [
       "<IPython.core.display.HTML object>"
      ]
     },
     "metadata": {},
     "output_type": "display_data"
    },
    {
     "data": {
      "text/html": [
       "Run data is saved locally in <code>C:\\Users\\Addisu\\Desktop\\kidi files\\Python workshop with ellen\\wandb\\run-20240621_155225-kjqk4cb4</code>"
      ],
      "text/plain": [
       "<IPython.core.display.HTML object>"
      ]
     },
     "metadata": {},
     "output_type": "display_data"
    },
    {
     "data": {
      "text/html": [
       "Syncing run <strong><a href='https://wandb.ai/evapppp/sweeps-keras/runs/kjqk4cb4' target=\"_blank\">honest-sweep-42</a></strong> to <a href='https://wandb.ai/evapppp/sweeps-keras' target=\"_blank\">Weights & Biases</a> (<a href='https://wandb.me/run' target=\"_blank\">docs</a>)<br/>Sweep page: <a href='https://wandb.ai/evapppp/sweeps-keras/sweeps/qu378scj' target=\"_blank\">https://wandb.ai/evapppp/sweeps-keras/sweeps/qu378scj</a>"
      ],
      "text/plain": [
       "<IPython.core.display.HTML object>"
      ]
     },
     "metadata": {},
     "output_type": "display_data"
    },
    {
     "data": {
      "text/html": [
       " View project at <a href='https://wandb.ai/evapppp/sweeps-keras' target=\"_blank\">https://wandb.ai/evapppp/sweeps-keras</a>"
      ],
      "text/plain": [
       "<IPython.core.display.HTML object>"
      ]
     },
     "metadata": {},
     "output_type": "display_data"
    },
    {
     "data": {
      "text/html": [
       " View sweep at <a href='https://wandb.ai/evapppp/sweeps-keras/sweeps/qu378scj' target=\"_blank\">https://wandb.ai/evapppp/sweeps-keras/sweeps/qu378scj</a>"
      ],
      "text/plain": [
       "<IPython.core.display.HTML object>"
      ]
     },
     "metadata": {},
     "output_type": "display_data"
    },
    {
     "data": {
      "text/html": [
       " View run at <a href='https://wandb.ai/evapppp/sweeps-keras/runs/kjqk4cb4' target=\"_blank\">https://wandb.ai/evapppp/sweeps-keras/runs/kjqk4cb4</a>"
      ],
      "text/plain": [
       "<IPython.core.display.HTML object>"
      ]
     },
     "metadata": {},
     "output_type": "display_data"
    },
    {
     "name": "stderr",
     "output_type": "stream",
     "text": [
      "Traceback (most recent call last):\n",
      "  File \"C:\\Users\\Addisu\\AppData\\Local\\Temp\\ipykernel_74596\\2644847777.py\", line 221, in sweep_train\n",
      "    train(model,\n",
      "  File \"C:\\Users\\Addisu\\AppData\\Local\\Temp\\ipykernel_74596\\2644847777.py\", line 151, in train\n",
      "    model.fit(X_train,\n",
      "  File \"C:\\anaconda3\\envs\\jupyterenv\\lib\\site-packages\\keras\\src\\utils\\traceback_utils.py\", line 70, in error_handler\n",
      "    raise e.with_traceback(filtered_tb) from None\n",
      "  File \"C:\\anaconda3\\envs\\jupyterenv\\lib\\site-packages\\wandb\\integration\\keras\\keras.py\", line 656, in on_train_batch_end\n",
      "    wandb.run.summary[\"graph\"] = wandb.Graph.from_keras(self.model)\n",
      "  File \"C:\\anaconda3\\envs\\jupyterenv\\lib\\site-packages\\wandb\\sdk\\wandb_summary.py\", line 52, in __setitem__\n",
      "    self.update({key: val})\n",
      "  File \"C:\\anaconda3\\envs\\jupyterenv\\lib\\site-packages\\wandb\\sdk\\wandb_summary.py\", line 74, in update\n",
      "    self._update(record)\n",
      "  File \"C:\\anaconda3\\envs\\jupyterenv\\lib\\site-packages\\wandb\\sdk\\wandb_summary.py\", line 128, in _update\n",
      "    self._update_callback(record)\n",
      "  File \"C:\\anaconda3\\envs\\jupyterenv\\lib\\site-packages\\wandb\\sdk\\wandb_run.py\", line 400, in wrapper_fn\n",
      "    return func(self, *args, **kwargs)\n",
      "  File \"C:\\anaconda3\\envs\\jupyterenv\\lib\\site-packages\\wandb\\sdk\\wandb_run.py\", line 1424, in _summary_update_callback\n",
      "    self._backend.interface.publish_summary(summary_record)\n",
      "  File \"C:\\anaconda3\\envs\\jupyterenv\\lib\\site-packages\\wandb\\sdk\\interface\\interface.py\", line 270, in publish_summary\n",
      "    pb_summary_record = self._make_summary(summary_record)\n",
      "  File \"C:\\anaconda3\\envs\\jupyterenv\\lib\\site-packages\\wandb\\sdk\\interface\\interface.py\", line 248, in _make_summary\n",
      "    json_value = self._summary_encode(item.value, path_from_root)\n",
      "  File \"C:\\anaconda3\\envs\\jupyterenv\\lib\\site-packages\\wandb\\sdk\\interface\\interface.py\", line 221, in _summary_encode\n",
      "    val_to_json(self._run, path_from_root, value, namespace=\"summary\")\n",
      "  File \"C:\\anaconda3\\envs\\jupyterenv\\lib\\site-packages\\wandb\\sdk\\data_types\\utils.py\", line 164, in val_to_json\n",
      "    val.bind_to_run(run, key, namespace)\n",
      "  File \"C:\\anaconda3\\envs\\jupyterenv\\lib\\site-packages\\wandb\\data_types.py\", line 1377, in bind_to_run\n",
      "    with codecs.open(tmp_path, \"w\", encoding=\"utf-8\") as fp:\n",
      "  File \"C:\\anaconda3\\envs\\jupyterenv\\lib\\codecs.py\", line 906, in open\n",
      "    file = builtins.open(filename, mode, buffering)\n",
      "FileNotFoundError: [Errno 2] No such file or directory: 'C:\\\\Users\\\\Addisu\\\\AppData\\\\Local\\\\Temp\\\\tmpbie7lvyxwandb-media\\\\kw5tfpi2.graph.json'\n"
     ]
    },
    {
     "data": {
      "text/html": [
       " View run <strong style=\"color:#cdcd00\">honest-sweep-42</strong> at: <a href='https://wandb.ai/evapppp/sweeps-keras/runs/kjqk4cb4' target=\"_blank\">https://wandb.ai/evapppp/sweeps-keras/runs/kjqk4cb4</a><br/> View project at: <a href='https://wandb.ai/evapppp/sweeps-keras' target=\"_blank\">https://wandb.ai/evapppp/sweeps-keras</a><br/>Synced 5 W&B file(s), 0 media file(s), 0 artifact file(s) and 0 other file(s)"
      ],
      "text/plain": [
       "<IPython.core.display.HTML object>"
      ]
     },
     "metadata": {},
     "output_type": "display_data"
    },
    {
     "data": {
      "text/html": [
       "Find logs at: <code>.\\wandb\\run-20240621_155225-kjqk4cb4\\logs</code>"
      ],
      "text/plain": [
       "<IPython.core.display.HTML object>"
      ]
     },
     "metadata": {},
     "output_type": "display_data"
    },
    {
     "name": "stderr",
     "output_type": "stream",
     "text": [
      "Run kjqk4cb4 errored:\n",
      "Traceback (most recent call last):\n",
      "  File \"C:\\anaconda3\\envs\\jupyterenv\\lib\\site-packages\\wandb\\agents\\pyagent.py\", line 307, in _run_job\n",
      "    self._function()\n",
      "  File \"C:\\Users\\Addisu\\AppData\\Local\\Temp\\ipykernel_74596\\2644847777.py\", line 221, in sweep_train\n",
      "    train(model,\n",
      "  File \"C:\\Users\\Addisu\\AppData\\Local\\Temp\\ipykernel_74596\\2644847777.py\", line 151, in train\n",
      "    model.fit(X_train,\n",
      "  File \"C:\\anaconda3\\envs\\jupyterenv\\lib\\site-packages\\keras\\src\\utils\\traceback_utils.py\", line 70, in error_handler\n",
      "    raise e.with_traceback(filtered_tb) from None\n",
      "  File \"C:\\anaconda3\\envs\\jupyterenv\\lib\\site-packages\\wandb\\integration\\keras\\keras.py\", line 656, in on_train_batch_end\n",
      "    wandb.run.summary[\"graph\"] = wandb.Graph.from_keras(self.model)\n",
      "  File \"C:\\anaconda3\\envs\\jupyterenv\\lib\\site-packages\\wandb\\sdk\\wandb_summary.py\", line 52, in __setitem__\n",
      "    self.update({key: val})\n",
      "  File \"C:\\anaconda3\\envs\\jupyterenv\\lib\\site-packages\\wandb\\sdk\\wandb_summary.py\", line 74, in update\n",
      "    self._update(record)\n",
      "  File \"C:\\anaconda3\\envs\\jupyterenv\\lib\\site-packages\\wandb\\sdk\\wandb_summary.py\", line 128, in _update\n",
      "    self._update_callback(record)\n",
      "  File \"C:\\anaconda3\\envs\\jupyterenv\\lib\\site-packages\\wandb\\sdk\\wandb_run.py\", line 400, in wrapper_fn\n",
      "    return func(self, *args, **kwargs)\n",
      "  File \"C:\\anaconda3\\envs\\jupyterenv\\lib\\site-packages\\wandb\\sdk\\wandb_run.py\", line 1424, in _summary_update_callback\n",
      "    self._backend.interface.publish_summary(summary_record)\n",
      "  File \"C:\\anaconda3\\envs\\jupyterenv\\lib\\site-packages\\wandb\\sdk\\interface\\interface.py\", line 270, in publish_summary\n",
      "    pb_summary_record = self._make_summary(summary_record)\n",
      "  File \"C:\\anaconda3\\envs\\jupyterenv\\lib\\site-packages\\wandb\\sdk\\interface\\interface.py\", line 248, in _make_summary\n",
      "    json_value = self._summary_encode(item.value, path_from_root)\n",
      "  File \"C:\\anaconda3\\envs\\jupyterenv\\lib\\site-packages\\wandb\\sdk\\interface\\interface.py\", line 221, in _summary_encode\n",
      "    val_to_json(self._run, path_from_root, value, namespace=\"summary\")\n",
      "  File \"C:\\anaconda3\\envs\\jupyterenv\\lib\\site-packages\\wandb\\sdk\\data_types\\utils.py\", line 164, in val_to_json\n",
      "    val.bind_to_run(run, key, namespace)\n",
      "  File \"C:\\anaconda3\\envs\\jupyterenv\\lib\\site-packages\\wandb\\data_types.py\", line 1377, in bind_to_run\n",
      "    with codecs.open(tmp_path, \"w\", encoding=\"utf-8\") as fp:\n",
      "  File \"C:\\anaconda3\\envs\\jupyterenv\\lib\\codecs.py\", line 906, in open\n",
      "    file = builtins.open(filename, mode, buffering)\n",
      "FileNotFoundError: [Errno 2] No such file or directory: 'C:\\\\Users\\\\Addisu\\\\AppData\\\\Local\\\\Temp\\\\tmpbie7lvyxwandb-media\\\\kw5tfpi2.graph.json'\n",
      "\n",
      "\u001b[34m\u001b[1mwandb\u001b[0m: \u001b[32m\u001b[41mERROR\u001b[0m Run kjqk4cb4 errored:\n",
      "\u001b[34m\u001b[1mwandb\u001b[0m: \u001b[32m\u001b[41mERROR\u001b[0m Traceback (most recent call last):\n",
      "\u001b[34m\u001b[1mwandb\u001b[0m: \u001b[32m\u001b[41mERROR\u001b[0m   File \"C:\\anaconda3\\envs\\jupyterenv\\lib\\site-packages\\wandb\\agents\\pyagent.py\", line 307, in _run_job\n",
      "\u001b[34m\u001b[1mwandb\u001b[0m: \u001b[32m\u001b[41mERROR\u001b[0m     self._function()\n",
      "\u001b[34m\u001b[1mwandb\u001b[0m: \u001b[32m\u001b[41mERROR\u001b[0m   File \"C:\\Users\\Addisu\\AppData\\Local\\Temp\\ipykernel_74596\\2644847777.py\", line 221, in sweep_train\n",
      "\u001b[34m\u001b[1mwandb\u001b[0m: \u001b[32m\u001b[41mERROR\u001b[0m     train(model,\n",
      "\u001b[34m\u001b[1mwandb\u001b[0m: \u001b[32m\u001b[41mERROR\u001b[0m   File \"C:\\Users\\Addisu\\AppData\\Local\\Temp\\ipykernel_74596\\2644847777.py\", line 151, in train\n",
      "\u001b[34m\u001b[1mwandb\u001b[0m: \u001b[32m\u001b[41mERROR\u001b[0m     model.fit(X_train,\n",
      "\u001b[34m\u001b[1mwandb\u001b[0m: \u001b[32m\u001b[41mERROR\u001b[0m   File \"C:\\anaconda3\\envs\\jupyterenv\\lib\\site-packages\\keras\\src\\utils\\traceback_utils.py\", line 70, in error_handler\n",
      "\u001b[34m\u001b[1mwandb\u001b[0m: \u001b[32m\u001b[41mERROR\u001b[0m     raise e.with_traceback(filtered_tb) from None\n",
      "\u001b[34m\u001b[1mwandb\u001b[0m: \u001b[32m\u001b[41mERROR\u001b[0m   File \"C:\\anaconda3\\envs\\jupyterenv\\lib\\site-packages\\wandb\\integration\\keras\\keras.py\", line 656, in on_train_batch_end\n",
      "\u001b[34m\u001b[1mwandb\u001b[0m: \u001b[32m\u001b[41mERROR\u001b[0m     wandb.run.summary[\"graph\"] = wandb.Graph.from_keras(self.model)\n",
      "\u001b[34m\u001b[1mwandb\u001b[0m: \u001b[32m\u001b[41mERROR\u001b[0m   File \"C:\\anaconda3\\envs\\jupyterenv\\lib\\site-packages\\wandb\\sdk\\wandb_summary.py\", line 52, in __setitem__\n",
      "\u001b[34m\u001b[1mwandb\u001b[0m: \u001b[32m\u001b[41mERROR\u001b[0m     self.update({key: val})\n",
      "\u001b[34m\u001b[1mwandb\u001b[0m: \u001b[32m\u001b[41mERROR\u001b[0m   File \"C:\\anaconda3\\envs\\jupyterenv\\lib\\site-packages\\wandb\\sdk\\wandb_summary.py\", line 74, in update\n",
      "\u001b[34m\u001b[1mwandb\u001b[0m: \u001b[32m\u001b[41mERROR\u001b[0m     self._update(record)\n",
      "\u001b[34m\u001b[1mwandb\u001b[0m: \u001b[32m\u001b[41mERROR\u001b[0m   File \"C:\\anaconda3\\envs\\jupyterenv\\lib\\site-packages\\wandb\\sdk\\wandb_summary.py\", line 128, in _update\n",
      "\u001b[34m\u001b[1mwandb\u001b[0m: \u001b[32m\u001b[41mERROR\u001b[0m     self._update_callback(record)\n",
      "\u001b[34m\u001b[1mwandb\u001b[0m: \u001b[32m\u001b[41mERROR\u001b[0m   File \"C:\\anaconda3\\envs\\jupyterenv\\lib\\site-packages\\wandb\\sdk\\wandb_run.py\", line 400, in wrapper_fn\n",
      "\u001b[34m\u001b[1mwandb\u001b[0m: \u001b[32m\u001b[41mERROR\u001b[0m     return func(self, *args, **kwargs)\n",
      "\u001b[34m\u001b[1mwandb\u001b[0m: \u001b[32m\u001b[41mERROR\u001b[0m   File \"C:\\anaconda3\\envs\\jupyterenv\\lib\\site-packages\\wandb\\sdk\\wandb_run.py\", line 1424, in _summary_update_callback\n",
      "\u001b[34m\u001b[1mwandb\u001b[0m: \u001b[32m\u001b[41mERROR\u001b[0m     self._backend.interface.publish_summary(summary_record)\n",
      "\u001b[34m\u001b[1mwandb\u001b[0m: \u001b[32m\u001b[41mERROR\u001b[0m   File \"C:\\anaconda3\\envs\\jupyterenv\\lib\\site-packages\\wandb\\sdk\\interface\\interface.py\", line 270, in publish_summary\n",
      "\u001b[34m\u001b[1mwandb\u001b[0m: \u001b[32m\u001b[41mERROR\u001b[0m     pb_summary_record = self._make_summary(summary_record)\n",
      "\u001b[34m\u001b[1mwandb\u001b[0m: \u001b[32m\u001b[41mERROR\u001b[0m   File \"C:\\anaconda3\\envs\\jupyterenv\\lib\\site-packages\\wandb\\sdk\\interface\\interface.py\", line 248, in _make_summary\n",
      "\u001b[34m\u001b[1mwandb\u001b[0m: \u001b[32m\u001b[41mERROR\u001b[0m     json_value = self._summary_encode(item.value, path_from_root)\n",
      "\u001b[34m\u001b[1mwandb\u001b[0m: \u001b[32m\u001b[41mERROR\u001b[0m   File \"C:\\anaconda3\\envs\\jupyterenv\\lib\\site-packages\\wandb\\sdk\\interface\\interface.py\", line 221, in _summary_encode\n",
      "\u001b[34m\u001b[1mwandb\u001b[0m: \u001b[32m\u001b[41mERROR\u001b[0m     val_to_json(self._run, path_from_root, value, namespace=\"summary\")\n",
      "\u001b[34m\u001b[1mwandb\u001b[0m: \u001b[32m\u001b[41mERROR\u001b[0m   File \"C:\\anaconda3\\envs\\jupyterenv\\lib\\site-packages\\wandb\\sdk\\data_types\\utils.py\", line 164, in val_to_json\n",
      "\u001b[34m\u001b[1mwandb\u001b[0m: \u001b[32m\u001b[41mERROR\u001b[0m     val.bind_to_run(run, key, namespace)\n",
      "\u001b[34m\u001b[1mwandb\u001b[0m: \u001b[32m\u001b[41mERROR\u001b[0m   File \"C:\\anaconda3\\envs\\jupyterenv\\lib\\site-packages\\wandb\\data_types.py\", line 1377, in bind_to_run\n",
      "\u001b[34m\u001b[1mwandb\u001b[0m: \u001b[32m\u001b[41mERROR\u001b[0m     with codecs.open(tmp_path, \"w\", encoding=\"utf-8\") as fp:\n",
      "\u001b[34m\u001b[1mwandb\u001b[0m: \u001b[32m\u001b[41mERROR\u001b[0m   File \"C:\\anaconda3\\envs\\jupyterenv\\lib\\codecs.py\", line 906, in open\n",
      "\u001b[34m\u001b[1mwandb\u001b[0m: \u001b[32m\u001b[41mERROR\u001b[0m     file = builtins.open(filename, mode, buffering)\n",
      "\u001b[34m\u001b[1mwandb\u001b[0m: \u001b[32m\u001b[41mERROR\u001b[0m FileNotFoundError: [Errno 2] No such file or directory: 'C:\\\\Users\\\\Addisu\\\\AppData\\\\Local\\\\Temp\\\\tmpbie7lvyxwandb-media\\\\kw5tfpi2.graph.json'\n",
      "\u001b[34m\u001b[1mwandb\u001b[0m: \u001b[32m\u001b[41mERROR\u001b[0m \n",
      "\u001b[34m\u001b[1mwandb\u001b[0m: Agent Starting Run: btjx0nip with config:\n",
      "\u001b[34m\u001b[1mwandb\u001b[0m: \tbatch_size: 104\n",
      "\u001b[34m\u001b[1mwandb\u001b[0m: \tdense_activation: relu\n",
      "\u001b[34m\u001b[1mwandb\u001b[0m: \tdropout: 0.3\n",
      "\u001b[34m\u001b[1mwandb\u001b[0m: \tepochs: 1\n",
      "\u001b[34m\u001b[1mwandb\u001b[0m: \tlearning_rate: 0.008274404645625733\n",
      "\u001b[34m\u001b[1mwandb\u001b[0m: \toptimizer: sgd\n"
     ]
    },
    {
     "data": {
      "text/html": [
       "Tracking run with wandb version 0.17.0"
      ],
      "text/plain": [
       "<IPython.core.display.HTML object>"
      ]
     },
     "metadata": {},
     "output_type": "display_data"
    },
    {
     "data": {
      "text/html": [
       "Run data is saved locally in <code>C:\\Users\\Addisu\\Desktop\\kidi files\\Python workshop with ellen\\wandb\\run-20240621_155251-btjx0nip</code>"
      ],
      "text/plain": [
       "<IPython.core.display.HTML object>"
      ]
     },
     "metadata": {},
     "output_type": "display_data"
    },
    {
     "data": {
      "text/html": [
       "Syncing run <strong><a href='https://wandb.ai/evapppp/sweeps-keras/runs/btjx0nip' target=\"_blank\">quiet-sweep-43</a></strong> to <a href='https://wandb.ai/evapppp/sweeps-keras' target=\"_blank\">Weights & Biases</a> (<a href='https://wandb.me/run' target=\"_blank\">docs</a>)<br/>Sweep page: <a href='https://wandb.ai/evapppp/sweeps-keras/sweeps/qu378scj' target=\"_blank\">https://wandb.ai/evapppp/sweeps-keras/sweeps/qu378scj</a>"
      ],
      "text/plain": [
       "<IPython.core.display.HTML object>"
      ]
     },
     "metadata": {},
     "output_type": "display_data"
    },
    {
     "data": {
      "text/html": [
       " View project at <a href='https://wandb.ai/evapppp/sweeps-keras' target=\"_blank\">https://wandb.ai/evapppp/sweeps-keras</a>"
      ],
      "text/plain": [
       "<IPython.core.display.HTML object>"
      ]
     },
     "metadata": {},
     "output_type": "display_data"
    },
    {
     "data": {
      "text/html": [
       " View sweep at <a href='https://wandb.ai/evapppp/sweeps-keras/sweeps/qu378scj' target=\"_blank\">https://wandb.ai/evapppp/sweeps-keras/sweeps/qu378scj</a>"
      ],
      "text/plain": [
       "<IPython.core.display.HTML object>"
      ]
     },
     "metadata": {},
     "output_type": "display_data"
    },
    {
     "data": {
      "text/html": [
       " View run at <a href='https://wandb.ai/evapppp/sweeps-keras/runs/btjx0nip' target=\"_blank\">https://wandb.ai/evapppp/sweeps-keras/runs/btjx0nip</a>"
      ],
      "text/plain": [
       "<IPython.core.display.HTML object>"
      ]
     },
     "metadata": {},
     "output_type": "display_data"
    },
    {
     "name": "stderr",
     "output_type": "stream",
     "text": [
      "Traceback (most recent call last):\n",
      "  File \"C:\\Users\\Addisu\\AppData\\Local\\Temp\\ipykernel_74596\\2644847777.py\", line 221, in sweep_train\n",
      "    train(model,\n",
      "  File \"C:\\Users\\Addisu\\AppData\\Local\\Temp\\ipykernel_74596\\2644847777.py\", line 151, in train\n",
      "    model.fit(X_train,\n",
      "  File \"C:\\anaconda3\\envs\\jupyterenv\\lib\\site-packages\\keras\\src\\utils\\traceback_utils.py\", line 70, in error_handler\n",
      "    raise e.with_traceback(filtered_tb) from None\n",
      "  File \"C:\\anaconda3\\envs\\jupyterenv\\lib\\site-packages\\wandb\\integration\\keras\\keras.py\", line 656, in on_train_batch_end\n",
      "    wandb.run.summary[\"graph\"] = wandb.Graph.from_keras(self.model)\n",
      "  File \"C:\\anaconda3\\envs\\jupyterenv\\lib\\site-packages\\wandb\\sdk\\wandb_summary.py\", line 52, in __setitem__\n",
      "    self.update({key: val})\n",
      "  File \"C:\\anaconda3\\envs\\jupyterenv\\lib\\site-packages\\wandb\\sdk\\wandb_summary.py\", line 74, in update\n",
      "    self._update(record)\n",
      "  File \"C:\\anaconda3\\envs\\jupyterenv\\lib\\site-packages\\wandb\\sdk\\wandb_summary.py\", line 128, in _update\n",
      "    self._update_callback(record)\n",
      "  File \"C:\\anaconda3\\envs\\jupyterenv\\lib\\site-packages\\wandb\\sdk\\wandb_run.py\", line 400, in wrapper_fn\n",
      "    return func(self, *args, **kwargs)\n",
      "  File \"C:\\anaconda3\\envs\\jupyterenv\\lib\\site-packages\\wandb\\sdk\\wandb_run.py\", line 1424, in _summary_update_callback\n",
      "    self._backend.interface.publish_summary(summary_record)\n",
      "  File \"C:\\anaconda3\\envs\\jupyterenv\\lib\\site-packages\\wandb\\sdk\\interface\\interface.py\", line 270, in publish_summary\n",
      "    pb_summary_record = self._make_summary(summary_record)\n",
      "  File \"C:\\anaconda3\\envs\\jupyterenv\\lib\\site-packages\\wandb\\sdk\\interface\\interface.py\", line 248, in _make_summary\n",
      "    json_value = self._summary_encode(item.value, path_from_root)\n",
      "  File \"C:\\anaconda3\\envs\\jupyterenv\\lib\\site-packages\\wandb\\sdk\\interface\\interface.py\", line 221, in _summary_encode\n",
      "    val_to_json(self._run, path_from_root, value, namespace=\"summary\")\n",
      "  File \"C:\\anaconda3\\envs\\jupyterenv\\lib\\site-packages\\wandb\\sdk\\data_types\\utils.py\", line 164, in val_to_json\n",
      "    val.bind_to_run(run, key, namespace)\n",
      "  File \"C:\\anaconda3\\envs\\jupyterenv\\lib\\site-packages\\wandb\\data_types.py\", line 1377, in bind_to_run\n",
      "    with codecs.open(tmp_path, \"w\", encoding=\"utf-8\") as fp:\n",
      "  File \"C:\\anaconda3\\envs\\jupyterenv\\lib\\codecs.py\", line 906, in open\n",
      "    file = builtins.open(filename, mode, buffering)\n",
      "FileNotFoundError: [Errno 2] No such file or directory: 'C:\\\\Users\\\\Addisu\\\\AppData\\\\Local\\\\Temp\\\\tmpbie7lvyxwandb-media\\\\xqdpgljl.graph.json'\n"
     ]
    },
    {
     "data": {
      "text/html": [
       " View run <strong style=\"color:#cdcd00\">quiet-sweep-43</strong> at: <a href='https://wandb.ai/evapppp/sweeps-keras/runs/btjx0nip' target=\"_blank\">https://wandb.ai/evapppp/sweeps-keras/runs/btjx0nip</a><br/> View project at: <a href='https://wandb.ai/evapppp/sweeps-keras' target=\"_blank\">https://wandb.ai/evapppp/sweeps-keras</a><br/>Synced 5 W&B file(s), 0 media file(s), 0 artifact file(s) and 0 other file(s)"
      ],
      "text/plain": [
       "<IPython.core.display.HTML object>"
      ]
     },
     "metadata": {},
     "output_type": "display_data"
    },
    {
     "data": {
      "text/html": [
       "Find logs at: <code>.\\wandb\\run-20240621_155251-btjx0nip\\logs</code>"
      ],
      "text/plain": [
       "<IPython.core.display.HTML object>"
      ]
     },
     "metadata": {},
     "output_type": "display_data"
    },
    {
     "name": "stderr",
     "output_type": "stream",
     "text": [
      "Run btjx0nip errored:\n",
      "Traceback (most recent call last):\n",
      "  File \"C:\\anaconda3\\envs\\jupyterenv\\lib\\site-packages\\wandb\\agents\\pyagent.py\", line 307, in _run_job\n",
      "    self._function()\n",
      "  File \"C:\\Users\\Addisu\\AppData\\Local\\Temp\\ipykernel_74596\\2644847777.py\", line 221, in sweep_train\n",
      "    train(model,\n",
      "  File \"C:\\Users\\Addisu\\AppData\\Local\\Temp\\ipykernel_74596\\2644847777.py\", line 151, in train\n",
      "    model.fit(X_train,\n",
      "  File \"C:\\anaconda3\\envs\\jupyterenv\\lib\\site-packages\\keras\\src\\utils\\traceback_utils.py\", line 70, in error_handler\n",
      "    raise e.with_traceback(filtered_tb) from None\n",
      "  File \"C:\\anaconda3\\envs\\jupyterenv\\lib\\site-packages\\wandb\\integration\\keras\\keras.py\", line 656, in on_train_batch_end\n",
      "    wandb.run.summary[\"graph\"] = wandb.Graph.from_keras(self.model)\n",
      "  File \"C:\\anaconda3\\envs\\jupyterenv\\lib\\site-packages\\wandb\\sdk\\wandb_summary.py\", line 52, in __setitem__\n",
      "    self.update({key: val})\n",
      "  File \"C:\\anaconda3\\envs\\jupyterenv\\lib\\site-packages\\wandb\\sdk\\wandb_summary.py\", line 74, in update\n",
      "    self._update(record)\n",
      "  File \"C:\\anaconda3\\envs\\jupyterenv\\lib\\site-packages\\wandb\\sdk\\wandb_summary.py\", line 128, in _update\n",
      "    self._update_callback(record)\n",
      "  File \"C:\\anaconda3\\envs\\jupyterenv\\lib\\site-packages\\wandb\\sdk\\wandb_run.py\", line 400, in wrapper_fn\n",
      "    return func(self, *args, **kwargs)\n",
      "  File \"C:\\anaconda3\\envs\\jupyterenv\\lib\\site-packages\\wandb\\sdk\\wandb_run.py\", line 1424, in _summary_update_callback\n",
      "    self._backend.interface.publish_summary(summary_record)\n",
      "  File \"C:\\anaconda3\\envs\\jupyterenv\\lib\\site-packages\\wandb\\sdk\\interface\\interface.py\", line 270, in publish_summary\n",
      "    pb_summary_record = self._make_summary(summary_record)\n",
      "  File \"C:\\anaconda3\\envs\\jupyterenv\\lib\\site-packages\\wandb\\sdk\\interface\\interface.py\", line 248, in _make_summary\n",
      "    json_value = self._summary_encode(item.value, path_from_root)\n",
      "  File \"C:\\anaconda3\\envs\\jupyterenv\\lib\\site-packages\\wandb\\sdk\\interface\\interface.py\", line 221, in _summary_encode\n",
      "    val_to_json(self._run, path_from_root, value, namespace=\"summary\")\n",
      "  File \"C:\\anaconda3\\envs\\jupyterenv\\lib\\site-packages\\wandb\\sdk\\data_types\\utils.py\", line 164, in val_to_json\n",
      "    val.bind_to_run(run, key, namespace)\n",
      "  File \"C:\\anaconda3\\envs\\jupyterenv\\lib\\site-packages\\wandb\\data_types.py\", line 1377, in bind_to_run\n",
      "    with codecs.open(tmp_path, \"w\", encoding=\"utf-8\") as fp:\n",
      "  File \"C:\\anaconda3\\envs\\jupyterenv\\lib\\codecs.py\", line 906, in open\n",
      "    file = builtins.open(filename, mode, buffering)\n",
      "FileNotFoundError: [Errno 2] No such file or directory: 'C:\\\\Users\\\\Addisu\\\\AppData\\\\Local\\\\Temp\\\\tmpbie7lvyxwandb-media\\\\xqdpgljl.graph.json'\n",
      "\n",
      "\u001b[34m\u001b[1mwandb\u001b[0m: \u001b[32m\u001b[41mERROR\u001b[0m Run btjx0nip errored:\n",
      "\u001b[34m\u001b[1mwandb\u001b[0m: \u001b[32m\u001b[41mERROR\u001b[0m Traceback (most recent call last):\n",
      "\u001b[34m\u001b[1mwandb\u001b[0m: \u001b[32m\u001b[41mERROR\u001b[0m   File \"C:\\anaconda3\\envs\\jupyterenv\\lib\\site-packages\\wandb\\agents\\pyagent.py\", line 307, in _run_job\n",
      "\u001b[34m\u001b[1mwandb\u001b[0m: \u001b[32m\u001b[41mERROR\u001b[0m     self._function()\n",
      "\u001b[34m\u001b[1mwandb\u001b[0m: \u001b[32m\u001b[41mERROR\u001b[0m   File \"C:\\Users\\Addisu\\AppData\\Local\\Temp\\ipykernel_74596\\2644847777.py\", line 221, in sweep_train\n",
      "\u001b[34m\u001b[1mwandb\u001b[0m: \u001b[32m\u001b[41mERROR\u001b[0m     train(model,\n",
      "\u001b[34m\u001b[1mwandb\u001b[0m: \u001b[32m\u001b[41mERROR\u001b[0m   File \"C:\\Users\\Addisu\\AppData\\Local\\Temp\\ipykernel_74596\\2644847777.py\", line 151, in train\n",
      "\u001b[34m\u001b[1mwandb\u001b[0m: \u001b[32m\u001b[41mERROR\u001b[0m     model.fit(X_train,\n",
      "\u001b[34m\u001b[1mwandb\u001b[0m: \u001b[32m\u001b[41mERROR\u001b[0m   File \"C:\\anaconda3\\envs\\jupyterenv\\lib\\site-packages\\keras\\src\\utils\\traceback_utils.py\", line 70, in error_handler\n",
      "\u001b[34m\u001b[1mwandb\u001b[0m: \u001b[32m\u001b[41mERROR\u001b[0m     raise e.with_traceback(filtered_tb) from None\n",
      "\u001b[34m\u001b[1mwandb\u001b[0m: \u001b[32m\u001b[41mERROR\u001b[0m   File \"C:\\anaconda3\\envs\\jupyterenv\\lib\\site-packages\\wandb\\integration\\keras\\keras.py\", line 656, in on_train_batch_end\n",
      "\u001b[34m\u001b[1mwandb\u001b[0m: \u001b[32m\u001b[41mERROR\u001b[0m     wandb.run.summary[\"graph\"] = wandb.Graph.from_keras(self.model)\n",
      "\u001b[34m\u001b[1mwandb\u001b[0m: \u001b[32m\u001b[41mERROR\u001b[0m   File \"C:\\anaconda3\\envs\\jupyterenv\\lib\\site-packages\\wandb\\sdk\\wandb_summary.py\", line 52, in __setitem__\n",
      "\u001b[34m\u001b[1mwandb\u001b[0m: \u001b[32m\u001b[41mERROR\u001b[0m     self.update({key: val})\n",
      "\u001b[34m\u001b[1mwandb\u001b[0m: \u001b[32m\u001b[41mERROR\u001b[0m   File \"C:\\anaconda3\\envs\\jupyterenv\\lib\\site-packages\\wandb\\sdk\\wandb_summary.py\", line 74, in update\n",
      "\u001b[34m\u001b[1mwandb\u001b[0m: \u001b[32m\u001b[41mERROR\u001b[0m     self._update(record)\n",
      "\u001b[34m\u001b[1mwandb\u001b[0m: \u001b[32m\u001b[41mERROR\u001b[0m   File \"C:\\anaconda3\\envs\\jupyterenv\\lib\\site-packages\\wandb\\sdk\\wandb_summary.py\", line 128, in _update\n",
      "\u001b[34m\u001b[1mwandb\u001b[0m: \u001b[32m\u001b[41mERROR\u001b[0m     self._update_callback(record)\n",
      "\u001b[34m\u001b[1mwandb\u001b[0m: \u001b[32m\u001b[41mERROR\u001b[0m   File \"C:\\anaconda3\\envs\\jupyterenv\\lib\\site-packages\\wandb\\sdk\\wandb_run.py\", line 400, in wrapper_fn\n",
      "\u001b[34m\u001b[1mwandb\u001b[0m: \u001b[32m\u001b[41mERROR\u001b[0m     return func(self, *args, **kwargs)\n",
      "\u001b[34m\u001b[1mwandb\u001b[0m: \u001b[32m\u001b[41mERROR\u001b[0m   File \"C:\\anaconda3\\envs\\jupyterenv\\lib\\site-packages\\wandb\\sdk\\wandb_run.py\", line 1424, in _summary_update_callback\n",
      "\u001b[34m\u001b[1mwandb\u001b[0m: \u001b[32m\u001b[41mERROR\u001b[0m     self._backend.interface.publish_summary(summary_record)\n",
      "\u001b[34m\u001b[1mwandb\u001b[0m: \u001b[32m\u001b[41mERROR\u001b[0m   File \"C:\\anaconda3\\envs\\jupyterenv\\lib\\site-packages\\wandb\\sdk\\interface\\interface.py\", line 270, in publish_summary\n",
      "\u001b[34m\u001b[1mwandb\u001b[0m: \u001b[32m\u001b[41mERROR\u001b[0m     pb_summary_record = self._make_summary(summary_record)\n",
      "\u001b[34m\u001b[1mwandb\u001b[0m: \u001b[32m\u001b[41mERROR\u001b[0m   File \"C:\\anaconda3\\envs\\jupyterenv\\lib\\site-packages\\wandb\\sdk\\interface\\interface.py\", line 248, in _make_summary\n",
      "\u001b[34m\u001b[1mwandb\u001b[0m: \u001b[32m\u001b[41mERROR\u001b[0m     json_value = self._summary_encode(item.value, path_from_root)\n",
      "\u001b[34m\u001b[1mwandb\u001b[0m: \u001b[32m\u001b[41mERROR\u001b[0m   File \"C:\\anaconda3\\envs\\jupyterenv\\lib\\site-packages\\wandb\\sdk\\interface\\interface.py\", line 221, in _summary_encode\n",
      "\u001b[34m\u001b[1mwandb\u001b[0m: \u001b[32m\u001b[41mERROR\u001b[0m     val_to_json(self._run, path_from_root, value, namespace=\"summary\")\n",
      "\u001b[34m\u001b[1mwandb\u001b[0m: \u001b[32m\u001b[41mERROR\u001b[0m   File \"C:\\anaconda3\\envs\\jupyterenv\\lib\\site-packages\\wandb\\sdk\\data_types\\utils.py\", line 164, in val_to_json\n",
      "\u001b[34m\u001b[1mwandb\u001b[0m: \u001b[32m\u001b[41mERROR\u001b[0m     val.bind_to_run(run, key, namespace)\n",
      "\u001b[34m\u001b[1mwandb\u001b[0m: \u001b[32m\u001b[41mERROR\u001b[0m   File \"C:\\anaconda3\\envs\\jupyterenv\\lib\\site-packages\\wandb\\data_types.py\", line 1377, in bind_to_run\n",
      "\u001b[34m\u001b[1mwandb\u001b[0m: \u001b[32m\u001b[41mERROR\u001b[0m     with codecs.open(tmp_path, \"w\", encoding=\"utf-8\") as fp:\n",
      "\u001b[34m\u001b[1mwandb\u001b[0m: \u001b[32m\u001b[41mERROR\u001b[0m   File \"C:\\anaconda3\\envs\\jupyterenv\\lib\\codecs.py\", line 906, in open\n",
      "\u001b[34m\u001b[1mwandb\u001b[0m: \u001b[32m\u001b[41mERROR\u001b[0m     file = builtins.open(filename, mode, buffering)\n",
      "\u001b[34m\u001b[1mwandb\u001b[0m: \u001b[32m\u001b[41mERROR\u001b[0m FileNotFoundError: [Errno 2] No such file or directory: 'C:\\\\Users\\\\Addisu\\\\AppData\\\\Local\\\\Temp\\\\tmpbie7lvyxwandb-media\\\\xqdpgljl.graph.json'\n",
      "\u001b[34m\u001b[1mwandb\u001b[0m: \u001b[32m\u001b[41mERROR\u001b[0m \n",
      "\u001b[34m\u001b[1mwandb\u001b[0m: Agent Starting Run: ivmkoqes with config:\n",
      "\u001b[34m\u001b[1mwandb\u001b[0m: \tbatch_size: 40\n",
      "\u001b[34m\u001b[1mwandb\u001b[0m: \tdense_activation: relu\n",
      "\u001b[34m\u001b[1mwandb\u001b[0m: \tdropout: 0.2\n",
      "\u001b[34m\u001b[1mwandb\u001b[0m: \tepochs: 1\n",
      "\u001b[34m\u001b[1mwandb\u001b[0m: \tlearning_rate: 0.00014874071450463934\n",
      "\u001b[34m\u001b[1mwandb\u001b[0m: \toptimizer: adam\n"
     ]
    },
    {
     "data": {
      "text/html": [
       "wandb version 0.17.2 is available!  To upgrade, please run:\n",
       " $ pip install wandb --upgrade"
      ],
      "text/plain": [
       "<IPython.core.display.HTML object>"
      ]
     },
     "metadata": {},
     "output_type": "display_data"
    },
    {
     "data": {
      "text/html": [
       "Tracking run with wandb version 0.17.0"
      ],
      "text/plain": [
       "<IPython.core.display.HTML object>"
      ]
     },
     "metadata": {},
     "output_type": "display_data"
    },
    {
     "data": {
      "text/html": [
       "Run data is saved locally in <code>C:\\Users\\Addisu\\Desktop\\kidi files\\Python workshop with ellen\\wandb\\run-20240621_155322-ivmkoqes</code>"
      ],
      "text/plain": [
       "<IPython.core.display.HTML object>"
      ]
     },
     "metadata": {},
     "output_type": "display_data"
    },
    {
     "data": {
      "text/html": [
       "Syncing run <strong><a href='https://wandb.ai/evapppp/sweeps-keras/runs/ivmkoqes' target=\"_blank\">laced-sweep-44</a></strong> to <a href='https://wandb.ai/evapppp/sweeps-keras' target=\"_blank\">Weights & Biases</a> (<a href='https://wandb.me/run' target=\"_blank\">docs</a>)<br/>Sweep page: <a href='https://wandb.ai/evapppp/sweeps-keras/sweeps/qu378scj' target=\"_blank\">https://wandb.ai/evapppp/sweeps-keras/sweeps/qu378scj</a>"
      ],
      "text/plain": [
       "<IPython.core.display.HTML object>"
      ]
     },
     "metadata": {},
     "output_type": "display_data"
    },
    {
     "data": {
      "text/html": [
       " View project at <a href='https://wandb.ai/evapppp/sweeps-keras' target=\"_blank\">https://wandb.ai/evapppp/sweeps-keras</a>"
      ],
      "text/plain": [
       "<IPython.core.display.HTML object>"
      ]
     },
     "metadata": {},
     "output_type": "display_data"
    },
    {
     "data": {
      "text/html": [
       " View sweep at <a href='https://wandb.ai/evapppp/sweeps-keras/sweeps/qu378scj' target=\"_blank\">https://wandb.ai/evapppp/sweeps-keras/sweeps/qu378scj</a>"
      ],
      "text/plain": [
       "<IPython.core.display.HTML object>"
      ]
     },
     "metadata": {},
     "output_type": "display_data"
    },
    {
     "data": {
      "text/html": [
       " View run at <a href='https://wandb.ai/evapppp/sweeps-keras/runs/ivmkoqes' target=\"_blank\">https://wandb.ai/evapppp/sweeps-keras/runs/ivmkoqes</a>"
      ],
      "text/plain": [
       "<IPython.core.display.HTML object>"
      ]
     },
     "metadata": {},
     "output_type": "display_data"
    },
    {
     "name": "stderr",
     "output_type": "stream",
     "text": [
      "Traceback (most recent call last):\n",
      "  File \"C:\\Users\\Addisu\\AppData\\Local\\Temp\\ipykernel_74596\\2644847777.py\", line 221, in sweep_train\n",
      "    train(model,\n",
      "  File \"C:\\Users\\Addisu\\AppData\\Local\\Temp\\ipykernel_74596\\2644847777.py\", line 151, in train\n",
      "    model.fit(X_train,\n",
      "  File \"C:\\anaconda3\\envs\\jupyterenv\\lib\\site-packages\\keras\\src\\utils\\traceback_utils.py\", line 70, in error_handler\n",
      "    raise e.with_traceback(filtered_tb) from None\n",
      "  File \"C:\\anaconda3\\envs\\jupyterenv\\lib\\site-packages\\wandb\\integration\\keras\\keras.py\", line 656, in on_train_batch_end\n",
      "    wandb.run.summary[\"graph\"] = wandb.Graph.from_keras(self.model)\n",
      "  File \"C:\\anaconda3\\envs\\jupyterenv\\lib\\site-packages\\wandb\\sdk\\wandb_summary.py\", line 52, in __setitem__\n",
      "    self.update({key: val})\n",
      "  File \"C:\\anaconda3\\envs\\jupyterenv\\lib\\site-packages\\wandb\\sdk\\wandb_summary.py\", line 74, in update\n",
      "    self._update(record)\n",
      "  File \"C:\\anaconda3\\envs\\jupyterenv\\lib\\site-packages\\wandb\\sdk\\wandb_summary.py\", line 128, in _update\n",
      "    self._update_callback(record)\n",
      "  File \"C:\\anaconda3\\envs\\jupyterenv\\lib\\site-packages\\wandb\\sdk\\wandb_run.py\", line 400, in wrapper_fn\n",
      "    return func(self, *args, **kwargs)\n",
      "  File \"C:\\anaconda3\\envs\\jupyterenv\\lib\\site-packages\\wandb\\sdk\\wandb_run.py\", line 1424, in _summary_update_callback\n",
      "    self._backend.interface.publish_summary(summary_record)\n",
      "  File \"C:\\anaconda3\\envs\\jupyterenv\\lib\\site-packages\\wandb\\sdk\\interface\\interface.py\", line 270, in publish_summary\n",
      "    pb_summary_record = self._make_summary(summary_record)\n",
      "  File \"C:\\anaconda3\\envs\\jupyterenv\\lib\\site-packages\\wandb\\sdk\\interface\\interface.py\", line 248, in _make_summary\n",
      "    json_value = self._summary_encode(item.value, path_from_root)\n",
      "  File \"C:\\anaconda3\\envs\\jupyterenv\\lib\\site-packages\\wandb\\sdk\\interface\\interface.py\", line 221, in _summary_encode\n",
      "    val_to_json(self._run, path_from_root, value, namespace=\"summary\")\n",
      "  File \"C:\\anaconda3\\envs\\jupyterenv\\lib\\site-packages\\wandb\\sdk\\data_types\\utils.py\", line 164, in val_to_json\n",
      "    val.bind_to_run(run, key, namespace)\n",
      "  File \"C:\\anaconda3\\envs\\jupyterenv\\lib\\site-packages\\wandb\\data_types.py\", line 1377, in bind_to_run\n",
      "    with codecs.open(tmp_path, \"w\", encoding=\"utf-8\") as fp:\n",
      "  File \"C:\\anaconda3\\envs\\jupyterenv\\lib\\codecs.py\", line 906, in open\n",
      "    file = builtins.open(filename, mode, buffering)\n",
      "FileNotFoundError: [Errno 2] No such file or directory: 'C:\\\\Users\\\\Addisu\\\\AppData\\\\Local\\\\Temp\\\\tmpbie7lvyxwandb-media\\\\unkrsp7x.graph.json'\n"
     ]
    },
    {
     "data": {
      "text/html": [
       " View run <strong style=\"color:#cdcd00\">laced-sweep-44</strong> at: <a href='https://wandb.ai/evapppp/sweeps-keras/runs/ivmkoqes' target=\"_blank\">https://wandb.ai/evapppp/sweeps-keras/runs/ivmkoqes</a><br/> View project at: <a href='https://wandb.ai/evapppp/sweeps-keras' target=\"_blank\">https://wandb.ai/evapppp/sweeps-keras</a><br/>Synced 5 W&B file(s), 0 media file(s), 0 artifact file(s) and 0 other file(s)"
      ],
      "text/plain": [
       "<IPython.core.display.HTML object>"
      ]
     },
     "metadata": {},
     "output_type": "display_data"
    },
    {
     "data": {
      "text/html": [
       "Find logs at: <code>.\\wandb\\run-20240621_155322-ivmkoqes\\logs</code>"
      ],
      "text/plain": [
       "<IPython.core.display.HTML object>"
      ]
     },
     "metadata": {},
     "output_type": "display_data"
    },
    {
     "name": "stderr",
     "output_type": "stream",
     "text": [
      "Run ivmkoqes errored:\n",
      "Traceback (most recent call last):\n",
      "  File \"C:\\anaconda3\\envs\\jupyterenv\\lib\\site-packages\\wandb\\agents\\pyagent.py\", line 307, in _run_job\n",
      "    self._function()\n",
      "  File \"C:\\Users\\Addisu\\AppData\\Local\\Temp\\ipykernel_74596\\2644847777.py\", line 221, in sweep_train\n",
      "    train(model,\n",
      "  File \"C:\\Users\\Addisu\\AppData\\Local\\Temp\\ipykernel_74596\\2644847777.py\", line 151, in train\n",
      "    model.fit(X_train,\n",
      "  File \"C:\\anaconda3\\envs\\jupyterenv\\lib\\site-packages\\keras\\src\\utils\\traceback_utils.py\", line 70, in error_handler\n",
      "    raise e.with_traceback(filtered_tb) from None\n",
      "  File \"C:\\anaconda3\\envs\\jupyterenv\\lib\\site-packages\\wandb\\integration\\keras\\keras.py\", line 656, in on_train_batch_end\n",
      "    wandb.run.summary[\"graph\"] = wandb.Graph.from_keras(self.model)\n",
      "  File \"C:\\anaconda3\\envs\\jupyterenv\\lib\\site-packages\\wandb\\sdk\\wandb_summary.py\", line 52, in __setitem__\n",
      "    self.update({key: val})\n",
      "  File \"C:\\anaconda3\\envs\\jupyterenv\\lib\\site-packages\\wandb\\sdk\\wandb_summary.py\", line 74, in update\n",
      "    self._update(record)\n",
      "  File \"C:\\anaconda3\\envs\\jupyterenv\\lib\\site-packages\\wandb\\sdk\\wandb_summary.py\", line 128, in _update\n",
      "    self._update_callback(record)\n",
      "  File \"C:\\anaconda3\\envs\\jupyterenv\\lib\\site-packages\\wandb\\sdk\\wandb_run.py\", line 400, in wrapper_fn\n",
      "    return func(self, *args, **kwargs)\n",
      "  File \"C:\\anaconda3\\envs\\jupyterenv\\lib\\site-packages\\wandb\\sdk\\wandb_run.py\", line 1424, in _summary_update_callback\n",
      "    self._backend.interface.publish_summary(summary_record)\n",
      "  File \"C:\\anaconda3\\envs\\jupyterenv\\lib\\site-packages\\wandb\\sdk\\interface\\interface.py\", line 270, in publish_summary\n",
      "    pb_summary_record = self._make_summary(summary_record)\n",
      "  File \"C:\\anaconda3\\envs\\jupyterenv\\lib\\site-packages\\wandb\\sdk\\interface\\interface.py\", line 248, in _make_summary\n",
      "    json_value = self._summary_encode(item.value, path_from_root)\n",
      "  File \"C:\\anaconda3\\envs\\jupyterenv\\lib\\site-packages\\wandb\\sdk\\interface\\interface.py\", line 221, in _summary_encode\n",
      "    val_to_json(self._run, path_from_root, value, namespace=\"summary\")\n",
      "  File \"C:\\anaconda3\\envs\\jupyterenv\\lib\\site-packages\\wandb\\sdk\\data_types\\utils.py\", line 164, in val_to_json\n",
      "    val.bind_to_run(run, key, namespace)\n",
      "  File \"C:\\anaconda3\\envs\\jupyterenv\\lib\\site-packages\\wandb\\data_types.py\", line 1377, in bind_to_run\n",
      "    with codecs.open(tmp_path, \"w\", encoding=\"utf-8\") as fp:\n",
      "  File \"C:\\anaconda3\\envs\\jupyterenv\\lib\\codecs.py\", line 906, in open\n",
      "    file = builtins.open(filename, mode, buffering)\n",
      "FileNotFoundError: [Errno 2] No such file or directory: 'C:\\\\Users\\\\Addisu\\\\AppData\\\\Local\\\\Temp\\\\tmpbie7lvyxwandb-media\\\\unkrsp7x.graph.json'\n",
      "\n",
      "\u001b[34m\u001b[1mwandb\u001b[0m: \u001b[32m\u001b[41mERROR\u001b[0m Run ivmkoqes errored:\n",
      "\u001b[34m\u001b[1mwandb\u001b[0m: \u001b[32m\u001b[41mERROR\u001b[0m Traceback (most recent call last):\n",
      "\u001b[34m\u001b[1mwandb\u001b[0m: \u001b[32m\u001b[41mERROR\u001b[0m   File \"C:\\anaconda3\\envs\\jupyterenv\\lib\\site-packages\\wandb\\agents\\pyagent.py\", line 307, in _run_job\n",
      "\u001b[34m\u001b[1mwandb\u001b[0m: \u001b[32m\u001b[41mERROR\u001b[0m     self._function()\n",
      "\u001b[34m\u001b[1mwandb\u001b[0m: \u001b[32m\u001b[41mERROR\u001b[0m   File \"C:\\Users\\Addisu\\AppData\\Local\\Temp\\ipykernel_74596\\2644847777.py\", line 221, in sweep_train\n",
      "\u001b[34m\u001b[1mwandb\u001b[0m: \u001b[32m\u001b[41mERROR\u001b[0m     train(model,\n",
      "\u001b[34m\u001b[1mwandb\u001b[0m: \u001b[32m\u001b[41mERROR\u001b[0m   File \"C:\\Users\\Addisu\\AppData\\Local\\Temp\\ipykernel_74596\\2644847777.py\", line 151, in train\n",
      "\u001b[34m\u001b[1mwandb\u001b[0m: \u001b[32m\u001b[41mERROR\u001b[0m     model.fit(X_train,\n",
      "\u001b[34m\u001b[1mwandb\u001b[0m: \u001b[32m\u001b[41mERROR\u001b[0m   File \"C:\\anaconda3\\envs\\jupyterenv\\lib\\site-packages\\keras\\src\\utils\\traceback_utils.py\", line 70, in error_handler\n",
      "\u001b[34m\u001b[1mwandb\u001b[0m: \u001b[32m\u001b[41mERROR\u001b[0m     raise e.with_traceback(filtered_tb) from None\n",
      "\u001b[34m\u001b[1mwandb\u001b[0m: \u001b[32m\u001b[41mERROR\u001b[0m   File \"C:\\anaconda3\\envs\\jupyterenv\\lib\\site-packages\\wandb\\integration\\keras\\keras.py\", line 656, in on_train_batch_end\n",
      "\u001b[34m\u001b[1mwandb\u001b[0m: \u001b[32m\u001b[41mERROR\u001b[0m     wandb.run.summary[\"graph\"] = wandb.Graph.from_keras(self.model)\n",
      "\u001b[34m\u001b[1mwandb\u001b[0m: \u001b[32m\u001b[41mERROR\u001b[0m   File \"C:\\anaconda3\\envs\\jupyterenv\\lib\\site-packages\\wandb\\sdk\\wandb_summary.py\", line 52, in __setitem__\n",
      "\u001b[34m\u001b[1mwandb\u001b[0m: \u001b[32m\u001b[41mERROR\u001b[0m     self.update({key: val})\n",
      "\u001b[34m\u001b[1mwandb\u001b[0m: \u001b[32m\u001b[41mERROR\u001b[0m   File \"C:\\anaconda3\\envs\\jupyterenv\\lib\\site-packages\\wandb\\sdk\\wandb_summary.py\", line 74, in update\n",
      "\u001b[34m\u001b[1mwandb\u001b[0m: \u001b[32m\u001b[41mERROR\u001b[0m     self._update(record)\n",
      "\u001b[34m\u001b[1mwandb\u001b[0m: \u001b[32m\u001b[41mERROR\u001b[0m   File \"C:\\anaconda3\\envs\\jupyterenv\\lib\\site-packages\\wandb\\sdk\\wandb_summary.py\", line 128, in _update\n",
      "\u001b[34m\u001b[1mwandb\u001b[0m: \u001b[32m\u001b[41mERROR\u001b[0m     self._update_callback(record)\n",
      "\u001b[34m\u001b[1mwandb\u001b[0m: \u001b[32m\u001b[41mERROR\u001b[0m   File \"C:\\anaconda3\\envs\\jupyterenv\\lib\\site-packages\\wandb\\sdk\\wandb_run.py\", line 400, in wrapper_fn\n",
      "\u001b[34m\u001b[1mwandb\u001b[0m: \u001b[32m\u001b[41mERROR\u001b[0m     return func(self, *args, **kwargs)\n",
      "\u001b[34m\u001b[1mwandb\u001b[0m: \u001b[32m\u001b[41mERROR\u001b[0m   File \"C:\\anaconda3\\envs\\jupyterenv\\lib\\site-packages\\wandb\\sdk\\wandb_run.py\", line 1424, in _summary_update_callback\n",
      "\u001b[34m\u001b[1mwandb\u001b[0m: \u001b[32m\u001b[41mERROR\u001b[0m     self._backend.interface.publish_summary(summary_record)\n",
      "\u001b[34m\u001b[1mwandb\u001b[0m: \u001b[32m\u001b[41mERROR\u001b[0m   File \"C:\\anaconda3\\envs\\jupyterenv\\lib\\site-packages\\wandb\\sdk\\interface\\interface.py\", line 270, in publish_summary\n",
      "\u001b[34m\u001b[1mwandb\u001b[0m: \u001b[32m\u001b[41mERROR\u001b[0m     pb_summary_record = self._make_summary(summary_record)\n",
      "\u001b[34m\u001b[1mwandb\u001b[0m: \u001b[32m\u001b[41mERROR\u001b[0m   File \"C:\\anaconda3\\envs\\jupyterenv\\lib\\site-packages\\wandb\\sdk\\interface\\interface.py\", line 248, in _make_summary\n",
      "\u001b[34m\u001b[1mwandb\u001b[0m: \u001b[32m\u001b[41mERROR\u001b[0m     json_value = self._summary_encode(item.value, path_from_root)\n",
      "\u001b[34m\u001b[1mwandb\u001b[0m: \u001b[32m\u001b[41mERROR\u001b[0m   File \"C:\\anaconda3\\envs\\jupyterenv\\lib\\site-packages\\wandb\\sdk\\interface\\interface.py\", line 221, in _summary_encode\n",
      "\u001b[34m\u001b[1mwandb\u001b[0m: \u001b[32m\u001b[41mERROR\u001b[0m     val_to_json(self._run, path_from_root, value, namespace=\"summary\")\n",
      "\u001b[34m\u001b[1mwandb\u001b[0m: \u001b[32m\u001b[41mERROR\u001b[0m   File \"C:\\anaconda3\\envs\\jupyterenv\\lib\\site-packages\\wandb\\sdk\\data_types\\utils.py\", line 164, in val_to_json\n",
      "\u001b[34m\u001b[1mwandb\u001b[0m: \u001b[32m\u001b[41mERROR\u001b[0m     val.bind_to_run(run, key, namespace)\n",
      "\u001b[34m\u001b[1mwandb\u001b[0m: \u001b[32m\u001b[41mERROR\u001b[0m   File \"C:\\anaconda3\\envs\\jupyterenv\\lib\\site-packages\\wandb\\data_types.py\", line 1377, in bind_to_run\n",
      "\u001b[34m\u001b[1mwandb\u001b[0m: \u001b[32m\u001b[41mERROR\u001b[0m     with codecs.open(tmp_path, \"w\", encoding=\"utf-8\") as fp:\n",
      "\u001b[34m\u001b[1mwandb\u001b[0m: \u001b[32m\u001b[41mERROR\u001b[0m   File \"C:\\anaconda3\\envs\\jupyterenv\\lib\\codecs.py\", line 906, in open\n",
      "\u001b[34m\u001b[1mwandb\u001b[0m: \u001b[32m\u001b[41mERROR\u001b[0m     file = builtins.open(filename, mode, buffering)\n",
      "\u001b[34m\u001b[1mwandb\u001b[0m: \u001b[32m\u001b[41mERROR\u001b[0m FileNotFoundError: [Errno 2] No such file or directory: 'C:\\\\Users\\\\Addisu\\\\AppData\\\\Local\\\\Temp\\\\tmpbie7lvyxwandb-media\\\\unkrsp7x.graph.json'\n",
      "\u001b[34m\u001b[1mwandb\u001b[0m: \u001b[32m\u001b[41mERROR\u001b[0m \n",
      "\u001b[34m\u001b[1mwandb\u001b[0m: Agent Starting Run: 8fr068ns with config:\n",
      "\u001b[34m\u001b[1mwandb\u001b[0m: \tbatch_size: 48\n",
      "\u001b[34m\u001b[1mwandb\u001b[0m: \tdense_activation: relu\n",
      "\u001b[34m\u001b[1mwandb\u001b[0m: \tdropout: 0.2\n",
      "\u001b[34m\u001b[1mwandb\u001b[0m: \tepochs: 1\n",
      "\u001b[34m\u001b[1mwandb\u001b[0m: \tlearning_rate: 0.004682934214140791\n",
      "\u001b[34m\u001b[1mwandb\u001b[0m: \toptimizer: sgd\n"
     ]
    },
    {
     "data": {
      "text/html": [
       "wandb version 0.17.2 is available!  To upgrade, please run:\n",
       " $ pip install wandb --upgrade"
      ],
      "text/plain": [
       "<IPython.core.display.HTML object>"
      ]
     },
     "metadata": {},
     "output_type": "display_data"
    },
    {
     "data": {
      "text/html": [
       "Tracking run with wandb version 0.17.0"
      ],
      "text/plain": [
       "<IPython.core.display.HTML object>"
      ]
     },
     "metadata": {},
     "output_type": "display_data"
    },
    {
     "data": {
      "text/html": [
       "Run data is saved locally in <code>C:\\Users\\Addisu\\Desktop\\kidi files\\Python workshop with ellen\\wandb\\run-20240621_155350-8fr068ns</code>"
      ],
      "text/plain": [
       "<IPython.core.display.HTML object>"
      ]
     },
     "metadata": {},
     "output_type": "display_data"
    },
    {
     "data": {
      "text/html": [
       "Syncing run <strong><a href='https://wandb.ai/evapppp/sweeps-keras/runs/8fr068ns' target=\"_blank\">resilient-sweep-45</a></strong> to <a href='https://wandb.ai/evapppp/sweeps-keras' target=\"_blank\">Weights & Biases</a> (<a href='https://wandb.me/run' target=\"_blank\">docs</a>)<br/>Sweep page: <a href='https://wandb.ai/evapppp/sweeps-keras/sweeps/qu378scj' target=\"_blank\">https://wandb.ai/evapppp/sweeps-keras/sweeps/qu378scj</a>"
      ],
      "text/plain": [
       "<IPython.core.display.HTML object>"
      ]
     },
     "metadata": {},
     "output_type": "display_data"
    },
    {
     "data": {
      "text/html": [
       " View project at <a href='https://wandb.ai/evapppp/sweeps-keras' target=\"_blank\">https://wandb.ai/evapppp/sweeps-keras</a>"
      ],
      "text/plain": [
       "<IPython.core.display.HTML object>"
      ]
     },
     "metadata": {},
     "output_type": "display_data"
    },
    {
     "data": {
      "text/html": [
       " View sweep at <a href='https://wandb.ai/evapppp/sweeps-keras/sweeps/qu378scj' target=\"_blank\">https://wandb.ai/evapppp/sweeps-keras/sweeps/qu378scj</a>"
      ],
      "text/plain": [
       "<IPython.core.display.HTML object>"
      ]
     },
     "metadata": {},
     "output_type": "display_data"
    },
    {
     "data": {
      "text/html": [
       " View run at <a href='https://wandb.ai/evapppp/sweeps-keras/runs/8fr068ns' target=\"_blank\">https://wandb.ai/evapppp/sweeps-keras/runs/8fr068ns</a>"
      ],
      "text/plain": [
       "<IPython.core.display.HTML object>"
      ]
     },
     "metadata": {},
     "output_type": "display_data"
    },
    {
     "name": "stderr",
     "output_type": "stream",
     "text": [
      "Traceback (most recent call last):\n",
      "  File \"C:\\Users\\Addisu\\AppData\\Local\\Temp\\ipykernel_74596\\2644847777.py\", line 221, in sweep_train\n",
      "    train(model,\n",
      "  File \"C:\\Users\\Addisu\\AppData\\Local\\Temp\\ipykernel_74596\\2644847777.py\", line 151, in train\n",
      "    model.fit(X_train,\n",
      "  File \"C:\\anaconda3\\envs\\jupyterenv\\lib\\site-packages\\keras\\src\\utils\\traceback_utils.py\", line 70, in error_handler\n",
      "    raise e.with_traceback(filtered_tb) from None\n",
      "  File \"C:\\anaconda3\\envs\\jupyterenv\\lib\\site-packages\\wandb\\integration\\keras\\keras.py\", line 656, in on_train_batch_end\n",
      "    wandb.run.summary[\"graph\"] = wandb.Graph.from_keras(self.model)\n",
      "  File \"C:\\anaconda3\\envs\\jupyterenv\\lib\\site-packages\\wandb\\sdk\\wandb_summary.py\", line 52, in __setitem__\n",
      "    self.update({key: val})\n",
      "  File \"C:\\anaconda3\\envs\\jupyterenv\\lib\\site-packages\\wandb\\sdk\\wandb_summary.py\", line 74, in update\n",
      "    self._update(record)\n",
      "  File \"C:\\anaconda3\\envs\\jupyterenv\\lib\\site-packages\\wandb\\sdk\\wandb_summary.py\", line 128, in _update\n",
      "    self._update_callback(record)\n",
      "  File \"C:\\anaconda3\\envs\\jupyterenv\\lib\\site-packages\\wandb\\sdk\\wandb_run.py\", line 400, in wrapper_fn\n",
      "    return func(self, *args, **kwargs)\n",
      "  File \"C:\\anaconda3\\envs\\jupyterenv\\lib\\site-packages\\wandb\\sdk\\wandb_run.py\", line 1424, in _summary_update_callback\n",
      "    self._backend.interface.publish_summary(summary_record)\n",
      "  File \"C:\\anaconda3\\envs\\jupyterenv\\lib\\site-packages\\wandb\\sdk\\interface\\interface.py\", line 270, in publish_summary\n",
      "    pb_summary_record = self._make_summary(summary_record)\n",
      "  File \"C:\\anaconda3\\envs\\jupyterenv\\lib\\site-packages\\wandb\\sdk\\interface\\interface.py\", line 248, in _make_summary\n",
      "    json_value = self._summary_encode(item.value, path_from_root)\n",
      "  File \"C:\\anaconda3\\envs\\jupyterenv\\lib\\site-packages\\wandb\\sdk\\interface\\interface.py\", line 221, in _summary_encode\n",
      "    val_to_json(self._run, path_from_root, value, namespace=\"summary\")\n",
      "  File \"C:\\anaconda3\\envs\\jupyterenv\\lib\\site-packages\\wandb\\sdk\\data_types\\utils.py\", line 164, in val_to_json\n",
      "    val.bind_to_run(run, key, namespace)\n",
      "  File \"C:\\anaconda3\\envs\\jupyterenv\\lib\\site-packages\\wandb\\data_types.py\", line 1377, in bind_to_run\n",
      "    with codecs.open(tmp_path, \"w\", encoding=\"utf-8\") as fp:\n",
      "  File \"C:\\anaconda3\\envs\\jupyterenv\\lib\\codecs.py\", line 906, in open\n",
      "    file = builtins.open(filename, mode, buffering)\n",
      "FileNotFoundError: [Errno 2] No such file or directory: 'C:\\\\Users\\\\Addisu\\\\AppData\\\\Local\\\\Temp\\\\tmpbie7lvyxwandb-media\\\\fmuzakzi.graph.json'\n"
     ]
    },
    {
     "data": {
      "text/html": [
       " View run <strong style=\"color:#cdcd00\">resilient-sweep-45</strong> at: <a href='https://wandb.ai/evapppp/sweeps-keras/runs/8fr068ns' target=\"_blank\">https://wandb.ai/evapppp/sweeps-keras/runs/8fr068ns</a><br/> View project at: <a href='https://wandb.ai/evapppp/sweeps-keras' target=\"_blank\">https://wandb.ai/evapppp/sweeps-keras</a><br/>Synced 5 W&B file(s), 0 media file(s), 0 artifact file(s) and 0 other file(s)"
      ],
      "text/plain": [
       "<IPython.core.display.HTML object>"
      ]
     },
     "metadata": {},
     "output_type": "display_data"
    },
    {
     "data": {
      "text/html": [
       "Find logs at: <code>.\\wandb\\run-20240621_155350-8fr068ns\\logs</code>"
      ],
      "text/plain": [
       "<IPython.core.display.HTML object>"
      ]
     },
     "metadata": {},
     "output_type": "display_data"
    },
    {
     "name": "stderr",
     "output_type": "stream",
     "text": [
      "Run 8fr068ns errored:\n",
      "Traceback (most recent call last):\n",
      "  File \"C:\\anaconda3\\envs\\jupyterenv\\lib\\site-packages\\wandb\\agents\\pyagent.py\", line 307, in _run_job\n",
      "    self._function()\n",
      "  File \"C:\\Users\\Addisu\\AppData\\Local\\Temp\\ipykernel_74596\\2644847777.py\", line 221, in sweep_train\n",
      "    train(model,\n",
      "  File \"C:\\Users\\Addisu\\AppData\\Local\\Temp\\ipykernel_74596\\2644847777.py\", line 151, in train\n",
      "    model.fit(X_train,\n",
      "  File \"C:\\anaconda3\\envs\\jupyterenv\\lib\\site-packages\\keras\\src\\utils\\traceback_utils.py\", line 70, in error_handler\n",
      "    raise e.with_traceback(filtered_tb) from None\n",
      "  File \"C:\\anaconda3\\envs\\jupyterenv\\lib\\site-packages\\wandb\\integration\\keras\\keras.py\", line 656, in on_train_batch_end\n",
      "    wandb.run.summary[\"graph\"] = wandb.Graph.from_keras(self.model)\n",
      "  File \"C:\\anaconda3\\envs\\jupyterenv\\lib\\site-packages\\wandb\\sdk\\wandb_summary.py\", line 52, in __setitem__\n",
      "    self.update({key: val})\n",
      "  File \"C:\\anaconda3\\envs\\jupyterenv\\lib\\site-packages\\wandb\\sdk\\wandb_summary.py\", line 74, in update\n",
      "    self._update(record)\n",
      "  File \"C:\\anaconda3\\envs\\jupyterenv\\lib\\site-packages\\wandb\\sdk\\wandb_summary.py\", line 128, in _update\n",
      "    self._update_callback(record)\n",
      "  File \"C:\\anaconda3\\envs\\jupyterenv\\lib\\site-packages\\wandb\\sdk\\wandb_run.py\", line 400, in wrapper_fn\n",
      "    return func(self, *args, **kwargs)\n",
      "  File \"C:\\anaconda3\\envs\\jupyterenv\\lib\\site-packages\\wandb\\sdk\\wandb_run.py\", line 1424, in _summary_update_callback\n",
      "    self._backend.interface.publish_summary(summary_record)\n",
      "  File \"C:\\anaconda3\\envs\\jupyterenv\\lib\\site-packages\\wandb\\sdk\\interface\\interface.py\", line 270, in publish_summary\n",
      "    pb_summary_record = self._make_summary(summary_record)\n",
      "  File \"C:\\anaconda3\\envs\\jupyterenv\\lib\\site-packages\\wandb\\sdk\\interface\\interface.py\", line 248, in _make_summary\n",
      "    json_value = self._summary_encode(item.value, path_from_root)\n",
      "  File \"C:\\anaconda3\\envs\\jupyterenv\\lib\\site-packages\\wandb\\sdk\\interface\\interface.py\", line 221, in _summary_encode\n",
      "    val_to_json(self._run, path_from_root, value, namespace=\"summary\")\n",
      "  File \"C:\\anaconda3\\envs\\jupyterenv\\lib\\site-packages\\wandb\\sdk\\data_types\\utils.py\", line 164, in val_to_json\n",
      "    val.bind_to_run(run, key, namespace)\n",
      "  File \"C:\\anaconda3\\envs\\jupyterenv\\lib\\site-packages\\wandb\\data_types.py\", line 1377, in bind_to_run\n",
      "    with codecs.open(tmp_path, \"w\", encoding=\"utf-8\") as fp:\n",
      "  File \"C:\\anaconda3\\envs\\jupyterenv\\lib\\codecs.py\", line 906, in open\n",
      "    file = builtins.open(filename, mode, buffering)\n",
      "FileNotFoundError: [Errno 2] No such file or directory: 'C:\\\\Users\\\\Addisu\\\\AppData\\\\Local\\\\Temp\\\\tmpbie7lvyxwandb-media\\\\fmuzakzi.graph.json'\n",
      "\n",
      "\u001b[34m\u001b[1mwandb\u001b[0m: \u001b[32m\u001b[41mERROR\u001b[0m Run 8fr068ns errored:\n",
      "\u001b[34m\u001b[1mwandb\u001b[0m: \u001b[32m\u001b[41mERROR\u001b[0m Traceback (most recent call last):\n",
      "\u001b[34m\u001b[1mwandb\u001b[0m: \u001b[32m\u001b[41mERROR\u001b[0m   File \"C:\\anaconda3\\envs\\jupyterenv\\lib\\site-packages\\wandb\\agents\\pyagent.py\", line 307, in _run_job\n",
      "\u001b[34m\u001b[1mwandb\u001b[0m: \u001b[32m\u001b[41mERROR\u001b[0m     self._function()\n",
      "\u001b[34m\u001b[1mwandb\u001b[0m: \u001b[32m\u001b[41mERROR\u001b[0m   File \"C:\\Users\\Addisu\\AppData\\Local\\Temp\\ipykernel_74596\\2644847777.py\", line 221, in sweep_train\n",
      "\u001b[34m\u001b[1mwandb\u001b[0m: \u001b[32m\u001b[41mERROR\u001b[0m     train(model,\n",
      "\u001b[34m\u001b[1mwandb\u001b[0m: \u001b[32m\u001b[41mERROR\u001b[0m   File \"C:\\Users\\Addisu\\AppData\\Local\\Temp\\ipykernel_74596\\2644847777.py\", line 151, in train\n",
      "\u001b[34m\u001b[1mwandb\u001b[0m: \u001b[32m\u001b[41mERROR\u001b[0m     model.fit(X_train,\n",
      "\u001b[34m\u001b[1mwandb\u001b[0m: \u001b[32m\u001b[41mERROR\u001b[0m   File \"C:\\anaconda3\\envs\\jupyterenv\\lib\\site-packages\\keras\\src\\utils\\traceback_utils.py\", line 70, in error_handler\n",
      "\u001b[34m\u001b[1mwandb\u001b[0m: \u001b[32m\u001b[41mERROR\u001b[0m     raise e.with_traceback(filtered_tb) from None\n",
      "\u001b[34m\u001b[1mwandb\u001b[0m: \u001b[32m\u001b[41mERROR\u001b[0m   File \"C:\\anaconda3\\envs\\jupyterenv\\lib\\site-packages\\wandb\\integration\\keras\\keras.py\", line 656, in on_train_batch_end\n",
      "\u001b[34m\u001b[1mwandb\u001b[0m: \u001b[32m\u001b[41mERROR\u001b[0m     wandb.run.summary[\"graph\"] = wandb.Graph.from_keras(self.model)\n",
      "\u001b[34m\u001b[1mwandb\u001b[0m: \u001b[32m\u001b[41mERROR\u001b[0m   File \"C:\\anaconda3\\envs\\jupyterenv\\lib\\site-packages\\wandb\\sdk\\wandb_summary.py\", line 52, in __setitem__\n",
      "\u001b[34m\u001b[1mwandb\u001b[0m: \u001b[32m\u001b[41mERROR\u001b[0m     self.update({key: val})\n",
      "\u001b[34m\u001b[1mwandb\u001b[0m: \u001b[32m\u001b[41mERROR\u001b[0m   File \"C:\\anaconda3\\envs\\jupyterenv\\lib\\site-packages\\wandb\\sdk\\wandb_summary.py\", line 74, in update\n",
      "\u001b[34m\u001b[1mwandb\u001b[0m: \u001b[32m\u001b[41mERROR\u001b[0m     self._update(record)\n",
      "\u001b[34m\u001b[1mwandb\u001b[0m: \u001b[32m\u001b[41mERROR\u001b[0m   File \"C:\\anaconda3\\envs\\jupyterenv\\lib\\site-packages\\wandb\\sdk\\wandb_summary.py\", line 128, in _update\n",
      "\u001b[34m\u001b[1mwandb\u001b[0m: \u001b[32m\u001b[41mERROR\u001b[0m     self._update_callback(record)\n",
      "\u001b[34m\u001b[1mwandb\u001b[0m: \u001b[32m\u001b[41mERROR\u001b[0m   File \"C:\\anaconda3\\envs\\jupyterenv\\lib\\site-packages\\wandb\\sdk\\wandb_run.py\", line 400, in wrapper_fn\n",
      "\u001b[34m\u001b[1mwandb\u001b[0m: \u001b[32m\u001b[41mERROR\u001b[0m     return func(self, *args, **kwargs)\n",
      "\u001b[34m\u001b[1mwandb\u001b[0m: \u001b[32m\u001b[41mERROR\u001b[0m   File \"C:\\anaconda3\\envs\\jupyterenv\\lib\\site-packages\\wandb\\sdk\\wandb_run.py\", line 1424, in _summary_update_callback\n",
      "\u001b[34m\u001b[1mwandb\u001b[0m: \u001b[32m\u001b[41mERROR\u001b[0m     self._backend.interface.publish_summary(summary_record)\n",
      "\u001b[34m\u001b[1mwandb\u001b[0m: \u001b[32m\u001b[41mERROR\u001b[0m   File \"C:\\anaconda3\\envs\\jupyterenv\\lib\\site-packages\\wandb\\sdk\\interface\\interface.py\", line 270, in publish_summary\n",
      "\u001b[34m\u001b[1mwandb\u001b[0m: \u001b[32m\u001b[41mERROR\u001b[0m     pb_summary_record = self._make_summary(summary_record)\n",
      "\u001b[34m\u001b[1mwandb\u001b[0m: \u001b[32m\u001b[41mERROR\u001b[0m   File \"C:\\anaconda3\\envs\\jupyterenv\\lib\\site-packages\\wandb\\sdk\\interface\\interface.py\", line 248, in _make_summary\n",
      "\u001b[34m\u001b[1mwandb\u001b[0m: \u001b[32m\u001b[41mERROR\u001b[0m     json_value = self._summary_encode(item.value, path_from_root)\n",
      "\u001b[34m\u001b[1mwandb\u001b[0m: \u001b[32m\u001b[41mERROR\u001b[0m   File \"C:\\anaconda3\\envs\\jupyterenv\\lib\\site-packages\\wandb\\sdk\\interface\\interface.py\", line 221, in _summary_encode\n",
      "\u001b[34m\u001b[1mwandb\u001b[0m: \u001b[32m\u001b[41mERROR\u001b[0m     val_to_json(self._run, path_from_root, value, namespace=\"summary\")\n",
      "\u001b[34m\u001b[1mwandb\u001b[0m: \u001b[32m\u001b[41mERROR\u001b[0m   File \"C:\\anaconda3\\envs\\jupyterenv\\lib\\site-packages\\wandb\\sdk\\data_types\\utils.py\", line 164, in val_to_json\n",
      "\u001b[34m\u001b[1mwandb\u001b[0m: \u001b[32m\u001b[41mERROR\u001b[0m     val.bind_to_run(run, key, namespace)\n",
      "\u001b[34m\u001b[1mwandb\u001b[0m: \u001b[32m\u001b[41mERROR\u001b[0m   File \"C:\\anaconda3\\envs\\jupyterenv\\lib\\site-packages\\wandb\\data_types.py\", line 1377, in bind_to_run\n",
      "\u001b[34m\u001b[1mwandb\u001b[0m: \u001b[32m\u001b[41mERROR\u001b[0m     with codecs.open(tmp_path, \"w\", encoding=\"utf-8\") as fp:\n",
      "\u001b[34m\u001b[1mwandb\u001b[0m: \u001b[32m\u001b[41mERROR\u001b[0m   File \"C:\\anaconda3\\envs\\jupyterenv\\lib\\codecs.py\", line 906, in open\n",
      "\u001b[34m\u001b[1mwandb\u001b[0m: \u001b[32m\u001b[41mERROR\u001b[0m     file = builtins.open(filename, mode, buffering)\n",
      "\u001b[34m\u001b[1mwandb\u001b[0m: \u001b[32m\u001b[41mERROR\u001b[0m FileNotFoundError: [Errno 2] No such file or directory: 'C:\\\\Users\\\\Addisu\\\\AppData\\\\Local\\\\Temp\\\\tmpbie7lvyxwandb-media\\\\fmuzakzi.graph.json'\n",
      "\u001b[34m\u001b[1mwandb\u001b[0m: \u001b[32m\u001b[41mERROR\u001b[0m \n",
      "\u001b[34m\u001b[1mwandb\u001b[0m: Sweep Agent: Waiting for job.\n",
      "\u001b[34m\u001b[1mwandb\u001b[0m: Job received.\n",
      "\u001b[34m\u001b[1mwandb\u001b[0m: Agent Starting Run: 19sblk6k with config:\n",
      "\u001b[34m\u001b[1mwandb\u001b[0m: \tbatch_size: 120\n",
      "\u001b[34m\u001b[1mwandb\u001b[0m: \tdense_activation: sigmoid\n",
      "\u001b[34m\u001b[1mwandb\u001b[0m: \tdropout: 0.1\n",
      "\u001b[34m\u001b[1mwandb\u001b[0m: \tepochs: 1\n",
      "\u001b[34m\u001b[1mwandb\u001b[0m: \tlearning_rate: 0.005071824630322759\n",
      "\u001b[34m\u001b[1mwandb\u001b[0m: \toptimizer: adam\n"
     ]
    },
    {
     "data": {
      "text/html": [
       "wandb version 0.17.2 is available!  To upgrade, please run:\n",
       " $ pip install wandb --upgrade"
      ],
      "text/plain": [
       "<IPython.core.display.HTML object>"
      ]
     },
     "metadata": {},
     "output_type": "display_data"
    },
    {
     "data": {
      "text/html": [
       "Tracking run with wandb version 0.17.0"
      ],
      "text/plain": [
       "<IPython.core.display.HTML object>"
      ]
     },
     "metadata": {},
     "output_type": "display_data"
    },
    {
     "data": {
      "text/html": [
       "Run data is saved locally in <code>C:\\Users\\Addisu\\Desktop\\kidi files\\Python workshop with ellen\\wandb\\run-20240621_155428-19sblk6k</code>"
      ],
      "text/plain": [
       "<IPython.core.display.HTML object>"
      ]
     },
     "metadata": {},
     "output_type": "display_data"
    },
    {
     "data": {
      "text/html": [
       "Syncing run <strong><a href='https://wandb.ai/evapppp/sweeps-keras/runs/19sblk6k' target=\"_blank\">electric-sweep-46</a></strong> to <a href='https://wandb.ai/evapppp/sweeps-keras' target=\"_blank\">Weights & Biases</a> (<a href='https://wandb.me/run' target=\"_blank\">docs</a>)<br/>Sweep page: <a href='https://wandb.ai/evapppp/sweeps-keras/sweeps/qu378scj' target=\"_blank\">https://wandb.ai/evapppp/sweeps-keras/sweeps/qu378scj</a>"
      ],
      "text/plain": [
       "<IPython.core.display.HTML object>"
      ]
     },
     "metadata": {},
     "output_type": "display_data"
    },
    {
     "data": {
      "text/html": [
       " View project at <a href='https://wandb.ai/evapppp/sweeps-keras' target=\"_blank\">https://wandb.ai/evapppp/sweeps-keras</a>"
      ],
      "text/plain": [
       "<IPython.core.display.HTML object>"
      ]
     },
     "metadata": {},
     "output_type": "display_data"
    },
    {
     "data": {
      "text/html": [
       " View sweep at <a href='https://wandb.ai/evapppp/sweeps-keras/sweeps/qu378scj' target=\"_blank\">https://wandb.ai/evapppp/sweeps-keras/sweeps/qu378scj</a>"
      ],
      "text/plain": [
       "<IPython.core.display.HTML object>"
      ]
     },
     "metadata": {},
     "output_type": "display_data"
    },
    {
     "data": {
      "text/html": [
       " View run at <a href='https://wandb.ai/evapppp/sweeps-keras/runs/19sblk6k' target=\"_blank\">https://wandb.ai/evapppp/sweeps-keras/runs/19sblk6k</a>"
      ],
      "text/plain": [
       "<IPython.core.display.HTML object>"
      ]
     },
     "metadata": {},
     "output_type": "display_data"
    },
    {
     "name": "stderr",
     "output_type": "stream",
     "text": [
      "Traceback (most recent call last):\n",
      "  File \"C:\\Users\\Addisu\\AppData\\Local\\Temp\\ipykernel_74596\\2644847777.py\", line 221, in sweep_train\n",
      "    train(model,\n",
      "  File \"C:\\Users\\Addisu\\AppData\\Local\\Temp\\ipykernel_74596\\2644847777.py\", line 151, in train\n",
      "    model.fit(X_train,\n",
      "  File \"C:\\anaconda3\\envs\\jupyterenv\\lib\\site-packages\\keras\\src\\utils\\traceback_utils.py\", line 70, in error_handler\n",
      "    raise e.with_traceback(filtered_tb) from None\n",
      "  File \"C:\\anaconda3\\envs\\jupyterenv\\lib\\site-packages\\wandb\\integration\\keras\\keras.py\", line 656, in on_train_batch_end\n",
      "    wandb.run.summary[\"graph\"] = wandb.Graph.from_keras(self.model)\n",
      "  File \"C:\\anaconda3\\envs\\jupyterenv\\lib\\site-packages\\wandb\\sdk\\wandb_summary.py\", line 52, in __setitem__\n",
      "    self.update({key: val})\n",
      "  File \"C:\\anaconda3\\envs\\jupyterenv\\lib\\site-packages\\wandb\\sdk\\wandb_summary.py\", line 74, in update\n",
      "    self._update(record)\n",
      "  File \"C:\\anaconda3\\envs\\jupyterenv\\lib\\site-packages\\wandb\\sdk\\wandb_summary.py\", line 128, in _update\n",
      "    self._update_callback(record)\n",
      "  File \"C:\\anaconda3\\envs\\jupyterenv\\lib\\site-packages\\wandb\\sdk\\wandb_run.py\", line 400, in wrapper_fn\n",
      "    return func(self, *args, **kwargs)\n",
      "  File \"C:\\anaconda3\\envs\\jupyterenv\\lib\\site-packages\\wandb\\sdk\\wandb_run.py\", line 1424, in _summary_update_callback\n",
      "    self._backend.interface.publish_summary(summary_record)\n",
      "  File \"C:\\anaconda3\\envs\\jupyterenv\\lib\\site-packages\\wandb\\sdk\\interface\\interface.py\", line 270, in publish_summary\n",
      "    pb_summary_record = self._make_summary(summary_record)\n",
      "  File \"C:\\anaconda3\\envs\\jupyterenv\\lib\\site-packages\\wandb\\sdk\\interface\\interface.py\", line 248, in _make_summary\n",
      "    json_value = self._summary_encode(item.value, path_from_root)\n",
      "  File \"C:\\anaconda3\\envs\\jupyterenv\\lib\\site-packages\\wandb\\sdk\\interface\\interface.py\", line 221, in _summary_encode\n",
      "    val_to_json(self._run, path_from_root, value, namespace=\"summary\")\n",
      "  File \"C:\\anaconda3\\envs\\jupyterenv\\lib\\site-packages\\wandb\\sdk\\data_types\\utils.py\", line 164, in val_to_json\n",
      "    val.bind_to_run(run, key, namespace)\n",
      "  File \"C:\\anaconda3\\envs\\jupyterenv\\lib\\site-packages\\wandb\\data_types.py\", line 1377, in bind_to_run\n",
      "    with codecs.open(tmp_path, \"w\", encoding=\"utf-8\") as fp:\n",
      "  File \"C:\\anaconda3\\envs\\jupyterenv\\lib\\codecs.py\", line 906, in open\n",
      "    file = builtins.open(filename, mode, buffering)\n",
      "FileNotFoundError: [Errno 2] No such file or directory: 'C:\\\\Users\\\\Addisu\\\\AppData\\\\Local\\\\Temp\\\\tmpbie7lvyxwandb-media\\\\wtbctxxw.graph.json'\n"
     ]
    },
    {
     "data": {
      "text/html": [
       " View run <strong style=\"color:#cdcd00\">electric-sweep-46</strong> at: <a href='https://wandb.ai/evapppp/sweeps-keras/runs/19sblk6k' target=\"_blank\">https://wandb.ai/evapppp/sweeps-keras/runs/19sblk6k</a><br/> View project at: <a href='https://wandb.ai/evapppp/sweeps-keras' target=\"_blank\">https://wandb.ai/evapppp/sweeps-keras</a><br/>Synced 5 W&B file(s), 0 media file(s), 0 artifact file(s) and 0 other file(s)"
      ],
      "text/plain": [
       "<IPython.core.display.HTML object>"
      ]
     },
     "metadata": {},
     "output_type": "display_data"
    },
    {
     "data": {
      "text/html": [
       "Find logs at: <code>.\\wandb\\run-20240621_155428-19sblk6k\\logs</code>"
      ],
      "text/plain": [
       "<IPython.core.display.HTML object>"
      ]
     },
     "metadata": {},
     "output_type": "display_data"
    },
    {
     "name": "stderr",
     "output_type": "stream",
     "text": [
      "Run 19sblk6k errored:\n",
      "Traceback (most recent call last):\n",
      "  File \"C:\\anaconda3\\envs\\jupyterenv\\lib\\site-packages\\wandb\\agents\\pyagent.py\", line 307, in _run_job\n",
      "    self._function()\n",
      "  File \"C:\\Users\\Addisu\\AppData\\Local\\Temp\\ipykernel_74596\\2644847777.py\", line 221, in sweep_train\n",
      "    train(model,\n",
      "  File \"C:\\Users\\Addisu\\AppData\\Local\\Temp\\ipykernel_74596\\2644847777.py\", line 151, in train\n",
      "    model.fit(X_train,\n",
      "  File \"C:\\anaconda3\\envs\\jupyterenv\\lib\\site-packages\\keras\\src\\utils\\traceback_utils.py\", line 70, in error_handler\n",
      "    raise e.with_traceback(filtered_tb) from None\n",
      "  File \"C:\\anaconda3\\envs\\jupyterenv\\lib\\site-packages\\wandb\\integration\\keras\\keras.py\", line 656, in on_train_batch_end\n",
      "    wandb.run.summary[\"graph\"] = wandb.Graph.from_keras(self.model)\n",
      "  File \"C:\\anaconda3\\envs\\jupyterenv\\lib\\site-packages\\wandb\\sdk\\wandb_summary.py\", line 52, in __setitem__\n",
      "    self.update({key: val})\n",
      "  File \"C:\\anaconda3\\envs\\jupyterenv\\lib\\site-packages\\wandb\\sdk\\wandb_summary.py\", line 74, in update\n",
      "    self._update(record)\n",
      "  File \"C:\\anaconda3\\envs\\jupyterenv\\lib\\site-packages\\wandb\\sdk\\wandb_summary.py\", line 128, in _update\n",
      "    self._update_callback(record)\n",
      "  File \"C:\\anaconda3\\envs\\jupyterenv\\lib\\site-packages\\wandb\\sdk\\wandb_run.py\", line 400, in wrapper_fn\n",
      "    return func(self, *args, **kwargs)\n",
      "  File \"C:\\anaconda3\\envs\\jupyterenv\\lib\\site-packages\\wandb\\sdk\\wandb_run.py\", line 1424, in _summary_update_callback\n",
      "    self._backend.interface.publish_summary(summary_record)\n",
      "  File \"C:\\anaconda3\\envs\\jupyterenv\\lib\\site-packages\\wandb\\sdk\\interface\\interface.py\", line 270, in publish_summary\n",
      "    pb_summary_record = self._make_summary(summary_record)\n",
      "  File \"C:\\anaconda3\\envs\\jupyterenv\\lib\\site-packages\\wandb\\sdk\\interface\\interface.py\", line 248, in _make_summary\n",
      "    json_value = self._summary_encode(item.value, path_from_root)\n",
      "  File \"C:\\anaconda3\\envs\\jupyterenv\\lib\\site-packages\\wandb\\sdk\\interface\\interface.py\", line 221, in _summary_encode\n",
      "    val_to_json(self._run, path_from_root, value, namespace=\"summary\")\n",
      "  File \"C:\\anaconda3\\envs\\jupyterenv\\lib\\site-packages\\wandb\\sdk\\data_types\\utils.py\", line 164, in val_to_json\n",
      "    val.bind_to_run(run, key, namespace)\n",
      "  File \"C:\\anaconda3\\envs\\jupyterenv\\lib\\site-packages\\wandb\\data_types.py\", line 1377, in bind_to_run\n",
      "    with codecs.open(tmp_path, \"w\", encoding=\"utf-8\") as fp:\n",
      "  File \"C:\\anaconda3\\envs\\jupyterenv\\lib\\codecs.py\", line 906, in open\n",
      "    file = builtins.open(filename, mode, buffering)\n",
      "FileNotFoundError: [Errno 2] No such file or directory: 'C:\\\\Users\\\\Addisu\\\\AppData\\\\Local\\\\Temp\\\\tmpbie7lvyxwandb-media\\\\wtbctxxw.graph.json'\n",
      "\n",
      "\u001b[34m\u001b[1mwandb\u001b[0m: \u001b[32m\u001b[41mERROR\u001b[0m Run 19sblk6k errored:\n",
      "\u001b[34m\u001b[1mwandb\u001b[0m: \u001b[32m\u001b[41mERROR\u001b[0m Traceback (most recent call last):\n",
      "\u001b[34m\u001b[1mwandb\u001b[0m: \u001b[32m\u001b[41mERROR\u001b[0m   File \"C:\\anaconda3\\envs\\jupyterenv\\lib\\site-packages\\wandb\\agents\\pyagent.py\", line 307, in _run_job\n",
      "\u001b[34m\u001b[1mwandb\u001b[0m: \u001b[32m\u001b[41mERROR\u001b[0m     self._function()\n",
      "\u001b[34m\u001b[1mwandb\u001b[0m: \u001b[32m\u001b[41mERROR\u001b[0m   File \"C:\\Users\\Addisu\\AppData\\Local\\Temp\\ipykernel_74596\\2644847777.py\", line 221, in sweep_train\n",
      "\u001b[34m\u001b[1mwandb\u001b[0m: \u001b[32m\u001b[41mERROR\u001b[0m     train(model,\n",
      "\u001b[34m\u001b[1mwandb\u001b[0m: \u001b[32m\u001b[41mERROR\u001b[0m   File \"C:\\Users\\Addisu\\AppData\\Local\\Temp\\ipykernel_74596\\2644847777.py\", line 151, in train\n",
      "\u001b[34m\u001b[1mwandb\u001b[0m: \u001b[32m\u001b[41mERROR\u001b[0m     model.fit(X_train,\n",
      "\u001b[34m\u001b[1mwandb\u001b[0m: \u001b[32m\u001b[41mERROR\u001b[0m   File \"C:\\anaconda3\\envs\\jupyterenv\\lib\\site-packages\\keras\\src\\utils\\traceback_utils.py\", line 70, in error_handler\n",
      "\u001b[34m\u001b[1mwandb\u001b[0m: \u001b[32m\u001b[41mERROR\u001b[0m     raise e.with_traceback(filtered_tb) from None\n",
      "\u001b[34m\u001b[1mwandb\u001b[0m: \u001b[32m\u001b[41mERROR\u001b[0m   File \"C:\\anaconda3\\envs\\jupyterenv\\lib\\site-packages\\wandb\\integration\\keras\\keras.py\", line 656, in on_train_batch_end\n",
      "\u001b[34m\u001b[1mwandb\u001b[0m: \u001b[32m\u001b[41mERROR\u001b[0m     wandb.run.summary[\"graph\"] = wandb.Graph.from_keras(self.model)\n",
      "\u001b[34m\u001b[1mwandb\u001b[0m: \u001b[32m\u001b[41mERROR\u001b[0m   File \"C:\\anaconda3\\envs\\jupyterenv\\lib\\site-packages\\wandb\\sdk\\wandb_summary.py\", line 52, in __setitem__\n",
      "\u001b[34m\u001b[1mwandb\u001b[0m: \u001b[32m\u001b[41mERROR\u001b[0m     self.update({key: val})\n",
      "\u001b[34m\u001b[1mwandb\u001b[0m: \u001b[32m\u001b[41mERROR\u001b[0m   File \"C:\\anaconda3\\envs\\jupyterenv\\lib\\site-packages\\wandb\\sdk\\wandb_summary.py\", line 74, in update\n",
      "\u001b[34m\u001b[1mwandb\u001b[0m: \u001b[32m\u001b[41mERROR\u001b[0m     self._update(record)\n",
      "\u001b[34m\u001b[1mwandb\u001b[0m: \u001b[32m\u001b[41mERROR\u001b[0m   File \"C:\\anaconda3\\envs\\jupyterenv\\lib\\site-packages\\wandb\\sdk\\wandb_summary.py\", line 128, in _update\n",
      "\u001b[34m\u001b[1mwandb\u001b[0m: \u001b[32m\u001b[41mERROR\u001b[0m     self._update_callback(record)\n",
      "\u001b[34m\u001b[1mwandb\u001b[0m: \u001b[32m\u001b[41mERROR\u001b[0m   File \"C:\\anaconda3\\envs\\jupyterenv\\lib\\site-packages\\wandb\\sdk\\wandb_run.py\", line 400, in wrapper_fn\n",
      "\u001b[34m\u001b[1mwandb\u001b[0m: \u001b[32m\u001b[41mERROR\u001b[0m     return func(self, *args, **kwargs)\n",
      "\u001b[34m\u001b[1mwandb\u001b[0m: \u001b[32m\u001b[41mERROR\u001b[0m   File \"C:\\anaconda3\\envs\\jupyterenv\\lib\\site-packages\\wandb\\sdk\\wandb_run.py\", line 1424, in _summary_update_callback\n",
      "\u001b[34m\u001b[1mwandb\u001b[0m: \u001b[32m\u001b[41mERROR\u001b[0m     self._backend.interface.publish_summary(summary_record)\n",
      "\u001b[34m\u001b[1mwandb\u001b[0m: \u001b[32m\u001b[41mERROR\u001b[0m   File \"C:\\anaconda3\\envs\\jupyterenv\\lib\\site-packages\\wandb\\sdk\\interface\\interface.py\", line 270, in publish_summary\n",
      "\u001b[34m\u001b[1mwandb\u001b[0m: \u001b[32m\u001b[41mERROR\u001b[0m     pb_summary_record = self._make_summary(summary_record)\n",
      "\u001b[34m\u001b[1mwandb\u001b[0m: \u001b[32m\u001b[41mERROR\u001b[0m   File \"C:\\anaconda3\\envs\\jupyterenv\\lib\\site-packages\\wandb\\sdk\\interface\\interface.py\", line 248, in _make_summary\n",
      "\u001b[34m\u001b[1mwandb\u001b[0m: \u001b[32m\u001b[41mERROR\u001b[0m     json_value = self._summary_encode(item.value, path_from_root)\n",
      "\u001b[34m\u001b[1mwandb\u001b[0m: \u001b[32m\u001b[41mERROR\u001b[0m   File \"C:\\anaconda3\\envs\\jupyterenv\\lib\\site-packages\\wandb\\sdk\\interface\\interface.py\", line 221, in _summary_encode\n",
      "\u001b[34m\u001b[1mwandb\u001b[0m: \u001b[32m\u001b[41mERROR\u001b[0m     val_to_json(self._run, path_from_root, value, namespace=\"summary\")\n",
      "\u001b[34m\u001b[1mwandb\u001b[0m: \u001b[32m\u001b[41mERROR\u001b[0m   File \"C:\\anaconda3\\envs\\jupyterenv\\lib\\site-packages\\wandb\\sdk\\data_types\\utils.py\", line 164, in val_to_json\n",
      "\u001b[34m\u001b[1mwandb\u001b[0m: \u001b[32m\u001b[41mERROR\u001b[0m     val.bind_to_run(run, key, namespace)\n",
      "\u001b[34m\u001b[1mwandb\u001b[0m: \u001b[32m\u001b[41mERROR\u001b[0m   File \"C:\\anaconda3\\envs\\jupyterenv\\lib\\site-packages\\wandb\\data_types.py\", line 1377, in bind_to_run\n",
      "\u001b[34m\u001b[1mwandb\u001b[0m: \u001b[32m\u001b[41mERROR\u001b[0m     with codecs.open(tmp_path, \"w\", encoding=\"utf-8\") as fp:\n",
      "\u001b[34m\u001b[1mwandb\u001b[0m: \u001b[32m\u001b[41mERROR\u001b[0m   File \"C:\\anaconda3\\envs\\jupyterenv\\lib\\codecs.py\", line 906, in open\n",
      "\u001b[34m\u001b[1mwandb\u001b[0m: \u001b[32m\u001b[41mERROR\u001b[0m     file = builtins.open(filename, mode, buffering)\n",
      "\u001b[34m\u001b[1mwandb\u001b[0m: \u001b[32m\u001b[41mERROR\u001b[0m FileNotFoundError: [Errno 2] No such file or directory: 'C:\\\\Users\\\\Addisu\\\\AppData\\\\Local\\\\Temp\\\\tmpbie7lvyxwandb-media\\\\wtbctxxw.graph.json'\n",
      "\u001b[34m\u001b[1mwandb\u001b[0m: \u001b[32m\u001b[41mERROR\u001b[0m \n",
      "\u001b[34m\u001b[1mwandb\u001b[0m: Agent Starting Run: 85n3yk2u with config:\n",
      "\u001b[34m\u001b[1mwandb\u001b[0m: \tbatch_size: 104\n",
      "\u001b[34m\u001b[1mwandb\u001b[0m: \tdense_activation: sigmoid\n",
      "\u001b[34m\u001b[1mwandb\u001b[0m: \tdropout: 0.2\n",
      "\u001b[34m\u001b[1mwandb\u001b[0m: \tepochs: 1\n",
      "\u001b[34m\u001b[1mwandb\u001b[0m: \tlearning_rate: 0.0001399937197653911\n",
      "\u001b[34m\u001b[1mwandb\u001b[0m: \toptimizer: adam\n"
     ]
    },
    {
     "data": {
      "text/html": [
       "wandb version 0.17.2 is available!  To upgrade, please run:\n",
       " $ pip install wandb --upgrade"
      ],
      "text/plain": [
       "<IPython.core.display.HTML object>"
      ]
     },
     "metadata": {},
     "output_type": "display_data"
    },
    {
     "data": {
      "text/html": [
       "Tracking run with wandb version 0.17.0"
      ],
      "text/plain": [
       "<IPython.core.display.HTML object>"
      ]
     },
     "metadata": {},
     "output_type": "display_data"
    },
    {
     "data": {
      "text/html": [
       "Run data is saved locally in <code>C:\\Users\\Addisu\\Desktop\\kidi files\\Python workshop with ellen\\wandb\\run-20240621_155455-85n3yk2u</code>"
      ],
      "text/plain": [
       "<IPython.core.display.HTML object>"
      ]
     },
     "metadata": {},
     "output_type": "display_data"
    },
    {
     "data": {
      "text/html": [
       "Syncing run <strong><a href='https://wandb.ai/evapppp/sweeps-keras/runs/85n3yk2u' target=\"_blank\">brisk-sweep-47</a></strong> to <a href='https://wandb.ai/evapppp/sweeps-keras' target=\"_blank\">Weights & Biases</a> (<a href='https://wandb.me/run' target=\"_blank\">docs</a>)<br/>Sweep page: <a href='https://wandb.ai/evapppp/sweeps-keras/sweeps/qu378scj' target=\"_blank\">https://wandb.ai/evapppp/sweeps-keras/sweeps/qu378scj</a>"
      ],
      "text/plain": [
       "<IPython.core.display.HTML object>"
      ]
     },
     "metadata": {},
     "output_type": "display_data"
    },
    {
     "data": {
      "text/html": [
       " View project at <a href='https://wandb.ai/evapppp/sweeps-keras' target=\"_blank\">https://wandb.ai/evapppp/sweeps-keras</a>"
      ],
      "text/plain": [
       "<IPython.core.display.HTML object>"
      ]
     },
     "metadata": {},
     "output_type": "display_data"
    },
    {
     "data": {
      "text/html": [
       " View sweep at <a href='https://wandb.ai/evapppp/sweeps-keras/sweeps/qu378scj' target=\"_blank\">https://wandb.ai/evapppp/sweeps-keras/sweeps/qu378scj</a>"
      ],
      "text/plain": [
       "<IPython.core.display.HTML object>"
      ]
     },
     "metadata": {},
     "output_type": "display_data"
    },
    {
     "data": {
      "text/html": [
       " View run at <a href='https://wandb.ai/evapppp/sweeps-keras/runs/85n3yk2u' target=\"_blank\">https://wandb.ai/evapppp/sweeps-keras/runs/85n3yk2u</a>"
      ],
      "text/plain": [
       "<IPython.core.display.HTML object>"
      ]
     },
     "metadata": {},
     "output_type": "display_data"
    },
    {
     "name": "stderr",
     "output_type": "stream",
     "text": [
      "Traceback (most recent call last):\n",
      "  File \"C:\\Users\\Addisu\\AppData\\Local\\Temp\\ipykernel_74596\\2644847777.py\", line 221, in sweep_train\n",
      "    train(model,\n",
      "  File \"C:\\Users\\Addisu\\AppData\\Local\\Temp\\ipykernel_74596\\2644847777.py\", line 151, in train\n",
      "    model.fit(X_train,\n",
      "  File \"C:\\anaconda3\\envs\\jupyterenv\\lib\\site-packages\\keras\\src\\utils\\traceback_utils.py\", line 70, in error_handler\n",
      "    raise e.with_traceback(filtered_tb) from None\n",
      "  File \"C:\\anaconda3\\envs\\jupyterenv\\lib\\site-packages\\wandb\\integration\\keras\\keras.py\", line 656, in on_train_batch_end\n",
      "    wandb.run.summary[\"graph\"] = wandb.Graph.from_keras(self.model)\n",
      "  File \"C:\\anaconda3\\envs\\jupyterenv\\lib\\site-packages\\wandb\\sdk\\wandb_summary.py\", line 52, in __setitem__\n",
      "    self.update({key: val})\n",
      "  File \"C:\\anaconda3\\envs\\jupyterenv\\lib\\site-packages\\wandb\\sdk\\wandb_summary.py\", line 74, in update\n",
      "    self._update(record)\n",
      "  File \"C:\\anaconda3\\envs\\jupyterenv\\lib\\site-packages\\wandb\\sdk\\wandb_summary.py\", line 128, in _update\n",
      "    self._update_callback(record)\n",
      "  File \"C:\\anaconda3\\envs\\jupyterenv\\lib\\site-packages\\wandb\\sdk\\wandb_run.py\", line 400, in wrapper_fn\n",
      "    return func(self, *args, **kwargs)\n",
      "  File \"C:\\anaconda3\\envs\\jupyterenv\\lib\\site-packages\\wandb\\sdk\\wandb_run.py\", line 1424, in _summary_update_callback\n",
      "    self._backend.interface.publish_summary(summary_record)\n",
      "  File \"C:\\anaconda3\\envs\\jupyterenv\\lib\\site-packages\\wandb\\sdk\\interface\\interface.py\", line 270, in publish_summary\n",
      "    pb_summary_record = self._make_summary(summary_record)\n",
      "  File \"C:\\anaconda3\\envs\\jupyterenv\\lib\\site-packages\\wandb\\sdk\\interface\\interface.py\", line 248, in _make_summary\n",
      "    json_value = self._summary_encode(item.value, path_from_root)\n",
      "  File \"C:\\anaconda3\\envs\\jupyterenv\\lib\\site-packages\\wandb\\sdk\\interface\\interface.py\", line 221, in _summary_encode\n",
      "    val_to_json(self._run, path_from_root, value, namespace=\"summary\")\n",
      "  File \"C:\\anaconda3\\envs\\jupyterenv\\lib\\site-packages\\wandb\\sdk\\data_types\\utils.py\", line 164, in val_to_json\n",
      "    val.bind_to_run(run, key, namespace)\n",
      "  File \"C:\\anaconda3\\envs\\jupyterenv\\lib\\site-packages\\wandb\\data_types.py\", line 1377, in bind_to_run\n",
      "    with codecs.open(tmp_path, \"w\", encoding=\"utf-8\") as fp:\n",
      "  File \"C:\\anaconda3\\envs\\jupyterenv\\lib\\codecs.py\", line 906, in open\n",
      "    file = builtins.open(filename, mode, buffering)\n",
      "FileNotFoundError: [Errno 2] No such file or directory: 'C:\\\\Users\\\\Addisu\\\\AppData\\\\Local\\\\Temp\\\\tmpbie7lvyxwandb-media\\\\c6tzjw0o.graph.json'\n"
     ]
    },
    {
     "data": {
      "text/html": [
       " View run <strong style=\"color:#cdcd00\">brisk-sweep-47</strong> at: <a href='https://wandb.ai/evapppp/sweeps-keras/runs/85n3yk2u' target=\"_blank\">https://wandb.ai/evapppp/sweeps-keras/runs/85n3yk2u</a><br/> View project at: <a href='https://wandb.ai/evapppp/sweeps-keras' target=\"_blank\">https://wandb.ai/evapppp/sweeps-keras</a><br/>Synced 5 W&B file(s), 0 media file(s), 0 artifact file(s) and 0 other file(s)"
      ],
      "text/plain": [
       "<IPython.core.display.HTML object>"
      ]
     },
     "metadata": {},
     "output_type": "display_data"
    },
    {
     "data": {
      "text/html": [
       "Find logs at: <code>.\\wandb\\run-20240621_155455-85n3yk2u\\logs</code>"
      ],
      "text/plain": [
       "<IPython.core.display.HTML object>"
      ]
     },
     "metadata": {},
     "output_type": "display_data"
    },
    {
     "name": "stderr",
     "output_type": "stream",
     "text": [
      "Run 85n3yk2u errored:\n",
      "Traceback (most recent call last):\n",
      "  File \"C:\\anaconda3\\envs\\jupyterenv\\lib\\site-packages\\wandb\\agents\\pyagent.py\", line 307, in _run_job\n",
      "    self._function()\n",
      "  File \"C:\\Users\\Addisu\\AppData\\Local\\Temp\\ipykernel_74596\\2644847777.py\", line 221, in sweep_train\n",
      "    train(model,\n",
      "  File \"C:\\Users\\Addisu\\AppData\\Local\\Temp\\ipykernel_74596\\2644847777.py\", line 151, in train\n",
      "    model.fit(X_train,\n",
      "  File \"C:\\anaconda3\\envs\\jupyterenv\\lib\\site-packages\\keras\\src\\utils\\traceback_utils.py\", line 70, in error_handler\n",
      "    raise e.with_traceback(filtered_tb) from None\n",
      "  File \"C:\\anaconda3\\envs\\jupyterenv\\lib\\site-packages\\wandb\\integration\\keras\\keras.py\", line 656, in on_train_batch_end\n",
      "    wandb.run.summary[\"graph\"] = wandb.Graph.from_keras(self.model)\n",
      "  File \"C:\\anaconda3\\envs\\jupyterenv\\lib\\site-packages\\wandb\\sdk\\wandb_summary.py\", line 52, in __setitem__\n",
      "    self.update({key: val})\n",
      "  File \"C:\\anaconda3\\envs\\jupyterenv\\lib\\site-packages\\wandb\\sdk\\wandb_summary.py\", line 74, in update\n",
      "    self._update(record)\n",
      "  File \"C:\\anaconda3\\envs\\jupyterenv\\lib\\site-packages\\wandb\\sdk\\wandb_summary.py\", line 128, in _update\n",
      "    self._update_callback(record)\n",
      "  File \"C:\\anaconda3\\envs\\jupyterenv\\lib\\site-packages\\wandb\\sdk\\wandb_run.py\", line 400, in wrapper_fn\n",
      "    return func(self, *args, **kwargs)\n",
      "  File \"C:\\anaconda3\\envs\\jupyterenv\\lib\\site-packages\\wandb\\sdk\\wandb_run.py\", line 1424, in _summary_update_callback\n",
      "    self._backend.interface.publish_summary(summary_record)\n",
      "  File \"C:\\anaconda3\\envs\\jupyterenv\\lib\\site-packages\\wandb\\sdk\\interface\\interface.py\", line 270, in publish_summary\n",
      "    pb_summary_record = self._make_summary(summary_record)\n",
      "  File \"C:\\anaconda3\\envs\\jupyterenv\\lib\\site-packages\\wandb\\sdk\\interface\\interface.py\", line 248, in _make_summary\n",
      "    json_value = self._summary_encode(item.value, path_from_root)\n",
      "  File \"C:\\anaconda3\\envs\\jupyterenv\\lib\\site-packages\\wandb\\sdk\\interface\\interface.py\", line 221, in _summary_encode\n",
      "    val_to_json(self._run, path_from_root, value, namespace=\"summary\")\n",
      "  File \"C:\\anaconda3\\envs\\jupyterenv\\lib\\site-packages\\wandb\\sdk\\data_types\\utils.py\", line 164, in val_to_json\n",
      "    val.bind_to_run(run, key, namespace)\n",
      "  File \"C:\\anaconda3\\envs\\jupyterenv\\lib\\site-packages\\wandb\\data_types.py\", line 1377, in bind_to_run\n",
      "    with codecs.open(tmp_path, \"w\", encoding=\"utf-8\") as fp:\n",
      "  File \"C:\\anaconda3\\envs\\jupyterenv\\lib\\codecs.py\", line 906, in open\n",
      "    file = builtins.open(filename, mode, buffering)\n",
      "FileNotFoundError: [Errno 2] No such file or directory: 'C:\\\\Users\\\\Addisu\\\\AppData\\\\Local\\\\Temp\\\\tmpbie7lvyxwandb-media\\\\c6tzjw0o.graph.json'\n",
      "\n",
      "\u001b[34m\u001b[1mwandb\u001b[0m: \u001b[32m\u001b[41mERROR\u001b[0m Run 85n3yk2u errored:\n",
      "\u001b[34m\u001b[1mwandb\u001b[0m: \u001b[32m\u001b[41mERROR\u001b[0m Traceback (most recent call last):\n",
      "\u001b[34m\u001b[1mwandb\u001b[0m: \u001b[32m\u001b[41mERROR\u001b[0m   File \"C:\\anaconda3\\envs\\jupyterenv\\lib\\site-packages\\wandb\\agents\\pyagent.py\", line 307, in _run_job\n",
      "\u001b[34m\u001b[1mwandb\u001b[0m: \u001b[32m\u001b[41mERROR\u001b[0m     self._function()\n",
      "\u001b[34m\u001b[1mwandb\u001b[0m: \u001b[32m\u001b[41mERROR\u001b[0m   File \"C:\\Users\\Addisu\\AppData\\Local\\Temp\\ipykernel_74596\\2644847777.py\", line 221, in sweep_train\n",
      "\u001b[34m\u001b[1mwandb\u001b[0m: \u001b[32m\u001b[41mERROR\u001b[0m     train(model,\n",
      "\u001b[34m\u001b[1mwandb\u001b[0m: \u001b[32m\u001b[41mERROR\u001b[0m   File \"C:\\Users\\Addisu\\AppData\\Local\\Temp\\ipykernel_74596\\2644847777.py\", line 151, in train\n",
      "\u001b[34m\u001b[1mwandb\u001b[0m: \u001b[32m\u001b[41mERROR\u001b[0m     model.fit(X_train,\n",
      "\u001b[34m\u001b[1mwandb\u001b[0m: \u001b[32m\u001b[41mERROR\u001b[0m   File \"C:\\anaconda3\\envs\\jupyterenv\\lib\\site-packages\\keras\\src\\utils\\traceback_utils.py\", line 70, in error_handler\n",
      "\u001b[34m\u001b[1mwandb\u001b[0m: \u001b[32m\u001b[41mERROR\u001b[0m     raise e.with_traceback(filtered_tb) from None\n",
      "\u001b[34m\u001b[1mwandb\u001b[0m: \u001b[32m\u001b[41mERROR\u001b[0m   File \"C:\\anaconda3\\envs\\jupyterenv\\lib\\site-packages\\wandb\\integration\\keras\\keras.py\", line 656, in on_train_batch_end\n",
      "\u001b[34m\u001b[1mwandb\u001b[0m: \u001b[32m\u001b[41mERROR\u001b[0m     wandb.run.summary[\"graph\"] = wandb.Graph.from_keras(self.model)\n",
      "\u001b[34m\u001b[1mwandb\u001b[0m: \u001b[32m\u001b[41mERROR\u001b[0m   File \"C:\\anaconda3\\envs\\jupyterenv\\lib\\site-packages\\wandb\\sdk\\wandb_summary.py\", line 52, in __setitem__\n",
      "\u001b[34m\u001b[1mwandb\u001b[0m: \u001b[32m\u001b[41mERROR\u001b[0m     self.update({key: val})\n",
      "\u001b[34m\u001b[1mwandb\u001b[0m: \u001b[32m\u001b[41mERROR\u001b[0m   File \"C:\\anaconda3\\envs\\jupyterenv\\lib\\site-packages\\wandb\\sdk\\wandb_summary.py\", line 74, in update\n",
      "\u001b[34m\u001b[1mwandb\u001b[0m: \u001b[32m\u001b[41mERROR\u001b[0m     self._update(record)\n",
      "\u001b[34m\u001b[1mwandb\u001b[0m: \u001b[32m\u001b[41mERROR\u001b[0m   File \"C:\\anaconda3\\envs\\jupyterenv\\lib\\site-packages\\wandb\\sdk\\wandb_summary.py\", line 128, in _update\n",
      "\u001b[34m\u001b[1mwandb\u001b[0m: \u001b[32m\u001b[41mERROR\u001b[0m     self._update_callback(record)\n",
      "\u001b[34m\u001b[1mwandb\u001b[0m: \u001b[32m\u001b[41mERROR\u001b[0m   File \"C:\\anaconda3\\envs\\jupyterenv\\lib\\site-packages\\wandb\\sdk\\wandb_run.py\", line 400, in wrapper_fn\n",
      "\u001b[34m\u001b[1mwandb\u001b[0m: \u001b[32m\u001b[41mERROR\u001b[0m     return func(self, *args, **kwargs)\n",
      "\u001b[34m\u001b[1mwandb\u001b[0m: \u001b[32m\u001b[41mERROR\u001b[0m   File \"C:\\anaconda3\\envs\\jupyterenv\\lib\\site-packages\\wandb\\sdk\\wandb_run.py\", line 1424, in _summary_update_callback\n",
      "\u001b[34m\u001b[1mwandb\u001b[0m: \u001b[32m\u001b[41mERROR\u001b[0m     self._backend.interface.publish_summary(summary_record)\n",
      "\u001b[34m\u001b[1mwandb\u001b[0m: \u001b[32m\u001b[41mERROR\u001b[0m   File \"C:\\anaconda3\\envs\\jupyterenv\\lib\\site-packages\\wandb\\sdk\\interface\\interface.py\", line 270, in publish_summary\n",
      "\u001b[34m\u001b[1mwandb\u001b[0m: \u001b[32m\u001b[41mERROR\u001b[0m     pb_summary_record = self._make_summary(summary_record)\n",
      "\u001b[34m\u001b[1mwandb\u001b[0m: \u001b[32m\u001b[41mERROR\u001b[0m   File \"C:\\anaconda3\\envs\\jupyterenv\\lib\\site-packages\\wandb\\sdk\\interface\\interface.py\", line 248, in _make_summary\n",
      "\u001b[34m\u001b[1mwandb\u001b[0m: \u001b[32m\u001b[41mERROR\u001b[0m     json_value = self._summary_encode(item.value, path_from_root)\n",
      "\u001b[34m\u001b[1mwandb\u001b[0m: \u001b[32m\u001b[41mERROR\u001b[0m   File \"C:\\anaconda3\\envs\\jupyterenv\\lib\\site-packages\\wandb\\sdk\\interface\\interface.py\", line 221, in _summary_encode\n",
      "\u001b[34m\u001b[1mwandb\u001b[0m: \u001b[32m\u001b[41mERROR\u001b[0m     val_to_json(self._run, path_from_root, value, namespace=\"summary\")\n",
      "\u001b[34m\u001b[1mwandb\u001b[0m: \u001b[32m\u001b[41mERROR\u001b[0m   File \"C:\\anaconda3\\envs\\jupyterenv\\lib\\site-packages\\wandb\\sdk\\data_types\\utils.py\", line 164, in val_to_json\n",
      "\u001b[34m\u001b[1mwandb\u001b[0m: \u001b[32m\u001b[41mERROR\u001b[0m     val.bind_to_run(run, key, namespace)\n",
      "\u001b[34m\u001b[1mwandb\u001b[0m: \u001b[32m\u001b[41mERROR\u001b[0m   File \"C:\\anaconda3\\envs\\jupyterenv\\lib\\site-packages\\wandb\\data_types.py\", line 1377, in bind_to_run\n",
      "\u001b[34m\u001b[1mwandb\u001b[0m: \u001b[32m\u001b[41mERROR\u001b[0m     with codecs.open(tmp_path, \"w\", encoding=\"utf-8\") as fp:\n",
      "\u001b[34m\u001b[1mwandb\u001b[0m: \u001b[32m\u001b[41mERROR\u001b[0m   File \"C:\\anaconda3\\envs\\jupyterenv\\lib\\codecs.py\", line 906, in open\n",
      "\u001b[34m\u001b[1mwandb\u001b[0m: \u001b[32m\u001b[41mERROR\u001b[0m     file = builtins.open(filename, mode, buffering)\n",
      "\u001b[34m\u001b[1mwandb\u001b[0m: \u001b[32m\u001b[41mERROR\u001b[0m FileNotFoundError: [Errno 2] No such file or directory: 'C:\\\\Users\\\\Addisu\\\\AppData\\\\Local\\\\Temp\\\\tmpbie7lvyxwandb-media\\\\c6tzjw0o.graph.json'\n",
      "\u001b[34m\u001b[1mwandb\u001b[0m: \u001b[32m\u001b[41mERROR\u001b[0m \n",
      "\u001b[34m\u001b[1mwandb\u001b[0m: Sweep Agent: Waiting for job.\n",
      "\u001b[34m\u001b[1mwandb\u001b[0m: Job received.\n",
      "\u001b[34m\u001b[1mwandb\u001b[0m: Agent Starting Run: cx3ajuir with config:\n",
      "\u001b[34m\u001b[1mwandb\u001b[0m: \tbatch_size: 40\n",
      "\u001b[34m\u001b[1mwandb\u001b[0m: \tdense_activation: relu\n",
      "\u001b[34m\u001b[1mwandb\u001b[0m: \tdropout: 0.3\n",
      "\u001b[34m\u001b[1mwandb\u001b[0m: \tepochs: 1\n",
      "\u001b[34m\u001b[1mwandb\u001b[0m: \tlearning_rate: 0.0051032615556937215\n",
      "\u001b[34m\u001b[1mwandb\u001b[0m: \toptimizer: sgd\n"
     ]
    },
    {
     "data": {
      "text/html": [
       "wandb version 0.17.2 is available!  To upgrade, please run:\n",
       " $ pip install wandb --upgrade"
      ],
      "text/plain": [
       "<IPython.core.display.HTML object>"
      ]
     },
     "metadata": {},
     "output_type": "display_data"
    },
    {
     "data": {
      "text/html": [
       "Tracking run with wandb version 0.17.0"
      ],
      "text/plain": [
       "<IPython.core.display.HTML object>"
      ]
     },
     "metadata": {},
     "output_type": "display_data"
    },
    {
     "data": {
      "text/html": [
       "Run data is saved locally in <code>C:\\Users\\Addisu\\Desktop\\kidi files\\Python workshop with ellen\\wandb\\run-20240621_155528-cx3ajuir</code>"
      ],
      "text/plain": [
       "<IPython.core.display.HTML object>"
      ]
     },
     "metadata": {},
     "output_type": "display_data"
    },
    {
     "data": {
      "text/html": [
       "Syncing run <strong><a href='https://wandb.ai/evapppp/sweeps-keras/runs/cx3ajuir' target=\"_blank\">worldly-sweep-48</a></strong> to <a href='https://wandb.ai/evapppp/sweeps-keras' target=\"_blank\">Weights & Biases</a> (<a href='https://wandb.me/run' target=\"_blank\">docs</a>)<br/>Sweep page: <a href='https://wandb.ai/evapppp/sweeps-keras/sweeps/qu378scj' target=\"_blank\">https://wandb.ai/evapppp/sweeps-keras/sweeps/qu378scj</a>"
      ],
      "text/plain": [
       "<IPython.core.display.HTML object>"
      ]
     },
     "metadata": {},
     "output_type": "display_data"
    },
    {
     "data": {
      "text/html": [
       " View project at <a href='https://wandb.ai/evapppp/sweeps-keras' target=\"_blank\">https://wandb.ai/evapppp/sweeps-keras</a>"
      ],
      "text/plain": [
       "<IPython.core.display.HTML object>"
      ]
     },
     "metadata": {},
     "output_type": "display_data"
    },
    {
     "data": {
      "text/html": [
       " View sweep at <a href='https://wandb.ai/evapppp/sweeps-keras/sweeps/qu378scj' target=\"_blank\">https://wandb.ai/evapppp/sweeps-keras/sweeps/qu378scj</a>"
      ],
      "text/plain": [
       "<IPython.core.display.HTML object>"
      ]
     },
     "metadata": {},
     "output_type": "display_data"
    },
    {
     "data": {
      "text/html": [
       " View run at <a href='https://wandb.ai/evapppp/sweeps-keras/runs/cx3ajuir' target=\"_blank\">https://wandb.ai/evapppp/sweeps-keras/runs/cx3ajuir</a>"
      ],
      "text/plain": [
       "<IPython.core.display.HTML object>"
      ]
     },
     "metadata": {},
     "output_type": "display_data"
    },
    {
     "name": "stderr",
     "output_type": "stream",
     "text": [
      "Traceback (most recent call last):\n",
      "  File \"C:\\Users\\Addisu\\AppData\\Local\\Temp\\ipykernel_74596\\2644847777.py\", line 221, in sweep_train\n",
      "    train(model,\n",
      "  File \"C:\\Users\\Addisu\\AppData\\Local\\Temp\\ipykernel_74596\\2644847777.py\", line 151, in train\n",
      "    model.fit(X_train,\n",
      "  File \"C:\\anaconda3\\envs\\jupyterenv\\lib\\site-packages\\keras\\src\\utils\\traceback_utils.py\", line 70, in error_handler\n",
      "    raise e.with_traceback(filtered_tb) from None\n",
      "  File \"C:\\anaconda3\\envs\\jupyterenv\\lib\\site-packages\\wandb\\integration\\keras\\keras.py\", line 656, in on_train_batch_end\n",
      "    wandb.run.summary[\"graph\"] = wandb.Graph.from_keras(self.model)\n",
      "  File \"C:\\anaconda3\\envs\\jupyterenv\\lib\\site-packages\\wandb\\sdk\\wandb_summary.py\", line 52, in __setitem__\n",
      "    self.update({key: val})\n",
      "  File \"C:\\anaconda3\\envs\\jupyterenv\\lib\\site-packages\\wandb\\sdk\\wandb_summary.py\", line 74, in update\n",
      "    self._update(record)\n",
      "  File \"C:\\anaconda3\\envs\\jupyterenv\\lib\\site-packages\\wandb\\sdk\\wandb_summary.py\", line 128, in _update\n",
      "    self._update_callback(record)\n",
      "  File \"C:\\anaconda3\\envs\\jupyterenv\\lib\\site-packages\\wandb\\sdk\\wandb_run.py\", line 400, in wrapper_fn\n",
      "    return func(self, *args, **kwargs)\n",
      "  File \"C:\\anaconda3\\envs\\jupyterenv\\lib\\site-packages\\wandb\\sdk\\wandb_run.py\", line 1424, in _summary_update_callback\n",
      "    self._backend.interface.publish_summary(summary_record)\n",
      "  File \"C:\\anaconda3\\envs\\jupyterenv\\lib\\site-packages\\wandb\\sdk\\interface\\interface.py\", line 270, in publish_summary\n",
      "    pb_summary_record = self._make_summary(summary_record)\n",
      "  File \"C:\\anaconda3\\envs\\jupyterenv\\lib\\site-packages\\wandb\\sdk\\interface\\interface.py\", line 248, in _make_summary\n",
      "    json_value = self._summary_encode(item.value, path_from_root)\n",
      "  File \"C:\\anaconda3\\envs\\jupyterenv\\lib\\site-packages\\wandb\\sdk\\interface\\interface.py\", line 221, in _summary_encode\n",
      "    val_to_json(self._run, path_from_root, value, namespace=\"summary\")\n",
      "  File \"C:\\anaconda3\\envs\\jupyterenv\\lib\\site-packages\\wandb\\sdk\\data_types\\utils.py\", line 164, in val_to_json\n",
      "    val.bind_to_run(run, key, namespace)\n",
      "  File \"C:\\anaconda3\\envs\\jupyterenv\\lib\\site-packages\\wandb\\data_types.py\", line 1377, in bind_to_run\n",
      "    with codecs.open(tmp_path, \"w\", encoding=\"utf-8\") as fp:\n",
      "  File \"C:\\anaconda3\\envs\\jupyterenv\\lib\\codecs.py\", line 906, in open\n",
      "    file = builtins.open(filename, mode, buffering)\n",
      "FileNotFoundError: [Errno 2] No such file or directory: 'C:\\\\Users\\\\Addisu\\\\AppData\\\\Local\\\\Temp\\\\tmpbie7lvyxwandb-media\\\\0d9ztkxr.graph.json'\n"
     ]
    },
    {
     "data": {
      "text/html": [
       " View run <strong style=\"color:#cdcd00\">worldly-sweep-48</strong> at: <a href='https://wandb.ai/evapppp/sweeps-keras/runs/cx3ajuir' target=\"_blank\">https://wandb.ai/evapppp/sweeps-keras/runs/cx3ajuir</a><br/> View project at: <a href='https://wandb.ai/evapppp/sweeps-keras' target=\"_blank\">https://wandb.ai/evapppp/sweeps-keras</a><br/>Synced 5 W&B file(s), 0 media file(s), 0 artifact file(s) and 0 other file(s)"
      ],
      "text/plain": [
       "<IPython.core.display.HTML object>"
      ]
     },
     "metadata": {},
     "output_type": "display_data"
    },
    {
     "data": {
      "text/html": [
       "Find logs at: <code>.\\wandb\\run-20240621_155528-cx3ajuir\\logs</code>"
      ],
      "text/plain": [
       "<IPython.core.display.HTML object>"
      ]
     },
     "metadata": {},
     "output_type": "display_data"
    },
    {
     "name": "stderr",
     "output_type": "stream",
     "text": [
      "Run cx3ajuir errored:\n",
      "Traceback (most recent call last):\n",
      "  File \"C:\\anaconda3\\envs\\jupyterenv\\lib\\site-packages\\wandb\\agents\\pyagent.py\", line 307, in _run_job\n",
      "    self._function()\n",
      "  File \"C:\\Users\\Addisu\\AppData\\Local\\Temp\\ipykernel_74596\\2644847777.py\", line 221, in sweep_train\n",
      "    train(model,\n",
      "  File \"C:\\Users\\Addisu\\AppData\\Local\\Temp\\ipykernel_74596\\2644847777.py\", line 151, in train\n",
      "    model.fit(X_train,\n",
      "  File \"C:\\anaconda3\\envs\\jupyterenv\\lib\\site-packages\\keras\\src\\utils\\traceback_utils.py\", line 70, in error_handler\n",
      "    raise e.with_traceback(filtered_tb) from None\n",
      "  File \"C:\\anaconda3\\envs\\jupyterenv\\lib\\site-packages\\wandb\\integration\\keras\\keras.py\", line 656, in on_train_batch_end\n",
      "    wandb.run.summary[\"graph\"] = wandb.Graph.from_keras(self.model)\n",
      "  File \"C:\\anaconda3\\envs\\jupyterenv\\lib\\site-packages\\wandb\\sdk\\wandb_summary.py\", line 52, in __setitem__\n",
      "    self.update({key: val})\n",
      "  File \"C:\\anaconda3\\envs\\jupyterenv\\lib\\site-packages\\wandb\\sdk\\wandb_summary.py\", line 74, in update\n",
      "    self._update(record)\n",
      "  File \"C:\\anaconda3\\envs\\jupyterenv\\lib\\site-packages\\wandb\\sdk\\wandb_summary.py\", line 128, in _update\n",
      "    self._update_callback(record)\n",
      "  File \"C:\\anaconda3\\envs\\jupyterenv\\lib\\site-packages\\wandb\\sdk\\wandb_run.py\", line 400, in wrapper_fn\n",
      "    return func(self, *args, **kwargs)\n",
      "  File \"C:\\anaconda3\\envs\\jupyterenv\\lib\\site-packages\\wandb\\sdk\\wandb_run.py\", line 1424, in _summary_update_callback\n",
      "    self._backend.interface.publish_summary(summary_record)\n",
      "  File \"C:\\anaconda3\\envs\\jupyterenv\\lib\\site-packages\\wandb\\sdk\\interface\\interface.py\", line 270, in publish_summary\n",
      "    pb_summary_record = self._make_summary(summary_record)\n",
      "  File \"C:\\anaconda3\\envs\\jupyterenv\\lib\\site-packages\\wandb\\sdk\\interface\\interface.py\", line 248, in _make_summary\n",
      "    json_value = self._summary_encode(item.value, path_from_root)\n",
      "  File \"C:\\anaconda3\\envs\\jupyterenv\\lib\\site-packages\\wandb\\sdk\\interface\\interface.py\", line 221, in _summary_encode\n",
      "    val_to_json(self._run, path_from_root, value, namespace=\"summary\")\n",
      "  File \"C:\\anaconda3\\envs\\jupyterenv\\lib\\site-packages\\wandb\\sdk\\data_types\\utils.py\", line 164, in val_to_json\n",
      "    val.bind_to_run(run, key, namespace)\n",
      "  File \"C:\\anaconda3\\envs\\jupyterenv\\lib\\site-packages\\wandb\\data_types.py\", line 1377, in bind_to_run\n",
      "    with codecs.open(tmp_path, \"w\", encoding=\"utf-8\") as fp:\n",
      "  File \"C:\\anaconda3\\envs\\jupyterenv\\lib\\codecs.py\", line 906, in open\n",
      "    file = builtins.open(filename, mode, buffering)\n",
      "FileNotFoundError: [Errno 2] No such file or directory: 'C:\\\\Users\\\\Addisu\\\\AppData\\\\Local\\\\Temp\\\\tmpbie7lvyxwandb-media\\\\0d9ztkxr.graph.json'\n",
      "\n",
      "\u001b[34m\u001b[1mwandb\u001b[0m: \u001b[32m\u001b[41mERROR\u001b[0m Run cx3ajuir errored:\n",
      "\u001b[34m\u001b[1mwandb\u001b[0m: \u001b[32m\u001b[41mERROR\u001b[0m Traceback (most recent call last):\n",
      "\u001b[34m\u001b[1mwandb\u001b[0m: \u001b[32m\u001b[41mERROR\u001b[0m   File \"C:\\anaconda3\\envs\\jupyterenv\\lib\\site-packages\\wandb\\agents\\pyagent.py\", line 307, in _run_job\n",
      "\u001b[34m\u001b[1mwandb\u001b[0m: \u001b[32m\u001b[41mERROR\u001b[0m     self._function()\n",
      "\u001b[34m\u001b[1mwandb\u001b[0m: \u001b[32m\u001b[41mERROR\u001b[0m   File \"C:\\Users\\Addisu\\AppData\\Local\\Temp\\ipykernel_74596\\2644847777.py\", line 221, in sweep_train\n",
      "\u001b[34m\u001b[1mwandb\u001b[0m: \u001b[32m\u001b[41mERROR\u001b[0m     train(model,\n",
      "\u001b[34m\u001b[1mwandb\u001b[0m: \u001b[32m\u001b[41mERROR\u001b[0m   File \"C:\\Users\\Addisu\\AppData\\Local\\Temp\\ipykernel_74596\\2644847777.py\", line 151, in train\n",
      "\u001b[34m\u001b[1mwandb\u001b[0m: \u001b[32m\u001b[41mERROR\u001b[0m     model.fit(X_train,\n",
      "\u001b[34m\u001b[1mwandb\u001b[0m: \u001b[32m\u001b[41mERROR\u001b[0m   File \"C:\\anaconda3\\envs\\jupyterenv\\lib\\site-packages\\keras\\src\\utils\\traceback_utils.py\", line 70, in error_handler\n",
      "\u001b[34m\u001b[1mwandb\u001b[0m: \u001b[32m\u001b[41mERROR\u001b[0m     raise e.with_traceback(filtered_tb) from None\n",
      "\u001b[34m\u001b[1mwandb\u001b[0m: \u001b[32m\u001b[41mERROR\u001b[0m   File \"C:\\anaconda3\\envs\\jupyterenv\\lib\\site-packages\\wandb\\integration\\keras\\keras.py\", line 656, in on_train_batch_end\n",
      "\u001b[34m\u001b[1mwandb\u001b[0m: \u001b[32m\u001b[41mERROR\u001b[0m     wandb.run.summary[\"graph\"] = wandb.Graph.from_keras(self.model)\n",
      "\u001b[34m\u001b[1mwandb\u001b[0m: \u001b[32m\u001b[41mERROR\u001b[0m   File \"C:\\anaconda3\\envs\\jupyterenv\\lib\\site-packages\\wandb\\sdk\\wandb_summary.py\", line 52, in __setitem__\n",
      "\u001b[34m\u001b[1mwandb\u001b[0m: \u001b[32m\u001b[41mERROR\u001b[0m     self.update({key: val})\n",
      "\u001b[34m\u001b[1mwandb\u001b[0m: \u001b[32m\u001b[41mERROR\u001b[0m   File \"C:\\anaconda3\\envs\\jupyterenv\\lib\\site-packages\\wandb\\sdk\\wandb_summary.py\", line 74, in update\n",
      "\u001b[34m\u001b[1mwandb\u001b[0m: \u001b[32m\u001b[41mERROR\u001b[0m     self._update(record)\n",
      "\u001b[34m\u001b[1mwandb\u001b[0m: \u001b[32m\u001b[41mERROR\u001b[0m   File \"C:\\anaconda3\\envs\\jupyterenv\\lib\\site-packages\\wandb\\sdk\\wandb_summary.py\", line 128, in _update\n",
      "\u001b[34m\u001b[1mwandb\u001b[0m: \u001b[32m\u001b[41mERROR\u001b[0m     self._update_callback(record)\n",
      "\u001b[34m\u001b[1mwandb\u001b[0m: \u001b[32m\u001b[41mERROR\u001b[0m   File \"C:\\anaconda3\\envs\\jupyterenv\\lib\\site-packages\\wandb\\sdk\\wandb_run.py\", line 400, in wrapper_fn\n",
      "\u001b[34m\u001b[1mwandb\u001b[0m: \u001b[32m\u001b[41mERROR\u001b[0m     return func(self, *args, **kwargs)\n",
      "\u001b[34m\u001b[1mwandb\u001b[0m: \u001b[32m\u001b[41mERROR\u001b[0m   File \"C:\\anaconda3\\envs\\jupyterenv\\lib\\site-packages\\wandb\\sdk\\wandb_run.py\", line 1424, in _summary_update_callback\n",
      "\u001b[34m\u001b[1mwandb\u001b[0m: \u001b[32m\u001b[41mERROR\u001b[0m     self._backend.interface.publish_summary(summary_record)\n",
      "\u001b[34m\u001b[1mwandb\u001b[0m: \u001b[32m\u001b[41mERROR\u001b[0m   File \"C:\\anaconda3\\envs\\jupyterenv\\lib\\site-packages\\wandb\\sdk\\interface\\interface.py\", line 270, in publish_summary\n",
      "\u001b[34m\u001b[1mwandb\u001b[0m: \u001b[32m\u001b[41mERROR\u001b[0m     pb_summary_record = self._make_summary(summary_record)\n",
      "\u001b[34m\u001b[1mwandb\u001b[0m: \u001b[32m\u001b[41mERROR\u001b[0m   File \"C:\\anaconda3\\envs\\jupyterenv\\lib\\site-packages\\wandb\\sdk\\interface\\interface.py\", line 248, in _make_summary\n",
      "\u001b[34m\u001b[1mwandb\u001b[0m: \u001b[32m\u001b[41mERROR\u001b[0m     json_value = self._summary_encode(item.value, path_from_root)\n",
      "\u001b[34m\u001b[1mwandb\u001b[0m: \u001b[32m\u001b[41mERROR\u001b[0m   File \"C:\\anaconda3\\envs\\jupyterenv\\lib\\site-packages\\wandb\\sdk\\interface\\interface.py\", line 221, in _summary_encode\n",
      "\u001b[34m\u001b[1mwandb\u001b[0m: \u001b[32m\u001b[41mERROR\u001b[0m     val_to_json(self._run, path_from_root, value, namespace=\"summary\")\n",
      "\u001b[34m\u001b[1mwandb\u001b[0m: \u001b[32m\u001b[41mERROR\u001b[0m   File \"C:\\anaconda3\\envs\\jupyterenv\\lib\\site-packages\\wandb\\sdk\\data_types\\utils.py\", line 164, in val_to_json\n",
      "\u001b[34m\u001b[1mwandb\u001b[0m: \u001b[32m\u001b[41mERROR\u001b[0m     val.bind_to_run(run, key, namespace)\n",
      "\u001b[34m\u001b[1mwandb\u001b[0m: \u001b[32m\u001b[41mERROR\u001b[0m   File \"C:\\anaconda3\\envs\\jupyterenv\\lib\\site-packages\\wandb\\data_types.py\", line 1377, in bind_to_run\n",
      "\u001b[34m\u001b[1mwandb\u001b[0m: \u001b[32m\u001b[41mERROR\u001b[0m     with codecs.open(tmp_path, \"w\", encoding=\"utf-8\") as fp:\n",
      "\u001b[34m\u001b[1mwandb\u001b[0m: \u001b[32m\u001b[41mERROR\u001b[0m   File \"C:\\anaconda3\\envs\\jupyterenv\\lib\\codecs.py\", line 906, in open\n",
      "\u001b[34m\u001b[1mwandb\u001b[0m: \u001b[32m\u001b[41mERROR\u001b[0m     file = builtins.open(filename, mode, buffering)\n",
      "\u001b[34m\u001b[1mwandb\u001b[0m: \u001b[32m\u001b[41mERROR\u001b[0m FileNotFoundError: [Errno 2] No such file or directory: 'C:\\\\Users\\\\Addisu\\\\AppData\\\\Local\\\\Temp\\\\tmpbie7lvyxwandb-media\\\\0d9ztkxr.graph.json'\n",
      "\u001b[34m\u001b[1mwandb\u001b[0m: \u001b[32m\u001b[41mERROR\u001b[0m \n",
      "\u001b[34m\u001b[1mwandb\u001b[0m: Agent Starting Run: vq20ej17 with config:\n",
      "\u001b[34m\u001b[1mwandb\u001b[0m: \tbatch_size: 80\n",
      "\u001b[34m\u001b[1mwandb\u001b[0m: \tdense_activation: relu\n",
      "\u001b[34m\u001b[1mwandb\u001b[0m: \tdropout: 0.2\n",
      "\u001b[34m\u001b[1mwandb\u001b[0m: \tepochs: 1\n",
      "\u001b[34m\u001b[1mwandb\u001b[0m: \tlearning_rate: 0.002058802567817246\n",
      "\u001b[34m\u001b[1mwandb\u001b[0m: \toptimizer: adam\n"
     ]
    },
    {
     "data": {
      "text/html": [
       "wandb version 0.17.2 is available!  To upgrade, please run:\n",
       " $ pip install wandb --upgrade"
      ],
      "text/plain": [
       "<IPython.core.display.HTML object>"
      ]
     },
     "metadata": {},
     "output_type": "display_data"
    },
    {
     "data": {
      "text/html": [
       "Tracking run with wandb version 0.17.0"
      ],
      "text/plain": [
       "<IPython.core.display.HTML object>"
      ]
     },
     "metadata": {},
     "output_type": "display_data"
    },
    {
     "data": {
      "text/html": [
       "Run data is saved locally in <code>C:\\Users\\Addisu\\Desktop\\kidi files\\Python workshop with ellen\\wandb\\run-20240621_155552-vq20ej17</code>"
      ],
      "text/plain": [
       "<IPython.core.display.HTML object>"
      ]
     },
     "metadata": {},
     "output_type": "display_data"
    },
    {
     "data": {
      "text/html": [
       "Syncing run <strong><a href='https://wandb.ai/evapppp/sweeps-keras/runs/vq20ej17' target=\"_blank\">rich-sweep-49</a></strong> to <a href='https://wandb.ai/evapppp/sweeps-keras' target=\"_blank\">Weights & Biases</a> (<a href='https://wandb.me/run' target=\"_blank\">docs</a>)<br/>Sweep page: <a href='https://wandb.ai/evapppp/sweeps-keras/sweeps/qu378scj' target=\"_blank\">https://wandb.ai/evapppp/sweeps-keras/sweeps/qu378scj</a>"
      ],
      "text/plain": [
       "<IPython.core.display.HTML object>"
      ]
     },
     "metadata": {},
     "output_type": "display_data"
    },
    {
     "data": {
      "text/html": [
       " View project at <a href='https://wandb.ai/evapppp/sweeps-keras' target=\"_blank\">https://wandb.ai/evapppp/sweeps-keras</a>"
      ],
      "text/plain": [
       "<IPython.core.display.HTML object>"
      ]
     },
     "metadata": {},
     "output_type": "display_data"
    },
    {
     "data": {
      "text/html": [
       " View sweep at <a href='https://wandb.ai/evapppp/sweeps-keras/sweeps/qu378scj' target=\"_blank\">https://wandb.ai/evapppp/sweeps-keras/sweeps/qu378scj</a>"
      ],
      "text/plain": [
       "<IPython.core.display.HTML object>"
      ]
     },
     "metadata": {},
     "output_type": "display_data"
    },
    {
     "data": {
      "text/html": [
       " View run at <a href='https://wandb.ai/evapppp/sweeps-keras/runs/vq20ej17' target=\"_blank\">https://wandb.ai/evapppp/sweeps-keras/runs/vq20ej17</a>"
      ],
      "text/plain": [
       "<IPython.core.display.HTML object>"
      ]
     },
     "metadata": {},
     "output_type": "display_data"
    },
    {
     "name": "stderr",
     "output_type": "stream",
     "text": [
      "Traceback (most recent call last):\n",
      "  File \"C:\\Users\\Addisu\\AppData\\Local\\Temp\\ipykernel_74596\\2644847777.py\", line 221, in sweep_train\n",
      "    train(model,\n",
      "  File \"C:\\Users\\Addisu\\AppData\\Local\\Temp\\ipykernel_74596\\2644847777.py\", line 151, in train\n",
      "    model.fit(X_train,\n",
      "  File \"C:\\anaconda3\\envs\\jupyterenv\\lib\\site-packages\\keras\\src\\utils\\traceback_utils.py\", line 70, in error_handler\n",
      "    raise e.with_traceback(filtered_tb) from None\n",
      "  File \"C:\\anaconda3\\envs\\jupyterenv\\lib\\site-packages\\wandb\\integration\\keras\\keras.py\", line 656, in on_train_batch_end\n",
      "    wandb.run.summary[\"graph\"] = wandb.Graph.from_keras(self.model)\n",
      "  File \"C:\\anaconda3\\envs\\jupyterenv\\lib\\site-packages\\wandb\\sdk\\wandb_summary.py\", line 52, in __setitem__\n",
      "    self.update({key: val})\n",
      "  File \"C:\\anaconda3\\envs\\jupyterenv\\lib\\site-packages\\wandb\\sdk\\wandb_summary.py\", line 74, in update\n",
      "    self._update(record)\n",
      "  File \"C:\\anaconda3\\envs\\jupyterenv\\lib\\site-packages\\wandb\\sdk\\wandb_summary.py\", line 128, in _update\n",
      "    self._update_callback(record)\n",
      "  File \"C:\\anaconda3\\envs\\jupyterenv\\lib\\site-packages\\wandb\\sdk\\wandb_run.py\", line 400, in wrapper_fn\n",
      "    return func(self, *args, **kwargs)\n",
      "  File \"C:\\anaconda3\\envs\\jupyterenv\\lib\\site-packages\\wandb\\sdk\\wandb_run.py\", line 1424, in _summary_update_callback\n",
      "    self._backend.interface.publish_summary(summary_record)\n",
      "  File \"C:\\anaconda3\\envs\\jupyterenv\\lib\\site-packages\\wandb\\sdk\\interface\\interface.py\", line 270, in publish_summary\n",
      "    pb_summary_record = self._make_summary(summary_record)\n",
      "  File \"C:\\anaconda3\\envs\\jupyterenv\\lib\\site-packages\\wandb\\sdk\\interface\\interface.py\", line 248, in _make_summary\n",
      "    json_value = self._summary_encode(item.value, path_from_root)\n",
      "  File \"C:\\anaconda3\\envs\\jupyterenv\\lib\\site-packages\\wandb\\sdk\\interface\\interface.py\", line 221, in _summary_encode\n",
      "    val_to_json(self._run, path_from_root, value, namespace=\"summary\")\n",
      "  File \"C:\\anaconda3\\envs\\jupyterenv\\lib\\site-packages\\wandb\\sdk\\data_types\\utils.py\", line 164, in val_to_json\n",
      "    val.bind_to_run(run, key, namespace)\n",
      "  File \"C:\\anaconda3\\envs\\jupyterenv\\lib\\site-packages\\wandb\\data_types.py\", line 1377, in bind_to_run\n",
      "    with codecs.open(tmp_path, \"w\", encoding=\"utf-8\") as fp:\n",
      "  File \"C:\\anaconda3\\envs\\jupyterenv\\lib\\codecs.py\", line 906, in open\n",
      "    file = builtins.open(filename, mode, buffering)\n",
      "FileNotFoundError: [Errno 2] No such file or directory: 'C:\\\\Users\\\\Addisu\\\\AppData\\\\Local\\\\Temp\\\\tmpbie7lvyxwandb-media\\\\l782vvq6.graph.json'\n"
     ]
    },
    {
     "data": {
      "text/html": [
       " View run <strong style=\"color:#cdcd00\">rich-sweep-49</strong> at: <a href='https://wandb.ai/evapppp/sweeps-keras/runs/vq20ej17' target=\"_blank\">https://wandb.ai/evapppp/sweeps-keras/runs/vq20ej17</a><br/> View project at: <a href='https://wandb.ai/evapppp/sweeps-keras' target=\"_blank\">https://wandb.ai/evapppp/sweeps-keras</a><br/>Synced 5 W&B file(s), 0 media file(s), 0 artifact file(s) and 0 other file(s)"
      ],
      "text/plain": [
       "<IPython.core.display.HTML object>"
      ]
     },
     "metadata": {},
     "output_type": "display_data"
    },
    {
     "data": {
      "text/html": [
       "Find logs at: <code>.\\wandb\\run-20240621_155552-vq20ej17\\logs</code>"
      ],
      "text/plain": [
       "<IPython.core.display.HTML object>"
      ]
     },
     "metadata": {},
     "output_type": "display_data"
    },
    {
     "name": "stderr",
     "output_type": "stream",
     "text": [
      "Run vq20ej17 errored:\n",
      "Traceback (most recent call last):\n",
      "  File \"C:\\anaconda3\\envs\\jupyterenv\\lib\\site-packages\\wandb\\agents\\pyagent.py\", line 307, in _run_job\n",
      "    self._function()\n",
      "  File \"C:\\Users\\Addisu\\AppData\\Local\\Temp\\ipykernel_74596\\2644847777.py\", line 221, in sweep_train\n",
      "    train(model,\n",
      "  File \"C:\\Users\\Addisu\\AppData\\Local\\Temp\\ipykernel_74596\\2644847777.py\", line 151, in train\n",
      "    model.fit(X_train,\n",
      "  File \"C:\\anaconda3\\envs\\jupyterenv\\lib\\site-packages\\keras\\src\\utils\\traceback_utils.py\", line 70, in error_handler\n",
      "    raise e.with_traceback(filtered_tb) from None\n",
      "  File \"C:\\anaconda3\\envs\\jupyterenv\\lib\\site-packages\\wandb\\integration\\keras\\keras.py\", line 656, in on_train_batch_end\n",
      "    wandb.run.summary[\"graph\"] = wandb.Graph.from_keras(self.model)\n",
      "  File \"C:\\anaconda3\\envs\\jupyterenv\\lib\\site-packages\\wandb\\sdk\\wandb_summary.py\", line 52, in __setitem__\n",
      "    self.update({key: val})\n",
      "  File \"C:\\anaconda3\\envs\\jupyterenv\\lib\\site-packages\\wandb\\sdk\\wandb_summary.py\", line 74, in update\n",
      "    self._update(record)\n",
      "  File \"C:\\anaconda3\\envs\\jupyterenv\\lib\\site-packages\\wandb\\sdk\\wandb_summary.py\", line 128, in _update\n",
      "    self._update_callback(record)\n",
      "  File \"C:\\anaconda3\\envs\\jupyterenv\\lib\\site-packages\\wandb\\sdk\\wandb_run.py\", line 400, in wrapper_fn\n",
      "    return func(self, *args, **kwargs)\n",
      "  File \"C:\\anaconda3\\envs\\jupyterenv\\lib\\site-packages\\wandb\\sdk\\wandb_run.py\", line 1424, in _summary_update_callback\n",
      "    self._backend.interface.publish_summary(summary_record)\n",
      "  File \"C:\\anaconda3\\envs\\jupyterenv\\lib\\site-packages\\wandb\\sdk\\interface\\interface.py\", line 270, in publish_summary\n",
      "    pb_summary_record = self._make_summary(summary_record)\n",
      "  File \"C:\\anaconda3\\envs\\jupyterenv\\lib\\site-packages\\wandb\\sdk\\interface\\interface.py\", line 248, in _make_summary\n",
      "    json_value = self._summary_encode(item.value, path_from_root)\n",
      "  File \"C:\\anaconda3\\envs\\jupyterenv\\lib\\site-packages\\wandb\\sdk\\interface\\interface.py\", line 221, in _summary_encode\n",
      "    val_to_json(self._run, path_from_root, value, namespace=\"summary\")\n",
      "  File \"C:\\anaconda3\\envs\\jupyterenv\\lib\\site-packages\\wandb\\sdk\\data_types\\utils.py\", line 164, in val_to_json\n",
      "    val.bind_to_run(run, key, namespace)\n",
      "  File \"C:\\anaconda3\\envs\\jupyterenv\\lib\\site-packages\\wandb\\data_types.py\", line 1377, in bind_to_run\n",
      "    with codecs.open(tmp_path, \"w\", encoding=\"utf-8\") as fp:\n",
      "  File \"C:\\anaconda3\\envs\\jupyterenv\\lib\\codecs.py\", line 906, in open\n",
      "    file = builtins.open(filename, mode, buffering)\n",
      "FileNotFoundError: [Errno 2] No such file or directory: 'C:\\\\Users\\\\Addisu\\\\AppData\\\\Local\\\\Temp\\\\tmpbie7lvyxwandb-media\\\\l782vvq6.graph.json'\n",
      "\n",
      "\u001b[34m\u001b[1mwandb\u001b[0m: \u001b[32m\u001b[41mERROR\u001b[0m Run vq20ej17 errored:\n",
      "\u001b[34m\u001b[1mwandb\u001b[0m: \u001b[32m\u001b[41mERROR\u001b[0m Traceback (most recent call last):\n",
      "\u001b[34m\u001b[1mwandb\u001b[0m: \u001b[32m\u001b[41mERROR\u001b[0m   File \"C:\\anaconda3\\envs\\jupyterenv\\lib\\site-packages\\wandb\\agents\\pyagent.py\", line 307, in _run_job\n",
      "\u001b[34m\u001b[1mwandb\u001b[0m: \u001b[32m\u001b[41mERROR\u001b[0m     self._function()\n",
      "\u001b[34m\u001b[1mwandb\u001b[0m: \u001b[32m\u001b[41mERROR\u001b[0m   File \"C:\\Users\\Addisu\\AppData\\Local\\Temp\\ipykernel_74596\\2644847777.py\", line 221, in sweep_train\n",
      "\u001b[34m\u001b[1mwandb\u001b[0m: \u001b[32m\u001b[41mERROR\u001b[0m     train(model,\n",
      "\u001b[34m\u001b[1mwandb\u001b[0m: \u001b[32m\u001b[41mERROR\u001b[0m   File \"C:\\Users\\Addisu\\AppData\\Local\\Temp\\ipykernel_74596\\2644847777.py\", line 151, in train\n",
      "\u001b[34m\u001b[1mwandb\u001b[0m: \u001b[32m\u001b[41mERROR\u001b[0m     model.fit(X_train,\n",
      "\u001b[34m\u001b[1mwandb\u001b[0m: \u001b[32m\u001b[41mERROR\u001b[0m   File \"C:\\anaconda3\\envs\\jupyterenv\\lib\\site-packages\\keras\\src\\utils\\traceback_utils.py\", line 70, in error_handler\n",
      "\u001b[34m\u001b[1mwandb\u001b[0m: \u001b[32m\u001b[41mERROR\u001b[0m     raise e.with_traceback(filtered_tb) from None\n",
      "\u001b[34m\u001b[1mwandb\u001b[0m: \u001b[32m\u001b[41mERROR\u001b[0m   File \"C:\\anaconda3\\envs\\jupyterenv\\lib\\site-packages\\wandb\\integration\\keras\\keras.py\", line 656, in on_train_batch_end\n",
      "\u001b[34m\u001b[1mwandb\u001b[0m: \u001b[32m\u001b[41mERROR\u001b[0m     wandb.run.summary[\"graph\"] = wandb.Graph.from_keras(self.model)\n",
      "\u001b[34m\u001b[1mwandb\u001b[0m: \u001b[32m\u001b[41mERROR\u001b[0m   File \"C:\\anaconda3\\envs\\jupyterenv\\lib\\site-packages\\wandb\\sdk\\wandb_summary.py\", line 52, in __setitem__\n",
      "\u001b[34m\u001b[1mwandb\u001b[0m: \u001b[32m\u001b[41mERROR\u001b[0m     self.update({key: val})\n",
      "\u001b[34m\u001b[1mwandb\u001b[0m: \u001b[32m\u001b[41mERROR\u001b[0m   File \"C:\\anaconda3\\envs\\jupyterenv\\lib\\site-packages\\wandb\\sdk\\wandb_summary.py\", line 74, in update\n",
      "\u001b[34m\u001b[1mwandb\u001b[0m: \u001b[32m\u001b[41mERROR\u001b[0m     self._update(record)\n",
      "\u001b[34m\u001b[1mwandb\u001b[0m: \u001b[32m\u001b[41mERROR\u001b[0m   File \"C:\\anaconda3\\envs\\jupyterenv\\lib\\site-packages\\wandb\\sdk\\wandb_summary.py\", line 128, in _update\n",
      "\u001b[34m\u001b[1mwandb\u001b[0m: \u001b[32m\u001b[41mERROR\u001b[0m     self._update_callback(record)\n",
      "\u001b[34m\u001b[1mwandb\u001b[0m: \u001b[32m\u001b[41mERROR\u001b[0m   File \"C:\\anaconda3\\envs\\jupyterenv\\lib\\site-packages\\wandb\\sdk\\wandb_run.py\", line 400, in wrapper_fn\n",
      "\u001b[34m\u001b[1mwandb\u001b[0m: \u001b[32m\u001b[41mERROR\u001b[0m     return func(self, *args, **kwargs)\n",
      "\u001b[34m\u001b[1mwandb\u001b[0m: \u001b[32m\u001b[41mERROR\u001b[0m   File \"C:\\anaconda3\\envs\\jupyterenv\\lib\\site-packages\\wandb\\sdk\\wandb_run.py\", line 1424, in _summary_update_callback\n",
      "\u001b[34m\u001b[1mwandb\u001b[0m: \u001b[32m\u001b[41mERROR\u001b[0m     self._backend.interface.publish_summary(summary_record)\n",
      "\u001b[34m\u001b[1mwandb\u001b[0m: \u001b[32m\u001b[41mERROR\u001b[0m   File \"C:\\anaconda3\\envs\\jupyterenv\\lib\\site-packages\\wandb\\sdk\\interface\\interface.py\", line 270, in publish_summary\n",
      "\u001b[34m\u001b[1mwandb\u001b[0m: \u001b[32m\u001b[41mERROR\u001b[0m     pb_summary_record = self._make_summary(summary_record)\n",
      "\u001b[34m\u001b[1mwandb\u001b[0m: \u001b[32m\u001b[41mERROR\u001b[0m   File \"C:\\anaconda3\\envs\\jupyterenv\\lib\\site-packages\\wandb\\sdk\\interface\\interface.py\", line 248, in _make_summary\n",
      "\u001b[34m\u001b[1mwandb\u001b[0m: \u001b[32m\u001b[41mERROR\u001b[0m     json_value = self._summary_encode(item.value, path_from_root)\n",
      "\u001b[34m\u001b[1mwandb\u001b[0m: \u001b[32m\u001b[41mERROR\u001b[0m   File \"C:\\anaconda3\\envs\\jupyterenv\\lib\\site-packages\\wandb\\sdk\\interface\\interface.py\", line 221, in _summary_encode\n",
      "\u001b[34m\u001b[1mwandb\u001b[0m: \u001b[32m\u001b[41mERROR\u001b[0m     val_to_json(self._run, path_from_root, value, namespace=\"summary\")\n",
      "\u001b[34m\u001b[1mwandb\u001b[0m: \u001b[32m\u001b[41mERROR\u001b[0m   File \"C:\\anaconda3\\envs\\jupyterenv\\lib\\site-packages\\wandb\\sdk\\data_types\\utils.py\", line 164, in val_to_json\n",
      "\u001b[34m\u001b[1mwandb\u001b[0m: \u001b[32m\u001b[41mERROR\u001b[0m     val.bind_to_run(run, key, namespace)\n",
      "\u001b[34m\u001b[1mwandb\u001b[0m: \u001b[32m\u001b[41mERROR\u001b[0m   File \"C:\\anaconda3\\envs\\jupyterenv\\lib\\site-packages\\wandb\\data_types.py\", line 1377, in bind_to_run\n",
      "\u001b[34m\u001b[1mwandb\u001b[0m: \u001b[32m\u001b[41mERROR\u001b[0m     with codecs.open(tmp_path, \"w\", encoding=\"utf-8\") as fp:\n",
      "\u001b[34m\u001b[1mwandb\u001b[0m: \u001b[32m\u001b[41mERROR\u001b[0m   File \"C:\\anaconda3\\envs\\jupyterenv\\lib\\codecs.py\", line 906, in open\n",
      "\u001b[34m\u001b[1mwandb\u001b[0m: \u001b[32m\u001b[41mERROR\u001b[0m     file = builtins.open(filename, mode, buffering)\n",
      "\u001b[34m\u001b[1mwandb\u001b[0m: \u001b[32m\u001b[41mERROR\u001b[0m FileNotFoundError: [Errno 2] No such file or directory: 'C:\\\\Users\\\\Addisu\\\\AppData\\\\Local\\\\Temp\\\\tmpbie7lvyxwandb-media\\\\l782vvq6.graph.json'\n",
      "\u001b[34m\u001b[1mwandb\u001b[0m: \u001b[32m\u001b[41mERROR\u001b[0m \n",
      "\u001b[34m\u001b[1mwandb\u001b[0m: Sweep Agent: Waiting for job.\n",
      "\u001b[34m\u001b[1mwandb\u001b[0m: Job received.\n",
      "\u001b[34m\u001b[1mwandb\u001b[0m: Agent Starting Run: n4lv8ttv with config:\n",
      "\u001b[34m\u001b[1mwandb\u001b[0m: \tbatch_size: 56\n",
      "\u001b[34m\u001b[1mwandb\u001b[0m: \tdense_activation: sigmoid\n",
      "\u001b[34m\u001b[1mwandb\u001b[0m: \tdropout: 0.2\n",
      "\u001b[34m\u001b[1mwandb\u001b[0m: \tepochs: 1\n",
      "\u001b[34m\u001b[1mwandb\u001b[0m: \tlearning_rate: 0.006690930591022568\n",
      "\u001b[34m\u001b[1mwandb\u001b[0m: \toptimizer: sgd\n"
     ]
    },
    {
     "data": {
      "text/html": [
       "wandb version 0.17.2 is available!  To upgrade, please run:\n",
       " $ pip install wandb --upgrade"
      ],
      "text/plain": [
       "<IPython.core.display.HTML object>"
      ]
     },
     "metadata": {},
     "output_type": "display_data"
    },
    {
     "data": {
      "text/html": [
       "Tracking run with wandb version 0.17.0"
      ],
      "text/plain": [
       "<IPython.core.display.HTML object>"
      ]
     },
     "metadata": {},
     "output_type": "display_data"
    },
    {
     "data": {
      "text/html": [
       "Run data is saved locally in <code>C:\\Users\\Addisu\\Desktop\\kidi files\\Python workshop with ellen\\wandb\\run-20240621_155625-n4lv8ttv</code>"
      ],
      "text/plain": [
       "<IPython.core.display.HTML object>"
      ]
     },
     "metadata": {},
     "output_type": "display_data"
    },
    {
     "data": {
      "text/html": [
       "Syncing run <strong><a href='https://wandb.ai/evapppp/sweeps-keras/runs/n4lv8ttv' target=\"_blank\">crisp-sweep-50</a></strong> to <a href='https://wandb.ai/evapppp/sweeps-keras' target=\"_blank\">Weights & Biases</a> (<a href='https://wandb.me/run' target=\"_blank\">docs</a>)<br/>Sweep page: <a href='https://wandb.ai/evapppp/sweeps-keras/sweeps/qu378scj' target=\"_blank\">https://wandb.ai/evapppp/sweeps-keras/sweeps/qu378scj</a>"
      ],
      "text/plain": [
       "<IPython.core.display.HTML object>"
      ]
     },
     "metadata": {},
     "output_type": "display_data"
    },
    {
     "data": {
      "text/html": [
       " View project at <a href='https://wandb.ai/evapppp/sweeps-keras' target=\"_blank\">https://wandb.ai/evapppp/sweeps-keras</a>"
      ],
      "text/plain": [
       "<IPython.core.display.HTML object>"
      ]
     },
     "metadata": {},
     "output_type": "display_data"
    },
    {
     "data": {
      "text/html": [
       " View sweep at <a href='https://wandb.ai/evapppp/sweeps-keras/sweeps/qu378scj' target=\"_blank\">https://wandb.ai/evapppp/sweeps-keras/sweeps/qu378scj</a>"
      ],
      "text/plain": [
       "<IPython.core.display.HTML object>"
      ]
     },
     "metadata": {},
     "output_type": "display_data"
    },
    {
     "data": {
      "text/html": [
       " View run at <a href='https://wandb.ai/evapppp/sweeps-keras/runs/n4lv8ttv' target=\"_blank\">https://wandb.ai/evapppp/sweeps-keras/runs/n4lv8ttv</a>"
      ],
      "text/plain": [
       "<IPython.core.display.HTML object>"
      ]
     },
     "metadata": {},
     "output_type": "display_data"
    },
    {
     "name": "stderr",
     "output_type": "stream",
     "text": [
      "Traceback (most recent call last):\n",
      "  File \"C:\\Users\\Addisu\\AppData\\Local\\Temp\\ipykernel_74596\\2644847777.py\", line 221, in sweep_train\n",
      "    train(model,\n",
      "  File \"C:\\Users\\Addisu\\AppData\\Local\\Temp\\ipykernel_74596\\2644847777.py\", line 151, in train\n",
      "    model.fit(X_train,\n",
      "  File \"C:\\anaconda3\\envs\\jupyterenv\\lib\\site-packages\\keras\\src\\utils\\traceback_utils.py\", line 70, in error_handler\n",
      "    raise e.with_traceback(filtered_tb) from None\n",
      "  File \"C:\\anaconda3\\envs\\jupyterenv\\lib\\site-packages\\wandb\\integration\\keras\\keras.py\", line 656, in on_train_batch_end\n",
      "    wandb.run.summary[\"graph\"] = wandb.Graph.from_keras(self.model)\n",
      "  File \"C:\\anaconda3\\envs\\jupyterenv\\lib\\site-packages\\wandb\\sdk\\wandb_summary.py\", line 52, in __setitem__\n",
      "    self.update({key: val})\n",
      "  File \"C:\\anaconda3\\envs\\jupyterenv\\lib\\site-packages\\wandb\\sdk\\wandb_summary.py\", line 74, in update\n",
      "    self._update(record)\n",
      "  File \"C:\\anaconda3\\envs\\jupyterenv\\lib\\site-packages\\wandb\\sdk\\wandb_summary.py\", line 128, in _update\n",
      "    self._update_callback(record)\n",
      "  File \"C:\\anaconda3\\envs\\jupyterenv\\lib\\site-packages\\wandb\\sdk\\wandb_run.py\", line 400, in wrapper_fn\n",
      "    return func(self, *args, **kwargs)\n",
      "  File \"C:\\anaconda3\\envs\\jupyterenv\\lib\\site-packages\\wandb\\sdk\\wandb_run.py\", line 1424, in _summary_update_callback\n",
      "    self._backend.interface.publish_summary(summary_record)\n",
      "  File \"C:\\anaconda3\\envs\\jupyterenv\\lib\\site-packages\\wandb\\sdk\\interface\\interface.py\", line 270, in publish_summary\n",
      "    pb_summary_record = self._make_summary(summary_record)\n",
      "  File \"C:\\anaconda3\\envs\\jupyterenv\\lib\\site-packages\\wandb\\sdk\\interface\\interface.py\", line 248, in _make_summary\n",
      "    json_value = self._summary_encode(item.value, path_from_root)\n",
      "  File \"C:\\anaconda3\\envs\\jupyterenv\\lib\\site-packages\\wandb\\sdk\\interface\\interface.py\", line 221, in _summary_encode\n",
      "    val_to_json(self._run, path_from_root, value, namespace=\"summary\")\n",
      "  File \"C:\\anaconda3\\envs\\jupyterenv\\lib\\site-packages\\wandb\\sdk\\data_types\\utils.py\", line 164, in val_to_json\n",
      "    val.bind_to_run(run, key, namespace)\n",
      "  File \"C:\\anaconda3\\envs\\jupyterenv\\lib\\site-packages\\wandb\\data_types.py\", line 1377, in bind_to_run\n",
      "    with codecs.open(tmp_path, \"w\", encoding=\"utf-8\") as fp:\n",
      "  File \"C:\\anaconda3\\envs\\jupyterenv\\lib\\codecs.py\", line 906, in open\n",
      "    file = builtins.open(filename, mode, buffering)\n",
      "FileNotFoundError: [Errno 2] No such file or directory: 'C:\\\\Users\\\\Addisu\\\\AppData\\\\Local\\\\Temp\\\\tmpbie7lvyxwandb-media\\\\hapydjyl.graph.json'\n"
     ]
    },
    {
     "data": {
      "text/html": [
       " View run <strong style=\"color:#cdcd00\">crisp-sweep-50</strong> at: <a href='https://wandb.ai/evapppp/sweeps-keras/runs/n4lv8ttv' target=\"_blank\">https://wandb.ai/evapppp/sweeps-keras/runs/n4lv8ttv</a><br/> View project at: <a href='https://wandb.ai/evapppp/sweeps-keras' target=\"_blank\">https://wandb.ai/evapppp/sweeps-keras</a><br/>Synced 5 W&B file(s), 0 media file(s), 0 artifact file(s) and 0 other file(s)"
      ],
      "text/plain": [
       "<IPython.core.display.HTML object>"
      ]
     },
     "metadata": {},
     "output_type": "display_data"
    },
    {
     "data": {
      "text/html": [
       "Find logs at: <code>.\\wandb\\run-20240621_155625-n4lv8ttv\\logs</code>"
      ],
      "text/plain": [
       "<IPython.core.display.HTML object>"
      ]
     },
     "metadata": {},
     "output_type": "display_data"
    },
    {
     "name": "stderr",
     "output_type": "stream",
     "text": [
      "Run n4lv8ttv errored:\n",
      "Traceback (most recent call last):\n",
      "  File \"C:\\anaconda3\\envs\\jupyterenv\\lib\\site-packages\\wandb\\agents\\pyagent.py\", line 307, in _run_job\n",
      "    self._function()\n",
      "  File \"C:\\Users\\Addisu\\AppData\\Local\\Temp\\ipykernel_74596\\2644847777.py\", line 221, in sweep_train\n",
      "    train(model,\n",
      "  File \"C:\\Users\\Addisu\\AppData\\Local\\Temp\\ipykernel_74596\\2644847777.py\", line 151, in train\n",
      "    model.fit(X_train,\n",
      "  File \"C:\\anaconda3\\envs\\jupyterenv\\lib\\site-packages\\keras\\src\\utils\\traceback_utils.py\", line 70, in error_handler\n",
      "    raise e.with_traceback(filtered_tb) from None\n",
      "  File \"C:\\anaconda3\\envs\\jupyterenv\\lib\\site-packages\\wandb\\integration\\keras\\keras.py\", line 656, in on_train_batch_end\n",
      "    wandb.run.summary[\"graph\"] = wandb.Graph.from_keras(self.model)\n",
      "  File \"C:\\anaconda3\\envs\\jupyterenv\\lib\\site-packages\\wandb\\sdk\\wandb_summary.py\", line 52, in __setitem__\n",
      "    self.update({key: val})\n",
      "  File \"C:\\anaconda3\\envs\\jupyterenv\\lib\\site-packages\\wandb\\sdk\\wandb_summary.py\", line 74, in update\n",
      "    self._update(record)\n",
      "  File \"C:\\anaconda3\\envs\\jupyterenv\\lib\\site-packages\\wandb\\sdk\\wandb_summary.py\", line 128, in _update\n",
      "    self._update_callback(record)\n",
      "  File \"C:\\anaconda3\\envs\\jupyterenv\\lib\\site-packages\\wandb\\sdk\\wandb_run.py\", line 400, in wrapper_fn\n",
      "    return func(self, *args, **kwargs)\n",
      "  File \"C:\\anaconda3\\envs\\jupyterenv\\lib\\site-packages\\wandb\\sdk\\wandb_run.py\", line 1424, in _summary_update_callback\n",
      "    self._backend.interface.publish_summary(summary_record)\n",
      "  File \"C:\\anaconda3\\envs\\jupyterenv\\lib\\site-packages\\wandb\\sdk\\interface\\interface.py\", line 270, in publish_summary\n",
      "    pb_summary_record = self._make_summary(summary_record)\n",
      "  File \"C:\\anaconda3\\envs\\jupyterenv\\lib\\site-packages\\wandb\\sdk\\interface\\interface.py\", line 248, in _make_summary\n",
      "    json_value = self._summary_encode(item.value, path_from_root)\n",
      "  File \"C:\\anaconda3\\envs\\jupyterenv\\lib\\site-packages\\wandb\\sdk\\interface\\interface.py\", line 221, in _summary_encode\n",
      "    val_to_json(self._run, path_from_root, value, namespace=\"summary\")\n",
      "  File \"C:\\anaconda3\\envs\\jupyterenv\\lib\\site-packages\\wandb\\sdk\\data_types\\utils.py\", line 164, in val_to_json\n",
      "    val.bind_to_run(run, key, namespace)\n",
      "  File \"C:\\anaconda3\\envs\\jupyterenv\\lib\\site-packages\\wandb\\data_types.py\", line 1377, in bind_to_run\n",
      "    with codecs.open(tmp_path, \"w\", encoding=\"utf-8\") as fp:\n",
      "  File \"C:\\anaconda3\\envs\\jupyterenv\\lib\\codecs.py\", line 906, in open\n",
      "    file = builtins.open(filename, mode, buffering)\n",
      "FileNotFoundError: [Errno 2] No such file or directory: 'C:\\\\Users\\\\Addisu\\\\AppData\\\\Local\\\\Temp\\\\tmpbie7lvyxwandb-media\\\\hapydjyl.graph.json'\n",
      "\n",
      "\u001b[34m\u001b[1mwandb\u001b[0m: \u001b[32m\u001b[41mERROR\u001b[0m Run n4lv8ttv errored:\n",
      "\u001b[34m\u001b[1mwandb\u001b[0m: \u001b[32m\u001b[41mERROR\u001b[0m Traceback (most recent call last):\n",
      "\u001b[34m\u001b[1mwandb\u001b[0m: \u001b[32m\u001b[41mERROR\u001b[0m   File \"C:\\anaconda3\\envs\\jupyterenv\\lib\\site-packages\\wandb\\agents\\pyagent.py\", line 307, in _run_job\n",
      "\u001b[34m\u001b[1mwandb\u001b[0m: \u001b[32m\u001b[41mERROR\u001b[0m     self._function()\n",
      "\u001b[34m\u001b[1mwandb\u001b[0m: \u001b[32m\u001b[41mERROR\u001b[0m   File \"C:\\Users\\Addisu\\AppData\\Local\\Temp\\ipykernel_74596\\2644847777.py\", line 221, in sweep_train\n",
      "\u001b[34m\u001b[1mwandb\u001b[0m: \u001b[32m\u001b[41mERROR\u001b[0m     train(model,\n",
      "\u001b[34m\u001b[1mwandb\u001b[0m: \u001b[32m\u001b[41mERROR\u001b[0m   File \"C:\\Users\\Addisu\\AppData\\Local\\Temp\\ipykernel_74596\\2644847777.py\", line 151, in train\n",
      "\u001b[34m\u001b[1mwandb\u001b[0m: \u001b[32m\u001b[41mERROR\u001b[0m     model.fit(X_train,\n",
      "\u001b[34m\u001b[1mwandb\u001b[0m: \u001b[32m\u001b[41mERROR\u001b[0m   File \"C:\\anaconda3\\envs\\jupyterenv\\lib\\site-packages\\keras\\src\\utils\\traceback_utils.py\", line 70, in error_handler\n",
      "\u001b[34m\u001b[1mwandb\u001b[0m: \u001b[32m\u001b[41mERROR\u001b[0m     raise e.with_traceback(filtered_tb) from None\n",
      "\u001b[34m\u001b[1mwandb\u001b[0m: \u001b[32m\u001b[41mERROR\u001b[0m   File \"C:\\anaconda3\\envs\\jupyterenv\\lib\\site-packages\\wandb\\integration\\keras\\keras.py\", line 656, in on_train_batch_end\n",
      "\u001b[34m\u001b[1mwandb\u001b[0m: \u001b[32m\u001b[41mERROR\u001b[0m     wandb.run.summary[\"graph\"] = wandb.Graph.from_keras(self.model)\n",
      "\u001b[34m\u001b[1mwandb\u001b[0m: \u001b[32m\u001b[41mERROR\u001b[0m   File \"C:\\anaconda3\\envs\\jupyterenv\\lib\\site-packages\\wandb\\sdk\\wandb_summary.py\", line 52, in __setitem__\n",
      "\u001b[34m\u001b[1mwandb\u001b[0m: \u001b[32m\u001b[41mERROR\u001b[0m     self.update({key: val})\n",
      "\u001b[34m\u001b[1mwandb\u001b[0m: \u001b[32m\u001b[41mERROR\u001b[0m   File \"C:\\anaconda3\\envs\\jupyterenv\\lib\\site-packages\\wandb\\sdk\\wandb_summary.py\", line 74, in update\n",
      "\u001b[34m\u001b[1mwandb\u001b[0m: \u001b[32m\u001b[41mERROR\u001b[0m     self._update(record)\n",
      "\u001b[34m\u001b[1mwandb\u001b[0m: \u001b[32m\u001b[41mERROR\u001b[0m   File \"C:\\anaconda3\\envs\\jupyterenv\\lib\\site-packages\\wandb\\sdk\\wandb_summary.py\", line 128, in _update\n",
      "\u001b[34m\u001b[1mwandb\u001b[0m: \u001b[32m\u001b[41mERROR\u001b[0m     self._update_callback(record)\n",
      "\u001b[34m\u001b[1mwandb\u001b[0m: \u001b[32m\u001b[41mERROR\u001b[0m   File \"C:\\anaconda3\\envs\\jupyterenv\\lib\\site-packages\\wandb\\sdk\\wandb_run.py\", line 400, in wrapper_fn\n",
      "\u001b[34m\u001b[1mwandb\u001b[0m: \u001b[32m\u001b[41mERROR\u001b[0m     return func(self, *args, **kwargs)\n",
      "\u001b[34m\u001b[1mwandb\u001b[0m: \u001b[32m\u001b[41mERROR\u001b[0m   File \"C:\\anaconda3\\envs\\jupyterenv\\lib\\site-packages\\wandb\\sdk\\wandb_run.py\", line 1424, in _summary_update_callback\n",
      "\u001b[34m\u001b[1mwandb\u001b[0m: \u001b[32m\u001b[41mERROR\u001b[0m     self._backend.interface.publish_summary(summary_record)\n",
      "\u001b[34m\u001b[1mwandb\u001b[0m: \u001b[32m\u001b[41mERROR\u001b[0m   File \"C:\\anaconda3\\envs\\jupyterenv\\lib\\site-packages\\wandb\\sdk\\interface\\interface.py\", line 270, in publish_summary\n",
      "\u001b[34m\u001b[1mwandb\u001b[0m: \u001b[32m\u001b[41mERROR\u001b[0m     pb_summary_record = self._make_summary(summary_record)\n",
      "\u001b[34m\u001b[1mwandb\u001b[0m: \u001b[32m\u001b[41mERROR\u001b[0m   File \"C:\\anaconda3\\envs\\jupyterenv\\lib\\site-packages\\wandb\\sdk\\interface\\interface.py\", line 248, in _make_summary\n",
      "\u001b[34m\u001b[1mwandb\u001b[0m: \u001b[32m\u001b[41mERROR\u001b[0m     json_value = self._summary_encode(item.value, path_from_root)\n",
      "\u001b[34m\u001b[1mwandb\u001b[0m: \u001b[32m\u001b[41mERROR\u001b[0m   File \"C:\\anaconda3\\envs\\jupyterenv\\lib\\site-packages\\wandb\\sdk\\interface\\interface.py\", line 221, in _summary_encode\n",
      "\u001b[34m\u001b[1mwandb\u001b[0m: \u001b[32m\u001b[41mERROR\u001b[0m     val_to_json(self._run, path_from_root, value, namespace=\"summary\")\n",
      "\u001b[34m\u001b[1mwandb\u001b[0m: \u001b[32m\u001b[41mERROR\u001b[0m   File \"C:\\anaconda3\\envs\\jupyterenv\\lib\\site-packages\\wandb\\sdk\\data_types\\utils.py\", line 164, in val_to_json\n",
      "\u001b[34m\u001b[1mwandb\u001b[0m: \u001b[32m\u001b[41mERROR\u001b[0m     val.bind_to_run(run, key, namespace)\n",
      "\u001b[34m\u001b[1mwandb\u001b[0m: \u001b[32m\u001b[41mERROR\u001b[0m   File \"C:\\anaconda3\\envs\\jupyterenv\\lib\\site-packages\\wandb\\data_types.py\", line 1377, in bind_to_run\n",
      "\u001b[34m\u001b[1mwandb\u001b[0m: \u001b[32m\u001b[41mERROR\u001b[0m     with codecs.open(tmp_path, \"w\", encoding=\"utf-8\") as fp:\n",
      "\u001b[34m\u001b[1mwandb\u001b[0m: \u001b[32m\u001b[41mERROR\u001b[0m   File \"C:\\anaconda3\\envs\\jupyterenv\\lib\\codecs.py\", line 906, in open\n",
      "\u001b[34m\u001b[1mwandb\u001b[0m: \u001b[32m\u001b[41mERROR\u001b[0m     file = builtins.open(filename, mode, buffering)\n",
      "\u001b[34m\u001b[1mwandb\u001b[0m: \u001b[32m\u001b[41mERROR\u001b[0m FileNotFoundError: [Errno 2] No such file or directory: 'C:\\\\Users\\\\Addisu\\\\AppData\\\\Local\\\\Temp\\\\tmpbie7lvyxwandb-media\\\\hapydjyl.graph.json'\n",
      "\u001b[34m\u001b[1mwandb\u001b[0m: \u001b[32m\u001b[41mERROR\u001b[0m \n"
     ]
    }
   ],
   "source": [
    "import numpy as np\n",
    "import tensorflow as tf\n",
    "from tensorflow import keras\n",
    "from keras import layers\n",
    "import pandas as pd\n",
    "from sklearn.model_selection import train_test_split\n",
    "#from tensorflow.keras.layers import LSTM\n",
    "from tensorflow.keras import Sequential,layers,callbacks\n",
    "from tensorflow.keras.layers import Dense,LSTM,Dropout,GRU,Bidirectional\n",
    "from tensorflow.keras.models import Model\n",
    "import pandas as pd\n",
    "import math\n",
    "import keras\n",
    "from sklearn.preprocessing import MinMaxScaler\n",
    "from tensorflow.keras.models import save_model\n",
    "from tensorflow.keras.models import model_from_json\n",
    "from tensorflow.keras.models import Sequential\n",
    "#from kerastuner.tuners import RandomSearch\n",
    "#from kerastuner.engine.hyperparameters import HyperParameters\n",
    "#from pickle import dump,load\n",
    "#import warnings\n",
    "\n",
    "\n",
    "import wandb\n",
    "from wandb.integration.keras import WandbCallback\n",
    "\n",
    "wandb.login()\n",
    "\n",
    "\n",
    "\n",
    "\n",
    "\n",
    "#Step 1: Read and explore data\n",
    "file='C:/Users/Addisu/Desktop\\kidi files/Python workshop with ellen/MeteharaPR.csv'\n",
    "raw_data = pd.read_csv(file, parse_dates = ['DATE'],\n",
    "                       index_col = 'DATE')\n",
    "df = raw_data.copy()\n",
    "# Outlier detection\n",
    "up_b = df['PCP'].mean() + 2*df['PCP'].std()\n",
    "low_b = df['PCP'].mean() - 2*df['PCP'].std()\n",
    "\n",
    "\n",
    "# Replace outlier by interpolation for base consumption\n",
    "df.loc[df['PCP'] > up_b, 'PCP'] = np.nan\n",
    "df.loc[df['PCP'] < low_b, 'PCP'] = np.nan\n",
    "df['PCP'].interpolate(inplace=True)\n",
    "\n",
    "# Split train data and test data\n",
    "train_size = int(len(df)*0.9)\n",
    "train_dataset, test_dataset = df.iloc[:train_size],df.iloc[train_size:]\n",
    "\n",
    "#Split the target variable and dependent variables\n",
    "# Split train data to X and y\n",
    "X_train = train_dataset.drop('PCP', axis = 1)\n",
    "y_train = train_dataset.loc[:,['PCP']]\n",
    "# Split test data to X and y\n",
    "X_test = test_dataset.drop('PCP', axis = 1)\n",
    "y_test = test_dataset.loc[:,['PCP']]\n",
    "\n",
    "# Different scaler for input and output\n",
    "scaler_x = MinMaxScaler(feature_range = (0,1))\n",
    "scaler_y = MinMaxScaler(feature_range = (0,1))\n",
    "# Fit the scaler using available training data\n",
    "input_scaler = scaler_x.fit(X_train)\n",
    "output_scaler = scaler_y.fit(y_train)\n",
    "# Apply the scaler to training data\n",
    "train_y_norm = output_scaler.transform(y_train)\n",
    "train_x_norm = input_scaler.transform(X_train)\n",
    "# Apply the scaler to test data\n",
    "test_y_norm = output_scaler.transform(y_test)\n",
    "test_x_norm = input_scaler.transform(X_test)\n",
    "\n",
    "# Create a 3D input\n",
    "def create_dataset (X, y, time_steps = 1):\n",
    "    Xs, ys = [], []\n",
    "    for i in range(len(X)-time_steps):\n",
    "        v = X[i:i+time_steps, :]\n",
    "        Xs.append(v)\n",
    "        ys.append(y[i+time_steps])\n",
    "    return np.array(Xs), np.array(ys)\n",
    "TIME_STEPS = 30\n",
    "X_test, y_test = create_dataset(test_x_norm, test_y_norm,   \n",
    "                                TIME_STEPS)\n",
    "X_train, y_train = create_dataset(train_x_norm, train_y_norm, \n",
    "                                  TIME_STEPS)\n",
    "print('X_train.shape: ', X_test.shape)\n",
    "print('y_train.shape: ', y_train.shape)\n",
    "print('X_test.shape: ', X_test.shape)\n",
    "print('y_test.shape: ', y_train.shape)\n",
    "\n",
    "#def create_model_LSTM(units):\n",
    "    #model = Sequential()\n",
    "    #model.add(LSTM (units = units, return_sequences = True,input_shape = [X_train.shape[1], X_train.shape[2]]))\n",
    "    #model.add(Dropout(0.2))\n",
    "    #model.add(LSTM (units = units))\n",
    "    #model.add(Dropout(0.2))\n",
    "    #model.add(Dense(units = 1))\n",
    "    #Compile model\n",
    "    #model.compile(loss='mse', optimizer='adam')\n",
    "    #return model\n",
    "# Create BiLSTM model\n",
    "def create_model_bilstm(units):\n",
    "    model = Sequential()\n",
    "    model.add(Bidirectional(LSTM(units = units,                             \n",
    "              return_sequences=True),\n",
    "              input_shape=(X_train.shape[1], X_train.shape[2])))\n",
    "    model.add(Bidirectional(LSTM(units = units)))\n",
    "    model.add(Dense(1))\n",
    "    #Compile model\n",
    "    model.compile(loss='mse', optimizer='adam')\n",
    "    return model\n",
    "# Create LSTM or GRU model\n",
    "#def create_model_GRU(units):\n",
    "    #model = Sequential()\n",
    "    #model.add(LSTM(units = units, return_sequences = True,input_shape = [X_train.shape[1], X_train.shape[2]]))\n",
    "    #model.add(Dropout(0.1))\n",
    "    #model.add(LSTM(units = units))\n",
    "    #model.add(Dropout(0.1))\n",
    "    #model.add(Dense(1))\n",
    "    #Compile model\n",
    "    #model.compile(loss='mse', optimizer='adam')\n",
    "    #return model\n",
    "\n",
    "# GRU and LSTM\n",
    "#model = create_model_GRU(64)\n",
    "#model = create_model_lstm(64)\n",
    "\n",
    "model = create_model_bilstm(64)\n",
    "model.summary()\n",
    "\n",
    "def get_optimizer(lr=1e-3, optimizer=\"adam\"):\n",
    "    \"Select optmizer between adam and sgd with momentum\"\n",
    "    if optimizer.lower() == \"adam\":\n",
    "        return tf.keras.optimizers.Adam(learning_rate=lr)\n",
    "    if optimizer.lower() == \"sgd\":\n",
    "        return tf.keras.optimizers.SGD(learning_rate=lr, momentum=0.1)\n",
    "   \n",
    "\n",
    "def train(model, batch_size=64, epochs=10, lr=1e-3, optimizer='adam', log_freq=10):  \n",
    "    \n",
    "    # Compile model like you usually do.\n",
    "    tf.keras.backend.clear_session()\n",
    "    model.compile(loss=\"mse\", \n",
    "                  optimizer=get_optimizer(lr, optimizer))\n",
    "    # earrly-stopper\n",
    "    #early_stopper = tf.keras.callbacks.EarlyStopping(monitor='val_loss', patience=5, restore_best_weights=True)\n",
    "\n",
    "    # callback setup\n",
    "    cbs = [WandbCallback(data_type='time series', log_batch_frequency=log_freq)]\n",
    "\n",
    "    model.fit(X_train, \n",
    "              y_train, \n",
    "              batch_size=batch_size, \n",
    "              epochs=epochs, \n",
    "              validation_data=(X_test, y_test), \n",
    "              callbacks=cbs)\n",
    "\n",
    "sweep_config = {\n",
    "    'method': 'bayes'\n",
    "    }\n",
    "\n",
    "metric = {\n",
    "    'name': 'val_loss',\n",
    "    'goal': 'minimize' \n",
    "    }\n",
    "\n",
    "sweep_config['metric'] = metric\n",
    "\n",
    "parameters_dict = {\n",
    "    'optimizer': {\n",
    "        'values': ['adam', 'sgd']\n",
    "        },\n",
    "    'dropout': {\n",
    "          'values': [0.1,0.2, 0.3]\n",
    "        },\n",
    "    'dense_activation':{\n",
    "           'values': ['relu', 'sigmoid']\n",
    "    }}\n",
    "\n",
    "sweep_config['parameters'] = parameters_dict\n",
    "\n",
    "parameters_dict.update({\n",
    "    'epochs': {\n",
    "        'value': 1}\n",
    "    })\n",
    "\n",
    "import math\n",
    "\n",
    "parameters_dict.update({\n",
    "    'learning_rate': {\n",
    "        # a flat distribution between 0 and 0.1\n",
    "        'distribution': 'uniform',\n",
    "        'min': 0,\n",
    "        'max': 0.01\n",
    "      },\n",
    "    'batch_size': {\n",
    "        # integers between 32 and 256\n",
    "        # with evenly-distributed logarithms \n",
    "        'distribution': 'q_log_uniform_values',\n",
    "        'q': 8,\n",
    "        'min': 32,\n",
    "        'max': 128,\n",
    "      }\n",
    "    })\n",
    "\n",
    "import pprint\n",
    "\n",
    "pprint.pprint(sweep_config)\n",
    "\n",
    "def sweep_train(config_defaults=None):\n",
    "    # Initialize wandb with a sample project nam\n",
    "    with wandb.init(config=config_defaults):  # this gets over-written in the Sweep\n",
    "\n",
    "        # Specify the other hyperparameters to the configuration, if any\n",
    "        wandb.config.architecture_name = \"LSTM\"\n",
    "        wandb.config.dataset_name = \"pcpm\"\n",
    "\n",
    "        # initialize model\n",
    "        model =create_model_bilstm(wandb.config.batch_size)\n",
    "\n",
    "        train(model, \n",
    "              wandb.config.batch_size, \n",
    "              wandb.config.epochs,\n",
    "              wandb.config.learning_rate,\n",
    "              wandb.config.optimizer)\n",
    "\n",
    "sweep_id = wandb.sweep(sweep_config, project=\"sweeps-keras\")\n",
    "\n",
    "wandb.agent(sweep_id, function=sweep_train, count=50)"
   ]
  },
  {
   "cell_type": "code",
   "execution_count": null,
   "id": "62d8ea7c-7dc7-4263-af31-55944632d1ab",
   "metadata": {},
   "outputs": [],
   "source": []
  }
 ],
 "metadata": {
  "kernelspec": {
   "display_name": "Python 3 (ipykernel)",
   "language": "python",
   "name": "python3"
  },
  "language_info": {
   "codemirror_mode": {
    "name": "ipython",
    "version": 3
   },
   "file_extension": ".py",
   "mimetype": "text/x-python",
   "name": "python",
   "nbconvert_exporter": "python",
   "pygments_lexer": "ipython3",
   "version": "3.10.12"
  }
 },
 "nbformat": 4,
 "nbformat_minor": 5
}
